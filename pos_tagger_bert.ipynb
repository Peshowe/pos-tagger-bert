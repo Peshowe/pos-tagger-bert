{
 "cells": [
  {
   "cell_type": "markdown",
   "metadata": {
    "nbpresent": {
     "id": "2b1b350c-5a3c-434c-bcb2-0672625d154d"
    }
   },
   "source": [
    "# NATURAL LANGUAGE PROCESSING WITH TRANSFORMERS\n",
    "# Α Pos Tagger trained on UD treebank with fine-tuning a BERT model"
   ]
  },
  {
   "cell_type": "markdown",
   "metadata": {},
   "source": [
    "# Keras BERT implementation"
   ]
  },
  {
   "cell_type": "code",
   "execution_count": 1,
   "metadata": {
    "nbpresent": {
     "id": "f61bc4e3-579a-44c9-a7c6-4dc1f9fbf7cb"
    }
   },
   "outputs": [
    {
     "name": "stdout",
     "output_type": "stream",
     "text": [
      "Collecting pyconll\n",
      "  Downloading https://files.pythonhosted.org/packages/2c/6e/c325d0db05ac1b8d45645de903e4ba691d419e861c915c3d4ebfcaf8ac25/pyconll-2.2.1-py3-none-any.whl\n",
      "Requirement already satisfied: requests>=2.21 in c:\\users\\pnedelev\\appdata\\local\\continuum\\anaconda3\\lib\\site-packages (from pyconll) (2.21.0)\n",
      "Requirement already satisfied: idna<2.9,>=2.5 in c:\\users\\pnedelev\\appdata\\local\\continuum\\anaconda3\\lib\\site-packages (from requests>=2.21->pyconll) (2.8)\n",
      "Requirement already satisfied: certifi>=2017.4.17 in c:\\users\\pnedelev\\appdata\\local\\continuum\\anaconda3\\lib\\site-packages (from requests>=2.21->pyconll) (2019.9.11)\n",
      "Requirement already satisfied: urllib3<1.25,>=1.21.1 in c:\\users\\pnedelev\\appdata\\local\\continuum\\anaconda3\\lib\\site-packages (from requests>=2.21->pyconll) (1.24.1)\n",
      "Requirement already satisfied: chardet<3.1.0,>=3.0.2 in c:\\users\\pnedelev\\appdata\\local\\continuum\\anaconda3\\lib\\site-packages (from requests>=2.21->pyconll) (3.0.4)\n",
      "Installing collected packages: pyconll\n",
      "Successfully installed pyconll-2.2.1\n"
     ]
    },
    {
     "name": "stderr",
     "output_type": "stream",
     "text": [
      "WARNING: You are using pip version 19.3.1; however, version 20.0.2 is available.\n",
      "You should consider upgrading via the 'python -m pip install --upgrade pip' command.\n"
     ]
    },
    {
     "name": "stdout",
     "output_type": "stream",
     "text": [
      "Requirement already satisfied: pydot in c:\\users\\pnedelev\\appdata\\local\\continuum\\anaconda3\\lib\\site-packages (1.4.1)\n",
      "Requirement already satisfied: pyparsing>=2.1.4 in c:\\users\\pnedelev\\appdata\\local\\continuum\\anaconda3\\lib\\site-packages (from pydot) (2.3.1)\n"
     ]
    },
    {
     "name": "stderr",
     "output_type": "stream",
     "text": [
      "WARNING: You are using pip version 19.3.1; however, version 20.0.2 is available.\n",
      "You should consider upgrading via the 'python -m pip install --upgrade pip' command.\n",
      "ERROR: Could not find a version that satisfies the requirement graphiz (from versions: none)\n",
      "ERROR: No matching distribution found for graphiz\n",
      "WARNING: You are using pip version 19.3.1; however, version 20.0.2 is available.\n",
      "You should consider upgrading via the 'python -m pip install --upgrade pip' command.\n"
     ]
    },
    {
     "name": "stdout",
     "output_type": "stream",
     "text": [
      "Requirement already satisfied: bert-tensorflow in c:\\users\\pnedelev\\appdata\\local\\continuum\\anaconda3\\lib\\site-packages (1.0.1)\n",
      "Requirement already satisfied: six in c:\\users\\pnedelev\\appdata\\local\\continuum\\anaconda3\\lib\\site-packages (from bert-tensorflow) (1.12.0)\n"
     ]
    },
    {
     "name": "stderr",
     "output_type": "stream",
     "text": [
      "WARNING: You are using pip version 19.3.1; however, version 20.0.2 is available.\n",
      "You should consider upgrading via the 'python -m pip install --upgrade pip' command.\n"
     ]
    }
   ],
   "source": [
    "# First install some extra packages\n",
    "! pip install pyconll\n",
    "! pip install pydot\n",
    "! pip install graphiz\n",
    "! pip install bert-tensorflow"
   ]
  },
  {
   "cell_type": "code",
   "execution_count": 1,
   "metadata": {
    "nbpresent": {
     "id": "f4a0e2d1-af80-44ba-a384-fab4d5d6c703"
    }
   },
   "outputs": [
    {
     "name": "stderr",
     "output_type": "stream",
     "text": [
      "Using TensorFlow backend.\n",
      "c:\\users\\pnedelev\\appdata\\local\\continuum\\anaconda3\\lib\\site-packages\\sklearn\\utils\\deprecation.py:144: FutureWarning: The sklearn.metrics.classification module is  deprecated in version 0.22 and will be removed in version 0.24. The corresponding classes / functions should instead be imported from sklearn.metrics. Anything that cannot be imported from sklearn.metrics is now part of the private API.\n",
      "  warnings.warn(message, FutureWarning)\n"
     ]
    }
   ],
   "source": [
    "from numpy.random import seed\n",
    "seed(1)\n",
    "from tensorflow import set_random_seed\n",
    "set_random_seed(2)\n",
    "import pyconll, keras, pickle, os, random, nltk, datetime, warnings, gc, urllib.request, zipfile, collections\n",
    "import numpy as np\n",
    "import matplotlib.pyplot as plt\n",
    "from sklearn.utils import shuffle\n",
    "from sklearn.metrics import recall_score, precision_score, classification_report, accuracy_score, confusion_matrix, f1_score\n",
    "from sklearn.metrics.classification import UndefinedMetricWarning\n",
    "\n",
    "from keras.models import Sequential, Model\n",
    "from keras.layers import Embedding, Dense, Input, concatenate, Layer, Lambda, Dropout, Activation\n",
    "from keras.callbacks import ModelCheckpoint, EarlyStopping, Callback, TensorBoard\n",
    "from keras import backend as K\n",
    "from keras.models import load_model\n",
    "from keras.utils import plot_model\n",
    "from keras.utils.np_utils import to_categorical\n",
    "\n",
    "import tensorflow as tf\n",
    "import tensorflow_hub as hub\n",
    "from bert.tokenization import FullTokenizer\n",
    "\n",
    "from tqdm import tqdm_notebook\n",
    "from IPython.display import Image \n",
    "warnings.filterwarnings(action='ignore', category=UndefinedMetricWarning)"
   ]
  },
  {
   "cell_type": "markdown",
   "metadata": {
    "nbpresent": {
     "id": "0f518892-45cc-4978-97e8-02c1fce60407"
    }
   },
   "source": [
    "# Various plot functions"
   ]
  },
  {
   "cell_type": "code",
   "execution_count": 2,
   "metadata": {
    "nbpresent": {
     "id": "ffc21443-9fd6-4cd3-86e1-a1a518cb6aca"
    }
   },
   "outputs": [],
   "source": [
    "def plot_learning_curve(estimator, title, X, y, ylim=None, cv=None,\n",
    "                        n_jobs=None, train_sizes=np.linspace(.1, 1.0, 5)):\n",
    "    plt.title(title)\n",
    "    if ylim is not None:\n",
    "        plt.ylim(*ylim)\n",
    "    plt.xlabel(\"Training examples\")\n",
    "    plt.ylabel(\"Accuracy\")\n",
    "    train_sizes, train_scores, test_scores = learning_curve(\n",
    "        estimator, X, y, cv=cv, n_jobs=n_jobs, train_sizes=train_sizes, scoring='accuracy')\n",
    "    train_scores_mean = np.mean(train_scores, axis=1)\n",
    "    train_scores_std = np.std(train_scores, axis=1)\n",
    "    test_scores_mean = np.mean(test_scores, axis=1)\n",
    "    test_scores_std = np.std(test_scores, axis=1)\n",
    "    plt.grid()\n",
    "\n",
    "    plt.fill_between(train_sizes, train_scores_mean - train_scores_std,\n",
    "                     train_scores_mean + train_scores_std, alpha=0.1,\n",
    "                     color=\"r\")\n",
    "    plt.fill_between(train_sizes, test_scores_mean - test_scores_std,\n",
    "                     test_scores_mean + test_scores_std, alpha=0.1, color=\"g\")\n",
    "    plt.plot(train_sizes, train_scores_mean, 'o-', color=\"r\",\n",
    "             label=\"Training score\")\n",
    "    plt.plot(train_sizes, test_scores_mean, 'o-', color=\"g\",\n",
    "             label=\"Cross-validation score\")\n",
    "\n",
    "    plt.legend(loc=\"best\")\n",
    "    return plt"
   ]
  },
  {
   "cell_type": "code",
   "execution_count": 3,
   "metadata": {
    "nbpresent": {
     "id": "aa581c97-05ee-4e34-9f9d-884ce9ba4b66"
    }
   },
   "outputs": [],
   "source": [
    "def plot_confusion_matrix(f1,\n",
    "                          cm,\n",
    "                          target_names,\n",
    "                          title='Confusion matrix',\n",
    "                          cmap=None,\n",
    "                          normalize=True,\n",
    "                          i=1):\n",
    "    \"\"\"\n",
    "    given a sklearn confusion matrix (cm), make a nice plot\n",
    "\n",
    "    Arguments\n",
    "    ---------\n",
    "    cm:           confusion matrix from sklearn.metrics.confusion_matrix\n",
    "\n",
    "    target_names: given classification classes such as [0, 1, 2]\n",
    "                  the class names, for example: ['high', 'medium', 'low']\n",
    "\n",
    "    title:        the text to display at the top of the matrix\n",
    "\n",
    "    cmap:         the gradient of the values displayed from matplotlib.pyplot.cm\n",
    "                  see http://matplotlib.org/examples/color/colormaps_reference.html\n",
    "                  plt.get_cmap('jet') or plt.cm.Blues\n",
    "\n",
    "    normalize:    If False, plot the raw numbers\n",
    "                  If True, plot the proportions\n",
    "\n",
    "    Usage\n",
    "    -----\n",
    "    plot_confusion_matrix(cm           = cm,                  # confusion matrix created by\n",
    "                                                              # sklearn.metrics.confusion_matrix\n",
    "                          normalize    = True,                # show proportions\n",
    "                          target_names = y_labels_vals,       # list of names of the classes\n",
    "                          title        = best_estimator_name) # title of graph\n",
    "\n",
    "    Citiation\n",
    "    ---------\n",
    "    http://scikit-learn.org/stable/auto_examples/model_selection/plot_confusion_matrix.html\n",
    "\n",
    "    \"\"\"\n",
    "    import matplotlib.pyplot as plt\n",
    "    import numpy as np\n",
    "    import itertools\n",
    "\n",
    "    accuracy = np.trace(cm) / float(np.sum(cm))\n",
    "    misclass = 1 - accuracy\n",
    "    plt.figure(figsize=(10, 6))\n",
    "    if cmap is None:\n",
    "        cmap = plt.get_cmap('Blues')\n",
    "\n",
    "    plt.imshow(cm, interpolation='nearest', cmap=cmap)\n",
    "    plt.title(title)\n",
    "    plt.colorbar()\n",
    "\n",
    "    if target_names is not None:\n",
    "        tick_marks = np.arange(len(target_names))\n",
    "        plt.xticks(tick_marks, target_names, rotation=45)\n",
    "        plt.yticks(tick_marks, target_names)\n",
    "\n",
    "    if normalize:\n",
    "        cm = cm.astype('float') / cm.sum(axis=1)[:, np.newaxis]\n",
    "\n",
    "\n",
    "    thresh = cm.max() / 1.5 if normalize else cm.max() / 2\n",
    "    for i, j in itertools.product(range(cm.shape[0]), range(cm.shape[1])):\n",
    "        if normalize:\n",
    "            plt.text(j, i, \"{:0.4f}\".format(cm[i, j]),\n",
    "                     horizontalalignment=\"center\",\n",
    "                     color=\"white\" if cm[i, j] > thresh else \"black\")\n",
    "        else:\n",
    "            plt.text(j, i, \"{:,}\".format(cm[i, j]),\n",
    "                     horizontalalignment=\"center\",\n",
    "                     color=\"white\" if cm[i, j] > thresh else \"black\")\n",
    "\n",
    "\n",
    "    plt.tight_layout()\n",
    "    plt.ylabel('True label')\n",
    "    plt.xlabel('Predicted label\\naccuracy={:0.4f}; misclass={:0.4f}; f1-score={:0.4f}'.format(accuracy, misclass, f1))"
   ]
  },
  {
   "cell_type": "code",
   "execution_count": 4,
   "metadata": {
    "nbpresent": {
     "id": "7626f765-a0ca-4230-b9b4-5aea4c185273"
    }
   },
   "outputs": [],
   "source": [
    "def plot_acc():\n",
    "    plt.plot(history.history['acc'])\n",
    "    plt.plot(history.history['val_acc'])\n",
    "    plt.title('model accuracy')\n",
    "    plt.ylabel('accuracy')\n",
    "    plt.xlabel('epoch')\n",
    "    plt.legend(['train', 'test'], loc='upper left')\n",
    "    plt.show()"
   ]
  },
  {
   "cell_type": "code",
   "execution_count": 5,
   "metadata": {
    "nbpresent": {
     "id": "4afdbba0-cb73-4bdc-97f7-3cbdd2d19079"
    },
    "scrolled": false
   },
   "outputs": [],
   "source": [
    "def plot_loss():\n",
    "    plt.plot(history.history['loss'])\n",
    "    plt.plot(history.history['val_loss'])\n",
    "    plt.title('model loss')\n",
    "    plt.ylabel('loss')\n",
    "    plt.xlabel('epoch')\n",
    "    plt.legend(['train', 'test'], loc='upper left')\n",
    "    plt.show()"
   ]
  },
  {
   "cell_type": "markdown",
   "metadata": {
    "nbpresent": {
     "id": "1585e7f9-881f-46fe-a1e8-ca970e292167"
    }
   },
   "source": [
    "# Load Dataset"
   ]
  },
  {
   "cell_type": "code",
   "execution_count": 21,
   "metadata": {
    "nbpresent": {
     "id": "75d32121-1074-4cd6-8355-599afeff56db"
    }
   },
   "outputs": [],
   "source": [
    "UD_ENGLISH_TRAIN = 'en_partut-ud-train.conllu'\n",
    "UD_ENGLISH_DEV = 'en_partut-ud-dev.conllu'\n",
    "UD_ENGLISH_TEST = 'en_partut-ud-test.conllu'"
   ]
  },
  {
   "cell_type": "code",
   "execution_count": 8,
   "metadata": {
    "nbpresent": {
     "id": "2eb0b136-1052-4d48-8a66-48b5ebc96ff8"
    }
   },
   "outputs": [],
   "source": [
    "def download_files():\n",
    "    print('Downloading English treebank...')\n",
    "    urllib.request.urlretrieve('http://archive.aueb.gr:8085/files/en_partut-ud-dev.conllu', 'en_partut-ud-dev.conllu')\n",
    "#     urllib.request.urlretrieve('http://archive.aueb.gr:8085/files/en_partut-ud-test.conllu', 'en_partut-ud-test.conllu')\n",
    "#     urllib.request.urlretrieve('http://archive.aueb.gr:8085/files/en_partut-ud-train.conllu', 'en_partut-ud-train.conllu')\n",
    "    print('Treebank downloaded.')"
   ]
  },
  {
   "cell_type": "code",
   "execution_count": 9,
   "metadata": {
    "nbpresent": {
     "id": "4e617ca6-4cce-42a0-9396-28b9d704df73"
    }
   },
   "outputs": [
    {
     "name": "stdout",
     "output_type": "stream",
     "text": [
      "Downloading English treebank...\n",
      "Treebank downloaded.\n"
     ]
    }
   ],
   "source": [
    "download_files()"
   ]
  },
  {
   "cell_type": "markdown",
   "metadata": {
    "nbpresent": {
     "id": "43c9097b-37be-4f3d-b3d3-4a54a94c1174"
    }
   },
   "source": [
    "# Preprocessing"
   ]
  },
  {
   "cell_type": "code",
   "execution_count": 6,
   "metadata": {
    "nbpresent": {
     "id": "016836bb-abb2-4235-ab21-df90a6e1e44e"
    }
   },
   "outputs": [],
   "source": [
    "def read_conllu(path):\n",
    "    data = pyconll.load_from_file(path)\n",
    "    tagged_sentences=[]\n",
    "    t=0\n",
    "    for sentence in data:\n",
    "        tagged_sentence=[]\n",
    "        for token in sentence:\n",
    "            if token.upos and token.form:\n",
    "                t+=1\n",
    "                tagged_sentence.append((token.form.lower(), token.upos))\n",
    "        tagged_sentences.append(tagged_sentence)\n",
    "    return tagged_sentences"
   ]
  },
  {
   "cell_type": "markdown",
   "metadata": {
    "nbpresent": {
     "id": "11bff856-f685-49ef-a4e6-b5f2a768a9ad"
    }
   },
   "source": [
    "Load train, development and test set in the appropriate tagged format, tuple (word, pos-tag)"
   ]
  },
  {
   "cell_type": "code",
   "execution_count": 22,
   "metadata": {
    "nbpresent": {
     "id": "fc49598b-75d3-45e9-9fa3-a7b604234760"
    }
   },
   "outputs": [],
   "source": [
    "# train_sentences = read_conllu(UD_ENGLISH_TRAIN)\n",
    "val_sentences = read_conllu(UD_ENGLISH_DEV)\n",
    "# test_sentences = read_conllu(UD_ENGLISH_TEST)"
   ]
  },
  {
   "cell_type": "code",
   "execution_count": 57,
   "metadata": {},
   "outputs": [],
   "source": [
    "import re\n",
    "import pandas as pd\n",
    "from nltk.tokenize import sent_tokenize\n",
    "from nltk.tokenize import word_tokenize\n",
    "import random, math"
   ]
  },
  {
   "cell_type": "code",
   "execution_count": 8,
   "metadata": {},
   "outputs": [],
   "source": [
    "all_te = pd.read_csv('../all-te.txt', sep='\\n', header=None)"
   ]
  },
  {
   "cell_type": "code",
   "execution_count": 24,
   "metadata": {},
   "outputs": [],
   "source": [
    "verbs = pd.read_csv('../verbs_no_homonyms.txt', sep='\\n', header=None)"
   ]
  },
  {
   "cell_type": "code",
   "execution_count": 27,
   "metadata": {},
   "outputs": [],
   "source": [
    "verbs = verbs[0].values"
   ]
  },
  {
   "cell_type": "code",
   "execution_count": 9,
   "metadata": {},
   "outputs": [],
   "source": [
    "raw_file = open(\"../raw_file.txt\", \"r\", encoding='utf-8').read()"
   ]
  },
  {
   "cell_type": "code",
   "execution_count": 36,
   "metadata": {},
   "outputs": [],
   "source": [
    "sentences = [word_tokenize(s) for s in sent_tokenize(raw_file)]\n",
    "sentences_lower = [[t.lower() for t in s]for s in sentences]"
   ]
  },
  {
   "cell_type": "code",
   "execution_count": 43,
   "metadata": {},
   "outputs": [],
   "source": [
    "tagged = [[(w,'Y') if w.lower() in verbs else (w,'N') for w in s] for s in sentences]"
   ]
  },
  {
   "cell_type": "code",
   "execution_count": 59,
   "metadata": {},
   "outputs": [],
   "source": [
    "train_index = (0, math.ceil(len(tagged)*0.7))\n",
    "test_index = (train_index[1], train_index[1]+math.ceil(len(tagged)*0.2))\n",
    "val_index = (test_index[1], test_index[1]+math.ceil(len(tagged)*0.1))"
   ]
  },
  {
   "cell_type": "code",
   "execution_count": 63,
   "metadata": {},
   "outputs": [],
   "source": [
    "random.shuffle(tagged)"
   ]
  },
  {
   "cell_type": "code",
   "execution_count": 64,
   "metadata": {},
   "outputs": [],
   "source": [
    "train_sentences = tagged[train_index[0]:train_index[1]]\n",
    "test_sentences = tagged[test_index[0]:test_index[1]]\n",
    "val_sentences = tagged[val_index[0]:val_index[1]]"
   ]
  },
  {
   "cell_type": "markdown",
   "metadata": {
    "nbpresent": {
     "id": "3f72d1da-c1d1-4e25-a782-e12a66f1cedf"
    }
   },
   "source": [
    "Print some statistics"
   ]
  },
  {
   "cell_type": "code",
   "execution_count": 68,
   "metadata": {
    "nbpresent": {
     "id": "57ee9c67-7ec6-4054-91bc-a9aa896ba18a"
    }
   },
   "outputs": [
    {
     "name": "stdout",
     "output_type": "stream",
     "text": [
      "Tagged sentences in train set:  1662\n",
      "Tagged words in train set: 22025\n",
      "========================================\n",
      "Tagged sentences in dev set:  237\n",
      "Tagged words in dev set: 2927\n",
      "========================================\n",
      "Tagged sentences in test set:  475\n",
      "Tagged words in test set: 6198\n",
      "****************************************\n",
      "Total sentences in dataset: 2374\n"
     ]
    }
   ],
   "source": [
    "print(\"Tagged sentences in train set: \", len(train_sentences))\n",
    "print(\"Tagged words in train set:\", len([item for sublist in train_sentences for item in sublist]))\n",
    "print(40*'=')\n",
    "print(\"Tagged sentences in dev set: \", len(val_sentences))\n",
    "print(\"Tagged words in dev set:\", len([item for sublist in val_sentences for item in sublist]))\n",
    "print(40*'=')\n",
    "print(\"Tagged sentences in test set: \", len(test_sentences))\n",
    "print(\"Tagged words in test set:\", len([item for sublist in test_sentences for item in sublist]))\n",
    "print(40*'*')\n",
    "print(\"Total sentences in dataset:\", len(train_sentences)+len(val_sentences)+len(test_sentences))"
   ]
  },
  {
   "cell_type": "code",
   "execution_count": 70,
   "metadata": {
    "nbpresent": {
     "id": "eb97895a-d649-4318-b3ac-d7d6b6088a12"
    }
   },
   "outputs": [
    {
     "name": "stdout",
     "output_type": "stream",
     "text": [
      "[('Не', 'N'), ('се', 'N'), ('знае', 'Y'), ('колко', 'N'), ('ще', 'N'), ('издържат', 'Y'), ('.', 'N')]\n"
     ]
    }
   ],
   "source": [
    "print(train_sentences[213])"
   ]
  },
  {
   "cell_type": "code",
   "execution_count": 71,
   "metadata": {
    "nbpresent": {
     "id": "573e2ec4-2df3-49f2-913d-3d0af2d6dc36"
    }
   },
   "outputs": [],
   "source": [
    "# Some usefull functions\n",
    "def tag_sequence(sentences):\n",
    "    return [[t for w, t in sentence] for sentence in sentences]\n",
    "\n",
    "def text_sequence(sentences):\n",
    "    return [[w for w, t in sentence] for sentence in sentences]"
   ]
  },
  {
   "cell_type": "markdown",
   "metadata": {
    "nbpresent": {
     "id": "533dd9e2-9e0e-43c1-8d13-b096a81a8984"
    }
   },
   "source": [
    "# Build dictionary with tag vocabulary"
   ]
  },
  {
   "cell_type": "code",
   "execution_count": 72,
   "metadata": {},
   "outputs": [
    {
     "name": "stdout",
     "output_type": "stream",
     "text": [
      "TOTAL TAGS:  2\n"
     ]
    }
   ],
   "source": [
    "tags = set([item for sublist in train_sentences+test_sentences+val_sentences for _, item in sublist])\n",
    "print('TOTAL TAGS: ', len(tags))"
   ]
  },
  {
   "cell_type": "markdown",
   "metadata": {},
   "source": [
    "Add '-PAD-' tag with index=0 as used in BERT code"
   ]
  },
  {
   "cell_type": "code",
   "execution_count": 73,
   "metadata": {
    "nbpresent": {
     "id": "98944f66-c2ae-4b29-ba01-99287044a815"
    }
   },
   "outputs": [],
   "source": [
    "tag2int = {}\n",
    "int2tag = {}\n",
    "\n",
    "for i, tag in enumerate(sorted(tags)):\n",
    "    tag2int[tag] = i+1\n",
    "    int2tag[i+1] = tag"
   ]
  },
  {
   "cell_type": "code",
   "execution_count": 74,
   "metadata": {
    "nbpresent": {
     "id": "a935a8bd-0522-42a1-8fea-285b671df0b8"
    }
   },
   "outputs": [],
   "source": [
    "# Special character for the tags\n",
    "tag2int['-PAD-'] = 0\n",
    "int2tag[0] = '-PAD-'"
   ]
  },
  {
   "cell_type": "code",
   "execution_count": 75,
   "metadata": {
    "nbpresent": {
     "id": "3e55930b-4268-4b18-a7c7-de6675cdcc01"
    }
   },
   "outputs": [
    {
     "name": "stdout",
     "output_type": "stream",
     "text": [
      "Total tags: 3\n"
     ]
    }
   ],
   "source": [
    "n_tags = len(tag2int)\n",
    "print('Total tags:', n_tags)"
   ]
  },
  {
   "cell_type": "code",
   "execution_count": 76,
   "metadata": {},
   "outputs": [
    {
     "data": {
      "text/plain": [
       "['N', 'Y', '-PAD-']"
      ]
     },
     "execution_count": 76,
     "metadata": {},
     "output_type": "execute_result"
    }
   ],
   "source": [
    "list(tag2int)"
   ]
  },
  {
   "cell_type": "markdown",
   "metadata": {
    "nbpresent": {
     "id": "6d6c1924-4661-4d3c-a446-ce81c05f9b71"
    }
   },
   "source": [
    "======================================================================================================="
   ]
  },
  {
   "cell_type": "markdown",
   "metadata": {
    "nbpresent": {
     "id": "0b2c54e8-30d1-4f19-b03e-533a9e27b069"
    }
   },
   "source": [
    "# Parameters"
   ]
  },
  {
   "cell_type": "code",
   "execution_count": 77,
   "metadata": {
    "nbpresent": {
     "id": "5a212b96-46c2-4147-9dba-9eea08757f36"
    }
   },
   "outputs": [],
   "source": [
    "MAX_SEQUENCE_LENGTH = 70\n",
    "EPOCHS = 30"
   ]
  },
  {
   "cell_type": "markdown",
   "metadata": {
    "nbpresent": {
     "id": "e1ee0fe5-a699-487d-9d36-b0342bc17d79"
    }
   },
   "source": [
    "# Special preprocessing for NNs"
   ]
  },
  {
   "cell_type": "markdown",
   "metadata": {
    "nbpresent": {
     "id": "e2fff7c1-9822-4192-95b8-6721acef446f"
    }
   },
   "source": [
    "### This is a very importand step for the whole process! So be careful, to rerun this step in case you change one of the following parameters:\n",
    "- MAX_SEQUENCE_LENGTH"
   ]
  },
  {
   "cell_type": "code",
   "execution_count": 19,
   "metadata": {
    "nbpresent": {
     "id": "12c47160-79d6-42d8-822d-e2d958e9ccb2"
    }
   },
   "outputs": [],
   "source": [
    "# train_sentences = read_conllu(UD_ENGLISH_TRAIN)\n",
    "# val_sentences = read_conllu(UD_ENGLISH_DEV)\n",
    "# test_sentences = read_conllu(UD_ENGLISH_TEST)"
   ]
  },
  {
   "cell_type": "markdown",
   "metadata": {
    "nbpresent": {
     "id": "f67342ab-29db-4565-8912-1a7efb49f808"
    }
   },
   "source": [
    "Lets examine the train set sentences distribution:"
   ]
  },
  {
   "cell_type": "code",
   "execution_count": 78,
   "metadata": {
    "nbpresent": {
     "id": "844de2c1-e861-45db-8bc0-4e1f47724a95"
    }
   },
   "outputs": [
    {
     "data": {
      "image/png": "[encoded data removed]",
      "text/plain": [
       "<Figure size 432x288 with 1 Axes>"
      ]
     },
     "metadata": {},
     "output_type": "display_data"
    }
   ],
   "source": [
    "import matplotlib.pyplot as plt\n",
    "plt.style.use(\"ggplot\")\n",
    "plt.hist([len(s) for s in train_sentences], bins=50)\n",
    "plt.show()"
   ]
  },
  {
   "cell_type": "code",
   "execution_count": 79,
   "metadata": {
    "nbpresent": {
     "id": "d9a2a74a-dff8-4dce-a9d2-b251e8a33976"
    }
   },
   "outputs": [
    {
     "name": "stdout",
     "output_type": "stream",
     "text": [
      "Max sentence length: 165\n"
     ]
    }
   ],
   "source": [
    "print('Max sentence length:',len(max(train_sentences+val_sentences, key=len)))"
   ]
  },
  {
   "cell_type": "markdown",
   "metadata": {
    "nbpresent": {
     "id": "0bff7138-d0ee-43b8-82ae-8d577b6e18f1"
    }
   },
   "source": [
    "To improve speed we will use a MAX_SEQUENCE_LENGTH shorter than the max lengthed sentence. To avoid truncating sequences during padding we split our sentences to MAX_SEQUENCE_LENGTH and so the number of samples increases accordingly. For example, if MAX_SEQUENCE_LENGTH=70, a sentence with length 150 splits in 3 sentences: 150=70+70+10"
   ]
  },
  {
   "cell_type": "code",
   "execution_count": 80,
   "metadata": {
    "nbpresent": {
     "id": "6b60d427-a8d8-4bb7-ad74-6b890098b6f7"
    }
   },
   "outputs": [],
   "source": [
    "def  split(sentences, max):\n",
    "    new=[]\n",
    "    for data in sentences:\n",
    "        new.append(([data[x:x+max] for x in range(0, len(data), max)]))\n",
    "    new = [val for sublist in new for val in sublist]\n",
    "    return new"
   ]
  },
  {
   "cell_type": "code",
   "execution_count": 81,
   "metadata": {
    "nbpresent": {
     "id": "067299e9-7857-445b-99dd-1df2ddd4d740"
    }
   },
   "outputs": [],
   "source": [
    "train_sentences = split(train_sentences, MAX_SEQUENCE_LENGTH)\n",
    "val_sentences = split(val_sentences, MAX_SEQUENCE_LENGTH)\n",
    "test_sentences = split(test_sentences, MAX_SEQUENCE_LENGTH)"
   ]
  },
  {
   "cell_type": "code",
   "execution_count": 82,
   "metadata": {
    "nbpresent": {
     "id": "b180dbde-a00e-4f4b-aad7-33b0b31ad693"
    }
   },
   "outputs": [
    {
     "data": {
      "text/plain": [
       "70"
      ]
     },
     "execution_count": 82,
     "metadata": {},
     "output_type": "execute_result"
    }
   ],
   "source": [
    "len(max(train_sentences+val_sentences, key=len))"
   ]
  },
  {
   "cell_type": "code",
   "execution_count": 83,
   "metadata": {},
   "outputs": [],
   "source": [
    "train_sentences = train_sentences + val_sentences"
   ]
  },
  {
   "cell_type": "markdown",
   "metadata": {
    "nbpresent": {
     "id": "bf4abb0c-ba12-4be4-918d-06172bc011f1"
    }
   },
   "source": [
    "# BERT implementation"
   ]
  },
  {
   "cell_type": "code",
   "execution_count": 84,
   "metadata": {
    "nbpresent": {
     "id": "b2e4df36-f6ed-4961-b2d2-540fcbf651fd"
    }
   },
   "outputs": [],
   "source": [
    "# Initialize session\n",
    "sess = tf.Session()\n",
    "# Params for bert model and tokenization\n",
    "bert_path = \"https://tfhub.dev/google/bert_multi_cased_L-12_H-768_A-12/1\" #use multi lang version! "
   ]
  },
  {
   "cell_type": "code",
   "execution_count": 85,
   "metadata": {
    "nbpresent": {
     "id": "81781553-5840-4539-8e31-ebf941647e22"
    }
   },
   "outputs": [],
   "source": [
    "train_text = text_sequence(train_sentences)\n",
    "test_text = text_sequence(test_sentences)\n",
    "#val_text = text_sequence(val_sentences)\n",
    "\n",
    "train_label = tag_sequence(train_sentences)\n",
    "test_label= tag_sequence(test_sentences)\n",
    "#val_label= tag_sequence(val_sentences)"
   ]
  },
  {
   "cell_type": "code",
   "execution_count": 86,
   "metadata": {},
   "outputs": [
    {
     "data": {
      "text/plain": [
       "1908"
      ]
     },
     "execution_count": 86,
     "metadata": {},
     "output_type": "execute_result"
    }
   ],
   "source": [
    "len(train_text)"
   ]
  },
  {
   "cell_type": "code",
   "execution_count": 88,
   "metadata": {
    "scrolled": true
   },
   "outputs": [
    {
     "data": {
      "text/plain": [
       "(['„',\n",
       "  'Йоанис',\n",
       "  'идвал',\n",
       "  'да',\n",
       "  'подпомогне',\n",
       "  'обсадените',\n",
       "  'в',\n",
       "  'Одрин',\n",
       "  'с',\n",
       "  'твърде',\n",
       "  'голяма',\n",
       "  'войска',\n",
       "  ',',\n",
       "  'защото',\n",
       "  'той',\n",
       "  'водел',\n",
       "  'власи',\n",
       "  'и',\n",
       "  'българи',\n",
       "  'и',\n",
       "  'около',\n",
       "  '14',\n",
       "  '000',\n",
       "  'кумани',\n",
       "  ',',\n",
       "  'които',\n",
       "  'не',\n",
       "  'били',\n",
       "  'покръстени',\n",
       "  '“',\n",
       "  '—',\n",
       "  'пише',\n",
       "  'Вилардуен',\n",
       "  '.'],\n",
       " ['N',\n",
       "  'N',\n",
       "  'Y',\n",
       "  'N',\n",
       "  'Y',\n",
       "  'N',\n",
       "  'N',\n",
       "  'N',\n",
       "  'N',\n",
       "  'N',\n",
       "  'N',\n",
       "  'N',\n",
       "  'N',\n",
       "  'N',\n",
       "  'N',\n",
       "  'Y',\n",
       "  'N',\n",
       "  'N',\n",
       "  'N',\n",
       "  'N',\n",
       "  'N',\n",
       "  'N',\n",
       "  'N',\n",
       "  'N',\n",
       "  'N',\n",
       "  'N',\n",
       "  'N',\n",
       "  'Y',\n",
       "  'N',\n",
       "  'N',\n",
       "  'N',\n",
       "  'Y',\n",
       "  'N',\n",
       "  'N'])"
      ]
     },
     "execution_count": 88,
     "metadata": {},
     "output_type": "execute_result"
    }
   ],
   "source": [
    "train_text[133], train_label[133]"
   ]
  },
  {
   "cell_type": "markdown",
   "metadata": {},
   "source": [
    "# Functions used for BERT representation"
   ]
  },
  {
   "cell_type": "code",
   "execution_count": 89,
   "metadata": {
    "nbpresent": {
     "id": "1165aa8f-9bd2-48d7-8ad2-3109c960334f"
    }
   },
   "outputs": [],
   "source": [
    "class PaddingInputExample(object):\n",
    "    \"\"\"Fake example so the num input examples is a multiple of the batch size.\n",
    "  When running eval/predict on the TPU, we need to pad the number of examples\n",
    "  to be a multiple of the batch size, because the TPU requires a fixed batch\n",
    "  size. The alternative is to drop the last batch, which is bad because it means\n",
    "  the entire output data won't be generated.\n",
    "  We use this class instead of `None` because treating `None` as padding\n",
    "  battches could cause silent errors.\n",
    "  \"\"\"\n",
    "\n",
    "class InputExample(object):\n",
    "    \"\"\"A single training/test example for simple sequence classification.\"\"\"\n",
    "\n",
    "    def __init__(self, guid, text_a, text_b=None, label=None):\n",
    "        \"\"\"Constructs a InputExample.\n",
    "    Args:\n",
    "      guid: Unique id for the example.\n",
    "      text_a: string. The untokenized text of the first sequence. For single\n",
    "        sequence tasks, only this sequence must be specified.\n",
    "      text_b: (Optional) string. The untokenized text of the second sequence.\n",
    "        Only must be specified for sequence pair tasks.\n",
    "      label: (Optional) string. The label of the example. This should be\n",
    "        specified for train and dev examples, but not for test examples.\n",
    "    \"\"\"\n",
    "        self.guid = guid\n",
    "        self.text_a = text_a\n",
    "        self.text_b = text_b\n",
    "        self.label = label\n",
    "\n",
    "def create_tokenizer_from_hub_module():\n",
    "    \"\"\"Get the vocab file and casing info from the Hub module.\"\"\"\n",
    "    bert_module =  hub.Module(bert_path)\n",
    "    tokenization_info = bert_module(signature=\"tokenization_info\", as_dict=True)\n",
    "    vocab_file, do_lower_case = sess.run(\n",
    "        [\n",
    "            tokenization_info[\"vocab_file\"],\n",
    "            tokenization_info[\"do_lower_case\"],\n",
    "        ]\n",
    "    )\n",
    "\n",
    "    return FullTokenizer(vocab_file=vocab_file, do_lower_case=do_lower_case)\n",
    "\n",
    "def convert_single_example(tokenizer, example, max_seq_length=256):\n",
    "    \"\"\"Converts a single `InputExample` into a single `InputFeatures`.\"\"\"\n",
    "\n",
    "    if isinstance(example, PaddingInputExample):\n",
    "        input_ids = [0] * max_seq_length\n",
    "        input_mask = [0] * max_seq_length\n",
    "        segment_ids = [0] * max_seq_length\n",
    "        label_ids = [0] * max_seq_length\n",
    "        return input_ids, input_mask, segment_ids, label_ids\n",
    "    \n",
    "    tokens_a = example.text_a\n",
    "    if len(tokens_a) > max_seq_length-2:\n",
    "        tokens_a = tokens_a[0 : (max_seq_length-2)]\n",
    "\n",
    "# Token map will be an int -> int mapping between the `orig_tokens` index and\n",
    "# the `bert_tokens` index.\n",
    "\n",
    "# bert_tokens == [\"[CLS]\", \"john\", \"johan\", \"##son\", \"'\", \"s\", \"house\", \"[SEP]\"]\n",
    "# orig_to_tok_map == [1, 2, 4, 6]   \n",
    "    orig_to_tok_map = []              \n",
    "    tokens = []\n",
    "    segment_ids = []\n",
    "    \n",
    "    tokens.append(\"[CLS]\")\n",
    "    segment_ids.append(0)\n",
    "    orig_to_tok_map.append(len(tokens)-1)\n",
    "    #print(len(tokens_a))\n",
    "    for token in tokens_a:       \n",
    "        tokens.extend(tokenizer.tokenize(token))\n",
    "        orig_to_tok_map.append(len(tokens)-1)\n",
    "        segment_ids.append(0)\n",
    "    tokens.append(\"[SEP]\")\n",
    "    segment_ids.append(0)\n",
    "    orig_to_tok_map.append(len(tokens)-1)\n",
    "    input_ids = tokenizer.convert_tokens_to_ids([tokens[i] for i in orig_to_tok_map])\n",
    "    #print(len(orig_to_tok_map), len(tokens), len(input_ids), len(segment_ids)) #for debugging\n",
    "\n",
    "    # The mask has 1 for real tokens and 0 for padding tokens. Only real\n",
    "    # tokens are attended to.\n",
    "    input_mask = [1] * len(input_ids)\n",
    "    \n",
    "    label_ids = []\n",
    "    labels = example.label\n",
    "    label_ids.append(0)\n",
    "    label_ids.extend([tag2int[label] for label in labels])\n",
    "    label_ids.append(0)\n",
    "    #print(len(label_ids)) #for debugging\n",
    "    # Zero-pad up to the sequence length.\n",
    "    while len(input_ids) < max_seq_length:\n",
    "        input_ids.append(0)\n",
    "        input_mask.append(0)\n",
    "        segment_ids.append(0)\n",
    "        label_ids.append(0)\n",
    "\n",
    "    assert len(input_ids) == max_seq_length\n",
    "    assert len(input_mask) == max_seq_length\n",
    "    assert len(segment_ids) == max_seq_length\n",
    "    assert len(label_ids) == max_seq_length\n",
    "\n",
    "    return input_ids, input_mask, segment_ids, label_ids\n",
    "\n",
    "def convert_examples_to_features(tokenizer, examples, max_seq_length=256):\n",
    "    \"\"\"Convert a set of `InputExample`s to a list of `InputFeatures`.\"\"\"\n",
    "\n",
    "    input_ids, input_masks, segment_ids, labels = [], [], [], []\n",
    "    for example in tqdm_notebook(examples, desc=\"Converting examples to features\"):\n",
    "        input_id, input_mask, segment_id, label = convert_single_example(\n",
    "            tokenizer, example, max_seq_length\n",
    "        )\n",
    "        input_ids.append(input_id)\n",
    "        input_masks.append(input_mask)\n",
    "        segment_ids.append(segment_id)\n",
    "        labels.append(label)\n",
    "    return (\n",
    "        np.array(input_ids),\n",
    "        np.array(input_masks),\n",
    "        np.array(segment_ids),\n",
    "        np.array(labels),\n",
    "    )\n",
    "\n",
    "def convert_text_to_examples(texts, labels):\n",
    "    \"\"\"Create InputExamples\"\"\"\n",
    "    InputExamples = []\n",
    "    for text, label in zip(texts, labels):\n",
    "        InputExamples.append(\n",
    "            InputExample(guid=None, text_a=text, text_b=None, label=label)\n",
    "        )\n",
    "    return InputExamples"
   ]
  },
  {
   "cell_type": "code",
   "execution_count": 90,
   "metadata": {
    "nbpresent": {
     "id": "c5d22fdb-2f46-44b2-9962-cea0cc6927a8"
    }
   },
   "outputs": [
    {
     "name": "stderr",
     "output_type": "stream",
     "text": [
      "WARNING: Logging before flag parsing goes to stderr.\n",
      "W0411 18:19:42.880198 126028 module_wrapper.py:139] From c:\\users\\pnedelev\\appdata\\local\\continuum\\anaconda3\\lib\\site-packages\\bert\\tokenization.py:125: The name tf.gfile.GFile is deprecated. Please use tf.io.gfile.GFile instead.\n",
      "\n"
     ]
    }
   ],
   "source": [
    "# Instantiate tokenizer\n",
    "tokenizer = create_tokenizer_from_hub_module()"
   ]
  },
  {
   "cell_type": "markdown",
   "metadata": {},
   "source": [
    "## Alignment code (token -> tag)"
   ]
  },
  {
   "cell_type": "markdown",
   "metadata": {},
   "source": [
    "Following suggestions from WordPiece tokenization part in https://github.com/google-research/bert, for POS tagging task, input sentences are converted to the following format:"
   ]
  },
  {
   "cell_type": "code",
   "execution_count": 26,
   "metadata": {},
   "outputs": [],
   "source": [
    "# orig_tokens = [\"John\", \"Johanson\", \"'s\",  \"house\"]\n",
    "# labels      = [\"NNP\",  \"NNP\",      \"POS\", \"NN\"]\n",
    "# bert_tokens = ['[CLS]\", \"john\", \"johan\", \"##son\", \"'\",   \"s\",  \"house\", \"[SEP]\"]\n",
    "# bert_labels = ['[CLS]\", \"NNP\",  \"NNP\",   \"##\",    \"POS\", \"##\", \"NN\",    \"[SEP]\"] "
   ]
  },
  {
   "cell_type": "markdown",
   "metadata": {},
   "source": [
    "So, due to **Wordpiece** tokenizer we must take special care for the correct alignment of token to tag. This is done in function *convert_single_example(tokenizer, example, max_seq_length=256)* with the following piece of code:"
   ]
  },
  {
   "cell_type": "code",
   "execution_count": 91,
   "metadata": {},
   "outputs": [],
   "source": [
    "def bert_labels(labels):\n",
    "    train_label_bert = []\n",
    "    train_label_bert.append('-PAD-')\n",
    "    for i in labels:\n",
    "        train_label_bert.append(i)\n",
    "    train_label_bert.append('-PAD-')\n",
    "    print('BERT labels:', train_label_bert)    "
   ]
  },
  {
   "cell_type": "code",
   "execution_count": 93,
   "metadata": {},
   "outputs": [],
   "source": [
    "tokens_a = train_text[2]"
   ]
  },
  {
   "cell_type": "code",
   "execution_count": 95,
   "metadata": {},
   "outputs": [],
   "source": [
    "orig_to_tok_map = []              \n",
    "tokens = []\n",
    "segment_ids = []\n",
    "tokens.append(\"[CLS]\")\n",
    "segment_ids.append(0)\n",
    "orig_to_tok_map.append(len(tokens)-1)\n",
    "for token in tokens_a:\n",
    "    #orig_to_tok_map.append(len(tokens)) # keep first piece of tokenized term\n",
    "    tokens.extend(tokenizer.tokenize(token))\n",
    "    orig_to_tok_map.append(len(tokens)-1) # # keep last piece of tokenized term -->> gives better results!\n",
    "    segment_ids.append(0)\n",
    "tokens.append(\"[SEP]\")\n",
    "segment_ids.append(0)\n",
    "orig_to_tok_map.append(len(tokens)-1)\n",
    "input_ids = tokenizer.convert_tokens_to_ids([tokens[i] for i in orig_to_tok_map])"
   ]
  },
  {
   "cell_type": "code",
   "execution_count": 96,
   "metadata": {
    "nbpresent": {
     "id": "b31bd2f4-6a3b-4836-888a-5362ebdbc492"
    }
   },
   "outputs": [
    {
     "name": "stdout",
     "output_type": "stream",
     "text": [
      "Original tokens: ['Златото', 'е', 'подлудило', 'всички', '.']\n"
     ]
    }
   ],
   "source": [
    "print('Original tokens:',tokens_a)"
   ]
  },
  {
   "cell_type": "code",
   "execution_count": 97,
   "metadata": {
    "nbpresent": {
     "id": "b31bd2f4-6a3b-4836-888a-5362ebdbc492"
    }
   },
   "outputs": [
    {
     "name": "stdout",
     "output_type": "stream",
     "text": [
      "BERT tokens: ['[CLS]', 'З', '##лат', '##ото', 'е', 'под', '##лу', '##дил', '##о', 'всички', '.', '[SEP]']\n"
     ]
    }
   ],
   "source": [
    "print('BERT tokens:',tokens)"
   ]
  },
  {
   "cell_type": "code",
   "execution_count": 98,
   "metadata": {},
   "outputs": [
    {
     "name": "stdout",
     "output_type": "stream",
     "text": [
      "BERT labels: ['-PAD-', 'N', 'N', 'Y', 'N', 'N', '-PAD-']\n"
     ]
    }
   ],
   "source": [
    "bert_labels(train_label[2])"
   ]
  },
  {
   "cell_type": "raw",
   "metadata": {},
   "source": [
    "So the allignment 'warranties' -> 'NOUN' becomes after alligning '##ies' -> 'NOUN'\n",
    "We tested the other (proposed in run_classifier.py) possible allignment 'warrant' -> 'NOUN', but with worse results!"
   ]
  },
  {
   "cell_type": "code",
   "execution_count": 99,
   "metadata": {},
   "outputs": [
    {
     "data": {
      "text/plain": [
       "[0, 3, 4, 8, 9, 10, 11]"
      ]
     },
     "execution_count": 99,
     "metadata": {},
     "output_type": "execute_result"
    }
   ],
   "source": [
    "orig_to_tok_map"
   ]
  },
  {
   "cell_type": "code",
   "execution_count": 100,
   "metadata": {},
   "outputs": [
    {
     "name": "stdout",
     "output_type": "stream",
     "text": [
      "[101, 19517, 546, 10316, 31425, 119, 102]\n"
     ]
    }
   ],
   "source": [
    "print(input_ids)"
   ]
  },
  {
   "cell_type": "markdown",
   "metadata": {},
   "source": [
    "## Test the conversion of an example to BERT representation"
   ]
  },
  {
   "cell_type": "code",
   "execution_count": 101,
   "metadata": {
    "nbpresent": {
     "id": "a8524cd7-a390-455a-b94d-995aabcbfb02"
    }
   },
   "outputs": [],
   "source": [
    "\"\"\"Create InputExamples\"\"\"\n",
    "InputExamples = []\n",
    "for text, label in zip(train_text[0:1], train_label[0:1]):\n",
    "    InputExamples.append(\n",
    "        InputExample(guid=None, text_a=text, text_b=None, label=label)\n",
    ")"
   ]
  },
  {
   "cell_type": "code",
   "execution_count": 102,
   "metadata": {
    "nbpresent": {
     "id": "da8ff012-152f-4533-975c-b23c3a63611c"
    }
   },
   "outputs": [
    {
     "data": {
      "application/vnd.jupyter.widget-view+json": {
       "model_id": "868f9536017a49488afe689a516dcd4e",
       "version_major": 2,
       "version_minor": 0
      },
      "text/plain": [
       "HBox(children=(IntProgress(value=0, description='Converting examples to features', max=1, style=ProgressStyle(…"
      ]
     },
     "metadata": {},
     "output_type": "display_data"
    },
    {
     "name": "stdout",
     "output_type": "stream",
     "text": [
      "\n"
     ]
    }
   ],
   "source": [
    "input_ids, input_masks, segment_ids, labels = [], [], [], []\n",
    "for example in tqdm_notebook(InputExamples, desc=\"Converting examples to features\"):\n",
    "    input_id, input_mask, segment_id, label = convert_single_example(\n",
    "        tokenizer, example, MAX_SEQUENCE_LENGTH+2\n",
    "    )\n",
    "    input_ids.append(input_id)\n",
    "    input_masks.append(input_mask)\n",
    "    segment_ids.append(segment_id)\n",
    "    labels.append(label)"
   ]
  },
  {
   "cell_type": "markdown",
   "metadata": {},
   "source": [
    "## Convert examples to BERT representation"
   ]
  },
  {
   "cell_type": "code",
   "execution_count": 103,
   "metadata": {
    "nbpresent": {
     "id": "eb4915fc-babf-4bf9-8789-ab05ef24be45"
    }
   },
   "outputs": [],
   "source": [
    "# Convert data to InputExample format\n",
    "train_examples = convert_text_to_examples(train_text, train_label)\n",
    "test_examples = convert_text_to_examples(test_text, test_label)"
   ]
  },
  {
   "cell_type": "code",
   "execution_count": 104,
   "metadata": {
    "nbpresent": {
     "id": "4f427047-23e0-4dd4-b8b7-333c93eb88ce"
    }
   },
   "outputs": [
    {
     "data": {
      "application/vnd.jupyter.widget-view+json": {
       "model_id": "3990d555997d417ca96c8cdfec8415ba",
       "version_major": 2,
       "version_minor": 0
      },
      "text/plain": [
       "HBox(children=(IntProgress(value=0, description='Converting examples to features', max=1908, style=ProgressSty…"
      ]
     },
     "metadata": {},
     "output_type": "display_data"
    },
    {
     "name": "stdout",
     "output_type": "stream",
     "text": [
      "\n"
     ]
    },
    {
     "data": {
      "application/vnd.jupyter.widget-view+json": {
       "model_id": "4dec5ba47e554b039774ca7e4c57106e",
       "version_major": 2,
       "version_minor": 0
      },
      "text/plain": [
       "HBox(children=(IntProgress(value=0, description='Converting examples to features', max=477, style=ProgressStyl…"
      ]
     },
     "metadata": {},
     "output_type": "display_data"
    },
    {
     "name": "stdout",
     "output_type": "stream",
     "text": [
      "\n"
     ]
    }
   ],
   "source": [
    "# Convert to features\n",
    "(train_input_ids, train_input_masks, train_segment_ids, train_labels_ids\n",
    ") = convert_examples_to_features(tokenizer, train_examples, max_seq_length=MAX_SEQUENCE_LENGTH+2)\n",
    "(test_input_ids, test_input_masks, test_segment_ids, test_labels_ids\n",
    ") = convert_examples_to_features(tokenizer, test_examples, max_seq_length=MAX_SEQUENCE_LENGTH+2)"
   ]
  },
  {
   "cell_type": "markdown",
   "metadata": {},
   "source": [
    "## See the form of BERT representation"
   ]
  },
  {
   "cell_type": "code",
   "execution_count": 105,
   "metadata": {},
   "outputs": [
    {
     "name": "stdout",
     "output_type": "stream",
     "text": [
      "72\n",
      "72\n",
      "72\n",
      "72\n"
     ]
    }
   ],
   "source": [
    "print(len(train_input_ids[0]))\n",
    "print(len(train_input_masks[0]))\n",
    "print(len(train_segment_ids[0]))\n",
    "print(len(train_labels_ids[0]))"
   ]
  },
  {
   "cell_type": "code",
   "execution_count": 106,
   "metadata": {
    "nbpresent": {
     "id": "e3ab4f77-4587-4fd0-8fbc-b06840e852f5"
    }
   },
   "outputs": [
    {
     "data": {
      "text/plain": [
       "array([  101,   164,   115, 29672,   100, 12184, 14614,   119,   166,\n",
       "         102,     0,     0,     0,     0,     0,     0,     0,     0,\n",
       "           0,     0,     0,     0,     0,     0,     0,     0,     0,\n",
       "           0,     0,     0,     0,     0,     0,     0,     0,     0,\n",
       "           0,     0,     0,     0,     0,     0,     0,     0,     0,\n",
       "           0,     0,     0,     0,     0,     0,     0,     0,     0,\n",
       "           0,     0,     0,     0,     0,     0,     0,     0,     0,\n",
       "           0,     0,     0,     0,     0,     0,     0,     0,     0])"
      ]
     },
     "execution_count": 106,
     "metadata": {},
     "output_type": "execute_result"
    }
   ],
   "source": [
    "train_input_ids[0]"
   ]
  },
  {
   "cell_type": "code",
   "execution_count": 107,
   "metadata": {
    "nbpresent": {
     "id": "996d81bf-c1ce-4d09-8315-8d3c4512ddb8"
    }
   },
   "outputs": [
    {
     "data": {
      "text/plain": [
       "array([1, 1, 1, 1, 1, 1, 1, 1, 1, 1, 0, 0, 0, 0, 0, 0, 0, 0, 0, 0, 0, 0,\n",
       "       0, 0, 0, 0, 0, 0, 0, 0, 0, 0, 0, 0, 0, 0, 0, 0, 0, 0, 0, 0, 0, 0,\n",
       "       0, 0, 0, 0, 0, 0, 0, 0, 0, 0, 0, 0, 0, 0, 0, 0, 0, 0, 0, 0, 0, 0,\n",
       "       0, 0, 0, 0, 0, 0])"
      ]
     },
     "execution_count": 107,
     "metadata": {},
     "output_type": "execute_result"
    }
   ],
   "source": [
    "train_input_masks[0]"
   ]
  },
  {
   "cell_type": "code",
   "execution_count": 108,
   "metadata": {
    "nbpresent": {
     "id": "d16548f1-b1a4-4003-b90e-c28164d4012d"
    }
   },
   "outputs": [
    {
     "data": {
      "text/plain": [
       "array([0, 0, 0, 0, 0, 0, 0, 0, 0, 0, 0, 0, 0, 0, 0, 0, 0, 0, 0, 0, 0, 0,\n",
       "       0, 0, 0, 0, 0, 0, 0, 0, 0, 0, 0, 0, 0, 0, 0, 0, 0, 0, 0, 0, 0, 0,\n",
       "       0, 0, 0, 0, 0, 0, 0, 0, 0, 0, 0, 0, 0, 0, 0, 0, 0, 0, 0, 0, 0, 0,\n",
       "       0, 0, 0, 0, 0, 0])"
      ]
     },
     "execution_count": 108,
     "metadata": {},
     "output_type": "execute_result"
    }
   ],
   "source": [
    "train_segment_ids[0]"
   ]
  },
  {
   "cell_type": "code",
   "execution_count": 109,
   "metadata": {
    "nbpresent": {
     "id": "4343b8c0-e6e3-4198-b209-968b28ec4fa4"
    }
   },
   "outputs": [
    {
     "data": {
      "text/plain": [
       "array([0, 1, 1, 1, 1, 1, 1, 1, 1, 0, 0, 0, 0, 0, 0, 0, 0, 0, 0, 0, 0, 0,\n",
       "       0, 0, 0, 0, 0, 0, 0, 0, 0, 0, 0, 0, 0, 0, 0, 0, 0, 0, 0, 0, 0, 0,\n",
       "       0, 0, 0, 0, 0, 0, 0, 0, 0, 0, 0, 0, 0, 0, 0, 0, 0, 0, 0, 0, 0, 0,\n",
       "       0, 0, 0, 0, 0, 0])"
      ]
     },
     "execution_count": 109,
     "metadata": {},
     "output_type": "execute_result"
    }
   ],
   "source": [
    "train_labels_ids[0]"
   ]
  },
  {
   "cell_type": "code",
   "execution_count": 110,
   "metadata": {
    "nbpresent": {
     "id": "080448a8-1f00-46b8-b4c9-e8aff53658ae"
    }
   },
   "outputs": [],
   "source": [
    "# One-hot encode labels\n",
    "train_labels = to_categorical(train_labels_ids, num_classes=n_tags)\n",
    "test_labels = to_categorical(test_labels_ids, num_classes=n_tags)"
   ]
  },
  {
   "cell_type": "code",
   "execution_count": 111,
   "metadata": {
    "nbpresent": {
     "id": "2a4bc11b-a307-4121-8c42-44dde65ae4cf"
    }
   },
   "outputs": [
    {
     "data": {
      "text/plain": [
       "(array([  101,   164,   115, 29672,   100, 12184, 14614,   119,   166,\n",
       "          102,     0,     0,     0,     0,     0,     0,     0,     0,\n",
       "            0,     0,     0,     0,     0,     0,     0,     0,     0,\n",
       "            0,     0,     0,     0,     0,     0,     0,     0,     0,\n",
       "            0,     0,     0,     0,     0,     0,     0,     0,     0,\n",
       "            0,     0,     0,     0,     0,     0,     0,     0,     0,\n",
       "            0,     0,     0,     0,     0,     0,     0,     0,     0,\n",
       "            0,     0,     0,     0,     0,     0,     0,     0,     0]),\n",
       " array([[1., 0., 0.],\n",
       "        [0., 1., 0.],\n",
       "        [0., 1., 0.],\n",
       "        [0., 1., 0.],\n",
       "        [0., 1., 0.],\n",
       "        [0., 1., 0.],\n",
       "        [0., 1., 0.],\n",
       "        [0., 1., 0.],\n",
       "        [0., 1., 0.],\n",
       "        [1., 0., 0.],\n",
       "        [1., 0., 0.],\n",
       "        [1., 0., 0.],\n",
       "        [1., 0., 0.],\n",
       "        [1., 0., 0.],\n",
       "        [1., 0., 0.],\n",
       "        [1., 0., 0.],\n",
       "        [1., 0., 0.],\n",
       "        [1., 0., 0.],\n",
       "        [1., 0., 0.],\n",
       "        [1., 0., 0.],\n",
       "        [1., 0., 0.],\n",
       "        [1., 0., 0.],\n",
       "        [1., 0., 0.],\n",
       "        [1., 0., 0.],\n",
       "        [1., 0., 0.],\n",
       "        [1., 0., 0.],\n",
       "        [1., 0., 0.],\n",
       "        [1., 0., 0.],\n",
       "        [1., 0., 0.],\n",
       "        [1., 0., 0.],\n",
       "        [1., 0., 0.],\n",
       "        [1., 0., 0.],\n",
       "        [1., 0., 0.],\n",
       "        [1., 0., 0.],\n",
       "        [1., 0., 0.],\n",
       "        [1., 0., 0.],\n",
       "        [1., 0., 0.],\n",
       "        [1., 0., 0.],\n",
       "        [1., 0., 0.],\n",
       "        [1., 0., 0.],\n",
       "        [1., 0., 0.],\n",
       "        [1., 0., 0.],\n",
       "        [1., 0., 0.],\n",
       "        [1., 0., 0.],\n",
       "        [1., 0., 0.],\n",
       "        [1., 0., 0.],\n",
       "        [1., 0., 0.],\n",
       "        [1., 0., 0.],\n",
       "        [1., 0., 0.],\n",
       "        [1., 0., 0.],\n",
       "        [1., 0., 0.],\n",
       "        [1., 0., 0.],\n",
       "        [1., 0., 0.],\n",
       "        [1., 0., 0.],\n",
       "        [1., 0., 0.],\n",
       "        [1., 0., 0.],\n",
       "        [1., 0., 0.],\n",
       "        [1., 0., 0.],\n",
       "        [1., 0., 0.],\n",
       "        [1., 0., 0.],\n",
       "        [1., 0., 0.],\n",
       "        [1., 0., 0.],\n",
       "        [1., 0., 0.],\n",
       "        [1., 0., 0.],\n",
       "        [1., 0., 0.],\n",
       "        [1., 0., 0.],\n",
       "        [1., 0., 0.],\n",
       "        [1., 0., 0.],\n",
       "        [1., 0., 0.],\n",
       "        [1., 0., 0.],\n",
       "        [1., 0., 0.],\n",
       "        [1., 0., 0.]], dtype=float32))"
      ]
     },
     "execution_count": 111,
     "metadata": {},
     "output_type": "execute_result"
    }
   ],
   "source": [
    "train_input_ids[0], train_labels[0]"
   ]
  },
  {
   "cell_type": "markdown",
   "metadata": {},
   "source": [
    "## Model building"
   ]
  },
  {
   "cell_type": "code",
   "execution_count": 112,
   "metadata": {
    "nbpresent": {
     "id": "4098aad1-cdf7-4282-ba3b-70897cdcfe1d"
    }
   },
   "outputs": [],
   "source": [
    "class BertLayer(Layer):\n",
    "    def __init__(self, output_representation='sequence_output', trainable=True, **kwargs):\n",
    "        self.bert = None\n",
    "        super(BertLayer, self).__init__(**kwargs)\n",
    "        \n",
    "        self.trainable = trainable\n",
    "        self.output_representation = output_representation\n",
    "\n",
    "    def build(self, input_shape):\n",
    "        # SetUp tensorflow Hub module\n",
    "        self.bert = hub.Module(bert_path,\n",
    "                               trainable=self.trainable, \n",
    "                               name=\"{}_module\".format(self.name))\n",
    "\n",
    "        # Assign module's trainable weights to model\n",
    "        # Remove unused layers and set trainable parameters\n",
    "        # s = [\"/cls/\", \"/pooler/\", 'layer_11', 'layer_10', 'layer_9', 'layer_8', 'layer_7', 'layer_6']\n",
    "        s = [\"/cls/\", \"/pooler/\"]\n",
    "        self.trainable_weights += [var for var in self.bert.variables[:] if not any(x in var.name for x in s)]\n",
    "            \n",
    "        for var in self.bert.variables:\n",
    "            if var not in self._trainable_weights:\n",
    "                self._non_trainable_weights.append(var)\n",
    "                \n",
    "        # See Trainable Variables\n",
    "        #tf.logging.info(\"**** Trainable Variables ****\")\n",
    "        #for var in self.trainable_weights:\n",
    "        #    init_string = \", *INIT_FROM_CKPT*\"\n",
    "        #    tf.logging.info(\"  name = %s, shape = %s%s\", var.name, var.shape, init_string)\n",
    "            \n",
    "        print('Trainable weights:',len(self.trainable_weights))\n",
    "        super(BertLayer, self).build(input_shape)\n",
    "\n",
    "    def call(self, inputs, mask=None):\n",
    "        inputs = [K.cast(x, dtype=\"int32\") for x in inputs]\n",
    "        input_ids, input_mask, segment_ids = inputs\n",
    "        bert_inputs = dict(\n",
    "            input_ids=input_ids, input_mask=input_mask, segment_ids=segment_ids\n",
    "        )\n",
    "        result = self.bert(inputs=bert_inputs, signature=\"tokens\", as_dict=True)[\n",
    "            self.output_representation\n",
    "        ]\n",
    "        return result\n",
    "\n",
    "    def compute_mask(self, inputs, mask=None):\n",
    "        return K.not_equal(inputs[0], 0.0)   \n",
    "\n",
    "    def compute_output_shape(self, input_shape):\n",
    "        if self.output_representation == 'pooled_output':\n",
    "            return (None, 768)\n",
    "        else:\n",
    "            return (None, None, 768)"
   ]
  },
  {
   "cell_type": "code",
   "execution_count": 52,
   "metadata": {
    "nbpresent": {
     "id": "177cc483-831b-4a10-b659-e1c6cf653877"
    }
   },
   "outputs": [],
   "source": [
    "#del model"
   ]
  },
  {
   "cell_type": "code",
   "execution_count": 113,
   "metadata": {
    "nbpresent": {
     "id": "08a4002f-f656-47f2-814d-447e0bd56858"
    }
   },
   "outputs": [],
   "source": [
    "# Build model\n",
    "def build_model(max_seq_length):\n",
    "    seed = 0 \n",
    "    in_id = keras.layers.Input(shape=(max_seq_length,), name=\"input_ids\")\n",
    "    in_mask = keras.layers.Input(shape=(max_seq_length,), name=\"input_masks\")\n",
    "    in_segment = keras.layers.Input(shape=(max_seq_length,), name=\"segment_ids\")\n",
    "    bert_inputs = [in_id, in_mask, in_segment]\n",
    "    \n",
    "    np.random.seed(seed)\n",
    "    bert_output = BertLayer()(bert_inputs)\n",
    "\n",
    "    np.random.seed(seed)\n",
    "    outputs = keras.layers.Dense(n_tags, activation=keras.activations.softmax)(bert_output)\n",
    "\n",
    "    np.random.seed(seed)\n",
    "    model = keras.models.Model(inputs=bert_inputs, outputs=outputs)\n",
    "    np.random.seed(seed)\n",
    "    model.compile(optimizer=keras.optimizers.Adam(lr=0.00004), loss=keras.losses.categorical_crossentropy, metrics=['accuracy'])   \n",
    "    model.summary(100)\n",
    "    return model\n",
    "\n",
    "def initialize_vars(sess):\n",
    "    sess.run(tf.local_variables_initializer())\n",
    "    sess.run(tf.global_variables_initializer())\n",
    "    sess.run(tf.tables_initializer())\n",
    "    K.set_session(sess)"
   ]
  },
  {
   "cell_type": "code",
   "execution_count": 114,
   "metadata": {
    "nbpresent": {
     "id": "c1391d48-0f3d-4b90-b1b4-4d8cae268050"
    }
   },
   "outputs": [
    {
     "name": "stdout",
     "output_type": "stream",
     "text": [
      "Trainable weights: 197\n"
     ]
    },
    {
     "name": "stderr",
     "output_type": "stream",
     "text": [
      "W0411 18:24:19.460079 126028 deprecation.py:506] From c:\\users\\pnedelev\\appdata\\local\\continuum\\anaconda3\\lib\\site-packages\\tensorflow_core\\python\\ops\\resource_variable_ops.py:1630: calling BaseResourceVariable.__init__ (from tensorflow.python.ops.resource_variable_ops) with constraint is deprecated and will be removed in a future version.\n",
      "Instructions for updating:\n",
      "If using Keras pass *_constraint arguments to layers.\n"
     ]
    },
    {
     "name": "stdout",
     "output_type": "stream",
     "text": [
      "Model: \"model_1\"\n",
      "____________________________________________________________________________________________________\n",
      "Layer (type)                     Output Shape          Param #     Connected to                     \n",
      "====================================================================================================\n",
      "input_ids (InputLayer)           (None, 72)            0                                            \n",
      "____________________________________________________________________________________________________\n",
      "input_masks (InputLayer)         (None, 72)            0                                            \n",
      "____________________________________________________________________________________________________\n",
      "segment_ids (InputLayer)         (None, 72)            0                                            \n",
      "____________________________________________________________________________________________________\n",
      "bert_layer_1 (BertLayer)         (None, None, 768)     178565115   input_ids[0][0]                  \n",
      "                                                                   input_masks[0][0]                \n",
      "                                                                   segment_ids[0][0]                \n",
      "____________________________________________________________________________________________________\n",
      "dense_1 (Dense)                  (None, None, 3)       2307        bert_layer_1[0][0]               \n",
      "====================================================================================================\n",
      "Total params: 178,567,422\n",
      "Trainable params: 177,265,155\n",
      "Non-trainable params: 1,302,267\n",
      "____________________________________________________________________________________________________\n"
     ]
    }
   ],
   "source": [
    "model = build_model(MAX_SEQUENCE_LENGTH+2) # We sum 2 for [CLS], [SEP] tokens"
   ]
  },
  {
   "cell_type": "code",
   "execution_count": 115,
   "metadata": {
    "scrolled": true
   },
   "outputs": [
    {
     "ename": "OSError",
     "evalue": "`pydot` failed to call GraphViz.Please install GraphViz (https://www.graphviz.org/) and ensure that its executables are in the $PATH.",
     "output_type": "error",
     "traceback": [
      "\u001b[1;31m---------------------------------------------------------------------------\u001b[0m",
      "\u001b[1;31mFileNotFoundError\u001b[0m                         Traceback (most recent call last)",
      "\u001b[1;32mc:\\users\\pnedelev\\appdata\\local\\continuum\\anaconda3\\lib\\site-packages\\pydot.py\u001b[0m in \u001b[0;36mcreate\u001b[1;34m(self, prog, format, encoding)\u001b[0m\n\u001b[0;32m   1914\u001b[0m                 \u001b[0marguments\u001b[0m\u001b[1;33m=\u001b[0m\u001b[0marguments\u001b[0m\u001b[1;33m,\u001b[0m\u001b[1;33m\u001b[0m\u001b[1;33m\u001b[0m\u001b[0m\n\u001b[1;32m-> 1915\u001b[1;33m                 \u001b[0mworking_dir\u001b[0m\u001b[1;33m=\u001b[0m\u001b[0mtmp_dir\u001b[0m\u001b[1;33m,\u001b[0m\u001b[1;33m\u001b[0m\u001b[1;33m\u001b[0m\u001b[0m\n\u001b[0m\u001b[0;32m   1916\u001b[0m             )\n",
      "\u001b[1;32mc:\\users\\pnedelev\\appdata\\local\\continuum\\anaconda3\\lib\\site-packages\\pydot.py\u001b[0m in \u001b[0;36mcall_graphviz\u001b[1;34m(program, arguments, working_dir, **kwargs)\u001b[0m\n\u001b[0;32m    135\u001b[0m         \u001b[0mstdout\u001b[0m\u001b[1;33m=\u001b[0m\u001b[0msubprocess\u001b[0m\u001b[1;33m.\u001b[0m\u001b[0mPIPE\u001b[0m\u001b[1;33m,\u001b[0m\u001b[1;33m\u001b[0m\u001b[1;33m\u001b[0m\u001b[0m\n\u001b[1;32m--> 136\u001b[1;33m         \u001b[1;33m**\u001b[0m\u001b[0mkwargs\u001b[0m\u001b[1;33m\u001b[0m\u001b[1;33m\u001b[0m\u001b[0m\n\u001b[0m\u001b[0;32m    137\u001b[0m     )\n",
      "\u001b[1;32mc:\\users\\pnedelev\\appdata\\local\\continuum\\anaconda3\\lib\\subprocess.py\u001b[0m in \u001b[0;36m__init__\u001b[1;34m(self, args, bufsize, executable, stdin, stdout, stderr, preexec_fn, close_fds, shell, cwd, env, universal_newlines, startupinfo, creationflags, restore_signals, start_new_session, pass_fds, encoding, errors, text)\u001b[0m\n\u001b[0;32m    774\u001b[0m                                 \u001b[0merrread\u001b[0m\u001b[1;33m,\u001b[0m \u001b[0merrwrite\u001b[0m\u001b[1;33m,\u001b[0m\u001b[1;33m\u001b[0m\u001b[1;33m\u001b[0m\u001b[0m\n\u001b[1;32m--> 775\u001b[1;33m                                 restore_signals, start_new_session)\n\u001b[0m\u001b[0;32m    776\u001b[0m         \u001b[1;32mexcept\u001b[0m\u001b[1;33m:\u001b[0m\u001b[1;33m\u001b[0m\u001b[1;33m\u001b[0m\u001b[0m\n",
      "\u001b[1;32mc:\\users\\pnedelev\\appdata\\local\\continuum\\anaconda3\\lib\\subprocess.py\u001b[0m in \u001b[0;36m_execute_child\u001b[1;34m(self, args, executable, preexec_fn, close_fds, pass_fds, cwd, env, startupinfo, creationflags, shell, p2cread, p2cwrite, c2pread, c2pwrite, errread, errwrite, unused_restore_signals, unused_start_new_session)\u001b[0m\n\u001b[0;32m   1177\u001b[0m                                          \u001b[0mos\u001b[0m\u001b[1;33m.\u001b[0m\u001b[0mfspath\u001b[0m\u001b[1;33m(\u001b[0m\u001b[0mcwd\u001b[0m\u001b[1;33m)\u001b[0m \u001b[1;32mif\u001b[0m \u001b[0mcwd\u001b[0m \u001b[1;32mis\u001b[0m \u001b[1;32mnot\u001b[0m \u001b[1;32mNone\u001b[0m \u001b[1;32melse\u001b[0m \u001b[1;32mNone\u001b[0m\u001b[1;33m,\u001b[0m\u001b[1;33m\u001b[0m\u001b[1;33m\u001b[0m\u001b[0m\n\u001b[1;32m-> 1178\u001b[1;33m                                          startupinfo)\n\u001b[0m\u001b[0;32m   1179\u001b[0m             \u001b[1;32mfinally\u001b[0m\u001b[1;33m:\u001b[0m\u001b[1;33m\u001b[0m\u001b[1;33m\u001b[0m\u001b[0m\n",
      "\u001b[1;31mFileNotFoundError\u001b[0m: [WinError 2] The system cannot find the file specified",
      "\nDuring handling of the above exception, another exception occurred:\n",
      "\u001b[1;31mFileNotFoundError\u001b[0m                         Traceback (most recent call last)",
      "\u001b[1;32mc:\\users\\pnedelev\\appdata\\local\\continuum\\anaconda3\\lib\\site-packages\\keras\\utils\\vis_utils.py\u001b[0m in \u001b[0;36m_check_pydot\u001b[1;34m()\u001b[0m\n\u001b[0;32m     27\u001b[0m         \u001b[1;31m# to check the pydot/graphviz installation.\u001b[0m\u001b[1;33m\u001b[0m\u001b[1;33m\u001b[0m\u001b[1;33m\u001b[0m\u001b[0m\n\u001b[1;32m---> 28\u001b[1;33m         \u001b[0mpydot\u001b[0m\u001b[1;33m.\u001b[0m\u001b[0mDot\u001b[0m\u001b[1;33m.\u001b[0m\u001b[0mcreate\u001b[0m\u001b[1;33m(\u001b[0m\u001b[0mpydot\u001b[0m\u001b[1;33m.\u001b[0m\u001b[0mDot\u001b[0m\u001b[1;33m(\u001b[0m\u001b[1;33m)\u001b[0m\u001b[1;33m)\u001b[0m\u001b[1;33m\u001b[0m\u001b[1;33m\u001b[0m\u001b[0m\n\u001b[0m\u001b[0;32m     29\u001b[0m     \u001b[1;32mexcept\u001b[0m \u001b[0mOSError\u001b[0m\u001b[1;33m:\u001b[0m\u001b[1;33m\u001b[0m\u001b[1;33m\u001b[0m\u001b[0m\n",
      "\u001b[1;32mc:\\users\\pnedelev\\appdata\\local\\continuum\\anaconda3\\lib\\site-packages\\pydot.py\u001b[0m in \u001b[0;36mcreate\u001b[1;34m(self, prog, format, encoding)\u001b[0m\n\u001b[0;32m   1921\u001b[0m                     prog=prog)\n\u001b[1;32m-> 1922\u001b[1;33m                 \u001b[1;32mraise\u001b[0m \u001b[0mOSError\u001b[0m\u001b[1;33m(\u001b[0m\u001b[1;33m*\u001b[0m\u001b[0margs\u001b[0m\u001b[1;33m)\u001b[0m\u001b[1;33m\u001b[0m\u001b[1;33m\u001b[0m\u001b[0m\n\u001b[0m\u001b[0;32m   1923\u001b[0m             \u001b[1;32melse\u001b[0m\u001b[1;33m:\u001b[0m\u001b[1;33m\u001b[0m\u001b[1;33m\u001b[0m\u001b[0m\n",
      "\u001b[1;31mFileNotFoundError\u001b[0m: [WinError 2] \"dot\" not found in path.",
      "\nDuring handling of the above exception, another exception occurred:\n",
      "\u001b[1;31mOSError\u001b[0m                                   Traceback (most recent call last)",
      "\u001b[1;32m<ipython-input-115-dd929bcf50a3>\u001b[0m in \u001b[0;36m<module>\u001b[1;34m\u001b[0m\n\u001b[1;32m----> 1\u001b[1;33m \u001b[0mplot_model\u001b[0m\u001b[1;33m(\u001b[0m\u001b[0mmodel\u001b[0m\u001b[1;33m,\u001b[0m \u001b[0mto_file\u001b[0m\u001b[1;33m=\u001b[0m\u001b[1;34m'model.png'\u001b[0m\u001b[1;33m,\u001b[0m \u001b[0mshow_shapes\u001b[0m\u001b[1;33m=\u001b[0m\u001b[1;32mTrue\u001b[0m\u001b[1;33m)\u001b[0m\u001b[1;33m\u001b[0m\u001b[1;33m\u001b[0m\u001b[0m\n\u001b[0m\u001b[0;32m      2\u001b[0m \u001b[0mImage\u001b[0m\u001b[1;33m(\u001b[0m\u001b[1;34m'model.png'\u001b[0m\u001b[1;33m)\u001b[0m\u001b[1;33m\u001b[0m\u001b[1;33m\u001b[0m\u001b[0m\n",
      "\u001b[1;32mc:\\users\\pnedelev\\appdata\\local\\continuum\\anaconda3\\lib\\site-packages\\keras\\utils\\vis_utils.py\u001b[0m in \u001b[0;36mplot_model\u001b[1;34m(model, to_file, show_shapes, show_layer_names, rankdir, expand_nested, dpi)\u001b[0m\n\u001b[0;32m    238\u001b[0m     \"\"\"\n\u001b[0;32m    239\u001b[0m     dot = model_to_dot(model, show_shapes, show_layer_names, rankdir,\n\u001b[1;32m--> 240\u001b[1;33m                        expand_nested, dpi)\n\u001b[0m\u001b[0;32m    241\u001b[0m     \u001b[0m_\u001b[0m\u001b[1;33m,\u001b[0m \u001b[0mextension\u001b[0m \u001b[1;33m=\u001b[0m \u001b[0mos\u001b[0m\u001b[1;33m.\u001b[0m\u001b[0mpath\u001b[0m\u001b[1;33m.\u001b[0m\u001b[0msplitext\u001b[0m\u001b[1;33m(\u001b[0m\u001b[0mto_file\u001b[0m\u001b[1;33m)\u001b[0m\u001b[1;33m\u001b[0m\u001b[1;33m\u001b[0m\u001b[0m\n\u001b[0;32m    242\u001b[0m     \u001b[1;32mif\u001b[0m \u001b[1;32mnot\u001b[0m \u001b[0mextension\u001b[0m\u001b[1;33m:\u001b[0m\u001b[1;33m\u001b[0m\u001b[1;33m\u001b[0m\u001b[0m\n",
      "\u001b[1;32mc:\\users\\pnedelev\\appdata\\local\\continuum\\anaconda3\\lib\\site-packages\\keras\\utils\\vis_utils.py\u001b[0m in \u001b[0;36mmodel_to_dot\u001b[1;34m(model, show_shapes, show_layer_names, rankdir, expand_nested, dpi, subgraph)\u001b[0m\n\u001b[0;32m     77\u001b[0m     \u001b[1;32mfrom\u001b[0m \u001b[1;33m.\u001b[0m\u001b[1;33m.\u001b[0m\u001b[0mmodels\u001b[0m \u001b[1;32mimport\u001b[0m \u001b[0mSequential\u001b[0m\u001b[1;33m\u001b[0m\u001b[1;33m\u001b[0m\u001b[0m\n\u001b[0;32m     78\u001b[0m \u001b[1;33m\u001b[0m\u001b[0m\n\u001b[1;32m---> 79\u001b[1;33m     \u001b[0m_check_pydot\u001b[0m\u001b[1;33m(\u001b[0m\u001b[1;33m)\u001b[0m\u001b[1;33m\u001b[0m\u001b[1;33m\u001b[0m\u001b[0m\n\u001b[0m\u001b[0;32m     80\u001b[0m     \u001b[1;32mif\u001b[0m \u001b[0msubgraph\u001b[0m\u001b[1;33m:\u001b[0m\u001b[1;33m\u001b[0m\u001b[1;33m\u001b[0m\u001b[0m\n\u001b[0;32m     81\u001b[0m         \u001b[0mdot\u001b[0m \u001b[1;33m=\u001b[0m \u001b[0mpydot\u001b[0m\u001b[1;33m.\u001b[0m\u001b[0mCluster\u001b[0m\u001b[1;33m(\u001b[0m\u001b[0mstyle\u001b[0m\u001b[1;33m=\u001b[0m\u001b[1;34m'dashed'\u001b[0m\u001b[1;33m,\u001b[0m \u001b[0mgraph_name\u001b[0m\u001b[1;33m=\u001b[0m\u001b[0mmodel\u001b[0m\u001b[1;33m.\u001b[0m\u001b[0mname\u001b[0m\u001b[1;33m)\u001b[0m\u001b[1;33m\u001b[0m\u001b[1;33m\u001b[0m\u001b[0m\n",
      "\u001b[1;32mc:\\users\\pnedelev\\appdata\\local\\continuum\\anaconda3\\lib\\site-packages\\keras\\utils\\vis_utils.py\u001b[0m in \u001b[0;36m_check_pydot\u001b[1;34m()\u001b[0m\n\u001b[0;32m     29\u001b[0m     \u001b[1;32mexcept\u001b[0m \u001b[0mOSError\u001b[0m\u001b[1;33m:\u001b[0m\u001b[1;33m\u001b[0m\u001b[1;33m\u001b[0m\u001b[0m\n\u001b[0;32m     30\u001b[0m         raise OSError(\n\u001b[1;32m---> 31\u001b[1;33m             \u001b[1;34m'`pydot` failed to call GraphViz.'\u001b[0m\u001b[1;33m\u001b[0m\u001b[1;33m\u001b[0m\u001b[0m\n\u001b[0m\u001b[0;32m     32\u001b[0m             \u001b[1;34m'Please install GraphViz (https://www.graphviz.org/) '\u001b[0m\u001b[1;33m\u001b[0m\u001b[1;33m\u001b[0m\u001b[0m\n\u001b[0;32m     33\u001b[0m             'and ensure that its executables are in the $PATH.')\n",
      "\u001b[1;31mOSError\u001b[0m: `pydot` failed to call GraphViz.Please install GraphViz (https://www.graphviz.org/) and ensure that its executables are in the $PATH."
     ]
    }
   ],
   "source": [
    "plot_model(model, to_file='model.png', show_shapes=True)\n",
    "Image('model.png')"
   ]
  },
  {
   "cell_type": "code",
   "execution_count": 116,
   "metadata": {
    "nbpresent": {
     "id": "e5b1510d-5965-4f77-8c1c-a019bb081441"
    }
   },
   "outputs": [
    {
     "data": {
      "text/plain": [
       "(1908, 72)"
      ]
     },
     "execution_count": 116,
     "metadata": {},
     "output_type": "execute_result"
    }
   ],
   "source": [
    "train_input_ids.shape"
   ]
  },
  {
   "cell_type": "code",
   "execution_count": 117,
   "metadata": {
    "nbpresent": {
     "id": "e2ced586-54d2-4f87-87b4-11447a074836"
    }
   },
   "outputs": [
    {
     "data": {
      "text/plain": [
       "(1908, 72)"
      ]
     },
     "execution_count": 117,
     "metadata": {},
     "output_type": "execute_result"
    }
   ],
   "source": [
    "train_input_masks.shape"
   ]
  },
  {
   "cell_type": "code",
   "execution_count": 118,
   "metadata": {
    "nbpresent": {
     "id": "d4e8c809-bc83-428b-824d-4640127d0a6f"
    }
   },
   "outputs": [
    {
     "data": {
      "text/plain": [
       "(1908, 72)"
      ]
     },
     "execution_count": 118,
     "metadata": {},
     "output_type": "execute_result"
    }
   ],
   "source": [
    "train_segment_ids.shape"
   ]
  },
  {
   "cell_type": "code",
   "execution_count": 119,
   "metadata": {},
   "outputs": [
    {
     "data": {
      "text/plain": [
       "(1908, 72, 3)"
      ]
     },
     "execution_count": 119,
     "metadata": {},
     "output_type": "execute_result"
    }
   ],
   "source": [
    "train_labels.shape"
   ]
  },
  {
   "cell_type": "markdown",
   "metadata": {},
   "source": [
    "## Model training (BERT fine-tuning)"
   ]
  },
  {
   "cell_type": "code",
   "execution_count": 120,
   "metadata": {},
   "outputs": [],
   "source": [
    "initialize_vars(sess)"
   ]
  },
  {
   "cell_type": "code",
   "execution_count": 121,
   "metadata": {
    "nbpresent": {
     "id": "fc7dd289-a946-479a-838e-e25e6384f16a"
    }
   },
   "outputs": [
    {
     "name": "stderr",
     "output_type": "stream",
     "text": [
      "W0411 18:25:24.001424 126028 deprecation.py:323] From c:\\users\\pnedelev\\appdata\\local\\continuum\\anaconda3\\lib\\site-packages\\tensorflow_core\\python\\ops\\math_grad.py:1424: where (from tensorflow.python.ops.array_ops) is deprecated and will be removed in a future version.\n",
      "Instructions for updating:\n",
      "Use tf.where in 2.0, which has the same broadcast rule as np.where\n",
      "c:\\users\\pnedelev\\appdata\\local\\continuum\\anaconda3\\lib\\site-packages\\tensorflow_core\\python\\framework\\indexed_slices.py:424: UserWarning: Converting sparse IndexedSlices to a dense Tensor of unknown shape. This may consume a large amount of memory.\n",
      "  \"Converting sparse IndexedSlices to a dense Tensor of unknown shape. \"\n",
      "W0411 18:25:51.783643 126028 module_wrapper.py:139] From c:\\users\\pnedelev\\appdata\\local\\continuum\\anaconda3\\lib\\site-packages\\keras\\backend\\tensorflow_backend.py:422: The name tf.global_variables is deprecated. Please use tf.compat.v1.global_variables instead.\n",
      "\n",
      "W0411 18:25:51.786636 126028 module_wrapper.py:139] From c:\\users\\pnedelev\\appdata\\local\\continuum\\anaconda3\\lib\\site-packages\\keras\\backend\\tensorflow_backend.py:431: The name tf.is_variable_initialized is deprecated. Please use tf.compat.v1.is_variable_initialized instead.\n",
      "\n"
     ]
    },
    {
     "name": "stdout",
     "output_type": "stream",
     "text": [
      "Train on 1908 samples, validate on 477 samples\n",
      "Epoch 1/30\n",
      "1908/1908 [==============================] - ETA: 52:04 - loss: 0.2790 - accuracy: 0.290 - ETA: 43:40 - loss: 0.2062 - accuracy: 0.502 - ETA: 39:20 - loss: 0.1793 - accuracy: 0.582 - ETA: 36:17 - loss: 0.1787 - accuracy: 0.633 - ETA: 34:40 - loss: 0.1680 - accuracy: 0.666 - ETA: 33:37 - loss: 0.1565 - accuracy: 0.709 - ETA: 32:29 - loss: 0.1482 - accuracy: 0.740 - ETA: 31:05 - loss: 0.1388 - accuracy: 0.766 - ETA: 29:54 - loss: 0.1312 - accuracy: 0.778 - ETA: 28:54 - loss: 0.1240 - accuracy: 0.789 - ETA: 28:11 - loss: 0.1171 - accuracy: 0.797 - ETA: 28:00 - loss: 0.1109 - accuracy: 0.807 - ETA: 27:30 - loss: 0.1079 - accuracy: 0.815 - ETA: 26:53 - loss: 0.1030 - accuracy: 0.822 - ETA: 26:21 - loss: 0.0983 - accuracy: 0.829 - ETA: 25:52 - loss: 0.0943 - accuracy: 0.836 - ETA: 25:26 - loss: 0.0913 - accuracy: 0.840 - ETA: 24:56 - loss: 0.0880 - accuracy: 0.845 - ETA: 24:34 - loss: 0.0851 - accuracy: 0.849 - ETA: 24:20 - loss: 0.0827 - accuracy: 0.855 - ETA: 24:09 - loss: 0.0799 - accuracy: 0.861 - ETA: 23:51 - loss: 0.0775 - accuracy: 0.866 - ETA: 23:27 - loss: 0.0747 - accuracy: 0.869 - ETA: 23:05 - loss: 0.0726 - accuracy: 0.872 - ETA: 22:46 - loss: 0.0704 - accuracy: 0.875 - ETA: 22:23 - loss: 0.0687 - accuracy: 0.878 - ETA: 22:03 - loss: 0.0671 - accuracy: 0.881 - ETA: 21:45 - loss: 0.0657 - accuracy: 0.884 - ETA: 21:25 - loss: 0.0643 - accuracy: 0.886 - ETA: 21:08 - loss: 0.0628 - accuracy: 0.890 - ETA: 20:52 - loss: 0.0611 - accuracy: 0.892 - ETA: 20:35 - loss: 0.0594 - accuracy: 0.895 - ETA: 20:16 - loss: 0.0582 - accuracy: 0.897 - ETA: 20:01 - loss: 0.0570 - accuracy: 0.899 - ETA: 19:46 - loss: 0.0560 - accuracy: 0.902 - ETA: 19:28 - loss: 0.0548 - accuracy: 0.904 - ETA: 19:12 - loss: 0.0538 - accuracy: 0.906 - ETA: 18:55 - loss: 0.0527 - accuracy: 0.908 - ETA: 18:38 - loss: 0.0517 - accuracy: 0.910 - ETA: 18:22 - loss: 0.0507 - accuracy: 0.912 - ETA: 18:06 - loss: 0.0500 - accuracy: 0.914 - ETA: 17:51 - loss: 0.0491 - accuracy: 0.915 - ETA: 17:37 - loss: 0.0482 - accuracy: 0.917 - ETA: 17:24 - loss: 0.0473 - accuracy: 0.919 - ETA: 17:09 - loss: 0.0465 - accuracy: 0.920 - ETA: 16:57 - loss: 0.0456 - accuracy: 0.921 - ETA: 16:46 - loss: 0.0449 - accuracy: 0.922 - ETA: 16:33 - loss: 0.0442 - accuracy: 0.924 - ETA: 16:19 - loss: 0.0435 - accuracy: 0.925 - ETA: 16:04 - loss: 0.0431 - accuracy: 0.925 - ETA: 15:49 - loss: 0.0425 - accuracy: 0.927 - ETA: 15:34 - loss: 0.0422 - accuracy: 0.927 - ETA: 15:18 - loss: 0.0417 - accuracy: 0.928 - ETA: 15:03 - loss: 0.0414 - accuracy: 0.929 - ETA: 14:49 - loss: 0.0408 - accuracy: 0.930 - ETA: 14:34 - loss: 0.0402 - accuracy: 0.931 - ETA: 14:19 - loss: 0.0398 - accuracy: 0.932 - ETA: 14:04 - loss: 0.0394 - accuracy: 0.933 - ETA: 13:49 - loss: 0.0390 - accuracy: 0.934 - ETA: 13:34 - loss: 0.0385 - accuracy: 0.935 - ETA: 13:19 - loss: 0.0380 - accuracy: 0.936 - ETA: 13:05 - loss: 0.0376 - accuracy: 0.936 - ETA: 12:52 - loss: 0.0372 - accuracy: 0.937 - ETA: 12:38 - loss: 0.0368 - accuracy: 0.938 - ETA: 12:24 - loss: 0.0364 - accuracy: 0.939 - ETA: 12:10 - loss: 0.0360 - accuracy: 0.939 - ETA: 11:55 - loss: 0.0356 - accuracy: 0.940 - ETA: 11:42 - loss: 0.0351 - accuracy: 0.941 - ETA: 11:28 - loss: 0.0347 - accuracy: 0.942 - ETA: 11:13 - loss: 0.0344 - accuracy: 0.942 - ETA: 10:59 - loss: 0.0341 - accuracy: 0.943 - ETA: 10:44 - loss: 0.0337 - accuracy: 0.944 - ETA: 10:30 - loss: 0.0334 - accuracy: 0.944 - ETA: 10:15 - loss: 0.0331 - accuracy: 0.945 - ETA: 10:00 - loss: 0.0327 - accuracy: 0.945 - ETA: 9:46 - loss: 0.0325 - accuracy: 0.945 - ETA: 9:32 - loss: 0.0321 - accuracy: 0.94 - ETA: 9:18 - loss: 0.0319 - accuracy: 0.94 - ETA: 9:04 - loss: 0.0316 - accuracy: 0.94 - ETA: 8:50 - loss: 0.0313 - accuracy: 0.94 - ETA: 8:36 - loss: 0.0310 - accuracy: 0.94 - ETA: 8:22 - loss: 0.0308 - accuracy: 0.94 - ETA: 8:08 - loss: 0.0305 - accuracy: 0.94 - ETA: 7:54 - loss: 0.0302 - accuracy: 0.95 - ETA: 7:40 - loss: 0.0300 - accuracy: 0.95 - ETA: 7:26 - loss: 0.0297 - accuracy: 0.95 - ETA: 7:12 - loss: 0.0296 - accuracy: 0.95 - ETA: 6:58 - loss: 0.0294 - accuracy: 0.95 - ETA: 6:45 - loss: 0.0291 - accuracy: 0.95 - ETA: 6:31 - loss: 0.0288 - accuracy: 0.95 - ETA: 6:17 - loss: 0.0286 - accuracy: 0.95 - ETA: 6:04 - loss: 0.0283 - accuracy: 0.95 - ETA: 5:50 - loss: 0.0282 - accuracy: 0.95 - ETA: 5:37 - loss: 0.0279 - accuracy: 0.95 - ETA: 5:23 - loss: 0.0276 - accuracy: 0.95 - ETA: 5:09 - loss: 0.0274 - accuracy: 0.95 - ETA: 4:56 - loss: 0.0272 - accuracy: 0.95 - ETA: 4:42 - loss: 0.0270 - accuracy: 0.95 - ETA: 4:29 - loss: 0.0268 - accuracy: 0.95 - ETA: 4:16 - loss: 0.0266 - accuracy: 0.95 - ETA: 4:02 - loss: 0.0263 - accuracy: 0.95 - ETA: 3:49 - loss: 0.0261 - accuracy: 0.95 - ETA: 3:35 - loss: 0.0259 - accuracy: 0.95 - ETA: 3:21 - loss: 0.0257 - accuracy: 0.95 - ETA: 3:08 - loss: 0.0256 - accuracy: 0.95 - ETA: 2:55 - loss: 0.0255 - accuracy: 0.95 - ETA: 2:41 - loss: 0.0254 - accuracy: 0.95 - ETA: 2:28 - loss: 0.0254 - accuracy: 0.95 - ETA: 2:15 - loss: 0.0252 - accuracy: 0.95 - ETA: 2:01 - loss: 0.0250 - accuracy: 0.95 - ETA: 1:48 - loss: 0.0248 - accuracy: 0.95 - ETA: 1:35 - loss: 0.0247 - accuracy: 0.95 - ETA: 1:22 - loss: 0.0246 - accuracy: 0.95 - ETA: 1:08 - loss: 0.0245 - accuracy: 0.95 - ETA: 55s - loss: 0.0244 - accuracy: 0.9600 - ETA: 42s - loss: 0.0242 - accuracy: 0.960 - ETA: 29s - loss: 0.0240 - accuracy: 0.960 - ETA: 16s - loss: 0.0240 - accuracy: 0.960 - ETA: 3s - loss: 0.0238 - accuracy: 0.960 - 1656s 868ms/step - loss: 0.0238 - accuracy: 0.9608 - val_loss: 0.0099 - val_accuracy: 0.9832\n"
     ]
    },
    {
     "name": "stderr",
     "output_type": "stream",
     "text": [
      "c:\\users\\pnedelev\\appdata\\local\\continuum\\anaconda3\\lib\\site-packages\\keras\\callbacks\\callbacks.py:707: RuntimeWarning: Can save best model only with val_acc available, skipping.\n",
      "  'skipping.' % (self.monitor), RuntimeWarning)\n",
      "c:\\users\\pnedelev\\appdata\\local\\continuum\\anaconda3\\lib\\site-packages\\keras\\callbacks\\callbacks.py:846: RuntimeWarning: Early stopping conditioned on metric `val_acc` which is not available. Available metrics are: val_loss,val_accuracy,loss,accuracy\n",
      "  (self.monitor, ','.join(list(logs.keys()))), RuntimeWarning\n"
     ]
    },
    {
     "name": "stdout",
     "output_type": "stream",
     "text": [
      "Epoch 2/30\n",
      "1908/1908 [==============================] - ETA: 26:15 - loss: 0.0031 - accuracy: 0.996 - ETA: 25:12 - loss: 0.0046 - accuracy: 0.995 - ETA: 24:31 - loss: 0.0056 - accuracy: 0.993 - ETA: 23:47 - loss: 0.0051 - accuracy: 0.993 - ETA: 23:26 - loss: 0.0056 - accuracy: 0.992 - ETA: 23:31 - loss: 0.0069 - accuracy: 0.990 - ETA: 23:47 - loss: 0.0068 - accuracy: 0.989 - ETA: 23:47 - loss: 0.0070 - accuracy: 0.988 - ETA: 23:45 - loss: 0.0063 - accuracy: 0.989 - ETA: 23:18 - loss: 0.0061 - accuracy: 0.989 - ETA: 22:55 - loss: 0.0060 - accuracy: 0.989 - ETA: 22:28 - loss: 0.0057 - accuracy: 0.990 - ETA: 22:12 - loss: 0.0057 - accuracy: 0.990 - ETA: 21:55 - loss: 0.0054 - accuracy: 0.991 - ETA: 21:32 - loss: 0.0052 - accuracy: 0.991 - ETA: 21:18 - loss: 0.0050 - accuracy: 0.991 - ETA: 21:02 - loss: 0.0049 - accuracy: 0.991 - ETA: 20:45 - loss: 0.0050 - accuracy: 0.991 - ETA: 20:28 - loss: 0.0048 - accuracy: 0.991 - ETA: 20:15 - loss: 0.0051 - accuracy: 0.991 - ETA: 20:02 - loss: 0.0051 - accuracy: 0.991 - ETA: 19:46 - loss: 0.0051 - accuracy: 0.991 - ETA: 19:28 - loss: 0.0051 - accuracy: 0.991 - ETA: 19:11 - loss: 0.0050 - accuracy: 0.991 - ETA: 18:57 - loss: 0.0051 - accuracy: 0.991 - ETA: 18:43 - loss: 0.0050 - accuracy: 0.991 - ETA: 18:26 - loss: 0.0050 - accuracy: 0.991 - ETA: 18:11 - loss: 0.0049 - accuracy: 0.991 - ETA: 17:56 - loss: 0.0049 - accuracy: 0.991 - ETA: 17:43 - loss: 0.0048 - accuracy: 0.991 - ETA: 17:32 - loss: 0.0048 - accuracy: 0.991 - ETA: 17:18 - loss: 0.0048 - accuracy: 0.991 - ETA: 17:06 - loss: 0.0049 - accuracy: 0.991 - ETA: 16:54 - loss: 0.0049 - accuracy: 0.991 - ETA: 16:44 - loss: 0.0050 - accuracy: 0.990 - ETA: 16:30 - loss: 0.0051 - accuracy: 0.990 - ETA: 16:19 - loss: 0.0050 - accuracy: 0.990 - ETA: 16:08 - loss: 0.0050 - accuracy: 0.990 - ETA: 15:58 - loss: 0.0049 - accuracy: 0.991 - ETA: 15:48 - loss: 0.0048 - accuracy: 0.991 - ETA: 15:38 - loss: 0.0048 - accuracy: 0.991 - ETA: 15:27 - loss: 0.0048 - accuracy: 0.991 - ETA: 15:17 - loss: 0.0047 - accuracy: 0.991 - ETA: 15:03 - loss: 0.0048 - accuracy: 0.991 - ETA: 14:50 - loss: 0.0047 - accuracy: 0.991 - ETA: 14:35 - loss: 0.0047 - accuracy: 0.991 - ETA: 14:21 - loss: 0.0046 - accuracy: 0.991 - ETA: 14:08 - loss: 0.0047 - accuracy: 0.991 - ETA: 13:56 - loss: 0.0046 - accuracy: 0.992 - ETA: 13:43 - loss: 0.0045 - accuracy: 0.992 - ETA: 13:30 - loss: 0.0044 - accuracy: 0.992 - ETA: 13:17 - loss: 0.0046 - accuracy: 0.992 - ETA: 13:05 - loss: 0.0046 - accuracy: 0.992 - ETA: 12:53 - loss: 0.0047 - accuracy: 0.992 - ETA: 12:41 - loss: 0.0047 - accuracy: 0.992 - ETA: 12:29 - loss: 0.0046 - accuracy: 0.992 - ETA: 12:17 - loss: 0.0046 - accuracy: 0.992 - ETA: 12:04 - loss: 0.0046 - accuracy: 0.992 - ETA: 11:52 - loss: 0.0046 - accuracy: 0.992 - ETA: 11:41 - loss: 0.0046 - accuracy: 0.992 - ETA: 11:29 - loss: 0.0051 - accuracy: 0.991 - ETA: 11:18 - loss: 0.0050 - accuracy: 0.991 - ETA: 11:07 - loss: 0.0050 - accuracy: 0.992 - ETA: 10:56 - loss: 0.0050 - accuracy: 0.992 - ETA: 10:44 - loss: 0.0051 - accuracy: 0.991 - ETA: 10:32 - loss: 0.0050 - accuracy: 0.991 - ETA: 10:21 - loss: 0.0050 - accuracy: 0.991 - ETA: 10:09 - loss: 0.0049 - accuracy: 0.992 - ETA: 9:57 - loss: 0.0049 - accuracy: 0.992 - ETA: 9:46 - loss: 0.0050 - accuracy: 0.99 - ETA: 9:34 - loss: 0.0050 - accuracy: 0.99 - ETA: 9:22 - loss: 0.0050 - accuracy: 0.99 - ETA: 9:11 - loss: 0.0050 - accuracy: 0.99 - ETA: 8:59 - loss: 0.0051 - accuracy: 0.99 - ETA: 8:47 - loss: 0.0051 - accuracy: 0.99 - ETA: 8:35 - loss: 0.0051 - accuracy: 0.99 - ETA: 8:23 - loss: 0.0052 - accuracy: 0.99 - ETA: 8:11 - loss: 0.0052 - accuracy: 0.99 - ETA: 7:59 - loss: 0.0053 - accuracy: 0.99 - ETA: 7:47 - loss: 0.0052 - accuracy: 0.99 - ETA: 7:36 - loss: 0.0052 - accuracy: 0.99 - ETA: 7:24 - loss: 0.0052 - accuracy: 0.99 - ETA: 7:12 - loss: 0.0052 - accuracy: 0.99 - ETA: 7:01 - loss: 0.0053 - accuracy: 0.99 - ETA: 6:50 - loss: 0.0053 - accuracy: 0.99 - ETA: 6:38 - loss: 0.0053 - accuracy: 0.99 - ETA: 6:26 - loss: 0.0053 - accuracy: 0.99 - ETA: 6:15 - loss: 0.0053 - accuracy: 0.99 - ETA: 6:03 - loss: 0.0053 - accuracy: 0.99 - ETA: 5:51 - loss: 0.0053 - accuracy: 0.99 - ETA: 5:39 - loss: 0.0053 - accuracy: 0.99 - ETA: 5:27 - loss: 0.0053 - accuracy: 0.99 - ETA: 5:15 - loss: 0.0053 - accuracy: 0.99 - ETA: 5:03 - loss: 0.0053 - accuracy: 0.99 - ETA: 4:51 - loss: 0.0052 - accuracy: 0.99 - ETA: 4:39 - loss: 0.0052 - accuracy: 0.99 - ETA: 4:27 - loss: 0.0052 - accuracy: 0.99 - ETA: 4:15 - loss: 0.0053 - accuracy: 0.99 - ETA: 4:03 - loss: 0.0052 - accuracy: 0.99 - ETA: 3:51 - loss: 0.0053 - accuracy: 0.99 - ETA: 3:39 - loss: 0.0053 - accuracy: 0.99 - ETA: 3:27 - loss: 0.0052 - accuracy: 0.99 - ETA: 3:14 - loss: 0.0052 - accuracy: 0.99 - ETA: 3:02 - loss: 0.0052 - accuracy: 0.99 - ETA: 2:51 - loss: 0.0051 - accuracy: 0.99 - ETA: 2:39 - loss: 0.0051 - accuracy: 0.99 - ETA: 2:27 - loss: 0.0051 - accuracy: 0.99 - ETA: 2:15 - loss: 0.0052 - accuracy: 0.99 - ETA: 2:03 - loss: 0.0051 - accuracy: 0.99 - ETA: 1:51 - loss: 0.0051 - accuracy: 0.99 - ETA: 1:39 - loss: 0.0051 - accuracy: 0.99 - ETA: 1:27 - loss: 0.0051 - accuracy: 0.99 - ETA: 1:15 - loss: 0.0052 - accuracy: 0.99 - ETA: 1:03 - loss: 0.0051 - accuracy: 0.99 - ETA: 51s - loss: 0.0051 - accuracy: 0.9920 - ETA: 39s - loss: 0.0051 - accuracy: 0.992 - ETA: 27s - loss: 0.0051 - accuracy: 0.992 - ETA: 15s - loss: 0.0051 - accuracy: 0.992 - ETA: 3s - loss: 0.0051 - accuracy: 0.991 - 1533s 803ms/step - loss: 0.0051 - accuracy: 0.9919 - val_loss: 0.0090 - val_accuracy: 0.9856\n",
      "Epoch 3/30\n"
     ]
    },
    {
     "name": "stdout",
     "output_type": "stream",
     "text": [
      "1908/1908 [==============================] - ETA: 23:09 - loss: 0.0026 - accuracy: 0.984 - ETA: 22:59 - loss: 0.0015 - accuracy: 0.992 - ETA: 22:48 - loss: 0.0026 - accuracy: 0.993 - ETA: 22:47 - loss: 0.0021 - accuracy: 0.995 - ETA: 22:50 - loss: 0.0018 - accuracy: 0.996 - ETA: 22:37 - loss: 0.0016 - accuracy: 0.996 - ETA: 22:37 - loss: 0.0014 - accuracy: 0.997 - ETA: 22:23 - loss: 0.0015 - accuracy: 0.997 - ETA: 22:14 - loss: 0.0014 - accuracy: 0.997 - ETA: 22:00 - loss: 0.0015 - accuracy: 0.997 - ETA: 21:44 - loss: 0.0015 - accuracy: 0.997 - ETA: 21:28 - loss: 0.0014 - accuracy: 0.997 - ETA: 21:15 - loss: 0.0014 - accuracy: 0.998 - ETA: 21:05 - loss: 0.0015 - accuracy: 0.997 - ETA: 20:52 - loss: 0.0014 - accuracy: 0.997 - ETA: 20:39 - loss: 0.0019 - accuracy: 0.997 - ETA: 20:31 - loss: 0.0019 - accuracy: 0.997 - ETA: 20:18 - loss: 0.0020 - accuracy: 0.996 - ETA: 20:06 - loss: 0.0020 - accuracy: 0.996 - ETA: 19:54 - loss: 0.0021 - accuracy: 0.996 - ETA: 19:42 - loss: 0.0020 - accuracy: 0.996 - ETA: 19:31 - loss: 0.0020 - accuracy: 0.996 - ETA: 19:17 - loss: 0.0019 - accuracy: 0.996 - ETA: 19:02 - loss: 0.0019 - accuracy: 0.996 - ETA: 18:50 - loss: 0.0020 - accuracy: 0.996 - ETA: 18:37 - loss: 0.0020 - accuracy: 0.996 - ETA: 18:27 - loss: 0.0019 - accuracy: 0.996 - ETA: 18:14 - loss: 0.0019 - accuracy: 0.996 - ETA: 18:04 - loss: 0.0019 - accuracy: 0.996 - ETA: 17:52 - loss: 0.0019 - accuracy: 0.996 - ETA: 17:39 - loss: 0.0018 - accuracy: 0.996 - ETA: 17:28 - loss: 0.0019 - accuracy: 0.996 - ETA: 17:15 - loss: 0.0018 - accuracy: 0.996 - ETA: 17:03 - loss: 0.0018 - accuracy: 0.996 - ETA: 16:53 - loss: 0.0018 - accuracy: 0.996 - ETA: 16:43 - loss: 0.0018 - accuracy: 0.996 - ETA: 16:33 - loss: 0.0019 - accuracy: 0.996 - ETA: 16:20 - loss: 0.0018 - accuracy: 0.996 - ETA: 16:08 - loss: 0.0018 - accuracy: 0.996 - ETA: 15:56 - loss: 0.0017 - accuracy: 0.996 - ETA: 15:44 - loss: 0.0017 - accuracy: 0.996 - ETA: 15:33 - loss: 0.0017 - accuracy: 0.997 - ETA: 15:20 - loss: 0.0017 - accuracy: 0.997 - ETA: 15:08 - loss: 0.0017 - accuracy: 0.996 - ETA: 14:56 - loss: 0.0019 - accuracy: 0.996 - ETA: 14:43 - loss: 0.0018 - accuracy: 0.996 - ETA: 14:31 - loss: 0.0018 - accuracy: 0.996 - ETA: 14:18 - loss: 0.0018 - accuracy: 0.996 - ETA: 14:06 - loss: 0.0018 - accuracy: 0.996 - ETA: 13:53 - loss: 0.0018 - accuracy: 0.996 - ETA: 13:41 - loss: 0.0018 - accuracy: 0.996 - ETA: 13:29 - loss: 0.0018 - accuracy: 0.996 - ETA: 13:18 - loss: 0.0018 - accuracy: 0.997 - ETA: 13:05 - loss: 0.0018 - accuracy: 0.997 - ETA: 12:54 - loss: 0.0018 - accuracy: 0.997 - ETA: 12:42 - loss: 0.0019 - accuracy: 0.997 - ETA: 12:30 - loss: 0.0019 - accuracy: 0.996 - ETA: 12:18 - loss: 0.0019 - accuracy: 0.996 - ETA: 12:06 - loss: 0.0019 - accuracy: 0.996 - ETA: 11:54 - loss: 0.0019 - accuracy: 0.996 - ETA: 11:42 - loss: 0.0019 - accuracy: 0.996 - ETA: 11:30 - loss: 0.0019 - accuracy: 0.996 - ETA: 11:17 - loss: 0.0019 - accuracy: 0.996 - ETA: 11:05 - loss: 0.0019 - accuracy: 0.997 - ETA: 10:53 - loss: 0.0019 - accuracy: 0.997 - ETA: 10:42 - loss: 0.0019 - accuracy: 0.997 - ETA: 10:30 - loss: 0.0019 - accuracy: 0.997 - ETA: 10:17 - loss: 0.0019 - accuracy: 0.997 - ETA: 10:05 - loss: 0.0018 - accuracy: 0.997 - ETA: 9:54 - loss: 0.0018 - accuracy: 0.997 - ETA: 9:42 - loss: 0.0018 - accuracy: 0.99 - ETA: 9:30 - loss: 0.0018 - accuracy: 0.99 - ETA: 9:18 - loss: 0.0018 - accuracy: 0.99 - ETA: 9:06 - loss: 0.0018 - accuracy: 0.99 - ETA: 8:54 - loss: 0.0018 - accuracy: 0.99 - ETA: 8:42 - loss: 0.0019 - accuracy: 0.99 - ETA: 8:30 - loss: 0.0019 - accuracy: 0.99 - ETA: 8:18 - loss: 0.0019 - accuracy: 0.99 - ETA: 8:06 - loss: 0.0019 - accuracy: 0.99 - ETA: 7:54 - loss: 0.0018 - accuracy: 0.99 - ETA: 7:41 - loss: 0.0019 - accuracy: 0.99 - ETA: 7:29 - loss: 0.0019 - accuracy: 0.99 - ETA: 7:17 - loss: 0.0019 - accuracy: 0.99 - ETA: 7:05 - loss: 0.0019 - accuracy: 0.99 - ETA: 6:53 - loss: 0.0019 - accuracy: 0.99 - ETA: 6:41 - loss: 0.0019 - accuracy: 0.99 - ETA: 6:29 - loss: 0.0018 - accuracy: 0.99 - ETA: 6:17 - loss: 0.0018 - accuracy: 0.99 - ETA: 6:05 - loss: 0.0019 - accuracy: 0.99 - ETA: 5:53 - loss: 0.0019 - accuracy: 0.99 - ETA: 5:41 - loss: 0.0019 - accuracy: 0.99 - ETA: 5:29 - loss: 0.0019 - accuracy: 0.99 - ETA: 5:17 - loss: 0.0019 - accuracy: 0.99 - ETA: 5:05 - loss: 0.0019 - accuracy: 0.99 - ETA: 4:53 - loss: 0.0019 - accuracy: 0.99 - ETA: 4:41 - loss: 0.0019 - accuracy: 0.99 - ETA: 4:29 - loss: 0.0019 - accuracy: 0.99 - ETA: 4:17 - loss: 0.0019 - accuracy: 0.99 - ETA: 4:04 - loss: 0.0019 - accuracy: 0.99 - ETA: 3:52 - loss: 0.0019 - accuracy: 0.99 - ETA: 3:40 - loss: 0.0019 - accuracy: 0.99 - ETA: 3:28 - loss: 0.0019 - accuracy: 0.99 - ETA: 3:16 - loss: 0.0019 - accuracy: 0.99 - ETA: 3:04 - loss: 0.0018 - accuracy: 0.99 - ETA: 2:52 - loss: 0.0018 - accuracy: 0.99 - ETA: 2:40 - loss: 0.0018 - accuracy: 0.99 - ETA: 2:28 - loss: 0.0018 - accuracy: 0.99 - ETA: 2:16 - loss: 0.0018 - accuracy: 0.99 - ETA: 2:04 - loss: 0.0019 - accuracy: 0.99 - ETA: 1:51 - loss: 0.0019 - accuracy: 0.99 - ETA: 1:40 - loss: 0.0019 - accuracy: 0.99 - ETA: 1:28 - loss: 0.0019 - accuracy: 0.99 - ETA: 1:16 - loss: 0.0019 - accuracy: 0.99 - ETA: 1:04 - loss: 0.0018 - accuracy: 0.99 - ETA: 51s - loss: 0.0019 - accuracy: 0.9970 - ETA: 39s - loss: 0.0018 - accuracy: 0.997 - ETA: 27s - loss: 0.0018 - accuracy: 0.997 - ETA: 15s - loss: 0.0018 - accuracy: 0.997 - ETA: 3s - loss: 0.0018 - accuracy: 0.997 - 1569s 822ms/step - loss: 0.0018 - accuracy: 0.9971 - val_loss: 0.0090 - val_accuracy: 0.9892\n",
      "Epoch 4/30\n"
     ]
    },
    {
     "name": "stdout",
     "output_type": "stream",
     "text": [
      "1908/1908 [==============================] - ETA: 24:41 - loss: 6.2522e-04 - accuracy: 1.000 - ETA: 25:05 - loss: 3.8898e-04 - accuracy: 1.000 - ETA: 25:52 - loss: 2.7626e-04 - accuracy: 1.000 - ETA: 25:10 - loss: 4.7657e-04 - accuracy: 0.998 - ETA: 24:44 - loss: 4.0596e-04 - accuracy: 0.999 - ETA: 24:31 - loss: 5.7111e-04 - accuracy: 0.998 - ETA: 24:10 - loss: 9.3675e-04 - accuracy: 0.998 - ETA: 23:52 - loss: 8.6885e-04 - accuracy: 0.998 - ETA: 23:35 - loss: 9.5388e-04 - accuracy: 0.998 - ETA: 23:24 - loss: 9.4397e-04 - accuracy: 0.998 - ETA: 23:16 - loss: 0.0011 - accuracy: 0.9981    - ETA: 22:57 - loss: 0.0011 - accuracy: 0.998 - ETA: 22:39 - loss: 0.0010 - accuracy: 0.998 - ETA: 22:21 - loss: 9.4353e-04 - accuracy: 0.998 - ETA: 22:06 - loss: 9.4744e-04 - accuracy: 0.998 - ETA: 21:49 - loss: 8.9419e-04 - accuracy: 0.998 - ETA: 21:32 - loss: 8.7067e-04 - accuracy: 0.998 - ETA: 21:14 - loss: 8.8620e-04 - accuracy: 0.998 - ETA: 20:56 - loss: 8.4675e-04 - accuracy: 0.998 - ETA: 20:41 - loss: 8.1039e-04 - accuracy: 0.998 - ETA: 20:26 - loss: 7.9135e-04 - accuracy: 0.998 - ETA: 20:13 - loss: 8.1023e-04 - accuracy: 0.998 - ETA: 20:04 - loss: 8.2236e-04 - accuracy: 0.998 - ETA: 19:49 - loss: 8.2341e-04 - accuracy: 0.998 - ETA: 19:36 - loss: 7.9837e-04 - accuracy: 0.998 - ETA: 19:22 - loss: 7.7212e-04 - accuracy: 0.998 - ETA: 19:10 - loss: 7.4526e-04 - accuracy: 0.998 - ETA: 18:57 - loss: 7.2100e-04 - accuracy: 0.998 - ETA: 18:43 - loss: 7.8654e-04 - accuracy: 0.998 - ETA: 18:29 - loss: 7.9029e-04 - accuracy: 0.998 - ETA: 18:19 - loss: 7.7131e-04 - accuracy: 0.998 - ETA: 18:06 - loss: 7.5529e-04 - accuracy: 0.998 - ETA: 17:54 - loss: 7.3516e-04 - accuracy: 0.998 - ETA: 17:40 - loss: 7.1718e-04 - accuracy: 0.998 - ETA: 17:29 - loss: 7.0081e-04 - accuracy: 0.998 - ETA: 17:16 - loss: 6.8286e-04 - accuracy: 0.998 - ETA: 17:03 - loss: 6.9072e-04 - accuracy: 0.998 - ETA: 16:51 - loss: 6.7345e-04 - accuracy: 0.998 - ETA: 16:38 - loss: 6.5934e-04 - accuracy: 0.998 - ETA: 16:24 - loss: 6.4662e-04 - accuracy: 0.998 - ETA: 16:10 - loss: 7.8658e-04 - accuracy: 0.998 - ETA: 15:57 - loss: 7.7943e-04 - accuracy: 0.998 - ETA: 15:45 - loss: 7.6794e-04 - accuracy: 0.998 - ETA: 15:32 - loss: 7.5277e-04 - accuracy: 0.998 - ETA: 15:20 - loss: 7.7799e-04 - accuracy: 0.998 - ETA: 15:08 - loss: 7.7929e-04 - accuracy: 0.998 - ETA: 14:57 - loss: 8.3030e-04 - accuracy: 0.998 - ETA: 14:45 - loss: 8.3019e-04 - accuracy: 0.998 - ETA: 14:32 - loss: 0.0011 - accuracy: 0.9981    - ETA: 14:20 - loss: 0.0011 - accuracy: 0.998 - ETA: 14:08 - loss: 0.0011 - accuracy: 0.998 - ETA: 13:56 - loss: 0.0010 - accuracy: 0.998 - ETA: 13:43 - loss: 0.0010 - accuracy: 0.998 - ETA: 13:30 - loss: 0.0010 - accuracy: 0.998 - ETA: 13:18 - loss: 0.0011 - accuracy: 0.998 - ETA: 13:07 - loss: 0.0011 - accuracy: 0.998 - ETA: 12:54 - loss: 0.0011 - accuracy: 0.998 - ETA: 12:41 - loss: 0.0010 - accuracy: 0.998 - ETA: 12:29 - loss: 0.0010 - accuracy: 0.998 - ETA: 12:16 - loss: 0.0010 - accuracy: 0.998 - ETA: 12:03 - loss: 0.0010 - accuracy: 0.998 - ETA: 11:51 - loss: 0.0010 - accuracy: 0.998 - ETA: 11:38 - loss: 0.0010 - accuracy: 0.998 - ETA: 11:25 - loss: 0.0010 - accuracy: 0.998 - ETA: 11:12 - loss: 0.0010 - accuracy: 0.998 - ETA: 10:59 - loss: 0.0010 - accuracy: 0.998 - ETA: 10:46 - loss: 9.9557e-04 - accuracy: 0.998 - ETA: 10:33 - loss: 9.8224e-04 - accuracy: 0.998 - ETA: 10:21 - loss: 9.8646e-04 - accuracy: 0.998 - ETA: 10:08 - loss: 9.8806e-04 - accuracy: 0.998 - ETA: 9:56 - loss: 0.0010 - accuracy: 0.9984    - ETA: 9:44 - loss: 0.0010 - accuracy: 0.99 - ETA: 9:31 - loss: 0.0010 - accuracy: 0.99 - ETA: 9:19 - loss: 9.9230e-04 - accuracy: 0.99 - ETA: 9:06 - loss: 9.8058e-04 - accuracy: 0.99 - ETA: 8:54 - loss: 9.7154e-04 - accuracy: 0.99 - ETA: 8:41 - loss: 9.8653e-04 - accuracy: 0.99 - ETA: 8:29 - loss: 9.8595e-04 - accuracy: 0.99 - ETA: 8:16 - loss: 0.0010 - accuracy: 0.9984   - ETA: 8:03 - loss: 9.9382e-04 - accuracy: 0.99 - ETA: 7:51 - loss: 9.9384e-04 - accuracy: 0.99 - ETA: 7:39 - loss: 9.8576e-04 - accuracy: 0.99 - ETA: 7:27 - loss: 9.7750e-04 - accuracy: 0.99 - ETA: 7:15 - loss: 9.7308e-04 - accuracy: 0.99 - ETA: 7:03 - loss: 0.0010 - accuracy: 0.9983   - ETA: 6:51 - loss: 9.9843e-04 - accuracy: 0.99 - ETA: 6:39 - loss: 9.8998e-04 - accuracy: 0.99 - ETA: 6:27 - loss: 9.8551e-04 - accuracy: 0.99 - ETA: 6:14 - loss: 9.8003e-04 - accuracy: 0.99 - ETA: 6:02 - loss: 9.7048e-04 - accuracy: 0.99 - ETA: 5:49 - loss: 9.6178e-04 - accuracy: 0.99 - ETA: 5:37 - loss: 0.0010 - accuracy: 0.9984   - ETA: 5:24 - loss: 0.0010 - accuracy: 0.99 - ETA: 5:12 - loss: 0.0010 - accuracy: 0.99 - ETA: 4:59 - loss: 0.0010 - accuracy: 0.99 - ETA: 4:47 - loss: 9.9861e-04 - accuracy: 0.99 - ETA: 4:35 - loss: 9.9255e-04 - accuracy: 0.99 - ETA: 4:22 - loss: 0.0010 - accuracy: 0.9984   - ETA: 4:10 - loss: 9.9515e-04 - accuracy: 0.99 - ETA: 3:57 - loss: 9.8791e-04 - accuracy: 0.99 - ETA: 3:45 - loss: 9.7992e-04 - accuracy: 0.99 - ETA: 3:33 - loss: 9.7162e-04 - accuracy: 0.99 - ETA: 3:20 - loss: 9.6692e-04 - accuracy: 0.99 - ETA: 3:08 - loss: 9.5824e-04 - accuracy: 0.99 - ETA: 2:56 - loss: 9.5481e-04 - accuracy: 0.99 - ETA: 2:43 - loss: 9.4787e-04 - accuracy: 0.99 - ETA: 2:31 - loss: 9.4609e-04 - accuracy: 0.99 - ETA: 2:19 - loss: 9.3985e-04 - accuracy: 0.99 - ETA: 2:06 - loss: 9.3354e-04 - accuracy: 0.99 - ETA: 1:54 - loss: 9.3967e-04 - accuracy: 0.99 - ETA: 1:41 - loss: 9.3187e-04 - accuracy: 0.99 - ETA: 1:29 - loss: 9.2952e-04 - accuracy: 0.99 - ETA: 1:17 - loss: 9.2286e-04 - accuracy: 0.99 - ETA: 1:04 - loss: 9.1573e-04 - accuracy: 0.99 - ETA: 52s - loss: 9.1790e-04 - accuracy: 0.9986 - ETA: 40s - loss: 9.1076e-04 - accuracy: 0.998 - ETA: 27s - loss: 9.1999e-04 - accuracy: 0.998 - ETA: 15s - loss: 9.1348e-04 - accuracy: 0.998 - ETA: 3s - loss: 9.1267e-04 - accuracy: 0.998 - 1566s 821ms/step - loss: 9.1079e-04 - accuracy: 0.9985 - val_loss: 0.0113 - val_accuracy: 0.9864\n",
      "Epoch 5/30\n"
     ]
    },
    {
     "name": "stdout",
     "output_type": "stream",
     "text": [
      "1908/1908 [==============================] - ETA: 24:08 - loss: 1.8384e-04 - accuracy: 1.000 - ETA: 24:07 - loss: 1.3864e-04 - accuracy: 1.000 - ETA: 23:31 - loss: 2.8441e-04 - accuracy: 1.000 - ETA: 23:21 - loss: 2.4297e-04 - accuracy: 1.000 - ETA: 23:15 - loss: 2.1572e-04 - accuracy: 1.000 - ETA: 23:00 - loss: 1.9251e-04 - accuracy: 1.000 - ETA: 22:46 - loss: 1.7749e-04 - accuracy: 1.000 - ETA: 22:32 - loss: 4.5887e-04 - accuracy: 0.999 - ETA: 22:22 - loss: 4.1823e-04 - accuracy: 0.999 - ETA: 22:03 - loss: 3.8062e-04 - accuracy: 0.999 - ETA: 21:45 - loss: 3.6030e-04 - accuracy: 0.999 - ETA: 21:30 - loss: 3.3994e-04 - accuracy: 0.999 - ETA: 21:15 - loss: 3.2235e-04 - accuracy: 0.999 - ETA: 21:01 - loss: 3.0476e-04 - accuracy: 0.999 - ETA: 20:49 - loss: 2.9373e-04 - accuracy: 0.999 - ETA: 20:37 - loss: 2.8176e-04 - accuracy: 0.999 - ETA: 20:23 - loss: 3.1285e-04 - accuracy: 0.999 - ETA: 20:15 - loss: 3.2659e-04 - accuracy: 0.999 - ETA: 20:04 - loss: 3.6623e-04 - accuracy: 0.999 - ETA: 19:53 - loss: 3.7785e-04 - accuracy: 0.999 - ETA: 19:40 - loss: 3.6307e-04 - accuracy: 0.999 - ETA: 19:29 - loss: 3.4869e-04 - accuracy: 0.999 - ETA: 19:20 - loss: 3.3625e-04 - accuracy: 0.999 - ETA: 19:06 - loss: 3.5616e-04 - accuracy: 0.999 - ETA: 18:53 - loss: 3.7521e-04 - accuracy: 0.999 - ETA: 18:41 - loss: 3.6120e-04 - accuracy: 0.999 - ETA: 18:34 - loss: 3.5420e-04 - accuracy: 0.999 - ETA: 18:23 - loss: 3.5169e-04 - accuracy: 0.999 - ETA: 18:12 - loss: 3.4276e-04 - accuracy: 0.999 - ETA: 18:04 - loss: 3.3162e-04 - accuracy: 0.999 - ETA: 17:54 - loss: 3.4709e-04 - accuracy: 0.999 - ETA: 17:42 - loss: 3.5685e-04 - accuracy: 0.999 - ETA: 17:32 - loss: 3.4696e-04 - accuracy: 0.999 - ETA: 17:20 - loss: 3.3958e-04 - accuracy: 0.999 - ETA: 17:08 - loss: 3.3227e-04 - accuracy: 0.999 - ETA: 16:56 - loss: 3.2574e-04 - accuracy: 0.999 - ETA: 16:43 - loss: 3.1808e-04 - accuracy: 0.999 - ETA: 16:30 - loss: 3.1037e-04 - accuracy: 0.999 - ETA: 16:16 - loss: 3.0269e-04 - accuracy: 0.999 - ETA: 16:03 - loss: 2.9614e-04 - accuracy: 0.999 - ETA: 15:51 - loss: 2.8952e-04 - accuracy: 0.999 - ETA: 15:39 - loss: 2.9131e-04 - accuracy: 0.999 - ETA: 15:28 - loss: 2.8493e-04 - accuracy: 0.999 - ETA: 15:16 - loss: 2.7885e-04 - accuracy: 0.999 - ETA: 15:03 - loss: 2.7659e-04 - accuracy: 0.999 - ETA: 14:51 - loss: 2.8929e-04 - accuracy: 0.999 - ETA: 14:39 - loss: 2.8368e-04 - accuracy: 0.999 - ETA: 14:27 - loss: 2.7978e-04 - accuracy: 0.999 - ETA: 14:15 - loss: 2.7455e-04 - accuracy: 0.999 - ETA: 14:02 - loss: 2.6971e-04 - accuracy: 0.999 - ETA: 13:49 - loss: 2.6464e-04 - accuracy: 0.999 - ETA: 13:37 - loss: 2.9116e-04 - accuracy: 0.999 - ETA: 13:25 - loss: 2.8591e-04 - accuracy: 0.999 - ETA: 13:13 - loss: 2.8085e-04 - accuracy: 0.999 - ETA: 13:01 - loss: 2.7627e-04 - accuracy: 0.999 - ETA: 12:49 - loss: 2.8902e-04 - accuracy: 0.999 - ETA: 12:36 - loss: 2.8447e-04 - accuracy: 0.999 - ETA: 12:24 - loss: 2.8160e-04 - accuracy: 0.999 - ETA: 12:12 - loss: 2.7911e-04 - accuracy: 0.999 - ETA: 12:00 - loss: 2.7475e-04 - accuracy: 0.999 - ETA: 11:47 - loss: 2.7105e-04 - accuracy: 0.999 - ETA: 11:35 - loss: 2.6690e-04 - accuracy: 0.999 - ETA: 11:22 - loss: 2.6293e-04 - accuracy: 0.999 - ETA: 11:10 - loss: 2.6014e-04 - accuracy: 0.999 - ETA: 10:58 - loss: 2.5924e-04 - accuracy: 0.999 - ETA: 10:46 - loss: 2.5588e-04 - accuracy: 0.999 - ETA: 10:34 - loss: 2.5518e-04 - accuracy: 0.999 - ETA: 10:22 - loss: 2.5247e-04 - accuracy: 0.999 - ETA: 10:10 - loss: 2.5004e-04 - accuracy: 0.999 - ETA: 9:57 - loss: 2.4744e-04 - accuracy: 0.999 - ETA: 9:45 - loss: 2.6939e-04 - accuracy: 0.99 - ETA: 9:33 - loss: 2.6581e-04 - accuracy: 0.99 - ETA: 9:21 - loss: 2.9094e-04 - accuracy: 0.99 - ETA: 9:09 - loss: 2.8768e-04 - accuracy: 0.99 - ETA: 8:57 - loss: 2.8401e-04 - accuracy: 0.99 - ETA: 8:45 - loss: 2.8047e-04 - accuracy: 0.99 - ETA: 8:33 - loss: 2.8049e-04 - accuracy: 0.99 - ETA: 8:20 - loss: 2.8924e-04 - accuracy: 0.99 - ETA: 8:08 - loss: 2.8580e-04 - accuracy: 0.99 - ETA: 7:57 - loss: 2.8401e-04 - accuracy: 0.99 - ETA: 7:44 - loss: 2.8072e-04 - accuracy: 0.99 - ETA: 7:32 - loss: 2.7744e-04 - accuracy: 0.99 - ETA: 7:20 - loss: 2.7473e-04 - accuracy: 0.99 - ETA: 7:08 - loss: 2.7165e-04 - accuracy: 0.99 - ETA: 6:56 - loss: 2.7201e-04 - accuracy: 0.99 - ETA: 6:43 - loss: 2.7235e-04 - accuracy: 0.99 - ETA: 6:31 - loss: 2.6944e-04 - accuracy: 0.99 - ETA: 6:19 - loss: 2.6648e-04 - accuracy: 0.99 - ETA: 6:06 - loss: 2.6382e-04 - accuracy: 0.99 - ETA: 5:54 - loss: 2.6160e-04 - accuracy: 0.99 - ETA: 5:42 - loss: 2.5898e-04 - accuracy: 0.99 - ETA: 5:30 - loss: 2.6812e-04 - accuracy: 0.99 - ETA: 5:18 - loss: 2.6539e-04 - accuracy: 0.99 - ETA: 5:06 - loss: 2.6306e-04 - accuracy: 0.99 - ETA: 4:54 - loss: 2.6920e-04 - accuracy: 0.99 - ETA: 4:42 - loss: 2.6647e-04 - accuracy: 0.99 - ETA: 4:30 - loss: 2.6598e-04 - accuracy: 0.99 - ETA: 4:17 - loss: 2.6405e-04 - accuracy: 0.99 - ETA: 4:05 - loss: 2.6189e-04 - accuracy: 0.99 - ETA: 3:53 - loss: 2.5952e-04 - accuracy: 0.99 - ETA: 3:41 - loss: 2.5797e-04 - accuracy: 0.99 - ETA: 3:29 - loss: 2.5907e-04 - accuracy: 0.99 - ETA: 3:16 - loss: 2.5665e-04 - accuracy: 0.99 - ETA: 3:04 - loss: 2.6041e-04 - accuracy: 0.99 - ETA: 2:52 - loss: 2.5986e-04 - accuracy: 0.99 - ETA: 2:40 - loss: 2.5783e-04 - accuracy: 0.99 - ETA: 2:28 - loss: 3.2685e-04 - accuracy: 0.99 - ETA: 2:16 - loss: 3.2443e-04 - accuracy: 0.99 - ETA: 2:04 - loss: 3.2178e-04 - accuracy: 0.99 - ETA: 1:52 - loss: 3.1901e-04 - accuracy: 0.99 - ETA: 1:40 - loss: 3.1738e-04 - accuracy: 0.99 - ETA: 1:27 - loss: 3.1467e-04 - accuracy: 0.99 - ETA: 1:15 - loss: 3.5195e-04 - accuracy: 0.99 - ETA: 1:03 - loss: 3.4924e-04 - accuracy: 0.99 - ETA: 51s - loss: 3.4673e-04 - accuracy: 0.9994 - ETA: 39s - loss: 3.4401e-04 - accuracy: 0.999 - ETA: 27s - loss: 3.4344e-04 - accuracy: 0.999 - ETA: 15s - loss: 3.4163e-04 - accuracy: 0.999 - ETA: 3s - loss: 3.4073e-04 - accuracy: 0.999 - 1545s 810ms/step - loss: 3.4019e-04 - accuracy: 0.9994 - val_loss: 0.0118 - val_accuracy: 0.9871\n",
      "Epoch 6/30\n"
     ]
    },
    {
     "name": "stdout",
     "output_type": "stream",
     "text": [
      "1908/1908 [==============================] - ETA: 22:44 - loss: 1.3594e-04 - accuracy: 1.000 - ETA: 23:23 - loss: 8.6021e-05 - accuracy: 1.000 - ETA: 24:02 - loss: 9.6483e-05 - accuracy: 1.000 - ETA: 23:41 - loss: 1.1246e-04 - accuracy: 1.000 - ETA: 23:31 - loss: 1.5447e-04 - accuracy: 1.000 - ETA: 23:19 - loss: 1.9718e-04 - accuracy: 1.000 - ETA: 23:22 - loss: 1.9407e-04 - accuracy: 1.000 - ETA: 22:59 - loss: 1.8752e-04 - accuracy: 1.000 - ETA: 22:49 - loss: 1.7256e-04 - accuracy: 1.000 - ETA: 22:40 - loss: 1.5980e-04 - accuracy: 1.000 - ETA: 22:28 - loss: 1.5242e-04 - accuracy: 1.000 - ETA: 22:15 - loss: 1.4568e-04 - accuracy: 1.000 - ETA: 22:02 - loss: 1.6847e-04 - accuracy: 1.000 - ETA: 21:46 - loss: 1.5938e-04 - accuracy: 1.000 - ETA: 21:33 - loss: 1.6267e-04 - accuracy: 1.000 - ETA: 21:18 - loss: 1.5424e-04 - accuracy: 1.000 - ETA: 21:06 - loss: 1.4791e-04 - accuracy: 1.000 - ETA: 20:53 - loss: 1.4230e-04 - accuracy: 1.000 - ETA: 20:38 - loss: 1.8620e-04 - accuracy: 0.999 - ETA: 20:22 - loss: 1.7794e-04 - accuracy: 0.999 - ETA: 20:08 - loss: 1.7040e-04 - accuracy: 0.999 - ETA: 19:54 - loss: 1.7974e-04 - accuracy: 0.999 - ETA: 19:41 - loss: 1.7925e-04 - accuracy: 0.999 - ETA: 19:27 - loss: 1.9447e-04 - accuracy: 0.999 - ETA: 19:14 - loss: 1.8813e-04 - accuracy: 0.999 - ETA: 19:03 - loss: 1.8173e-04 - accuracy: 0.999 - ETA: 18:53 - loss: 1.7650e-04 - accuracy: 0.999 - ETA: 18:40 - loss: 1.7075e-04 - accuracy: 0.999 - ETA: 18:27 - loss: 1.6526e-04 - accuracy: 0.999 - ETA: 18:13 - loss: 1.6023e-04 - accuracy: 0.999 - ETA: 18:00 - loss: 1.5581e-04 - accuracy: 0.999 - ETA: 17:47 - loss: 1.5131e-04 - accuracy: 0.999 - ETA: 17:35 - loss: 1.4834e-04 - accuracy: 0.999 - ETA: 17:22 - loss: 1.4640e-04 - accuracy: 0.999 - ETA: 17:09 - loss: 1.4524e-04 - accuracy: 0.999 - ETA: 16:56 - loss: 3.3413e-04 - accuracy: 0.999 - ETA: 16:44 - loss: 3.2888e-04 - accuracy: 0.999 - ETA: 16:31 - loss: 3.3623e-04 - accuracy: 0.999 - ETA: 16:20 - loss: 3.2791e-04 - accuracy: 0.999 - ETA: 16:07 - loss: 3.2003e-04 - accuracy: 0.999 - ETA: 15:54 - loss: 3.2201e-04 - accuracy: 0.999 - ETA: 15:42 - loss: 3.1974e-04 - accuracy: 0.999 - ETA: 15:30 - loss: 3.1512e-04 - accuracy: 0.999 - ETA: 15:17 - loss: 3.1496e-04 - accuracy: 0.999 - ETA: 15:04 - loss: 3.0959e-04 - accuracy: 0.999 - ETA: 14:51 - loss: 3.4911e-04 - accuracy: 0.999 - ETA: 14:38 - loss: 3.6198e-04 - accuracy: 0.999 - ETA: 14:26 - loss: 3.6039e-04 - accuracy: 0.999 - ETA: 14:14 - loss: 3.5349e-04 - accuracy: 0.999 - ETA: 14:01 - loss: 3.4676e-04 - accuracy: 0.999 - ETA: 13:50 - loss: 3.4016e-04 - accuracy: 0.999 - ETA: 13:38 - loss: 3.3417e-04 - accuracy: 0.999 - ETA: 13:25 - loss: 3.2829e-04 - accuracy: 0.999 - ETA: 13:13 - loss: 3.2365e-04 - accuracy: 0.999 - ETA: 13:00 - loss: 3.1806e-04 - accuracy: 0.999 - ETA: 12:48 - loss: 3.1260e-04 - accuracy: 0.999 - ETA: 12:35 - loss: 3.0731e-04 - accuracy: 0.999 - ETA: 12:23 - loss: 3.0410e-04 - accuracy: 0.999 - ETA: 12:10 - loss: 2.9911e-04 - accuracy: 0.999 - ETA: 11:57 - loss: 2.9517e-04 - accuracy: 0.999 - ETA: 11:45 - loss: 2.9071e-04 - accuracy: 0.999 - ETA: 11:33 - loss: 2.8724e-04 - accuracy: 0.999 - ETA: 11:21 - loss: 2.8295e-04 - accuracy: 0.999 - ETA: 11:09 - loss: 2.8057e-04 - accuracy: 0.999 - ETA: 10:58 - loss: 2.7722e-04 - accuracy: 0.999 - ETA: 10:45 - loss: 2.7316e-04 - accuracy: 0.999 - ETA: 10:33 - loss: 2.6976e-04 - accuracy: 0.999 - ETA: 10:22 - loss: 2.6697e-04 - accuracy: 0.999 - ETA: 10:10 - loss: 2.6450e-04 - accuracy: 0.999 - ETA: 9:58 - loss: 2.6185e-04 - accuracy: 0.999 - ETA: 9:45 - loss: 2.5883e-04 - accuracy: 0.99 - ETA: 9:33 - loss: 2.5558e-04 - accuracy: 0.99 - ETA: 9:21 - loss: 2.7059e-04 - accuracy: 0.99 - ETA: 9:09 - loss: 2.6727e-04 - accuracy: 0.99 - ETA: 8:56 - loss: 2.6395e-04 - accuracy: 0.99 - ETA: 8:45 - loss: 2.6107e-04 - accuracy: 0.99 - ETA: 8:32 - loss: 2.5786e-04 - accuracy: 0.99 - ETA: 8:20 - loss: 2.5473e-04 - accuracy: 0.99 - ETA: 8:08 - loss: 2.7259e-04 - accuracy: 0.99 - ETA: 7:56 - loss: 2.6927e-04 - accuracy: 0.99 - ETA: 7:44 - loss: 2.6815e-04 - accuracy: 0.99 - ETA: 7:31 - loss: 2.6502e-04 - accuracy: 0.99 - ETA: 7:19 - loss: 2.6209e-04 - accuracy: 0.99 - ETA: 7:07 - loss: 2.5950e-04 - accuracy: 0.99 - ETA: 6:54 - loss: 2.5652e-04 - accuracy: 0.99 - ETA: 6:42 - loss: 2.5376e-04 - accuracy: 0.99 - ETA: 6:30 - loss: 3.4315e-04 - accuracy: 0.99 - ETA: 6:18 - loss: 3.4172e-04 - accuracy: 0.99 - ETA: 6:06 - loss: 3.6115e-04 - accuracy: 0.99 - ETA: 5:54 - loss: 3.5796e-04 - accuracy: 0.99 - ETA: 5:42 - loss: 3.5733e-04 - accuracy: 0.99 - ETA: 5:29 - loss: 3.5528e-04 - accuracy: 0.99 - ETA: 5:17 - loss: 5.1047e-04 - accuracy: 0.99 - ETA: 5:05 - loss: 5.7201e-04 - accuracy: 0.99 - ETA: 4:53 - loss: 5.8539e-04 - accuracy: 0.99 - ETA: 4:41 - loss: 5.8367e-04 - accuracy: 0.99 - ETA: 4:29 - loss: 5.7912e-04 - accuracy: 0.99 - ETA: 4:17 - loss: 5.7449e-04 - accuracy: 0.99 - ETA: 4:04 - loss: 5.7109e-04 - accuracy: 0.99 - ETA: 3:52 - loss: 5.6748e-04 - accuracy: 0.99 - ETA: 3:40 - loss: 5.8529e-04 - accuracy: 0.99 - ETA: 3:28 - loss: 5.8462e-04 - accuracy: 0.99 - ETA: 3:16 - loss: 5.9442e-04 - accuracy: 0.99 - ETA: 3:04 - loss: 6.0457e-04 - accuracy: 0.99 - ETA: 2:52 - loss: 6.0288e-04 - accuracy: 0.99 - ETA: 2:40 - loss: 5.9889e-04 - accuracy: 0.99 - ETA: 2:28 - loss: 5.9717e-04 - accuracy: 0.99 - ETA: 2:15 - loss: 6.0461e-04 - accuracy: 0.99 - ETA: 2:03 - loss: 6.0030e-04 - accuracy: 0.99 - ETA: 1:51 - loss: 5.9828e-04 - accuracy: 0.99 - ETA: 1:39 - loss: 6.4549e-04 - accuracy: 0.99 - ETA: 1:27 - loss: 6.8217e-04 - accuracy: 0.99 - ETA: 1:15 - loss: 6.7842e-04 - accuracy: 0.99 - ETA: 1:03 - loss: 6.7801e-04 - accuracy: 0.99 - ETA: 51s - loss: 6.7721e-04 - accuracy: 0.9991 - ETA: 39s - loss: 6.7425e-04 - accuracy: 0.999 - ETA: 27s - loss: 6.7224e-04 - accuracy: 0.999 - ETA: 15s - loss: 6.7223e-04 - accuracy: 0.999 - ETA: 3s - loss: 6.6721e-04 - accuracy: 0.999 - 1534s 804ms/step - loss: 6.6589e-04 - accuracy: 0.9992 - val_loss: 0.0128 - val_accuracy: 0.9838\n",
      "Epoch 7/30\n"
     ]
    },
    {
     "name": "stdout",
     "output_type": "stream",
     "text": [
      "1908/1908 [==============================] - ETA: 21:34 - loss: 0.0035 - accuracy: 0.992 - ETA: 22:16 - loss: 0.0024 - accuracy: 0.994 - ETA: 22:24 - loss: 0.0016 - accuracy: 0.996 - ETA: 22:28 - loss: 0.0013 - accuracy: 0.997 - ETA: 22:35 - loss: 0.0011 - accuracy: 0.997 - ETA: 22:51 - loss: 9.5497e-04 - accuracy: 0.997 - ETA: 22:53 - loss: 8.8803e-04 - accuracy: 0.998 - ETA: 22:52 - loss: 0.0011 - accuracy: 0.9975    - ETA: 22:55 - loss: 0.0010 - accuracy: 0.997 - ETA: 22:56 - loss: 9.4294e-04 - accuracy: 0.997 - ETA: 22:47 - loss: 8.6276e-04 - accuracy: 0.998 - ETA: 22:30 - loss: 8.0124e-04 - accuracy: 0.998 - ETA: 22:11 - loss: 9.9429e-04 - accuracy: 0.997 - ETA: 21:57 - loss: 0.0010 - accuracy: 0.9976    - ETA: 21:49 - loss: 0.0010 - accuracy: 0.997 - ETA: 21:33 - loss: 0.0010 - accuracy: 0.997 - ETA: 21:17 - loss: 0.0011 - accuracy: 0.997 - ETA: 21:03 - loss: 0.0011 - accuracy: 0.997 - ETA: 20:50 - loss: 0.0011 - accuracy: 0.997 - ETA: 20:38 - loss: 0.0010 - accuracy: 0.997 - ETA: 20:27 - loss: 0.0013 - accuracy: 0.997 - ETA: 20:14 - loss: 0.0012 - accuracy: 0.997 - ETA: 20:03 - loss: 0.0012 - accuracy: 0.997 - ETA: 19:52 - loss: 0.0011 - accuracy: 0.997 - ETA: 19:38 - loss: 0.0012 - accuracy: 0.997 - ETA: 19:25 - loss: 0.0012 - accuracy: 0.997 - ETA: 19:12 - loss: 0.0012 - accuracy: 0.997 - ETA: 18:58 - loss: 0.0011 - accuracy: 0.997 - ETA: 18:43 - loss: 0.0011 - accuracy: 0.997 - ETA: 18:29 - loss: 0.0011 - accuracy: 0.997 - ETA: 18:18 - loss: 0.0010 - accuracy: 0.998 - ETA: 18:04 - loss: 0.0010 - accuracy: 0.998 - ETA: 17:50 - loss: 9.9156e-04 - accuracy: 0.998 - ETA: 17:37 - loss: 9.7714e-04 - accuracy: 0.998 - ETA: 17:25 - loss: 9.5695e-04 - accuracy: 0.998 - ETA: 17:13 - loss: 9.3215e-04 - accuracy: 0.998 - ETA: 17:00 - loss: 9.4144e-04 - accuracy: 0.998 - ETA: 16:47 - loss: 9.1773e-04 - accuracy: 0.998 - ETA: 16:35 - loss: 8.9899e-04 - accuracy: 0.998 - ETA: 16:23 - loss: 8.9926e-04 - accuracy: 0.998 - ETA: 16:11 - loss: 8.9607e-04 - accuracy: 0.998 - ETA: 15:59 - loss: 8.7909e-04 - accuracy: 0.998 - ETA: 15:46 - loss: 8.5919e-04 - accuracy: 0.998 - ETA: 15:34 - loss: 8.5346e-04 - accuracy: 0.998 - ETA: 15:22 - loss: 8.3474e-04 - accuracy: 0.998 - ETA: 15:09 - loss: 8.3584e-04 - accuracy: 0.998 - ETA: 14:57 - loss: 8.1880e-04 - accuracy: 0.998 - ETA: 14:45 - loss: 8.1807e-04 - accuracy: 0.998 - ETA: 14:32 - loss: 8.0367e-04 - accuracy: 0.998 - ETA: 14:20 - loss: 7.9189e-04 - accuracy: 0.998 - ETA: 14:07 - loss: 8.8438e-04 - accuracy: 0.998 - ETA: 13:54 - loss: 8.6756e-04 - accuracy: 0.998 - ETA: 13:41 - loss: 8.5160e-04 - accuracy: 0.998 - ETA: 13:28 - loss: 8.4178e-04 - accuracy: 0.998 - ETA: 13:15 - loss: 8.2746e-04 - accuracy: 0.998 - ETA: 13:03 - loss: 8.1334e-04 - accuracy: 0.998 - ETA: 12:50 - loss: 7.9962e-04 - accuracy: 0.998 - ETA: 12:38 - loss: 7.8607e-04 - accuracy: 0.998 - ETA: 12:26 - loss: 7.7353e-04 - accuracy: 0.998 - ETA: 12:14 - loss: 7.6893e-04 - accuracy: 0.998 - ETA: 12:01 - loss: 7.5764e-04 - accuracy: 0.998 - ETA: 11:48 - loss: 7.7045e-04 - accuracy: 0.998 - ETA: 11:36 - loss: 7.5842e-04 - accuracy: 0.998 - ETA: 11:23 - loss: 8.3882e-04 - accuracy: 0.998 - ETA: 11:11 - loss: 8.3444e-04 - accuracy: 0.998 - ETA: 10:58 - loss: 8.2639e-04 - accuracy: 0.998 - ETA: 10:46 - loss: 8.1475e-04 - accuracy: 0.998 - ETA: 10:33 - loss: 8.0373e-04 - accuracy: 0.998 - ETA: 10:20 - loss: 8.4044e-04 - accuracy: 0.998 - ETA: 10:08 - loss: 9.2747e-04 - accuracy: 0.998 - ETA: 9:56 - loss: 9.3029e-04 - accuracy: 0.998 - ETA: 9:44 - loss: 0.0010 - accuracy: 0.9984   - ETA: 9:32 - loss: 9.9392e-04 - accuracy: 0.99 - ETA: 9:19 - loss: 9.8715e-04 - accuracy: 0.99 - ETA: 9:07 - loss: 9.8337e-04 - accuracy: 0.99 - ETA: 8:54 - loss: 0.0010 - accuracy: 0.9984   - ETA: 8:42 - loss: 0.0010 - accuracy: 0.99 - ETA: 8:29 - loss: 9.9434e-04 - accuracy: 0.99 - ETA: 8:16 - loss: 0.0011 - accuracy: 0.9984   - ETA: 8:04 - loss: 0.0011 - accuracy: 0.99 - ETA: 7:52 - loss: 0.0011 - accuracy: 0.99 - ETA: 7:39 - loss: 0.0012 - accuracy: 0.99 - ETA: 7:27 - loss: 0.0012 - accuracy: 0.99 - ETA: 7:14 - loss: 0.0012 - accuracy: 0.99 - ETA: 7:02 - loss: 0.0012 - accuracy: 0.99 - ETA: 6:50 - loss: 0.0013 - accuracy: 0.99 - ETA: 6:37 - loss: 0.0013 - accuracy: 0.99 - ETA: 6:25 - loss: 0.0013 - accuracy: 0.99 - ETA: 6:13 - loss: 0.0013 - accuracy: 0.99 - ETA: 6:00 - loss: 0.0013 - accuracy: 0.99 - ETA: 5:48 - loss: 0.0013 - accuracy: 0.99 - ETA: 5:35 - loss: 0.0013 - accuracy: 0.99 - ETA: 5:23 - loss: 0.0013 - accuracy: 0.99 - ETA: 5:10 - loss: 0.0014 - accuracy: 0.99 - ETA: 4:58 - loss: 0.0014 - accuracy: 0.99 - ETA: 4:46 - loss: 0.0014 - accuracy: 0.99 - ETA: 4:33 - loss: 0.0014 - accuracy: 0.99 - ETA: 4:21 - loss: 0.0014 - accuracy: 0.99 - ETA: 4:09 - loss: 0.0014 - accuracy: 0.99 - ETA: 3:56 - loss: 0.0014 - accuracy: 0.99 - ETA: 3:44 - loss: 0.0014 - accuracy: 0.99 - ETA: 3:32 - loss: 0.0014 - accuracy: 0.99 - ETA: 3:19 - loss: 0.0014 - accuracy: 0.99 - ETA: 3:07 - loss: 0.0014 - accuracy: 0.99 - ETA: 2:55 - loss: 0.0014 - accuracy: 0.99 - ETA: 2:42 - loss: 0.0014 - accuracy: 0.99 - ETA: 2:30 - loss: 0.0014 - accuracy: 0.99 - ETA: 2:18 - loss: 0.0014 - accuracy: 0.99 - ETA: 2:05 - loss: 0.0014 - accuracy: 0.99 - ETA: 1:53 - loss: 0.0014 - accuracy: 0.99 - ETA: 1:41 - loss: 0.0014 - accuracy: 0.99 - ETA: 1:29 - loss: 0.0014 - accuracy: 0.99 - ETA: 1:16 - loss: 0.0014 - accuracy: 0.99 - ETA: 1:04 - loss: 0.0014 - accuracy: 0.99 - ETA: 52s - loss: 0.0014 - accuracy: 0.9979 - ETA: 39s - loss: 0.0014 - accuracy: 0.997 - ETA: 27s - loss: 0.0015 - accuracy: 0.997 - ETA: 15s - loss: 0.0015 - accuracy: 0.997 - ETA: 3s - loss: 0.0015 - accuracy: 0.997 - 1560s 818ms/step - loss: 0.0015 - accuracy: 0.9978 - val_loss: 0.0117 - val_accuracy: 0.9870\n",
      "Epoch 8/30\n"
     ]
    },
    {
     "name": "stdout",
     "output_type": "stream",
     "text": [
      "1908/1908 [==============================] - ETA: 22:01 - loss: 1.3464e-04 - accuracy: 1.000 - ETA: 22:17 - loss: 3.8999e-04 - accuracy: 1.000 - ETA: 22:40 - loss: 7.3586e-04 - accuracy: 0.998 - ETA: 22:39 - loss: 0.0012 - accuracy: 0.9976    - ETA: 22:28 - loss: 0.0022 - accuracy: 0.995 - ETA: 22:21 - loss: 0.0024 - accuracy: 0.994 - ETA: 22:23 - loss: 0.0035 - accuracy: 0.993 - ETA: 22:16 - loss: 0.0034 - accuracy: 0.993 - ETA: 22:14 - loss: 0.0030 - accuracy: 0.993 - ETA: 21:59 - loss: 0.0028 - accuracy: 0.994 - ETA: 21:51 - loss: 0.0026 - accuracy: 0.995 - ETA: 21:39 - loss: 0.0026 - accuracy: 0.995 - ETA: 21:23 - loss: 0.0026 - accuracy: 0.995 - ETA: 21:10 - loss: 0.0032 - accuracy: 0.994 - ETA: 20:53 - loss: 0.0031 - accuracy: 0.994 - ETA: 20:41 - loss: 0.0029 - accuracy: 0.994 - ETA: 20:30 - loss: 0.0029 - accuracy: 0.994 - ETA: 20:17 - loss: 0.0028 - accuracy: 0.994 - ETA: 20:13 - loss: 0.0026 - accuracy: 0.994 - ETA: 20:01 - loss: 0.0026 - accuracy: 0.994 - ETA: 19:48 - loss: 0.0026 - accuracy: 0.995 - ETA: 19:38 - loss: 0.0025 - accuracy: 0.995 - ETA: 19:24 - loss: 0.0024 - accuracy: 0.995 - ETA: 19:11 - loss: 0.0024 - accuracy: 0.995 - ETA: 18:56 - loss: 0.0023 - accuracy: 0.995 - ETA: 18:43 - loss: 0.0023 - accuracy: 0.995 - ETA: 18:30 - loss: 0.0022 - accuracy: 0.995 - ETA: 18:17 - loss: 0.0021 - accuracy: 0.995 - ETA: 18:05 - loss: 0.0021 - accuracy: 0.996 - ETA: 17:53 - loss: 0.0020 - accuracy: 0.996 - ETA: 17:44 - loss: 0.0020 - accuracy: 0.996 - ETA: 17:32 - loss: 0.0019 - accuracy: 0.996 - ETA: 17:19 - loss: 0.0019 - accuracy: 0.996 - ETA: 17:08 - loss: 0.0018 - accuracy: 0.996 - ETA: 16:56 - loss: 0.0018 - accuracy: 0.996 - ETA: 16:43 - loss: 0.0017 - accuracy: 0.996 - ETA: 16:30 - loss: 0.0017 - accuracy: 0.996 - ETA: 16:18 - loss: 0.0018 - accuracy: 0.996 - ETA: 16:06 - loss: 0.0018 - accuracy: 0.996 - ETA: 15:53 - loss: 0.0017 - accuracy: 0.996 - ETA: 15:43 - loss: 0.0017 - accuracy: 0.996 - ETA: 15:33 - loss: 0.0017 - accuracy: 0.996 - ETA: 15:23 - loss: 0.0017 - accuracy: 0.996 - ETA: 15:13 - loss: 0.0017 - accuracy: 0.997 - ETA: 15:01 - loss: 0.0017 - accuracy: 0.997 - ETA: 14:50 - loss: 0.0016 - accuracy: 0.997 - ETA: 14:37 - loss: 0.0016 - accuracy: 0.997 - ETA: 14:25 - loss: 0.0016 - accuracy: 0.997 - ETA: 14:14 - loss: 0.0016 - accuracy: 0.997 - ETA: 14:01 - loss: 0.0015 - accuracy: 0.997 - ETA: 13:48 - loss: 0.0015 - accuracy: 0.997 - ETA: 13:35 - loss: 0.0015 - accuracy: 0.997 - ETA: 13:23 - loss: 0.0016 - accuracy: 0.997 - ETA: 13:11 - loss: 0.0016 - accuracy: 0.997 - ETA: 12:59 - loss: 0.0016 - accuracy: 0.997 - ETA: 12:47 - loss: 0.0017 - accuracy: 0.997 - ETA: 12:35 - loss: 0.0017 - accuracy: 0.997 - ETA: 12:22 - loss: 0.0016 - accuracy: 0.997 - ETA: 12:11 - loss: 0.0016 - accuracy: 0.997 - ETA: 11:59 - loss: 0.0016 - accuracy: 0.997 - ETA: 11:47 - loss: 0.0016 - accuracy: 0.997 - ETA: 11:34 - loss: 0.0015 - accuracy: 0.997 - ETA: 11:22 - loss: 0.0015 - accuracy: 0.997 - ETA: 11:09 - loss: 0.0016 - accuracy: 0.997 - ETA: 10:57 - loss: 0.0016 - accuracy: 0.997 - ETA: 10:45 - loss: 0.0016 - accuracy: 0.997 - ETA: 10:32 - loss: 0.0015 - accuracy: 0.997 - ETA: 10:20 - loss: 0.0016 - accuracy: 0.997 - ETA: 10:09 - loss: 0.0016 - accuracy: 0.997 - ETA: 9:57 - loss: 0.0016 - accuracy: 0.997 - ETA: 9:45 - loss: 0.0016 - accuracy: 0.99 - ETA: 9:32 - loss: 0.0016 - accuracy: 0.99 - ETA: 9:20 - loss: 0.0016 - accuracy: 0.99 - ETA: 9:08 - loss: 0.0016 - accuracy: 0.99 - ETA: 8:56 - loss: 0.0016 - accuracy: 0.99 - ETA: 8:44 - loss: 0.0016 - accuracy: 0.99 - ETA: 8:31 - loss: 0.0016 - accuracy: 0.99 - ETA: 8:19 - loss: 0.0016 - accuracy: 0.99 - ETA: 8:07 - loss: 0.0017 - accuracy: 0.99 - ETA: 7:55 - loss: 0.0017 - accuracy: 0.99 - ETA: 7:43 - loss: 0.0017 - accuracy: 0.99 - ETA: 7:31 - loss: 0.0017 - accuracy: 0.99 - ETA: 7:18 - loss: 0.0017 - accuracy: 0.99 - ETA: 7:06 - loss: 0.0016 - accuracy: 0.99 - ETA: 6:54 - loss: 0.0017 - accuracy: 0.99 - ETA: 6:42 - loss: 0.0016 - accuracy: 0.99 - ETA: 6:30 - loss: 0.0016 - accuracy: 0.99 - ETA: 6:17 - loss: 0.0017 - accuracy: 0.99 - ETA: 6:05 - loss: 0.0017 - accuracy: 0.99 - ETA: 5:53 - loss: 0.0017 - accuracy: 0.99 - ETA: 5:41 - loss: 0.0017 - accuracy: 0.99 - ETA: 5:29 - loss: 0.0017 - accuracy: 0.99 - ETA: 5:17 - loss: 0.0017 - accuracy: 0.99 - ETA: 5:05 - loss: 0.0017 - accuracy: 0.99 - ETA: 4:53 - loss: 0.0016 - accuracy: 0.99 - ETA: 4:41 - loss: 0.0016 - accuracy: 0.99 - ETA: 4:29 - loss: 0.0016 - accuracy: 0.99 - ETA: 4:16 - loss: 0.0016 - accuracy: 0.99 - ETA: 4:04 - loss: 0.0016 - accuracy: 0.99 - ETA: 3:52 - loss: 0.0017 - accuracy: 0.99 - ETA: 3:40 - loss: 0.0016 - accuracy: 0.99 - ETA: 3:28 - loss: 0.0016 - accuracy: 0.99 - ETA: 3:16 - loss: 0.0016 - accuracy: 0.99 - ETA: 3:04 - loss: 0.0016 - accuracy: 0.99 - ETA: 2:51 - loss: 0.0016 - accuracy: 0.99 - ETA: 2:39 - loss: 0.0016 - accuracy: 0.99 - ETA: 2:27 - loss: 0.0016 - accuracy: 0.99 - ETA: 2:15 - loss: 0.0017 - accuracy: 0.99 - ETA: 2:03 - loss: 0.0017 - accuracy: 0.99 - ETA: 1:51 - loss: 0.0017 - accuracy: 0.99 - ETA: 1:39 - loss: 0.0017 - accuracy: 0.99 - ETA: 1:27 - loss: 0.0017 - accuracy: 0.99 - ETA: 1:15 - loss: 0.0017 - accuracy: 0.99 - ETA: 1:03 - loss: 0.0017 - accuracy: 0.99 - ETA: 51s - loss: 0.0017 - accuracy: 0.9974 - ETA: 39s - loss: 0.0017 - accuracy: 0.997 - ETA: 27s - loss: 0.0017 - accuracy: 0.997 - ETA: 15s - loss: 0.0016 - accuracy: 0.997 - ETA: 3s - loss: 0.0016 - accuracy: 0.997 - 1535s 804ms/step - loss: 0.0016 - accuracy: 0.9975 - val_loss: 0.0122 - val_accuracy: 0.9850\n",
      "Epoch 9/30\n"
     ]
    },
    {
     "name": "stdout",
     "output_type": "stream",
     "text": [
      "1908/1908 [==============================] - ETA: 23:47 - loss: 4.6602e-05 - accuracy: 1.000 - ETA: 23:32 - loss: 8.4938e-04 - accuracy: 0.998 - ETA: 23:24 - loss: 8.9729e-04 - accuracy: 0.998 - ETA: 23:07 - loss: 6.9630e-04 - accuracy: 0.999 - ETA: 23:03 - loss: 6.0795e-04 - accuracy: 0.999 - ETA: 22:40 - loss: 9.6127e-04 - accuracy: 0.998 - ETA: 22:26 - loss: 8.3567e-04 - accuracy: 0.998 - ETA: 22:17 - loss: 7.3398e-04 - accuracy: 0.998 - ETA: 22:03 - loss: 7.1501e-04 - accuracy: 0.999 - ETA: 21:47 - loss: 8.8437e-04 - accuracy: 0.998 - ETA: 21:32 - loss: 8.4712e-04 - accuracy: 0.998 - ETA: 21:17 - loss: 7.9624e-04 - accuracy: 0.998 - ETA: 21:06 - loss: 7.3594e-04 - accuracy: 0.999 - ETA: 20:58 - loss: 6.8635e-04 - accuracy: 0.999 - ETA: 20:44 - loss: 6.4234e-04 - accuracy: 0.999 - ETA: 20:37 - loss: 6.0474e-04 - accuracy: 0.999 - ETA: 20:25 - loss: 5.9486e-04 - accuracy: 0.999 - ETA: 20:15 - loss: 7.0018e-04 - accuracy: 0.999 - ETA: 20:02 - loss: 6.6512e-04 - accuracy: 0.999 - ETA: 19:48 - loss: 6.3865e-04 - accuracy: 0.999 - ETA: 19:35 - loss: 6.0912e-04 - accuracy: 0.999 - ETA: 19:22 - loss: 5.8751e-04 - accuracy: 0.999 - ETA: 19:09 - loss: 5.6596e-04 - accuracy: 0.999 - ETA: 18:55 - loss: 7.4464e-04 - accuracy: 0.999 - ETA: 18:41 - loss: 7.1688e-04 - accuracy: 0.999 - ETA: 18:28 - loss: 6.9100e-04 - accuracy: 0.999 - ETA: 18:17 - loss: 6.8214e-04 - accuracy: 0.999 - ETA: 18:05 - loss: 6.6785e-04 - accuracy: 0.999 - ETA: 17:54 - loss: 6.4643e-04 - accuracy: 0.999 - ETA: 17:42 - loss: 6.4503e-04 - accuracy: 0.999 - ETA: 17:30 - loss: 6.3165e-04 - accuracy: 0.999 - ETA: 17:19 - loss: 6.2603e-04 - accuracy: 0.999 - ETA: 17:08 - loss: 6.8479e-04 - accuracy: 0.999 - ETA: 16:56 - loss: 6.7835e-04 - accuracy: 0.999 - ETA: 16:43 - loss: 6.8172e-04 - accuracy: 0.999 - ETA: 16:30 - loss: 6.7264e-04 - accuracy: 0.999 - ETA: 16:17 - loss: 7.0159e-04 - accuracy: 0.999 - ETA: 16:06 - loss: 7.5735e-04 - accuracy: 0.999 - ETA: 15:53 - loss: 7.5789e-04 - accuracy: 0.999 - ETA: 15:41 - loss: 7.4704e-04 - accuracy: 0.999 - ETA: 15:31 - loss: 7.3865e-04 - accuracy: 0.999 - ETA: 15:19 - loss: 7.2478e-04 - accuracy: 0.999 - ETA: 15:07 - loss: 7.0950e-04 - accuracy: 0.999 - ETA: 14:56 - loss: 6.9426e-04 - accuracy: 0.999 - ETA: 14:44 - loss: 6.8101e-04 - accuracy: 0.999 - ETA: 14:32 - loss: 6.9290e-04 - accuracy: 0.999 - ETA: 14:19 - loss: 6.8380e-04 - accuracy: 0.999 - ETA: 14:09 - loss: 6.7029e-04 - accuracy: 0.999 - ETA: 13:57 - loss: 6.8074e-04 - accuracy: 0.999 - ETA: 13:46 - loss: 6.7047e-04 - accuracy: 0.999 - ETA: 13:34 - loss: 6.7891e-04 - accuracy: 0.999 - ETA: 13:22 - loss: 6.7430e-04 - accuracy: 0.999 - ETA: 13:11 - loss: 6.6591e-04 - accuracy: 0.999 - ETA: 12:59 - loss: 6.5734e-04 - accuracy: 0.999 - ETA: 12:48 - loss: 6.4614e-04 - accuracy: 0.999 - ETA: 12:38 - loss: 6.3734e-04 - accuracy: 0.999 - ETA: 12:28 - loss: 6.2730e-04 - accuracy: 0.999 - ETA: 12:21 - loss: 6.3936e-04 - accuracy: 0.999 - ETA: 12:11 - loss: 6.4240e-04 - accuracy: 0.999 - ETA: 12:02 - loss: 6.3189e-04 - accuracy: 0.999 - ETA: 11:51 - loss: 6.2171e-04 - accuracy: 0.999 - ETA: 11:40 - loss: 6.1365e-04 - accuracy: 0.999 - ETA: 11:28 - loss: 6.1533e-04 - accuracy: 0.999 - ETA: 11:15 - loss: 6.0598e-04 - accuracy: 0.999 - ETA: 11:04 - loss: 6.0395e-04 - accuracy: 0.999 - ETA: 10:51 - loss: 7.0110e-04 - accuracy: 0.999 - ETA: 10:39 - loss: 7.0949e-04 - accuracy: 0.999 - ETA: 10:27 - loss: 6.9935e-04 - accuracy: 0.999 - ETA: 10:14 - loss: 6.9292e-04 - accuracy: 0.999 - ETA: 10:02 - loss: 6.9473e-04 - accuracy: 0.999 - ETA: 9:49 - loss: 6.8825e-04 - accuracy: 0.999 - ETA: 9:37 - loss: 6.7896e-04 - accuracy: 0.99 - ETA: 9:24 - loss: 6.8013e-04 - accuracy: 0.99 - ETA: 9:12 - loss: 7.1544e-04 - accuracy: 0.99 - ETA: 8:59 - loss: 7.0605e-04 - accuracy: 0.99 - ETA: 8:47 - loss: 6.9752e-04 - accuracy: 0.99 - ETA: 8:35 - loss: 6.9025e-04 - accuracy: 0.99 - ETA: 8:23 - loss: 7.0261e-04 - accuracy: 0.99 - ETA: 8:10 - loss: 7.0630e-04 - accuracy: 0.99 - ETA: 7:58 - loss: 7.0383e-04 - accuracy: 0.99 - ETA: 7:46 - loss: 7.3140e-04 - accuracy: 0.99 - ETA: 7:34 - loss: 7.2391e-04 - accuracy: 0.99 - ETA: 7:22 - loss: 7.2444e-04 - accuracy: 0.99 - ETA: 7:10 - loss: 7.2134e-04 - accuracy: 0.99 - ETA: 6:58 - loss: 7.2495e-04 - accuracy: 0.99 - ETA: 6:46 - loss: 7.1731e-04 - accuracy: 0.99 - ETA: 6:33 - loss: 7.1449e-04 - accuracy: 0.99 - ETA: 6:21 - loss: 7.0692e-04 - accuracy: 0.99 - ETA: 6:09 - loss: 6.9986e-04 - accuracy: 0.99 - ETA: 5:57 - loss: 7.1263e-04 - accuracy: 0.99 - ETA: 5:45 - loss: 7.0713e-04 - accuracy: 0.99 - ETA: 5:32 - loss: 7.0204e-04 - accuracy: 0.99 - ETA: 5:20 - loss: 7.0763e-04 - accuracy: 0.99 - ETA: 5:08 - loss: 7.1900e-04 - accuracy: 0.99 - ETA: 4:55 - loss: 7.1253e-04 - accuracy: 0.99 - ETA: 4:43 - loss: 7.0939e-04 - accuracy: 0.99 - ETA: 4:31 - loss: 7.0706e-04 - accuracy: 0.99 - ETA: 4:19 - loss: 7.0888e-04 - accuracy: 0.99 - ETA: 4:06 - loss: 7.0237e-04 - accuracy: 0.99 - ETA: 3:54 - loss: 6.9871e-04 - accuracy: 0.99 - ETA: 3:42 - loss: 6.9853e-04 - accuracy: 0.99 - ETA: 3:30 - loss: 6.9206e-04 - accuracy: 0.99 - ETA: 3:17 - loss: 6.8663e-04 - accuracy: 0.99 - ETA: 3:05 - loss: 7.0560e-04 - accuracy: 0.99 - ETA: 2:53 - loss: 7.7002e-04 - accuracy: 0.99 - ETA: 2:41 - loss: 7.8981e-04 - accuracy: 0.99 - ETA: 2:29 - loss: 8.5313e-04 - accuracy: 0.99 - ETA: 2:17 - loss: 8.4777e-04 - accuracy: 0.99 - ETA: 2:04 - loss: 8.4469e-04 - accuracy: 0.99 - ETA: 1:52 - loss: 8.5863e-04 - accuracy: 0.99 - ETA: 1:40 - loss: 8.7187e-04 - accuracy: 0.99 - ETA: 1:28 - loss: 8.8491e-04 - accuracy: 0.99 - ETA: 1:16 - loss: 9.0776e-04 - accuracy: 0.99 - ETA: 1:03 - loss: 9.0605e-04 - accuracy: 0.99 - ETA: 51s - loss: 9.0361e-04 - accuracy: 0.9988 - ETA: 39s - loss: 9.1213e-04 - accuracy: 0.998 - ETA: 27s - loss: 9.0586e-04 - accuracy: 0.998 - ETA: 15s - loss: 9.6798e-04 - accuracy: 0.998 - ETA: 3s - loss: 9.6596e-04 - accuracy: 0.998 - 1560s 818ms/step - loss: 9.6472e-04 - accuracy: 0.9987 - val_loss: 0.0103 - val_accuracy: 0.9874\n",
      "Epoch 10/30\n"
     ]
    },
    {
     "name": "stdout",
     "output_type": "stream",
     "text": [
      "1908/1908 [==============================] - ETA: 27:33 - loss: 1.6948e-04 - accuracy: 1.000 - ETA: 26:37 - loss: 5.1438e-04 - accuracy: 1.000 - ETA: 25:53 - loss: 6.6580e-04 - accuracy: 0.998 - ETA: 25:29 - loss: 5.1914e-04 - accuracy: 0.999 - ETA: 24:56 - loss: 4.6590e-04 - accuracy: 0.999 - ETA: 24:17 - loss: 7.4924e-04 - accuracy: 0.998 - ETA: 23:52 - loss: 7.1689e-04 - accuracy: 0.998 - ETA: 23:36 - loss: 6.3157e-04 - accuracy: 0.999 - ETA: 23:19 - loss: 6.7010e-04 - accuracy: 0.998 - ETA: 23:11 - loss: 6.2521e-04 - accuracy: 0.998 - ETA: 23:07 - loss: 6.5611e-04 - accuracy: 0.998 - ETA: 22:56 - loss: 6.0388e-04 - accuracy: 0.999 - ETA: 22:50 - loss: 9.2374e-04 - accuracy: 0.998 - ETA: 22:46 - loss: 8.6755e-04 - accuracy: 0.998 - ETA: 22:30 - loss: 0.0011 - accuracy: 0.9984    - ETA: 22:12 - loss: 0.0011 - accuracy: 0.998 - ETA: 21:55 - loss: 0.0011 - accuracy: 0.998 - ETA: 21:39 - loss: 0.0011 - accuracy: 0.998 - ETA: 21:25 - loss: 0.0010 - accuracy: 0.998 - ETA: 21:12 - loss: 0.0011 - accuracy: 0.998 - ETA: 20:58 - loss: 0.0010 - accuracy: 0.998 - ETA: 20:48 - loss: 0.0012 - accuracy: 0.998 - ETA: 20:34 - loss: 0.0012 - accuracy: 0.998 - ETA: 20:20 - loss: 0.0015 - accuracy: 0.997 - ETA: 20:06 - loss: 0.0015 - accuracy: 0.997 - ETA: 19:54 - loss: 0.0014 - accuracy: 0.997 - ETA: 19:38 - loss: 0.0014 - accuracy: 0.997 - ETA: 19:28 - loss: 0.0014 - accuracy: 0.997 - ETA: 19:16 - loss: 0.0013 - accuracy: 0.997 - ETA: 19:02 - loss: 0.0015 - accuracy: 0.997 - ETA: 18:54 - loss: 0.0015 - accuracy: 0.997 - ETA: 18:40 - loss: 0.0015 - accuracy: 0.997 - ETA: 18:24 - loss: 0.0015 - accuracy: 0.997 - ETA: 18:07 - loss: 0.0015 - accuracy: 0.997 - ETA: 17:49 - loss: 0.0015 - accuracy: 0.997 - ETA: 17:32 - loss: 0.0015 - accuracy: 0.997 - ETA: 17:14 - loss: 0.0014 - accuracy: 0.997 - ETA: 16:56 - loss: 0.0014 - accuracy: 0.997 - ETA: 16:37 - loss: 0.0014 - accuracy: 0.997 - ETA: 16:20 - loss: 0.0014 - accuracy: 0.997 - ETA: 16:02 - loss: 0.0014 - accuracy: 0.997 - ETA: 15:46 - loss: 0.0014 - accuracy: 0.997 - ETA: 15:28 - loss: 0.0014 - accuracy: 0.997 - ETA: 15:12 - loss: 0.0013 - accuracy: 0.997 - ETA: 14:55 - loss: 0.0013 - accuracy: 0.997 - ETA: 14:40 - loss: 0.0013 - accuracy: 0.997 - ETA: 14:25 - loss: 0.0014 - accuracy: 0.997 - ETA: 14:10 - loss: 0.0014 - accuracy: 0.997 - ETA: 13:55 - loss: 0.0015 - accuracy: 0.997 - ETA: 13:40 - loss: 0.0014 - accuracy: 0.997 - ETA: 13:25 - loss: 0.0014 - accuracy: 0.997 - ETA: 13:11 - loss: 0.0016 - accuracy: 0.997 - ETA: 12:58 - loss: 0.0016 - accuracy: 0.997 - ETA: 12:45 - loss: 0.0016 - accuracy: 0.997 - ETA: 12:31 - loss: 0.0016 - accuracy: 0.997 - ETA: 12:17 - loss: 0.0016 - accuracy: 0.997 - ETA: 12:04 - loss: 0.0016 - accuracy: 0.997 - ETA: 11:51 - loss: 0.0015 - accuracy: 0.997 - ETA: 11:37 - loss: 0.0015 - accuracy: 0.997 - ETA: 11:24 - loss: 0.0016 - accuracy: 0.997 - ETA: 11:10 - loss: 0.0015 - accuracy: 0.997 - ETA: 10:57 - loss: 0.0015 - accuracy: 0.997 - ETA: 10:44 - loss: 0.0015 - accuracy: 0.997 - ETA: 10:31 - loss: 0.0015 - accuracy: 0.997 - ETA: 10:19 - loss: 0.0015 - accuracy: 0.997 - ETA: 10:06 - loss: 0.0015 - accuracy: 0.997 - ETA: 9:53 - loss: 0.0015 - accuracy: 0.997 - ETA: 9:41 - loss: 0.0014 - accuracy: 0.99 - ETA: 9:29 - loss: 0.0015 - accuracy: 0.99 - ETA: 9:16 - loss: 0.0014 - accuracy: 0.99 - ETA: 9:04 - loss: 0.0014 - accuracy: 0.99 - ETA: 8:52 - loss: 0.0014 - accuracy: 0.99 - ETA: 8:40 - loss: 0.0014 - accuracy: 0.99 - ETA: 8:28 - loss: 0.0014 - accuracy: 0.99 - ETA: 8:17 - loss: 0.0014 - accuracy: 0.99 - ETA: 8:05 - loss: 0.0014 - accuracy: 0.99 - ETA: 7:53 - loss: 0.0014 - accuracy: 0.99 - ETA: 7:42 - loss: 0.0014 - accuracy: 0.99 - ETA: 7:30 - loss: 0.0014 - accuracy: 0.99 - ETA: 7:19 - loss: 0.0014 - accuracy: 0.99 - ETA: 7:08 - loss: 0.0014 - accuracy: 0.99 - ETA: 6:56 - loss: 0.0013 - accuracy: 0.99 - ETA: 6:44 - loss: 0.0013 - accuracy: 0.99 - ETA: 6:32 - loss: 0.0013 - accuracy: 0.99 - ETA: 6:20 - loss: 0.0013 - accuracy: 0.99 - ETA: 6:09 - loss: 0.0013 - accuracy: 0.99 - ETA: 5:57 - loss: 0.0013 - accuracy: 0.99 - ETA: 5:46 - loss: 0.0013 - accuracy: 0.99 - ETA: 5:34 - loss: 0.0013 - accuracy: 0.99 - ETA: 5:23 - loss: 0.0014 - accuracy: 0.99 - ETA: 5:11 - loss: 0.0014 - accuracy: 0.99 - ETA: 5:00 - loss: 0.0013 - accuracy: 0.99 - ETA: 4:49 - loss: 0.0013 - accuracy: 0.99 - ETA: 4:37 - loss: 0.0013 - accuracy: 0.99 - ETA: 4:26 - loss: 0.0013 - accuracy: 0.99 - ETA: 4:15 - loss: 0.0013 - accuracy: 0.99 - ETA: 4:03 - loss: 0.0013 - accuracy: 0.99 - ETA: 3:52 - loss: 0.0013 - accuracy: 0.99 - ETA: 3:41 - loss: 0.0013 - accuracy: 0.99 - ETA: 3:30 - loss: 0.0013 - accuracy: 0.99 - ETA: 3:19 - loss: 0.0013 - accuracy: 0.99 - ETA: 3:08 - loss: 0.0013 - accuracy: 0.99 - ETA: 2:57 - loss: 0.0013 - accuracy: 0.99 - ETA: 2:45 - loss: 0.0012 - accuracy: 0.99 - ETA: 2:34 - loss: 0.0012 - accuracy: 0.99 - ETA: 2:24 - loss: 0.0012 - accuracy: 0.99 - ETA: 2:13 - loss: 0.0012 - accuracy: 0.99 - ETA: 2:02 - loss: 0.0012 - accuracy: 0.99 - ETA: 1:51 - loss: 0.0012 - accuracy: 0.99 - ETA: 1:40 - loss: 0.0012 - accuracy: 0.99 - ETA: 1:29 - loss: 0.0012 - accuracy: 0.99 - ETA: 1:18 - loss: 0.0012 - accuracy: 0.99 - ETA: 1:07 - loss: 0.0012 - accuracy: 0.99 - ETA: 56s - loss: 0.0012 - accuracy: 0.9983 - ETA: 45s - loss: 0.0013 - accuracy: 0.998 - ETA: 35s - loss: 0.0012 - accuracy: 0.998 - ETA: 24s - loss: 0.0012 - accuracy: 0.998 - ETA: 13s - loss: 0.0012 - accuracy: 0.998 - ETA: 2s - loss: 0.0012 - accuracy: 0.998 - 1364s 715ms/step - loss: 0.0012 - accuracy: 0.9983 - val_loss: 0.0127 - val_accuracy: 0.9855\n",
      "Epoch 11/30\n"
     ]
    },
    {
     "name": "stdout",
     "output_type": "stream",
     "text": [
      "1908/1908 [==============================] - ETA: 18:44 - loss: 5.5335e-04 - accuracy: 1.000 - ETA: 19:09 - loss: 3.8482e-04 - accuracy: 1.000 - ETA: 19:05 - loss: 3.5189e-04 - accuracy: 1.000 - ETA: 19:06 - loss: 3.3651e-04 - accuracy: 1.000 - ETA: 18:58 - loss: 2.8890e-04 - accuracy: 1.000 - ETA: 18:48 - loss: 2.5023e-04 - accuracy: 1.000 - ETA: 18:45 - loss: 2.2194e-04 - accuracy: 1.000 - ETA: 18:35 - loss: 2.0318e-04 - accuracy: 1.000 - ETA: 18:21 - loss: 1.8475e-04 - accuracy: 1.000 - ETA: 18:05 - loss: 2.3118e-04 - accuracy: 1.000 - ETA: 17:55 - loss: 3.8689e-04 - accuracy: 0.999 - ETA: 17:45 - loss: 3.5579e-04 - accuracy: 0.999 - ETA: 17:32 - loss: 4.4792e-04 - accuracy: 0.999 - ETA: 17:21 - loss: 4.2062e-04 - accuracy: 0.999 - ETA: 17:12 - loss: 3.9653e-04 - accuracy: 0.999 - ETA: 17:01 - loss: 3.7308e-04 - accuracy: 0.999 - ETA: 16:54 - loss: 7.4547e-04 - accuracy: 0.998 - ETA: 16:45 - loss: 7.0492e-04 - accuracy: 0.998 - ETA: 16:37 - loss: 6.8700e-04 - accuracy: 0.998 - ETA: 16:26 - loss: 6.5475e-04 - accuracy: 0.998 - ETA: 16:22 - loss: 6.2450e-04 - accuracy: 0.999 - ETA: 16:12 - loss: 5.9661e-04 - accuracy: 0.999 - ETA: 16:02 - loss: 5.7209e-04 - accuracy: 0.999 - ETA: 15:51 - loss: 5.4852e-04 - accuracy: 0.999 - ETA: 15:40 - loss: 5.2895e-04 - accuracy: 0.999 - ETA: 15:32 - loss: 5.2677e-04 - accuracy: 0.999 - ETA: 15:23 - loss: 7.0811e-04 - accuracy: 0.999 - ETA: 15:12 - loss: 6.8487e-04 - accuracy: 0.999 - ETA: 15:02 - loss: 7.0793e-04 - accuracy: 0.999 - ETA: 14:51 - loss: 6.8587e-04 - accuracy: 0.999 - ETA: 14:41 - loss: 6.9647e-04 - accuracy: 0.998 - ETA: 14:29 - loss: 6.8686e-04 - accuracy: 0.998 - ETA: 14:19 - loss: 6.6771e-04 - accuracy: 0.999 - ETA: 14:09 - loss: 6.5017e-04 - accuracy: 0.999 - ETA: 13:58 - loss: 6.3213e-04 - accuracy: 0.999 - ETA: 13:47 - loss: 6.2687e-04 - accuracy: 0.999 - ETA: 13:36 - loss: 6.9880e-04 - accuracy: 0.999 - ETA: 13:26 - loss: 6.8242e-04 - accuracy: 0.999 - ETA: 13:17 - loss: 6.6726e-04 - accuracy: 0.999 - ETA: 13:07 - loss: 6.6359e-04 - accuracy: 0.999 - ETA: 12:58 - loss: 6.5355e-04 - accuracy: 0.999 - ETA: 12:48 - loss: 6.7317e-04 - accuracy: 0.999 - ETA: 12:39 - loss: 7.5773e-04 - accuracy: 0.999 - ETA: 12:28 - loss: 7.7899e-04 - accuracy: 0.998 - ETA: 12:17 - loss: 7.6336e-04 - accuracy: 0.999 - ETA: 12:07 - loss: 7.4816e-04 - accuracy: 0.999 - ETA: 11:58 - loss: 7.3246e-04 - accuracy: 0.999 - ETA: 11:48 - loss: 8.0552e-04 - accuracy: 0.998 - ETA: 11:38 - loss: 7.9092e-04 - accuracy: 0.999 - ETA: 11:29 - loss: 7.7741e-04 - accuracy: 0.999 - ETA: 11:19 - loss: 7.6498e-04 - accuracy: 0.999 - ETA: 11:09 - loss: 7.5070e-04 - accuracy: 0.999 - ETA: 10:59 - loss: 7.3895e-04 - accuracy: 0.999 - ETA: 10:49 - loss: 7.2992e-04 - accuracy: 0.999 - ETA: 10:38 - loss: 7.3477e-04 - accuracy: 0.999 - ETA: 10:28 - loss: 7.2417e-04 - accuracy: 0.999 - ETA: 10:18 - loss: 7.1312e-04 - accuracy: 0.999 - ETA: 10:08 - loss: 7.1517e-04 - accuracy: 0.999 - ETA: 9:58 - loss: 7.1343e-04 - accuracy: 0.999 - ETA: 9:48 - loss: 7.0283e-04 - accuracy: 0.99 - ETA: 9:39 - loss: 6.9752e-04 - accuracy: 0.99 - ETA: 9:29 - loss: 7.0354e-04 - accuracy: 0.99 - ETA: 9:19 - loss: 6.9277e-04 - accuracy: 0.99 - ETA: 9:09 - loss: 6.8304e-04 - accuracy: 0.99 - ETA: 9:00 - loss: 6.7296e-04 - accuracy: 0.99 - ETA: 8:50 - loss: 6.6293e-04 - accuracy: 0.99 - ETA: 8:40 - loss: 7.4667e-04 - accuracy: 0.99 - ETA: 8:30 - loss: 7.3583e-04 - accuracy: 0.99 - ETA: 8:20 - loss: 7.4286e-04 - accuracy: 0.99 - ETA: 8:10 - loss: 7.3259e-04 - accuracy: 0.99 - ETA: 8:01 - loss: 7.2242e-04 - accuracy: 0.99 - ETA: 7:51 - loss: 7.1262e-04 - accuracy: 0.99 - ETA: 7:41 - loss: 7.0569e-04 - accuracy: 0.99 - ETA: 7:31 - loss: 6.9721e-04 - accuracy: 0.99 - ETA: 7:21 - loss: 6.9078e-04 - accuracy: 0.99 - ETA: 7:10 - loss: 6.8193e-04 - accuracy: 0.99 - ETA: 7:01 - loss: 6.7417e-04 - accuracy: 0.99 - ETA: 6:51 - loss: 6.6792e-04 - accuracy: 0.99 - ETA: 6:41 - loss: 6.5983e-04 - accuracy: 0.99 - ETA: 6:31 - loss: 6.5211e-04 - accuracy: 0.99 - ETA: 6:21 - loss: 6.4894e-04 - accuracy: 0.99 - ETA: 6:11 - loss: 6.4193e-04 - accuracy: 0.99 - ETA: 6:01 - loss: 6.3494e-04 - accuracy: 0.99 - ETA: 5:51 - loss: 6.2863e-04 - accuracy: 0.99 - ETA: 5:42 - loss: 6.6336e-04 - accuracy: 0.99 - ETA: 5:32 - loss: 6.5862e-04 - accuracy: 0.99 - ETA: 5:23 - loss: 6.5345e-04 - accuracy: 0.99 - ETA: 5:13 - loss: 6.5014e-04 - accuracy: 0.99 - ETA: 5:04 - loss: 6.4343e-04 - accuracy: 0.99 - ETA: 4:54 - loss: 6.3731e-04 - accuracy: 0.99 - ETA: 4:44 - loss: 6.3202e-04 - accuracy: 0.99 - ETA: 4:34 - loss: 6.2548e-04 - accuracy: 0.99 - ETA: 4:24 - loss: 6.2187e-04 - accuracy: 0.99 - ETA: 4:14 - loss: 6.1685e-04 - accuracy: 0.99 - ETA: 4:04 - loss: 6.6983e-04 - accuracy: 0.99 - ETA: 3:54 - loss: 6.6563e-04 - accuracy: 0.99 - ETA: 3:44 - loss: 6.6199e-04 - accuracy: 0.99 - ETA: 3:34 - loss: 6.6231e-04 - accuracy: 0.99 - ETA: 3:24 - loss: 6.5854e-04 - accuracy: 0.99 - ETA: 3:14 - loss: 6.5217e-04 - accuracy: 0.99 - ETA: 3:05 - loss: 6.4708e-04 - accuracy: 0.99 - ETA: 2:54 - loss: 6.4130e-04 - accuracy: 0.99 - ETA: 2:44 - loss: 6.3610e-04 - accuracy: 0.99 - ETA: 2:34 - loss: 6.3152e-04 - accuracy: 0.99 - ETA: 2:24 - loss: 6.3038e-04 - accuracy: 0.99 - ETA: 2:14 - loss: 6.2502e-04 - accuracy: 0.99 - ETA: 2:04 - loss: 6.1942e-04 - accuracy: 0.99 - ETA: 1:54 - loss: 6.2046e-04 - accuracy: 0.99 - ETA: 1:44 - loss: 6.1818e-04 - accuracy: 0.99 - ETA: 1:34 - loss: 6.1296e-04 - accuracy: 0.99 - ETA: 1:24 - loss: 6.1097e-04 - accuracy: 0.99 - ETA: 1:13 - loss: 6.0563e-04 - accuracy: 0.99 - ETA: 1:03 - loss: 6.0142e-04 - accuracy: 0.99 - ETA: 53s - loss: 5.9624e-04 - accuracy: 0.9992 - ETA: 43s - loss: 5.9127e-04 - accuracy: 0.999 - ETA: 33s - loss: 6.1553e-04 - accuracy: 0.999 - ETA: 23s - loss: 6.1052e-04 - accuracy: 0.999 - ETA: 12s - loss: 6.3224e-04 - accuracy: 0.999 - ETA: 2s - loss: 6.2714e-04 - accuracy: 0.999 - 1311s 687ms/step - loss: 6.2591e-04 - accuracy: 0.9992 - val_loss: 0.0130 - val_accuracy: 0.9864\n",
      "Epoch 12/30\n"
     ]
    },
    {
     "name": "stdout",
     "output_type": "stream",
     "text": [
      "1908/1908 [==============================] - ETA: 20:17 - loss: 3.1492e-04 - accuracy: 1.000 - ETA: 20:15 - loss: 2.5423e-04 - accuracy: 1.000 - ETA: 20:20 - loss: 2.5010e-04 - accuracy: 1.000 - ETA: 20:08 - loss: 2.5390e-04 - accuracy: 1.000 - ETA: 19:46 - loss: 2.4742e-04 - accuracy: 1.000 - ETA: 19:38 - loss: 0.0015 - accuracy: 0.9986    - ETA: 19:24 - loss: 0.0013 - accuracy: 0.998 - ETA: 19:05 - loss: 0.0011 - accuracy: 0.999 - ETA: 18:51 - loss: 0.0010 - accuracy: 0.999 - ETA: 18:38 - loss: 9.4906e-04 - accuracy: 0.999 - ETA: 18:24 - loss: 8.7924e-04 - accuracy: 0.999 - ETA: 18:12 - loss: 8.2264e-04 - accuracy: 0.999 - ETA: 18:02 - loss: 7.6943e-04 - accuracy: 0.999 - ETA: 17:50 - loss: 7.5021e-04 - accuracy: 0.999 - ETA: 17:45 - loss: 7.3000e-04 - accuracy: 0.999 - ETA: 17:36 - loss: 6.9318e-04 - accuracy: 0.999 - ETA: 17:24 - loss: 6.5821e-04 - accuracy: 0.999 - ETA: 17:13 - loss: 6.8877e-04 - accuracy: 0.999 - ETA: 17:02 - loss: 6.5697e-04 - accuracy: 0.999 - ETA: 16:49 - loss: 6.3170e-04 - accuracy: 0.999 - ETA: 16:38 - loss: 6.2146e-04 - accuracy: 0.999 - ETA: 16:29 - loss: 6.5677e-04 - accuracy: 0.999 - ETA: 16:18 - loss: 6.4292e-04 - accuracy: 0.999 - ETA: 16:06 - loss: 6.1730e-04 - accuracy: 0.999 - ETA: 15:55 - loss: 5.9419e-04 - accuracy: 0.999 - ETA: 15:44 - loss: 5.7399e-04 - accuracy: 0.999 - ETA: 15:35 - loss: 5.5414e-04 - accuracy: 0.999 - ETA: 15:26 - loss: 5.6031e-04 - accuracy: 0.999 - ETA: 15:15 - loss: 5.5412e-04 - accuracy: 0.999 - ETA: 15:06 - loss: 5.3603e-04 - accuracy: 0.999 - ETA: 14:56 - loss: 5.1926e-04 - accuracy: 0.999 - ETA: 14:45 - loss: 5.0908e-04 - accuracy: 0.999 - ETA: 14:34 - loss: 4.9503e-04 - accuracy: 0.999 - ETA: 14:25 - loss: 4.8464e-04 - accuracy: 0.999 - ETA: 14:15 - loss: 4.7177e-04 - accuracy: 0.999 - ETA: 14:05 - loss: 4.6037e-04 - accuracy: 0.999 - ETA: 13:55 - loss: 4.4956e-04 - accuracy: 0.999 - ETA: 13:45 - loss: 4.3786e-04 - accuracy: 0.999 - ETA: 13:35 - loss: 4.2724e-04 - accuracy: 0.999 - ETA: 13:26 - loss: 4.1681e-04 - accuracy: 0.999 - ETA: 13:15 - loss: 4.3368e-04 - accuracy: 0.999 - ETA: 13:05 - loss: 4.2372e-04 - accuracy: 0.999 - ETA: 12:54 - loss: 4.1401e-04 - accuracy: 0.999 - ETA: 12:43 - loss: 4.2456e-04 - accuracy: 0.999 - ETA: 12:33 - loss: 4.2397e-04 - accuracy: 0.999 - ETA: 12:22 - loss: 4.1492e-04 - accuracy: 0.999 - ETA: 12:12 - loss: 4.0624e-04 - accuracy: 0.999 - ETA: 12:02 - loss: 3.9812e-04 - accuracy: 0.999 - ETA: 11:51 - loss: 3.9184e-04 - accuracy: 0.999 - ETA: 11:41 - loss: 3.8413e-04 - accuracy: 0.999 - ETA: 11:31 - loss: 3.7677e-04 - accuracy: 0.999 - ETA: 11:22 - loss: 3.6961e-04 - accuracy: 0.999 - ETA: 11:12 - loss: 3.6276e-04 - accuracy: 0.999 - ETA: 11:02 - loss: 3.9166e-04 - accuracy: 0.999 - ETA: 10:52 - loss: 5.4683e-04 - accuracy: 0.999 - ETA: 10:41 - loss: 5.3710e-04 - accuracy: 0.999 - ETA: 10:31 - loss: 5.2823e-04 - accuracy: 0.999 - ETA: 10:21 - loss: 5.1969e-04 - accuracy: 0.999 - ETA: 10:11 - loss: 5.1125e-04 - accuracy: 0.999 - ETA: 10:01 - loss: 5.0342e-04 - accuracy: 0.999 - ETA: 9:51 - loss: 4.9582e-04 - accuracy: 0.999 - ETA: 9:41 - loss: 4.8864e-04 - accuracy: 0.99 - ETA: 9:30 - loss: 6.2981e-04 - accuracy: 0.99 - ETA: 9:20 - loss: 6.2728e-04 - accuracy: 0.99 - ETA: 9:10 - loss: 6.1796e-04 - accuracy: 0.99 - ETA: 8:59 - loss: 6.1125e-04 - accuracy: 0.99 - ETA: 8:49 - loss: 6.0253e-04 - accuracy: 0.99 - ETA: 8:39 - loss: 5.9394e-04 - accuracy: 0.99 - ETA: 8:28 - loss: 5.8558e-04 - accuracy: 0.99 - ETA: 8:18 - loss: 5.7765e-04 - accuracy: 0.99 - ETA: 8:08 - loss: 5.7059e-04 - accuracy: 0.99 - ETA: 7:58 - loss: 5.6305e-04 - accuracy: 0.99 - ETA: 7:48 - loss: 5.5572e-04 - accuracy: 0.99 - ETA: 7:38 - loss: 5.4857e-04 - accuracy: 0.99 - ETA: 7:28 - loss: 5.4474e-04 - accuracy: 0.99 - ETA: 7:18 - loss: 5.3830e-04 - accuracy: 0.99 - ETA: 7:08 - loss: 5.3221e-04 - accuracy: 0.99 - ETA: 6:57 - loss: 5.2572e-04 - accuracy: 0.99 - ETA: 6:47 - loss: 5.1928e-04 - accuracy: 0.99 - ETA: 6:37 - loss: 5.1416e-04 - accuracy: 0.99 - ETA: 6:27 - loss: 5.0829e-04 - accuracy: 0.99 - ETA: 6:17 - loss: 5.0231e-04 - accuracy: 0.99 - ETA: 6:06 - loss: 4.9772e-04 - accuracy: 0.99 - ETA: 5:56 - loss: 4.9222e-04 - accuracy: 0.99 - ETA: 5:46 - loss: 4.9981e-04 - accuracy: 0.99 - ETA: 5:36 - loss: 4.9812e-04 - accuracy: 0.99 - ETA: 5:26 - loss: 4.9328e-04 - accuracy: 0.99 - ETA: 5:15 - loss: 4.8780e-04 - accuracy: 0.99 - ETA: 5:05 - loss: 4.8259e-04 - accuracy: 0.99 - ETA: 4:55 - loss: 4.8066e-04 - accuracy: 0.99 - ETA: 4:45 - loss: 4.7551e-04 - accuracy: 0.99 - ETA: 4:35 - loss: 4.7177e-04 - accuracy: 0.99 - ETA: 4:25 - loss: 4.6786e-04 - accuracy: 0.99 - ETA: 4:15 - loss: 4.6410e-04 - accuracy: 0.99 - ETA: 4:05 - loss: 4.6028e-04 - accuracy: 0.99 - ETA: 3:55 - loss: 4.5623e-04 - accuracy: 0.99 - ETA: 3:45 - loss: 4.5292e-04 - accuracy: 0.99 - ETA: 3:35 - loss: 4.4852e-04 - accuracy: 0.99 - ETA: 3:25 - loss: 4.4472e-04 - accuracy: 0.99 - ETA: 3:15 - loss: 4.4053e-04 - accuracy: 0.99 - ETA: 3:04 - loss: 4.3641e-04 - accuracy: 0.99 - ETA: 2:54 - loss: 4.3298e-04 - accuracy: 0.99 - ETA: 2:44 - loss: 4.2980e-04 - accuracy: 0.99 - ETA: 2:34 - loss: 4.2644e-04 - accuracy: 0.99 - ETA: 2:24 - loss: 4.2262e-04 - accuracy: 0.99 - ETA: 2:14 - loss: 4.1916e-04 - accuracy: 0.99 - ETA: 2:04 - loss: 4.1556e-04 - accuracy: 0.99 - ETA: 1:53 - loss: 4.1185e-04 - accuracy: 0.99 - ETA: 1:43 - loss: 4.0820e-04 - accuracy: 0.99 - ETA: 1:33 - loss: 4.0457e-04 - accuracy: 0.99 - ETA: 1:23 - loss: 4.0145e-04 - accuracy: 0.99 - ETA: 1:13 - loss: 3.9827e-04 - accuracy: 0.99 - ETA: 1:03 - loss: 3.9485e-04 - accuracy: 0.99 - ETA: 53s - loss: 3.9144e-04 - accuracy: 0.9996 - ETA: 43s - loss: 3.8811e-04 - accuracy: 0.999 - ETA: 32s - loss: 3.9040e-04 - accuracy: 0.999 - ETA: 22s - loss: 3.8804e-04 - accuracy: 0.999 - ETA: 12s - loss: 3.8482e-04 - accuracy: 0.999 - ETA: 2s - loss: 3.8176e-04 - accuracy: 0.999 - 1292s 677ms/step - loss: 3.8097e-04 - accuracy: 0.9995 - val_loss: 0.0131 - val_accuracy: 0.9877\n",
      "Epoch 13/30\n"
     ]
    },
    {
     "name": "stdout",
     "output_type": "stream",
     "text": [
      "1908/1908 [==============================] - ETA: 20:31 - loss: 0.0017 - accuracy: 0.995 - ETA: 19:38 - loss: 8.5288e-04 - accuracy: 0.997 - ETA: 19:27 - loss: 5.6989e-04 - accuracy: 0.998 - ETA: 19:15 - loss: 4.4696e-04 - accuracy: 0.998 - ETA: 19:07 - loss: 3.6096e-04 - accuracy: 0.999 - ETA: 19:08 - loss: 3.0248e-04 - accuracy: 0.999 - ETA: 18:56 - loss: 2.9447e-04 - accuracy: 0.999 - ETA: 18:49 - loss: 2.5825e-04 - accuracy: 0.999 - ETA: 18:38 - loss: 2.5202e-04 - accuracy: 0.999 - ETA: 18:27 - loss: 2.2715e-04 - accuracy: 0.999 - ETA: 18:14 - loss: 2.0701e-04 - accuracy: 0.999 - ETA: 18:01 - loss: 1.9065e-04 - accuracy: 0.999 - ETA: 17:53 - loss: 1.8051e-04 - accuracy: 0.999 - ETA: 17:40 - loss: 1.6792e-04 - accuracy: 0.999 - ETA: 17:33 - loss: 1.5708e-04 - accuracy: 0.999 - ETA: 17:28 - loss: 1.4971e-04 - accuracy: 0.999 - ETA: 17:23 - loss: 1.4215e-04 - accuracy: 0.999 - ETA: 17:16 - loss: 1.3472e-04 - accuracy: 0.999 - ETA: 17:07 - loss: 1.3171e-04 - accuracy: 0.999 - ETA: 17:00 - loss: 1.2599e-04 - accuracy: 0.999 - ETA: 16:50 - loss: 1.2012e-04 - accuracy: 0.999 - ETA: 16:40 - loss: 1.1479e-04 - accuracy: 0.999 - ETA: 16:30 - loss: 1.1000e-04 - accuracy: 0.999 - ETA: 16:21 - loss: 1.0564e-04 - accuracy: 0.999 - ETA: 16:11 - loss: 1.0155e-04 - accuracy: 0.999 - ETA: 16:01 - loss: 9.8185e-05 - accuracy: 0.999 - ETA: 15:49 - loss: 9.4671e-05 - accuracy: 0.999 - ETA: 15:37 - loss: 9.1462e-05 - accuracy: 0.999 - ETA: 15:26 - loss: 8.8459e-05 - accuracy: 0.999 - ETA: 15:14 - loss: 8.5618e-05 - accuracy: 0.999 - ETA: 15:03 - loss: 8.2918e-05 - accuracy: 0.999 - ETA: 14:52 - loss: 8.0434e-05 - accuracy: 0.999 - ETA: 14:41 - loss: 7.8191e-05 - accuracy: 0.999 - ETA: 14:31 - loss: 7.6191e-05 - accuracy: 0.999 - ETA: 14:21 - loss: 7.4123e-05 - accuracy: 0.999 - ETA: 14:11 - loss: 7.2110e-05 - accuracy: 0.999 - ETA: 14:01 - loss: 7.0225e-05 - accuracy: 0.999 - ETA: 13:50 - loss: 6.8587e-05 - accuracy: 0.999 - ETA: 13:39 - loss: 6.6874e-05 - accuracy: 0.999 - ETA: 13:29 - loss: 6.5272e-05 - accuracy: 0.999 - ETA: 13:18 - loss: 6.4976e-05 - accuracy: 0.999 - ETA: 13:08 - loss: 6.3491e-05 - accuracy: 0.999 - ETA: 12:58 - loss: 6.2067e-05 - accuracy: 0.999 - ETA: 12:48 - loss: 6.1116e-05 - accuracy: 0.999 - ETA: 12:37 - loss: 6.1885e-05 - accuracy: 0.999 - ETA: 12:27 - loss: 6.0693e-05 - accuracy: 0.999 - ETA: 12:16 - loss: 5.9459e-05 - accuracy: 0.999 - ETA: 12:07 - loss: 5.9052e-05 - accuracy: 0.999 - ETA: 11:56 - loss: 5.8199e-05 - accuracy: 0.999 - ETA: 11:47 - loss: 5.7101e-05 - accuracy: 0.999 - ETA: 11:36 - loss: 5.6064e-05 - accuracy: 0.999 - ETA: 11:26 - loss: 5.5012e-05 - accuracy: 0.999 - ETA: 11:15 - loss: 5.4277e-05 - accuracy: 0.999 - ETA: 11:06 - loss: 5.3600e-05 - accuracy: 0.999 - ETA: 10:57 - loss: 5.2715e-05 - accuracy: 0.999 - ETA: 10:47 - loss: 5.6545e-05 - accuracy: 0.999 - ETA: 10:38 - loss: 5.5582e-05 - accuracy: 0.999 - ETA: 10:28 - loss: 5.4680e-05 - accuracy: 0.999 - ETA: 10:18 - loss: 5.3877e-05 - accuracy: 0.999 - ETA: 10:09 - loss: 5.3000e-05 - accuracy: 0.999 - ETA: 9:59 - loss: 5.2292e-05 - accuracy: 0.999 - ETA: 9:48 - loss: 5.2085e-05 - accuracy: 0.99 - ETA: 9:38 - loss: 5.1310e-05 - accuracy: 0.99 - ETA: 9:28 - loss: 5.0618e-05 - accuracy: 0.99 - ETA: 9:18 - loss: 5.0250e-05 - accuracy: 0.99 - ETA: 9:07 - loss: 4.9965e-05 - accuracy: 0.99 - ETA: 8:57 - loss: 1.1392e-04 - accuracy: 0.99 - ETA: 8:47 - loss: 1.1227e-04 - accuracy: 0.99 - ETA: 8:37 - loss: 1.1066e-04 - accuracy: 0.99 - ETA: 8:26 - loss: 1.0916e-04 - accuracy: 0.99 - ETA: 8:16 - loss: 1.0783e-04 - accuracy: 0.99 - ETA: 8:05 - loss: 1.0635e-04 - accuracy: 0.99 - ETA: 7:55 - loss: 1.0503e-04 - accuracy: 0.99 - ETA: 7:44 - loss: 1.0364e-04 - accuracy: 0.99 - ETA: 7:34 - loss: 1.0250e-04 - accuracy: 0.99 - ETA: 7:23 - loss: 1.0120e-04 - accuracy: 0.99 - ETA: 7:13 - loss: 1.0580e-04 - accuracy: 0.99 - ETA: 7:02 - loss: 1.0483e-04 - accuracy: 0.99 - ETA: 6:52 - loss: 1.0362e-04 - accuracy: 0.99 - ETA: 6:42 - loss: 1.0237e-04 - accuracy: 0.99 - ETA: 6:32 - loss: 1.0118e-04 - accuracy: 0.99 - ETA: 6:22 - loss: 1.0002e-04 - accuracy: 0.99 - ETA: 6:11 - loss: 1.0366e-04 - accuracy: 0.99 - ETA: 6:01 - loss: 1.0251e-04 - accuracy: 0.99 - ETA: 5:51 - loss: 1.0136e-04 - accuracy: 0.99 - ETA: 5:41 - loss: 1.0808e-04 - accuracy: 0.99 - ETA: 5:30 - loss: 1.0703e-04 - accuracy: 0.99 - ETA: 5:20 - loss: 1.0587e-04 - accuracy: 0.99 - ETA: 5:10 - loss: 1.0483e-04 - accuracy: 0.99 - ETA: 4:59 - loss: 1.0407e-04 - accuracy: 0.99 - ETA: 4:49 - loss: 1.0294e-04 - accuracy: 0.99 - ETA: 4:39 - loss: 1.0193e-04 - accuracy: 0.99 - ETA: 4:28 - loss: 1.0148e-04 - accuracy: 0.99 - ETA: 4:18 - loss: 1.0051e-04 - accuracy: 0.99 - ETA: 4:08 - loss: 9.9704e-05 - accuracy: 0.99 - ETA: 3:57 - loss: 1.0256e-04 - accuracy: 0.99 - ETA: 3:47 - loss: 1.0161e-04 - accuracy: 0.99 - ETA: 3:37 - loss: 1.0067e-04 - accuracy: 0.99 - ETA: 3:27 - loss: 9.9730e-05 - accuracy: 0.99 - ETA: 3:16 - loss: 9.8778e-05 - accuracy: 0.99 - ETA: 3:06 - loss: 9.7907e-05 - accuracy: 0.99 - ETA: 2:56 - loss: 9.7017e-05 - accuracy: 0.99 - ETA: 2:46 - loss: 9.6177e-05 - accuracy: 0.99 - ETA: 2:35 - loss: 9.5674e-05 - accuracy: 0.99 - ETA: 2:25 - loss: 9.4820e-05 - accuracy: 0.99 - ETA: 2:15 - loss: 9.3984e-05 - accuracy: 0.99 - ETA: 2:05 - loss: 9.3405e-05 - accuracy: 0.99 - ETA: 1:55 - loss: 9.4273e-05 - accuracy: 0.99 - ETA: 1:44 - loss: 9.3451e-05 - accuracy: 0.99 - ETA: 1:34 - loss: 9.5034e-05 - accuracy: 0.99 - ETA: 1:24 - loss: 9.4230e-05 - accuracy: 0.99 - ETA: 1:14 - loss: 9.3866e-05 - accuracy: 0.99 - ETA: 1:03 - loss: 9.3066e-05 - accuracy: 0.99 - ETA: 53s - loss: 9.7339e-05 - accuracy: 0.9999 - ETA: 43s - loss: 9.6512e-05 - accuracy: 0.999 - ETA: 33s - loss: 9.5704e-05 - accuracy: 0.999 - ETA: 22s - loss: 9.5058e-05 - accuracy: 0.999 - ETA: 12s - loss: 9.4299e-05 - accuracy: 0.999 - ETA: 2s - loss: 9.3664e-05 - accuracy: 0.999 - 1303s 683ms/step - loss: 9.3490e-05 - accuracy: 0.9999 - val_loss: 0.0145 - val_accuracy: 0.9867\n",
      "Epoch 14/30\n"
     ]
    },
    {
     "name": "stdout",
     "output_type": "stream",
     "text": [
      "1908/1908 [==============================] - ETA: 20:50 - loss: 3.3358e-06 - accuracy: 1.000 - ETA: 20:14 - loss: 3.4853e-06 - accuracy: 1.000 - ETA: 19:54 - loss: 4.3208e-06 - accuracy: 1.000 - ETA: 19:26 - loss: 4.4639e-06 - accuracy: 1.000 - ETA: 19:11 - loss: 3.8439e-06 - accuracy: 1.000 - ETA: 18:58 - loss: 4.3608e-06 - accuracy: 1.000 - ETA: 18:46 - loss: 4.2878e-06 - accuracy: 1.000 - ETA: 18:37 - loss: 5.8916e-06 - accuracy: 1.000 - ETA: 18:27 - loss: 5.4983e-06 - accuracy: 1.000 - ETA: 18:21 - loss: 7.3846e-06 - accuracy: 1.000 - ETA: 18:12 - loss: 6.9893e-06 - accuracy: 1.000 - ETA: 18:02 - loss: 7.6154e-06 - accuracy: 1.000 - ETA: 17:52 - loss: 7.4995e-06 - accuracy: 1.000 - ETA: 17:43 - loss: 7.9437e-06 - accuracy: 1.000 - ETA: 17:32 - loss: 7.9887e-06 - accuracy: 1.000 - ETA: 17:23 - loss: 7.8014e-06 - accuracy: 1.000 - ETA: 17:13 - loss: 9.6563e-06 - accuracy: 1.000 - ETA: 17:04 - loss: 9.3163e-06 - accuracy: 1.000 - ETA: 16:53 - loss: 9.0651e-06 - accuracy: 1.000 - ETA: 16:44 - loss: 1.1383e-05 - accuracy: 1.000 - ETA: 16:34 - loss: 1.1016e-05 - accuracy: 1.000 - ETA: 16:24 - loss: 1.0673e-05 - accuracy: 1.000 - ETA: 16:13 - loss: 1.0416e-05 - accuracy: 1.000 - ETA: 16:02 - loss: 1.0375e-05 - accuracy: 1.000 - ETA: 15:50 - loss: 1.0339e-05 - accuracy: 1.000 - ETA: 15:41 - loss: 1.0018e-05 - accuracy: 1.000 - ETA: 15:30 - loss: 9.7217e-06 - accuracy: 1.000 - ETA: 15:19 - loss: 9.8842e-06 - accuracy: 1.000 - ETA: 15:09 - loss: 9.6321e-06 - accuracy: 1.000 - ETA: 14:59 - loss: 9.3563e-06 - accuracy: 1.000 - ETA: 14:49 - loss: 9.2599e-06 - accuracy: 1.000 - ETA: 14:41 - loss: 9.0225e-06 - accuracy: 1.000 - ETA: 14:31 - loss: 8.8476e-06 - accuracy: 1.000 - ETA: 14:21 - loss: 8.7582e-06 - accuracy: 1.000 - ETA: 14:11 - loss: 8.6582e-06 - accuracy: 1.000 - ETA: 14:01 - loss: 8.5462e-06 - accuracy: 1.000 - ETA: 13:51 - loss: 8.9913e-06 - accuracy: 1.000 - ETA: 13:41 - loss: 8.8433e-06 - accuracy: 1.000 - ETA: 13:31 - loss: 9.9920e-06 - accuracy: 1.000 - ETA: 13:22 - loss: 9.7812e-06 - accuracy: 1.000 - ETA: 13:11 - loss: 9.8304e-06 - accuracy: 1.000 - ETA: 13:01 - loss: 9.7305e-06 - accuracy: 1.000 - ETA: 12:51 - loss: 9.6860e-06 - accuracy: 1.000 - ETA: 12:41 - loss: 9.5740e-06 - accuracy: 1.000 - ETA: 12:30 - loss: 9.4042e-06 - accuracy: 1.000 - ETA: 12:21 - loss: 9.2200e-06 - accuracy: 1.000 - ETA: 12:10 - loss: 9.2841e-06 - accuracy: 1.000 - ETA: 11:59 - loss: 9.1269e-06 - accuracy: 1.000 - ETA: 11:49 - loss: 8.9881e-06 - accuracy: 1.000 - ETA: 11:39 - loss: 9.0724e-06 - accuracy: 1.000 - ETA: 11:28 - loss: 8.9237e-06 - accuracy: 1.000 - ETA: 11:18 - loss: 8.7739e-06 - accuracy: 1.000 - ETA: 11:08 - loss: 8.8311e-06 - accuracy: 1.000 - ETA: 10:58 - loss: 8.7013e-06 - accuracy: 1.000 - ETA: 10:48 - loss: 8.5651e-06 - accuracy: 1.000 - ETA: 10:38 - loss: 8.4389e-06 - accuracy: 1.000 - ETA: 10:28 - loss: 8.4940e-06 - accuracy: 1.000 - ETA: 10:18 - loss: 8.3835e-06 - accuracy: 1.000 - ETA: 10:08 - loss: 8.2551e-06 - accuracy: 1.000 - ETA: 9:58 - loss: 8.1406e-06 - accuracy: 1.000 - ETA: 9:47 - loss: 8.0238e-06 - accuracy: 1.00 - ETA: 9:37 - loss: 7.9204e-06 - accuracy: 1.00 - ETA: 9:27 - loss: 7.8230e-06 - accuracy: 1.00 - ETA: 9:17 - loss: 7.7823e-06 - accuracy: 1.00 - ETA: 9:07 - loss: 7.6819e-06 - accuracy: 1.00 - ETA: 8:56 - loss: 7.5856e-06 - accuracy: 1.00 - ETA: 8:46 - loss: 7.5710e-06 - accuracy: 1.00 - ETA: 8:36 - loss: 7.5055e-06 - accuracy: 1.00 - ETA: 8:26 - loss: 7.4256e-06 - accuracy: 1.00 - ETA: 8:16 - loss: 7.3406e-06 - accuracy: 1.00 - ETA: 8:06 - loss: 7.4142e-06 - accuracy: 1.00 - ETA: 7:56 - loss: 7.3341e-06 - accuracy: 1.00 - ETA: 7:46 - loss: 7.2879e-06 - accuracy: 1.00 - ETA: 7:36 - loss: 7.2063e-06 - accuracy: 1.00 - ETA: 7:26 - loss: 7.3443e-06 - accuracy: 1.00 - ETA: 7:16 - loss: 7.3102e-06 - accuracy: 1.00 - ETA: 7:06 - loss: 7.2246e-06 - accuracy: 1.00 - ETA: 6:56 - loss: 7.1952e-06 - accuracy: 1.00 - ETA: 6:46 - loss: 7.1338e-06 - accuracy: 1.00 - ETA: 6:36 - loss: 7.1013e-06 - accuracy: 1.00 - ETA: 6:26 - loss: 7.0787e-06 - accuracy: 1.00 - ETA: 6:16 - loss: 7.0295e-06 - accuracy: 1.00 - ETA: 6:06 - loss: 6.9551e-06 - accuracy: 1.00 - ETA: 5:56 - loss: 6.8874e-06 - accuracy: 1.00 - ETA: 5:45 - loss: 6.8242e-06 - accuracy: 1.00 - ETA: 5:35 - loss: 6.7521e-06 - accuracy: 1.00 - ETA: 5:25 - loss: 7.0266e-06 - accuracy: 1.00 - ETA: 5:15 - loss: 6.9562e-06 - accuracy: 1.00 - ETA: 5:05 - loss: 6.9077e-06 - accuracy: 1.00 - ETA: 4:55 - loss: 6.8859e-06 - accuracy: 1.00 - ETA: 4:45 - loss: 6.8206e-06 - accuracy: 1.00 - ETA: 4:35 - loss: 6.7693e-06 - accuracy: 1.00 - ETA: 4:24 - loss: 6.7038e-06 - accuracy: 1.00 - ETA: 4:14 - loss: 6.6545e-06 - accuracy: 1.00 - ETA: 4:04 - loss: 6.6047e-06 - accuracy: 1.00 - ETA: 3:54 - loss: 6.6801e-06 - accuracy: 1.00 - ETA: 3:44 - loss: 6.6693e-06 - accuracy: 1.00 - ETA: 3:34 - loss: 6.6261e-06 - accuracy: 1.00 - ETA: 3:24 - loss: 6.6148e-06 - accuracy: 1.00 - ETA: 3:14 - loss: 6.6818e-06 - accuracy: 1.00 - ETA: 3:04 - loss: 6.6255e-06 - accuracy: 1.00 - ETA: 2:54 - loss: 7.3645e-06 - accuracy: 1.00 - ETA: 2:44 - loss: 7.3045e-06 - accuracy: 1.00 - ETA: 2:33 - loss: 7.3009e-06 - accuracy: 1.00 - ETA: 2:23 - loss: 7.2586e-06 - accuracy: 1.00 - ETA: 2:13 - loss: 7.2103e-06 - accuracy: 1.00 - ETA: 2:03 - loss: 7.1564e-06 - accuracy: 1.00 - ETA: 1:53 - loss: 7.1166e-06 - accuracy: 1.00 - ETA: 1:43 - loss: 7.0590e-06 - accuracy: 1.00 - ETA: 1:33 - loss: 7.0229e-06 - accuracy: 1.00 - ETA: 1:23 - loss: 6.9642e-06 - accuracy: 1.00 - ETA: 1:13 - loss: 6.9192e-06 - accuracy: 1.00 - ETA: 1:03 - loss: 6.8636e-06 - accuracy: 1.00 - ETA: 53s - loss: 6.8236e-06 - accuracy: 1.0000 - ETA: 42s - loss: 6.7923e-06 - accuracy: 1.000 - ETA: 32s - loss: 6.7551e-06 - accuracy: 1.000 - ETA: 22s - loss: 6.7266e-06 - accuracy: 1.000 - ETA: 12s - loss: 6.6846e-06 - accuracy: 1.000 - ETA: 2s - loss: 6.6427e-06 - accuracy: 1.000 - 1287s 674ms/step - loss: 6.6317e-06 - accuracy: 1.0000 - val_loss: 0.0161 - val_accuracy: 0.9877\n",
      "Epoch 15/30\n"
     ]
    },
    {
     "name": "stdout",
     "output_type": "stream",
     "text": [
      "1908/1908 [==============================] - ETA: 19:29 - loss: 1.4622e-06 - accuracy: 1.000 - ETA: 19:47 - loss: 1.0676e-06 - accuracy: 1.000 - ETA: 19:38 - loss: 1.4740e-06 - accuracy: 1.000 - ETA: 19:27 - loss: 1.4654e-06 - accuracy: 1.000 - ETA: 19:16 - loss: 1.7554e-06 - accuracy: 1.000 - ETA: 19:09 - loss: 1.6461e-06 - accuracy: 1.000 - ETA: 19:03 - loss: 1.5654e-06 - accuracy: 1.000 - ETA: 18:55 - loss: 1.4662e-06 - accuracy: 1.000 - ETA: 18:46 - loss: 1.3920e-06 - accuracy: 1.000 - ETA: 18:36 - loss: 1.5988e-06 - accuracy: 1.000 - ETA: 18:24 - loss: 1.6999e-06 - accuracy: 1.000 - ETA: 18:17 - loss: 1.9311e-06 - accuracy: 1.000 - ETA: 18:04 - loss: 1.8228e-06 - accuracy: 1.000 - ETA: 17:52 - loss: 1.8473e-06 - accuracy: 1.000 - ETA: 17:40 - loss: 1.7653e-06 - accuracy: 1.000 - ETA: 17:26 - loss: 1.7107e-06 - accuracy: 1.000 - ETA: 17:15 - loss: 1.8172e-06 - accuracy: 1.000 - ETA: 17:05 - loss: 1.7826e-06 - accuracy: 1.000 - ETA: 16:53 - loss: 1.7404e-06 - accuracy: 1.000 - ETA: 16:42 - loss: 1.7285e-06 - accuracy: 1.000 - ETA: 16:32 - loss: 1.6734e-06 - accuracy: 1.000 - ETA: 16:21 - loss: 1.6615e-06 - accuracy: 1.000 - ETA: 16:10 - loss: 1.8033e-06 - accuracy: 1.000 - ETA: 16:02 - loss: 1.7979e-06 - accuracy: 1.000 - ETA: 15:51 - loss: 1.7599e-06 - accuracy: 1.000 - ETA: 15:40 - loss: 1.7857e-06 - accuracy: 1.000 - ETA: 15:30 - loss: 1.8145e-06 - accuracy: 1.000 - ETA: 15:20 - loss: 1.8709e-06 - accuracy: 1.000 - ETA: 15:10 - loss: 1.8396e-06 - accuracy: 1.000 - ETA: 15:01 - loss: 1.7968e-06 - accuracy: 1.000 - ETA: 14:52 - loss: 1.7924e-06 - accuracy: 1.000 - ETA: 14:41 - loss: 1.7522e-06 - accuracy: 1.000 - ETA: 14:31 - loss: 1.7309e-06 - accuracy: 1.000 - ETA: 14:21 - loss: 1.7252e-06 - accuracy: 1.000 - ETA: 14:09 - loss: 1.7789e-06 - accuracy: 1.000 - ETA: 14:00 - loss: 1.7796e-06 - accuracy: 1.000 - ETA: 13:50 - loss: 1.7834e-06 - accuracy: 1.000 - ETA: 13:39 - loss: 1.7548e-06 - accuracy: 1.000 - ETA: 13:29 - loss: 1.7244e-06 - accuracy: 1.000 - ETA: 13:18 - loss: 1.7023e-06 - accuracy: 1.000 - ETA: 13:07 - loss: 1.7121e-06 - accuracy: 1.000 - ETA: 12:58 - loss: 1.7258e-06 - accuracy: 1.000 - ETA: 12:47 - loss: 1.7143e-06 - accuracy: 1.000 - ETA: 12:37 - loss: 1.6917e-06 - accuracy: 1.000 - ETA: 12:27 - loss: 1.6894e-06 - accuracy: 1.000 - ETA: 12:17 - loss: 1.7000e-06 - accuracy: 1.000 - ETA: 12:08 - loss: 1.6774e-06 - accuracy: 1.000 - ETA: 11:58 - loss: 1.6602e-06 - accuracy: 1.000 - ETA: 11:48 - loss: 1.6574e-06 - accuracy: 1.000 - ETA: 11:38 - loss: 1.6709e-06 - accuracy: 1.000 - ETA: 11:28 - loss: 1.6671e-06 - accuracy: 1.000 - ETA: 11:17 - loss: 1.6581e-06 - accuracy: 1.000 - ETA: 11:07 - loss: 1.6390e-06 - accuracy: 1.000 - ETA: 10:57 - loss: 1.6398e-06 - accuracy: 1.000 - ETA: 10:46 - loss: 1.6261e-06 - accuracy: 1.000 - ETA: 10:36 - loss: 1.6256e-06 - accuracy: 1.000 - ETA: 10:26 - loss: 1.6151e-06 - accuracy: 1.000 - ETA: 10:16 - loss: 1.6198e-06 - accuracy: 1.000 - ETA: 10:06 - loss: 1.6863e-06 - accuracy: 1.000 - ETA: 9:56 - loss: 1.6886e-06 - accuracy: 1.000 - ETA: 9:46 - loss: 1.6795e-06 - accuracy: 1.00 - ETA: 9:37 - loss: 1.7006e-06 - accuracy: 1.00 - ETA: 9:27 - loss: 1.6910e-06 - accuracy: 1.00 - ETA: 9:16 - loss: 1.7081e-06 - accuracy: 1.00 - ETA: 9:06 - loss: 1.6919e-06 - accuracy: 1.00 - ETA: 8:56 - loss: 1.6946e-06 - accuracy: 1.00 - ETA: 8:46 - loss: 1.6791e-06 - accuracy: 1.00 - ETA: 8:36 - loss: 1.6655e-06 - accuracy: 1.00 - ETA: 8:26 - loss: 1.7051e-06 - accuracy: 1.00 - ETA: 8:16 - loss: 1.7302e-06 - accuracy: 1.00 - ETA: 8:06 - loss: 1.7304e-06 - accuracy: 1.00 - ETA: 7:56 - loss: 1.7203e-06 - accuracy: 1.00 - ETA: 7:46 - loss: 1.7081e-06 - accuracy: 1.00 - ETA: 7:36 - loss: 1.6983e-06 - accuracy: 1.00 - ETA: 7:26 - loss: 1.6880e-06 - accuracy: 1.00 - ETA: 7:16 - loss: 1.6762e-06 - accuracy: 1.00 - ETA: 7:06 - loss: 1.6665e-06 - accuracy: 1.00 - ETA: 6:56 - loss: 1.6663e-06 - accuracy: 1.00 - ETA: 6:46 - loss: 1.6711e-06 - accuracy: 1.00 - ETA: 6:35 - loss: 1.6571e-06 - accuracy: 1.00 - ETA: 6:25 - loss: 1.6523e-06 - accuracy: 1.00 - ETA: 6:15 - loss: 1.6430e-06 - accuracy: 1.00 - ETA: 6:05 - loss: 1.6350e-06 - accuracy: 1.00 - ETA: 5:55 - loss: 1.6468e-06 - accuracy: 1.00 - ETA: 5:45 - loss: 1.6384e-06 - accuracy: 1.00 - ETA: 5:35 - loss: 1.6317e-06 - accuracy: 1.00 - ETA: 5:25 - loss: 1.6234e-06 - accuracy: 1.00 - ETA: 5:15 - loss: 1.6227e-06 - accuracy: 1.00 - ETA: 5:05 - loss: 1.6126e-06 - accuracy: 1.00 - ETA: 4:55 - loss: 1.6210e-06 - accuracy: 1.00 - ETA: 4:45 - loss: 1.6168e-06 - accuracy: 1.00 - ETA: 4:35 - loss: 1.6100e-06 - accuracy: 1.00 - ETA: 4:25 - loss: 1.6063e-06 - accuracy: 1.00 - ETA: 4:14 - loss: 1.6117e-06 - accuracy: 1.00 - ETA: 4:04 - loss: 1.6170e-06 - accuracy: 1.00 - ETA: 3:54 - loss: 1.6121e-06 - accuracy: 1.00 - ETA: 3:44 - loss: 1.6008e-06 - accuracy: 1.00 - ETA: 3:34 - loss: 1.5953e-06 - accuracy: 1.00 - ETA: 3:24 - loss: 1.5852e-06 - accuracy: 1.00 - ETA: 3:14 - loss: 1.5811e-06 - accuracy: 1.00 - ETA: 3:04 - loss: 1.5930e-06 - accuracy: 1.00 - ETA: 2:54 - loss: 1.5872e-06 - accuracy: 1.00 - ETA: 2:44 - loss: 1.5834e-06 - accuracy: 1.00 - ETA: 2:34 - loss: 1.5803e-06 - accuracy: 1.00 - ETA: 2:24 - loss: 1.5731e-06 - accuracy: 1.00 - ETA: 2:14 - loss: 1.5743e-06 - accuracy: 1.00 - ETA: 2:04 - loss: 1.5669e-06 - accuracy: 1.00 - ETA: 1:54 - loss: 1.5644e-06 - accuracy: 1.00 - ETA: 1:43 - loss: 1.5537e-06 - accuracy: 1.00 - ETA: 1:33 - loss: 1.5512e-06 - accuracy: 1.00 - ETA: 1:23 - loss: 1.5467e-06 - accuracy: 1.00 - ETA: 1:13 - loss: 1.5494e-06 - accuracy: 1.00 - ETA: 1:03 - loss: 1.5418e-06 - accuracy: 1.00 - ETA: 53s - loss: 1.5339e-06 - accuracy: 1.0000 - ETA: 43s - loss: 1.5274e-06 - accuracy: 1.000 - ETA: 32s - loss: 1.5258e-06 - accuracy: 1.000 - ETA: 22s - loss: 1.5379e-06 - accuracy: 1.000 - ETA: 12s - loss: 1.5381e-06 - accuracy: 1.000 - ETA: 2s - loss: 1.5553e-06 - accuracy: 1.000 - 1290s 676ms/step - loss: 1.5525e-06 - accuracy: 1.0000 - val_loss: 0.0165 - val_accuracy: 0.9877\n",
      "Epoch 16/30\n"
     ]
    },
    {
     "name": "stdout",
     "output_type": "stream",
     "text": [
      "1908/1908 [==============================] - ETA: 20:53 - loss: 8.7821e-07 - accuracy: 1.000 - ETA: 20:04 - loss: 1.0467e-06 - accuracy: 1.000 - ETA: 19:43 - loss: 1.0344e-06 - accuracy: 1.000 - ETA: 19:30 - loss: 1.0146e-06 - accuracy: 1.000 - ETA: 19:13 - loss: 1.0084e-06 - accuracy: 1.000 - ETA: 19:02 - loss: 9.4368e-07 - accuracy: 1.000 - ETA: 18:47 - loss: 1.0100e-06 - accuracy: 1.000 - ETA: 18:33 - loss: 1.0106e-06 - accuracy: 1.000 - ETA: 18:34 - loss: 1.1522e-06 - accuracy: 1.000 - ETA: 18:19 - loss: 1.1438e-06 - accuracy: 1.000 - ETA: 18:08 - loss: 1.1378e-06 - accuracy: 1.000 - ETA: 17:56 - loss: 1.1178e-06 - accuracy: 1.000 - ETA: 17:45 - loss: 1.2599e-06 - accuracy: 1.000 - ETA: 17:38 - loss: 1.2084e-06 - accuracy: 1.000 - ETA: 17:31 - loss: 1.2097e-06 - accuracy: 1.000 - ETA: 17:20 - loss: 1.2133e-06 - accuracy: 1.000 - ETA: 17:10 - loss: 1.2759e-06 - accuracy: 1.000 - ETA: 17:00 - loss: 1.2961e-06 - accuracy: 1.000 - ETA: 16:49 - loss: 1.2608e-06 - accuracy: 1.000 - ETA: 16:40 - loss: 1.2622e-06 - accuracy: 1.000 - ETA: 16:32 - loss: 1.2527e-06 - accuracy: 1.000 - ETA: 16:23 - loss: 1.2311e-06 - accuracy: 1.000 - ETA: 16:13 - loss: 1.2650e-06 - accuracy: 1.000 - ETA: 16:03 - loss: 1.3155e-06 - accuracy: 1.000 - ETA: 15:52 - loss: 1.3241e-06 - accuracy: 1.000 - ETA: 15:42 - loss: 1.2987e-06 - accuracy: 1.000 - ETA: 15:32 - loss: 1.2767e-06 - accuracy: 1.000 - ETA: 15:23 - loss: 1.2482e-06 - accuracy: 1.000 - ETA: 15:12 - loss: 1.2458e-06 - accuracy: 1.000 - ETA: 15:02 - loss: 1.2507e-06 - accuracy: 1.000 - ETA: 14:51 - loss: 1.2437e-06 - accuracy: 1.000 - ETA: 14:40 - loss: 1.2255e-06 - accuracy: 1.000 - ETA: 14:31 - loss: 1.2021e-06 - accuracy: 1.000 - ETA: 14:21 - loss: 1.1861e-06 - accuracy: 1.000 - ETA: 14:15 - loss: 1.1948e-06 - accuracy: 1.000 - ETA: 14:07 - loss: 1.1756e-06 - accuracy: 1.000 - ETA: 13:59 - loss: 1.3140e-06 - accuracy: 1.000 - ETA: 13:51 - loss: 1.3074e-06 - accuracy: 1.000 - ETA: 13:43 - loss: 1.2926e-06 - accuracy: 1.000 - ETA: 13:34 - loss: 1.2770e-06 - accuracy: 1.000 - ETA: 13:25 - loss: 1.2714e-06 - accuracy: 1.000 - ETA: 13:14 - loss: 1.2961e-06 - accuracy: 1.000 - ETA: 13:03 - loss: 1.3076e-06 - accuracy: 1.000 - ETA: 12:53 - loss: 1.3100e-06 - accuracy: 1.000 - ETA: 12:42 - loss: 1.3003e-06 - accuracy: 1.000 - ETA: 12:31 - loss: 1.2864e-06 - accuracy: 1.000 - ETA: 12:21 - loss: 1.2989e-06 - accuracy: 1.000 - ETA: 12:09 - loss: 1.3034e-06 - accuracy: 1.000 - ETA: 11:59 - loss: 1.2890e-06 - accuracy: 1.000 - ETA: 11:48 - loss: 1.2799e-06 - accuracy: 1.000 - ETA: 11:38 - loss: 1.2788e-06 - accuracy: 1.000 - ETA: 11:28 - loss: 1.2657e-06 - accuracy: 1.000 - ETA: 11:18 - loss: 1.2674e-06 - accuracy: 1.000 - ETA: 11:07 - loss: 1.2871e-06 - accuracy: 1.000 - ETA: 10:56 - loss: 1.2693e-06 - accuracy: 1.000 - ETA: 10:47 - loss: 1.2549e-06 - accuracy: 1.000 - ETA: 10:37 - loss: 1.2632e-06 - accuracy: 1.000 - ETA: 10:27 - loss: 1.2521e-06 - accuracy: 1.000 - ETA: 10:17 - loss: 1.2455e-06 - accuracy: 1.000 - ETA: 10:06 - loss: 1.2626e-06 - accuracy: 1.000 - ETA: 9:56 - loss: 1.2575e-06 - accuracy: 1.000 - ETA: 9:46 - loss: 1.2541e-06 - accuracy: 1.00 - ETA: 9:36 - loss: 1.2690e-06 - accuracy: 1.00 - ETA: 9:26 - loss: 1.2650e-06 - accuracy: 1.00 - ETA: 9:15 - loss: 1.2644e-06 - accuracy: 1.00 - ETA: 9:04 - loss: 1.2521e-06 - accuracy: 1.00 - ETA: 8:54 - loss: 1.2465e-06 - accuracy: 1.00 - ETA: 8:43 - loss: 1.2499e-06 - accuracy: 1.00 - ETA: 8:33 - loss: 1.2399e-06 - accuracy: 1.00 - ETA: 8:23 - loss: 1.2330e-06 - accuracy: 1.00 - ETA: 8:12 - loss: 1.2278e-06 - accuracy: 1.00 - ETA: 8:02 - loss: 1.2197e-06 - accuracy: 1.00 - ETA: 7:52 - loss: 1.2244e-06 - accuracy: 1.00 - ETA: 7:41 - loss: 1.2210e-06 - accuracy: 1.00 - ETA: 7:31 - loss: 1.2094e-06 - accuracy: 1.00 - ETA: 7:21 - loss: 1.2070e-06 - accuracy: 1.00 - ETA: 7:11 - loss: 1.2093e-06 - accuracy: 1.00 - ETA: 7:00 - loss: 1.2073e-06 - accuracy: 1.00 - ETA: 6:50 - loss: 1.1998e-06 - accuracy: 1.00 - ETA: 6:40 - loss: 1.1981e-06 - accuracy: 1.00 - ETA: 6:30 - loss: 1.1905e-06 - accuracy: 1.00 - ETA: 6:19 - loss: 1.1954e-06 - accuracy: 1.00 - ETA: 6:09 - loss: 1.1900e-06 - accuracy: 1.00 - ETA: 5:59 - loss: 1.1963e-06 - accuracy: 1.00 - ETA: 5:49 - loss: 1.1885e-06 - accuracy: 1.00 - ETA: 5:38 - loss: 1.1832e-06 - accuracy: 1.00 - ETA: 5:28 - loss: 1.1748e-06 - accuracy: 1.00 - ETA: 5:18 - loss: 1.1725e-06 - accuracy: 1.00 - ETA: 5:08 - loss: 1.1677e-06 - accuracy: 1.00 - ETA: 4:57 - loss: 1.1883e-06 - accuracy: 1.00 - ETA: 4:47 - loss: 1.1814e-06 - accuracy: 1.00 - ETA: 4:37 - loss: 1.1802e-06 - accuracy: 1.00 - ETA: 4:27 - loss: 1.1832e-06 - accuracy: 1.00 - ETA: 4:16 - loss: 1.1822e-06 - accuracy: 1.00 - ETA: 4:06 - loss: 1.2059e-06 - accuracy: 1.00 - ETA: 3:56 - loss: 1.1979e-06 - accuracy: 1.00 - ETA: 3:46 - loss: 1.2014e-06 - accuracy: 1.00 - ETA: 3:36 - loss: 1.1974e-06 - accuracy: 1.00 - ETA: 3:26 - loss: 1.2035e-06 - accuracy: 1.00 - ETA: 3:15 - loss: 1.1977e-06 - accuracy: 1.00 - ETA: 3:05 - loss: 1.1914e-06 - accuracy: 1.00 - ETA: 2:55 - loss: 1.1984e-06 - accuracy: 1.00 - ETA: 2:45 - loss: 1.1959e-06 - accuracy: 1.00 - ETA: 2:35 - loss: 1.2066e-06 - accuracy: 1.00 - ETA: 2:24 - loss: 1.2040e-06 - accuracy: 1.00 - ETA: 2:14 - loss: 1.2009e-06 - accuracy: 1.00 - ETA: 2:04 - loss: 1.1934e-06 - accuracy: 1.00 - ETA: 1:54 - loss: 1.1909e-06 - accuracy: 1.00 - ETA: 1:44 - loss: 1.1920e-06 - accuracy: 1.00 - ETA: 1:33 - loss: 1.1901e-06 - accuracy: 1.00 - ETA: 1:23 - loss: 1.1842e-06 - accuracy: 1.00 - ETA: 1:13 - loss: 1.1901e-06 - accuracy: 1.00 - ETA: 1:03 - loss: 1.1830e-06 - accuracy: 1.00 - ETA: 53s - loss: 1.1832e-06 - accuracy: 1.0000 - ETA: 43s - loss: 1.1759e-06 - accuracy: 1.000 - ETA: 33s - loss: 1.1738e-06 - accuracy: 1.000 - ETA: 22s - loss: 1.1710e-06 - accuracy: 1.000 - ETA: 12s - loss: 1.1638e-06 - accuracy: 1.000 - ETA: 2s - loss: 1.1626e-06 - accuracy: 1.000 - 1295s 679ms/step - loss: 1.1607e-06 - accuracy: 1.0000 - val_loss: 0.0169 - val_accuracy: 0.9877\n",
      "Epoch 17/30\n"
     ]
    },
    {
     "name": "stdout",
     "output_type": "stream",
     "text": [
      "1908/1908 [==============================] - ETA: 19:31 - loss: 7.3945e-07 - accuracy: 1.000 - ETA: 19:19 - loss: 8.6570e-07 - accuracy: 1.000 - ETA: 19:25 - loss: 9.3509e-07 - accuracy: 1.000 - ETA: 19:19 - loss: 8.4924e-07 - accuracy: 1.000 - ETA: 19:20 - loss: 9.9594e-07 - accuracy: 1.000 - ETA: 19:11 - loss: 1.0051e-06 - accuracy: 1.000 - ETA: 19:02 - loss: 1.1684e-06 - accuracy: 1.000 - ETA: 18:49 - loss: 1.1325e-06 - accuracy: 1.000 - ETA: 18:40 - loss: 1.0644e-06 - accuracy: 1.000 - ETA: 18:30 - loss: 1.0557e-06 - accuracy: 1.000 - ETA: 18:25 - loss: 1.1545e-06 - accuracy: 1.000 - ETA: 18:15 - loss: 1.1579e-06 - accuracy: 1.000 - ETA: 18:07 - loss: 1.1270e-06 - accuracy: 1.000 - ETA: 17:54 - loss: 1.1286e-06 - accuracy: 1.000 - ETA: 17:43 - loss: 1.1184e-06 - accuracy: 1.000 - ETA: 17:31 - loss: 1.0790e-06 - accuracy: 1.000 - ETA: 17:20 - loss: 1.1152e-06 - accuracy: 1.000 - ETA: 17:08 - loss: 1.1144e-06 - accuracy: 1.000 - ETA: 16:59 - loss: 1.1108e-06 - accuracy: 1.000 - ETA: 16:47 - loss: 1.1007e-06 - accuracy: 1.000 - ETA: 16:36 - loss: 1.0901e-06 - accuracy: 1.000 - ETA: 16:24 - loss: 1.0864e-06 - accuracy: 1.000 - ETA: 16:15 - loss: 1.1026e-06 - accuracy: 1.000 - ETA: 16:04 - loss: 1.0698e-06 - accuracy: 1.000 - ETA: 15:54 - loss: 1.0583e-06 - accuracy: 1.000 - ETA: 15:45 - loss: 1.0447e-06 - accuracy: 1.000 - ETA: 15:34 - loss: 1.0423e-06 - accuracy: 1.000 - ETA: 15:25 - loss: 1.0279e-06 - accuracy: 1.000 - ETA: 15:15 - loss: 1.0177e-06 - accuracy: 1.000 - ETA: 15:05 - loss: 1.0379e-06 - accuracy: 1.000 - ETA: 14:55 - loss: 1.0484e-06 - accuracy: 1.000 - ETA: 14:44 - loss: 1.0254e-06 - accuracy: 1.000 - ETA: 14:33 - loss: 1.0124e-06 - accuracy: 1.000 - ETA: 14:22 - loss: 1.0250e-06 - accuracy: 1.000 - ETA: 14:13 - loss: 1.0229e-06 - accuracy: 1.000 - ETA: 14:03 - loss: 1.0153e-06 - accuracy: 1.000 - ETA: 13:52 - loss: 1.0234e-06 - accuracy: 1.000 - ETA: 13:41 - loss: 1.0053e-06 - accuracy: 1.000 - ETA: 13:30 - loss: 9.9556e-07 - accuracy: 1.000 - ETA: 13:19 - loss: 9.9357e-07 - accuracy: 1.000 - ETA: 13:09 - loss: 9.9924e-07 - accuracy: 1.000 - ETA: 12:59 - loss: 9.9098e-07 - accuracy: 1.000 - ETA: 12:50 - loss: 9.8963e-07 - accuracy: 1.000 - ETA: 12:40 - loss: 9.9094e-07 - accuracy: 1.000 - ETA: 12:30 - loss: 9.9009e-07 - accuracy: 1.000 - ETA: 12:20 - loss: 9.8864e-07 - accuracy: 1.000 - ETA: 12:10 - loss: 9.9904e-07 - accuracy: 1.000 - ETA: 12:00 - loss: 9.9622e-07 - accuracy: 1.000 - ETA: 11:50 - loss: 9.9075e-07 - accuracy: 1.000 - ETA: 11:40 - loss: 9.8911e-07 - accuracy: 1.000 - ETA: 11:30 - loss: 9.7963e-07 - accuracy: 1.000 - ETA: 11:20 - loss: 9.7125e-07 - accuracy: 1.000 - ETA: 11:10 - loss: 9.6003e-07 - accuracy: 1.000 - ETA: 11:00 - loss: 9.5778e-07 - accuracy: 1.000 - ETA: 10:49 - loss: 9.8424e-07 - accuracy: 1.000 - ETA: 10:39 - loss: 9.7876e-07 - accuracy: 1.000 - ETA: 10:29 - loss: 9.7391e-07 - accuracy: 1.000 - ETA: 10:18 - loss: 9.6196e-07 - accuracy: 1.000 - ETA: 10:08 - loss: 9.6225e-07 - accuracy: 1.000 - ETA: 9:58 - loss: 9.6714e-07 - accuracy: 1.000 - ETA: 9:48 - loss: 9.7761e-07 - accuracy: 1.00 - ETA: 9:37 - loss: 9.7709e-07 - accuracy: 1.00 - ETA: 9:27 - loss: 9.7352e-07 - accuracy: 1.00 - ETA: 9:17 - loss: 9.6513e-07 - accuracy: 1.00 - ETA: 9:07 - loss: 9.7316e-07 - accuracy: 1.00 - ETA: 8:57 - loss: 9.6395e-07 - accuracy: 1.00 - ETA: 8:47 - loss: 9.6477e-07 - accuracy: 1.00 - ETA: 8:37 - loss: 9.6319e-07 - accuracy: 1.00 - ETA: 8:27 - loss: 9.7340e-07 - accuracy: 1.00 - ETA: 8:16 - loss: 9.6749e-07 - accuracy: 1.00 - ETA: 8:06 - loss: 9.6581e-07 - accuracy: 1.00 - ETA: 7:57 - loss: 9.6192e-07 - accuracy: 1.00 - ETA: 7:47 - loss: 9.5661e-07 - accuracy: 1.00 - ETA: 7:36 - loss: 9.5028e-07 - accuracy: 1.00 - ETA: 7:26 - loss: 9.4619e-07 - accuracy: 1.00 - ETA: 7:16 - loss: 9.4227e-07 - accuracy: 1.00 - ETA: 7:06 - loss: 9.4201e-07 - accuracy: 1.00 - ETA: 6:56 - loss: 9.3723e-07 - accuracy: 1.00 - ETA: 6:46 - loss: 9.4058e-07 - accuracy: 1.00 - ETA: 6:36 - loss: 9.3332e-07 - accuracy: 1.00 - ETA: 6:26 - loss: 9.2611e-07 - accuracy: 1.00 - ETA: 6:16 - loss: 9.1853e-07 - accuracy: 1.00 - ETA: 6:05 - loss: 9.2011e-07 - accuracy: 1.00 - ETA: 5:55 - loss: 9.5632e-07 - accuracy: 1.00 - ETA: 5:45 - loss: 9.5162e-07 - accuracy: 1.00 - ETA: 5:35 - loss: 9.5411e-07 - accuracy: 1.00 - ETA: 5:25 - loss: 9.5488e-07 - accuracy: 1.00 - ETA: 5:15 - loss: 9.5288e-07 - accuracy: 1.00 - ETA: 5:05 - loss: 9.5317e-07 - accuracy: 1.00 - ETA: 4:55 - loss: 9.4861e-07 - accuracy: 1.00 - ETA: 4:45 - loss: 9.4746e-07 - accuracy: 1.00 - ETA: 4:35 - loss: 9.4180e-07 - accuracy: 1.00 - ETA: 4:24 - loss: 9.4104e-07 - accuracy: 1.00 - ETA: 4:14 - loss: 9.3542e-07 - accuracy: 1.00 - ETA: 4:04 - loss: 9.3549e-07 - accuracy: 1.00 - ETA: 3:54 - loss: 9.2990e-07 - accuracy: 1.00 - ETA: 3:44 - loss: 9.4585e-07 - accuracy: 1.00 - ETA: 3:34 - loss: 9.5374e-07 - accuracy: 1.00 - ETA: 3:24 - loss: 9.4944e-07 - accuracy: 1.00 - ETA: 3:14 - loss: 9.4396e-07 - accuracy: 1.00 - ETA: 3:03 - loss: 9.3954e-07 - accuracy: 1.00 - ETA: 2:53 - loss: 9.4386e-07 - accuracy: 1.00 - ETA: 2:43 - loss: 9.4056e-07 - accuracy: 1.00 - ETA: 2:33 - loss: 9.3397e-07 - accuracy: 1.00 - ETA: 2:23 - loss: 9.3173e-07 - accuracy: 1.00 - ETA: 2:13 - loss: 9.2835e-07 - accuracy: 1.00 - ETA: 2:03 - loss: 9.2351e-07 - accuracy: 1.00 - ETA: 1:53 - loss: 9.2256e-07 - accuracy: 1.00 - ETA: 1:43 - loss: 9.1692e-07 - accuracy: 1.00 - ETA: 1:33 - loss: 9.1715e-07 - accuracy: 1.00 - ETA: 1:23 - loss: 9.1618e-07 - accuracy: 1.00 - ETA: 1:13 - loss: 9.1321e-07 - accuracy: 1.00 - ETA: 1:03 - loss: 9.0832e-07 - accuracy: 1.00 - ETA: 52s - loss: 9.0364e-07 - accuracy: 1.0000 - ETA: 42s - loss: 9.0601e-07 - accuracy: 1.000 - ETA: 32s - loss: 9.0388e-07 - accuracy: 1.000 - ETA: 22s - loss: 9.1252e-07 - accuracy: 1.000 - ETA: 12s - loss: 9.3309e-07 - accuracy: 1.000 - ETA: 2s - loss: 9.2908e-07 - accuracy: 1.000 - 1286s 674ms/step - loss: 9.2756e-07 - accuracy: 1.0000 - val_loss: 0.0172 - val_accuracy: 0.9877\n",
      "Epoch 18/30\n"
     ]
    },
    {
     "name": "stdout",
     "output_type": "stream",
     "text": [
      "1908/1908 [==============================] - ETA: 19:37 - loss: 5.1850e-07 - accuracy: 1.000 - ETA: 19:33 - loss: 6.4581e-07 - accuracy: 1.000 - ETA: 19:38 - loss: 7.3607e-07 - accuracy: 1.000 - ETA: 19:35 - loss: 7.6555e-07 - accuracy: 1.000 - ETA: 19:24 - loss: 8.9232e-07 - accuracy: 1.000 - ETA: 19:11 - loss: 9.7798e-07 - accuracy: 1.000 - ETA: 18:58 - loss: 9.1144e-07 - accuracy: 1.000 - ETA: 18:46 - loss: 8.5097e-07 - accuracy: 1.000 - ETA: 18:31 - loss: 8.3783e-07 - accuracy: 1.000 - ETA: 18:23 - loss: 8.2951e-07 - accuracy: 1.000 - ETA: 18:11 - loss: 7.9003e-07 - accuracy: 1.000 - ETA: 18:00 - loss: 8.1047e-07 - accuracy: 1.000 - ETA: 17:47 - loss: 7.9574e-07 - accuracy: 1.000 - ETA: 17:37 - loss: 7.8474e-07 - accuracy: 1.000 - ETA: 17:31 - loss: 7.6962e-07 - accuracy: 1.000 - ETA: 17:18 - loss: 8.0577e-07 - accuracy: 1.000 - ETA: 17:08 - loss: 7.9643e-07 - accuracy: 1.000 - ETA: 16:58 - loss: 7.6742e-07 - accuracy: 1.000 - ETA: 16:48 - loss: 7.7571e-07 - accuracy: 1.000 - ETA: 16:40 - loss: 7.6725e-07 - accuracy: 1.000 - ETA: 16:32 - loss: 7.4966e-07 - accuracy: 1.000 - ETA: 16:21 - loss: 7.4701e-07 - accuracy: 1.000 - ETA: 16:11 - loss: 7.2648e-07 - accuracy: 1.000 - ETA: 16:00 - loss: 7.2003e-07 - accuracy: 1.000 - ETA: 15:48 - loss: 7.0178e-07 - accuracy: 1.000 - ETA: 15:37 - loss: 7.0052e-07 - accuracy: 1.000 - ETA: 15:28 - loss: 7.0727e-07 - accuracy: 1.000 - ETA: 15:17 - loss: 7.1659e-07 - accuracy: 1.000 - ETA: 15:06 - loss: 7.1773e-07 - accuracy: 1.000 - ETA: 14:56 - loss: 7.2296e-07 - accuracy: 1.000 - ETA: 14:45 - loss: 7.1980e-07 - accuracy: 1.000 - ETA: 14:35 - loss: 7.1086e-07 - accuracy: 1.000 - ETA: 14:25 - loss: 7.0553e-07 - accuracy: 1.000 - ETA: 14:16 - loss: 6.9555e-07 - accuracy: 1.000 - ETA: 14:06 - loss: 7.0017e-07 - accuracy: 1.000 - ETA: 13:57 - loss: 7.8420e-07 - accuracy: 1.000 - ETA: 13:46 - loss: 7.7658e-07 - accuracy: 1.000 - ETA: 13:36 - loss: 7.9977e-07 - accuracy: 1.000 - ETA: 13:26 - loss: 7.9121e-07 - accuracy: 1.000 - ETA: 13:17 - loss: 7.8714e-07 - accuracy: 1.000 - ETA: 13:07 - loss: 7.7962e-07 - accuracy: 1.000 - ETA: 12:57 - loss: 7.7823e-07 - accuracy: 1.000 - ETA: 12:47 - loss: 7.7571e-07 - accuracy: 1.000 - ETA: 12:38 - loss: 7.8015e-07 - accuracy: 1.000 - ETA: 12:28 - loss: 7.8418e-07 - accuracy: 1.000 - ETA: 12:18 - loss: 7.7494e-07 - accuracy: 1.000 - ETA: 12:08 - loss: 7.6510e-07 - accuracy: 1.000 - ETA: 11:58 - loss: 7.5712e-07 - accuracy: 1.000 - ETA: 11:48 - loss: 7.5355e-07 - accuracy: 1.000 - ETA: 11:37 - loss: 7.4726e-07 - accuracy: 1.000 - ETA: 11:27 - loss: 7.4341e-07 - accuracy: 1.000 - ETA: 11:18 - loss: 7.4280e-07 - accuracy: 1.000 - ETA: 11:08 - loss: 7.3883e-07 - accuracy: 1.000 - ETA: 10:59 - loss: 7.4395e-07 - accuracy: 1.000 - ETA: 10:49 - loss: 7.4504e-07 - accuracy: 1.000 - ETA: 10:39 - loss: 7.4938e-07 - accuracy: 1.000 - ETA: 10:30 - loss: 7.5047e-07 - accuracy: 1.000 - ETA: 10:20 - loss: 7.4590e-07 - accuracy: 1.000 - ETA: 10:10 - loss: 7.4288e-07 - accuracy: 1.000 - ETA: 10:00 - loss: 7.4829e-07 - accuracy: 1.000 - ETA: 9:49 - loss: 7.6627e-07 - accuracy: 1.000 - ETA: 9:40 - loss: 7.6292e-07 - accuracy: 1.00 - ETA: 9:29 - loss: 7.7083e-07 - accuracy: 1.00 - ETA: 9:20 - loss: 7.9167e-07 - accuracy: 1.00 - ETA: 9:09 - loss: 8.0562e-07 - accuracy: 1.00 - ETA: 9:00 - loss: 8.0224e-07 - accuracy: 1.00 - ETA: 8:49 - loss: 7.9797e-07 - accuracy: 1.00 - ETA: 8:39 - loss: 8.0331e-07 - accuracy: 1.00 - ETA: 8:29 - loss: 8.0158e-07 - accuracy: 1.00 - ETA: 8:19 - loss: 8.0911e-07 - accuracy: 1.00 - ETA: 8:09 - loss: 8.1630e-07 - accuracy: 1.00 - ETA: 8:00 - loss: 8.0831e-07 - accuracy: 1.00 - ETA: 7:50 - loss: 8.0047e-07 - accuracy: 1.00 - ETA: 7:40 - loss: 7.9574e-07 - accuracy: 1.00 - ETA: 7:30 - loss: 7.9752e-07 - accuracy: 1.00 - ETA: 7:20 - loss: 7.9596e-07 - accuracy: 1.00 - ETA: 7:10 - loss: 7.9027e-07 - accuracy: 1.00 - ETA: 6:59 - loss: 7.8655e-07 - accuracy: 1.00 - ETA: 6:49 - loss: 7.8568e-07 - accuracy: 1.00 - ETA: 6:39 - loss: 7.8929e-07 - accuracy: 1.00 - ETA: 6:29 - loss: 7.9172e-07 - accuracy: 1.00 - ETA: 6:19 - loss: 7.9298e-07 - accuracy: 1.00 - ETA: 6:09 - loss: 7.9951e-07 - accuracy: 1.00 - ETA: 5:59 - loss: 7.9928e-07 - accuracy: 1.00 - ETA: 5:49 - loss: 8.0359e-07 - accuracy: 1.00 - ETA: 5:38 - loss: 8.0137e-07 - accuracy: 1.00 - ETA: 5:28 - loss: 8.0098e-07 - accuracy: 1.00 - ETA: 5:18 - loss: 8.0036e-07 - accuracy: 1.00 - ETA: 5:08 - loss: 8.1285e-07 - accuracy: 1.00 - ETA: 4:57 - loss: 8.0824e-07 - accuracy: 1.00 - ETA: 4:47 - loss: 8.0724e-07 - accuracy: 1.00 - ETA: 4:37 - loss: 8.0782e-07 - accuracy: 1.00 - ETA: 4:27 - loss: 8.0869e-07 - accuracy: 1.00 - ETA: 4:17 - loss: 8.0874e-07 - accuracy: 1.00 - ETA: 4:07 - loss: 8.1180e-07 - accuracy: 1.00 - ETA: 3:56 - loss: 8.0682e-07 - accuracy: 1.00 - ETA: 3:46 - loss: 8.0503e-07 - accuracy: 1.00 - ETA: 3:36 - loss: 8.0229e-07 - accuracy: 1.00 - ETA: 3:26 - loss: 7.9773e-07 - accuracy: 1.00 - ETA: 3:16 - loss: 8.0273e-07 - accuracy: 1.00 - ETA: 3:06 - loss: 8.0061e-07 - accuracy: 1.00 - ETA: 2:56 - loss: 7.9709e-07 - accuracy: 1.00 - ETA: 2:45 - loss: 7.9436e-07 - accuracy: 1.00 - ETA: 2:35 - loss: 7.9149e-07 - accuracy: 1.00 - ETA: 2:25 - loss: 7.8773e-07 - accuracy: 1.00 - ETA: 2:15 - loss: 7.8374e-07 - accuracy: 1.00 - ETA: 2:04 - loss: 7.8265e-07 - accuracy: 1.00 - ETA: 1:54 - loss: 7.7916e-07 - accuracy: 1.00 - ETA: 1:44 - loss: 7.7770e-07 - accuracy: 1.00 - ETA: 1:34 - loss: 7.7310e-07 - accuracy: 1.00 - ETA: 1:24 - loss: 7.7003e-07 - accuracy: 1.00 - ETA: 1:13 - loss: 7.8002e-07 - accuracy: 1.00 - ETA: 1:03 - loss: 7.8124e-07 - accuracy: 1.00 - ETA: 53s - loss: 7.7980e-07 - accuracy: 1.0000 - ETA: 43s - loss: 7.8001e-07 - accuracy: 1.000 - ETA: 33s - loss: 7.7632e-07 - accuracy: 1.000 - ETA: 22s - loss: 7.7302e-07 - accuracy: 1.000 - ETA: 12s - loss: 7.7302e-07 - accuracy: 1.000 - ETA: 2s - loss: 7.6991e-07 - accuracy: 1.000 - 1303s 683ms/step - loss: 7.6907e-07 - accuracy: 1.0000 - val_loss: 0.0174 - val_accuracy: 0.9878\n",
      "Epoch 19/30\n"
     ]
    },
    {
     "name": "stdout",
     "output_type": "stream",
     "text": [
      "1908/1908 [==============================] - ETA: 20:16 - loss: 3.2892e-07 - accuracy: 1.000 - ETA: 19:54 - loss: 4.0404e-07 - accuracy: 1.000 - ETA: 19:46 - loss: 3.7027e-07 - accuracy: 1.000 - ETA: 19:36 - loss: 3.9006e-07 - accuracy: 1.000 - ETA: 19:21 - loss: 3.6647e-07 - accuracy: 1.000 - ETA: 19:16 - loss: 3.7726e-07 - accuracy: 1.000 - ETA: 19:12 - loss: 5.6027e-07 - accuracy: 1.000 - ETA: 19:04 - loss: 5.6259e-07 - accuracy: 1.000 - ETA: 18:55 - loss: 5.3243e-07 - accuracy: 1.000 - ETA: 18:50 - loss: 6.3099e-07 - accuracy: 1.000 - ETA: 18:39 - loss: 6.5289e-07 - accuracy: 1.000 - ETA: 18:30 - loss: 6.9112e-07 - accuracy: 1.000 - ETA: 18:18 - loss: 6.7016e-07 - accuracy: 1.000 - ETA: 18:11 - loss: 6.4136e-07 - accuracy: 1.000 - ETA: 18:09 - loss: 6.4785e-07 - accuracy: 1.000 - ETA: 18:05 - loss: 6.2827e-07 - accuracy: 1.000 - ETA: 18:00 - loss: 6.3349e-07 - accuracy: 1.000 - ETA: 17:54 - loss: 6.1167e-07 - accuracy: 1.000 - ETA: 17:47 - loss: 6.1916e-07 - accuracy: 1.000 - ETA: 17:40 - loss: 6.1699e-07 - accuracy: 1.000 - ETA: 17:31 - loss: 6.2834e-07 - accuracy: 1.000 - ETA: 17:21 - loss: 6.4613e-07 - accuracy: 1.000 - ETA: 17:11 - loss: 6.5523e-07 - accuracy: 1.000 - ETA: 17:01 - loss: 6.4360e-07 - accuracy: 1.000 - ETA: 16:52 - loss: 6.3684e-07 - accuracy: 1.000 - ETA: 16:40 - loss: 6.2509e-07 - accuracy: 1.000 - ETA: 16:30 - loss: 6.3006e-07 - accuracy: 1.000 - ETA: 16:19 - loss: 6.3634e-07 - accuracy: 1.000 - ETA: 16:07 - loss: 6.3910e-07 - accuracy: 1.000 - ETA: 15:58 - loss: 6.5637e-07 - accuracy: 1.000 - ETA: 15:46 - loss: 6.5377e-07 - accuracy: 1.000 - ETA: 15:35 - loss: 6.6158e-07 - accuracy: 1.000 - ETA: 15:23 - loss: 6.4715e-07 - accuracy: 1.000 - ETA: 15:12 - loss: 6.4877e-07 - accuracy: 1.000 - ETA: 15:00 - loss: 6.4075e-07 - accuracy: 1.000 - ETA: 14:50 - loss: 6.4441e-07 - accuracy: 1.000 - ETA: 14:40 - loss: 6.3841e-07 - accuracy: 1.000 - ETA: 14:33 - loss: 6.2932e-07 - accuracy: 1.000 - ETA: 14:22 - loss: 6.4468e-07 - accuracy: 1.000 - ETA: 14:11 - loss: 6.4687e-07 - accuracy: 1.000 - ETA: 14:01 - loss: 6.4853e-07 - accuracy: 1.000 - ETA: 13:49 - loss: 6.4440e-07 - accuracy: 1.000 - ETA: 13:37 - loss: 6.5815e-07 - accuracy: 1.000 - ETA: 13:26 - loss: 6.5529e-07 - accuracy: 1.000 - ETA: 13:14 - loss: 6.4737e-07 - accuracy: 1.000 - ETA: 13:03 - loss: 6.3898e-07 - accuracy: 1.000 - ETA: 12:52 - loss: 6.4783e-07 - accuracy: 1.000 - ETA: 12:40 - loss: 6.4085e-07 - accuracy: 1.000 - ETA: 12:29 - loss: 6.3610e-07 - accuracy: 1.000 - ETA: 12:19 - loss: 6.4683e-07 - accuracy: 1.000 - ETA: 12:09 - loss: 6.4945e-07 - accuracy: 1.000 - ETA: 11:58 - loss: 6.4591e-07 - accuracy: 1.000 - ETA: 11:47 - loss: 6.4126e-07 - accuracy: 1.000 - ETA: 11:37 - loss: 6.4459e-07 - accuracy: 1.000 - ETA: 11:26 - loss: 6.4470e-07 - accuracy: 1.000 - ETA: 11:15 - loss: 6.5103e-07 - accuracy: 1.000 - ETA: 11:04 - loss: 6.5428e-07 - accuracy: 1.000 - ETA: 10:53 - loss: 6.4975e-07 - accuracy: 1.000 - ETA: 10:42 - loss: 6.4581e-07 - accuracy: 1.000 - ETA: 10:31 - loss: 6.4103e-07 - accuracy: 1.000 - ETA: 10:20 - loss: 6.4967e-07 - accuracy: 1.000 - ETA: 10:09 - loss: 6.4626e-07 - accuracy: 1.000 - ETA: 9:58 - loss: 6.6534e-07 - accuracy: 1.000 - ETA: 9:47 - loss: 6.6655e-07 - accuracy: 1.00 - ETA: 9:36 - loss: 6.6403e-07 - accuracy: 1.00 - ETA: 9:26 - loss: 6.5860e-07 - accuracy: 1.00 - ETA: 9:15 - loss: 6.5798e-07 - accuracy: 1.00 - ETA: 9:04 - loss: 6.5272e-07 - accuracy: 1.00 - ETA: 8:54 - loss: 6.4970e-07 - accuracy: 1.00 - ETA: 8:43 - loss: 6.4670e-07 - accuracy: 1.00 - ETA: 8:32 - loss: 6.4249e-07 - accuracy: 1.00 - ETA: 8:21 - loss: 6.4102e-07 - accuracy: 1.00 - ETA: 8:10 - loss: 6.7305e-07 - accuracy: 1.00 - ETA: 7:59 - loss: 6.7541e-07 - accuracy: 1.00 - ETA: 7:48 - loss: 6.8782e-07 - accuracy: 1.00 - ETA: 7:37 - loss: 6.9615e-07 - accuracy: 1.00 - ETA: 7:26 - loss: 6.9463e-07 - accuracy: 1.00 - ETA: 7:15 - loss: 6.9036e-07 - accuracy: 1.00 - ETA: 7:04 - loss: 6.9062e-07 - accuracy: 1.00 - ETA: 6:53 - loss: 6.8661e-07 - accuracy: 1.00 - ETA: 6:43 - loss: 6.8348e-07 - accuracy: 1.00 - ETA: 6:32 - loss: 6.8028e-07 - accuracy: 1.00 - ETA: 6:22 - loss: 6.7666e-07 - accuracy: 1.00 - ETA: 6:11 - loss: 6.7789e-07 - accuracy: 1.00 - ETA: 6:00 - loss: 6.7406e-07 - accuracy: 1.00 - ETA: 5:50 - loss: 6.7341e-07 - accuracy: 1.00 - ETA: 5:39 - loss: 6.7278e-07 - accuracy: 1.00 - ETA: 5:28 - loss: 6.6746e-07 - accuracy: 1.00 - ETA: 5:18 - loss: 6.6326e-07 - accuracy: 1.00 - ETA: 5:07 - loss: 6.6424e-07 - accuracy: 1.00 - ETA: 4:56 - loss: 6.7091e-07 - accuracy: 1.00 - ETA: 4:46 - loss: 6.7083e-07 - accuracy: 1.00 - ETA: 4:35 - loss: 6.7249e-07 - accuracy: 1.00 - ETA: 4:25 - loss: 6.6857e-07 - accuracy: 1.00 - ETA: 4:14 - loss: 6.6770e-07 - accuracy: 1.00 - ETA: 4:03 - loss: 6.6498e-07 - accuracy: 1.00 - ETA: 3:53 - loss: 6.6618e-07 - accuracy: 1.00 - ETA: 3:42 - loss: 6.6447e-07 - accuracy: 1.00 - ETA: 3:32 - loss: 6.6439e-07 - accuracy: 1.00 - ETA: 3:21 - loss: 6.6029e-07 - accuracy: 1.00 - ETA: 3:11 - loss: 6.6423e-07 - accuracy: 1.00 - ETA: 3:00 - loss: 6.6305e-07 - accuracy: 1.00 - ETA: 2:50 - loss: 6.6175e-07 - accuracy: 1.00 - ETA: 2:39 - loss: 6.6376e-07 - accuracy: 1.00 - ETA: 2:29 - loss: 6.6074e-07 - accuracy: 1.00 - ETA: 2:18 - loss: 6.5930e-07 - accuracy: 1.00 - ETA: 2:08 - loss: 6.6080e-07 - accuracy: 1.00 - ETA: 1:57 - loss: 6.5827e-07 - accuracy: 1.00 - ETA: 1:47 - loss: 6.5681e-07 - accuracy: 1.00 - ETA: 1:36 - loss: 6.6330e-07 - accuracy: 1.00 - ETA: 1:26 - loss: 6.6326e-07 - accuracy: 1.00 - ETA: 1:15 - loss: 6.6124e-07 - accuracy: 1.00 - ETA: 1:05 - loss: 6.6033e-07 - accuracy: 1.00 - ETA: 54s - loss: 6.6080e-07 - accuracy: 1.0000 - ETA: 44s - loss: 6.5899e-07 - accuracy: 1.000 - ETA: 33s - loss: 6.5488e-07 - accuracy: 1.000 - ETA: 23s - loss: 6.5436e-07 - accuracy: 1.000 - ETA: 13s - loss: 6.5268e-07 - accuracy: 1.000 - ETA: 2s - loss: 6.5066e-07 - accuracy: 1.000 - 1325s 695ms/step - loss: 6.5237e-07 - accuracy: 1.0000 - val_loss: 0.0176 - val_accuracy: 0.9880\n",
      "Epoch 20/30\n"
     ]
    },
    {
     "name": "stdout",
     "output_type": "stream",
     "text": [
      "1908/1908 [==============================] - ETA: 20:30 - loss: 2.4691e-07 - accuracy: 1.000 - ETA: 19:50 - loss: 2.9270e-07 - accuracy: 1.000 - ETA: 19:42 - loss: 3.4153e-07 - accuracy: 1.000 - ETA: 19:43 - loss: 4.3554e-07 - accuracy: 1.000 - ETA: 19:22 - loss: 4.0015e-07 - accuracy: 1.000 - ETA: 19:08 - loss: 4.2710e-07 - accuracy: 1.000 - ETA: 18:53 - loss: 4.7051e-07 - accuracy: 1.000 - ETA: 18:38 - loss: 4.9132e-07 - accuracy: 1.000 - ETA: 18:27 - loss: 5.2911e-07 - accuracy: 1.000 - ETA: 18:23 - loss: 5.2324e-07 - accuracy: 1.000 - ETA: 18:13 - loss: 5.4437e-07 - accuracy: 1.000 - ETA: 18:04 - loss: 5.7995e-07 - accuracy: 1.000 - ETA: 17:56 - loss: 5.5897e-07 - accuracy: 1.000 - ETA: 17:47 - loss: 5.5772e-07 - accuracy: 1.000 - ETA: 17:43 - loss: 5.7589e-07 - accuracy: 1.000 - ETA: 17:43 - loss: 5.7091e-07 - accuracy: 1.000 - ETA: 17:38 - loss: 5.9674e-07 - accuracy: 1.000 - ETA: 17:26 - loss: 6.2251e-07 - accuracy: 1.000 - ETA: 17:14 - loss: 6.3777e-07 - accuracy: 1.000 - ETA: 17:02 - loss: 6.2272e-07 - accuracy: 1.000 - ETA: 16:50 - loss: 6.6496e-07 - accuracy: 1.000 - ETA: 16:42 - loss: 6.5651e-07 - accuracy: 1.000 - ETA: 16:32 - loss: 6.7306e-07 - accuracy: 1.000 - ETA: 16:21 - loss: 6.6730e-07 - accuracy: 1.000 - ETA: 16:12 - loss: 6.7023e-07 - accuracy: 1.000 - ETA: 16:02 - loss: 6.5505e-07 - accuracy: 1.000 - ETA: 15:55 - loss: 6.4219e-07 - accuracy: 1.000 - ETA: 15:45 - loss: 6.3466e-07 - accuracy: 1.000 - ETA: 15:34 - loss: 6.3457e-07 - accuracy: 1.000 - ETA: 15:24 - loss: 6.2347e-07 - accuracy: 1.000 - ETA: 15:13 - loss: 6.1065e-07 - accuracy: 1.000 - ETA: 15:01 - loss: 6.1469e-07 - accuracy: 1.000 - ETA: 14:50 - loss: 6.0425e-07 - accuracy: 1.000 - ETA: 14:40 - loss: 6.1040e-07 - accuracy: 1.000 - ETA: 14:29 - loss: 6.0792e-07 - accuracy: 1.000 - ETA: 14:19 - loss: 5.9769e-07 - accuracy: 1.000 - ETA: 14:08 - loss: 5.8866e-07 - accuracy: 1.000 - ETA: 13:56 - loss: 5.8453e-07 - accuracy: 1.000 - ETA: 13:46 - loss: 6.4360e-07 - accuracy: 1.000 - ETA: 13:35 - loss: 6.3484e-07 - accuracy: 1.000 - ETA: 13:25 - loss: 6.2573e-07 - accuracy: 1.000 - ETA: 13:14 - loss: 6.2220e-07 - accuracy: 1.000 - ETA: 13:04 - loss: 6.2543e-07 - accuracy: 1.000 - ETA: 12:54 - loss: 6.2298e-07 - accuracy: 1.000 - ETA: 12:43 - loss: 6.2059e-07 - accuracy: 1.000 - ETA: 12:34 - loss: 6.1481e-07 - accuracy: 1.000 - ETA: 12:23 - loss: 6.0745e-07 - accuracy: 1.000 - ETA: 12:13 - loss: 5.9913e-07 - accuracy: 1.000 - ETA: 12:02 - loss: 5.9565e-07 - accuracy: 1.000 - ETA: 11:51 - loss: 5.9313e-07 - accuracy: 1.000 - ETA: 11:40 - loss: 5.9371e-07 - accuracy: 1.000 - ETA: 11:30 - loss: 5.9276e-07 - accuracy: 1.000 - ETA: 11:20 - loss: 5.8907e-07 - accuracy: 1.000 - ETA: 11:09 - loss: 5.8663e-07 - accuracy: 1.000 - ETA: 10:59 - loss: 5.9134e-07 - accuracy: 1.000 - ETA: 10:49 - loss: 5.9593e-07 - accuracy: 1.000 - ETA: 10:38 - loss: 5.9250e-07 - accuracy: 1.000 - ETA: 10:28 - loss: 5.9019e-07 - accuracy: 1.000 - ETA: 10:18 - loss: 5.8851e-07 - accuracy: 1.000 - ETA: 10:07 - loss: 5.8375e-07 - accuracy: 1.000 - ETA: 9:57 - loss: 5.8388e-07 - accuracy: 1.000 - ETA: 9:46 - loss: 5.8137e-07 - accuracy: 1.00 - ETA: 9:36 - loss: 5.8679e-07 - accuracy: 1.00 - ETA: 9:25 - loss: 5.8250e-07 - accuracy: 1.00 - ETA: 9:15 - loss: 5.8086e-07 - accuracy: 1.00 - ETA: 9:04 - loss: 5.7960e-07 - accuracy: 1.00 - ETA: 8:54 - loss: 5.7500e-07 - accuracy: 1.00 - ETA: 8:44 - loss: 5.7182e-07 - accuracy: 1.00 - ETA: 8:33 - loss: 5.6956e-07 - accuracy: 1.00 - ETA: 8:23 - loss: 5.7084e-07 - accuracy: 1.00 - ETA: 8:13 - loss: 5.6704e-07 - accuracy: 1.00 - ETA: 8:03 - loss: 5.8868e-07 - accuracy: 1.00 - ETA: 7:53 - loss: 5.8349e-07 - accuracy: 1.00 - ETA: 7:43 - loss: 5.8117e-07 - accuracy: 1.00 - ETA: 7:32 - loss: 5.8168e-07 - accuracy: 1.00 - ETA: 7:22 - loss: 5.8034e-07 - accuracy: 1.00 - ETA: 7:12 - loss: 5.8359e-07 - accuracy: 1.00 - ETA: 7:02 - loss: 5.9392e-07 - accuracy: 1.00 - ETA: 6:52 - loss: 5.9924e-07 - accuracy: 1.00 - ETA: 6:41 - loss: 5.9536e-07 - accuracy: 1.00 - ETA: 6:31 - loss: 5.9153e-07 - accuracy: 1.00 - ETA: 6:21 - loss: 5.8970e-07 - accuracy: 1.00 - ETA: 6:11 - loss: 5.8654e-07 - accuracy: 1.00 - ETA: 6:01 - loss: 5.8540e-07 - accuracy: 1.00 - ETA: 5:51 - loss: 5.8360e-07 - accuracy: 1.00 - ETA: 5:41 - loss: 5.8495e-07 - accuracy: 1.00 - ETA: 5:30 - loss: 5.8226e-07 - accuracy: 1.00 - ETA: 5:20 - loss: 5.7975e-07 - accuracy: 1.00 - ETA: 5:10 - loss: 5.7674e-07 - accuracy: 1.00 - ETA: 4:59 - loss: 5.7417e-07 - accuracy: 1.00 - ETA: 4:49 - loss: 5.7123e-07 - accuracy: 1.00 - ETA: 4:39 - loss: 5.7549e-07 - accuracy: 1.00 - ETA: 4:29 - loss: 5.7274e-07 - accuracy: 1.00 - ETA: 4:18 - loss: 5.7341e-07 - accuracy: 1.00 - ETA: 4:08 - loss: 5.7063e-07 - accuracy: 1.00 - ETA: 3:58 - loss: 5.6966e-07 - accuracy: 1.00 - ETA: 3:47 - loss: 5.6753e-07 - accuracy: 1.00 - ETA: 3:37 - loss: 5.6518e-07 - accuracy: 1.00 - ETA: 3:27 - loss: 5.6319e-07 - accuracy: 1.00 - ETA: 3:17 - loss: 5.5969e-07 - accuracy: 1.00 - ETA: 3:06 - loss: 5.5874e-07 - accuracy: 1.00 - ETA: 2:56 - loss: 5.5793e-07 - accuracy: 1.00 - ETA: 2:46 - loss: 5.6458e-07 - accuracy: 1.00 - ETA: 2:36 - loss: 5.6431e-07 - accuracy: 1.00 - ETA: 2:25 - loss: 5.6307e-07 - accuracy: 1.00 - ETA: 2:15 - loss: 5.6052e-07 - accuracy: 1.00 - ETA: 2:05 - loss: 5.5934e-07 - accuracy: 1.00 - ETA: 1:55 - loss: 5.5846e-07 - accuracy: 1.00 - ETA: 1:44 - loss: 5.5932e-07 - accuracy: 1.00 - ETA: 1:34 - loss: 5.5960e-07 - accuracy: 1.00 - ETA: 1:24 - loss: 5.5902e-07 - accuracy: 1.00 - ETA: 1:14 - loss: 5.6138e-07 - accuracy: 1.00 - ETA: 1:03 - loss: 5.6030e-07 - accuracy: 1.00 - ETA: 53s - loss: 5.5942e-07 - accuracy: 1.0000 - ETA: 43s - loss: 5.5830e-07 - accuracy: 1.000 - ETA: 33s - loss: 5.6377e-07 - accuracy: 1.000 - ETA: 22s - loss: 5.6414e-07 - accuracy: 1.000 - ETA: 12s - loss: 5.6170e-07 - accuracy: 1.000 - ETA: 2s - loss: 5.6245e-07 - accuracy: 1.000 - 1298s 680ms/step - loss: 5.6165e-07 - accuracy: 1.0000 - val_loss: 0.0179 - val_accuracy: 0.9880\n",
      "Epoch 21/30\n"
     ]
    },
    {
     "name": "stdout",
     "output_type": "stream",
     "text": [
      "1908/1908 [==============================] - ETA: 19:33 - loss: 2.0298e-07 - accuracy: 1.000 - ETA: 19:57 - loss: 8.4019e-07 - accuracy: 1.000 - ETA: 19:57 - loss: 7.2120e-07 - accuracy: 1.000 - ETA: 19:45 - loss: 6.9738e-07 - accuracy: 1.000 - ETA: 19:30 - loss: 6.3516e-07 - accuracy: 1.000 - ETA: 19:25 - loss: 6.2337e-07 - accuracy: 1.000 - ETA: 19:14 - loss: 6.4605e-07 - accuracy: 1.000 - ETA: 19:02 - loss: 5.8641e-07 - accuracy: 1.000 - ETA: 18:50 - loss: 5.9239e-07 - accuracy: 1.000 - ETA: 18:41 - loss: 5.9351e-07 - accuracy: 1.000 - ETA: 18:28 - loss: 5.6466e-07 - accuracy: 1.000 - ETA: 18:17 - loss: 5.9997e-07 - accuracy: 1.000 - ETA: 18:05 - loss: 5.9560e-07 - accuracy: 1.000 - ETA: 17:58 - loss: 6.1129e-07 - accuracy: 1.000 - ETA: 17:52 - loss: 5.9163e-07 - accuracy: 1.000 - ETA: 17:44 - loss: 5.9689e-07 - accuracy: 1.000 - ETA: 17:34 - loss: 5.9614e-07 - accuracy: 1.000 - ETA: 17:24 - loss: 5.6979e-07 - accuracy: 1.000 - ETA: 17:12 - loss: 5.7532e-07 - accuracy: 1.000 - ETA: 17:02 - loss: 5.6672e-07 - accuracy: 1.000 - ETA: 16:50 - loss: 5.6575e-07 - accuracy: 1.000 - ETA: 16:39 - loss: 5.7189e-07 - accuracy: 1.000 - ETA: 16:29 - loss: 5.5581e-07 - accuracy: 1.000 - ETA: 16:19 - loss: 5.5462e-07 - accuracy: 1.000 - ETA: 16:09 - loss: 5.5998e-07 - accuracy: 1.000 - ETA: 15:58 - loss: 5.5424e-07 - accuracy: 1.000 - ETA: 15:47 - loss: 5.4483e-07 - accuracy: 1.000 - ETA: 15:36 - loss: 5.3938e-07 - accuracy: 1.000 - ETA: 15:25 - loss: 5.5538e-07 - accuracy: 1.000 - ETA: 15:15 - loss: 5.5909e-07 - accuracy: 1.000 - ETA: 15:06 - loss: 5.4881e-07 - accuracy: 1.000 - ETA: 14:54 - loss: 5.4355e-07 - accuracy: 1.000 - ETA: 14:44 - loss: 5.4028e-07 - accuracy: 1.000 - ETA: 14:33 - loss: 5.3990e-07 - accuracy: 1.000 - ETA: 14:23 - loss: 5.3911e-07 - accuracy: 1.000 - ETA: 14:12 - loss: 5.3185e-07 - accuracy: 1.000 - ETA: 14:02 - loss: 5.2713e-07 - accuracy: 1.000 - ETA: 13:52 - loss: 5.2301e-07 - accuracy: 1.000 - ETA: 13:42 - loss: 5.2119e-07 - accuracy: 1.000 - ETA: 13:33 - loss: 5.2447e-07 - accuracy: 1.000 - ETA: 13:23 - loss: 5.2543e-07 - accuracy: 1.000 - ETA: 13:12 - loss: 5.1638e-07 - accuracy: 1.000 - ETA: 13:02 - loss: 5.1012e-07 - accuracy: 1.000 - ETA: 12:52 - loss: 5.0846e-07 - accuracy: 1.000 - ETA: 12:41 - loss: 5.2176e-07 - accuracy: 1.000 - ETA: 12:31 - loss: 5.1760e-07 - accuracy: 1.000 - ETA: 12:20 - loss: 5.0984e-07 - accuracy: 1.000 - ETA: 12:10 - loss: 5.0334e-07 - accuracy: 1.000 - ETA: 12:00 - loss: 4.9910e-07 - accuracy: 1.000 - ETA: 11:49 - loss: 4.9768e-07 - accuracy: 1.000 - ETA: 11:39 - loss: 5.0087e-07 - accuracy: 1.000 - ETA: 11:28 - loss: 4.9701e-07 - accuracy: 1.000 - ETA: 11:17 - loss: 5.0732e-07 - accuracy: 1.000 - ETA: 11:06 - loss: 5.1177e-07 - accuracy: 1.000 - ETA: 10:56 - loss: 5.0750e-07 - accuracy: 1.000 - ETA: 10:46 - loss: 5.4288e-07 - accuracy: 1.000 - ETA: 10:35 - loss: 5.3752e-07 - accuracy: 1.000 - ETA: 10:25 - loss: 5.3227e-07 - accuracy: 1.000 - ETA: 10:15 - loss: 5.2900e-07 - accuracy: 1.000 - ETA: 10:04 - loss: 5.2891e-07 - accuracy: 1.000 - ETA: 9:54 - loss: 5.3468e-07 - accuracy: 1.000 - ETA: 9:44 - loss: 5.3171e-07 - accuracy: 1.00 - ETA: 9:34 - loss: 5.2898e-07 - accuracy: 1.00 - ETA: 9:24 - loss: 5.2632e-07 - accuracy: 1.00 - ETA: 9:14 - loss: 5.2723e-07 - accuracy: 1.00 - ETA: 9:04 - loss: 5.2216e-07 - accuracy: 1.00 - ETA: 8:54 - loss: 5.2526e-07 - accuracy: 1.00 - ETA: 8:44 - loss: 5.2406e-07 - accuracy: 1.00 - ETA: 8:34 - loss: 5.2358e-07 - accuracy: 1.00 - ETA: 8:23 - loss: 5.2085e-07 - accuracy: 1.00 - ETA: 8:13 - loss: 5.2497e-07 - accuracy: 1.00 - ETA: 8:02 - loss: 5.2217e-07 - accuracy: 1.00 - ETA: 7:52 - loss: 5.1955e-07 - accuracy: 1.00 - ETA: 7:42 - loss: 5.1497e-07 - accuracy: 1.00 - ETA: 7:31 - loss: 5.1529e-07 - accuracy: 1.00 - ETA: 7:21 - loss: 5.1192e-07 - accuracy: 1.00 - ETA: 7:11 - loss: 5.1552e-07 - accuracy: 1.00 - ETA: 7:00 - loss: 5.1607e-07 - accuracy: 1.00 - ETA: 6:50 - loss: 5.1427e-07 - accuracy: 1.00 - ETA: 6:40 - loss: 5.1554e-07 - accuracy: 1.00 - ETA: 6:29 - loss: 5.1346e-07 - accuracy: 1.00 - ETA: 6:19 - loss: 5.0920e-07 - accuracy: 1.00 - ETA: 6:09 - loss: 5.0696e-07 - accuracy: 1.00 - ETA: 5:59 - loss: 5.0513e-07 - accuracy: 1.00 - ETA: 5:49 - loss: 5.0280e-07 - accuracy: 1.00 - ETA: 5:38 - loss: 5.0075e-07 - accuracy: 1.00 - ETA: 5:28 - loss: 4.9870e-07 - accuracy: 1.00 - ETA: 5:18 - loss: 5.0118e-07 - accuracy: 1.00 - ETA: 5:08 - loss: 5.0063e-07 - accuracy: 1.00 - ETA: 4:58 - loss: 4.9739e-07 - accuracy: 1.00 - ETA: 4:47 - loss: 4.9509e-07 - accuracy: 1.00 - ETA: 4:37 - loss: 4.9546e-07 - accuracy: 1.00 - ETA: 4:27 - loss: 4.9198e-07 - accuracy: 1.00 - ETA: 4:17 - loss: 4.9151e-07 - accuracy: 1.00 - ETA: 4:07 - loss: 4.8962e-07 - accuracy: 1.00 - ETA: 3:56 - loss: 4.8737e-07 - accuracy: 1.00 - ETA: 3:46 - loss: 4.8508e-07 - accuracy: 1.00 - ETA: 3:36 - loss: 4.8413e-07 - accuracy: 1.00 - ETA: 3:26 - loss: 4.9017e-07 - accuracy: 1.00 - ETA: 3:16 - loss: 4.8836e-07 - accuracy: 1.00 - ETA: 3:05 - loss: 4.8718e-07 - accuracy: 1.00 - ETA: 2:55 - loss: 4.9393e-07 - accuracy: 1.00 - ETA: 2:45 - loss: 4.9456e-07 - accuracy: 1.00 - ETA: 2:35 - loss: 4.9404e-07 - accuracy: 1.00 - ETA: 2:25 - loss: 4.9365e-07 - accuracy: 1.00 - ETA: 2:14 - loss: 4.9222e-07 - accuracy: 1.00 - ETA: 2:04 - loss: 4.9012e-07 - accuracy: 1.00 - ETA: 1:54 - loss: 4.9271e-07 - accuracy: 1.00 - ETA: 1:44 - loss: 4.9711e-07 - accuracy: 1.00 - ETA: 1:34 - loss: 4.9566e-07 - accuracy: 1.00 - ETA: 1:24 - loss: 4.9261e-07 - accuracy: 1.00 - ETA: 1:13 - loss: 4.9328e-07 - accuracy: 1.00 - ETA: 1:03 - loss: 4.9285e-07 - accuracy: 1.00 - ETA: 53s - loss: 4.9194e-07 - accuracy: 1.0000 - ETA: 43s - loss: 4.9265e-07 - accuracy: 1.000 - ETA: 33s - loss: 4.9168e-07 - accuracy: 1.000 - ETA: 22s - loss: 4.9296e-07 - accuracy: 1.000 - ETA: 12s - loss: 4.9325e-07 - accuracy: 1.000 - ETA: 2s - loss: 4.9092e-07 - accuracy: 1.000 - 1303s 683ms/step - loss: 4.9110e-07 - accuracy: 1.0000 - val_loss: 0.0181 - val_accuracy: 0.9880\n",
      "Epoch 22/30\n"
     ]
    },
    {
     "name": "stdout",
     "output_type": "stream",
     "text": [
      "1908/1908 [==============================] - ETA: 18:56 - loss: 3.9525e-07 - accuracy: 1.000 - ETA: 18:55 - loss: 3.4358e-07 - accuracy: 1.000 - ETA: 18:51 - loss: 3.8275e-07 - accuracy: 1.000 - ETA: 18:49 - loss: 3.6978e-07 - accuracy: 1.000 - ETA: 18:47 - loss: 3.9955e-07 - accuracy: 1.000 - ETA: 18:38 - loss: 3.7564e-07 - accuracy: 1.000 - ETA: 18:38 - loss: 3.5534e-07 - accuracy: 1.000 - ETA: 18:34 - loss: 3.6137e-07 - accuracy: 1.000 - ETA: 18:24 - loss: 3.5574e-07 - accuracy: 1.000 - ETA: 18:14 - loss: 3.4703e-07 - accuracy: 1.000 - ETA: 18:04 - loss: 3.4926e-07 - accuracy: 1.000 - ETA: 17:54 - loss: 4.2309e-07 - accuracy: 1.000 - ETA: 17:45 - loss: 4.2813e-07 - accuracy: 1.000 - ETA: 17:38 - loss: 4.2933e-07 - accuracy: 1.000 - ETA: 17:29 - loss: 4.1500e-07 - accuracy: 1.000 - ETA: 17:19 - loss: 4.1740e-07 - accuracy: 1.000 - ETA: 17:10 - loss: 4.2292e-07 - accuracy: 1.000 - ETA: 17:00 - loss: 4.1720e-07 - accuracy: 1.000 - ETA: 16:50 - loss: 4.1686e-07 - accuracy: 1.000 - ETA: 16:42 - loss: 4.0268e-07 - accuracy: 1.000 - ETA: 16:33 - loss: 3.9171e-07 - accuracy: 1.000 - ETA: 16:22 - loss: 3.8222e-07 - accuracy: 1.000 - ETA: 16:12 - loss: 3.8966e-07 - accuracy: 1.000 - ETA: 16:01 - loss: 3.9315e-07 - accuracy: 1.000 - ETA: 15:50 - loss: 3.8985e-07 - accuracy: 1.000 - ETA: 15:40 - loss: 3.8813e-07 - accuracy: 1.000 - ETA: 15:31 - loss: 3.8154e-07 - accuracy: 1.000 - ETA: 15:21 - loss: 3.8424e-07 - accuracy: 1.000 - ETA: 15:11 - loss: 3.8422e-07 - accuracy: 1.000 - ETA: 15:00 - loss: 3.7970e-07 - accuracy: 1.000 - ETA: 14:48 - loss: 3.9368e-07 - accuracy: 1.000 - ETA: 14:40 - loss: 3.9705e-07 - accuracy: 1.000 - ETA: 14:30 - loss: 4.0715e-07 - accuracy: 1.000 - ETA: 14:20 - loss: 4.0968e-07 - accuracy: 1.000 - ETA: 14:10 - loss: 4.1109e-07 - accuracy: 1.000 - ETA: 14:00 - loss: 4.1286e-07 - accuracy: 1.000 - ETA: 13:50 - loss: 4.1096e-07 - accuracy: 1.000 - ETA: 13:40 - loss: 4.1426e-07 - accuracy: 1.000 - ETA: 13:30 - loss: 4.1587e-07 - accuracy: 1.000 - ETA: 13:20 - loss: 4.1148e-07 - accuracy: 1.000 - ETA: 13:10 - loss: 4.1097e-07 - accuracy: 1.000 - ETA: 12:59 - loss: 4.0941e-07 - accuracy: 1.000 - ETA: 12:49 - loss: 4.1780e-07 - accuracy: 1.000 - ETA: 12:39 - loss: 4.1384e-07 - accuracy: 1.000 - ETA: 12:29 - loss: 4.1268e-07 - accuracy: 1.000 - ETA: 12:18 - loss: 4.1263e-07 - accuracy: 1.000 - ETA: 12:08 - loss: 4.1343e-07 - accuracy: 1.000 - ETA: 11:57 - loss: 4.1434e-07 - accuracy: 1.000 - ETA: 11:47 - loss: 4.1150e-07 - accuracy: 1.000 - ETA: 11:37 - loss: 4.1035e-07 - accuracy: 1.000 - ETA: 11:27 - loss: 4.1229e-07 - accuracy: 1.000 - ETA: 11:18 - loss: 4.1106e-07 - accuracy: 1.000 - ETA: 11:08 - loss: 4.0802e-07 - accuracy: 1.000 - ETA: 10:58 - loss: 4.0614e-07 - accuracy: 1.000 - ETA: 10:48 - loss: 4.1758e-07 - accuracy: 1.000 - ETA: 10:37 - loss: 4.1751e-07 - accuracy: 1.000 - ETA: 10:28 - loss: 4.1472e-07 - accuracy: 1.000 - ETA: 10:18 - loss: 4.1707e-07 - accuracy: 1.000 - ETA: 10:08 - loss: 4.2331e-07 - accuracy: 1.000 - ETA: 9:58 - loss: 4.1973e-07 - accuracy: 1.000 - ETA: 9:48 - loss: 4.2425e-07 - accuracy: 1.00 - ETA: 9:37 - loss: 4.2295e-07 - accuracy: 1.00 - ETA: 9:27 - loss: 4.2223e-07 - accuracy: 1.00 - ETA: 9:17 - loss: 4.2360e-07 - accuracy: 1.00 - ETA: 9:07 - loss: 4.1915e-07 - accuracy: 1.00 - ETA: 8:57 - loss: 4.1717e-07 - accuracy: 1.00 - ETA: 8:47 - loss: 4.1631e-07 - accuracy: 1.00 - ETA: 8:37 - loss: 4.1362e-07 - accuracy: 1.00 - ETA: 8:27 - loss: 4.2347e-07 - accuracy: 1.00 - ETA: 8:17 - loss: 4.2418e-07 - accuracy: 1.00 - ETA: 8:07 - loss: 4.2328e-07 - accuracy: 1.00 - ETA: 7:57 - loss: 4.2249e-07 - accuracy: 1.00 - ETA: 7:47 - loss: 4.1984e-07 - accuracy: 1.00 - ETA: 7:37 - loss: 4.2699e-07 - accuracy: 1.00 - ETA: 7:27 - loss: 4.2513e-07 - accuracy: 1.00 - ETA: 7:17 - loss: 4.2151e-07 - accuracy: 1.00 - ETA: 7:06 - loss: 4.1969e-07 - accuracy: 1.00 - ETA: 6:56 - loss: 4.1906e-07 - accuracy: 1.00 - ETA: 6:46 - loss: 4.1723e-07 - accuracy: 1.00 - ETA: 6:36 - loss: 4.1452e-07 - accuracy: 1.00 - ETA: 6:26 - loss: 4.1205e-07 - accuracy: 1.00 - ETA: 6:16 - loss: 4.0946e-07 - accuracy: 1.00 - ETA: 6:06 - loss: 4.0792e-07 - accuracy: 1.00 - ETA: 5:56 - loss: 4.0718e-07 - accuracy: 1.00 - ETA: 5:45 - loss: 4.0696e-07 - accuracy: 1.00 - ETA: 5:35 - loss: 4.0553e-07 - accuracy: 1.00 - ETA: 5:25 - loss: 4.0571e-07 - accuracy: 1.00 - ETA: 5:15 - loss: 4.0612e-07 - accuracy: 1.00 - ETA: 5:05 - loss: 4.0548e-07 - accuracy: 1.00 - ETA: 4:55 - loss: 4.0656e-07 - accuracy: 1.00 - ETA: 4:45 - loss: 4.1407e-07 - accuracy: 1.00 - ETA: 4:34 - loss: 4.1535e-07 - accuracy: 1.00 - ETA: 4:24 - loss: 4.1528e-07 - accuracy: 1.00 - ETA: 4:14 - loss: 4.1424e-07 - accuracy: 1.00 - ETA: 4:04 - loss: 4.1324e-07 - accuracy: 1.00 - ETA: 3:54 - loss: 4.1785e-07 - accuracy: 1.00 - ETA: 3:44 - loss: 4.1718e-07 - accuracy: 1.00 - ETA: 3:34 - loss: 4.1556e-07 - accuracy: 1.00 - ETA: 3:24 - loss: 4.2156e-07 - accuracy: 1.00 - ETA: 3:14 - loss: 4.2052e-07 - accuracy: 1.00 - ETA: 3:04 - loss: 4.1926e-07 - accuracy: 1.00 - ETA: 2:54 - loss: 4.1971e-07 - accuracy: 1.00 - ETA: 2:44 - loss: 4.1814e-07 - accuracy: 1.00 - ETA: 2:33 - loss: 4.2270e-07 - accuracy: 1.00 - ETA: 2:23 - loss: 4.2067e-07 - accuracy: 1.00 - ETA: 2:13 - loss: 4.2257e-07 - accuracy: 1.00 - ETA: 2:03 - loss: 4.2500e-07 - accuracy: 1.00 - ETA: 1:53 - loss: 4.2312e-07 - accuracy: 1.00 - ETA: 1:43 - loss: 4.2430e-07 - accuracy: 1.00 - ETA: 1:33 - loss: 4.2276e-07 - accuracy: 1.00 - ETA: 1:23 - loss: 4.2213e-07 - accuracy: 1.00 - ETA: 1:13 - loss: 4.3696e-07 - accuracy: 1.00 - ETA: 1:03 - loss: 4.3614e-07 - accuracy: 1.00 - ETA: 52s - loss: 4.3624e-07 - accuracy: 1.0000 - ETA: 42s - loss: 4.3617e-07 - accuracy: 1.000 - ETA: 32s - loss: 4.3361e-07 - accuracy: 1.000 - ETA: 22s - loss: 4.3465e-07 - accuracy: 1.000 - ETA: 12s - loss: 4.3292e-07 - accuracy: 1.000 - ETA: 2s - loss: 4.3355e-07 - accuracy: 1.000 - 1285s 674ms/step - loss: 4.3315e-07 - accuracy: 1.0000 - val_loss: 0.0182 - val_accuracy: 0.9880\n",
      "Epoch 23/30\n"
     ]
    },
    {
     "name": "stdout",
     "output_type": "stream",
     "text": [
      "1908/1908 [==============================] - ETA: 19:26 - loss: 5.9296e-07 - accuracy: 1.000 - ETA: 19:10 - loss: 4.4966e-07 - accuracy: 1.000 - ETA: 19:17 - loss: 5.0824e-07 - accuracy: 1.000 - ETA: 19:18 - loss: 5.1872e-07 - accuracy: 1.000 - ETA: 19:06 - loss: 5.3836e-07 - accuracy: 1.000 - ETA: 19:07 - loss: 5.7495e-07 - accuracy: 1.000 - ETA: 18:58 - loss: 5.1519e-07 - accuracy: 1.000 - ETA: 18:45 - loss: 4.9866e-07 - accuracy: 1.000 - ETA: 18:35 - loss: 4.9222e-07 - accuracy: 1.000 - ETA: 18:22 - loss: 5.4461e-07 - accuracy: 1.000 - ETA: 18:15 - loss: 5.4254e-07 - accuracy: 1.000 - ETA: 18:04 - loss: 5.2217e-07 - accuracy: 1.000 - ETA: 17:56 - loss: 5.2459e-07 - accuracy: 1.000 - ETA: 17:45 - loss: 5.1328e-07 - accuracy: 1.000 - ETA: 17:34 - loss: 4.8621e-07 - accuracy: 1.000 - ETA: 17:24 - loss: 4.7373e-07 - accuracy: 1.000 - ETA: 17:15 - loss: 4.5425e-07 - accuracy: 1.000 - ETA: 17:03 - loss: 4.3994e-07 - accuracy: 1.000 - ETA: 16:55 - loss: 4.2978e-07 - accuracy: 1.000 - ETA: 16:45 - loss: 4.3539e-07 - accuracy: 1.000 - ETA: 16:34 - loss: 4.2454e-07 - accuracy: 1.000 - ETA: 16:22 - loss: 4.5085e-07 - accuracy: 1.000 - ETA: 16:13 - loss: 4.3905e-07 - accuracy: 1.000 - ETA: 16:02 - loss: 4.3379e-07 - accuracy: 1.000 - ETA: 15:51 - loss: 4.3166e-07 - accuracy: 1.000 - ETA: 15:41 - loss: 4.5383e-07 - accuracy: 1.000 - ETA: 15:31 - loss: 4.4709e-07 - accuracy: 1.000 - ETA: 15:22 - loss: 4.4523e-07 - accuracy: 1.000 - ETA: 15:12 - loss: 4.3974e-07 - accuracy: 1.000 - ETA: 15:01 - loss: 4.3861e-07 - accuracy: 1.000 - ETA: 14:52 - loss: 4.3282e-07 - accuracy: 1.000 - ETA: 14:41 - loss: 4.3370e-07 - accuracy: 1.000 - ETA: 14:30 - loss: 4.3549e-07 - accuracy: 1.000 - ETA: 14:19 - loss: 4.3410e-07 - accuracy: 1.000 - ETA: 14:09 - loss: 4.3233e-07 - accuracy: 1.000 - ETA: 13:59 - loss: 4.2499e-07 - accuracy: 1.000 - ETA: 13:48 - loss: 4.3032e-07 - accuracy: 1.000 - ETA: 13:38 - loss: 4.3181e-07 - accuracy: 1.000 - ETA: 13:27 - loss: 4.3493e-07 - accuracy: 1.000 - ETA: 13:16 - loss: 4.2813e-07 - accuracy: 1.000 - ETA: 13:06 - loss: 4.2392e-07 - accuracy: 1.000 - ETA: 12:57 - loss: 4.2261e-07 - accuracy: 1.000 - ETA: 12:48 - loss: 4.1894e-07 - accuracy: 1.000 - ETA: 12:38 - loss: 4.1590e-07 - accuracy: 1.000 - ETA: 12:28 - loss: 4.1174e-07 - accuracy: 1.000 - ETA: 12:18 - loss: 4.0731e-07 - accuracy: 1.000 - ETA: 12:09 - loss: 4.1380e-07 - accuracy: 1.000 - ETA: 11:59 - loss: 4.1358e-07 - accuracy: 1.000 - ETA: 11:49 - loss: 4.1126e-07 - accuracy: 1.000 - ETA: 11:39 - loss: 4.0944e-07 - accuracy: 1.000 - ETA: 11:30 - loss: 4.1122e-07 - accuracy: 1.000 - ETA: 11:19 - loss: 4.1208e-07 - accuracy: 1.000 - ETA: 11:10 - loss: 4.1237e-07 - accuracy: 1.000 - ETA: 11:00 - loss: 4.1088e-07 - accuracy: 1.000 - ETA: 10:50 - loss: 4.1299e-07 - accuracy: 1.000 - ETA: 10:40 - loss: 4.1099e-07 - accuracy: 1.000 - ETA: 10:30 - loss: 4.0840e-07 - accuracy: 1.000 - ETA: 10:20 - loss: 4.0764e-07 - accuracy: 1.000 - ETA: 10:10 - loss: 4.1017e-07 - accuracy: 1.000 - ETA: 10:00 - loss: 4.1252e-07 - accuracy: 1.000 - ETA: 9:50 - loss: 4.0973e-07 - accuracy: 1.000 - ETA: 9:41 - loss: 4.0996e-07 - accuracy: 1.00 - ETA: 9:31 - loss: 4.0560e-07 - accuracy: 1.00 - ETA: 9:22 - loss: 4.0517e-07 - accuracy: 1.00 - ETA: 9:12 - loss: 4.0209e-07 - accuracy: 1.00 - ETA: 9:03 - loss: 4.0216e-07 - accuracy: 1.00 - ETA: 8:53 - loss: 3.9960e-07 - accuracy: 1.00 - ETA: 8:43 - loss: 4.0049e-07 - accuracy: 1.00 - ETA: 8:33 - loss: 3.9749e-07 - accuracy: 1.00 - ETA: 8:23 - loss: 3.9824e-07 - accuracy: 1.00 - ETA: 8:13 - loss: 3.9848e-07 - accuracy: 1.00 - ETA: 8:03 - loss: 3.9671e-07 - accuracy: 1.00 - ETA: 7:53 - loss: 3.9439e-07 - accuracy: 1.00 - ETA: 7:43 - loss: 3.9144e-07 - accuracy: 1.00 - ETA: 7:33 - loss: 4.1199e-07 - accuracy: 1.00 - ETA: 7:23 - loss: 4.1065e-07 - accuracy: 1.00 - ETA: 7:13 - loss: 4.0749e-07 - accuracy: 1.00 - ETA: 7:03 - loss: 4.0604e-07 - accuracy: 1.00 - ETA: 6:53 - loss: 4.0399e-07 - accuracy: 1.00 - ETA: 6:42 - loss: 4.0460e-07 - accuracy: 1.00 - ETA: 6:32 - loss: 4.0828e-07 - accuracy: 1.00 - ETA: 6:22 - loss: 4.0754e-07 - accuracy: 1.00 - ETA: 6:12 - loss: 4.0605e-07 - accuracy: 1.00 - ETA: 6:02 - loss: 4.0362e-07 - accuracy: 1.00 - ETA: 5:52 - loss: 4.0303e-07 - accuracy: 1.00 - ETA: 5:42 - loss: 4.0397e-07 - accuracy: 1.00 - ETA: 5:32 - loss: 4.0235e-07 - accuracy: 1.00 - ETA: 5:21 - loss: 3.9994e-07 - accuracy: 1.00 - ETA: 5:11 - loss: 4.0029e-07 - accuracy: 1.00 - ETA: 5:01 - loss: 3.9867e-07 - accuracy: 1.00 - ETA: 4:51 - loss: 3.9758e-07 - accuracy: 1.00 - ETA: 4:40 - loss: 3.9554e-07 - accuracy: 1.00 - ETA: 4:30 - loss: 3.9491e-07 - accuracy: 1.00 - ETA: 4:20 - loss: 3.9614e-07 - accuracy: 1.00 - ETA: 4:09 - loss: 3.9746e-07 - accuracy: 1.00 - ETA: 3:59 - loss: 3.9678e-07 - accuracy: 1.00 - ETA: 3:49 - loss: 3.9704e-07 - accuracy: 1.00 - ETA: 3:39 - loss: 3.9587e-07 - accuracy: 1.00 - ETA: 3:28 - loss: 3.9613e-07 - accuracy: 1.00 - ETA: 3:18 - loss: 3.9892e-07 - accuracy: 1.00 - ETA: 3:08 - loss: 3.9985e-07 - accuracy: 1.00 - ETA: 2:58 - loss: 3.9951e-07 - accuracy: 1.00 - ETA: 2:47 - loss: 3.9724e-07 - accuracy: 1.00 - ETA: 2:37 - loss: 3.9642e-07 - accuracy: 1.00 - ETA: 2:27 - loss: 3.9433e-07 - accuracy: 1.00 - ETA: 2:16 - loss: 3.9181e-07 - accuracy: 1.00 - ETA: 2:06 - loss: 3.8958e-07 - accuracy: 1.00 - ETA: 1:56 - loss: 3.9093e-07 - accuracy: 1.00 - ETA: 1:45 - loss: 3.8917e-07 - accuracy: 1.00 - ETA: 1:35 - loss: 3.9142e-07 - accuracy: 1.00 - ETA: 1:25 - loss: 3.9047e-07 - accuracy: 1.00 - ETA: 1:14 - loss: 3.9053e-07 - accuracy: 1.00 - ETA: 1:04 - loss: 3.8970e-07 - accuracy: 1.00 - ETA: 54s - loss: 3.8801e-07 - accuracy: 1.0000 - ETA: 43s - loss: 3.8619e-07 - accuracy: 1.000 - ETA: 33s - loss: 3.8459e-07 - accuracy: 1.000 - ETA: 23s - loss: 3.8820e-07 - accuracy: 1.000 - ETA: 12s - loss: 3.8607e-07 - accuracy: 1.000 - ETA: 2s - loss: 3.8466e-07 - accuracy: 1.000 - 1312s 688ms/step - loss: 3.8563e-07 - accuracy: 1.0000 - val_loss: 0.0184 - val_accuracy: 0.9880\n",
      "Epoch 24/30\n"
     ]
    },
    {
     "name": "stdout",
     "output_type": "stream",
     "text": [
      "1908/1908 [==============================] - ETA: 19:08 - loss: 3.5060e-07 - accuracy: 1.000 - ETA: 19:28 - loss: 3.3826e-07 - accuracy: 1.000 - ETA: 19:18 - loss: 3.2428e-07 - accuracy: 1.000 - ETA: 19:10 - loss: 2.8206e-07 - accuracy: 1.000 - ETA: 18:59 - loss: 2.9256e-07 - accuracy: 1.000 - ETA: 18:48 - loss: 2.6718e-07 - accuracy: 1.000 - ETA: 18:38 - loss: 3.2126e-07 - accuracy: 1.000 - ETA: 18:32 - loss: 3.1919e-07 - accuracy: 1.000 - ETA: 18:22 - loss: 3.0605e-07 - accuracy: 1.000 - ETA: 18:18 - loss: 2.9786e-07 - accuracy: 1.000 - ETA: 18:14 - loss: 3.2391e-07 - accuracy: 1.000 - ETA: 18:06 - loss: 3.3254e-07 - accuracy: 1.000 - ETA: 17:55 - loss: 3.4317e-07 - accuracy: 1.000 - ETA: 17:44 - loss: 3.6820e-07 - accuracy: 1.000 - ETA: 17:33 - loss: 3.7920e-07 - accuracy: 1.000 - ETA: 17:22 - loss: 3.8190e-07 - accuracy: 1.000 - ETA: 17:14 - loss: 3.7313e-07 - accuracy: 1.000 - ETA: 17:06 - loss: 3.6744e-07 - accuracy: 1.000 - ETA: 16:56 - loss: 3.6615e-07 - accuracy: 1.000 - ETA: 16:46 - loss: 3.6833e-07 - accuracy: 1.000 - ETA: 16:35 - loss: 3.6487e-07 - accuracy: 1.000 - ETA: 16:24 - loss: 3.5542e-07 - accuracy: 1.000 - ETA: 16:13 - loss: 3.8004e-07 - accuracy: 1.000 - ETA: 16:03 - loss: 3.7513e-07 - accuracy: 1.000 - ETA: 15:52 - loss: 3.6917e-07 - accuracy: 1.000 - ETA: 15:41 - loss: 3.6100e-07 - accuracy: 1.000 - ETA: 15:30 - loss: 4.0680e-07 - accuracy: 1.000 - ETA: 15:19 - loss: 4.0590e-07 - accuracy: 1.000 - ETA: 15:08 - loss: 4.1343e-07 - accuracy: 1.000 - ETA: 14:58 - loss: 4.0674e-07 - accuracy: 1.000 - ETA: 14:48 - loss: 3.9813e-07 - accuracy: 1.000 - ETA: 14:39 - loss: 3.9367e-07 - accuracy: 1.000 - ETA: 14:30 - loss: 3.9101e-07 - accuracy: 1.000 - ETA: 14:20 - loss: 3.9015e-07 - accuracy: 1.000 - ETA: 14:10 - loss: 3.9176e-07 - accuracy: 1.000 - ETA: 14:01 - loss: 3.8661e-07 - accuracy: 1.000 - ETA: 13:51 - loss: 3.8327e-07 - accuracy: 1.000 - ETA: 13:42 - loss: 3.8384e-07 - accuracy: 1.000 - ETA: 13:32 - loss: 3.8828e-07 - accuracy: 1.000 - ETA: 13:22 - loss: 3.8699e-07 - accuracy: 1.000 - ETA: 13:12 - loss: 3.8427e-07 - accuracy: 1.000 - ETA: 13:01 - loss: 3.8139e-07 - accuracy: 1.000 - ETA: 12:51 - loss: 3.7909e-07 - accuracy: 1.000 - ETA: 12:41 - loss: 3.7455e-07 - accuracy: 1.000 - ETA: 12:30 - loss: 3.7457e-07 - accuracy: 1.000 - ETA: 12:20 - loss: 3.7149e-07 - accuracy: 1.000 - ETA: 12:09 - loss: 3.6820e-07 - accuracy: 1.000 - ETA: 11:59 - loss: 3.6413e-07 - accuracy: 1.000 - ETA: 11:49 - loss: 3.6222e-07 - accuracy: 1.000 - ETA: 11:38 - loss: 3.6636e-07 - accuracy: 1.000 - ETA: 11:28 - loss: 3.6510e-07 - accuracy: 1.000 - ETA: 11:18 - loss: 3.6380e-07 - accuracy: 1.000 - ETA: 11:08 - loss: 3.6116e-07 - accuracy: 1.000 - ETA: 10:58 - loss: 3.6424e-07 - accuracy: 1.000 - ETA: 10:48 - loss: 3.6342e-07 - accuracy: 1.000 - ETA: 10:38 - loss: 3.5970e-07 - accuracy: 1.000 - ETA: 10:28 - loss: 3.7323e-07 - accuracy: 1.000 - ETA: 10:18 - loss: 3.6991e-07 - accuracy: 1.000 - ETA: 10:08 - loss: 3.6758e-07 - accuracy: 1.000 - ETA: 9:58 - loss: 3.6617e-07 - accuracy: 1.000 - ETA: 9:48 - loss: 3.6450e-07 - accuracy: 1.00 - ETA: 9:38 - loss: 3.6308e-07 - accuracy: 1.00 - ETA: 9:28 - loss: 3.6122e-07 - accuracy: 1.00 - ETA: 9:18 - loss: 3.6117e-07 - accuracy: 1.00 - ETA: 9:08 - loss: 3.5996e-07 - accuracy: 1.00 - ETA: 8:57 - loss: 3.5967e-07 - accuracy: 1.00 - ETA: 8:47 - loss: 3.6727e-07 - accuracy: 1.00 - ETA: 8:37 - loss: 3.6674e-07 - accuracy: 1.00 - ETA: 8:27 - loss: 3.6365e-07 - accuracy: 1.00 - ETA: 8:17 - loss: 3.6368e-07 - accuracy: 1.00 - ETA: 8:07 - loss: 3.6100e-07 - accuracy: 1.00 - ETA: 7:56 - loss: 3.6279e-07 - accuracy: 1.00 - ETA: 7:46 - loss: 3.6429e-07 - accuracy: 1.00 - ETA: 7:36 - loss: 3.6534e-07 - accuracy: 1.00 - ETA: 7:27 - loss: 3.6193e-07 - accuracy: 1.00 - ETA: 7:17 - loss: 3.6166e-07 - accuracy: 1.00 - ETA: 7:07 - loss: 3.6103e-07 - accuracy: 1.00 - ETA: 6:57 - loss: 3.6193e-07 - accuracy: 1.00 - ETA: 6:47 - loss: 3.6017e-07 - accuracy: 1.00 - ETA: 6:37 - loss: 3.6525e-07 - accuracy: 1.00 - ETA: 6:27 - loss: 3.6938e-07 - accuracy: 1.00 - ETA: 6:17 - loss: 3.7021e-07 - accuracy: 1.00 - ETA: 6:07 - loss: 3.6840e-07 - accuracy: 1.00 - ETA: 5:57 - loss: 3.6796e-07 - accuracy: 1.00 - ETA: 5:46 - loss: 3.6686e-07 - accuracy: 1.00 - ETA: 5:36 - loss: 3.7144e-07 - accuracy: 1.00 - ETA: 5:26 - loss: 3.6870e-07 - accuracy: 1.00 - ETA: 5:16 - loss: 3.6700e-07 - accuracy: 1.00 - ETA: 5:06 - loss: 3.6761e-07 - accuracy: 1.00 - ETA: 4:56 - loss: 3.6565e-07 - accuracy: 1.00 - ETA: 4:46 - loss: 3.6345e-07 - accuracy: 1.00 - ETA: 4:36 - loss: 3.6342e-07 - accuracy: 1.00 - ETA: 4:25 - loss: 3.6310e-07 - accuracy: 1.00 - ETA: 4:15 - loss: 3.6251e-07 - accuracy: 1.00 - ETA: 4:05 - loss: 3.6135e-07 - accuracy: 1.00 - ETA: 3:55 - loss: 3.5909e-07 - accuracy: 1.00 - ETA: 3:45 - loss: 3.5766e-07 - accuracy: 1.00 - ETA: 3:35 - loss: 3.5548e-07 - accuracy: 1.00 - ETA: 3:25 - loss: 3.5308e-07 - accuracy: 1.00 - ETA: 3:15 - loss: 3.5120e-07 - accuracy: 1.00 - ETA: 3:05 - loss: 3.5317e-07 - accuracy: 1.00 - ETA: 2:55 - loss: 3.5318e-07 - accuracy: 1.00 - ETA: 2:45 - loss: 3.5144e-07 - accuracy: 1.00 - ETA: 2:35 - loss: 3.5210e-07 - accuracy: 1.00 - ETA: 2:25 - loss: 3.5211e-07 - accuracy: 1.00 - ETA: 2:15 - loss: 3.5261e-07 - accuracy: 1.00 - ETA: 2:04 - loss: 3.5165e-07 - accuracy: 1.00 - ETA: 1:54 - loss: 3.5247e-07 - accuracy: 1.00 - ETA: 1:44 - loss: 3.5340e-07 - accuracy: 1.00 - ETA: 1:34 - loss: 3.5372e-07 - accuracy: 1.00 - ETA: 1:24 - loss: 3.5514e-07 - accuracy: 1.00 - ETA: 1:13 - loss: 3.5326e-07 - accuracy: 1.00 - ETA: 1:03 - loss: 3.5210e-07 - accuracy: 1.00 - ETA: 53s - loss: 3.5127e-07 - accuracy: 1.0000 - ETA: 43s - loss: 3.4924e-07 - accuracy: 1.000 - ETA: 33s - loss: 3.4726e-07 - accuracy: 1.000 - ETA: 22s - loss: 3.4694e-07 - accuracy: 1.000 - ETA: 12s - loss: 3.4540e-07 - accuracy: 1.000 - ETA: 2s - loss: 3.4507e-07 - accuracy: 1.000 - 1296s 679ms/step - loss: 3.4519e-07 - accuracy: 1.0000 - val_loss: 0.0186 - val_accuracy: 0.9880\n",
      "Epoch 25/30\n"
     ]
    },
    {
     "name": "stdout",
     "output_type": "stream",
     "text": [
      "1908/1908 [==============================] - ETA: 19:40 - loss: 3.7813e-07 - accuracy: 1.000 - ETA: 19:36 - loss: 4.2206e-07 - accuracy: 1.000 - ETA: 19:27 - loss: 3.8642e-07 - accuracy: 1.000 - ETA: 19:07 - loss: 3.3970e-07 - accuracy: 1.000 - ETA: 19:03 - loss: 3.1946e-07 - accuracy: 1.000 - ETA: 18:53 - loss: 3.2263e-07 - accuracy: 1.000 - ETA: 18:50 - loss: 4.0617e-07 - accuracy: 1.000 - ETA: 18:47 - loss: 3.8036e-07 - accuracy: 1.000 - ETA: 18:40 - loss: 3.5828e-07 - accuracy: 1.000 - ETA: 18:30 - loss: 3.3664e-07 - accuracy: 1.000 - ETA: 18:19 - loss: 3.5100e-07 - accuracy: 1.000 - ETA: 18:06 - loss: 3.3966e-07 - accuracy: 1.000 - ETA: 17:53 - loss: 3.3353e-07 - accuracy: 1.000 - ETA: 17:41 - loss: 3.1953e-07 - accuracy: 1.000 - ETA: 17:31 - loss: 3.3009e-07 - accuracy: 1.000 - ETA: 17:20 - loss: 3.2519e-07 - accuracy: 1.000 - ETA: 17:09 - loss: 3.1667e-07 - accuracy: 1.000 - ETA: 16:57 - loss: 3.0725e-07 - accuracy: 1.000 - ETA: 16:47 - loss: 3.0186e-07 - accuracy: 1.000 - ETA: 16:36 - loss: 3.1380e-07 - accuracy: 1.000 - ETA: 16:26 - loss: 3.1020e-07 - accuracy: 1.000 - ETA: 16:19 - loss: 3.0925e-07 - accuracy: 1.000 - ETA: 16:10 - loss: 3.0533e-07 - accuracy: 1.000 - ETA: 16:00 - loss: 3.0328e-07 - accuracy: 1.000 - ETA: 15:49 - loss: 3.0086e-07 - accuracy: 1.000 - ETA: 15:41 - loss: 2.9523e-07 - accuracy: 1.000 - ETA: 15:31 - loss: 3.0563e-07 - accuracy: 1.000 - ETA: 15:22 - loss: 3.0086e-07 - accuracy: 1.000 - ETA: 15:12 - loss: 2.9440e-07 - accuracy: 1.000 - ETA: 15:03 - loss: 2.9439e-07 - accuracy: 1.000 - ETA: 14:53 - loss: 2.9742e-07 - accuracy: 1.000 - ETA: 14:43 - loss: 3.0366e-07 - accuracy: 1.000 - ETA: 14:32 - loss: 3.0624e-07 - accuracy: 1.000 - ETA: 14:23 - loss: 3.1840e-07 - accuracy: 1.000 - ETA: 14:12 - loss: 3.1700e-07 - accuracy: 1.000 - ETA: 14:02 - loss: 3.1438e-07 - accuracy: 1.000 - ETA: 13:52 - loss: 3.1024e-07 - accuracy: 1.000 - ETA: 13:42 - loss: 3.3394e-07 - accuracy: 1.000 - ETA: 13:32 - loss: 3.3099e-07 - accuracy: 1.000 - ETA: 13:21 - loss: 3.3137e-07 - accuracy: 1.000 - ETA: 13:11 - loss: 3.3045e-07 - accuracy: 1.000 - ETA: 13:01 - loss: 3.2992e-07 - accuracy: 1.000 - ETA: 12:51 - loss: 3.2447e-07 - accuracy: 1.000 - ETA: 12:41 - loss: 3.2382e-07 - accuracy: 1.000 - ETA: 12:31 - loss: 3.2651e-07 - accuracy: 1.000 - ETA: 12:21 - loss: 3.3122e-07 - accuracy: 1.000 - ETA: 12:11 - loss: 3.2964e-07 - accuracy: 1.000 - ETA: 12:01 - loss: 3.3231e-07 - accuracy: 1.000 - ETA: 11:50 - loss: 3.3626e-07 - accuracy: 1.000 - ETA: 11:40 - loss: 3.3333e-07 - accuracy: 1.000 - ETA: 11:30 - loss: 3.2850e-07 - accuracy: 1.000 - ETA: 11:21 - loss: 3.2450e-07 - accuracy: 1.000 - ETA: 11:11 - loss: 3.2477e-07 - accuracy: 1.000 - ETA: 11:00 - loss: 3.2714e-07 - accuracy: 1.000 - ETA: 10:50 - loss: 3.2587e-07 - accuracy: 1.000 - ETA: 10:39 - loss: 3.2622e-07 - accuracy: 1.000 - ETA: 10:29 - loss: 3.2698e-07 - accuracy: 1.000 - ETA: 10:19 - loss: 3.2920e-07 - accuracy: 1.000 - ETA: 10:09 - loss: 3.2640e-07 - accuracy: 1.000 - ETA: 9:58 - loss: 3.3017e-07 - accuracy: 1.000 - ETA: 9:48 - loss: 3.2909e-07 - accuracy: 1.00 - ETA: 9:38 - loss: 3.2997e-07 - accuracy: 1.00 - ETA: 9:28 - loss: 3.2955e-07 - accuracy: 1.00 - ETA: 9:17 - loss: 3.3111e-07 - accuracy: 1.00 - ETA: 9:09 - loss: 3.2967e-07 - accuracy: 1.00 - ETA: 9:02 - loss: 3.2655e-07 - accuracy: 1.00 - ETA: 8:53 - loss: 3.2514e-07 - accuracy: 1.00 - ETA: 8:44 - loss: 3.2517e-07 - accuracy: 1.00 - ETA: 8:35 - loss: 3.2429e-07 - accuracy: 1.00 - ETA: 8:25 - loss: 3.2493e-07 - accuracy: 1.00 - ETA: 8:15 - loss: 3.2401e-07 - accuracy: 1.00 - ETA: 8:05 - loss: 3.2120e-07 - accuracy: 1.00 - ETA: 7:56 - loss: 3.1927e-07 - accuracy: 1.00 - ETA: 7:46 - loss: 3.1734e-07 - accuracy: 1.00 - ETA: 7:36 - loss: 3.1772e-07 - accuracy: 1.00 - ETA: 7:28 - loss: 3.1570e-07 - accuracy: 1.00 - ETA: 7:18 - loss: 3.1537e-07 - accuracy: 1.00 - ETA: 7:07 - loss: 3.1528e-07 - accuracy: 1.00 - ETA: 6:57 - loss: 3.1367e-07 - accuracy: 1.00 - ETA: 6:47 - loss: 3.1287e-07 - accuracy: 1.00 - ETA: 6:37 - loss: 3.1183e-07 - accuracy: 1.00 - ETA: 6:27 - loss: 3.1316e-07 - accuracy: 1.00 - ETA: 6:17 - loss: 3.2871e-07 - accuracy: 1.00 - ETA: 6:06 - loss: 3.2705e-07 - accuracy: 1.00 - ETA: 5:56 - loss: 3.2570e-07 - accuracy: 1.00 - ETA: 5:46 - loss: 3.2464e-07 - accuracy: 1.00 - ETA: 5:36 - loss: 3.2297e-07 - accuracy: 1.00 - ETA: 5:26 - loss: 3.2363e-07 - accuracy: 1.00 - ETA: 5:15 - loss: 3.2381e-07 - accuracy: 1.00 - ETA: 5:05 - loss: 3.2350e-07 - accuracy: 1.00 - ETA: 4:55 - loss: 3.2329e-07 - accuracy: 1.00 - ETA: 4:45 - loss: 3.2158e-07 - accuracy: 1.00 - ETA: 4:34 - loss: 3.2070e-07 - accuracy: 1.00 - ETA: 4:24 - loss: 3.2023e-07 - accuracy: 1.00 - ETA: 4:14 - loss: 3.1851e-07 - accuracy: 1.00 - ETA: 4:03 - loss: 3.1688e-07 - accuracy: 1.00 - ETA: 3:53 - loss: 3.1564e-07 - accuracy: 1.00 - ETA: 3:42 - loss: 3.1593e-07 - accuracy: 1.00 - ETA: 3:32 - loss: 3.1584e-07 - accuracy: 1.00 - ETA: 3:21 - loss: 3.1528e-07 - accuracy: 1.00 - ETA: 3:11 - loss: 3.1609e-07 - accuracy: 1.00 - ETA: 3:00 - loss: 3.1614e-07 - accuracy: 1.00 - ETA: 2:50 - loss: 3.1523e-07 - accuracy: 1.00 - ETA: 2:39 - loss: 3.1424e-07 - accuracy: 1.00 - ETA: 2:29 - loss: 3.1302e-07 - accuracy: 1.00 - ETA: 2:19 - loss: 3.1216e-07 - accuracy: 1.00 - ETA: 2:08 - loss: 3.1426e-07 - accuracy: 1.00 - ETA: 1:58 - loss: 3.1472e-07 - accuracy: 1.00 - ETA: 1:47 - loss: 3.1465e-07 - accuracy: 1.00 - ETA: 1:37 - loss: 3.1579e-07 - accuracy: 1.00 - ETA: 1:26 - loss: 3.1434e-07 - accuracy: 1.00 - ETA: 1:16 - loss: 3.1353e-07 - accuracy: 1.00 - ETA: 1:05 - loss: 3.1290e-07 - accuracy: 1.00 - ETA: 55s - loss: 3.1250e-07 - accuracy: 1.0000 - ETA: 44s - loss: 3.1209e-07 - accuracy: 1.000 - ETA: 34s - loss: 3.1246e-07 - accuracy: 1.000 - ETA: 23s - loss: 3.1298e-07 - accuracy: 1.000 - ETA: 13s - loss: 3.1262e-07 - accuracy: 1.000 - ETA: 2s - loss: 3.1135e-07 - accuracy: 1.000 - 1331s 698ms/step - loss: 3.1114e-07 - accuracy: 1.0000 - val_loss: 0.0187 - val_accuracy: 0.9880\n",
      "Epoch 26/30\n"
     ]
    },
    {
     "name": "stdout",
     "output_type": "stream",
     "text": [
      "1908/1908 [==============================] - ETA: 19:07 - loss: 3.9666e-07 - accuracy: 1.000 - ETA: 19:19 - loss: 3.0755e-07 - accuracy: 1.000 - ETA: 19:24 - loss: 2.9408e-07 - accuracy: 1.000 - ETA: 19:14 - loss: 3.4148e-07 - accuracy: 1.000 - ETA: 19:05 - loss: 3.1981e-07 - accuracy: 1.000 - ETA: 18:55 - loss: 3.0413e-07 - accuracy: 1.000 - ETA: 18:54 - loss: 3.6420e-07 - accuracy: 1.000 - ETA: 18:47 - loss: 3.4953e-07 - accuracy: 1.000 - ETA: 18:42 - loss: 3.2749e-07 - accuracy: 1.000 - ETA: 18:37 - loss: 3.1547e-07 - accuracy: 1.000 - ETA: 18:28 - loss: 3.2439e-07 - accuracy: 1.000 - ETA: 18:17 - loss: 3.3855e-07 - accuracy: 1.000 - ETA: 18:10 - loss: 3.3620e-07 - accuracy: 1.000 - ETA: 18:06 - loss: 3.3921e-07 - accuracy: 1.000 - ETA: 17:57 - loss: 3.2735e-07 - accuracy: 1.000 - ETA: 17:46 - loss: 3.1817e-07 - accuracy: 1.000 - ETA: 17:38 - loss: 3.1332e-07 - accuracy: 1.000 - ETA: 17:28 - loss: 3.0577e-07 - accuracy: 1.000 - ETA: 17:17 - loss: 3.0460e-07 - accuracy: 1.000 - ETA: 17:08 - loss: 3.0697e-07 - accuracy: 1.000 - ETA: 16:57 - loss: 3.0590e-07 - accuracy: 1.000 - ETA: 16:45 - loss: 2.9648e-07 - accuracy: 1.000 - ETA: 16:35 - loss: 2.8691e-07 - accuracy: 1.000 - ETA: 16:26 - loss: 2.8314e-07 - accuracy: 1.000 - ETA: 16:18 - loss: 2.7776e-07 - accuracy: 1.000 - ETA: 16:06 - loss: 2.7514e-07 - accuracy: 1.000 - ETA: 15:54 - loss: 2.7493e-07 - accuracy: 1.000 - ETA: 15:43 - loss: 2.6925e-07 - accuracy: 1.000 - ETA: 15:31 - loss: 2.6394e-07 - accuracy: 1.000 - ETA: 15:20 - loss: 2.6228e-07 - accuracy: 1.000 - ETA: 15:09 - loss: 2.6105e-07 - accuracy: 1.000 - ETA: 14:58 - loss: 2.7634e-07 - accuracy: 1.000 - ETA: 14:47 - loss: 2.7254e-07 - accuracy: 1.000 - ETA: 14:37 - loss: 2.7070e-07 - accuracy: 1.000 - ETA: 14:25 - loss: 2.6782e-07 - accuracy: 1.000 - ETA: 14:14 - loss: 2.7332e-07 - accuracy: 1.000 - ETA: 14:04 - loss: 2.7156e-07 - accuracy: 1.000 - ETA: 13:54 - loss: 2.7680e-07 - accuracy: 1.000 - ETA: 13:43 - loss: 2.7256e-07 - accuracy: 1.000 - ETA: 13:33 - loss: 2.7640e-07 - accuracy: 1.000 - ETA: 13:22 - loss: 2.7753e-07 - accuracy: 1.000 - ETA: 13:11 - loss: 2.7805e-07 - accuracy: 1.000 - ETA: 13:00 - loss: 2.7610e-07 - accuracy: 1.000 - ETA: 12:49 - loss: 2.7616e-07 - accuracy: 1.000 - ETA: 12:39 - loss: 2.8857e-07 - accuracy: 1.000 - ETA: 12:28 - loss: 2.8789e-07 - accuracy: 1.000 - ETA: 12:17 - loss: 2.8531e-07 - accuracy: 1.000 - ETA: 12:07 - loss: 2.8334e-07 - accuracy: 1.000 - ETA: 11:56 - loss: 2.8348e-07 - accuracy: 1.000 - ETA: 11:45 - loss: 2.8187e-07 - accuracy: 1.000 - ETA: 11:35 - loss: 2.8072e-07 - accuracy: 1.000 - ETA: 11:24 - loss: 2.8040e-07 - accuracy: 1.000 - ETA: 11:14 - loss: 2.7768e-07 - accuracy: 1.000 - ETA: 11:04 - loss: 2.7776e-07 - accuracy: 1.000 - ETA: 10:54 - loss: 2.7992e-07 - accuracy: 1.000 - ETA: 10:43 - loss: 2.7673e-07 - accuracy: 1.000 - ETA: 10:33 - loss: 2.7586e-07 - accuracy: 1.000 - ETA: 10:23 - loss: 2.7545e-07 - accuracy: 1.000 - ETA: 10:12 - loss: 2.7701e-07 - accuracy: 1.000 - ETA: 10:01 - loss: 2.7639e-07 - accuracy: 1.000 - ETA: 9:51 - loss: 2.7524e-07 - accuracy: 1.000 - ETA: 9:40 - loss: 2.7264e-07 - accuracy: 1.00 - ETA: 9:30 - loss: 2.7477e-07 - accuracy: 1.00 - ETA: 9:19 - loss: 2.7215e-07 - accuracy: 1.00 - ETA: 9:09 - loss: 2.7125e-07 - accuracy: 1.00 - ETA: 8:59 - loss: 2.6913e-07 - accuracy: 1.00 - ETA: 8:48 - loss: 2.7293e-07 - accuracy: 1.00 - ETA: 8:38 - loss: 2.7432e-07 - accuracy: 1.00 - ETA: 8:28 - loss: 2.7593e-07 - accuracy: 1.00 - ETA: 8:18 - loss: 2.7697e-07 - accuracy: 1.00 - ETA: 8:08 - loss: 2.7501e-07 - accuracy: 1.00 - ETA: 7:58 - loss: 2.7340e-07 - accuracy: 1.00 - ETA: 7:47 - loss: 2.7252e-07 - accuracy: 1.00 - ETA: 7:38 - loss: 2.7330e-07 - accuracy: 1.00 - ETA: 7:27 - loss: 2.7338e-07 - accuracy: 1.00 - ETA: 7:17 - loss: 2.7359e-07 - accuracy: 1.00 - ETA: 7:07 - loss: 2.7280e-07 - accuracy: 1.00 - ETA: 6:57 - loss: 2.7375e-07 - accuracy: 1.00 - ETA: 6:47 - loss: 2.7452e-07 - accuracy: 1.00 - ETA: 6:37 - loss: 2.7247e-07 - accuracy: 1.00 - ETA: 6:26 - loss: 2.7216e-07 - accuracy: 1.00 - ETA: 6:16 - loss: 2.7497e-07 - accuracy: 1.00 - ETA: 6:06 - loss: 2.7461e-07 - accuracy: 1.00 - ETA: 5:56 - loss: 2.7324e-07 - accuracy: 1.00 - ETA: 5:45 - loss: 2.7195e-07 - accuracy: 1.00 - ETA: 5:35 - loss: 2.7253e-07 - accuracy: 1.00 - ETA: 5:25 - loss: 2.7111e-07 - accuracy: 1.00 - ETA: 5:15 - loss: 2.6999e-07 - accuracy: 1.00 - ETA: 5:05 - loss: 2.6939e-07 - accuracy: 1.00 - ETA: 4:55 - loss: 2.7012e-07 - accuracy: 1.00 - ETA: 4:45 - loss: 2.7114e-07 - accuracy: 1.00 - ETA: 4:34 - loss: 2.7034e-07 - accuracy: 1.00 - ETA: 4:24 - loss: 2.7034e-07 - accuracy: 1.00 - ETA: 4:14 - loss: 2.7012e-07 - accuracy: 1.00 - ETA: 4:04 - loss: 2.6974e-07 - accuracy: 1.00 - ETA: 3:54 - loss: 2.7005e-07 - accuracy: 1.00 - ETA: 3:44 - loss: 2.6905e-07 - accuracy: 1.00 - ETA: 3:34 - loss: 2.7038e-07 - accuracy: 1.00 - ETA: 3:24 - loss: 2.7029e-07 - accuracy: 1.00 - ETA: 3:14 - loss: 2.6973e-07 - accuracy: 1.00 - ETA: 3:04 - loss: 2.6961e-07 - accuracy: 1.00 - ETA: 2:53 - loss: 2.7012e-07 - accuracy: 1.00 - ETA: 2:43 - loss: 2.7231e-07 - accuracy: 1.00 - ETA: 2:33 - loss: 2.7120e-07 - accuracy: 1.00 - ETA: 2:23 - loss: 2.7383e-07 - accuracy: 1.00 - ETA: 2:13 - loss: 2.7292e-07 - accuracy: 1.00 - ETA: 2:03 - loss: 2.7311e-07 - accuracy: 1.00 - ETA: 1:53 - loss: 2.7279e-07 - accuracy: 1.00 - ETA: 1:43 - loss: 2.8430e-07 - accuracy: 1.00 - ETA: 1:33 - loss: 2.8331e-07 - accuracy: 1.00 - ETA: 1:23 - loss: 2.8340e-07 - accuracy: 1.00 - ETA: 1:13 - loss: 2.8279e-07 - accuracy: 1.00 - ETA: 1:03 - loss: 2.8160e-07 - accuracy: 1.00 - ETA: 53s - loss: 2.8085e-07 - accuracy: 1.0000 - ETA: 43s - loss: 2.8225e-07 - accuracy: 1.000 - ETA: 32s - loss: 2.8134e-07 - accuracy: 1.000 - ETA: 22s - loss: 2.8048e-07 - accuracy: 1.000 - ETA: 12s - loss: 2.8220e-07 - accuracy: 1.000 - ETA: 2s - loss: 2.8232e-07 - accuracy: 1.000 - 1296s 679ms/step - loss: 2.8205e-07 - accuracy: 1.0000 - val_loss: 0.0189 - val_accuracy: 0.9878\n",
      "Epoch 27/30\n"
     ]
    },
    {
     "name": "stdout",
     "output_type": "stream",
     "text": [
      "1908/1908 [==============================] - ETA: 21:57 - loss: 1.1874e-07 - accuracy: 1.000 - ETA: 21:20 - loss: 2.0994e-07 - accuracy: 1.000 - ETA: 21:05 - loss: 2.0041e-07 - accuracy: 1.000 - ETA: 20:57 - loss: 1.9954e-07 - accuracy: 1.000 - ETA: 20:51 - loss: 2.0877e-07 - accuracy: 1.000 - ETA: 20:47 - loss: 1.9317e-07 - accuracy: 1.000 - ETA: 20:49 - loss: 1.8752e-07 - accuracy: 1.000 - ETA: 20:33 - loss: 1.9537e-07 - accuracy: 1.000 - ETA: 20:14 - loss: 1.8227e-07 - accuracy: 1.000 - ETA: 19:53 - loss: 1.7828e-07 - accuracy: 1.000 - ETA: 19:36 - loss: 1.7565e-07 - accuracy: 1.000 - ETA: 19:18 - loss: 1.8070e-07 - accuracy: 1.000 - ETA: 19:01 - loss: 1.8415e-07 - accuracy: 1.000 - ETA: 18:44 - loss: 2.1388e-07 - accuracy: 1.000 - ETA: 18:32 - loss: 2.2184e-07 - accuracy: 1.000 - ETA: 18:18 - loss: 2.2027e-07 - accuracy: 1.000 - ETA: 18:05 - loss: 2.2128e-07 - accuracy: 1.000 - ETA: 17:49 - loss: 2.2185e-07 - accuracy: 1.000 - ETA: 17:40 - loss: 2.2198e-07 - accuracy: 1.000 - ETA: 17:26 - loss: 2.7164e-07 - accuracy: 1.000 - ETA: 17:14 - loss: 2.6558e-07 - accuracy: 1.000 - ETA: 16:59 - loss: 2.6655e-07 - accuracy: 1.000 - ETA: 16:47 - loss: 2.9080e-07 - accuracy: 1.000 - ETA: 16:36 - loss: 2.8332e-07 - accuracy: 1.000 - ETA: 16:23 - loss: 2.8779e-07 - accuracy: 1.000 - ETA: 16:10 - loss: 2.8977e-07 - accuracy: 1.000 - ETA: 16:00 - loss: 2.9671e-07 - accuracy: 1.000 - ETA: 15:48 - loss: 2.8973e-07 - accuracy: 1.000 - ETA: 15:37 - loss: 2.9220e-07 - accuracy: 1.000 - ETA: 15:25 - loss: 2.8772e-07 - accuracy: 1.000 - ETA: 15:14 - loss: 2.8405e-07 - accuracy: 1.000 - ETA: 15:02 - loss: 2.8073e-07 - accuracy: 1.000 - ETA: 14:50 - loss: 2.7891e-07 - accuracy: 1.000 - ETA: 14:39 - loss: 2.9360e-07 - accuracy: 1.000 - ETA: 14:27 - loss: 2.8943e-07 - accuracy: 1.000 - ETA: 14:16 - loss: 2.9980e-07 - accuracy: 1.000 - ETA: 14:05 - loss: 2.9879e-07 - accuracy: 1.000 - ETA: 13:53 - loss: 2.9304e-07 - accuracy: 1.000 - ETA: 13:42 - loss: 2.9285e-07 - accuracy: 1.000 - ETA: 13:32 - loss: 2.9571e-07 - accuracy: 1.000 - ETA: 13:23 - loss: 2.9308e-07 - accuracy: 1.000 - ETA: 13:13 - loss: 2.9148e-07 - accuracy: 1.000 - ETA: 13:02 - loss: 2.9054e-07 - accuracy: 1.000 - ETA: 12:52 - loss: 2.9244e-07 - accuracy: 1.000 - ETA: 12:42 - loss: 2.9116e-07 - accuracy: 1.000 - ETA: 12:31 - loss: 2.9074e-07 - accuracy: 1.000 - ETA: 12:20 - loss: 2.8961e-07 - accuracy: 1.000 - ETA: 12:10 - loss: 2.8884e-07 - accuracy: 1.000 - ETA: 11:59 - loss: 2.8895e-07 - accuracy: 1.000 - ETA: 11:48 - loss: 2.8572e-07 - accuracy: 1.000 - ETA: 11:37 - loss: 2.8374e-07 - accuracy: 1.000 - ETA: 11:27 - loss: 2.8277e-07 - accuracy: 1.000 - ETA: 11:15 - loss: 2.8176e-07 - accuracy: 1.000 - ETA: 11:04 - loss: 2.7927e-07 - accuracy: 1.000 - ETA: 10:54 - loss: 2.7971e-07 - accuracy: 1.000 - ETA: 10:43 - loss: 2.7746e-07 - accuracy: 1.000 - ETA: 10:33 - loss: 2.7751e-07 - accuracy: 1.000 - ETA: 10:23 - loss: 2.7509e-07 - accuracy: 1.000 - ETA: 10:13 - loss: 2.7401e-07 - accuracy: 1.000 - ETA: 10:03 - loss: 2.7637e-07 - accuracy: 1.000 - ETA: 9:52 - loss: 2.7492e-07 - accuracy: 1.000 - ETA: 9:42 - loss: 2.7453e-07 - accuracy: 1.00 - ETA: 9:32 - loss: 2.7455e-07 - accuracy: 1.00 - ETA: 9:21 - loss: 2.7386e-07 - accuracy: 1.00 - ETA: 9:11 - loss: 2.7211e-07 - accuracy: 1.00 - ETA: 9:01 - loss: 2.7127e-07 - accuracy: 1.00 - ETA: 8:51 - loss: 2.6913e-07 - accuracy: 1.00 - ETA: 8:41 - loss: 2.6855e-07 - accuracy: 1.00 - ETA: 8:31 - loss: 2.6843e-07 - accuracy: 1.00 - ETA: 8:20 - loss: 2.6815e-07 - accuracy: 1.00 - ETA: 8:10 - loss: 2.6881e-07 - accuracy: 1.00 - ETA: 8:01 - loss: 2.6876e-07 - accuracy: 1.00 - ETA: 7:51 - loss: 2.6964e-07 - accuracy: 1.00 - ETA: 7:41 - loss: 2.7026e-07 - accuracy: 1.00 - ETA: 7:31 - loss: 2.7049e-07 - accuracy: 1.00 - ETA: 7:21 - loss: 2.7102e-07 - accuracy: 1.00 - ETA: 7:11 - loss: 2.7042e-07 - accuracy: 1.00 - ETA: 7:01 - loss: 2.6899e-07 - accuracy: 1.00 - ETA: 6:51 - loss: 2.6986e-07 - accuracy: 1.00 - ETA: 6:41 - loss: 2.6957e-07 - accuracy: 1.00 - ETA: 6:30 - loss: 2.6733e-07 - accuracy: 1.00 - ETA: 6:20 - loss: 2.6662e-07 - accuracy: 1.00 - ETA: 6:10 - loss: 2.6625e-07 - accuracy: 1.00 - ETA: 5:59 - loss: 2.6594e-07 - accuracy: 1.00 - ETA: 5:49 - loss: 2.6454e-07 - accuracy: 1.00 - ETA: 5:39 - loss: 2.6346e-07 - accuracy: 1.00 - ETA: 5:29 - loss: 2.6556e-07 - accuracy: 1.00 - ETA: 5:18 - loss: 2.6418e-07 - accuracy: 1.00 - ETA: 5:08 - loss: 2.6436e-07 - accuracy: 1.00 - ETA: 4:58 - loss: 2.6284e-07 - accuracy: 1.00 - ETA: 4:48 - loss: 2.6272e-07 - accuracy: 1.00 - ETA: 4:37 - loss: 2.6118e-07 - accuracy: 1.00 - ETA: 4:27 - loss: 2.6098e-07 - accuracy: 1.00 - ETA: 4:17 - loss: 2.6058e-07 - accuracy: 1.00 - ETA: 4:06 - loss: 2.6065e-07 - accuracy: 1.00 - ETA: 3:56 - loss: 2.6057e-07 - accuracy: 1.00 - ETA: 3:46 - loss: 2.6174e-07 - accuracy: 1.00 - ETA: 3:36 - loss: 2.6097e-07 - accuracy: 1.00 - ETA: 3:25 - loss: 2.6255e-07 - accuracy: 1.00 - ETA: 3:15 - loss: 2.6214e-07 - accuracy: 1.00 - ETA: 3:05 - loss: 2.6153e-07 - accuracy: 1.00 - ETA: 2:55 - loss: 2.6067e-07 - accuracy: 1.00 - ETA: 2:45 - loss: 2.5908e-07 - accuracy: 1.00 - ETA: 2:34 - loss: 2.5947e-07 - accuracy: 1.00 - ETA: 2:24 - loss: 2.5868e-07 - accuracy: 1.00 - ETA: 2:14 - loss: 2.5808e-07 - accuracy: 1.00 - ETA: 2:04 - loss: 2.5922e-07 - accuracy: 1.00 - ETA: 1:54 - loss: 2.5883e-07 - accuracy: 1.00 - ETA: 1:44 - loss: 2.5898e-07 - accuracy: 1.00 - ETA: 1:33 - loss: 2.5755e-07 - accuracy: 1.00 - ETA: 1:23 - loss: 2.5705e-07 - accuracy: 1.00 - ETA: 1:13 - loss: 2.5656e-07 - accuracy: 1.00 - ETA: 1:03 - loss: 2.5631e-07 - accuracy: 1.00 - ETA: 53s - loss: 2.5775e-07 - accuracy: 1.0000 - ETA: 43s - loss: 2.5792e-07 - accuracy: 1.000 - ETA: 32s - loss: 2.5718e-07 - accuracy: 1.000 - ETA: 22s - loss: 2.5602e-07 - accuracy: 1.000 - ETA: 12s - loss: 2.5495e-07 - accuracy: 1.000 - ETA: 2s - loss: 2.5584e-07 - accuracy: 1.000 - 1288s 675ms/step - loss: 2.5676e-07 - accuracy: 1.0000 - val_loss: 0.0190 - val_accuracy: 0.9877\n",
      "Epoch 28/30\n"
     ]
    },
    {
     "name": "stdout",
     "output_type": "stream",
     "text": [
      "1908/1908 [==============================] - ETA: 20:21 - loss: 1.7840e-07 - accuracy: 1.000 - ETA: 20:16 - loss: 2.9161e-07 - accuracy: 1.000 - ETA: 20:03 - loss: 2.4691e-07 - accuracy: 1.000 - ETA: 19:43 - loss: 2.4207e-07 - accuracy: 1.000 - ETA: 19:24 - loss: 2.5325e-07 - accuracy: 1.000 - ETA: 19:07 - loss: 2.4598e-07 - accuracy: 1.000 - ETA: 18:56 - loss: 2.4489e-07 - accuracy: 1.000 - ETA: 18:49 - loss: 2.4145e-07 - accuracy: 1.000 - ETA: 18:32 - loss: 2.4975e-07 - accuracy: 1.000 - ETA: 18:23 - loss: 2.4237e-07 - accuracy: 1.000 - ETA: 18:11 - loss: 2.3253e-07 - accuracy: 1.000 - ETA: 18:00 - loss: 2.3855e-07 - accuracy: 1.000 - ETA: 17:48 - loss: 2.4446e-07 - accuracy: 1.000 - ETA: 17:39 - loss: 2.3583e-07 - accuracy: 1.000 - ETA: 17:30 - loss: 2.2562e-07 - accuracy: 1.000 - ETA: 17:19 - loss: 2.3140e-07 - accuracy: 1.000 - ETA: 17:08 - loss: 2.2727e-07 - accuracy: 1.000 - ETA: 16:56 - loss: 2.2578e-07 - accuracy: 1.000 - ETA: 16:47 - loss: 2.2728e-07 - accuracy: 1.000 - ETA: 16:38 - loss: 2.2792e-07 - accuracy: 1.000 - ETA: 16:28 - loss: 2.2483e-07 - accuracy: 1.000 - ETA: 16:18 - loss: 2.2533e-07 - accuracy: 1.000 - ETA: 16:07 - loss: 2.3098e-07 - accuracy: 1.000 - ETA: 15:56 - loss: 2.2653e-07 - accuracy: 1.000 - ETA: 15:45 - loss: 2.2496e-07 - accuracy: 1.000 - ETA: 15:33 - loss: 2.2201e-07 - accuracy: 1.000 - ETA: 15:23 - loss: 2.2171e-07 - accuracy: 1.000 - ETA: 15:12 - loss: 2.1825e-07 - accuracy: 1.000 - ETA: 15:02 - loss: 2.1511e-07 - accuracy: 1.000 - ETA: 14:51 - loss: 2.1256e-07 - accuracy: 1.000 - ETA: 14:41 - loss: 2.1518e-07 - accuracy: 1.000 - ETA: 14:30 - loss: 2.1671e-07 - accuracy: 1.000 - ETA: 14:20 - loss: 2.1532e-07 - accuracy: 1.000 - ETA: 14:12 - loss: 2.1343e-07 - accuracy: 1.000 - ETA: 14:05 - loss: 2.1399e-07 - accuracy: 1.000 - ETA: 13:57 - loss: 2.1271e-07 - accuracy: 1.000 - ETA: 13:49 - loss: 2.1318e-07 - accuracy: 1.000 - ETA: 13:41 - loss: 2.1559e-07 - accuracy: 1.000 - ETA: 13:33 - loss: 2.1588e-07 - accuracy: 1.000 - ETA: 13:24 - loss: 2.1540e-07 - accuracy: 1.000 - ETA: 13:17 - loss: 2.2576e-07 - accuracy: 1.000 - ETA: 13:08 - loss: 2.2612e-07 - accuracy: 1.000 - ETA: 12:58 - loss: 2.2500e-07 - accuracy: 1.000 - ETA: 12:48 - loss: 2.2459e-07 - accuracy: 1.000 - ETA: 12:39 - loss: 2.2255e-07 - accuracy: 1.000 - ETA: 12:29 - loss: 2.2541e-07 - accuracy: 1.000 - ETA: 12:18 - loss: 2.2388e-07 - accuracy: 1.000 - ETA: 12:09 - loss: 2.2458e-07 - accuracy: 1.000 - ETA: 11:59 - loss: 2.2269e-07 - accuracy: 1.000 - ETA: 11:49 - loss: 2.2179e-07 - accuracy: 1.000 - ETA: 11:42 - loss: 2.2464e-07 - accuracy: 1.000 - ETA: 11:32 - loss: 2.2213e-07 - accuracy: 1.000 - ETA: 11:22 - loss: 2.2929e-07 - accuracy: 1.000 - ETA: 11:12 - loss: 2.2677e-07 - accuracy: 1.000 - ETA: 11:02 - loss: 2.2513e-07 - accuracy: 1.000 - ETA: 10:53 - loss: 2.3359e-07 - accuracy: 1.000 - ETA: 10:43 - loss: 2.3373e-07 - accuracy: 1.000 - ETA: 10:33 - loss: 2.3320e-07 - accuracy: 1.000 - ETA: 10:23 - loss: 2.3401e-07 - accuracy: 1.000 - ETA: 10:13 - loss: 2.3417e-07 - accuracy: 1.000 - ETA: 10:02 - loss: 2.3384e-07 - accuracy: 1.000 - ETA: 9:52 - loss: 2.3318e-07 - accuracy: 1.000 - ETA: 9:42 - loss: 2.3289e-07 - accuracy: 1.00 - ETA: 9:33 - loss: 2.3214e-07 - accuracy: 1.00 - ETA: 9:24 - loss: 2.3203e-07 - accuracy: 1.00 - ETA: 9:14 - loss: 2.3331e-07 - accuracy: 1.00 - ETA: 9:03 - loss: 2.3551e-07 - accuracy: 1.00 - ETA: 8:53 - loss: 2.3383e-07 - accuracy: 1.00 - ETA: 8:43 - loss: 2.3199e-07 - accuracy: 1.00 - ETA: 8:33 - loss: 2.3127e-07 - accuracy: 1.00 - ETA: 8:23 - loss: 2.3625e-07 - accuracy: 1.00 - ETA: 8:13 - loss: 2.3663e-07 - accuracy: 1.00 - ETA: 8:02 - loss: 2.3534e-07 - accuracy: 1.00 - ETA: 7:52 - loss: 2.3361e-07 - accuracy: 1.00 - ETA: 7:42 - loss: 2.3250e-07 - accuracy: 1.00 - ETA: 7:32 - loss: 2.3143e-07 - accuracy: 1.00 - ETA: 7:22 - loss: 2.3254e-07 - accuracy: 1.00 - ETA: 7:11 - loss: 2.3130e-07 - accuracy: 1.00 - ETA: 7:00 - loss: 2.3526e-07 - accuracy: 1.00 - ETA: 6:50 - loss: 2.3543e-07 - accuracy: 1.00 - ETA: 6:39 - loss: 2.3621e-07 - accuracy: 1.00 - ETA: 6:29 - loss: 2.3561e-07 - accuracy: 1.00 - ETA: 6:18 - loss: 2.3440e-07 - accuracy: 1.00 - ETA: 6:08 - loss: 2.3278e-07 - accuracy: 1.00 - ETA: 5:57 - loss: 2.3383e-07 - accuracy: 1.00 - ETA: 5:47 - loss: 2.3197e-07 - accuracy: 1.00 - ETA: 5:36 - loss: 2.3275e-07 - accuracy: 1.00 - ETA: 5:25 - loss: 2.3133e-07 - accuracy: 1.00 - ETA: 5:15 - loss: 2.3266e-07 - accuracy: 1.00 - ETA: 5:04 - loss: 2.3354e-07 - accuracy: 1.00 - ETA: 4:54 - loss: 2.3267e-07 - accuracy: 1.00 - ETA: 4:43 - loss: 2.3321e-07 - accuracy: 1.00 - ETA: 4:33 - loss: 2.3238e-07 - accuracy: 1.00 - ETA: 4:22 - loss: 2.3126e-07 - accuracy: 1.00 - ETA: 4:12 - loss: 2.3190e-07 - accuracy: 1.00 - ETA: 4:01 - loss: 2.3351e-07 - accuracy: 1.00 - ETA: 3:51 - loss: 2.3227e-07 - accuracy: 1.00 - ETA: 3:40 - loss: 2.3291e-07 - accuracy: 1.00 - ETA: 3:30 - loss: 2.3135e-07 - accuracy: 1.00 - ETA: 3:19 - loss: 2.3083e-07 - accuracy: 1.00 - ETA: 3:09 - loss: 2.3124e-07 - accuracy: 1.00 - ETA: 2:58 - loss: 2.3015e-07 - accuracy: 1.00 - ETA: 2:48 - loss: 2.2872e-07 - accuracy: 1.00 - ETA: 2:37 - loss: 2.3745e-07 - accuracy: 1.00 - ETA: 2:27 - loss: 2.3650e-07 - accuracy: 1.00 - ETA: 2:17 - loss: 2.3587e-07 - accuracy: 1.00 - ETA: 2:06 - loss: 2.3503e-07 - accuracy: 1.00 - ETA: 1:56 - loss: 2.3589e-07 - accuracy: 1.00 - ETA: 1:45 - loss: 2.3720e-07 - accuracy: 1.00 - ETA: 1:35 - loss: 2.3608e-07 - accuracy: 1.00 - ETA: 1:25 - loss: 2.3662e-07 - accuracy: 1.00 - ETA: 1:14 - loss: 2.3537e-07 - accuracy: 1.00 - ETA: 1:04 - loss: 2.3473e-07 - accuracy: 1.00 - ETA: 54s - loss: 2.3523e-07 - accuracy: 1.0000 - ETA: 43s - loss: 2.3575e-07 - accuracy: 1.000 - ETA: 33s - loss: 2.3541e-07 - accuracy: 1.000 - ETA: 23s - loss: 2.3454e-07 - accuracy: 1.000 - ETA: 12s - loss: 2.3474e-07 - accuracy: 1.000 - ETA: 2s - loss: 2.3424e-07 - accuracy: 1.000 - 1308s 686ms/step - loss: 2.3439e-07 - accuracy: 1.0000 - val_loss: 0.0191 - val_accuracy: 0.9877\n",
      "Epoch 29/30\n"
     ]
    },
    {
     "name": "stdout",
     "output_type": "stream",
     "text": [
      "1908/1908 [==============================] - ETA: 19:04 - loss: 2.0981e-07 - accuracy: 1.000 - ETA: 19:30 - loss: 1.5072e-07 - accuracy: 1.000 - ETA: 19:25 - loss: 1.4679e-07 - accuracy: 1.000 - ETA: 19:23 - loss: 1.7651e-07 - accuracy: 1.000 - ETA: 19:11 - loss: 1.7216e-07 - accuracy: 1.000 - ETA: 19:02 - loss: 1.8602e-07 - accuracy: 1.000 - ETA: 18:51 - loss: 1.9303e-07 - accuracy: 1.000 - ETA: 18:42 - loss: 1.9763e-07 - accuracy: 1.000 - ETA: 18:30 - loss: 2.2123e-07 - accuracy: 1.000 - ETA: 18:22 - loss: 2.1420e-07 - accuracy: 1.000 - ETA: 18:12 - loss: 2.4166e-07 - accuracy: 1.000 - ETA: 18:00 - loss: 2.3971e-07 - accuracy: 1.000 - ETA: 17:49 - loss: 2.3841e-07 - accuracy: 1.000 - ETA: 17:39 - loss: 2.3002e-07 - accuracy: 1.000 - ETA: 17:26 - loss: 2.2700e-07 - accuracy: 1.000 - ETA: 17:15 - loss: 2.2266e-07 - accuracy: 1.000 - ETA: 17:04 - loss: 2.1772e-07 - accuracy: 1.000 - ETA: 16:54 - loss: 2.1586e-07 - accuracy: 1.000 - ETA: 16:43 - loss: 2.1070e-07 - accuracy: 1.000 - ETA: 16:33 - loss: 2.0591e-07 - accuracy: 1.000 - ETA: 16:22 - loss: 1.9890e-07 - accuracy: 1.000 - ETA: 16:12 - loss: 2.0163e-07 - accuracy: 1.000 - ETA: 16:02 - loss: 1.9776e-07 - accuracy: 1.000 - ETA: 15:51 - loss: 2.0211e-07 - accuracy: 1.000 - ETA: 15:42 - loss: 2.0059e-07 - accuracy: 1.000 - ETA: 15:32 - loss: 2.0147e-07 - accuracy: 1.000 - ETA: 15:21 - loss: 2.0059e-07 - accuracy: 1.000 - ETA: 15:12 - loss: 2.0050e-07 - accuracy: 1.000 - ETA: 15:02 - loss: 1.9822e-07 - accuracy: 1.000 - ETA: 14:51 - loss: 1.9663e-07 - accuracy: 1.000 - ETA: 14:41 - loss: 2.0397e-07 - accuracy: 1.000 - ETA: 14:31 - loss: 2.0084e-07 - accuracy: 1.000 - ETA: 14:20 - loss: 2.0277e-07 - accuracy: 1.000 - ETA: 14:10 - loss: 2.0233e-07 - accuracy: 1.000 - ETA: 14:00 - loss: 2.0235e-07 - accuracy: 1.000 - ETA: 13:50 - loss: 2.0064e-07 - accuracy: 1.000 - ETA: 13:40 - loss: 2.0015e-07 - accuracy: 1.000 - ETA: 13:29 - loss: 1.9899e-07 - accuracy: 1.000 - ETA: 13:19 - loss: 1.9735e-07 - accuracy: 1.000 - ETA: 13:09 - loss: 1.9928e-07 - accuracy: 1.000 - ETA: 13:00 - loss: 1.9629e-07 - accuracy: 1.000 - ETA: 12:50 - loss: 1.9401e-07 - accuracy: 1.000 - ETA: 12:40 - loss: 1.9168e-07 - accuracy: 1.000 - ETA: 12:31 - loss: 1.9510e-07 - accuracy: 1.000 - ETA: 12:20 - loss: 1.9479e-07 - accuracy: 1.000 - ETA: 12:11 - loss: 1.9511e-07 - accuracy: 1.000 - ETA: 12:01 - loss: 1.9429e-07 - accuracy: 1.000 - ETA: 11:51 - loss: 1.9435e-07 - accuracy: 1.000 - ETA: 11:41 - loss: 1.9773e-07 - accuracy: 1.000 - ETA: 11:31 - loss: 1.9760e-07 - accuracy: 1.000 - ETA: 11:21 - loss: 1.9994e-07 - accuracy: 1.000 - ETA: 11:11 - loss: 2.0284e-07 - accuracy: 1.000 - ETA: 11:01 - loss: 2.0233e-07 - accuracy: 1.000 - ETA: 10:51 - loss: 2.0894e-07 - accuracy: 1.000 - ETA: 10:41 - loss: 2.0898e-07 - accuracy: 1.000 - ETA: 10:31 - loss: 2.0799e-07 - accuracy: 1.000 - ETA: 10:21 - loss: 2.0982e-07 - accuracy: 1.000 - ETA: 10:11 - loss: 2.1275e-07 - accuracy: 1.000 - ETA: 10:01 - loss: 2.1161e-07 - accuracy: 1.000 - ETA: 9:51 - loss: 2.1080e-07 - accuracy: 1.000 - ETA: 9:41 - loss: 2.0918e-07 - accuracy: 1.00 - ETA: 9:31 - loss: 2.0892e-07 - accuracy: 1.00 - ETA: 9:21 - loss: 2.0773e-07 - accuracy: 1.00 - ETA: 9:11 - loss: 2.0712e-07 - accuracy: 1.00 - ETA: 9:01 - loss: 2.0978e-07 - accuracy: 1.00 - ETA: 8:51 - loss: 2.0960e-07 - accuracy: 1.00 - ETA: 8:41 - loss: 2.1076e-07 - accuracy: 1.00 - ETA: 8:32 - loss: 2.1026e-07 - accuracy: 1.00 - ETA: 8:22 - loss: 2.0897e-07 - accuracy: 1.00 - ETA: 8:12 - loss: 2.1385e-07 - accuracy: 1.00 - ETA: 8:01 - loss: 2.1211e-07 - accuracy: 1.00 - ETA: 7:51 - loss: 2.1037e-07 - accuracy: 1.00 - ETA: 7:41 - loss: 2.0975e-07 - accuracy: 1.00 - ETA: 7:31 - loss: 2.0987e-07 - accuracy: 1.00 - ETA: 7:21 - loss: 2.1060e-07 - accuracy: 1.00 - ETA: 7:11 - loss: 2.0871e-07 - accuracy: 1.00 - ETA: 7:01 - loss: 2.0954e-07 - accuracy: 1.00 - ETA: 6:51 - loss: 2.2037e-07 - accuracy: 1.00 - ETA: 6:41 - loss: 2.1941e-07 - accuracy: 1.00 - ETA: 6:32 - loss: 2.1853e-07 - accuracy: 1.00 - ETA: 6:22 - loss: 2.1705e-07 - accuracy: 1.00 - ETA: 6:12 - loss: 2.1845e-07 - accuracy: 1.00 - ETA: 6:02 - loss: 2.2054e-07 - accuracy: 1.00 - ETA: 5:52 - loss: 2.1936e-07 - accuracy: 1.00 - ETA: 5:42 - loss: 2.1837e-07 - accuracy: 1.00 - ETA: 5:32 - loss: 2.1856e-07 - accuracy: 1.00 - ETA: 5:22 - loss: 2.1884e-07 - accuracy: 1.00 - ETA: 5:12 - loss: 2.2293e-07 - accuracy: 1.00 - ETA: 5:02 - loss: 2.2361e-07 - accuracy: 1.00 - ETA: 4:52 - loss: 2.2279e-07 - accuracy: 1.00 - ETA: 4:42 - loss: 2.2170e-07 - accuracy: 1.00 - ETA: 4:32 - loss: 2.2029e-07 - accuracy: 1.00 - ETA: 4:22 - loss: 2.2019e-07 - accuracy: 1.00 - ETA: 4:12 - loss: 2.1926e-07 - accuracy: 1.00 - ETA: 4:02 - loss: 2.1814e-07 - accuracy: 1.00 - ETA: 3:52 - loss: 2.1728e-07 - accuracy: 1.00 - ETA: 3:41 - loss: 2.1845e-07 - accuracy: 1.00 - ETA: 3:32 - loss: 2.1698e-07 - accuracy: 1.00 - ETA: 3:21 - loss: 2.1657e-07 - accuracy: 1.00 - ETA: 3:11 - loss: 2.1640e-07 - accuracy: 1.00 - ETA: 3:02 - loss: 2.1633e-07 - accuracy: 1.00 - ETA: 2:52 - loss: 2.1544e-07 - accuracy: 1.00 - ETA: 2:42 - loss: 2.1493e-07 - accuracy: 1.00 - ETA: 2:32 - loss: 2.1469e-07 - accuracy: 1.00 - ETA: 2:22 - loss: 2.1524e-07 - accuracy: 1.00 - ETA: 2:12 - loss: 2.1425e-07 - accuracy: 1.00 - ETA: 2:02 - loss: 2.1427e-07 - accuracy: 1.00 - ETA: 1:52 - loss: 2.1458e-07 - accuracy: 1.00 - ETA: 1:42 - loss: 2.1400e-07 - accuracy: 1.00 - ETA: 1:32 - loss: 2.1296e-07 - accuracy: 1.00 - ETA: 1:22 - loss: 2.1387e-07 - accuracy: 1.00 - ETA: 1:12 - loss: 2.1323e-07 - accuracy: 1.00 - ETA: 1:02 - loss: 2.1332e-07 - accuracy: 1.00 - ETA: 52s - loss: 2.1634e-07 - accuracy: 1.0000 - ETA: 42s - loss: 2.1606e-07 - accuracy: 1.000 - ETA: 32s - loss: 2.1622e-07 - accuracy: 1.000 - ETA: 22s - loss: 2.1573e-07 - accuracy: 1.000 - ETA: 12s - loss: 2.1491e-07 - accuracy: 1.000 - ETA: 2s - loss: 2.1518e-07 - accuracy: 1.000 - 1268s 665ms/step - loss: 2.1490e-07 - accuracy: 1.0000 - val_loss: 0.0193 - val_accuracy: 0.9878\n",
      "Epoch 30/30\n"
     ]
    },
    {
     "name": "stdout",
     "output_type": "stream",
     "text": [
      "1908/1908 [==============================] - ETA: 20:13 - loss: 1.8296e-07 - accuracy: 1.000 - ETA: 19:58 - loss: 1.4436e-07 - accuracy: 1.000 - ETA: 20:00 - loss: 1.1905e-07 - accuracy: 1.000 - ETA: 19:38 - loss: 1.5478e-07 - accuracy: 1.000 - ETA: 19:25 - loss: 1.6866e-07 - accuracy: 1.000 - ETA: 19:11 - loss: 1.7170e-07 - accuracy: 1.000 - ETA: 19:00 - loss: 1.5697e-07 - accuracy: 1.000 - ETA: 18:46 - loss: 1.4688e-07 - accuracy: 1.000 - ETA: 18:33 - loss: 1.5147e-07 - accuracy: 1.000 - ETA: 18:20 - loss: 1.5397e-07 - accuracy: 1.000 - ETA: 18:09 - loss: 1.5380e-07 - accuracy: 1.000 - ETA: 17:57 - loss: 1.4911e-07 - accuracy: 1.000 - ETA: 17:47 - loss: 1.6013e-07 - accuracy: 1.000 - ETA: 17:35 - loss: 1.6737e-07 - accuracy: 1.000 - ETA: 17:25 - loss: 1.6164e-07 - accuracy: 1.000 - ETA: 17:14 - loss: 1.5721e-07 - accuracy: 1.000 - ETA: 17:05 - loss: 1.5915e-07 - accuracy: 1.000 - ETA: 16:56 - loss: 1.5735e-07 - accuracy: 1.000 - ETA: 16:48 - loss: 1.5470e-07 - accuracy: 1.000 - ETA: 16:39 - loss: 1.5460e-07 - accuracy: 1.000 - ETA: 16:28 - loss: 1.5681e-07 - accuracy: 1.000 - ETA: 16:19 - loss: 1.6214e-07 - accuracy: 1.000 - ETA: 16:08 - loss: 1.6054e-07 - accuracy: 1.000 - ETA: 15:55 - loss: 1.5854e-07 - accuracy: 1.000 - ETA: 15:45 - loss: 1.5948e-07 - accuracy: 1.000 - ETA: 15:34 - loss: 1.5616e-07 - accuracy: 1.000 - ETA: 15:23 - loss: 1.5984e-07 - accuracy: 1.000 - ETA: 15:13 - loss: 1.5924e-07 - accuracy: 1.000 - ETA: 15:02 - loss: 1.5671e-07 - accuracy: 1.000 - ETA: 14:51 - loss: 1.6034e-07 - accuracy: 1.000 - ETA: 14:39 - loss: 1.6067e-07 - accuracy: 1.000 - ETA: 14:29 - loss: 1.5807e-07 - accuracy: 1.000 - ETA: 14:20 - loss: 1.5616e-07 - accuracy: 1.000 - ETA: 14:11 - loss: 1.5656e-07 - accuracy: 1.000 - ETA: 14:02 - loss: 1.5611e-07 - accuracy: 1.000 - ETA: 13:52 - loss: 1.5699e-07 - accuracy: 1.000 - ETA: 13:42 - loss: 1.5649e-07 - accuracy: 1.000 - ETA: 13:31 - loss: 1.5804e-07 - accuracy: 1.000 - ETA: 13:22 - loss: 1.5723e-07 - accuracy: 1.000 - ETA: 13:12 - loss: 1.5741e-07 - accuracy: 1.000 - ETA: 13:02 - loss: 1.5908e-07 - accuracy: 1.000 - ETA: 12:52 - loss: 1.5879e-07 - accuracy: 1.000 - ETA: 12:41 - loss: 1.5891e-07 - accuracy: 1.000 - ETA: 12:31 - loss: 1.5717e-07 - accuracy: 1.000 - ETA: 12:21 - loss: 1.5563e-07 - accuracy: 1.000 - ETA: 12:12 - loss: 1.5686e-07 - accuracy: 1.000 - ETA: 12:02 - loss: 1.5823e-07 - accuracy: 1.000 - ETA: 11:52 - loss: 1.5915e-07 - accuracy: 1.000 - ETA: 11:42 - loss: 1.6572e-07 - accuracy: 1.000 - ETA: 11:32 - loss: 1.7210e-07 - accuracy: 1.000 - ETA: 11:22 - loss: 1.7220e-07 - accuracy: 1.000 - ETA: 11:12 - loss: 1.7119e-07 - accuracy: 1.000 - ETA: 11:02 - loss: 1.7877e-07 - accuracy: 1.000 - ETA: 10:53 - loss: 1.7860e-07 - accuracy: 1.000 - ETA: 10:44 - loss: 1.7851e-07 - accuracy: 1.000 - ETA: 10:35 - loss: 1.7793e-07 - accuracy: 1.000 - ETA: 10:25 - loss: 1.7985e-07 - accuracy: 1.000 - ETA: 10:16 - loss: 1.9437e-07 - accuracy: 1.000 - ETA: 10:07 - loss: 1.9345e-07 - accuracy: 1.000 - ETA: 9:57 - loss: 1.9325e-07 - accuracy: 1.000 - ETA: 9:47 - loss: 1.9299e-07 - accuracy: 1.00 - ETA: 9:37 - loss: 1.9198e-07 - accuracy: 1.00 - ETA: 9:27 - loss: 1.8982e-07 - accuracy: 1.00 - ETA: 9:16 - loss: 1.8960e-07 - accuracy: 1.00 - ETA: 9:07 - loss: 1.8895e-07 - accuracy: 1.00 - ETA: 8:56 - loss: 1.8846e-07 - accuracy: 1.00 - ETA: 8:46 - loss: 1.8757e-07 - accuracy: 1.00 - ETA: 8:36 - loss: 1.8816e-07 - accuracy: 1.00 - ETA: 8:26 - loss: 1.8697e-07 - accuracy: 1.00 - ETA: 8:16 - loss: 1.8874e-07 - accuracy: 1.00 - ETA: 8:06 - loss: 1.8741e-07 - accuracy: 1.00 - ETA: 7:56 - loss: 1.8818e-07 - accuracy: 1.00 - ETA: 7:45 - loss: 1.8787e-07 - accuracy: 1.00 - ETA: 7:35 - loss: 1.8706e-07 - accuracy: 1.00 - ETA: 7:25 - loss: 1.8642e-07 - accuracy: 1.00 - ETA: 7:14 - loss: 1.8588e-07 - accuracy: 1.00 - ETA: 7:04 - loss: 1.8505e-07 - accuracy: 1.00 - ETA: 6:55 - loss: 1.8884e-07 - accuracy: 1.00 - ETA: 6:45 - loss: 1.8936e-07 - accuracy: 1.00 - ETA: 6:35 - loss: 1.8930e-07 - accuracy: 1.00 - ETA: 6:25 - loss: 1.8893e-07 - accuracy: 1.00 - ETA: 6:14 - loss: 1.8785e-07 - accuracy: 1.00 - ETA: 6:04 - loss: 1.8885e-07 - accuracy: 1.00 - ETA: 5:54 - loss: 1.8856e-07 - accuracy: 1.00 - ETA: 5:44 - loss: 1.8905e-07 - accuracy: 1.00 - ETA: 5:34 - loss: 1.8904e-07 - accuracy: 1.00 - ETA: 5:24 - loss: 1.8958e-07 - accuracy: 1.00 - ETA: 5:13 - loss: 1.8975e-07 - accuracy: 1.00 - ETA: 5:03 - loss: 1.8975e-07 - accuracy: 1.00 - ETA: 4:53 - loss: 1.9112e-07 - accuracy: 1.00 - ETA: 4:43 - loss: 1.8988e-07 - accuracy: 1.00 - ETA: 4:33 - loss: 1.8919e-07 - accuracy: 1.00 - ETA: 4:23 - loss: 1.8954e-07 - accuracy: 1.00 - ETA: 4:13 - loss: 1.9056e-07 - accuracy: 1.00 - ETA: 4:03 - loss: 1.9300e-07 - accuracy: 1.00 - ETA: 3:53 - loss: 1.9340e-07 - accuracy: 1.00 - ETA: 3:43 - loss: 1.9247e-07 - accuracy: 1.00 - ETA: 3:33 - loss: 1.9258e-07 - accuracy: 1.00 - ETA: 3:23 - loss: 1.9209e-07 - accuracy: 1.00 - ETA: 3:13 - loss: 1.9206e-07 - accuracy: 1.00 - ETA: 3:03 - loss: 1.9154e-07 - accuracy: 1.00 - ETA: 2:53 - loss: 1.9079e-07 - accuracy: 1.00 - ETA: 2:43 - loss: 1.9056e-07 - accuracy: 1.00 - ETA: 2:32 - loss: 1.9103e-07 - accuracy: 1.00 - ETA: 2:22 - loss: 1.9114e-07 - accuracy: 1.00 - ETA: 2:12 - loss: 1.9147e-07 - accuracy: 1.00 - ETA: 2:02 - loss: 1.9122e-07 - accuracy: 1.00 - ETA: 1:52 - loss: 1.9177e-07 - accuracy: 1.00 - ETA: 1:42 - loss: 1.9145e-07 - accuracy: 1.00 - ETA: 1:32 - loss: 1.9190e-07 - accuracy: 1.00 - ETA: 1:22 - loss: 1.9490e-07 - accuracy: 1.00 - ETA: 1:12 - loss: 1.9446e-07 - accuracy: 1.00 - ETA: 1:02 - loss: 1.9360e-07 - accuracy: 1.00 - ETA: 52s - loss: 1.9284e-07 - accuracy: 1.0000 - ETA: 42s - loss: 1.9327e-07 - accuracy: 1.000 - ETA: 32s - loss: 1.9263e-07 - accuracy: 1.000 - ETA: 22s - loss: 1.9247e-07 - accuracy: 1.000 - ETA: 12s - loss: 1.9830e-07 - accuracy: 1.000 - ETA: 2s - loss: 1.9754e-07 - accuracy: 1.000 - 1274s 668ms/step - loss: 1.9778e-07 - accuracy: 1.0000 - val_loss: 0.0194 - val_accuracy: 0.9878\n",
      "Training completed in 41408.33544 seconds\n"
     ]
    }
   ],
   "source": [
    "t_ini = datetime.datetime.now()\n",
    "\n",
    "cp = ModelCheckpoint(filepath=\"bert_tagger.h5\",\n",
    "                     monitor='val_acc',\n",
    "                     save_best_only=True,\n",
    "                     save_weights_only=True,\n",
    "                     verbose=1)\n",
    "\n",
    "early_stopping = EarlyStopping(monitor = 'val_acc', patience = 5)\n",
    "\n",
    "history = model.fit([train_input_ids, train_input_masks, train_segment_ids], \n",
    "                    train_labels,\n",
    "                    validation_data=([test_input_ids, test_input_masks, test_segment_ids], test_labels),\n",
    "                    #validation_split=0.3,\n",
    "                    epochs=EPOCHS,\n",
    "                    batch_size=16,\n",
    "                    shuffle=True,\n",
    "                    verbose=1,\n",
    "                    callbacks=[cp, early_stopping]\n",
    "                   ) \n",
    "\n",
    "t_fin = datetime.datetime.now()\n",
    "print('Training completed in {} seconds'.format((t_fin - t_ini).total_seconds()))"
   ]
  },
  {
   "cell_type": "code",
   "execution_count": 122,
   "metadata": {},
   "outputs": [],
   "source": [
    "model.save_weights('bert_tagger2.h5')"
   ]
  },
  {
   "cell_type": "markdown",
   "metadata": {},
   "source": [
    "## Classification report"
   ]
  },
  {
   "cell_type": "code",
   "execution_count": 124,
   "metadata": {
    "nbpresent": {
     "id": "ce12f232-8d4a-4093-9977-88402c6a80f4"
    }
   },
   "outputs": [
    {
     "name": "stdout",
     "output_type": "stream",
     "text": [
      "Trainable weights: 197\n",
      "Model: \"model_3\"\n",
      "____________________________________________________________________________________________________\n",
      "Layer (type)                     Output Shape          Param #     Connected to                     \n",
      "====================================================================================================\n",
      "input_ids (InputLayer)           (None, 72)            0                                            \n",
      "____________________________________________________________________________________________________\n",
      "input_masks (InputLayer)         (None, 72)            0                                            \n",
      "____________________________________________________________________________________________________\n",
      "segment_ids (InputLayer)         (None, 72)            0                                            \n",
      "____________________________________________________________________________________________________\n",
      "bert_layer_3 (BertLayer)         (None, None, 768)     178565115   input_ids[0][0]                  \n",
      "                                                                   input_masks[0][0]                \n",
      "                                                                   segment_ids[0][0]                \n",
      "____________________________________________________________________________________________________\n",
      "dense_3 (Dense)                  (None, None, 3)       2307        bert_layer_3[0][0]               \n",
      "====================================================================================================\n",
      "Total params: 178,567,422\n",
      "Trainable params: 177,265,155\n",
      "Non-trainable params: 1,302,267\n",
      "____________________________________________________________________________________________________\n"
     ]
    }
   ],
   "source": [
    "model = build_model(MAX_SEQUENCE_LENGTH+2) \n",
    "model.load_weights('bert_tagger2.h5')"
   ]
  },
  {
   "cell_type": "code",
   "execution_count": 125,
   "metadata": {
    "nbpresent": {
     "id": "615aa234-1351-4d3e-84ff-379d1fc4f5cf"
    }
   },
   "outputs": [
    {
     "name": "stderr",
     "output_type": "stream",
     "text": [
      "W0412 10:45:04.443657 126028 module_wrapper.py:139] From c:\\users\\pnedelev\\appdata\\local\\continuum\\anaconda3\\lib\\site-packages\\keras\\backend\\tensorflow_backend.py:438: The name tf.variables_initializer is deprecated. Please use tf.compat.v1.variables_initializer instead.\n",
      "\n"
     ]
    }
   ],
   "source": [
    "y_pred = model.predict([test_input_ids, test_input_masks, test_segment_ids]).argmax(-1)\n",
    "y_true = test_labels.argmax(-1)"
   ]
  },
  {
   "cell_type": "code",
   "execution_count": 126,
   "metadata": {},
   "outputs": [
    {
     "data": {
      "text/plain": [
       "array([0, 1, 1, 1, 1, 1, 1, 1, 2, 1, 1, 1, 1, 0, 0, 0, 0, 0, 0, 0, 0, 0,\n",
       "       0, 0, 0, 0, 0, 0, 0, 0, 0, 0, 0, 0, 0, 0, 0, 0, 0, 0, 0, 0, 0, 0,\n",
       "       0, 0, 0, 0, 0, 0, 0, 0, 0, 0, 0, 0, 0, 0, 0, 0, 0, 0, 0, 0, 0, 0,\n",
       "       0, 0, 0, 0, 0, 0], dtype=int64)"
      ]
     },
     "execution_count": 126,
     "metadata": {},
     "output_type": "execute_result"
    }
   ],
   "source": [
    "y_true[0]"
   ]
  },
  {
   "cell_type": "code",
   "execution_count": 127,
   "metadata": {
    "nbpresent": {
     "id": "4d68934e-3464-4fa5-bdfe-33f1bee74efc"
    }
   },
   "outputs": [],
   "source": [
    "def y2label(zipped, mask=0):\n",
    "    out_true = []\n",
    "    out_pred = []\n",
    "    for zip_i in zipped:\n",
    "        a, b = tuple(zip_i)\n",
    "        if a != mask :\n",
    "            out_true.append(int2tag[a])\n",
    "            out_pred.append(int2tag[b])\n",
    "    return out_true, out_pred"
   ]
  },
  {
   "cell_type": "code",
   "execution_count": 128,
   "metadata": {
    "nbpresent": {
     "id": "6412a274-6f2e-4c27-9fb2-0fd0916ab42a"
    }
   },
   "outputs": [],
   "source": [
    "y_zipped = zip(y_true.flat, y_pred.flat)\n",
    "y_true, y_pred = y2label(y_zipped)"
   ]
  },
  {
   "cell_type": "code",
   "execution_count": 129,
   "metadata": {},
   "outputs": [
    {
     "data": {
      "text/plain": [
       "(6198, 6198)"
      ]
     },
     "execution_count": 129,
     "metadata": {},
     "output_type": "execute_result"
    }
   ],
   "source": [
    "len(y_true), len(y_pred)"
   ]
  },
  {
   "cell_type": "code",
   "execution_count": 130,
   "metadata": {
    "nbpresent": {
     "id": "0e51f9f4-b16f-4e14-a204-8167e2897848"
    }
   },
   "outputs": [
    {
     "name": "stdout",
     "output_type": "stream",
     "text": [
      "\n",
      "------------ Result of Bert fine-tuned model ----------\n",
      "\n",
      "              precision    recall  f1-score   support\n",
      "\n",
      "       -PAD-     0.0000    0.0000    0.0000         0\n",
      "           N     0.9921    0.9923    0.9922      5587\n",
      "           Y     0.9310    0.9280    0.9295       611\n",
      "\n",
      "    accuracy                         0.9860      6198\n",
      "   macro avg     0.6411    0.6401    0.6406      6198\n",
      "weighted avg     0.9861    0.9860    0.9860      6198\n",
      "\n"
     ]
    }
   ],
   "source": [
    "name='Bert fine-tuned model'\n",
    "print('\\n------------ Result of {} ----------\\n'.format(name))\n",
    "print(classification_report(y_true, y_pred, digits=4))"
   ]
  },
  {
   "cell_type": "code",
   "execution_count": 131,
   "metadata": {
    "nbpresent": {
     "id": "0e51f9f4-b16f-4e14-a204-8167e2897848"
    }
   },
   "outputs": [
    {
     "name": "stdout",
     "output_type": "stream",
     "text": [
      "Accuracy: 0.9860\n",
      "f1-macro score: 0.6406\n"
     ]
    }
   ],
   "source": [
    "print(\"Accuracy: {0:.4f}\".format(accuracy_score(y_true, y_pred)))\n",
    "print('f1-macro score: {0:.4f}'.format(f1_score(y_true, y_pred, average='macro')))"
   ]
  },
  {
   "cell_type": "markdown",
   "metadata": {},
   "source": [
    "## Confusion matrix"
   ]
  },
  {
   "cell_type": "code",
   "execution_count": 132,
   "metadata": {},
   "outputs": [
    {
     "data": {
      "image/png": "[encoded data removed]",
      "text/plain": [
       "<Figure size 720x432 with 2 Axes>"
      ]
     },
     "metadata": {},
     "output_type": "display_data"
    }
   ],
   "source": [
    "tags = sorted(set(y_pred+y_true))\n",
    "cnf_matrix = confusion_matrix(y_true, y_pred)\n",
    "plot_confusion_matrix(f1_score(y_true, y_pred, average='macro'), cnf_matrix, target_names=tags, title=name, normalize=False)"
   ]
  },
  {
   "cell_type": "markdown",
   "metadata": {},
   "source": [
    "## Make a prediction for a test sample:"
   ]
  },
  {
   "cell_type": "code",
   "execution_count": 133,
   "metadata": {},
   "outputs": [],
   "source": [
    "y_pred = model.predict([test_input_ids, test_input_masks, test_segment_ids], batch_size=16).argmax(-1)\n",
    "y_true = test_labels_ids\n",
    "\n",
    "def make_prediction(i=16):\n",
    "    note = ''\n",
    "    sent = []\n",
    "    print(\"{:10} {:5} : {:5}\".format(\"Word\", \"True\", \"Predicted\"))\n",
    "    print(35*'-')\n",
    "    for w, true, pred in zip(test_input_ids[i], y_true[i], y_pred[i]):\n",
    "        if tokenizer.convert_ids_to_tokens([w])[0]!='[PAD]' and \\\n",
    "            tokenizer.convert_ids_to_tokens([w])[0]!='[CLS]' and \\\n",
    "            tokenizer.convert_ids_to_tokens([w])[0]!='[SEP]':\n",
    "            if int2tag[true] != int2tag[pred]: note='<<--- Error!'\n",
    "            print(\"{:10} {:5} : {:5} {:5}\".format(tokenizer.convert_ids_to_tokens([w])[0], int2tag[true], int2tag[pred], note))\n",
    "            note=''"
   ]
  },
  {
   "cell_type": "code",
   "execution_count": 137,
   "metadata": {},
   "outputs": [
    {
     "name": "stdout",
     "output_type": "stream",
     "text": [
      "Word       True  : Predicted\n",
      "-----------------------------------\n",
      "##ки       N     : N          \n",
      "##рски     N     : N          \n",
      "##ци       N     : N          \n",
      "се         N     : N          \n",
      "##ват      Y     : Y          \n",
      "от         N     : N          \n",
      "##то       N     : N          \n",
      "място      N     : N          \n",
      "и          N     : N          \n",
      "##ят       Y     : N     <<--- Error!\n",
      "на         N     : N          \n",
      "##яг       N     : N          \n",
      ".          N     : N          \n"
     ]
    }
   ],
   "source": [
    "make_prediction(i=14)"
   ]
  },
  {
   "cell_type": "markdown",
   "metadata": {},
   "source": [
    "## Tag an unknown sentence"
   ]
  },
  {
   "cell_type": "code",
   "execution_count": 218,
   "metadata": {},
   "outputs": [],
   "source": [
    "sentences_raw = 'Статиите в Уикипедия често са цитирани както от медиите, така и в академичните среди: големите ѝ предимства са нейното свободно разпространение и списване, както и широкият ѝ обхват на теми. Редакторите са насърчавани да се придържат към политиката на „Неутрална гледна точка“, съгласно която основните възгледи по даден проблем се обобщават без опит да се изведе обективна истина. Така или иначе, славата на Уикипедия като достоверен справочник е оспорвана. Отворената ѝ природа позволява вандализъм, неточности, непридържане към приетите норми, ниско качество и пристрастия. Уикипедия – в сравнение с традиционните енциклопедии – е окачествявана като смесица от „истина, полуистина и някои лъжи“[3] и е критикувана за предпочитането на консенсуса пред личните авторитети и за предполагаемата липса на лична отговорност за съдържанието. Упреквана е също, че предоставя средство за безогледна манипулация и пропаганда, особено по спорни теми.[4]. От друга страна, към 2020 г. Уикипедия се оценявана като последното останало добро място в интернет[5], носител на културни иновации, който е несравнимо по-лесно достъпен и четен от традиционните хартиени енциклопедии. Същият автор високо оценява окуражаването на всякакви дискусии и възприемането на шеговит стил на общуване, напомнящ за ранните дни на Просвещението и първата Енциклопедия.'"
   ]
  },
  {
   "cell_type": "code",
   "execution_count": 219,
   "metadata": {},
   "outputs": [
    {
     "data": {
      "application/vnd.jupyter.widget-view+json": {
       "model_id": "fc9d04f221174975a526bbba0c3765a3",
       "version_major": 2,
       "version_minor": 0
      },
      "text/plain": [
       "HBox(children=(IntProgress(value=0, description='Converting examples to features', max=1, style=ProgressStyle(…"
      ]
     },
     "metadata": {},
     "output_type": "display_data"
    },
    {
     "name": "stdout",
     "output_type": "stream",
     "text": [
      "\n",
      "\n",
      "Word in BERT layer  | Initial word   : Predicted POS-tag\n",
      "-------------------------------------------------------------\n",
      "##ите               | Статиите       : N              \n",
      "в                   | в              : N              \n",
      "##педия             | Уикипедия      : N              \n",
      "често               | често          : N              \n",
      "са                  | са             : Y              \n",
      "##рани              | цитирани       : N              \n",
      "както               | както          : N              \n",
      "от                  | от             : N              \n",
      "##ите               | медиите        : N              \n",
      ",                   | ,              : N              \n",
      "така                | така           : N              \n",
      "и                   | и              : N              \n",
      "в                   | в              : N              \n",
      "##чните             | академичните   : N              \n",
      "среди               | среди          : N              \n",
      ":                   | :              : N              \n",
      "големите            | големите       : N              \n",
      "ѝ                   | ѝ              : N              \n",
      "##тва               | предимства     : N              \n",
      "са                  | са             : Y              \n",
      "##ното              | нейното        : N              \n",
      "##ободно            | свободно       : N              \n",
      "##ие                | разпространение: N              \n",
      "и                   | и              : N              \n",
      "##не                | списване       : N              \n",
      ",                   | ,              : N              \n",
      "както               | както          : N              \n",
      "и                   | и              : N              \n",
      "##ят                | широкият       : N              \n",
      "ѝ                   | ѝ              : N              \n",
      "##ват               | обхват         : Y              \n",
      "на                  | на             : N              \n",
      "теми                | теми           : N              \n",
      ".                   | .              : N              \n"
     ]
    },
    {
     "data": {
      "application/vnd.jupyter.widget-view+json": {
       "model_id": "2b34371f953846cbb8ddc8d281d06c7c",
       "version_major": 2,
       "version_minor": 0
      },
      "text/plain": [
       "HBox(children=(IntProgress(value=0, description='Converting examples to features', max=1, style=ProgressStyle(…"
      ]
     },
     "metadata": {},
     "output_type": "display_data"
    },
    {
     "name": "stdout",
     "output_type": "stream",
     "text": [
      "\n",
      "\n",
      "Word in BERT layer  | Initial word   : Predicted POS-tag\n",
      "-------------------------------------------------------------\n",
      "##ите               | Редакторите    : N              \n",
      "са                  | са             : Y              \n",
      "##ни                | насърчавани    : N              \n",
      "да                  | да             : N              \n",
      "се                  | се             : N              \n",
      "##т                 | придържат      : Y              \n",
      "към                 | към            : N              \n",
      "##та                | политиката     : N              \n",
      "на                  | на             : N              \n",
      "„                   | „              : N              \n",
      "##на                | Неутрална      : N              \n",
      "##една              | гледна         : N              \n",
      "точка               | точка          : N              \n",
      "[UNK]               | “              : N              \n",
      ",                   | ,              : N              \n",
      "##сно               | съгласно       : N              \n",
      "която               | която          : N              \n",
      "##те                | основните      : N              \n",
      "##и                 | възгледи       : N              \n",
      "по                  | по             : N              \n",
      "##ден               | даден          : N              \n",
      "проблем             | проблем        : N              \n",
      "се                  | се             : N              \n",
      "##т                 | обобщават      : Y              \n",
      "без                 | без            : N              \n",
      "##пит               | опит           : N              \n",
      "да                  | да             : N              \n",
      "се                  | се             : N              \n",
      "##веде              | изведе         : Y              \n",
      "##вна               | обективна      : N              \n",
      "##на                | истина         : N              \n",
      ".                   | .              : N              \n"
     ]
    },
    {
     "data": {
      "application/vnd.jupyter.widget-view+json": {
       "model_id": "437bafe8206640148a3a5d148b805e64",
       "version_major": 2,
       "version_minor": 0
      },
      "text/plain": [
       "HBox(children=(IntProgress(value=0, description='Converting examples to features', max=1, style=ProgressStyle(…"
      ]
     },
     "metadata": {},
     "output_type": "display_data"
    },
    {
     "name": "stdout",
     "output_type": "stream",
     "text": [
      "\n",
      "\n",
      "Word in BERT layer  | Initial word   : Predicted POS-tag\n",
      "-------------------------------------------------------------\n",
      "Така                | Така           : N              \n",
      "или                 | или            : N              \n",
      "иначе               | иначе          : N              \n",
      ",                   | ,              : N              \n",
      "##та                | славата        : N              \n",
      "на                  | на             : N              \n",
      "##педия             | Уикипедия      : N              \n",
      "като                | като           : N              \n",
      "##ерен              | достоверен     : N              \n",
      "справочник          | справочник     : N              \n",
      "е                   | е              : N              \n",
      "##вана              | оспорвана      : N              \n",
      ".                   | .              : N              \n"
     ]
    },
    {
     "data": {
      "application/vnd.jupyter.widget-view+json": {
       "model_id": "e04ca6c9a1e84e138e881c0e9266bfc5",
       "version_major": 2,
       "version_minor": 0
      },
      "text/plain": [
       "HBox(children=(IntProgress(value=0, description='Converting examples to features', max=1, style=ProgressStyle(…"
      ]
     },
     "metadata": {},
     "output_type": "display_data"
    },
    {
     "name": "stdout",
     "output_type": "stream",
     "text": [
      "\n",
      "\n",
      "Word in BERT layer  | Initial word   : Predicted POS-tag\n",
      "-------------------------------------------------------------\n",
      "##ената             | Отворената     : N              \n",
      "ѝ                   | ѝ              : N              \n",
      "##рода              | природа        : N              \n",
      "##ва                | позволява      : Y              \n",
      "##ъм                | вандализъм     : N              \n",
      ",                   | ,              : N              \n",
      "##сти               | неточности     : N              \n",
      ",                   | ,              : N              \n",
      "##не                | непридържане   : N              \n",
      "към                 | към            : N              \n",
      "##те                | приетите       : N              \n",
      "##и                 | норми          : N              \n",
      ",                   | ,              : N              \n",
      "##ско               | ниско          : N              \n",
      "##чество            | качество       : N              \n",
      "и                   | и              : N              \n",
      "##я                 | пристрастия    : N              \n",
      ".                   | .              : N              \n"
     ]
    },
    {
     "data": {
      "application/vnd.jupyter.widget-view+json": {
       "model_id": "c060a673da32488fb1e6d22f1016496a",
       "version_major": 2,
       "version_minor": 0
      },
      "text/plain": [
       "HBox(children=(IntProgress(value=0, description='Converting examples to features', max=1, style=ProgressStyle(…"
      ]
     },
     "metadata": {},
     "output_type": "display_data"
    },
    {
     "name": "stdout",
     "output_type": "stream",
     "text": [
      "\n",
      "\n",
      "Word in BERT layer  | Initial word   : Predicted POS-tag\n",
      "-------------------------------------------------------------\n",
      "##педия             | Уикипедия      : N              \n",
      "[UNK]               | –              : N              \n",
      "в                   | в              : N              \n",
      "##нение             | сравнение      : N              \n",
      "с                   | с              : N              \n",
      "##те                | традиционните  : N              \n",
      "##дии               | енциклопедии   : N              \n",
      "[UNK]               | –              : N              \n",
      "е                   | е              : N              \n",
      "##вана              | окачествявана  : N              \n",
      "като                | като           : N              \n",
      "##ца                | смесица        : N              \n",
      "от                  | от             : N              \n",
      "„                   | „              : N              \n",
      "##на                | истина         : N              \n",
      ",                   | ,              : N              \n",
      "##на                | полуистина     : N              \n",
      "и                   | и              : N              \n",
      "някои               | някои          : N              \n",
      "##жи                | лъжи           : N              \n",
      "[UNK]               | “              : N              \n",
      "[                   | [              : N              \n",
      "3                   | 3              : N              \n",
      "]                   | ]              : N              \n",
      "и                   | и              : N              \n",
      "е                   | е              : N              \n",
      "##на                | критикувана    : N              \n",
      "за                  | за             : N              \n",
      "##нето              | предпочитането : N              \n",
      "на                  | на             : N              \n",
      "##уса               | консенсуса     : N              \n",
      "пред                | пред           : N              \n",
      "##чните             | личните        : N              \n",
      "##и                 | авторитети     : N              \n",
      "и                   | и              : N              \n",
      "за                  | за             : N              \n",
      "##та                | предполагаемата: N              \n",
      "##са                | липса          : N              \n",
      "на                  | на             : N              \n",
      "##чна               | лична          : N              \n",
      "##ност              | отговорност    : N              \n",
      "за                  | за             : N              \n",
      "##нието             | съдържанието   : N              \n",
      ".                   | .              : N              \n"
     ]
    },
    {
     "data": {
      "application/vnd.jupyter.widget-view+json": {
       "model_id": "fbb02306e6ad4707b44cf3091785e4f4",
       "version_major": 2,
       "version_minor": 0
      },
      "text/plain": [
       "HBox(children=(IntProgress(value=0, description='Converting examples to features', max=1, style=ProgressStyle(…"
      ]
     },
     "metadata": {},
     "output_type": "display_data"
    },
    {
     "name": "stdout",
     "output_type": "stream",
     "text": [
      "\n",
      "\n",
      "Word in BERT layer  | Initial word   : Predicted POS-tag\n",
      "-------------------------------------------------------------\n",
      "##вана              | Упреквана      : N              \n",
      "е                   | е              : N              \n",
      "също                | също           : N              \n",
      ",                   | ,              : N              \n",
      "че                  | че             : N              \n",
      "##я                 | предоставя     : Y              \n",
      "средство            | средство       : N              \n",
      "за                  | за             : N              \n",
      "##дна               | безогледна     : N              \n",
      "##ия                | манипулация    : N              \n",
      "и                   | и              : N              \n",
      "##ганда             | пропаганда     : N              \n",
      ",                   | ,              : N              \n",
      "особено             | особено        : N              \n",
      "по                  | по             : N              \n",
      "##ни                | спорни         : N              \n",
      "теми                | теми           : N              \n",
      ".                   | .              : N              \n",
      "[                   | [              : N              \n",
      "4                   | 4              : N              \n",
      "]                   | ]              : N              \n",
      ".                   | .              : N              \n"
     ]
    },
    {
     "data": {
      "application/vnd.jupyter.widget-view+json": {
       "model_id": "67bf57400de14edc9dc4845037bb962a",
       "version_major": 2,
       "version_minor": 0
      },
      "text/plain": [
       "HBox(children=(IntProgress(value=0, description='Converting examples to features', max=1, style=ProgressStyle(…"
      ]
     },
     "metadata": {},
     "output_type": "display_data"
    },
    {
     "name": "stdout",
     "output_type": "stream",
     "text": [
      "\n",
      "\n",
      "Word in BERT layer  | Initial word   : Predicted POS-tag\n",
      "-------------------------------------------------------------\n",
      "От                  | От             : N              \n",
      "друга               | друга          : N              \n",
      "страна              | страна         : N              \n",
      ",                   | ,              : N              \n",
      "към                 | към            : N              \n",
      "2020                | 2020           : N              \n",
      ".                   | г.             : N              \n",
      "##педия             | Уикипедия      : N              \n",
      "се                  | се             : N              \n",
      "##на                | оценявана      : Y              \n",
      "като                | като           : N              \n",
      "##то                | последното     : N              \n",
      "##ло                | останало       : N              \n",
      "добро               | добро          : N              \n",
      "място               | място          : N              \n",
      "в                   | в              : N              \n",
      "интернет            | интернет       : N              \n",
      "[                   | [              : N              \n",
      "5                   | 5              : N              \n",
      "]                   | ]              : N              \n",
      ",                   | ,              : N              \n",
      "##ел                | носител        : N              \n",
      "на                  | на             : N              \n",
      "##турни             | културни       : N              \n",
      "##ции               | иновации       : N              \n",
      ",                   | ,              : N              \n",
      "който               | който          : N              \n",
      "е                   | е              : N              \n",
      "##о                 | несравнимо     : N              \n",
      "##сно               | по-лесно       : N              \n",
      "##пен               | достъпен       : N              \n",
      "и                   | и              : N              \n",
      "##тен               | четен          : N              \n",
      "от                  | от             : N              \n",
      "##те                | традиционните  : N              \n",
      "##ни                | хартиени       : N              \n",
      "##дии               | енциклопедии   : N              \n",
      ".                   | .              : N              \n"
     ]
    },
    {
     "data": {
      "application/vnd.jupyter.widget-view+json": {
       "model_id": "f8e1fe047d5f4e828271ff340c5f5874",
       "version_major": 2,
       "version_minor": 0
      },
      "text/plain": [
       "HBox(children=(IntProgress(value=0, description='Converting examples to features', max=1, style=ProgressStyle(…"
      ]
     },
     "metadata": {},
     "output_type": "display_data"
    },
    {
     "name": "stdout",
     "output_type": "stream",
     "text": [
      "\n",
      "\n",
      "Word in BERT layer  | Initial word   : Predicted POS-tag\n",
      "-------------------------------------------------------------\n",
      "##т                 | Същият         : N              \n",
      "автор               | автор          : N              \n",
      "високо              | високо         : N              \n",
      "##ява               | оценява        : Y              \n",
      "##нето              | окуражаването  : N              \n",
      "на                  | на             : N              \n",
      "##кви               | всякакви       : N              \n",
      "##ии                | дискусии       : N              \n",
      "и                   | и              : N              \n",
      "##то                | възприемането  : N              \n",
      "на                  | на             : N              \n",
      "##т                 | шеговит        : N              \n",
      "стил                | стил           : N              \n",
      "на                  | на             : N              \n",
      "##ване              | общуване       : N              \n",
      ",                   | ,              : N              \n",
      "##щ                 | напомнящ       : N              \n",
      "за                  | за             : N              \n",
      "##ните              | ранните        : N              \n",
      "дни                 | дни            : N              \n",
      "на                  | на             : N              \n",
      "##то                | Просвещението  : N              \n",
      "и                   | и              : N              \n",
      "първата             | първата        : N              \n",
      "##педия             | Енциклопедия   : N              \n",
      ".                   | .              : N              \n"
     ]
    }
   ],
   "source": [
    "# sentences = [word_tokenize(s) for s in sent_tokenize(raw_file)]\n",
    "for sentence_raw in sent_tokenize(sentences_raw):\n",
    "    \n",
    "\n",
    "    sentence_ini = nltk.word_tokenize(sentence_raw)\n",
    "\n",
    "    sentence_bert = tokenizer.tokenize(sentence_raw)\n",
    "\n",
    "    tokens_a = sentence_ini\n",
    "\n",
    "    orig_to_tok_map = []              \n",
    "    tokens = []\n",
    "    segment_ids = []\n",
    "    tokens.append(\"[CLS]\")\n",
    "    segment_ids.append(0)\n",
    "    orig_to_tok_map.append(len(tokens)-1)\n",
    "    for token in tokens_a:\n",
    "        #orig_to_tok_map.append(len(tokens)) # keep first piece of tokenized term\n",
    "        tokens.extend(tokenizer.tokenize(token))\n",
    "        orig_to_tok_map.append(len(tokens)-1) # # keep last piece of tokenized term -->> gives better results!\n",
    "        segment_ids.append(0)\n",
    "    tokens.append(\"[SEP]\")\n",
    "    segment_ids.append(0)\n",
    "    orig_to_tok_map.append(len(tokens)-1)\n",
    "    input_ids = tokenizer.convert_tokens_to_ids([tokens[i] for i in orig_to_tok_map])\n",
    "\n",
    "    # print('Original tokens:',tokens_a)\n",
    "\n",
    "    # print('BERT tokens:',tokens)\n",
    "\n",
    "    # orig_to_tok_map\n",
    "\n",
    "    [tokens[i] for i in orig_to_tok_map]\n",
    "\n",
    "    # Convert data to InputExample format\n",
    "    test_example = convert_text_to_examples([sentence_ini], [['-PAD-']*len(sentence_ini)])\n",
    "\n",
    "    # Convert to features\n",
    "    (input_ids, input_masks, segment_ids, _\n",
    "    ) = convert_examples_to_features(tokenizer, test_example, max_seq_length=MAX_SEQUENCE_LENGTH+2)\n",
    "\n",
    "    predictions = model.predict([input_ids, input_masks, segment_ids], batch_size=1).argmax(-1)[0]\n",
    "    print(\"\\n{:20}| {:15}: {:15}\".format(\"Word in BERT layer\", 'Initial word', \"Predicted POS-tag\"))\n",
    "    print(61*'-')\n",
    "    k = 0\n",
    "    for i, pred in enumerate(predictions):\n",
    "        try:\n",
    "            if pred!=0:\n",
    "                print(\"{:20}| {:15}: {:15}\".format([tokens[i] for i in orig_to_tok_map][i], sentence_ini[i-1], int2tag[pred]))            \n",
    "                k+=1            \n",
    "        except:\n",
    "            pass"
   ]
  },
  {
   "cell_type": "markdown",
   "metadata": {},
   "source": [
    "## Frequent types of mistakes"
   ]
  },
  {
   "cell_type": "code",
   "execution_count": 126,
   "metadata": {},
   "outputs": [],
   "source": [
    "def find_errors(X,y):\n",
    "    error_counter = collections.Counter()\n",
    "    support = 0\n",
    "    for i in range(test_input_ids.shape[0]):\n",
    "        for w, true, pred in zip(test_input_ids[i], y_true[i], y_pred[i]):\n",
    "            if int2tag[true]!='-PAD-':\n",
    "                if true != pred:\n",
    "                    word = tokenizer.convert_ids_to_tokens([w])[0]\n",
    "                    error_counter[word] += 1\n",
    "                support += 1\n",
    "    return error_counter, support"
   ]
  },
  {
   "cell_type": "code",
   "execution_count": 127,
   "metadata": {},
   "outputs": [],
   "source": [
    "errors, support = find_errors([test_input_ids],y_true)"
   ]
  },
  {
   "cell_type": "code",
   "execution_count": 128,
   "metadata": {},
   "outputs": [
    {
     "name": "stdout",
     "output_type": "stream",
     "text": [
      "Total errors/Total words: 93/3408 | Accuracy: 0.9727\n",
      "\n",
      "Most common errors: [('as', 8), ('appointed', 5), ('to', 4), ('part', 3), ('justice', 3), ('general', 3), ('than', 2), ('contracting', 2), ('base', 2), ('around', 2), ('##s', 1), ('##r', 1), ('is', 1), ('that', 1), ('time', 1), ('set', 1), ('interested', 1), ('traveling', 1), ('japanese', 1), ('by', 1)]\n"
     ]
    }
   ],
   "source": [
    "print('Total errors/Total words: {}/{} | Accuracy: {:.4}\\n'.format(sum(errors.values()), support, 1-sum(errors.values())/support))\n",
    "print('Most common errors:', errors.most_common(20))"
   ]
  },
  {
   "cell_type": "markdown",
   "metadata": {},
   "source": [
    "## Learning curves"
   ]
  },
  {
   "cell_type": "code",
   "execution_count": 104,
   "metadata": {},
   "outputs": [
    {
     "data": {
      "image/png": "[encoded data removed]",
      "text/plain": [
       "<Figure size 432x288 with 1 Axes>"
      ]
     },
     "metadata": {},
     "output_type": "display_data"
    }
   ],
   "source": [
    "plot_acc()"
   ]
  },
  {
   "cell_type": "code",
   "execution_count": 105,
   "metadata": {},
   "outputs": [
    {
     "data": {
      "image/png": "[encoded data removed]",
      "text/plain": [
       "<Figure size 432x288 with 1 Axes>"
      ]
     },
     "metadata": {},
     "output_type": "display_data"
    }
   ],
   "source": [
    "plot_loss()"
   ]
  }
 ],
 "metadata": {
  "kernelspec": {
   "display_name": "Python 3",
   "language": "python",
   "name": "python3"
  },
  "language_info": {
   "codemirror_mode": {
    "name": "ipython",
    "version": 3
   },
   "file_extension": ".py",
   "mimetype": "text/x-python",
   "name": "python",
   "nbconvert_exporter": "python",
   "pygments_lexer": "ipython3",
   "version": "3.7.3"
  }
 },
 "nbformat": 4,
 "nbformat_minor": 2
}
