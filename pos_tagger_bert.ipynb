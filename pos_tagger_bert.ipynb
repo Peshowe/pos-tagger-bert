{
 "cells": [
  {
   "cell_type": "markdown",
   "metadata": {
    "nbpresent": {
     "id": "2b1b350c-5a3c-434c-bcb2-0672625d154d"
    }
   },
   "source": [
    "# NATURAL LANGUAGE PROCESSING WITH TRANSFORMERS\n",
    "# Α Pos Tagger trained on UD treebank with fine-tuning a BERT model"
   ]
  },
  {
   "cell_type": "markdown",
   "metadata": {},
   "source": [
    "# Keras BERT implementation"
   ]
  },
  {
   "cell_type": "code",
   "execution_count": 1,
   "metadata": {
    "nbpresent": {
     "id": "f61bc4e3-579a-44c9-a7c6-4dc1f9fbf7cb"
    }
   },
   "outputs": [
    {
     "name": "stdout",
     "output_type": "stream",
     "text": [
      "Collecting pyconll\n",
      "  Downloading https://files.pythonhosted.org/packages/2c/6e/c325d0db05ac1b8d45645de903e4ba691d419e861c915c3d4ebfcaf8ac25/pyconll-2.2.1-py3-none-any.whl\n",
      "Requirement already satisfied: requests>=2.21 in c:\\users\\pnedelev\\appdata\\local\\continuum\\anaconda3\\lib\\site-packages (from pyconll) (2.21.0)\n",
      "Requirement already satisfied: idna<2.9,>=2.5 in c:\\users\\pnedelev\\appdata\\local\\continuum\\anaconda3\\lib\\site-packages (from requests>=2.21->pyconll) (2.8)\n",
      "Requirement already satisfied: certifi>=2017.4.17 in c:\\users\\pnedelev\\appdata\\local\\continuum\\anaconda3\\lib\\site-packages (from requests>=2.21->pyconll) (2019.9.11)\n",
      "Requirement already satisfied: urllib3<1.25,>=1.21.1 in c:\\users\\pnedelev\\appdata\\local\\continuum\\anaconda3\\lib\\site-packages (from requests>=2.21->pyconll) (1.24.1)\n",
      "Requirement already satisfied: chardet<3.1.0,>=3.0.2 in c:\\users\\pnedelev\\appdata\\local\\continuum\\anaconda3\\lib\\site-packages (from requests>=2.21->pyconll) (3.0.4)\n",
      "Installing collected packages: pyconll\n",
      "Successfully installed pyconll-2.2.1\n"
     ]
    },
    {
     "name": "stderr",
     "output_type": "stream",
     "text": [
      "WARNING: You are using pip version 19.3.1; however, version 20.0.2 is available.\n",
      "You should consider upgrading via the 'python -m pip install --upgrade pip' command.\n"
     ]
    },
    {
     "name": "stdout",
     "output_type": "stream",
     "text": [
      "Requirement already satisfied: pydot in c:\\users\\pnedelev\\appdata\\local\\continuum\\anaconda3\\lib\\site-packages (1.4.1)\n",
      "Requirement already satisfied: pyparsing>=2.1.4 in c:\\users\\pnedelev\\appdata\\local\\continuum\\anaconda3\\lib\\site-packages (from pydot) (2.3.1)\n"
     ]
    },
    {
     "name": "stderr",
     "output_type": "stream",
     "text": [
      "WARNING: You are using pip version 19.3.1; however, version 20.0.2 is available.\n",
      "You should consider upgrading via the 'python -m pip install --upgrade pip' command.\n",
      "ERROR: Could not find a version that satisfies the requirement graphiz (from versions: none)\n",
      "ERROR: No matching distribution found for graphiz\n",
      "WARNING: You are using pip version 19.3.1; however, version 20.0.2 is available.\n",
      "You should consider upgrading via the 'python -m pip install --upgrade pip' command.\n"
     ]
    },
    {
     "name": "stdout",
     "output_type": "stream",
     "text": [
      "Requirement already satisfied: bert-tensorflow in c:\\users\\pnedelev\\appdata\\local\\continuum\\anaconda3\\lib\\site-packages (1.0.1)\n",
      "Requirement already satisfied: six in c:\\users\\pnedelev\\appdata\\local\\continuum\\anaconda3\\lib\\site-packages (from bert-tensorflow) (1.12.0)\n"
     ]
    },
    {
     "name": "stderr",
     "output_type": "stream",
     "text": [
      "WARNING: You are using pip version 19.3.1; however, version 20.0.2 is available.\n",
      "You should consider upgrading via the 'python -m pip install --upgrade pip' command.\n"
     ]
    }
   ],
   "source": [
    "# First install some extra packages\n",
    "! pip install pyconll\n",
    "! pip install pydot\n",
    "! pip install graphiz\n",
    "! pip install bert-tensorflow"
   ]
  },
  {
   "cell_type": "code",
   "execution_count": 1,
   "metadata": {
    "nbpresent": {
     "id": "f4a0e2d1-af80-44ba-a384-fab4d5d6c703"
    }
   },
   "outputs": [
    {
     "name": "stderr",
     "output_type": "stream",
     "text": [
      "Using TensorFlow backend.\n",
      "c:\\users\\pnedelev\\appdata\\local\\continuum\\anaconda3\\lib\\site-packages\\sklearn\\utils\\deprecation.py:144: FutureWarning: The sklearn.metrics.classification module is  deprecated in version 0.22 and will be removed in version 0.24. The corresponding classes / functions should instead be imported from sklearn.metrics. Anything that cannot be imported from sklearn.metrics is now part of the private API.\n",
      "  warnings.warn(message, FutureWarning)\n"
     ]
    }
   ],
   "source": [
    "from numpy.random import seed\n",
    "seed(1)\n",
    "from tensorflow import set_random_seed\n",
    "set_random_seed(2)\n",
    "import pyconll, keras, pickle, os, random, nltk, datetime, warnings, gc, urllib.request, zipfile, collections\n",
    "import numpy as np\n",
    "import matplotlib.pyplot as plt\n",
    "from sklearn.utils import shuffle\n",
    "from sklearn.metrics import recall_score, precision_score, classification_report, accuracy_score, confusion_matrix, f1_score\n",
    "from sklearn.metrics.classification import UndefinedMetricWarning\n",
    "\n",
    "from keras.models import Sequential, Model\n",
    "from keras.layers import Embedding, Dense, Input, concatenate, Layer, Lambda, Dropout, Activation\n",
    "from keras.callbacks import ModelCheckpoint, EarlyStopping, Callback, TensorBoard\n",
    "from keras import backend as K\n",
    "from keras.models import load_model\n",
    "from keras.utils import plot_model\n",
    "from keras.utils.np_utils import to_categorical\n",
    "\n",
    "import tensorflow as tf\n",
    "import tensorflow_hub as hub\n",
    "from bert.tokenization import FullTokenizer\n",
    "\n",
    "from tqdm import tqdm_notebook\n",
    "from IPython.display import Image \n",
    "warnings.filterwarnings(action='ignore', category=UndefinedMetricWarning)"
   ]
  },
  {
   "cell_type": "markdown",
   "metadata": {
    "nbpresent": {
     "id": "0f518892-45cc-4978-97e8-02c1fce60407"
    }
   },
   "source": [
    "# Various plot functions"
   ]
  },
  {
   "cell_type": "code",
   "execution_count": 2,
   "metadata": {
    "nbpresent": {
     "id": "ffc21443-9fd6-4cd3-86e1-a1a518cb6aca"
    }
   },
   "outputs": [],
   "source": [
    "def plot_learning_curve(estimator, title, X, y, ylim=None, cv=None,\n",
    "                        n_jobs=None, train_sizes=np.linspace(.1, 1.0, 5)):\n",
    "    plt.title(title)\n",
    "    if ylim is not None:\n",
    "        plt.ylim(*ylim)\n",
    "    plt.xlabel(\"Training examples\")\n",
    "    plt.ylabel(\"Accuracy\")\n",
    "    train_sizes, train_scores, test_scores = learning_curve(\n",
    "        estimator, X, y, cv=cv, n_jobs=n_jobs, train_sizes=train_sizes, scoring='accuracy')\n",
    "    train_scores_mean = np.mean(train_scores, axis=1)\n",
    "    train_scores_std = np.std(train_scores, axis=1)\n",
    "    test_scores_mean = np.mean(test_scores, axis=1)\n",
    "    test_scores_std = np.std(test_scores, axis=1)\n",
    "    plt.grid()\n",
    "\n",
    "    plt.fill_between(train_sizes, train_scores_mean - train_scores_std,\n",
    "                     train_scores_mean + train_scores_std, alpha=0.1,\n",
    "                     color=\"r\")\n",
    "    plt.fill_between(train_sizes, test_scores_mean - test_scores_std,\n",
    "                     test_scores_mean + test_scores_std, alpha=0.1, color=\"g\")\n",
    "    plt.plot(train_sizes, train_scores_mean, 'o-', color=\"r\",\n",
    "             label=\"Training score\")\n",
    "    plt.plot(train_sizes, test_scores_mean, 'o-', color=\"g\",\n",
    "             label=\"Cross-validation score\")\n",
    "\n",
    "    plt.legend(loc=\"best\")\n",
    "    return plt"
   ]
  },
  {
   "cell_type": "code",
   "execution_count": 3,
   "metadata": {
    "nbpresent": {
     "id": "aa581c97-05ee-4e34-9f9d-884ce9ba4b66"
    }
   },
   "outputs": [],
   "source": [
    "def plot_confusion_matrix(f1,\n",
    "                          cm,\n",
    "                          target_names,\n",
    "                          title='Confusion matrix',\n",
    "                          cmap=None,\n",
    "                          normalize=True,\n",
    "                          i=1):\n",
    "    \"\"\"\n",
    "    given a sklearn confusion matrix (cm), make a nice plot\n",
    "\n",
    "    Arguments\n",
    "    ---------\n",
    "    cm:           confusion matrix from sklearn.metrics.confusion_matrix\n",
    "\n",
    "    target_names: given classification classes such as [0, 1, 2]\n",
    "                  the class names, for example: ['high', 'medium', 'low']\n",
    "\n",
    "    title:        the text to display at the top of the matrix\n",
    "\n",
    "    cmap:         the gradient of the values displayed from matplotlib.pyplot.cm\n",
    "                  see http://matplotlib.org/examples/color/colormaps_reference.html\n",
    "                  plt.get_cmap('jet') or plt.cm.Blues\n",
    "\n",
    "    normalize:    If False, plot the raw numbers\n",
    "                  If True, plot the proportions\n",
    "\n",
    "    Usage\n",
    "    -----\n",
    "    plot_confusion_matrix(cm           = cm,                  # confusion matrix created by\n",
    "                                                              # sklearn.metrics.confusion_matrix\n",
    "                          normalize    = True,                # show proportions\n",
    "                          target_names = y_labels_vals,       # list of names of the classes\n",
    "                          title        = best_estimator_name) # title of graph\n",
    "\n",
    "    Citiation\n",
    "    ---------\n",
    "    http://scikit-learn.org/stable/auto_examples/model_selection/plot_confusion_matrix.html\n",
    "\n",
    "    \"\"\"\n",
    "    import matplotlib.pyplot as plt\n",
    "    import numpy as np\n",
    "    import itertools\n",
    "\n",
    "    accuracy = np.trace(cm) / float(np.sum(cm))\n",
    "    misclass = 1 - accuracy\n",
    "    plt.figure(figsize=(10, 6))\n",
    "    if cmap is None:\n",
    "        cmap = plt.get_cmap('Blues')\n",
    "\n",
    "    plt.imshow(cm, interpolation='nearest', cmap=cmap)\n",
    "    plt.title(title)\n",
    "    plt.colorbar()\n",
    "\n",
    "    if target_names is not None:\n",
    "        tick_marks = np.arange(len(target_names))\n",
    "        plt.xticks(tick_marks, target_names, rotation=45)\n",
    "        plt.yticks(tick_marks, target_names)\n",
    "\n",
    "    if normalize:\n",
    "        cm = cm.astype('float') / cm.sum(axis=1)[:, np.newaxis]\n",
    "\n",
    "\n",
    "    thresh = cm.max() / 1.5 if normalize else cm.max() / 2\n",
    "    for i, j in itertools.product(range(cm.shape[0]), range(cm.shape[1])):\n",
    "        if normalize:\n",
    "            plt.text(j, i, \"{:0.4f}\".format(cm[i, j]),\n",
    "                     horizontalalignment=\"center\",\n",
    "                     color=\"white\" if cm[i, j] > thresh else \"black\")\n",
    "        else:\n",
    "            plt.text(j, i, \"{:,}\".format(cm[i, j]),\n",
    "                     horizontalalignment=\"center\",\n",
    "                     color=\"white\" if cm[i, j] > thresh else \"black\")\n",
    "\n",
    "\n",
    "    plt.tight_layout()\n",
    "    plt.ylabel('True label')\n",
    "    plt.xlabel('Predicted label\\naccuracy={:0.4f}; misclass={:0.4f}; f1-score={:0.4f}'.format(accuracy, misclass, f1))"
   ]
  },
  {
   "cell_type": "code",
   "execution_count": 4,
   "metadata": {
    "nbpresent": {
     "id": "7626f765-a0ca-4230-b9b4-5aea4c185273"
    }
   },
   "outputs": [],
   "source": [
    "def plot_acc():\n",
    "    plt.plot(history.history['acc'])\n",
    "    plt.plot(history.history['val_acc'])\n",
    "    plt.title('model accuracy')\n",
    "    plt.ylabel('accuracy')\n",
    "    plt.xlabel('epoch')\n",
    "    plt.legend(['train', 'test'], loc='upper left')\n",
    "    plt.show()"
   ]
  },
  {
   "cell_type": "code",
   "execution_count": 5,
   "metadata": {
    "nbpresent": {
     "id": "4afdbba0-cb73-4bdc-97f7-3cbdd2d19079"
    },
    "scrolled": false
   },
   "outputs": [],
   "source": [
    "def plot_loss():\n",
    "    plt.plot(history.history['loss'])\n",
    "    plt.plot(history.history['val_loss'])\n",
    "    plt.title('model loss')\n",
    "    plt.ylabel('loss')\n",
    "    plt.xlabel('epoch')\n",
    "    plt.legend(['train', 'test'], loc='upper left')\n",
    "    plt.show()"
   ]
  },
  {
   "cell_type": "markdown",
   "metadata": {
    "nbpresent": {
     "id": "1585e7f9-881f-46fe-a1e8-ca970e292167"
    }
   },
   "source": [
    "# Load Dataset"
   ]
  },
  {
   "cell_type": "code",
   "execution_count": 21,
   "metadata": {
    "nbpresent": {
     "id": "75d32121-1074-4cd6-8355-599afeff56db"
    }
   },
   "outputs": [],
   "source": [
    "# UD_ENGLISH_TRAIN = 'en_partut-ud-train.conllu'\n",
    "# UD_ENGLISH_DEV = 'en_partut-ud-dev.conllu'\n",
    "# UD_ENGLISH_TEST = 'en_partut-ud-test.conllu'"
   ]
  },
  {
   "cell_type": "code",
   "execution_count": 8,
   "metadata": {
    "nbpresent": {
     "id": "2eb0b136-1052-4d48-8a66-48b5ebc96ff8"
    }
   },
   "outputs": [],
   "source": [
    "# def download_files():\n",
    "#     print('Downloading English treebank...')\n",
    "#     urllib.request.urlretrieve('http://archive.aueb.gr:8085/files/en_partut-ud-dev.conllu', 'en_partut-ud-dev.conllu')\n",
    "# #     urllib.request.urlretrieve('http://archive.aueb.gr:8085/files/en_partut-ud-test.conllu', 'en_partut-ud-test.conllu')\n",
    "# #     urllib.request.urlretrieve('http://archive.aueb.gr:8085/files/en_partut-ud-train.conllu', 'en_partut-ud-train.conllu')\n",
    "#     print('Treebank downloaded.')"
   ]
  },
  {
   "cell_type": "code",
   "execution_count": 9,
   "metadata": {
    "nbpresent": {
     "id": "4e617ca6-4cce-42a0-9396-28b9d704df73"
    }
   },
   "outputs": [
    {
     "name": "stdout",
     "output_type": "stream",
     "text": [
      "Downloading English treebank...\n",
      "Treebank downloaded.\n"
     ]
    }
   ],
   "source": [
    "# download_files()"
   ]
  },
  {
   "cell_type": "markdown",
   "metadata": {
    "nbpresent": {
     "id": "43c9097b-37be-4f3d-b3d3-4a54a94c1174"
    }
   },
   "source": [
    "# Preprocessing"
   ]
  },
  {
   "cell_type": "code",
   "execution_count": 6,
   "metadata": {
    "nbpresent": {
     "id": "016836bb-abb2-4235-ab21-df90a6e1e44e"
    }
   },
   "outputs": [],
   "source": [
    "# def read_conllu(path):\n",
    "#     data = pyconll.load_from_file(path)\n",
    "#     tagged_sentences=[]\n",
    "#     t=0\n",
    "#     for sentence in data:\n",
    "#         tagged_sentence=[]\n",
    "#         for token in sentence:\n",
    "#             if token.upos and token.form:\n",
    "#                 t+=1\n",
    "#                 tagged_sentence.append((token.form.lower(), token.upos))\n",
    "#         tagged_sentences.append(tagged_sentence)\n",
    "#     return tagged_sentences"
   ]
  },
  {
   "cell_type": "markdown",
   "metadata": {
    "nbpresent": {
     "id": "11bff856-f685-49ef-a4e6-b5f2a768a9ad"
    }
   },
   "source": [
    "Load train, development and test set in the appropriate tagged format, tuple (word, pos-tag)"
   ]
  },
  {
   "cell_type": "code",
   "execution_count": 22,
   "metadata": {
    "nbpresent": {
     "id": "fc49598b-75d3-45e9-9fa3-a7b604234760"
    }
   },
   "outputs": [],
   "source": [
    "# train_sentences = read_conllu(UD_ENGLISH_TRAIN)\n",
    "# val_sentences = read_conllu(UD_ENGLISH_DEV)\n",
    "# test_sentences = read_conllu(UD_ENGLISH_TEST)"
   ]
  },
  {
   "cell_type": "code",
   "execution_count": 123,
   "metadata": {},
   "outputs": [],
   "source": [
    "import re\n",
    "import pandas as pd\n",
    "from nltk.tokenize import sent_tokenize\n",
    "from nltk.tokenize import word_tokenize\n",
    "import random, math, os\n",
    "import numpy as np\n",
    "import pickle"
   ]
  },
  {
   "cell_type": "code",
   "execution_count": 7,
   "metadata": {},
   "outputs": [],
   "source": [
    "verbs = pd.read_csv('../word_lists/verbs_no_homonyms.txt', sep='\\n', header=None)\n",
    "verbs_homo = pd.read_csv('../word_lists/verbs_only_homonyms.txt', sep='\\n', header=None)"
   ]
  },
  {
   "cell_type": "code",
   "execution_count": 8,
   "metadata": {},
   "outputs": [],
   "source": [
    "verbs_homo = verbs_homo[~verbs_homo[0].isin(['е','ще','си'])]\n",
    "\n",
    "verbs = verbs[0].values\n",
    "verbs_homo = verbs_homo[0].values\n",
    "verbs_homo = np.append(verbs_homo, 'вие')\n",
    "\n",
    "# raw_files = []\n",
    "raw_file = ''\n",
    "data_dir = '../train_data'\n",
    "\n",
    "for file in os.listdir(data_dir):\n",
    "#     raw_files.append(open(\"{0}/{1}\".format(data_dir,file), \"r\", encoding='utf-8').read())\n",
    "    raw_file +=open(\"{0}/{1}\".format(data_dir,file), \"r\", encoding='utf-8').read()"
   ]
  },
  {
   "cell_type": "code",
   "execution_count": 9,
   "metadata": {},
   "outputs": [],
   "source": [
    "sentences_orig = [word_tokenize(s) for s in sent_tokenize(raw_file)]"
   ]
  },
  {
   "cell_type": "code",
   "execution_count": 10,
   "metadata": {},
   "outputs": [],
   "source": [
    "#no homographs between verbs and non-verbs\n",
    "sentences = [s for s in sentences_orig if not np.any([w.lower() in verbs_homo for w in s])]"
   ]
  },
  {
   "cell_type": "code",
   "execution_count": 11,
   "metadata": {},
   "outputs": [],
   "source": [
    "tagged = [[(w,'Y') if w.lower() in verbs else (w,'N') for w in s] for s in sentences]"
   ]
  },
  {
   "cell_type": "code",
   "execution_count": null,
   "metadata": {},
   "outputs": [],
   "source": [
    "f = open(\"data/train_data/tagged.pkl\",\"wb\")\n",
    "pickle.dump(tagged,f)\n",
    "f.close()"
   ]
  },
  {
   "cell_type": "code",
   "execution_count": 12,
   "metadata": {},
   "outputs": [],
   "source": [
    "train_index = (0, math.ceil(len(tagged)*0.7))\n",
    "test_index = (train_index[1], train_index[1]+math.ceil(len(tagged)*0.2))\n",
    "val_index = (test_index[1], test_index[1]+math.ceil(len(tagged)*0.1))"
   ]
  },
  {
   "cell_type": "code",
   "execution_count": 13,
   "metadata": {},
   "outputs": [],
   "source": [
    "random.shuffle(tagged)"
   ]
  },
  {
   "cell_type": "code",
   "execution_count": 14,
   "metadata": {},
   "outputs": [],
   "source": [
    "train_sentences = tagged[train_index[0]:train_index[1]]\n",
    "test_sentences = tagged[test_index[0]:test_index[1]]\n",
    "val_sentences = tagged[val_index[0]:val_index[1]]"
   ]
  },
  {
   "cell_type": "markdown",
   "metadata": {
    "nbpresent": {
     "id": "3f72d1da-c1d1-4e25-a782-e12a66f1cedf"
    }
   },
   "source": [
    "Print some statistics"
   ]
  },
  {
   "cell_type": "code",
   "execution_count": 15,
   "metadata": {
    "nbpresent": {
     "id": "57ee9c67-7ec6-4054-91bc-a9aa896ba18a"
    }
   },
   "outputs": [
    {
     "name": "stdout",
     "output_type": "stream",
     "text": [
      "Tagged sentences in train set:  13516\n",
      "Tagged words in train set: 158951\n",
      "========================================\n",
      "Tagged sentences in dev set:  1930\n",
      "Tagged words in dev set: 22980\n",
      "========================================\n",
      "Tagged sentences in test set:  3862\n",
      "Tagged words in test set: 44821\n",
      "****************************************\n",
      "Total sentences in dataset: 19308\n"
     ]
    }
   ],
   "source": [
    "print(\"Tagged sentences in train set: \", len(train_sentences))\n",
    "print(\"Tagged words in train set:\", len([item for sublist in train_sentences for item in sublist]))\n",
    "print(40*'=')\n",
    "print(\"Tagged sentences in dev set: \", len(val_sentences))\n",
    "print(\"Tagged words in dev set:\", len([item for sublist in val_sentences for item in sublist]))\n",
    "print(40*'=')\n",
    "print(\"Tagged sentences in test set: \", len(test_sentences))\n",
    "print(\"Tagged words in test set:\", len([item for sublist in test_sentences for item in sublist]))\n",
    "print(40*'*')\n",
    "print(\"Total sentences in dataset:\", len(train_sentences)+len(val_sentences)+len(test_sentences))"
   ]
  },
  {
   "cell_type": "code",
   "execution_count": 16,
   "metadata": {
    "nbpresent": {
     "id": "eb97895a-d649-4318-b3ac-d7d6b6088a12"
    }
   },
   "outputs": [
    {
     "name": "stdout",
     "output_type": "stream",
     "text": [
      "[('С', 'N'), ('неимоверни', 'N'), ('усилия', 'N'), ('ги', 'N'), ('настигам', 'Y'), ('.', 'N')]\n"
     ]
    }
   ],
   "source": [
    "print(train_sentences[213])"
   ]
  },
  {
   "cell_type": "code",
   "execution_count": 17,
   "metadata": {
    "nbpresent": {
     "id": "573e2ec4-2df3-49f2-913d-3d0af2d6dc36"
    }
   },
   "outputs": [],
   "source": [
    "# Some usefull functions\n",
    "def tag_sequence(sentences):\n",
    "    return [[t for w, t in sentence] for sentence in sentences]\n",
    "\n",
    "def text_sequence(sentences):\n",
    "    return [[w for w, t in sentence] for sentence in sentences]"
   ]
  },
  {
   "cell_type": "markdown",
   "metadata": {
    "nbpresent": {
     "id": "533dd9e2-9e0e-43c1-8d13-b096a81a8984"
    }
   },
   "source": [
    "# Build dictionary with tag vocabulary"
   ]
  },
  {
   "cell_type": "code",
   "execution_count": 18,
   "metadata": {},
   "outputs": [
    {
     "name": "stdout",
     "output_type": "stream",
     "text": [
      "TOTAL TAGS:  2\n"
     ]
    }
   ],
   "source": [
    "tags = set([item for sublist in train_sentences+test_sentences+val_sentences for _, item in sublist])\n",
    "print('TOTAL TAGS: ', len(tags))"
   ]
  },
  {
   "cell_type": "markdown",
   "metadata": {},
   "source": [
    "Add '-PAD-' tag with index=0 as used in BERT code"
   ]
  },
  {
   "cell_type": "code",
   "execution_count": 19,
   "metadata": {
    "nbpresent": {
     "id": "98944f66-c2ae-4b29-ba01-99287044a815"
    }
   },
   "outputs": [],
   "source": [
    "tag2int = {}\n",
    "int2tag = {}\n",
    "\n",
    "for i, tag in enumerate(sorted(tags)):\n",
    "    tag2int[tag] = i+1\n",
    "    int2tag[i+1] = tag"
   ]
  },
  {
   "cell_type": "code",
   "execution_count": 20,
   "metadata": {
    "nbpresent": {
     "id": "a935a8bd-0522-42a1-8fea-285b671df0b8"
    }
   },
   "outputs": [],
   "source": [
    "# Special character for the tags\n",
    "tag2int['-PAD-'] = 0\n",
    "int2tag[0] = '-PAD-'"
   ]
  },
  {
   "cell_type": "code",
   "execution_count": 21,
   "metadata": {
    "nbpresent": {
     "id": "3e55930b-4268-4b18-a7c7-de6675cdcc01"
    }
   },
   "outputs": [
    {
     "name": "stdout",
     "output_type": "stream",
     "text": [
      "Total tags: 3\n"
     ]
    }
   ],
   "source": [
    "n_tags = len(tag2int)\n",
    "print('Total tags:', n_tags)"
   ]
  },
  {
   "cell_type": "code",
   "execution_count": 22,
   "metadata": {},
   "outputs": [
    {
     "data": {
      "text/plain": [
       "['N', 'Y', '-PAD-']"
      ]
     },
     "execution_count": 22,
     "metadata": {},
     "output_type": "execute_result"
    }
   ],
   "source": [
    "list(tag2int)"
   ]
  },
  {
   "cell_type": "markdown",
   "metadata": {
    "nbpresent": {
     "id": "6d6c1924-4661-4d3c-a446-ce81c05f9b71"
    }
   },
   "source": [
    "======================================================================================================="
   ]
  },
  {
   "cell_type": "markdown",
   "metadata": {
    "nbpresent": {
     "id": "0b2c54e8-30d1-4f19-b03e-533a9e27b069"
    }
   },
   "source": [
    "# Parameters"
   ]
  },
  {
   "cell_type": "code",
   "execution_count": 23,
   "metadata": {
    "nbpresent": {
     "id": "5a212b96-46c2-4147-9dba-9eea08757f36"
    }
   },
   "outputs": [],
   "source": [
    "MAX_SEQUENCE_LENGTH = 70\n",
    "EPOCHS = 30"
   ]
  },
  {
   "cell_type": "markdown",
   "metadata": {
    "nbpresent": {
     "id": "e1ee0fe5-a699-487d-9d36-b0342bc17d79"
    }
   },
   "source": [
    "# Special preprocessing for NNs"
   ]
  },
  {
   "cell_type": "markdown",
   "metadata": {
    "nbpresent": {
     "id": "e2fff7c1-9822-4192-95b8-6721acef446f"
    }
   },
   "source": [
    "### This is a very importand step for the whole process! So be careful, to rerun this step in case you change one of the following parameters:\n",
    "- MAX_SEQUENCE_LENGTH"
   ]
  },
  {
   "cell_type": "code",
   "execution_count": 24,
   "metadata": {
    "nbpresent": {
     "id": "12c47160-79d6-42d8-822d-e2d958e9ccb2"
    }
   },
   "outputs": [],
   "source": [
    "# train_sentences = read_conllu(UD_ENGLISH_TRAIN)\n",
    "# val_sentences = read_conllu(UD_ENGLISH_DEV)\n",
    "# test_sentences = read_conllu(UD_ENGLISH_TEST)"
   ]
  },
  {
   "cell_type": "markdown",
   "metadata": {
    "nbpresent": {
     "id": "f67342ab-29db-4565-8912-1a7efb49f808"
    }
   },
   "source": [
    "Lets examine the train set sentences distribution:"
   ]
  },
  {
   "cell_type": "code",
   "execution_count": 25,
   "metadata": {
    "nbpresent": {
     "id": "844de2c1-e861-45db-8bc0-4e1f47724a95"
    }
   },
   "outputs": [
    {
     "data": {
      "image/png": "[encoded data removed]",
      "text/plain": [
       "<Figure size 432x288 with 1 Axes>"
      ]
     },
     "metadata": {},
     "output_type": "display_data"
    }
   ],
   "source": [
    "import matplotlib.pyplot as plt\n",
    "plt.style.use(\"ggplot\")\n",
    "plt.hist([len(s) for s in train_sentences], bins=50)\n",
    "plt.show()"
   ]
  },
  {
   "cell_type": "code",
   "execution_count": 26,
   "metadata": {
    "nbpresent": {
     "id": "d9a2a74a-dff8-4dce-a9d2-b251e8a33976"
    }
   },
   "outputs": [
    {
     "name": "stdout",
     "output_type": "stream",
     "text": [
      "Max sentence length: 169\n"
     ]
    }
   ],
   "source": [
    "print('Max sentence length:',len(max(train_sentences+val_sentences, key=len)))"
   ]
  },
  {
   "cell_type": "markdown",
   "metadata": {
    "nbpresent": {
     "id": "0bff7138-d0ee-43b8-82ae-8d577b6e18f1"
    }
   },
   "source": [
    "To improve speed we will use a MAX_SEQUENCE_LENGTH shorter than the max lengthed sentence. To avoid truncating sequences during padding we split our sentences to MAX_SEQUENCE_LENGTH and so the number of samples increases accordingly. For example, if MAX_SEQUENCE_LENGTH=70, a sentence with length 150 splits in 3 sentences: 150=70+70+10"
   ]
  },
  {
   "cell_type": "code",
   "execution_count": 27,
   "metadata": {
    "nbpresent": {
     "id": "6b60d427-a8d8-4bb7-ad74-6b890098b6f7"
    }
   },
   "outputs": [],
   "source": [
    "def  split(sentences, max):\n",
    "    new=[]\n",
    "    for data in sentences:\n",
    "        new.append(([data[x:x+max] for x in range(0, len(data), max)]))\n",
    "    new = [val for sublist in new for val in sublist]\n",
    "    return new"
   ]
  },
  {
   "cell_type": "code",
   "execution_count": 28,
   "metadata": {
    "nbpresent": {
     "id": "067299e9-7857-445b-99dd-1df2ddd4d740"
    }
   },
   "outputs": [],
   "source": [
    "train_sentences = split(train_sentences, MAX_SEQUENCE_LENGTH)\n",
    "val_sentences = split(val_sentences, MAX_SEQUENCE_LENGTH)\n",
    "test_sentences = split(test_sentences, MAX_SEQUENCE_LENGTH)"
   ]
  },
  {
   "cell_type": "code",
   "execution_count": 29,
   "metadata": {
    "nbpresent": {
     "id": "b180dbde-a00e-4f4b-aad7-33b0b31ad693"
    }
   },
   "outputs": [
    {
     "data": {
      "text/plain": [
       "70"
      ]
     },
     "execution_count": 29,
     "metadata": {},
     "output_type": "execute_result"
    }
   ],
   "source": [
    "len(max(train_sentences+val_sentences, key=len))"
   ]
  },
  {
   "cell_type": "code",
   "execution_count": 30,
   "metadata": {},
   "outputs": [],
   "source": [
    "train_sentences = train_sentences + val_sentences"
   ]
  },
  {
   "cell_type": "markdown",
   "metadata": {
    "nbpresent": {
     "id": "bf4abb0c-ba12-4be4-918d-06172bc011f1"
    }
   },
   "source": [
    "# BERT implementation"
   ]
  },
  {
   "cell_type": "code",
   "execution_count": 31,
   "metadata": {
    "nbpresent": {
     "id": "b2e4df36-f6ed-4961-b2d2-540fcbf651fd"
    }
   },
   "outputs": [],
   "source": [
    "# Initialize session\n",
    "sess = tf.Session()\n",
    "# Params for bert model and tokenization\n",
    "bert_path = \"https://tfhub.dev/google/bert_multi_cased_L-12_H-768_A-12/1\" #use multi lang version! "
   ]
  },
  {
   "cell_type": "code",
   "execution_count": 32,
   "metadata": {
    "nbpresent": {
     "id": "81781553-5840-4539-8e31-ebf941647e22"
    }
   },
   "outputs": [],
   "source": [
    "train_text = text_sequence(train_sentences)\n",
    "test_text = text_sequence(test_sentences)\n",
    "#val_text = text_sequence(val_sentences)\n",
    "\n",
    "train_label = tag_sequence(train_sentences)\n",
    "test_label= tag_sequence(test_sentences)\n",
    "#val_label= tag_sequence(val_sentences)"
   ]
  },
  {
   "cell_type": "code",
   "execution_count": 33,
   "metadata": {},
   "outputs": [
    {
     "data": {
      "text/plain": [
       "15457"
      ]
     },
     "execution_count": 33,
     "metadata": {},
     "output_type": "execute_result"
    }
   ],
   "source": [
    "len(train_text)"
   ]
  },
  {
   "cell_type": "code",
   "execution_count": 34,
   "metadata": {
    "scrolled": true
   },
   "outputs": [
    {
     "data": {
      "text/plain": [
       "(['—',\n",
       "  'Гочо',\n",
       "  ',',\n",
       "  'що',\n",
       "  'си',\n",
       "  'се',\n",
       "  'разкопчал',\n",
       "  'като',\n",
       "  'ахиевски',\n",
       "  'читак',\n",
       "  '?'],\n",
       " ['N', 'N', 'N', 'N', 'N', 'N', 'Y', 'N', 'N', 'N', 'N'])"
      ]
     },
     "execution_count": 34,
     "metadata": {},
     "output_type": "execute_result"
    }
   ],
   "source": [
    "train_text[133], train_label[133]"
   ]
  },
  {
   "cell_type": "markdown",
   "metadata": {},
   "source": [
    "# Functions used for BERT representation"
   ]
  },
  {
   "cell_type": "code",
   "execution_count": 35,
   "metadata": {
    "nbpresent": {
     "id": "1165aa8f-9bd2-48d7-8ad2-3109c960334f"
    }
   },
   "outputs": [],
   "source": [
    "class PaddingInputExample(object):\n",
    "    \"\"\"Fake example so the num input examples is a multiple of the batch size.\n",
    "  When running eval/predict on the TPU, we need to pad the number of examples\n",
    "  to be a multiple of the batch size, because the TPU requires a fixed batch\n",
    "  size. The alternative is to drop the last batch, which is bad because it means\n",
    "  the entire output data won't be generated.\n",
    "  We use this class instead of `None` because treating `None` as padding\n",
    "  battches could cause silent errors.\n",
    "  \"\"\"\n",
    "\n",
    "class InputExample(object):\n",
    "    \"\"\"A single training/test example for simple sequence classification.\"\"\"\n",
    "\n",
    "    def __init__(self, guid, text_a, text_b=None, label=None):\n",
    "        \"\"\"Constructs a InputExample.\n",
    "    Args:\n",
    "      guid: Unique id for the example.\n",
    "      text_a: string. The untokenized text of the first sequence. For single\n",
    "        sequence tasks, only this sequence must be specified.\n",
    "      text_b: (Optional) string. The untokenized text of the second sequence.\n",
    "        Only must be specified for sequence pair tasks.\n",
    "      label: (Optional) string. The label of the example. This should be\n",
    "        specified for train and dev examples, but not for test examples.\n",
    "    \"\"\"\n",
    "        self.guid = guid\n",
    "        self.text_a = text_a\n",
    "        self.text_b = text_b\n",
    "        self.label = label\n",
    "\n",
    "def create_tokenizer_from_hub_module():\n",
    "    \"\"\"Get the vocab file and casing info from the Hub module.\"\"\"\n",
    "    bert_module =  hub.Module(bert_path)\n",
    "    tokenization_info = bert_module(signature=\"tokenization_info\", as_dict=True)\n",
    "    vocab_file, do_lower_case = sess.run(\n",
    "        [\n",
    "            tokenization_info[\"vocab_file\"],\n",
    "            tokenization_info[\"do_lower_case\"],\n",
    "        ]\n",
    "    )\n",
    "\n",
    "    return FullTokenizer(vocab_file=vocab_file, do_lower_case=do_lower_case)\n",
    "\n",
    "def convert_single_example(tokenizer, example, max_seq_length=256):\n",
    "    \"\"\"Converts a single `InputExample` into a single `InputFeatures`.\"\"\"\n",
    "\n",
    "    if isinstance(example, PaddingInputExample):\n",
    "        input_ids = [0] * max_seq_length\n",
    "        input_mask = [0] * max_seq_length\n",
    "        segment_ids = [0] * max_seq_length\n",
    "        label_ids = [0] * max_seq_length\n",
    "        return input_ids, input_mask, segment_ids, label_ids\n",
    "    \n",
    "    tokens_a = example.text_a\n",
    "    if len(tokens_a) > max_seq_length-2:\n",
    "        tokens_a = tokens_a[0 : (max_seq_length-2)]\n",
    "\n",
    "# Token map will be an int -> int mapping between the `orig_tokens` index and\n",
    "# the `bert_tokens` index.\n",
    "\n",
    "# bert_tokens == [\"[CLS]\", \"john\", \"johan\", \"##son\", \"'\", \"s\", \"house\", \"[SEP]\"]\n",
    "# orig_to_tok_map == [1, 2, 4, 6]   \n",
    "    orig_to_tok_map = []              \n",
    "    tokens = []\n",
    "    segment_ids = []\n",
    "    \n",
    "    tokens.append(\"[CLS]\")\n",
    "    segment_ids.append(0)\n",
    "    orig_to_tok_map.append(len(tokens)-1)\n",
    "    #print(len(tokens_a))\n",
    "    for token in tokens_a:       \n",
    "        tokens.extend(tokenizer.tokenize(token))\n",
    "        orig_to_tok_map.append(len(tokens)-1)\n",
    "        segment_ids.append(0)\n",
    "    tokens.append(\"[SEP]\")\n",
    "    segment_ids.append(0)\n",
    "    orig_to_tok_map.append(len(tokens)-1)\n",
    "    input_ids = tokenizer.convert_tokens_to_ids([tokens[i] for i in orig_to_tok_map])\n",
    "    #print(len(orig_to_tok_map), len(tokens), len(input_ids), len(segment_ids)) #for debugging\n",
    "\n",
    "    # The mask has 1 for real tokens and 0 for padding tokens. Only real\n",
    "    # tokens are attended to.\n",
    "    input_mask = [1] * len(input_ids)\n",
    "    \n",
    "    label_ids = []\n",
    "    labels = example.label\n",
    "    label_ids.append(0)\n",
    "    label_ids.extend([tag2int[label] for label in labels])\n",
    "    label_ids.append(0)\n",
    "    #print(len(label_ids)) #for debugging\n",
    "    # Zero-pad up to the sequence length.\n",
    "    while len(input_ids) < max_seq_length:\n",
    "        input_ids.append(0)\n",
    "        input_mask.append(0)\n",
    "        segment_ids.append(0)\n",
    "        label_ids.append(0)\n",
    "\n",
    "    assert len(input_ids) == max_seq_length\n",
    "    assert len(input_mask) == max_seq_length\n",
    "    assert len(segment_ids) == max_seq_length\n",
    "    assert len(label_ids) == max_seq_length\n",
    "\n",
    "    return input_ids, input_mask, segment_ids, label_ids\n",
    "\n",
    "def convert_examples_to_features(tokenizer, examples, max_seq_length=256):\n",
    "    \"\"\"Convert a set of `InputExample`s to a list of `InputFeatures`.\"\"\"\n",
    "\n",
    "    input_ids, input_masks, segment_ids, labels = [], [], [], []\n",
    "    for example in tqdm_notebook(examples, desc=\"Converting examples to features\"):\n",
    "        input_id, input_mask, segment_id, label = convert_single_example(\n",
    "            tokenizer, example, max_seq_length\n",
    "        )\n",
    "        input_ids.append(input_id)\n",
    "        input_masks.append(input_mask)\n",
    "        segment_ids.append(segment_id)\n",
    "        labels.append(label)\n",
    "    return (\n",
    "        np.array(input_ids),\n",
    "        np.array(input_masks),\n",
    "        np.array(segment_ids),\n",
    "        np.array(labels),\n",
    "    )\n",
    "\n",
    "def convert_text_to_examples(texts, labels):\n",
    "    \"\"\"Create InputExamples\"\"\"\n",
    "    InputExamples = []\n",
    "    for text, label in zip(texts, labels):\n",
    "        InputExamples.append(\n",
    "            InputExample(guid=None, text_a=text, text_b=None, label=label)\n",
    "        )\n",
    "    return InputExamples"
   ]
  },
  {
   "cell_type": "code",
   "execution_count": 36,
   "metadata": {
    "nbpresent": {
     "id": "c5d22fdb-2f46-44b2-9962-cea0cc6927a8"
    }
   },
   "outputs": [
    {
     "name": "stderr",
     "output_type": "stream",
     "text": [
      "WARNING: Logging before flag parsing goes to stderr.\n",
      "W0417 18:43:02.273131 34544 module_wrapper.py:139] From c:\\users\\pnedelev\\appdata\\local\\continuum\\anaconda3\\lib\\site-packages\\bert\\tokenization.py:125: The name tf.gfile.GFile is deprecated. Please use tf.io.gfile.GFile instead.\n",
      "\n"
     ]
    }
   ],
   "source": [
    "# Instantiate tokenizer\n",
    "tokenizer = create_tokenizer_from_hub_module()"
   ]
  },
  {
   "cell_type": "markdown",
   "metadata": {},
   "source": [
    "## Alignment code (token -> tag)"
   ]
  },
  {
   "cell_type": "markdown",
   "metadata": {},
   "source": [
    "Following suggestions from WordPiece tokenization part in https://github.com/google-research/bert, for POS tagging task, input sentences are converted to the following format:"
   ]
  },
  {
   "cell_type": "code",
   "execution_count": 37,
   "metadata": {},
   "outputs": [],
   "source": [
    "# orig_tokens = [\"John\", \"Johanson\", \"'s\",  \"house\"]\n",
    "# labels      = [\"NNP\",  \"NNP\",      \"POS\", \"NN\"]\n",
    "# bert_tokens = ['[CLS]\", \"john\", \"johan\", \"##son\", \"'\",   \"s\",  \"house\", \"[SEP]\"]\n",
    "# bert_labels = ['[CLS]\", \"NNP\",  \"NNP\",   \"##\",    \"POS\", \"##\", \"NN\",    \"[SEP]\"] "
   ]
  },
  {
   "cell_type": "markdown",
   "metadata": {},
   "source": [
    "So, due to **Wordpiece** tokenizer we must take special care for the correct alignment of token to tag. This is done in function *convert_single_example(tokenizer, example, max_seq_length=256)* with the following piece of code:"
   ]
  },
  {
   "cell_type": "code",
   "execution_count": 38,
   "metadata": {},
   "outputs": [],
   "source": [
    "def bert_labels(labels):\n",
    "    train_label_bert = []\n",
    "    train_label_bert.append('-PAD-')\n",
    "    for i in labels:\n",
    "        train_label_bert.append(i)\n",
    "    train_label_bert.append('-PAD-')\n",
    "    print('BERT labels:', train_label_bert)    "
   ]
  },
  {
   "cell_type": "code",
   "execution_count": 39,
   "metadata": {},
   "outputs": [],
   "source": [
    "tokens_a = train_text[2]"
   ]
  },
  {
   "cell_type": "code",
   "execution_count": 40,
   "metadata": {},
   "outputs": [],
   "source": [
    "orig_to_tok_map = []              \n",
    "tokens = []\n",
    "segment_ids = []\n",
    "tokens.append(\"[CLS]\")\n",
    "segment_ids.append(0)\n",
    "orig_to_tok_map.append(len(tokens)-1)\n",
    "for token in tokens_a:\n",
    "    #orig_to_tok_map.append(len(tokens)) # keep first piece of tokenized term\n",
    "    tokens.extend(tokenizer.tokenize(token))\n",
    "    orig_to_tok_map.append(len(tokens)-1) # # keep last piece of tokenized term -->> gives better results!\n",
    "    segment_ids.append(0)\n",
    "tokens.append(\"[SEP]\")\n",
    "segment_ids.append(0)\n",
    "orig_to_tok_map.append(len(tokens)-1)\n",
    "input_ids = tokenizer.convert_tokens_to_ids([tokens[i] for i in orig_to_tok_map])"
   ]
  },
  {
   "cell_type": "code",
   "execution_count": 41,
   "metadata": {
    "nbpresent": {
     "id": "b31bd2f4-6a3b-4836-888a-5362ebdbc492"
    }
   },
   "outputs": [
    {
     "name": "stdout",
     "output_type": "stream",
     "text": [
      "Original tokens: ['То', 'беше', 'ордата', 'на', 'Тосун', 'бея', '.']\n"
     ]
    }
   ],
   "source": [
    "print('Original tokens:',tokens_a)"
   ]
  },
  {
   "cell_type": "code",
   "execution_count": 42,
   "metadata": {
    "nbpresent": {
     "id": "b31bd2f4-6a3b-4836-888a-5362ebdbc492"
    }
   },
   "outputs": [
    {
     "name": "stdout",
     "output_type": "stream",
     "text": [
      "BERT tokens: ['[CLS]', 'То', 'беше', 'о', '##рда', '##та', 'на', 'То', '##су', '##н', 'б', '##ея', '.', '[SEP]']\n"
     ]
    }
   ],
   "source": [
    "print('BERT tokens:',tokens)"
   ]
  },
  {
   "cell_type": "code",
   "execution_count": 43,
   "metadata": {},
   "outputs": [
    {
     "name": "stdout",
     "output_type": "stream",
     "text": [
      "BERT labels: ['-PAD-', 'N', 'Y', 'N', 'N', 'N', 'N', 'N', '-PAD-']\n"
     ]
    }
   ],
   "source": [
    "bert_labels(train_label[2])"
   ]
  },
  {
   "cell_type": "raw",
   "metadata": {},
   "source": [
    "So the allignment 'warranties' -> 'NOUN' becomes after alligning '##ies' -> 'NOUN'\n",
    "We tested the other (proposed in run_classifier.py) possible allignment 'warrant' -> 'NOUN', but with worse results!"
   ]
  },
  {
   "cell_type": "code",
   "execution_count": 44,
   "metadata": {},
   "outputs": [
    {
     "data": {
      "text/plain": [
       "[0, 1, 2, 5, 6, 9, 11, 12, 13]"
      ]
     },
     "execution_count": 44,
     "metadata": {},
     "output_type": "execute_result"
    }
   ],
   "source": [
    "orig_to_tok_map"
   ]
  },
  {
   "cell_type": "code",
   "execution_count": 45,
   "metadata": {},
   "outputs": [
    {
     "name": "stdout",
     "output_type": "stream",
     "text": [
      "[101, 31217, 31650, 10367, 10122, 10267, 24377, 119, 102]\n"
     ]
    }
   ],
   "source": [
    "print(input_ids)"
   ]
  },
  {
   "cell_type": "markdown",
   "metadata": {},
   "source": [
    "## Test the conversion of an example to BERT representation"
   ]
  },
  {
   "cell_type": "code",
   "execution_count": 46,
   "metadata": {
    "nbpresent": {
     "id": "a8524cd7-a390-455a-b94d-995aabcbfb02"
    }
   },
   "outputs": [],
   "source": [
    "\"\"\"Create InputExamples\"\"\"\n",
    "InputExamples = []\n",
    "for text, label in zip(train_text[0:1], train_label[0:1]):\n",
    "    InputExamples.append(\n",
    "        InputExample(guid=None, text_a=text, text_b=None, label=label)\n",
    ")"
   ]
  },
  {
   "cell_type": "code",
   "execution_count": 47,
   "metadata": {
    "nbpresent": {
     "id": "da8ff012-152f-4533-975c-b23c3a63611c"
    }
   },
   "outputs": [
    {
     "data": {
      "application/vnd.jupyter.widget-view+json": {
       "model_id": "113b9addcb554658ac27712baa27300b",
       "version_major": 2,
       "version_minor": 0
      },
      "text/plain": [
       "HBox(children=(IntProgress(value=0, description='Converting examples to features', max=1, style=ProgressStyle(…"
      ]
     },
     "metadata": {},
     "output_type": "display_data"
    },
    {
     "name": "stdout",
     "output_type": "stream",
     "text": [
      "\n"
     ]
    }
   ],
   "source": [
    "input_ids, input_masks, segment_ids, labels = [], [], [], []\n",
    "for example in tqdm_notebook(InputExamples, desc=\"Converting examples to features\"):\n",
    "    input_id, input_mask, segment_id, label = convert_single_example(\n",
    "        tokenizer, example, MAX_SEQUENCE_LENGTH+2\n",
    "    )\n",
    "    input_ids.append(input_id)\n",
    "    input_masks.append(input_mask)\n",
    "    segment_ids.append(segment_id)\n",
    "    labels.append(label)"
   ]
  },
  {
   "cell_type": "markdown",
   "metadata": {},
   "source": [
    "## Convert examples to BERT representation"
   ]
  },
  {
   "cell_type": "code",
   "execution_count": 48,
   "metadata": {
    "nbpresent": {
     "id": "eb4915fc-babf-4bf9-8789-ab05ef24be45"
    }
   },
   "outputs": [],
   "source": [
    "# Convert data to InputExample format\n",
    "train_examples = convert_text_to_examples(train_text, train_label)\n",
    "test_examples = convert_text_to_examples(test_text, test_label)"
   ]
  },
  {
   "cell_type": "code",
   "execution_count": 49,
   "metadata": {
    "nbpresent": {
     "id": "4f427047-23e0-4dd4-b8b7-333c93eb88ce"
    }
   },
   "outputs": [
    {
     "data": {
      "application/vnd.jupyter.widget-view+json": {
       "model_id": "7f596bc82242459b83f775f1f566421b",
       "version_major": 2,
       "version_minor": 0
      },
      "text/plain": [
       "HBox(children=(IntProgress(value=0, description='Converting examples to features', max=15457, style=ProgressSt…"
      ]
     },
     "metadata": {},
     "output_type": "display_data"
    },
    {
     "name": "stdout",
     "output_type": "stream",
     "text": [
      "\n"
     ]
    },
    {
     "data": {
      "application/vnd.jupyter.widget-view+json": {
       "model_id": "92c31b3914344533af7ff18002664b3f",
       "version_major": 2,
       "version_minor": 0
      },
      "text/plain": [
       "HBox(children=(IntProgress(value=0, description='Converting examples to features', max=3864, style=ProgressSty…"
      ]
     },
     "metadata": {},
     "output_type": "display_data"
    },
    {
     "name": "stdout",
     "output_type": "stream",
     "text": [
      "\n"
     ]
    }
   ],
   "source": [
    "# Convert to features\n",
    "(train_input_ids, train_input_masks, train_segment_ids, train_labels_ids\n",
    ") = convert_examples_to_features(tokenizer, train_examples, max_seq_length=MAX_SEQUENCE_LENGTH+2)\n",
    "(test_input_ids, test_input_masks, test_segment_ids, test_labels_ids\n",
    ") = convert_examples_to_features(tokenizer, test_examples, max_seq_length=MAX_SEQUENCE_LENGTH+2)"
   ]
  },
  {
   "cell_type": "markdown",
   "metadata": {},
   "source": [
    "## See the form of BERT representation"
   ]
  },
  {
   "cell_type": "code",
   "execution_count": 50,
   "metadata": {},
   "outputs": [
    {
     "name": "stdout",
     "output_type": "stream",
     "text": [
      "72\n",
      "72\n",
      "72\n",
      "72\n"
     ]
    }
   ],
   "source": [
    "print(len(train_input_ids[0]))\n",
    "print(len(train_input_masks[0]))\n",
    "print(len(train_segment_ids[0]))\n",
    "print(len(train_labels_ids[0]))"
   ]
  },
  {
   "cell_type": "code",
   "execution_count": 51,
   "metadata": {
    "nbpresent": {
     "id": "e3ab4f77-4587-4fd0-8fbc-b06840e852f5"
    }
   },
   "outputs": [
    {
     "data": {
      "text/plain": [
       "array([  101, 10778, 19702, 23807, 19702, 36949, 14847, 19930, 37070,\n",
       "         117, 10521, 98614,   119,   102,     0,     0,     0,     0,\n",
       "           0,     0,     0,     0,     0,     0,     0,     0,     0,\n",
       "           0,     0,     0,     0,     0,     0,     0,     0,     0,\n",
       "           0,     0,     0,     0,     0,     0,     0,     0,     0,\n",
       "           0,     0,     0,     0,     0,     0,     0,     0,     0,\n",
       "           0,     0,     0,     0,     0,     0,     0,     0,     0,\n",
       "           0,     0,     0,     0,     0,     0,     0,     0,     0])"
      ]
     },
     "execution_count": 51,
     "metadata": {},
     "output_type": "execute_result"
    }
   ],
   "source": [
    "train_input_ids[0]"
   ]
  },
  {
   "cell_type": "code",
   "execution_count": 52,
   "metadata": {
    "nbpresent": {
     "id": "996d81bf-c1ce-4d09-8315-8d3c4512ddb8"
    }
   },
   "outputs": [
    {
     "data": {
      "text/plain": [
       "array([1, 1, 1, 1, 1, 1, 1, 1, 1, 1, 1, 1, 1, 1, 0, 0, 0, 0, 0, 0, 0, 0,\n",
       "       0, 0, 0, 0, 0, 0, 0, 0, 0, 0, 0, 0, 0, 0, 0, 0, 0, 0, 0, 0, 0, 0,\n",
       "       0, 0, 0, 0, 0, 0, 0, 0, 0, 0, 0, 0, 0, 0, 0, 0, 0, 0, 0, 0, 0, 0,\n",
       "       0, 0, 0, 0, 0, 0])"
      ]
     },
     "execution_count": 52,
     "metadata": {},
     "output_type": "execute_result"
    }
   ],
   "source": [
    "train_input_masks[0]"
   ]
  },
  {
   "cell_type": "code",
   "execution_count": 53,
   "metadata": {
    "nbpresent": {
     "id": "d16548f1-b1a4-4003-b90e-c28164d4012d"
    }
   },
   "outputs": [
    {
     "data": {
      "text/plain": [
       "array([0, 0, 0, 0, 0, 0, 0, 0, 0, 0, 0, 0, 0, 0, 0, 0, 0, 0, 0, 0, 0, 0,\n",
       "       0, 0, 0, 0, 0, 0, 0, 0, 0, 0, 0, 0, 0, 0, 0, 0, 0, 0, 0, 0, 0, 0,\n",
       "       0, 0, 0, 0, 0, 0, 0, 0, 0, 0, 0, 0, 0, 0, 0, 0, 0, 0, 0, 0, 0, 0,\n",
       "       0, 0, 0, 0, 0, 0])"
      ]
     },
     "execution_count": 53,
     "metadata": {},
     "output_type": "execute_result"
    }
   ],
   "source": [
    "train_segment_ids[0]"
   ]
  },
  {
   "cell_type": "code",
   "execution_count": 54,
   "metadata": {
    "nbpresent": {
     "id": "4343b8c0-e6e3-4198-b209-968b28ec4fa4"
    }
   },
   "outputs": [
    {
     "data": {
      "text/plain": [
       "array([0, 1, 1, 1, 1, 2, 1, 1, 1, 1, 1, 1, 1, 0, 0, 0, 0, 0, 0, 0, 0, 0,\n",
       "       0, 0, 0, 0, 0, 0, 0, 0, 0, 0, 0, 0, 0, 0, 0, 0, 0, 0, 0, 0, 0, 0,\n",
       "       0, 0, 0, 0, 0, 0, 0, 0, 0, 0, 0, 0, 0, 0, 0, 0, 0, 0, 0, 0, 0, 0,\n",
       "       0, 0, 0, 0, 0, 0])"
      ]
     },
     "execution_count": 54,
     "metadata": {},
     "output_type": "execute_result"
    }
   ],
   "source": [
    "train_labels_ids[0]"
   ]
  },
  {
   "cell_type": "code",
   "execution_count": 55,
   "metadata": {
    "nbpresent": {
     "id": "080448a8-1f00-46b8-b4c9-e8aff53658ae"
    }
   },
   "outputs": [],
   "source": [
    "# One-hot encode labels\n",
    "train_labels = to_categorical(train_labels_ids, num_classes=n_tags)\n",
    "test_labels = to_categorical(test_labels_ids, num_classes=n_tags)"
   ]
  },
  {
   "cell_type": "code",
   "execution_count": 56,
   "metadata": {
    "nbpresent": {
     "id": "2a4bc11b-a307-4121-8c42-44dde65ae4cf"
    }
   },
   "outputs": [
    {
     "data": {
      "text/plain": [
       "(array([  101, 10778, 19702, 23807, 19702, 36949, 14847, 19930, 37070,\n",
       "          117, 10521, 98614,   119,   102,     0,     0,     0,     0,\n",
       "            0,     0,     0,     0,     0,     0,     0,     0,     0,\n",
       "            0,     0,     0,     0,     0,     0,     0,     0,     0,\n",
       "            0,     0,     0,     0,     0,     0,     0,     0,     0,\n",
       "            0,     0,     0,     0,     0,     0,     0,     0,     0,\n",
       "            0,     0,     0,     0,     0,     0,     0,     0,     0,\n",
       "            0,     0,     0,     0,     0,     0,     0,     0,     0]),\n",
       " array([[1., 0., 0.],\n",
       "        [0., 1., 0.],\n",
       "        [0., 1., 0.],\n",
       "        [0., 1., 0.],\n",
       "        [0., 1., 0.],\n",
       "        [0., 0., 1.],\n",
       "        [0., 1., 0.],\n",
       "        [0., 1., 0.],\n",
       "        [0., 1., 0.],\n",
       "        [0., 1., 0.],\n",
       "        [0., 1., 0.],\n",
       "        [0., 1., 0.],\n",
       "        [0., 1., 0.],\n",
       "        [1., 0., 0.],\n",
       "        [1., 0., 0.],\n",
       "        [1., 0., 0.],\n",
       "        [1., 0., 0.],\n",
       "        [1., 0., 0.],\n",
       "        [1., 0., 0.],\n",
       "        [1., 0., 0.],\n",
       "        [1., 0., 0.],\n",
       "        [1., 0., 0.],\n",
       "        [1., 0., 0.],\n",
       "        [1., 0., 0.],\n",
       "        [1., 0., 0.],\n",
       "        [1., 0., 0.],\n",
       "        [1., 0., 0.],\n",
       "        [1., 0., 0.],\n",
       "        [1., 0., 0.],\n",
       "        [1., 0., 0.],\n",
       "        [1., 0., 0.],\n",
       "        [1., 0., 0.],\n",
       "        [1., 0., 0.],\n",
       "        [1., 0., 0.],\n",
       "        [1., 0., 0.],\n",
       "        [1., 0., 0.],\n",
       "        [1., 0., 0.],\n",
       "        [1., 0., 0.],\n",
       "        [1., 0., 0.],\n",
       "        [1., 0., 0.],\n",
       "        [1., 0., 0.],\n",
       "        [1., 0., 0.],\n",
       "        [1., 0., 0.],\n",
       "        [1., 0., 0.],\n",
       "        [1., 0., 0.],\n",
       "        [1., 0., 0.],\n",
       "        [1., 0., 0.],\n",
       "        [1., 0., 0.],\n",
       "        [1., 0., 0.],\n",
       "        [1., 0., 0.],\n",
       "        [1., 0., 0.],\n",
       "        [1., 0., 0.],\n",
       "        [1., 0., 0.],\n",
       "        [1., 0., 0.],\n",
       "        [1., 0., 0.],\n",
       "        [1., 0., 0.],\n",
       "        [1., 0., 0.],\n",
       "        [1., 0., 0.],\n",
       "        [1., 0., 0.],\n",
       "        [1., 0., 0.],\n",
       "        [1., 0., 0.],\n",
       "        [1., 0., 0.],\n",
       "        [1., 0., 0.],\n",
       "        [1., 0., 0.],\n",
       "        [1., 0., 0.],\n",
       "        [1., 0., 0.],\n",
       "        [1., 0., 0.],\n",
       "        [1., 0., 0.],\n",
       "        [1., 0., 0.],\n",
       "        [1., 0., 0.],\n",
       "        [1., 0., 0.],\n",
       "        [1., 0., 0.]], dtype=float32))"
      ]
     },
     "execution_count": 56,
     "metadata": {},
     "output_type": "execute_result"
    }
   ],
   "source": [
    "train_input_ids[0], train_labels[0]"
   ]
  },
  {
   "cell_type": "markdown",
   "metadata": {},
   "source": [
    "## Model building"
   ]
  },
  {
   "cell_type": "code",
   "execution_count": 57,
   "metadata": {
    "nbpresent": {
     "id": "4098aad1-cdf7-4282-ba3b-70897cdcfe1d"
    }
   },
   "outputs": [],
   "source": [
    "class BertLayer(Layer):\n",
    "    def __init__(self, output_representation='sequence_output', trainable=True, **kwargs):\n",
    "        self.bert = None\n",
    "        super(BertLayer, self).__init__(**kwargs)\n",
    "        \n",
    "        self.trainable = trainable\n",
    "        self.output_representation = output_representation\n",
    "\n",
    "    def build(self, input_shape):\n",
    "        # SetUp tensorflow Hub module\n",
    "        self.bert = hub.Module(bert_path,\n",
    "                               trainable=self.trainable, \n",
    "                               name=\"{}_module\".format(self.name))\n",
    "\n",
    "        # Assign module's trainable weights to model\n",
    "        # Remove unused layers and set trainable parameters\n",
    "        # s = [\"/cls/\", \"/pooler/\", 'layer_11', 'layer_10', 'layer_9', 'layer_8', 'layer_7', 'layer_6']\n",
    "        s = [\"/cls/\", \"/pooler/\"]\n",
    "        self.trainable_weights += [var for var in self.bert.variables[:] if not any(x in var.name for x in s)]\n",
    "            \n",
    "        for var in self.bert.variables:\n",
    "            if var not in self._trainable_weights:\n",
    "                self._non_trainable_weights.append(var)\n",
    "                \n",
    "        # See Trainable Variables\n",
    "        #tf.logging.info(\"**** Trainable Variables ****\")\n",
    "        #for var in self.trainable_weights:\n",
    "        #    init_string = \", *INIT_FROM_CKPT*\"\n",
    "        #    tf.logging.info(\"  name = %s, shape = %s%s\", var.name, var.shape, init_string)\n",
    "            \n",
    "        print('Trainable weights:',len(self.trainable_weights))\n",
    "        super(BertLayer, self).build(input_shape)\n",
    "\n",
    "    def call(self, inputs, mask=None):\n",
    "        inputs = [K.cast(x, dtype=\"int32\") for x in inputs]\n",
    "        input_ids, input_mask, segment_ids = inputs\n",
    "        bert_inputs = dict(\n",
    "            input_ids=input_ids, input_mask=input_mask, segment_ids=segment_ids\n",
    "        )\n",
    "        result = self.bert(inputs=bert_inputs, signature=\"tokens\", as_dict=True)[\n",
    "            self.output_representation\n",
    "        ]\n",
    "        return result\n",
    "\n",
    "    def compute_mask(self, inputs, mask=None):\n",
    "        return K.not_equal(inputs[0], 0.0)   \n",
    "\n",
    "    def compute_output_shape(self, input_shape):\n",
    "        if self.output_representation == 'pooled_output':\n",
    "            return (None, 768)\n",
    "        else:\n",
    "            return (None, None, 768)"
   ]
  },
  {
   "cell_type": "code",
   "execution_count": 58,
   "metadata": {
    "nbpresent": {
     "id": "177cc483-831b-4a10-b659-e1c6cf653877"
    }
   },
   "outputs": [],
   "source": [
    "#del model"
   ]
  },
  {
   "cell_type": "code",
   "execution_count": 59,
   "metadata": {
    "nbpresent": {
     "id": "08a4002f-f656-47f2-814d-447e0bd56858"
    }
   },
   "outputs": [],
   "source": [
    "# Build model\n",
    "def build_model(max_seq_length):\n",
    "    seed = 0 \n",
    "    in_id = keras.layers.Input(shape=(max_seq_length,), name=\"input_ids\")\n",
    "    in_mask = keras.layers.Input(shape=(max_seq_length,), name=\"input_masks\")\n",
    "    in_segment = keras.layers.Input(shape=(max_seq_length,), name=\"segment_ids\")\n",
    "    bert_inputs = [in_id, in_mask, in_segment]\n",
    "    \n",
    "    np.random.seed(seed)\n",
    "    bert_output = BertLayer()(bert_inputs)\n",
    "\n",
    "    np.random.seed(seed)\n",
    "    outputs = keras.layers.Dense(n_tags, activation=keras.activations.softmax)(bert_output)\n",
    "\n",
    "    np.random.seed(seed)\n",
    "    model = keras.models.Model(inputs=bert_inputs, outputs=outputs)\n",
    "    np.random.seed(seed)\n",
    "    model.compile(optimizer=keras.optimizers.Adam(lr=0.00004), loss=keras.losses.categorical_crossentropy, metrics=['accuracy'])   \n",
    "    model.summary(100)\n",
    "    return model\n",
    "\n",
    "def initialize_vars(sess):\n",
    "    sess.run(tf.local_variables_initializer())\n",
    "    sess.run(tf.global_variables_initializer())\n",
    "    sess.run(tf.tables_initializer())\n",
    "    K.set_session(sess)"
   ]
  },
  {
   "cell_type": "code",
   "execution_count": 60,
   "metadata": {
    "nbpresent": {
     "id": "c1391d48-0f3d-4b90-b1b4-4d8cae268050"
    }
   },
   "outputs": [
    {
     "name": "stdout",
     "output_type": "stream",
     "text": [
      "Trainable weights: 197\n"
     ]
    },
    {
     "name": "stderr",
     "output_type": "stream",
     "text": [
      "W0417 18:43:12.918726 34544 deprecation.py:506] From c:\\users\\pnedelev\\appdata\\local\\continuum\\anaconda3\\lib\\site-packages\\tensorflow_core\\python\\ops\\resource_variable_ops.py:1630: calling BaseResourceVariable.__init__ (from tensorflow.python.ops.resource_variable_ops) with constraint is deprecated and will be removed in a future version.\n",
      "Instructions for updating:\n",
      "If using Keras pass *_constraint arguments to layers.\n"
     ]
    },
    {
     "name": "stdout",
     "output_type": "stream",
     "text": [
      "Model: \"model_1\"\n",
      "____________________________________________________________________________________________________\n",
      "Layer (type)                     Output Shape          Param #     Connected to                     \n",
      "====================================================================================================\n",
      "input_ids (InputLayer)           (None, 72)            0                                            \n",
      "____________________________________________________________________________________________________\n",
      "input_masks (InputLayer)         (None, 72)            0                                            \n",
      "____________________________________________________________________________________________________\n",
      "segment_ids (InputLayer)         (None, 72)            0                                            \n",
      "____________________________________________________________________________________________________\n",
      "bert_layer_1 (BertLayer)         (None, None, 768)     178565115   input_ids[0][0]                  \n",
      "                                                                   input_masks[0][0]                \n",
      "                                                                   segment_ids[0][0]                \n",
      "____________________________________________________________________________________________________\n",
      "dense_1 (Dense)                  (None, None, 3)       2307        bert_layer_1[0][0]               \n",
      "====================================================================================================\n",
      "Total params: 178,567,422\n",
      "Trainable params: 177,265,155\n",
      "Non-trainable params: 1,302,267\n",
      "____________________________________________________________________________________________________\n"
     ]
    }
   ],
   "source": [
    "model = build_model(MAX_SEQUENCE_LENGTH+2) # We sum 2 for [CLS], [SEP] tokens"
   ]
  },
  {
   "cell_type": "code",
   "execution_count": 115,
   "metadata": {
    "scrolled": true
   },
   "outputs": [
    {
     "ename": "OSError",
     "evalue": "`pydot` failed to call GraphViz.Please install GraphViz (https://www.graphviz.org/) and ensure that its executables are in the $PATH.",
     "output_type": "error",
     "traceback": [
      "\u001b[1;31m---------------------------------------------------------------------------\u001b[0m",
      "\u001b[1;31mFileNotFoundError\u001b[0m                         Traceback (most recent call last)",
      "\u001b[1;32mc:\\users\\pnedelev\\appdata\\local\\continuum\\anaconda3\\lib\\site-packages\\pydot.py\u001b[0m in \u001b[0;36mcreate\u001b[1;34m(self, prog, format, encoding)\u001b[0m\n\u001b[0;32m   1914\u001b[0m                 \u001b[0marguments\u001b[0m\u001b[1;33m=\u001b[0m\u001b[0marguments\u001b[0m\u001b[1;33m,\u001b[0m\u001b[1;33m\u001b[0m\u001b[1;33m\u001b[0m\u001b[0m\n\u001b[1;32m-> 1915\u001b[1;33m                 \u001b[0mworking_dir\u001b[0m\u001b[1;33m=\u001b[0m\u001b[0mtmp_dir\u001b[0m\u001b[1;33m,\u001b[0m\u001b[1;33m\u001b[0m\u001b[1;33m\u001b[0m\u001b[0m\n\u001b[0m\u001b[0;32m   1916\u001b[0m             )\n",
      "\u001b[1;32mc:\\users\\pnedelev\\appdata\\local\\continuum\\anaconda3\\lib\\site-packages\\pydot.py\u001b[0m in \u001b[0;36mcall_graphviz\u001b[1;34m(program, arguments, working_dir, **kwargs)\u001b[0m\n\u001b[0;32m    135\u001b[0m         \u001b[0mstdout\u001b[0m\u001b[1;33m=\u001b[0m\u001b[0msubprocess\u001b[0m\u001b[1;33m.\u001b[0m\u001b[0mPIPE\u001b[0m\u001b[1;33m,\u001b[0m\u001b[1;33m\u001b[0m\u001b[1;33m\u001b[0m\u001b[0m\n\u001b[1;32m--> 136\u001b[1;33m         \u001b[1;33m**\u001b[0m\u001b[0mkwargs\u001b[0m\u001b[1;33m\u001b[0m\u001b[1;33m\u001b[0m\u001b[0m\n\u001b[0m\u001b[0;32m    137\u001b[0m     )\n",
      "\u001b[1;32mc:\\users\\pnedelev\\appdata\\local\\continuum\\anaconda3\\lib\\subprocess.py\u001b[0m in \u001b[0;36m__init__\u001b[1;34m(self, args, bufsize, executable, stdin, stdout, stderr, preexec_fn, close_fds, shell, cwd, env, universal_newlines, startupinfo, creationflags, restore_signals, start_new_session, pass_fds, encoding, errors, text)\u001b[0m\n\u001b[0;32m    774\u001b[0m                                 \u001b[0merrread\u001b[0m\u001b[1;33m,\u001b[0m \u001b[0merrwrite\u001b[0m\u001b[1;33m,\u001b[0m\u001b[1;33m\u001b[0m\u001b[1;33m\u001b[0m\u001b[0m\n\u001b[1;32m--> 775\u001b[1;33m                                 restore_signals, start_new_session)\n\u001b[0m\u001b[0;32m    776\u001b[0m         \u001b[1;32mexcept\u001b[0m\u001b[1;33m:\u001b[0m\u001b[1;33m\u001b[0m\u001b[1;33m\u001b[0m\u001b[0m\n",
      "\u001b[1;32mc:\\users\\pnedelev\\appdata\\local\\continuum\\anaconda3\\lib\\subprocess.py\u001b[0m in \u001b[0;36m_execute_child\u001b[1;34m(self, args, executable, preexec_fn, close_fds, pass_fds, cwd, env, startupinfo, creationflags, shell, p2cread, p2cwrite, c2pread, c2pwrite, errread, errwrite, unused_restore_signals, unused_start_new_session)\u001b[0m\n\u001b[0;32m   1177\u001b[0m                                          \u001b[0mos\u001b[0m\u001b[1;33m.\u001b[0m\u001b[0mfspath\u001b[0m\u001b[1;33m(\u001b[0m\u001b[0mcwd\u001b[0m\u001b[1;33m)\u001b[0m \u001b[1;32mif\u001b[0m \u001b[0mcwd\u001b[0m \u001b[1;32mis\u001b[0m \u001b[1;32mnot\u001b[0m \u001b[1;32mNone\u001b[0m \u001b[1;32melse\u001b[0m \u001b[1;32mNone\u001b[0m\u001b[1;33m,\u001b[0m\u001b[1;33m\u001b[0m\u001b[1;33m\u001b[0m\u001b[0m\n\u001b[1;32m-> 1178\u001b[1;33m                                          startupinfo)\n\u001b[0m\u001b[0;32m   1179\u001b[0m             \u001b[1;32mfinally\u001b[0m\u001b[1;33m:\u001b[0m\u001b[1;33m\u001b[0m\u001b[1;33m\u001b[0m\u001b[0m\n",
      "\u001b[1;31mFileNotFoundError\u001b[0m: [WinError 2] The system cannot find the file specified",
      "\nDuring handling of the above exception, another exception occurred:\n",
      "\u001b[1;31mFileNotFoundError\u001b[0m                         Traceback (most recent call last)",
      "\u001b[1;32mc:\\users\\pnedelev\\appdata\\local\\continuum\\anaconda3\\lib\\site-packages\\keras\\utils\\vis_utils.py\u001b[0m in \u001b[0;36m_check_pydot\u001b[1;34m()\u001b[0m\n\u001b[0;32m     27\u001b[0m         \u001b[1;31m# to check the pydot/graphviz installation.\u001b[0m\u001b[1;33m\u001b[0m\u001b[1;33m\u001b[0m\u001b[1;33m\u001b[0m\u001b[0m\n\u001b[1;32m---> 28\u001b[1;33m         \u001b[0mpydot\u001b[0m\u001b[1;33m.\u001b[0m\u001b[0mDot\u001b[0m\u001b[1;33m.\u001b[0m\u001b[0mcreate\u001b[0m\u001b[1;33m(\u001b[0m\u001b[0mpydot\u001b[0m\u001b[1;33m.\u001b[0m\u001b[0mDot\u001b[0m\u001b[1;33m(\u001b[0m\u001b[1;33m)\u001b[0m\u001b[1;33m)\u001b[0m\u001b[1;33m\u001b[0m\u001b[1;33m\u001b[0m\u001b[0m\n\u001b[0m\u001b[0;32m     29\u001b[0m     \u001b[1;32mexcept\u001b[0m \u001b[0mOSError\u001b[0m\u001b[1;33m:\u001b[0m\u001b[1;33m\u001b[0m\u001b[1;33m\u001b[0m\u001b[0m\n",
      "\u001b[1;32mc:\\users\\pnedelev\\appdata\\local\\continuum\\anaconda3\\lib\\site-packages\\pydot.py\u001b[0m in \u001b[0;36mcreate\u001b[1;34m(self, prog, format, encoding)\u001b[0m\n\u001b[0;32m   1921\u001b[0m                     prog=prog)\n\u001b[1;32m-> 1922\u001b[1;33m                 \u001b[1;32mraise\u001b[0m \u001b[0mOSError\u001b[0m\u001b[1;33m(\u001b[0m\u001b[1;33m*\u001b[0m\u001b[0margs\u001b[0m\u001b[1;33m)\u001b[0m\u001b[1;33m\u001b[0m\u001b[1;33m\u001b[0m\u001b[0m\n\u001b[0m\u001b[0;32m   1923\u001b[0m             \u001b[1;32melse\u001b[0m\u001b[1;33m:\u001b[0m\u001b[1;33m\u001b[0m\u001b[1;33m\u001b[0m\u001b[0m\n",
      "\u001b[1;31mFileNotFoundError\u001b[0m: [WinError 2] \"dot\" not found in path.",
      "\nDuring handling of the above exception, another exception occurred:\n",
      "\u001b[1;31mOSError\u001b[0m                                   Traceback (most recent call last)",
      "\u001b[1;32m<ipython-input-115-dd929bcf50a3>\u001b[0m in \u001b[0;36m<module>\u001b[1;34m\u001b[0m\n\u001b[1;32m----> 1\u001b[1;33m \u001b[0mplot_model\u001b[0m\u001b[1;33m(\u001b[0m\u001b[0mmodel\u001b[0m\u001b[1;33m,\u001b[0m \u001b[0mto_file\u001b[0m\u001b[1;33m=\u001b[0m\u001b[1;34m'model.png'\u001b[0m\u001b[1;33m,\u001b[0m \u001b[0mshow_shapes\u001b[0m\u001b[1;33m=\u001b[0m\u001b[1;32mTrue\u001b[0m\u001b[1;33m)\u001b[0m\u001b[1;33m\u001b[0m\u001b[1;33m\u001b[0m\u001b[0m\n\u001b[0m\u001b[0;32m      2\u001b[0m \u001b[0mImage\u001b[0m\u001b[1;33m(\u001b[0m\u001b[1;34m'model.png'\u001b[0m\u001b[1;33m)\u001b[0m\u001b[1;33m\u001b[0m\u001b[1;33m\u001b[0m\u001b[0m\n",
      "\u001b[1;32mc:\\users\\pnedelev\\appdata\\local\\continuum\\anaconda3\\lib\\site-packages\\keras\\utils\\vis_utils.py\u001b[0m in \u001b[0;36mplot_model\u001b[1;34m(model, to_file, show_shapes, show_layer_names, rankdir, expand_nested, dpi)\u001b[0m\n\u001b[0;32m    238\u001b[0m     \"\"\"\n\u001b[0;32m    239\u001b[0m     dot = model_to_dot(model, show_shapes, show_layer_names, rankdir,\n\u001b[1;32m--> 240\u001b[1;33m                        expand_nested, dpi)\n\u001b[0m\u001b[0;32m    241\u001b[0m     \u001b[0m_\u001b[0m\u001b[1;33m,\u001b[0m \u001b[0mextension\u001b[0m \u001b[1;33m=\u001b[0m \u001b[0mos\u001b[0m\u001b[1;33m.\u001b[0m\u001b[0mpath\u001b[0m\u001b[1;33m.\u001b[0m\u001b[0msplitext\u001b[0m\u001b[1;33m(\u001b[0m\u001b[0mto_file\u001b[0m\u001b[1;33m)\u001b[0m\u001b[1;33m\u001b[0m\u001b[1;33m\u001b[0m\u001b[0m\n\u001b[0;32m    242\u001b[0m     \u001b[1;32mif\u001b[0m \u001b[1;32mnot\u001b[0m \u001b[0mextension\u001b[0m\u001b[1;33m:\u001b[0m\u001b[1;33m\u001b[0m\u001b[1;33m\u001b[0m\u001b[0m\n",
      "\u001b[1;32mc:\\users\\pnedelev\\appdata\\local\\continuum\\anaconda3\\lib\\site-packages\\keras\\utils\\vis_utils.py\u001b[0m in \u001b[0;36mmodel_to_dot\u001b[1;34m(model, show_shapes, show_layer_names, rankdir, expand_nested, dpi, subgraph)\u001b[0m\n\u001b[0;32m     77\u001b[0m     \u001b[1;32mfrom\u001b[0m \u001b[1;33m.\u001b[0m\u001b[1;33m.\u001b[0m\u001b[0mmodels\u001b[0m \u001b[1;32mimport\u001b[0m \u001b[0mSequential\u001b[0m\u001b[1;33m\u001b[0m\u001b[1;33m\u001b[0m\u001b[0m\n\u001b[0;32m     78\u001b[0m \u001b[1;33m\u001b[0m\u001b[0m\n\u001b[1;32m---> 79\u001b[1;33m     \u001b[0m_check_pydot\u001b[0m\u001b[1;33m(\u001b[0m\u001b[1;33m)\u001b[0m\u001b[1;33m\u001b[0m\u001b[1;33m\u001b[0m\u001b[0m\n\u001b[0m\u001b[0;32m     80\u001b[0m     \u001b[1;32mif\u001b[0m \u001b[0msubgraph\u001b[0m\u001b[1;33m:\u001b[0m\u001b[1;33m\u001b[0m\u001b[1;33m\u001b[0m\u001b[0m\n\u001b[0;32m     81\u001b[0m         \u001b[0mdot\u001b[0m \u001b[1;33m=\u001b[0m \u001b[0mpydot\u001b[0m\u001b[1;33m.\u001b[0m\u001b[0mCluster\u001b[0m\u001b[1;33m(\u001b[0m\u001b[0mstyle\u001b[0m\u001b[1;33m=\u001b[0m\u001b[1;34m'dashed'\u001b[0m\u001b[1;33m,\u001b[0m \u001b[0mgraph_name\u001b[0m\u001b[1;33m=\u001b[0m\u001b[0mmodel\u001b[0m\u001b[1;33m.\u001b[0m\u001b[0mname\u001b[0m\u001b[1;33m)\u001b[0m\u001b[1;33m\u001b[0m\u001b[1;33m\u001b[0m\u001b[0m\n",
      "\u001b[1;32mc:\\users\\pnedelev\\appdata\\local\\continuum\\anaconda3\\lib\\site-packages\\keras\\utils\\vis_utils.py\u001b[0m in \u001b[0;36m_check_pydot\u001b[1;34m()\u001b[0m\n\u001b[0;32m     29\u001b[0m     \u001b[1;32mexcept\u001b[0m \u001b[0mOSError\u001b[0m\u001b[1;33m:\u001b[0m\u001b[1;33m\u001b[0m\u001b[1;33m\u001b[0m\u001b[0m\n\u001b[0;32m     30\u001b[0m         raise OSError(\n\u001b[1;32m---> 31\u001b[1;33m             \u001b[1;34m'`pydot` failed to call GraphViz.'\u001b[0m\u001b[1;33m\u001b[0m\u001b[1;33m\u001b[0m\u001b[0m\n\u001b[0m\u001b[0;32m     32\u001b[0m             \u001b[1;34m'Please install GraphViz (https://www.graphviz.org/) '\u001b[0m\u001b[1;33m\u001b[0m\u001b[1;33m\u001b[0m\u001b[0m\n\u001b[0;32m     33\u001b[0m             'and ensure that its executables are in the $PATH.')\n",
      "\u001b[1;31mOSError\u001b[0m: `pydot` failed to call GraphViz.Please install GraphViz (https://www.graphviz.org/) and ensure that its executables are in the $PATH."
     ]
    }
   ],
   "source": [
    "plot_model(model, to_file='model.png', show_shapes=True)\n",
    "Image('model.png')"
   ]
  },
  {
   "cell_type": "code",
   "execution_count": 61,
   "metadata": {
    "nbpresent": {
     "id": "e5b1510d-5965-4f77-8c1c-a019bb081441"
    }
   },
   "outputs": [
    {
     "data": {
      "text/plain": [
       "(15457, 72)"
      ]
     },
     "execution_count": 61,
     "metadata": {},
     "output_type": "execute_result"
    }
   ],
   "source": [
    "train_input_ids.shape"
   ]
  },
  {
   "cell_type": "code",
   "execution_count": 62,
   "metadata": {
    "nbpresent": {
     "id": "e2ced586-54d2-4f87-87b4-11447a074836"
    }
   },
   "outputs": [
    {
     "data": {
      "text/plain": [
       "(15457, 72)"
      ]
     },
     "execution_count": 62,
     "metadata": {},
     "output_type": "execute_result"
    }
   ],
   "source": [
    "train_input_masks.shape"
   ]
  },
  {
   "cell_type": "code",
   "execution_count": 63,
   "metadata": {
    "nbpresent": {
     "id": "d4e8c809-bc83-428b-824d-4640127d0a6f"
    }
   },
   "outputs": [
    {
     "data": {
      "text/plain": [
       "(15457, 72)"
      ]
     },
     "execution_count": 63,
     "metadata": {},
     "output_type": "execute_result"
    }
   ],
   "source": [
    "train_segment_ids.shape"
   ]
  },
  {
   "cell_type": "code",
   "execution_count": 64,
   "metadata": {},
   "outputs": [
    {
     "data": {
      "text/plain": [
       "(15457, 72, 3)"
      ]
     },
     "execution_count": 64,
     "metadata": {},
     "output_type": "execute_result"
    }
   ],
   "source": [
    "train_labels.shape"
   ]
  },
  {
   "cell_type": "markdown",
   "metadata": {},
   "source": [
    "## Model training (BERT fine-tuning)"
   ]
  },
  {
   "cell_type": "code",
   "execution_count": 65,
   "metadata": {},
   "outputs": [],
   "source": [
    "initialize_vars(sess)"
   ]
  },
  {
   "cell_type": "code",
   "execution_count": 66,
   "metadata": {
    "nbpresent": {
     "id": "fc7dd289-a946-479a-838e-e25e6384f16a"
    }
   },
   "outputs": [
    {
     "name": "stderr",
     "output_type": "stream",
     "text": [
      "W0417 18:43:17.255832 34544 deprecation.py:323] From c:\\users\\pnedelev\\appdata\\local\\continuum\\anaconda3\\lib\\site-packages\\tensorflow_core\\python\\ops\\math_grad.py:1424: where (from tensorflow.python.ops.array_ops) is deprecated and will be removed in a future version.\n",
      "Instructions for updating:\n",
      "Use tf.where in 2.0, which has the same broadcast rule as np.where\n",
      "c:\\users\\pnedelev\\appdata\\local\\continuum\\anaconda3\\lib\\site-packages\\tensorflow_core\\python\\framework\\indexed_slices.py:424: UserWarning: Converting sparse IndexedSlices to a dense Tensor of unknown shape. This may consume a large amount of memory.\n",
      "  \"Converting sparse IndexedSlices to a dense Tensor of unknown shape. \"\n",
      "W0417 18:43:36.517317 34544 module_wrapper.py:139] From c:\\users\\pnedelev\\appdata\\local\\continuum\\anaconda3\\lib\\site-packages\\keras\\backend\\tensorflow_backend.py:422: The name tf.global_variables is deprecated. Please use tf.compat.v1.global_variables instead.\n",
      "\n",
      "W0417 18:43:36.518314 34544 module_wrapper.py:139] From c:\\users\\pnedelev\\appdata\\local\\continuum\\anaconda3\\lib\\site-packages\\keras\\backend\\tensorflow_backend.py:431: The name tf.is_variable_initialized is deprecated. Please use tf.compat.v1.is_variable_initialized instead.\n",
      "\n"
     ]
    },
    {
     "name": "stdout",
     "output_type": "stream",
     "text": [
      "Train on 15457 samples, validate on 3864 samples\n",
      "Epoch 1/30\n"
     ]
    },
    {
     "name": "stdout",
     "output_type": "stream",
     "text": [
      " 2704/15457 [====>.........................] - ETA: 3:51:00 - loss: 0.2519 - accuracy: 0.287 - ETA: 3:10:49 - loss: 0.2198 - accuracy: 0.471 - ETA: 2:57:20 - loss: 0.2023 - accuracy: 0.553 - ETA: 2:51:37 - loss: 0.1805 - accuracy: 0.602 - ETA: 2:48:33 - loss: 0.1680 - accuracy: 0.641 - ETA: 2:48:54 - loss: 0.1589 - accuracy: 0.675 - ETA: 2:49:08 - loss: 0.1519 - accuracy: 0.703 - ETA: 2:47:33 - loss: 0.1473 - accuracy: 0.727 - ETA: 2:45:23 - loss: 0.1414 - accuracy: 0.746 - ETA: 2:43:14 - loss: 0.1336 - accuracy: 0.758 - ETA: 2:41:43 - loss: 0.1279 - accuracy: 0.772 - ETA: 2:40:37 - loss: 0.1224 - accuracy: 0.780 - ETA: 2:41:16 - loss: 0.1169 - accuracy: 0.786 - ETA: 2:40:28 - loss: 0.1140 - accuracy: 0.794 - ETA: 2:39:33 - loss: 0.1089 - accuracy: 0.803 - ETA: 2:39:03 - loss: 0.1061 - accuracy: 0.810 - ETA: 2:38:32 - loss: 0.1027 - accuracy: 0.819 - ETA: 2:37:51 - loss: 0.0988 - accuracy: 0.825 - ETA: 2:37:27 - loss: 0.0958 - accuracy: 0.830 - ETA: 2:36:53 - loss: 0.0928 - accuracy: 0.835 - ETA: 2:36:15 - loss: 0.0901 - accuracy: 0.839 - ETA: 2:35:40 - loss: 0.0872 - accuracy: 0.842 - ETA: 2:35:13 - loss: 0.0848 - accuracy: 0.845 - ETA: 2:35:02 - loss: 0.0826 - accuracy: 0.849 - ETA: 2:34:34 - loss: 0.0806 - accuracy: 0.852 - ETA: 2:34:43 - loss: 0.0785 - accuracy: 0.857 - ETA: 2:34:17 - loss: 0.0764 - accuracy: 0.859 - ETA: 2:33:53 - loss: 0.0746 - accuracy: 0.862 - ETA: 2:33:31 - loss: 0.0731 - accuracy: 0.866 - ETA: 2:33:11 - loss: 0.0715 - accuracy: 0.868 - ETA: 2:32:51 - loss: 0.0701 - accuracy: 0.871 - ETA: 2:32:27 - loss: 0.0687 - accuracy: 0.872 - ETA: 2:32:19 - loss: 0.0673 - accuracy: 0.874 - ETA: 2:31:56 - loss: 0.0661 - accuracy: 0.877 - ETA: 2:31:35 - loss: 0.0649 - accuracy: 0.879 - ETA: 2:31:12 - loss: 0.0637 - accuracy: 0.880 - ETA: 2:30:51 - loss: 0.0627 - accuracy: 0.882 - ETA: 2:30:33 - loss: 0.0616 - accuracy: 0.884 - ETA: 2:30:32 - loss: 0.0606 - accuracy: 0.886 - ETA: 2:30:29 - loss: 0.0594 - accuracy: 0.888 - ETA: 2:30:16 - loss: 0.0585 - accuracy: 0.890 - ETA: 2:30:04 - loss: 0.0576 - accuracy: 0.892 - ETA: 2:29:48 - loss: 0.0569 - accuracy: 0.893 - ETA: 2:29:35 - loss: 0.0560 - accuracy: 0.895 - ETA: 2:29:19 - loss: 0.0552 - accuracy: 0.896 - ETA: 2:29:11 - loss: 0.0545 - accuracy: 0.897 - ETA: 2:28:54 - loss: 0.0537 - accuracy: 0.899 - ETA: 2:29:19 - loss: 0.0532 - accuracy: 0.899 - ETA: 2:29:30 - loss: 0.0524 - accuracy: 0.901 - ETA: 2:29:30 - loss: 0.0519 - accuracy: 0.902 - ETA: 2:29:21 - loss: 0.0513 - accuracy: 0.903 - ETA: 2:29:10 - loss: 0.0506 - accuracy: 0.905 - ETA: 2:28:53 - loss: 0.0503 - accuracy: 0.906 - ETA: 2:28:34 - loss: 0.0497 - accuracy: 0.907 - ETA: 2:28:13 - loss: 0.0492 - accuracy: 0.909 - ETA: 2:27:54 - loss: 0.0485 - accuracy: 0.910 - ETA: 2:27:34 - loss: 0.0480 - accuracy: 0.911 - ETA: 2:27:17 - loss: 0.0475 - accuracy: 0.912 - ETA: 2:27:05 - loss: 0.0469 - accuracy: 0.912 - ETA: 2:26:45 - loss: 0.0464 - accuracy: 0.913 - ETA: 2:26:30 - loss: 0.0458 - accuracy: 0.914 - ETA: 2:26:12 - loss: 0.0453 - accuracy: 0.915 - ETA: 2:25:57 - loss: 0.0448 - accuracy: 0.916 - ETA: 2:25:41 - loss: 0.0445 - accuracy: 0.917 - ETA: 2:25:25 - loss: 0.0443 - accuracy: 0.918 - ETA: 2:25:15 - loss: 0.0438 - accuracy: 0.919 - ETA: 2:24:58 - loss: 0.0434 - accuracy: 0.919 - ETA: 2:24:41 - loss: 0.0429 - accuracy: 0.920 - ETA: 2:24:28 - loss: 0.0426 - accuracy: 0.921 - ETA: 2:24:13 - loss: 0.0422 - accuracy: 0.921 - ETA: 2:23:58 - loss: 0.0418 - accuracy: 0.921 - ETA: 2:23:43 - loss: 0.0413 - accuracy: 0.922 - ETA: 2:23:32 - loss: 0.0410 - accuracy: 0.922 - ETA: 2:23:17 - loss: 0.0406 - accuracy: 0.923 - ETA: 2:23:04 - loss: 0.0403 - accuracy: 0.924 - ETA: 2:22:52 - loss: 0.0400 - accuracy: 0.925 - ETA: 2:22:38 - loss: 0.0396 - accuracy: 0.925 - ETA: 2:22:23 - loss: 0.0392 - accuracy: 0.926 - ETA: 2:22:09 - loss: 0.0388 - accuracy: 0.927 - ETA: 2:21:58 - loss: 0.0386 - accuracy: 0.927 - ETA: 2:21:43 - loss: 0.0382 - accuracy: 0.928 - ETA: 2:21:29 - loss: 0.0379 - accuracy: 0.929 - ETA: 2:21:16 - loss: 0.0377 - accuracy: 0.929 - ETA: 2:21:02 - loss: 0.0373 - accuracy: 0.930 - ETA: 2:20:50 - loss: 0.0371 - accuracy: 0.930 - ETA: 2:20:40 - loss: 0.0367 - accuracy: 0.931 - ETA: 2:20:33 - loss: 0.0364 - accuracy: 0.932 - ETA: 2:20:21 - loss: 0.0360 - accuracy: 0.932 - ETA: 2:20:09 - loss: 0.0358 - accuracy: 0.932 - ETA: 2:19:58 - loss: 0.0357 - accuracy: 0.933 - ETA: 2:19:47 - loss: 0.0353 - accuracy: 0.933 - ETA: 2:19:35 - loss: 0.0352 - accuracy: 0.933 - ETA: 2:19:27 - loss: 0.0349 - accuracy: 0.934 - ETA: 2:19:13 - loss: 0.0347 - accuracy: 0.934 - ETA: 2:19:02 - loss: 0.0344 - accuracy: 0.935 - ETA: 2:18:50 - loss: 0.0341 - accuracy: 0.935 - ETA: 2:18:36 - loss: 0.0338 - accuracy: 0.936 - ETA: 2:18:23 - loss: 0.0336 - accuracy: 0.936 - ETA: 2:18:10 - loss: 0.0333 - accuracy: 0.937 - ETA: 2:18:02 - loss: 0.0332 - accuracy: 0.937 - ETA: 2:17:50 - loss: 0.0330 - accuracy: 0.938 - ETA: 2:17:38 - loss: 0.0328 - accuracy: 0.938 - ETA: 2:17:29 - loss: 0.0325 - accuracy: 0.938 - ETA: 2:17:19 - loss: 0.0324 - accuracy: 0.938 - ETA: 2:17:10 - loss: 0.0324 - accuracy: 0.939 - ETA: 2:17:00 - loss: 0.0323 - accuracy: 0.939 - ETA: 2:16:53 - loss: 0.0321 - accuracy: 0.939 - ETA: 2:16:44 - loss: 0.0319 - accuracy: 0.940 - ETA: 2:16:33 - loss: 0.0317 - accuracy: 0.940 - ETA: 2:16:22 - loss: 0.0316 - accuracy: 0.940 - ETA: 2:16:10 - loss: 0.0314 - accuracy: 0.941 - ETA: 2:15:58 - loss: 0.0312 - accuracy: 0.941 - ETA: 2:15:50 - loss: 0.0311 - accuracy: 0.941 - ETA: 2:15:37 - loss: 0.0309 - accuracy: 0.942 - ETA: 2:15:25 - loss: 0.0308 - accuracy: 0.942 - ETA: 2:15:13 - loss: 0.0307 - accuracy: 0.942 - ETA: 2:15:01 - loss: 0.0305 - accuracy: 0.942 - ETA: 2:14:50 - loss: 0.0303 - accuracy: 0.942 - ETA: 2:14:38 - loss: 0.0302 - accuracy: 0.943 - ETA: 2:14:29 - loss: 0.0300 - accuracy: 0.943 - ETA: 2:14:18 - loss: 0.0299 - accuracy: 0.943 - ETA: 2:14:07 - loss: 0.0297 - accuracy: 0.943 - ETA: 2:13:57 - loss: 0.0296 - accuracy: 0.944 - ETA: 2:13:48 - loss: 0.0294 - accuracy: 0.944 - ETA: 2:13:38 - loss: 0.0292 - accuracy: 0.944 - ETA: 2:13:26 - loss: 0.0291 - accuracy: 0.945 - ETA: 2:13:19 - loss: 0.0289 - accuracy: 0.945 - ETA: 2:13:08 - loss: 0.0289 - accuracy: 0.945 - ETA: 2:12:56 - loss: 0.0287 - accuracy: 0.945 - ETA: 2:12:46 - loss: 0.0286 - accuracy: 0.945 - ETA: 2:12:37 - loss: 0.0285 - accuracy: 0.946 - ETA: 2:12:26 - loss: 0.0283 - accuracy: 0.946 - ETA: 2:12:16 - loss: 0.0282 - accuracy: 0.946 - ETA: 2:12:07 - loss: 0.0281 - accuracy: 0.947 - ETA: 2:11:56 - loss: 0.0281 - accuracy: 0.947 - ETA: 2:11:45 - loss: 0.0279 - accuracy: 0.947 - ETA: 2:11:34 - loss: 0.0278 - accuracy: 0.947 - ETA: 2:11:25 - loss: 0.0277 - accuracy: 0.948 - ETA: 2:11:17 - loss: 0.0275 - accuracy: 0.948 - ETA: 2:11:09 - loss: 0.0275 - accuracy: 0.948 - ETA: 2:10:59 - loss: 0.0273 - accuracy: 0.948 - ETA: 2:10:49 - loss: 0.0272 - accuracy: 0.949 - ETA: 2:10:39 - loss: 0.0271 - accuracy: 0.949 - ETA: 2:10:29 - loss: 0.0270 - accuracy: 0.949 - ETA: 2:10:18 - loss: 0.0268 - accuracy: 0.949 - ETA: 2:10:07 - loss: 0.0267 - accuracy: 0.949 - ETA: 2:09:59 - loss: 0.0266 - accuracy: 0.950 - ETA: 2:09:47 - loss: 0.0265 - accuracy: 0.950 - ETA: 2:09:37 - loss: 0.0264 - accuracy: 0.950 - ETA: 2:09:27 - loss: 0.0262 - accuracy: 0.950 - ETA: 2:09:18 - loss: 0.0261 - accuracy: 0.950 - ETA: 2:09:10 - loss: 0.0261 - accuracy: 0.951 - ETA: 2:09:01 - loss: 0.0260 - accuracy: 0.951 - ETA: 2:08:52 - loss: 0.0259 - accuracy: 0.951 - ETA: 2:08:43 - loss: 0.0257 - accuracy: 0.951 - ETA: 2:08:33 - loss: 0.0257 - accuracy: 0.951 - ETA: 2:08:23 - loss: 0.0255 - accuracy: 0.952 - ETA: 2:08:11 - loss: 0.0255 - accuracy: 0.952 - ETA: 2:08:04 - loss: 0.0254 - accuracy: 0.952 - ETA: 2:07:55 - loss: 0.0253 - accuracy: 0.952 - ETA: 2:07:44 - loss: 0.0252 - accuracy: 0.952 - ETA: 2:07:33 - loss: 0.0251 - accuracy: 0.952 - ETA: 2:07:22 - loss: 0.0250 - accuracy: 0.952 - ETA: 2:07:13 - loss: 0.0249 - accuracy: 0.952 - ETA: 2:07:03 - loss: 0.0249 - accuracy: 0.952 - ETA: 2:06:54 - loss: 0.0248 - accuracy: 0.953 - ETA: 2:06:47 - loss: 0.0247 - accuracy: 0.953 - ETA: 2:06:37 - loss: 0.0247 - accuracy: 0.953 - ETA: 2:06:28 - loss: 0.0246 - accuracy: 0.953 5424/15457 [=========>....................] - ETA: 2:06:18 - loss: 0.0245 - accuracy: 0.953 - ETA: 2:06:10 - loss: 0.0245 - accuracy: 0.953 - ETA: 2:06:00 - loss: 0.0244 - accuracy: 0.953 - ETA: 2:05:54 - loss: 0.0243 - accuracy: 0.954 - ETA: 2:05:43 - loss: 0.0242 - accuracy: 0.954 - ETA: 2:05:32 - loss: 0.0242 - accuracy: 0.954 - ETA: 2:05:22 - loss: 0.0241 - accuracy: 0.954 - ETA: 2:05:12 - loss: 0.0241 - accuracy: 0.954 - ETA: 2:05:01 - loss: 0.0240 - accuracy: 0.954 - ETA: 2:04:50 - loss: 0.0240 - accuracy: 0.954 - ETA: 2:04:41 - loss: 0.0239 - accuracy: 0.954 - ETA: 2:04:30 - loss: 0.0238 - accuracy: 0.954 - ETA: 2:04:20 - loss: 0.0237 - accuracy: 0.955 - ETA: 2:04:08 - loss: 0.0237 - accuracy: 0.955 - ETA: 2:03:57 - loss: 0.0236 - accuracy: 0.955 - ETA: 2:03:47 - loss: 0.0235 - accuracy: 0.955 - ETA: 2:03:37 - loss: 0.0234 - accuracy: 0.955 - ETA: 2:03:28 - loss: 0.0234 - accuracy: 0.955 - ETA: 2:03:18 - loss: 0.0234 - accuracy: 0.955 - ETA: 2:03:08 - loss: 0.0234 - accuracy: 0.955 - ETA: 2:02:58 - loss: 0.0233 - accuracy: 0.955 - ETA: 2:02:47 - loss: 0.0233 - accuracy: 0.955 - ETA: 2:02:37 - loss: 0.0232 - accuracy: 0.955 - ETA: 2:02:26 - loss: 0.0232 - accuracy: 0.956 - ETA: 2:02:17 - loss: 0.0231 - accuracy: 0.956 - ETA: 2:02:07 - loss: 0.0231 - accuracy: 0.956 - ETA: 2:01:56 - loss: 0.0230 - accuracy: 0.956 - ETA: 2:01:46 - loss: 0.0229 - accuracy: 0.956 - ETA: 2:01:37 - loss: 0.0229 - accuracy: 0.956 - ETA: 2:01:26 - loss: 0.0228 - accuracy: 0.956 - ETA: 2:01:16 - loss: 0.0227 - accuracy: 0.956 - ETA: 2:01:06 - loss: 0.0227 - accuracy: 0.956 - ETA: 2:00:56 - loss: 0.0226 - accuracy: 0.956 - ETA: 2:00:47 - loss: 0.0226 - accuracy: 0.957 - ETA: 2:00:38 - loss: 0.0225 - accuracy: 0.957 - ETA: 2:00:28 - loss: 0.0224 - accuracy: 0.957 - ETA: 2:00:18 - loss: 0.0223 - accuracy: 0.957 - ETA: 2:00:10 - loss: 0.0223 - accuracy: 0.957 - ETA: 2:00:00 - loss: 0.0222 - accuracy: 0.957 - ETA: 1:59:49 - loss: 0.0222 - accuracy: 0.957 - ETA: 1:59:39 - loss: 0.0221 - accuracy: 0.957 - ETA: 1:59:28 - loss: 0.0221 - accuracy: 0.957 - ETA: 1:59:18 - loss: 0.0220 - accuracy: 0.957 - ETA: 1:59:11 - loss: 0.0221 - accuracy: 0.957 - ETA: 1:59:10 - loss: 0.0220 - accuracy: 0.957 - ETA: 1:59:03 - loss: 0.0219 - accuracy: 0.958 - ETA: 1:58:55 - loss: 0.0219 - accuracy: 0.958 - ETA: 1:58:46 - loss: 0.0218 - accuracy: 0.958 - ETA: 1:58:37 - loss: 0.0218 - accuracy: 0.958 - ETA: 1:58:28 - loss: 0.0217 - accuracy: 0.958 - ETA: 1:58:20 - loss: 0.0217 - accuracy: 0.958 - ETA: 1:58:09 - loss: 0.0217 - accuracy: 0.958 - ETA: 1:57:59 - loss: 0.0216 - accuracy: 0.959 - ETA: 1:57:49 - loss: 0.0215 - accuracy: 0.959 - ETA: 1:57:39 - loss: 0.0215 - accuracy: 0.959 - ETA: 1:57:29 - loss: 0.0214 - accuracy: 0.959 - ETA: 1:57:18 - loss: 0.0214 - accuracy: 0.959 - ETA: 1:57:09 - loss: 0.0213 - accuracy: 0.959 - ETA: 1:56:59 - loss: 0.0213 - accuracy: 0.959 - ETA: 1:56:52 - loss: 0.0212 - accuracy: 0.959 - ETA: 1:56:45 - loss: 0.0211 - accuracy: 0.959 - ETA: 2:23:59 - loss: 0.0211 - accuracy: 0.959 - ETA: 2:23:45 - loss: 0.0210 - accuracy: 0.959 - ETA: 2:23:30 - loss: 0.0210 - accuracy: 0.959 - ETA: 2:23:16 - loss: 0.0209 - accuracy: 0.960 - ETA: 2:23:00 - loss: 0.0208 - accuracy: 0.960 - ETA: 2:22:44 - loss: 0.0208 - accuracy: 0.960 - ETA: 2:22:26 - loss: 0.0208 - accuracy: 0.960 - ETA: 2:22:05 - loss: 0.0207 - accuracy: 0.960 - ETA: 2:21:46 - loss: 0.0206 - accuracy: 0.960 - ETA: 2:21:27 - loss: 0.0206 - accuracy: 0.960 - ETA: 2:21:08 - loss: 0.0206 - accuracy: 0.960 - ETA: 2:20:48 - loss: 0.0205 - accuracy: 0.960 - ETA: 2:20:27 - loss: 0.0205 - accuracy: 0.960 - ETA: 2:20:05 - loss: 0.0205 - accuracy: 0.961 - ETA: 2:19:42 - loss: 0.0205 - accuracy: 0.960 - ETA: 2:19:20 - loss: 0.0205 - accuracy: 0.961 - ETA: 2:19:01 - loss: 0.0204 - accuracy: 0.961 - ETA: 2:18:44 - loss: 0.0204 - accuracy: 0.961 - ETA: 2:18:23 - loss: 0.0203 - accuracy: 0.961 - ETA: 2:18:03 - loss: 0.0203 - accuracy: 0.961 - ETA: 2:17:42 - loss: 0.0203 - accuracy: 0.961 - ETA: 2:17:21 - loss: 0.0202 - accuracy: 0.961 - ETA: 2:17:00 - loss: 0.0202 - accuracy: 0.961 - ETA: 2:16:38 - loss: 0.0201 - accuracy: 0.961 - ETA: 2:16:16 - loss: 0.0201 - accuracy: 0.961 - ETA: 2:15:54 - loss: 0.0201 - accuracy: 0.961 - ETA: 2:15:32 - loss: 0.0200 - accuracy: 0.961 - ETA: 2:15:10 - loss: 0.0200 - accuracy: 0.961 - ETA: 2:14:48 - loss: 0.0199 - accuracy: 0.961 - ETA: 2:14:27 - loss: 0.0199 - accuracy: 0.962 - ETA: 2:14:05 - loss: 0.0198 - accuracy: 0.962 - ETA: 2:13:44 - loss: 0.0198 - accuracy: 0.962 - ETA: 2:13:25 - loss: 0.0198 - accuracy: 0.962 - ETA: 2:13:09 - loss: 0.0197 - accuracy: 0.962 - ETA: 2:12:49 - loss: 0.0197 - accuracy: 0.962 - ETA: 2:12:29 - loss: 0.0196 - accuracy: 0.962 - ETA: 2:12:09 - loss: 0.0196 - accuracy: 0.962 - ETA: 2:11:48 - loss: 0.0195 - accuracy: 0.962 - ETA: 2:11:28 - loss: 0.0195 - accuracy: 0.962 - ETA: 2:11:07 - loss: 0.0195 - accuracy: 0.962 - ETA: 2:10:49 - loss: 0.0194 - accuracy: 0.963 - ETA: 2:10:30 - loss: 0.0194 - accuracy: 0.963 - ETA: 2:10:13 - loss: 0.0193 - accuracy: 0.963 - ETA: 2:09:55 - loss: 0.0193 - accuracy: 0.963 - ETA: 2:09:35 - loss: 0.0193 - accuracy: 0.963 - ETA: 2:09:16 - loss: 0.0192 - accuracy: 0.963 - ETA: 2:08:57 - loss: 0.0192 - accuracy: 0.963 - ETA: 2:08:39 - loss: 0.0192 - accuracy: 0.963 - ETA: 2:08:23 - loss: 0.0192 - accuracy: 0.963 - ETA: 2:08:06 - loss: 0.0191 - accuracy: 0.963 - ETA: 2:07:47 - loss: 0.0191 - accuracy: 0.963 - ETA: 2:07:28 - loss: 0.0191 - accuracy: 0.963 - ETA: 2:07:11 - loss: 0.0190 - accuracy: 0.963 - ETA: 2:06:52 - loss: 0.0190 - accuracy: 0.963 - ETA: 2:06:34 - loss: 0.0189 - accuracy: 0.963 - ETA: 2:06:17 - loss: 0.0189 - accuracy: 0.963 - ETA: 2:05:59 - loss: 0.0189 - accuracy: 0.963 - ETA: 2:05:41 - loss: 0.0188 - accuracy: 0.963 - ETA: 2:05:23 - loss: 0.0188 - accuracy: 0.964 - ETA: 2:05:06 - loss: 0.0188 - accuracy: 0.964 - ETA: 2:04:49 - loss: 0.0188 - accuracy: 0.964 - ETA: 2:04:33 - loss: 0.0187 - accuracy: 0.964 - ETA: 2:04:17 - loss: 0.0187 - accuracy: 0.964 - ETA: 2:04:01 - loss: 0.0187 - accuracy: 0.964 - ETA: 2:03:45 - loss: 0.0186 - accuracy: 0.964 - ETA: 2:03:30 - loss: 0.0186 - accuracy: 0.964 - ETA: 2:03:13 - loss: 0.0186 - accuracy: 0.964 - ETA: 2:02:56 - loss: 0.0186 - accuracy: 0.964 - ETA: 2:02:40 - loss: 0.0185 - accuracy: 0.964 - ETA: 2:02:23 - loss: 0.0185 - accuracy: 0.964 - ETA: 2:02:07 - loss: 0.0185 - accuracy: 0.964 - ETA: 2:01:51 - loss: 0.0184 - accuracy: 0.964 - ETA: 2:01:35 - loss: 0.0184 - accuracy: 0.964 - ETA: 2:01:18 - loss: 0.0184 - accuracy: 0.964 - ETA: 2:01:02 - loss: 0.0184 - accuracy: 0.964 - ETA: 2:00:45 - loss: 0.0184 - accuracy: 0.965 - ETA: 2:00:29 - loss: 0.0183 - accuracy: 0.965 - ETA: 2:00:14 - loss: 0.0183 - accuracy: 0.965 - ETA: 1:59:59 - loss: 0.0182 - accuracy: 0.965 - ETA: 1:59:42 - loss: 0.0182 - accuracy: 0.965 - ETA: 1:59:27 - loss: 0.0182 - accuracy: 0.965 - ETA: 1:59:11 - loss: 0.0182 - accuracy: 0.965 - ETA: 1:58:55 - loss: 0.0182 - accuracy: 0.965 - ETA: 1:58:40 - loss: 0.0181 - accuracy: 0.965 - ETA: 1:58:24 - loss: 0.0181 - accuracy: 0.965 - ETA: 1:58:08 - loss: 0.0181 - accuracy: 0.965 - ETA: 1:57:52 - loss: 0.0180 - accuracy: 0.965 - ETA: 1:57:36 - loss: 0.0180 - accuracy: 0.965 - ETA: 1:57:21 - loss: 0.0180 - accuracy: 0.965 - ETA: 1:57:05 - loss: 0.0179 - accuracy: 0.965 - ETA: 1:56:49 - loss: 0.0179 - accuracy: 0.965 - ETA: 1:56:33 - loss: 0.0179 - accuracy: 0.965 - ETA: 1:56:18 - loss: 0.0179 - accuracy: 0.965 - ETA: 1:56:02 - loss: 0.0179 - accuracy: 0.966 - ETA: 1:55:46 - loss: 0.0178 - accuracy: 0.966 - ETA: 1:55:31 - loss: 0.0178 - accuracy: 0.966 - ETA: 1:55:15 - loss: 0.0178 - accuracy: 0.966 - ETA: 1:54:59 - loss: 0.0178 - accuracy: 0.966 - ETA: 1:54:44 - loss: 0.0177 - accuracy: 0.966 - ETA: 1:54:30 - loss: 0.0177 - accuracy: 0.966 - ETA: 1:54:15 - loss: 0.0177 - accuracy: 0.966 - ETA: 1:54:00 - loss: 0.0176 - accuracy: 0.966 - ETA: 1:53:46 - loss: 0.0176 - accuracy: 0.966 - ETA: 1:53:31 - loss: 0.0176 - accuracy: 0.966 - ETA: 1:53:17 - loss: 0.0176 - accuracy: 0.966 - ETA: 1:53:02 - loss: 0.0176 - accuracy: 0.966 - ETA: 1:52:48 - loss: 0.0175 - accuracy: 0.966 - ETA: 1:52:33 - loss: 0.0175 - accuracy: 0.966 - ETA: 1:52:18 - loss: 0.0175 - accuracy: 0.9665"
     ]
    },
    {
     "name": "stdout",
     "output_type": "stream",
     "text": [
      " 8144/15457 [==============>...............] - ETA: 1:52:02 - loss: 0.0174 - accuracy: 0.966 - ETA: 1:51:47 - loss: 0.0174 - accuracy: 0.966 - ETA: 1:51:33 - loss: 0.0174 - accuracy: 0.966 - ETA: 1:51:18 - loss: 0.0174 - accuracy: 0.966 - ETA: 1:51:04 - loss: 0.0173 - accuracy: 0.966 - ETA: 1:50:50 - loss: 0.0173 - accuracy: 0.966 - ETA: 1:50:35 - loss: 0.0173 - accuracy: 0.966 - ETA: 1:50:20 - loss: 0.0172 - accuracy: 0.966 - ETA: 1:50:06 - loss: 0.0172 - accuracy: 0.967 - ETA: 1:49:52 - loss: 0.0172 - accuracy: 0.967 - ETA: 1:49:38 - loss: 0.0172 - accuracy: 0.967 - ETA: 1:49:23 - loss: 0.0171 - accuracy: 0.967 - ETA: 1:49:09 - loss: 0.0171 - accuracy: 0.967 - ETA: 1:48:55 - loss: 0.0171 - accuracy: 0.967 - ETA: 1:48:40 - loss: 0.0170 - accuracy: 0.967 - ETA: 1:48:26 - loss: 0.0171 - accuracy: 0.967 - ETA: 1:48:12 - loss: 0.0170 - accuracy: 0.967 - ETA: 1:47:58 - loss: 0.0170 - accuracy: 0.967 - ETA: 1:47:44 - loss: 0.0170 - accuracy: 0.967 - ETA: 1:47:31 - loss: 0.0170 - accuracy: 0.967 - ETA: 1:47:16 - loss: 0.0169 - accuracy: 0.967 - ETA: 1:47:03 - loss: 0.0169 - accuracy: 0.967 - ETA: 1:46:49 - loss: 0.0169 - accuracy: 0.967 - ETA: 1:46:36 - loss: 0.0169 - accuracy: 0.967 - ETA: 1:46:22 - loss: 0.0168 - accuracy: 0.967 - ETA: 1:46:08 - loss: 0.0168 - accuracy: 0.967 - ETA: 1:45:55 - loss: 0.0168 - accuracy: 0.967 - ETA: 1:45:42 - loss: 0.0168 - accuracy: 0.967 - ETA: 1:45:30 - loss: 0.0168 - accuracy: 0.967 - ETA: 1:45:19 - loss: 0.0168 - accuracy: 0.967 - ETA: 1:45:06 - loss: 0.0167 - accuracy: 0.968 - ETA: 1:44:52 - loss: 0.0167 - accuracy: 0.968 - ETA: 1:44:40 - loss: 0.0167 - accuracy: 0.968 - ETA: 1:44:27 - loss: 0.0167 - accuracy: 0.968 - ETA: 1:44:14 - loss: 0.0166 - accuracy: 0.968 - ETA: 1:44:01 - loss: 0.0166 - accuracy: 0.968 - ETA: 1:43:47 - loss: 0.0166 - accuracy: 0.968 - ETA: 1:43:33 - loss: 0.0166 - accuracy: 0.968 - ETA: 1:43:20 - loss: 0.0165 - accuracy: 0.968 - ETA: 1:43:07 - loss: 0.0166 - accuracy: 0.968 - ETA: 1:42:54 - loss: 0.0165 - accuracy: 0.968 - ETA: 1:42:42 - loss: 0.0165 - accuracy: 0.968 - ETA: 1:42:29 - loss: 0.0165 - accuracy: 0.968 - ETA: 1:42:16 - loss: 0.0165 - accuracy: 0.968 - ETA: 1:42:03 - loss: 0.0164 - accuracy: 0.968 - ETA: 1:41:50 - loss: 0.0164 - accuracy: 0.968 - ETA: 1:41:37 - loss: 0.0164 - accuracy: 0.968 - ETA: 1:41:24 - loss: 0.0164 - accuracy: 0.968 - ETA: 1:41:12 - loss: 0.0164 - accuracy: 0.968 - ETA: 1:40:59 - loss: 0.0163 - accuracy: 0.968 - ETA: 1:40:45 - loss: 0.0163 - accuracy: 0.968 - ETA: 1:40:32 - loss: 0.0163 - accuracy: 0.968 - ETA: 1:40:19 - loss: 0.0162 - accuracy: 0.968 - ETA: 1:40:06 - loss: 0.0162 - accuracy: 0.968 - ETA: 1:39:54 - loss: 0.0162 - accuracy: 0.968 - ETA: 1:39:41 - loss: 0.0162 - accuracy: 0.968 - ETA: 1:39:28 - loss: 0.0162 - accuracy: 0.968 - ETA: 1:39:16 - loss: 0.0162 - accuracy: 0.968 - ETA: 1:39:04 - loss: 0.0162 - accuracy: 0.969 - ETA: 1:38:53 - loss: 0.0161 - accuracy: 0.969 - ETA: 1:38:40 - loss: 0.0161 - accuracy: 0.969 - ETA: 1:38:29 - loss: 0.0161 - accuracy: 0.969 - ETA: 1:38:17 - loss: 0.0160 - accuracy: 0.969 - ETA: 1:38:05 - loss: 0.0160 - accuracy: 0.969 - ETA: 1:37:53 - loss: 0.0160 - accuracy: 0.969 - ETA: 1:37:41 - loss: 0.0160 - accuracy: 0.969 - ETA: 1:37:30 - loss: 0.0160 - accuracy: 0.969 - ETA: 1:37:18 - loss: 0.0160 - accuracy: 0.969 - ETA: 1:37:08 - loss: 0.0160 - accuracy: 0.969 - ETA: 1:36:57 - loss: 0.0159 - accuracy: 0.969 - ETA: 1:36:46 - loss: 0.0159 - accuracy: 0.969 - ETA: 1:36:34 - loss: 0.0159 - accuracy: 0.969 - ETA: 1:36:23 - loss: 0.0159 - accuracy: 0.969 - ETA: 1:36:11 - loss: 0.0159 - accuracy: 0.969 - ETA: 1:35:59 - loss: 0.0159 - accuracy: 0.969 - ETA: 1:35:47 - loss: 0.0159 - accuracy: 0.969 - ETA: 1:35:35 - loss: 0.0158 - accuracy: 0.969 - ETA: 1:35:23 - loss: 0.0158 - accuracy: 0.969 - ETA: 1:35:12 - loss: 0.0158 - accuracy: 0.969 - ETA: 1:35:00 - loss: 0.0158 - accuracy: 0.969 - ETA: 1:34:48 - loss: 0.0158 - accuracy: 0.969 - ETA: 1:34:36 - loss: 0.0158 - accuracy: 0.969 - ETA: 1:34:24 - loss: 0.0158 - accuracy: 0.969 - ETA: 1:34:12 - loss: 0.0158 - accuracy: 0.969 - ETA: 1:33:59 - loss: 0.0158 - accuracy: 0.969 - ETA: 1:33:46 - loss: 0.0158 - accuracy: 0.969 - ETA: 1:33:34 - loss: 0.0158 - accuracy: 0.969 - ETA: 1:33:22 - loss: 0.0158 - accuracy: 0.969 - ETA: 1:33:11 - loss: 0.0157 - accuracy: 0.969 - ETA: 1:32:59 - loss: 0.0157 - accuracy: 0.969 - ETA: 1:32:48 - loss: 0.0157 - accuracy: 0.969 - ETA: 1:32:36 - loss: 0.0157 - accuracy: 0.969 - ETA: 1:32:24 - loss: 0.0157 - accuracy: 0.969 - ETA: 1:32:12 - loss: 0.0157 - accuracy: 0.970 - ETA: 1:32:00 - loss: 0.0157 - accuracy: 0.970 - ETA: 1:31:49 - loss: 0.0156 - accuracy: 0.970 - ETA: 1:31:37 - loss: 0.0157 - accuracy: 0.970 - ETA: 1:31:25 - loss: 0.0157 - accuracy: 0.970 - ETA: 1:31:13 - loss: 0.0156 - accuracy: 0.970 - ETA: 1:31:00 - loss: 0.0156 - accuracy: 0.970 - ETA: 1:30:49 - loss: 0.0156 - accuracy: 0.970 - ETA: 1:30:37 - loss: 0.0156 - accuracy: 0.970 - ETA: 1:30:26 - loss: 0.0155 - accuracy: 0.970 - ETA: 1:30:14 - loss: 0.0155 - accuracy: 0.970 - ETA: 1:30:02 - loss: 0.0155 - accuracy: 0.970 - ETA: 1:29:50 - loss: 0.0155 - accuracy: 0.970 - ETA: 1:29:38 - loss: 0.0155 - accuracy: 0.970 - ETA: 1:29:27 - loss: 0.0154 - accuracy: 0.970 - ETA: 1:29:16 - loss: 0.0154 - accuracy: 0.970 - ETA: 1:29:04 - loss: 0.0154 - accuracy: 0.970 - ETA: 1:28:52 - loss: 0.0154 - accuracy: 0.970 - ETA: 1:28:40 - loss: 0.0154 - accuracy: 0.970 - ETA: 1:28:28 - loss: 0.0153 - accuracy: 0.970 - ETA: 1:28:16 - loss: 0.0153 - accuracy: 0.970 - ETA: 1:28:05 - loss: 0.0153 - accuracy: 0.970 - ETA: 1:27:53 - loss: 0.0153 - accuracy: 0.970 - ETA: 1:27:41 - loss: 0.0153 - accuracy: 0.970 - ETA: 1:27:29 - loss: 0.0153 - accuracy: 0.970 - ETA: 1:27:18 - loss: 0.0152 - accuracy: 0.970 - ETA: 1:27:06 - loss: 0.0152 - accuracy: 0.970 - ETA: 1:26:54 - loss: 0.0152 - accuracy: 0.970 - ETA: 1:26:43 - loss: 0.0152 - accuracy: 0.970 - ETA: 1:26:31 - loss: 0.0152 - accuracy: 0.970 - ETA: 1:26:20 - loss: 0.0152 - accuracy: 0.970 - ETA: 1:26:08 - loss: 0.0152 - accuracy: 0.970 - ETA: 1:25:57 - loss: 0.0152 - accuracy: 0.970 - ETA: 1:25:45 - loss: 0.0151 - accuracy: 0.970 - ETA: 1:25:33 - loss: 0.0151 - accuracy: 0.971 - ETA: 1:25:21 - loss: 0.0151 - accuracy: 0.971 - ETA: 1:25:10 - loss: 0.0151 - accuracy: 0.971 - ETA: 1:24:59 - loss: 0.0151 - accuracy: 0.971 - ETA: 1:24:48 - loss: 0.0151 - accuracy: 0.971 - ETA: 1:24:37 - loss: 0.0150 - accuracy: 0.971 - ETA: 1:24:25 - loss: 0.0150 - accuracy: 0.971 - ETA: 1:24:14 - loss: 0.0150 - accuracy: 0.971 - ETA: 1:24:03 - loss: 0.0150 - accuracy: 0.971 - ETA: 1:23:51 - loss: 0.0150 - accuracy: 0.971 - ETA: 1:23:40 - loss: 0.0150 - accuracy: 0.971 - ETA: 1:23:29 - loss: 0.0150 - accuracy: 0.971 - ETA: 1:23:17 - loss: 0.0150 - accuracy: 0.971 - ETA: 1:23:06 - loss: 0.0150 - accuracy: 0.971 - ETA: 1:22:54 - loss: 0.0150 - accuracy: 0.971 - ETA: 1:22:43 - loss: 0.0149 - accuracy: 0.971 - ETA: 1:22:31 - loss: 0.0149 - accuracy: 0.971 - ETA: 1:22:20 - loss: 0.0149 - accuracy: 0.971 - ETA: 1:22:09 - loss: 0.0149 - accuracy: 0.971 - ETA: 1:21:57 - loss: 0.0148 - accuracy: 0.971 - ETA: 1:21:46 - loss: 0.0148 - accuracy: 0.971 - ETA: 1:21:34 - loss: 0.0148 - accuracy: 0.971 - ETA: 1:21:23 - loss: 0.0148 - accuracy: 0.971 - ETA: 1:21:11 - loss: 0.0148 - accuracy: 0.971 - ETA: 1:21:00 - loss: 0.0148 - accuracy: 0.971 - ETA: 1:20:49 - loss: 0.0148 - accuracy: 0.971 - ETA: 1:20:38 - loss: 0.0148 - accuracy: 0.971 - ETA: 1:20:27 - loss: 0.0148 - accuracy: 0.971 - ETA: 1:20:16 - loss: 0.0148 - accuracy: 0.971 - ETA: 1:20:04 - loss: 0.0148 - accuracy: 0.971 - ETA: 1:19:54 - loss: 0.0147 - accuracy: 0.971 - ETA: 1:19:42 - loss: 0.0147 - accuracy: 0.971 - ETA: 1:19:31 - loss: 0.0147 - accuracy: 0.972 - ETA: 1:19:20 - loss: 0.0147 - accuracy: 0.972 - ETA: 1:19:09 - loss: 0.0147 - accuracy: 0.972 - ETA: 1:18:57 - loss: 0.0146 - accuracy: 0.972 - ETA: 1:18:46 - loss: 0.0146 - accuracy: 0.972 - ETA: 1:18:35 - loss: 0.0146 - accuracy: 0.972 - ETA: 1:18:24 - loss: 0.0146 - accuracy: 0.972 - ETA: 1:18:12 - loss: 0.0146 - accuracy: 0.972 - ETA: 1:18:01 - loss: 0.0146 - accuracy: 0.972 - ETA: 1:17:51 - loss: 0.0146 - accuracy: 0.972 - ETA: 1:17:40 - loss: 0.0146 - accuracy: 0.9722"
     ]
    },
    {
     "name": "stdout",
     "output_type": "stream",
     "text": [
      "10912/15457 [====================>.........] - ETA: 1:17:29 - loss: 0.0146 - accuracy: 0.972 - ETA: 1:17:18 - loss: 0.0145 - accuracy: 0.972 - ETA: 1:17:07 - loss: 0.0145 - accuracy: 0.972 - ETA: 1:16:56 - loss: 0.0145 - accuracy: 0.972 - ETA: 1:16:45 - loss: 0.0145 - accuracy: 0.972 - ETA: 1:16:34 - loss: 0.0145 - accuracy: 0.972 - ETA: 1:16:23 - loss: 0.0145 - accuracy: 0.972 - ETA: 1:16:12 - loss: 0.0145 - accuracy: 0.972 - ETA: 1:16:01 - loss: 0.0144 - accuracy: 0.972 - ETA: 1:15:50 - loss: 0.0145 - accuracy: 0.972 - ETA: 1:15:39 - loss: 0.0144 - accuracy: 0.972 - ETA: 1:15:28 - loss: 0.0144 - accuracy: 0.972 - ETA: 1:15:17 - loss: 0.0144 - accuracy: 0.972 - ETA: 1:15:06 - loss: 0.0144 - accuracy: 0.972 - ETA: 1:14:55 - loss: 0.0144 - accuracy: 0.972 - ETA: 1:14:44 - loss: 0.0144 - accuracy: 0.972 - ETA: 1:14:32 - loss: 0.0144 - accuracy: 0.972 - ETA: 1:14:21 - loss: 0.0144 - accuracy: 0.972 - ETA: 1:14:10 - loss: 0.0144 - accuracy: 0.972 - ETA: 1:13:59 - loss: 0.0144 - accuracy: 0.972 - ETA: 1:13:48 - loss: 0.0143 - accuracy: 0.972 - ETA: 1:13:37 - loss: 0.0144 - accuracy: 0.972 - ETA: 1:13:27 - loss: 0.0143 - accuracy: 0.972 - ETA: 1:13:16 - loss: 0.0143 - accuracy: 0.972 - ETA: 1:13:05 - loss: 0.0143 - accuracy: 0.972 - ETA: 1:12:54 - loss: 0.0143 - accuracy: 0.972 - ETA: 1:12:43 - loss: 0.0143 - accuracy: 0.972 - ETA: 1:12:32 - loss: 0.0143 - accuracy: 0.972 - ETA: 1:12:21 - loss: 0.0143 - accuracy: 0.972 - ETA: 1:12:10 - loss: 0.0143 - accuracy: 0.972 - ETA: 1:11:59 - loss: 0.0143 - accuracy: 0.972 - ETA: 1:11:49 - loss: 0.0143 - accuracy: 0.972 - ETA: 1:11:38 - loss: 0.0143 - accuracy: 0.972 - ETA: 1:11:27 - loss: 0.0143 - accuracy: 0.972 - ETA: 1:11:16 - loss: 0.0143 - accuracy: 0.972 - ETA: 1:11:06 - loss: 0.0142 - accuracy: 0.972 - ETA: 1:10:55 - loss: 0.0142 - accuracy: 0.972 - ETA: 1:10:44 - loss: 0.0142 - accuracy: 0.972 - ETA: 1:10:34 - loss: 0.0142 - accuracy: 0.972 - ETA: 1:10:23 - loss: 0.0142 - accuracy: 0.972 - ETA: 1:10:12 - loss: 0.0142 - accuracy: 0.972 - ETA: 1:10:01 - loss: 0.0142 - accuracy: 0.972 - ETA: 1:09:50 - loss: 0.0142 - accuracy: 0.972 - ETA: 1:09:39 - loss: 0.0142 - accuracy: 0.972 - ETA: 1:09:29 - loss: 0.0141 - accuracy: 0.973 - ETA: 1:09:18 - loss: 0.0142 - accuracy: 0.972 - ETA: 1:09:07 - loss: 0.0141 - accuracy: 0.972 - ETA: 1:08:57 - loss: 0.0141 - accuracy: 0.973 - ETA: 1:08:46 - loss: 0.0141 - accuracy: 0.973 - ETA: 1:08:36 - loss: 0.0141 - accuracy: 0.973 - ETA: 1:08:25 - loss: 0.0141 - accuracy: 0.973 - ETA: 1:08:15 - loss: 0.0141 - accuracy: 0.973 - ETA: 1:08:04 - loss: 0.0141 - accuracy: 0.973 - ETA: 1:07:53 - loss: 0.0141 - accuracy: 0.973 - ETA: 1:07:42 - loss: 0.0141 - accuracy: 0.973 - ETA: 1:07:32 - loss: 0.0141 - accuracy: 0.973 - ETA: 1:07:21 - loss: 0.0141 - accuracy: 0.973 - ETA: 1:07:11 - loss: 0.0141 - accuracy: 0.973 - ETA: 1:07:00 - loss: 0.0141 - accuracy: 0.973 - ETA: 1:06:49 - loss: 0.0141 - accuracy: 0.973 - ETA: 1:06:39 - loss: 0.0140 - accuracy: 0.973 - ETA: 1:06:28 - loss: 0.0140 - accuracy: 0.973 - ETA: 1:06:18 - loss: 0.0140 - accuracy: 0.973 - ETA: 1:06:09 - loss: 0.0140 - accuracy: 0.973 - ETA: 1:05:59 - loss: 0.0140 - accuracy: 0.973 - ETA: 1:05:49 - loss: 0.0140 - accuracy: 0.973 - ETA: 1:05:39 - loss: 0.0140 - accuracy: 0.973 - ETA: 1:05:28 - loss: 0.0140 - accuracy: 0.973 - ETA: 1:05:18 - loss: 0.0140 - accuracy: 0.973 - ETA: 1:05:08 - loss: 0.0140 - accuracy: 0.973 - ETA: 1:04:57 - loss: 0.0140 - accuracy: 0.973 - ETA: 1:04:46 - loss: 0.0139 - accuracy: 0.973 - ETA: 1:04:36 - loss: 0.0139 - accuracy: 0.973 - ETA: 1:04:25 - loss: 0.0139 - accuracy: 0.973 - ETA: 1:04:15 - loss: 0.0139 - accuracy: 0.973 - ETA: 1:04:04 - loss: 0.0139 - accuracy: 0.973 - ETA: 1:03:54 - loss: 0.0139 - accuracy: 0.973 - ETA: 1:03:43 - loss: 0.0139 - accuracy: 0.973 - ETA: 1:03:32 - loss: 0.0139 - accuracy: 0.973 - ETA: 1:03:22 - loss: 0.0139 - accuracy: 0.973 - ETA: 1:03:11 - loss: 0.0139 - accuracy: 0.973 - ETA: 1:03:00 - loss: 0.0138 - accuracy: 0.973 - ETA: 1:02:50 - loss: 0.0138 - accuracy: 0.973 - ETA: 1:02:39 - loss: 0.0138 - accuracy: 0.973 - ETA: 1:02:29 - loss: 0.0138 - accuracy: 0.973 - ETA: 1:02:18 - loss: 0.0138 - accuracy: 0.973 - ETA: 1:02:08 - loss: 0.0138 - accuracy: 0.973 - ETA: 1:01:57 - loss: 0.0138 - accuracy: 0.973 - ETA: 1:01:47 - loss: 0.0138 - accuracy: 0.973 - ETA: 1:01:36 - loss: 0.0138 - accuracy: 0.973 - ETA: 1:01:26 - loss: 0.0137 - accuracy: 0.973 - ETA: 1:01:15 - loss: 0.0137 - accuracy: 0.973 - ETA: 1:01:05 - loss: 0.0137 - accuracy: 0.973 - ETA: 1:00:54 - loss: 0.0137 - accuracy: 0.973 - ETA: 1:00:44 - loss: 0.0137 - accuracy: 0.973 - ETA: 1:00:33 - loss: 0.0137 - accuracy: 0.973 - ETA: 1:00:23 - loss: 0.0137 - accuracy: 0.973 - ETA: 1:00:12 - loss: 0.0137 - accuracy: 0.974 - ETA: 1:00:02 - loss: 0.0137 - accuracy: 0.974 - ETA: 59:52 - loss: 0.0137 - accuracy: 0.9740  - ETA: 59:41 - loss: 0.0137 - accuracy: 0.974 - ETA: 59:31 - loss: 0.0136 - accuracy: 0.974 - ETA: 59:20 - loss: 0.0136 - accuracy: 0.974 - ETA: 59:10 - loss: 0.0136 - accuracy: 0.974 - ETA: 58:59 - loss: 0.0136 - accuracy: 0.974 - ETA: 58:49 - loss: 0.0136 - accuracy: 0.974 - ETA: 58:38 - loss: 0.0136 - accuracy: 0.974 - ETA: 58:28 - loss: 0.0136 - accuracy: 0.974 - ETA: 58:18 - loss: 0.0136 - accuracy: 0.974 - ETA: 58:08 - loss: 0.0136 - accuracy: 0.974 - ETA: 57:57 - loss: 0.0136 - accuracy: 0.974 - ETA: 57:47 - loss: 0.0136 - accuracy: 0.974 - ETA: 57:37 - loss: 0.0136 - accuracy: 0.974 - ETA: 57:27 - loss: 0.0136 - accuracy: 0.974 - ETA: 57:17 - loss: 0.0136 - accuracy: 0.974 - ETA: 57:07 - loss: 0.0135 - accuracy: 0.974 - ETA: 56:57 - loss: 0.0135 - accuracy: 0.974 - ETA: 56:47 - loss: 0.0135 - accuracy: 0.974 - ETA: 56:37 - loss: 0.0135 - accuracy: 0.974 - ETA: 56:26 - loss: 0.0135 - accuracy: 0.974 - ETA: 56:16 - loss: 0.0135 - accuracy: 0.974 - ETA: 56:06 - loss: 0.0135 - accuracy: 0.974 - ETA: 55:55 - loss: 0.0135 - accuracy: 0.974 - ETA: 55:45 - loss: 0.0135 - accuracy: 0.974 - ETA: 55:35 - loss: 0.0135 - accuracy: 0.974 - ETA: 55:24 - loss: 0.0135 - accuracy: 0.974 - ETA: 55:14 - loss: 0.0135 - accuracy: 0.974 - ETA: 55:04 - loss: 0.0135 - accuracy: 0.974 - ETA: 54:53 - loss: 0.0135 - accuracy: 0.974 - ETA: 54:43 - loss: 0.0135 - accuracy: 0.974 - ETA: 54:33 - loss: 0.0135 - accuracy: 0.974 - ETA: 54:23 - loss: 0.0135 - accuracy: 0.974 - ETA: 54:13 - loss: 0.0135 - accuracy: 0.974 - ETA: 54:03 - loss: 0.0135 - accuracy: 0.974 - ETA: 53:53 - loss: 0.0135 - accuracy: 0.974 - ETA: 53:43 - loss: 0.0135 - accuracy: 0.974 - ETA: 53:33 - loss: 0.0135 - accuracy: 0.974 - ETA: 53:23 - loss: 0.0134 - accuracy: 0.974 - ETA: 53:12 - loss: 0.0134 - accuracy: 0.974 - ETA: 53:02 - loss: 0.0134 - accuracy: 0.974 - ETA: 52:52 - loss: 0.0134 - accuracy: 0.974 - ETA: 52:41 - loss: 0.0134 - accuracy: 0.974 - ETA: 52:31 - loss: 0.0134 - accuracy: 0.974 - ETA: 52:21 - loss: 0.0134 - accuracy: 0.974 - ETA: 52:10 - loss: 0.0134 - accuracy: 0.974 - ETA: 52:00 - loss: 0.0134 - accuracy: 0.974 - ETA: 51:49 - loss: 0.0134 - accuracy: 0.974 - ETA: 51:39 - loss: 0.0134 - accuracy: 0.974 - ETA: 51:29 - loss: 0.0134 - accuracy: 0.974 - ETA: 51:19 - loss: 0.0133 - accuracy: 0.974 - ETA: 51:08 - loss: 0.0133 - accuracy: 0.974 - ETA: 50:58 - loss: 0.0133 - accuracy: 0.974 - ETA: 50:47 - loss: 0.0133 - accuracy: 0.974 - ETA: 50:37 - loss: 0.0133 - accuracy: 0.974 - ETA: 50:27 - loss: 0.0133 - accuracy: 0.974 - ETA: 50:17 - loss: 0.0133 - accuracy: 0.974 - ETA: 50:06 - loss: 0.0133 - accuracy: 0.974 - ETA: 49:56 - loss: 0.0133 - accuracy: 0.974 - ETA: 49:46 - loss: 0.0133 - accuracy: 0.974 - ETA: 49:35 - loss: 0.0133 - accuracy: 0.974 - ETA: 49:25 - loss: 0.0133 - accuracy: 0.974 - ETA: 49:15 - loss: 0.0132 - accuracy: 0.974 - ETA: 49:05 - loss: 0.0132 - accuracy: 0.974 - ETA: 48:54 - loss: 0.0132 - accuracy: 0.974 - ETA: 48:44 - loss: 0.0132 - accuracy: 0.974 - ETA: 48:34 - loss: 0.0132 - accuracy: 0.975 - ETA: 48:23 - loss: 0.0132 - accuracy: 0.975 - ETA: 48:13 - loss: 0.0132 - accuracy: 0.975 - ETA: 48:03 - loss: 0.0132 - accuracy: 0.975 - ETA: 47:52 - loss: 0.0132 - accuracy: 0.975 - ETA: 47:42 - loss: 0.0132 - accuracy: 0.975 - ETA: 47:32 - loss: 0.0132 - accuracy: 0.975 - ETA: 47:21 - loss: 0.0132 - accuracy: 0.9751"
     ]
    },
    {
     "name": "stdout",
     "output_type": "stream",
     "text": [
      "13760/15457 [=========================>....] - ETA: 47:11 - loss: 0.0131 - accuracy: 0.975 - ETA: 47:01 - loss: 0.0131 - accuracy: 0.975 - ETA: 46:51 - loss: 0.0131 - accuracy: 0.975 - ETA: 46:41 - loss: 0.0131 - accuracy: 0.975 - ETA: 46:31 - loss: 0.0131 - accuracy: 0.975 - ETA: 46:21 - loss: 0.0131 - accuracy: 0.975 - ETA: 46:10 - loss: 0.0131 - accuracy: 0.975 - ETA: 46:00 - loss: 0.0131 - accuracy: 0.975 - ETA: 45:50 - loss: 0.0131 - accuracy: 0.975 - ETA: 45:40 - loss: 0.0131 - accuracy: 0.975 - ETA: 45:29 - loss: 0.0131 - accuracy: 0.975 - ETA: 45:19 - loss: 0.0131 - accuracy: 0.975 - ETA: 45:09 - loss: 0.0131 - accuracy: 0.975 - ETA: 44:59 - loss: 0.0130 - accuracy: 0.975 - ETA: 44:48 - loss: 0.0130 - accuracy: 0.975 - ETA: 44:38 - loss: 0.0130 - accuracy: 0.975 - ETA: 44:28 - loss: 0.0130 - accuracy: 0.975 - ETA: 44:18 - loss: 0.0130 - accuracy: 0.975 - ETA: 44:08 - loss: 0.0130 - accuracy: 0.975 - ETA: 43:58 - loss: 0.0130 - accuracy: 0.975 - ETA: 43:48 - loss: 0.0130 - accuracy: 0.975 - ETA: 43:38 - loss: 0.0130 - accuracy: 0.975 - ETA: 43:28 - loss: 0.0130 - accuracy: 0.975 - ETA: 43:17 - loss: 0.0130 - accuracy: 0.975 - ETA: 43:07 - loss: 0.0130 - accuracy: 0.975 - ETA: 42:57 - loss: 0.0130 - accuracy: 0.975 - ETA: 42:47 - loss: 0.0129 - accuracy: 0.975 - ETA: 42:36 - loss: 0.0129 - accuracy: 0.975 - ETA: 42:26 - loss: 0.0129 - accuracy: 0.975 - ETA: 42:16 - loss: 0.0129 - accuracy: 0.975 - ETA: 42:06 - loss: 0.0129 - accuracy: 0.975 - ETA: 41:56 - loss: 0.0129 - accuracy: 0.975 - ETA: 41:45 - loss: 0.0129 - accuracy: 0.975 - ETA: 41:35 - loss: 0.0129 - accuracy: 0.975 - ETA: 41:25 - loss: 0.0129 - accuracy: 0.975 - ETA: 41:15 - loss: 0.0129 - accuracy: 0.975 - ETA: 41:05 - loss: 0.0129 - accuracy: 0.975 - ETA: 40:55 - loss: 0.0129 - accuracy: 0.975 - ETA: 40:45 - loss: 0.0129 - accuracy: 0.975 - ETA: 40:34 - loss: 0.0129 - accuracy: 0.975 - ETA: 40:24 - loss: 0.0129 - accuracy: 0.975 - ETA: 40:14 - loss: 0.0129 - accuracy: 0.975 - ETA: 40:04 - loss: 0.0129 - accuracy: 0.975 - ETA: 39:54 - loss: 0.0129 - accuracy: 0.975 - ETA: 39:44 - loss: 0.0129 - accuracy: 0.975 - ETA: 39:33 - loss: 0.0129 - accuracy: 0.975 - ETA: 39:23 - loss: 0.0129 - accuracy: 0.975 - ETA: 39:13 - loss: 0.0128 - accuracy: 0.975 - ETA: 39:03 - loss: 0.0128 - accuracy: 0.975 - ETA: 38:53 - loss: 0.0128 - accuracy: 0.975 - ETA: 38:42 - loss: 0.0128 - accuracy: 0.975 - ETA: 38:32 - loss: 0.0128 - accuracy: 0.975 - ETA: 38:22 - loss: 0.0128 - accuracy: 0.975 - ETA: 38:12 - loss: 0.0128 - accuracy: 0.975 - ETA: 38:02 - loss: 0.0128 - accuracy: 0.975 - ETA: 37:52 - loss: 0.0128 - accuracy: 0.975 - ETA: 37:42 - loss: 0.0128 - accuracy: 0.975 - ETA: 37:31 - loss: 0.0128 - accuracy: 0.975 - ETA: 37:21 - loss: 0.0128 - accuracy: 0.975 - ETA: 37:11 - loss: 0.0128 - accuracy: 0.975 - ETA: 37:01 - loss: 0.0128 - accuracy: 0.975 - ETA: 36:51 - loss: 0.0128 - accuracy: 0.975 - ETA: 36:41 - loss: 0.0128 - accuracy: 0.975 - ETA: 36:31 - loss: 0.0128 - accuracy: 0.975 - ETA: 36:21 - loss: 0.0128 - accuracy: 0.975 - ETA: 36:11 - loss: 0.0128 - accuracy: 0.975 - ETA: 36:01 - loss: 0.0128 - accuracy: 0.975 - ETA: 35:50 - loss: 0.0127 - accuracy: 0.975 - ETA: 35:40 - loss: 0.0127 - accuracy: 0.975 - ETA: 35:30 - loss: 0.0127 - accuracy: 0.975 - ETA: 35:20 - loss: 0.0127 - accuracy: 0.975 - ETA: 35:10 - loss: 0.0127 - accuracy: 0.976 - ETA: 35:00 - loss: 0.0127 - accuracy: 0.976 - ETA: 34:50 - loss: 0.0127 - accuracy: 0.976 - ETA: 34:40 - loss: 0.0127 - accuracy: 0.976 - ETA: 34:30 - loss: 0.0127 - accuracy: 0.976 - ETA: 34:20 - loss: 0.0127 - accuracy: 0.976 - ETA: 34:09 - loss: 0.0127 - accuracy: 0.976 - ETA: 33:59 - loss: 0.0127 - accuracy: 0.976 - ETA: 33:49 - loss: 0.0127 - accuracy: 0.976 - ETA: 33:39 - loss: 0.0126 - accuracy: 0.976 - ETA: 33:29 - loss: 0.0127 - accuracy: 0.976 - ETA: 33:19 - loss: 0.0126 - accuracy: 0.976 - ETA: 33:09 - loss: 0.0126 - accuracy: 0.976 - ETA: 32:59 - loss: 0.0126 - accuracy: 0.976 - ETA: 32:49 - loss: 0.0126 - accuracy: 0.976 - ETA: 32:39 - loss: 0.0126 - accuracy: 0.976 - ETA: 32:29 - loss: 0.0126 - accuracy: 0.976 - ETA: 32:19 - loss: 0.0126 - accuracy: 0.976 - ETA: 32:09 - loss: 0.0126 - accuracy: 0.976 - ETA: 31:59 - loss: 0.0126 - accuracy: 0.976 - ETA: 31:49 - loss: 0.0126 - accuracy: 0.976 - ETA: 31:38 - loss: 0.0126 - accuracy: 0.976 - ETA: 31:28 - loss: 0.0126 - accuracy: 0.976 - ETA: 31:18 - loss: 0.0126 - accuracy: 0.976 - ETA: 31:08 - loss: 0.0125 - accuracy: 0.976 - ETA: 30:58 - loss: 0.0125 - accuracy: 0.976 - ETA: 30:48 - loss: 0.0125 - accuracy: 0.976 - ETA: 30:38 - loss: 0.0125 - accuracy: 0.976 - ETA: 30:28 - loss: 0.0125 - accuracy: 0.976 - ETA: 30:18 - loss: 0.0125 - accuracy: 0.976 - ETA: 30:08 - loss: 0.0125 - accuracy: 0.976 - ETA: 29:58 - loss: 0.0125 - accuracy: 0.976 - ETA: 29:48 - loss: 0.0125 - accuracy: 0.976 - ETA: 29:38 - loss: 0.0125 - accuracy: 0.976 - ETA: 29:28 - loss: 0.0125 - accuracy: 0.976 - ETA: 29:17 - loss: 0.0125 - accuracy: 0.976 - ETA: 29:07 - loss: 0.0125 - accuracy: 0.976 - ETA: 28:57 - loss: 0.0124 - accuracy: 0.976 - ETA: 28:47 - loss: 0.0124 - accuracy: 0.976 - ETA: 28:37 - loss: 0.0124 - accuracy: 0.976 - ETA: 28:27 - loss: 0.0124 - accuracy: 0.976 - ETA: 28:17 - loss: 0.0124 - accuracy: 0.976 - ETA: 28:07 - loss: 0.0124 - accuracy: 0.976 - ETA: 27:57 - loss: 0.0124 - accuracy: 0.976 - ETA: 27:47 - loss: 0.0124 - accuracy: 0.976 - ETA: 27:37 - loss: 0.0124 - accuracy: 0.976 - ETA: 27:27 - loss: 0.0124 - accuracy: 0.976 - ETA: 27:17 - loss: 0.0124 - accuracy: 0.976 - ETA: 27:07 - loss: 0.0124 - accuracy: 0.976 - ETA: 26:57 - loss: 0.0123 - accuracy: 0.976 - ETA: 26:47 - loss: 0.0123 - accuracy: 0.976 - ETA: 26:37 - loss: 0.0123 - accuracy: 0.976 - ETA: 26:27 - loss: 0.0123 - accuracy: 0.976 - ETA: 26:17 - loss: 0.0123 - accuracy: 0.976 - ETA: 26:07 - loss: 0.0123 - accuracy: 0.976 - ETA: 25:57 - loss: 0.0123 - accuracy: 0.976 - ETA: 25:47 - loss: 0.0123 - accuracy: 0.976 - ETA: 25:37 - loss: 0.0123 - accuracy: 0.976 - ETA: 25:27 - loss: 0.0123 - accuracy: 0.976 - ETA: 25:17 - loss: 0.0123 - accuracy: 0.976 - ETA: 25:07 - loss: 0.0123 - accuracy: 0.977 - ETA: 24:57 - loss: 0.0123 - accuracy: 0.977 - ETA: 24:47 - loss: 0.0123 - accuracy: 0.977 - ETA: 24:37 - loss: 0.0123 - accuracy: 0.977 - ETA: 24:27 - loss: 0.0123 - accuracy: 0.977 - ETA: 24:17 - loss: 0.0123 - accuracy: 0.977 - ETA: 24:07 - loss: 0.0122 - accuracy: 0.977 - ETA: 23:57 - loss: 0.0122 - accuracy: 0.977 - ETA: 23:47 - loss: 0.0122 - accuracy: 0.977 - ETA: 23:37 - loss: 0.0122 - accuracy: 0.977 - ETA: 23:27 - loss: 0.0122 - accuracy: 0.977 - ETA: 23:17 - loss: 0.0122 - accuracy: 0.977 - ETA: 23:07 - loss: 0.0122 - accuracy: 0.977 - ETA: 22:57 - loss: 0.0122 - accuracy: 0.977 - ETA: 22:47 - loss: 0.0122 - accuracy: 0.977 - ETA: 22:37 - loss: 0.0122 - accuracy: 0.977 - ETA: 22:27 - loss: 0.0122 - accuracy: 0.977 - ETA: 22:17 - loss: 0.0122 - accuracy: 0.977 - ETA: 22:07 - loss: 0.0122 - accuracy: 0.977 - ETA: 21:57 - loss: 0.0122 - accuracy: 0.977 - ETA: 21:48 - loss: 0.0122 - accuracy: 0.977 - ETA: 21:37 - loss: 0.0122 - accuracy: 0.977 - ETA: 21:28 - loss: 0.0122 - accuracy: 0.977 - ETA: 21:18 - loss: 0.0122 - accuracy: 0.977 - ETA: 21:08 - loss: 0.0122 - accuracy: 0.977 - ETA: 20:58 - loss: 0.0122 - accuracy: 0.977 - ETA: 20:48 - loss: 0.0122 - accuracy: 0.977 - ETA: 20:38 - loss: 0.0122 - accuracy: 0.977 - ETA: 20:28 - loss: 0.0122 - accuracy: 0.977 - ETA: 20:18 - loss: 0.0122 - accuracy: 0.977 - ETA: 20:08 - loss: 0.0122 - accuracy: 0.977 - ETA: 19:58 - loss: 0.0122 - accuracy: 0.977 - ETA: 19:48 - loss: 0.0122 - accuracy: 0.977 - ETA: 19:38 - loss: 0.0122 - accuracy: 0.977 - ETA: 19:28 - loss: 0.0122 - accuracy: 0.977 - ETA: 19:18 - loss: 0.0122 - accuracy: 0.977 - ETA: 19:08 - loss: 0.0121 - accuracy: 0.977 - ETA: 18:58 - loss: 0.0121 - accuracy: 0.977 - ETA: 18:48 - loss: 0.0121 - accuracy: 0.977 - ETA: 18:38 - loss: 0.0121 - accuracy: 0.977 - ETA: 18:28 - loss: 0.0121 - accuracy: 0.977 - ETA: 18:18 - loss: 0.0121 - accuracy: 0.977 - ETA: 18:08 - loss: 0.0121 - accuracy: 0.977 - ETA: 17:58 - loss: 0.0121 - accuracy: 0.977 - ETA: 17:48 - loss: 0.0121 - accuracy: 0.977 - ETA: 17:38 - loss: 0.0121 - accuracy: 0.977 - ETA: 17:28 - loss: 0.0121 - accuracy: 0.9772"
     ]
    },
    {
     "name": "stdout",
     "output_type": "stream",
     "text": [
      "15457/15457 [==============================] - ETA: 17:18 - loss: 0.0121 - accuracy: 0.977 - ETA: 17:08 - loss: 0.0121 - accuracy: 0.977 - ETA: 16:59 - loss: 0.0121 - accuracy: 0.977 - ETA: 16:49 - loss: 0.0121 - accuracy: 0.977 - ETA: 16:39 - loss: 0.0120 - accuracy: 0.977 - ETA: 16:29 - loss: 0.0120 - accuracy: 0.977 - ETA: 16:19 - loss: 0.0120 - accuracy: 0.977 - ETA: 16:09 - loss: 0.0120 - accuracy: 0.977 - ETA: 15:59 - loss: 0.0120 - accuracy: 0.977 - ETA: 15:49 - loss: 0.0120 - accuracy: 0.977 - ETA: 15:39 - loss: 0.0120 - accuracy: 0.977 - ETA: 15:29 - loss: 0.0120 - accuracy: 0.977 - ETA: 15:19 - loss: 0.0120 - accuracy: 0.977 - ETA: 15:09 - loss: 0.0120 - accuracy: 0.977 - ETA: 14:59 - loss: 0.0120 - accuracy: 0.977 - ETA: 14:49 - loss: 0.0120 - accuracy: 0.977 - ETA: 14:40 - loss: 0.0120 - accuracy: 0.977 - ETA: 14:30 - loss: 0.0120 - accuracy: 0.977 - ETA: 14:20 - loss: 0.0120 - accuracy: 0.977 - ETA: 14:10 - loss: 0.0120 - accuracy: 0.977 - ETA: 14:00 - loss: 0.0120 - accuracy: 0.977 - ETA: 13:50 - loss: 0.0120 - accuracy: 0.977 - ETA: 13:40 - loss: 0.0120 - accuracy: 0.977 - ETA: 13:30 - loss: 0.0120 - accuracy: 0.977 - ETA: 13:20 - loss: 0.0120 - accuracy: 0.977 - ETA: 13:10 - loss: 0.0120 - accuracy: 0.977 - ETA: 13:00 - loss: 0.0120 - accuracy: 0.977 - ETA: 12:50 - loss: 0.0120 - accuracy: 0.977 - ETA: 12:41 - loss: 0.0120 - accuracy: 0.977 - ETA: 12:31 - loss: 0.0120 - accuracy: 0.977 - ETA: 12:21 - loss: 0.0120 - accuracy: 0.977 - ETA: 12:11 - loss: 0.0120 - accuracy: 0.977 - ETA: 12:01 - loss: 0.0120 - accuracy: 0.977 - ETA: 11:51 - loss: 0.0119 - accuracy: 0.977 - ETA: 11:41 - loss: 0.0119 - accuracy: 0.977 - ETA: 11:31 - loss: 0.0119 - accuracy: 0.977 - ETA: 11:21 - loss: 0.0119 - accuracy: 0.977 - ETA: 11:12 - loss: 0.0119 - accuracy: 0.977 - ETA: 11:02 - loss: 0.0119 - accuracy: 0.977 - ETA: 10:52 - loss: 0.0119 - accuracy: 0.977 - ETA: 10:42 - loss: 0.0119 - accuracy: 0.977 - ETA: 10:32 - loss: 0.0119 - accuracy: 0.977 - ETA: 10:22 - loss: 0.0119 - accuracy: 0.977 - ETA: 10:12 - loss: 0.0119 - accuracy: 0.977 - ETA: 10:02 - loss: 0.0119 - accuracy: 0.977 - ETA: 9:52 - loss: 0.0119 - accuracy: 0.977 - ETA: 9:42 - loss: 0.0119 - accuracy: 0.97 - ETA: 9:33 - loss: 0.0119 - accuracy: 0.97 - ETA: 9:23 - loss: 0.0119 - accuracy: 0.97 - ETA: 9:13 - loss: 0.0118 - accuracy: 0.97 - ETA: 9:03 - loss: 0.0118 - accuracy: 0.97 - ETA: 8:53 - loss: 0.0118 - accuracy: 0.97 - ETA: 8:43 - loss: 0.0118 - accuracy: 0.97 - ETA: 8:33 - loss: 0.0119 - accuracy: 0.97 - ETA: 8:23 - loss: 0.0118 - accuracy: 0.97 - ETA: 8:13 - loss: 0.0118 - accuracy: 0.97 - ETA: 8:04 - loss: 0.0118 - accuracy: 0.97 - ETA: 7:54 - loss: 0.0118 - accuracy: 0.97 - ETA: 7:44 - loss: 0.0118 - accuracy: 0.97 - ETA: 7:34 - loss: 0.0118 - accuracy: 0.97 - ETA: 7:24 - loss: 0.0118 - accuracy: 0.97 - ETA: 7:14 - loss: 0.0118 - accuracy: 0.97 - ETA: 7:04 - loss: 0.0118 - accuracy: 0.97 - ETA: 6:54 - loss: 0.0118 - accuracy: 0.97 - ETA: 6:44 - loss: 0.0118 - accuracy: 0.97 - ETA: 6:35 - loss: 0.0118 - accuracy: 0.97 - ETA: 6:25 - loss: 0.0118 - accuracy: 0.97 - ETA: 6:15 - loss: 0.0118 - accuracy: 0.97 - ETA: 6:05 - loss: 0.0118 - accuracy: 0.97 - ETA: 5:55 - loss: 0.0118 - accuracy: 0.97 - ETA: 5:45 - loss: 0.0118 - accuracy: 0.97 - ETA: 5:35 - loss: 0.0118 - accuracy: 0.97 - ETA: 5:25 - loss: 0.0118 - accuracy: 0.97 - ETA: 5:16 - loss: 0.0118 - accuracy: 0.97 - ETA: 5:06 - loss: 0.0118 - accuracy: 0.97 - ETA: 4:56 - loss: 0.0118 - accuracy: 0.97 - ETA: 4:46 - loss: 0.0117 - accuracy: 0.97 - ETA: 4:36 - loss: 0.0118 - accuracy: 0.97 - ETA: 4:26 - loss: 0.0117 - accuracy: 0.97 - ETA: 4:16 - loss: 0.0117 - accuracy: 0.97 - ETA: 4:07 - loss: 0.0117 - accuracy: 0.97 - ETA: 3:57 - loss: 0.0117 - accuracy: 0.97 - ETA: 3:47 - loss: 0.0117 - accuracy: 0.97 - ETA: 3:37 - loss: 0.0117 - accuracy: 0.97 - ETA: 3:27 - loss: 0.0117 - accuracy: 0.97 - ETA: 3:17 - loss: 0.0117 - accuracy: 0.97 - ETA: 3:07 - loss: 0.0117 - accuracy: 0.97 - ETA: 2:57 - loss: 0.0117 - accuracy: 0.97 - ETA: 2:48 - loss: 0.0117 - accuracy: 0.97 - ETA: 2:38 - loss: 0.0117 - accuracy: 0.97 - ETA: 2:28 - loss: 0.0117 - accuracy: 0.97 - ETA: 2:18 - loss: 0.0117 - accuracy: 0.97 - ETA: 2:08 - loss: 0.0117 - accuracy: 0.97 - ETA: 1:58 - loss: 0.0117 - accuracy: 0.97 - ETA: 1:49 - loss: 0.0117 - accuracy: 0.97 - ETA: 1:39 - loss: 0.0116 - accuracy: 0.97 - ETA: 1:29 - loss: 0.0116 - accuracy: 0.97 - ETA: 1:19 - loss: 0.0116 - accuracy: 0.97 - ETA: 1:09 - loss: 0.0116 - accuracy: 0.97 - ETA: 59s - loss: 0.0116 - accuracy: 0.9781 - ETA: 49s - loss: 0.0116 - accuracy: 0.978 - ETA: 40s - loss: 0.0116 - accuracy: 0.978 - ETA: 30s - loss: 0.0116 - accuracy: 0.978 - ETA: 20s - loss: 0.0116 - accuracy: 0.978 - ETA: 10s - loss: 0.0116 - accuracy: 0.978 - ETA: 0s - loss: 0.0116 - accuracy: 0.978 - 10174s 658ms/step - loss: 0.0116 - accuracy: 0.9782 - val_loss: 0.0076 - val_accuracy: 0.9853\n",
      "\n",
      "Epoch 00001: val_loss improved from inf to 0.00761, saving model to bert_tagger.h5\n",
      "Epoch 2/30\n"
     ]
    },
    {
     "name": "stdout",
     "output_type": "stream",
     "text": [
      " 2720/15457 [====>.........................] - ETA: 2:40:04 - loss: 0.0087 - accuracy: 0.970 - ETA: 2:36:09 - loss: 0.0066 - accuracy: 0.981 - ETA: 2:35:16 - loss: 0.0075 - accuracy: 0.978 - ETA: 2:33:47 - loss: 0.0076 - accuracy: 0.977 - ETA: 2:33:02 - loss: 0.0093 - accuracy: 0.978 - ETA: 2:32:11 - loss: 0.0080 - accuracy: 0.982 - ETA: 2:31:21 - loss: 0.0076 - accuracy: 0.983 - ETA: 2:30:42 - loss: 0.0074 - accuracy: 0.983 - ETA: 2:30:57 - loss: 0.0070 - accuracy: 0.984 - ETA: 2:31:33 - loss: 0.0066 - accuracy: 0.985 - ETA: 2:31:46 - loss: 0.0062 - accuracy: 0.986 - ETA: 2:31:20 - loss: 0.0060 - accuracy: 0.986 - ETA: 2:30:45 - loss: 0.0060 - accuracy: 0.987 - ETA: 2:30:42 - loss: 0.0066 - accuracy: 0.986 - ETA: 2:30:46 - loss: 0.0066 - accuracy: 0.987 - ETA: 2:31:25 - loss: 0.0067 - accuracy: 0.987 - ETA: 2:31:11 - loss: 0.0064 - accuracy: 0.987 - ETA: 2:30:44 - loss: 0.0061 - accuracy: 0.988 - ETA: 2:30:26 - loss: 0.0060 - accuracy: 0.988 - ETA: 2:30:02 - loss: 0.0058 - accuracy: 0.988 - ETA: 2:29:45 - loss: 0.0057 - accuracy: 0.988 - ETA: 2:29:44 - loss: 0.0057 - accuracy: 0.988 - ETA: 2:29:46 - loss: 0.0057 - accuracy: 0.988 - ETA: 2:29:30 - loss: 0.0058 - accuracy: 0.988 - ETA: 2:29:13 - loss: 0.0056 - accuracy: 0.989 - ETA: 2:29:01 - loss: 0.0056 - accuracy: 0.988 - ETA: 2:28:57 - loss: 0.0057 - accuracy: 0.988 - ETA: 2:28:47 - loss: 0.0056 - accuracy: 0.988 - ETA: 2:28:44 - loss: 0.0056 - accuracy: 0.988 - ETA: 2:28:47 - loss: 0.0055 - accuracy: 0.989 - ETA: 2:28:36 - loss: 0.0054 - accuracy: 0.989 - ETA: 2:28:41 - loss: 0.0054 - accuracy: 0.989 - ETA: 2:28:36 - loss: 0.0053 - accuracy: 0.989 - ETA: 2:28:25 - loss: 0.0052 - accuracy: 0.989 - ETA: 2:28:06 - loss: 0.0051 - accuracy: 0.989 - ETA: 2:28:00 - loss: 0.0052 - accuracy: 0.989 - ETA: 2:27:48 - loss: 0.0053 - accuracy: 0.989 - ETA: 2:27:30 - loss: 0.0053 - accuracy: 0.989 - ETA: 2:27:21 - loss: 0.0053 - accuracy: 0.989 - ETA: 2:27:04 - loss: 0.0052 - accuracy: 0.989 - ETA: 2:26:53 - loss: 0.0055 - accuracy: 0.989 - ETA: 2:26:46 - loss: 0.0054 - accuracy: 0.989 - ETA: 2:26:49 - loss: 0.0055 - accuracy: 0.989 - ETA: 2:26:43 - loss: 0.0054 - accuracy: 0.989 - ETA: 2:26:34 - loss: 0.0055 - accuracy: 0.989 - ETA: 2:26:27 - loss: 0.0054 - accuracy: 0.989 - ETA: 2:26:22 - loss: 0.0053 - accuracy: 0.989 - ETA: 2:26:17 - loss: 0.0054 - accuracy: 0.989 - ETA: 2:26:16 - loss: 0.0054 - accuracy: 0.989 - ETA: 2:26:02 - loss: 0.0054 - accuracy: 0.989 - ETA: 2:25:50 - loss: 0.0053 - accuracy: 0.989 - ETA: 2:25:43 - loss: 0.0053 - accuracy: 0.989 - ETA: 2:25:34 - loss: 0.0053 - accuracy: 0.990 - ETA: 2:25:23 - loss: 0.0052 - accuracy: 0.990 - ETA: 2:25:09 - loss: 0.0052 - accuracy: 0.990 - ETA: 2:25:03 - loss: 0.0052 - accuracy: 0.990 - ETA: 2:24:53 - loss: 0.0052 - accuracy: 0.990 - ETA: 2:24:39 - loss: 0.0053 - accuracy: 0.990 - ETA: 2:24:27 - loss: 0.0052 - accuracy: 0.990 - ETA: 2:24:21 - loss: 0.0052 - accuracy: 0.990 - ETA: 2:24:12 - loss: 0.0053 - accuracy: 0.990 - ETA: 2:23:58 - loss: 0.0053 - accuracy: 0.990 - ETA: 2:23:48 - loss: 0.0052 - accuracy: 0.990 - ETA: 2:23:42 - loss: 0.0052 - accuracy: 0.990 - ETA: 2:23:33 - loss: 0.0051 - accuracy: 0.990 - ETA: 2:23:20 - loss: 0.0051 - accuracy: 0.990 - ETA: 2:23:06 - loss: 0.0051 - accuracy: 0.990 - ETA: 2:22:53 - loss: 0.0051 - accuracy: 0.990 - ETA: 2:22:46 - loss: 0.0052 - accuracy: 0.990 - ETA: 2:22:36 - loss: 0.0052 - accuracy: 0.990 - ETA: 2:22:22 - loss: 0.0052 - accuracy: 0.990 - ETA: 2:22:11 - loss: 0.0052 - accuracy: 0.990 - ETA: 2:22:00 - loss: 0.0052 - accuracy: 0.990 - ETA: 2:21:51 - loss: 0.0052 - accuracy: 0.990 - ETA: 2:21:38 - loss: 0.0053 - accuracy: 0.990 - ETA: 2:21:32 - loss: 0.0052 - accuracy: 0.990 - ETA: 2:21:21 - loss: 0.0053 - accuracy: 0.990 - ETA: 2:21:11 - loss: 0.0053 - accuracy: 0.990 - ETA: 2:21:04 - loss: 0.0053 - accuracy: 0.990 - ETA: 2:20:55 - loss: 0.0053 - accuracy: 0.990 - ETA: 2:20:42 - loss: 0.0053 - accuracy: 0.990 - ETA: 2:20:31 - loss: 0.0053 - accuracy: 0.990 - ETA: 2:20:22 - loss: 0.0053 - accuracy: 0.990 - ETA: 2:20:12 - loss: 0.0053 - accuracy: 0.990 - ETA: 2:20:02 - loss: 0.0053 - accuracy: 0.990 - ETA: 2:19:51 - loss: 0.0053 - accuracy: 0.990 - ETA: 2:19:39 - loss: 0.0053 - accuracy: 0.990 - ETA: 2:19:26 - loss: 0.0053 - accuracy: 0.990 - ETA: 2:19:21 - loss: 0.0053 - accuracy: 0.990 - ETA: 2:19:17 - loss: 0.0053 - accuracy: 0.990 - ETA: 2:19:09 - loss: 0.0053 - accuracy: 0.990 - ETA: 2:19:01 - loss: 0.0053 - accuracy: 0.990 - ETA: 2:18:51 - loss: 0.0053 - accuracy: 0.990 - ETA: 2:18:41 - loss: 0.0053 - accuracy: 0.990 - ETA: 2:18:35 - loss: 0.0052 - accuracy: 0.990 - ETA: 2:18:31 - loss: 0.0053 - accuracy: 0.990 - ETA: 2:18:19 - loss: 0.0053 - accuracy: 0.990 - ETA: 2:18:08 - loss: 0.0052 - accuracy: 0.990 - ETA: 2:17:58 - loss: 0.0052 - accuracy: 0.990 - ETA: 2:17:47 - loss: 0.0052 - accuracy: 0.990 - ETA: 2:17:37 - loss: 0.0052 - accuracy: 0.990 - ETA: 2:17:32 - loss: 0.0052 - accuracy: 0.990 - ETA: 2:17:20 - loss: 0.0052 - accuracy: 0.990 - ETA: 2:17:09 - loss: 0.0052 - accuracy: 0.990 - ETA: 2:17:00 - loss: 0.0053 - accuracy: 0.990 - ETA: 2:16:54 - loss: 0.0053 - accuracy: 0.990 - ETA: 2:16:45 - loss: 0.0053 - accuracy: 0.990 - ETA: 2:16:34 - loss: 0.0053 - accuracy: 0.990 - ETA: 2:16:28 - loss: 0.0053 - accuracy: 0.990 - ETA: 2:16:21 - loss: 0.0052 - accuracy: 0.990 - ETA: 2:16:14 - loss: 0.0053 - accuracy: 0.990 - ETA: 2:16:03 - loss: 0.0054 - accuracy: 0.990 - ETA: 2:15:51 - loss: 0.0053 - accuracy: 0.990 - ETA: 2:15:40 - loss: 0.0054 - accuracy: 0.990 - ETA: 2:15:34 - loss: 0.0054 - accuracy: 0.990 - ETA: 2:15:23 - loss: 0.0053 - accuracy: 0.990 - ETA: 2:15:11 - loss: 0.0053 - accuracy: 0.990 - ETA: 2:14:59 - loss: 0.0054 - accuracy: 0.990 - ETA: 2:14:48 - loss: 0.0054 - accuracy: 0.990 - ETA: 2:14:38 - loss: 0.0054 - accuracy: 0.990 - ETA: 2:14:28 - loss: 0.0055 - accuracy: 0.990 - ETA: 2:14:19 - loss: 0.0055 - accuracy: 0.990 - ETA: 2:14:08 - loss: 0.0055 - accuracy: 0.990 - ETA: 2:13:59 - loss: 0.0055 - accuracy: 0.990 - ETA: 2:13:50 - loss: 0.0055 - accuracy: 0.990 - ETA: 2:13:39 - loss: 0.0054 - accuracy: 0.990 - ETA: 2:13:30 - loss: 0.0055 - accuracy: 0.990 - ETA: 2:13:20 - loss: 0.0055 - accuracy: 0.990 - ETA: 2:13:12 - loss: 0.0054 - accuracy: 0.990 - ETA: 2:13:02 - loss: 0.0054 - accuracy: 0.990 - ETA: 2:12:51 - loss: 0.0054 - accuracy: 0.990 - ETA: 2:12:41 - loss: 0.0054 - accuracy: 0.990 - ETA: 2:12:31 - loss: 0.0054 - accuracy: 0.990 - ETA: 2:12:20 - loss: 0.0054 - accuracy: 0.990 - ETA: 2:12:13 - loss: 0.0054 - accuracy: 0.990 - ETA: 2:12:02 - loss: 0.0055 - accuracy: 0.990 - ETA: 2:11:52 - loss: 0.0055 - accuracy: 0.990 - ETA: 2:11:41 - loss: 0.0055 - accuracy: 0.990 - ETA: 2:11:30 - loss: 0.0055 - accuracy: 0.990 - ETA: 2:11:21 - loss: 0.0055 - accuracy: 0.990 - ETA: 2:11:11 - loss: 0.0055 - accuracy: 0.990 - ETA: 2:11:04 - loss: 0.0055 - accuracy: 0.990 - ETA: 2:10:55 - loss: 0.0055 - accuracy: 0.990 - ETA: 2:10:45 - loss: 0.0055 - accuracy: 0.990 - ETA: 2:10:35 - loss: 0.0055 - accuracy: 0.990 - ETA: 2:10:24 - loss: 0.0055 - accuracy: 0.990 - ETA: 2:10:13 - loss: 0.0055 - accuracy: 0.990 - ETA: 2:10:04 - loss: 0.0055 - accuracy: 0.990 - ETA: 2:09:59 - loss: 0.0055 - accuracy: 0.990 - ETA: 2:09:51 - loss: 0.0055 - accuracy: 0.990 - ETA: 2:09:43 - loss: 0.0055 - accuracy: 0.990 - ETA: 2:09:35 - loss: 0.0055 - accuracy: 0.990 - ETA: 2:09:25 - loss: 0.0055 - accuracy: 0.990 - ETA: 2:09:17 - loss: 0.0055 - accuracy: 0.990 - ETA: 2:09:09 - loss: 0.0055 - accuracy: 0.990 - ETA: 2:09:00 - loss: 0.0055 - accuracy: 0.990 - ETA: 2:08:51 - loss: 0.0055 - accuracy: 0.990 - ETA: 2:08:42 - loss: 0.0055 - accuracy: 0.990 - ETA: 2:08:33 - loss: 0.0055 - accuracy: 0.990 - ETA: 2:08:22 - loss: 0.0055 - accuracy: 0.990 - ETA: 2:08:12 - loss: 0.0054 - accuracy: 0.990 - ETA: 2:08:03 - loss: 0.0054 - accuracy: 0.990 - ETA: 2:07:52 - loss: 0.0054 - accuracy: 0.990 - ETA: 2:07:42 - loss: 0.0054 - accuracy: 0.990 - ETA: 2:07:32 - loss: 0.0054 - accuracy: 0.990 - ETA: 2:07:21 - loss: 0.0055 - accuracy: 0.990 - ETA: 2:07:12 - loss: 0.0055 - accuracy: 0.990 - ETA: 2:07:05 - loss: 0.0054 - accuracy: 0.990 - ETA: 2:06:56 - loss: 0.0054 - accuracy: 0.990 - ETA: 2:06:47 - loss: 0.0054 - accuracy: 0.9904 5440/15457 [=========>....................] - ETA: 2:06:39 - loss: 0.0054 - accuracy: 0.990 - ETA: 2:06:31 - loss: 0.0054 - accuracy: 0.990 - ETA: 2:06:22 - loss: 0.0054 - accuracy: 0.990 - ETA: 2:06:12 - loss: 0.0054 - accuracy: 0.990 - ETA: 2:06:03 - loss: 0.0054 - accuracy: 0.990 - ETA: 2:05:54 - loss: 0.0054 - accuracy: 0.990 - ETA: 2:05:44 - loss: 0.0054 - accuracy: 0.990 - ETA: 2:05:34 - loss: 0.0055 - accuracy: 0.990 - ETA: 2:05:23 - loss: 0.0054 - accuracy: 0.990 - ETA: 2:05:13 - loss: 0.0054 - accuracy: 0.990 - ETA: 2:05:04 - loss: 0.0054 - accuracy: 0.990 - ETA: 2:04:55 - loss: 0.0054 - accuracy: 0.990 - ETA: 2:04:45 - loss: 0.0054 - accuracy: 0.990 - ETA: 2:04:35 - loss: 0.0054 - accuracy: 0.990 - ETA: 2:04:25 - loss: 0.0055 - accuracy: 0.990 - ETA: 2:04:14 - loss: 0.0055 - accuracy: 0.990 - ETA: 2:04:05 - loss: 0.0055 - accuracy: 0.990 - ETA: 2:03:58 - loss: 0.0055 - accuracy: 0.990 - ETA: 2:03:48 - loss: 0.0054 - accuracy: 0.990 - ETA: 2:03:38 - loss: 0.0054 - accuracy: 0.990 - ETA: 2:03:28 - loss: 0.0054 - accuracy: 0.990 - ETA: 2:03:18 - loss: 0.0054 - accuracy: 0.990 - ETA: 2:03:08 - loss: 0.0054 - accuracy: 0.990 - ETA: 2:03:00 - loss: 0.0054 - accuracy: 0.990 - ETA: 2:02:52 - loss: 0.0054 - accuracy: 0.990 - ETA: 2:02:41 - loss: 0.0054 - accuracy: 0.990 - ETA: 2:02:30 - loss: 0.0054 - accuracy: 0.990 - ETA: 2:02:20 - loss: 0.0054 - accuracy: 0.990 - ETA: 2:02:11 - loss: 0.0054 - accuracy: 0.990 - ETA: 2:02:04 - loss: 0.0054 - accuracy: 0.990 - ETA: 2:01:59 - loss: 0.0054 - accuracy: 0.990 - ETA: 2:01:51 - loss: 0.0054 - accuracy: 0.990 - ETA: 2:01:41 - loss: 0.0054 - accuracy: 0.990 - ETA: 2:01:32 - loss: 0.0053 - accuracy: 0.990 - ETA: 2:01:23 - loss: 0.0053 - accuracy: 0.990 - ETA: 2:01:13 - loss: 0.0053 - accuracy: 0.990 - ETA: 2:01:04 - loss: 0.0053 - accuracy: 0.990 - ETA: 2:00:54 - loss: 0.0053 - accuracy: 0.990 - ETA: 2:00:44 - loss: 0.0053 - accuracy: 0.990 - ETA: 2:00:34 - loss: 0.0053 - accuracy: 0.990 - ETA: 2:00:25 - loss: 0.0053 - accuracy: 0.990 - ETA: 2:00:15 - loss: 0.0053 - accuracy: 0.990 - ETA: 2:00:05 - loss: 0.0053 - accuracy: 0.990 - ETA: 1:59:55 - loss: 0.0053 - accuracy: 0.990 - ETA: 1:59:47 - loss: 0.0053 - accuracy: 0.990 - ETA: 1:59:38 - loss: 0.0053 - accuracy: 0.990 - ETA: 1:59:29 - loss: 0.0053 - accuracy: 0.990 - ETA: 1:59:19 - loss: 0.0053 - accuracy: 0.990 - ETA: 1:59:10 - loss: 0.0053 - accuracy: 0.990 - ETA: 1:59:00 - loss: 0.0053 - accuracy: 0.990 - ETA: 1:58:53 - loss: 0.0053 - accuracy: 0.990 - ETA: 1:58:45 - loss: 0.0053 - accuracy: 0.990 - ETA: 1:58:34 - loss: 0.0053 - accuracy: 0.990 - ETA: 1:58:24 - loss: 0.0053 - accuracy: 0.990 - ETA: 1:58:13 - loss: 0.0053 - accuracy: 0.990 - ETA: 1:58:03 - loss: 0.0053 - accuracy: 0.990 - ETA: 1:57:53 - loss: 0.0053 - accuracy: 0.990 - ETA: 1:57:43 - loss: 0.0053 - accuracy: 0.990 - ETA: 1:57:35 - loss: 0.0053 - accuracy: 0.990 - ETA: 1:57:26 - loss: 0.0053 - accuracy: 0.990 - ETA: 1:57:16 - loss: 0.0053 - accuracy: 0.990 - ETA: 1:57:07 - loss: 0.0053 - accuracy: 0.990 - ETA: 1:56:57 - loss: 0.0053 - accuracy: 0.990 - ETA: 1:56:48 - loss: 0.0053 - accuracy: 0.990 - ETA: 1:56:40 - loss: 0.0053 - accuracy: 0.990 - ETA: 1:56:32 - loss: 0.0053 - accuracy: 0.990 - ETA: 1:56:21 - loss: 0.0053 - accuracy: 0.990 - ETA: 1:56:11 - loss: 0.0053 - accuracy: 0.991 - ETA: 1:56:02 - loss: 0.0053 - accuracy: 0.991 - ETA: 1:55:54 - loss: 0.0053 - accuracy: 0.991 - ETA: 1:55:44 - loss: 0.0053 - accuracy: 0.991 - ETA: 1:55:34 - loss: 0.0053 - accuracy: 0.991 - ETA: 1:55:24 - loss: 0.0052 - accuracy: 0.991 - ETA: 1:55:15 - loss: 0.0052 - accuracy: 0.991 - ETA: 1:55:06 - loss: 0.0052 - accuracy: 0.991 - ETA: 1:54:55 - loss: 0.0052 - accuracy: 0.991 - ETA: 1:54:47 - loss: 0.0052 - accuracy: 0.991 - ETA: 1:54:37 - loss: 0.0052 - accuracy: 0.991 - ETA: 1:54:27 - loss: 0.0052 - accuracy: 0.991 - ETA: 1:54:17 - loss: 0.0052 - accuracy: 0.991 - ETA: 1:54:08 - loss: 0.0052 - accuracy: 0.991 - ETA: 1:53:59 - loss: 0.0052 - accuracy: 0.991 - ETA: 1:53:49 - loss: 0.0052 - accuracy: 0.991 - ETA: 1:53:40 - loss: 0.0052 - accuracy: 0.991 - ETA: 1:53:29 - loss: 0.0052 - accuracy: 0.991 - ETA: 1:53:20 - loss: 0.0052 - accuracy: 0.991 - ETA: 1:53:09 - loss: 0.0052 - accuracy: 0.991 - ETA: 1:52:59 - loss: 0.0052 - accuracy: 0.991 - ETA: 1:52:49 - loss: 0.0052 - accuracy: 0.991 - ETA: 1:52:41 - loss: 0.0052 - accuracy: 0.991 - ETA: 1:52:31 - loss: 0.0051 - accuracy: 0.991 - ETA: 1:52:21 - loss: 0.0052 - accuracy: 0.991 - ETA: 1:52:11 - loss: 0.0052 - accuracy: 0.991 - ETA: 1:52:02 - loss: 0.0052 - accuracy: 0.991 - ETA: 1:51:52 - loss: 0.0052 - accuracy: 0.991 - ETA: 1:51:43 - loss: 0.0052 - accuracy: 0.991 - ETA: 1:51:34 - loss: 0.0052 - accuracy: 0.991 - ETA: 1:51:25 - loss: 0.0052 - accuracy: 0.991 - ETA: 1:51:14 - loss: 0.0052 - accuracy: 0.991 - ETA: 1:51:05 - loss: 0.0052 - accuracy: 0.991 - ETA: 1:50:55 - loss: 0.0052 - accuracy: 0.991 - ETA: 1:50:44 - loss: 0.0052 - accuracy: 0.991 - ETA: 1:50:34 - loss: 0.0052 - accuracy: 0.991 - ETA: 1:50:25 - loss: 0.0052 - accuracy: 0.991 - ETA: 1:50:15 - loss: 0.0052 - accuracy: 0.991 - ETA: 1:50:05 - loss: 0.0052 - accuracy: 0.991 - ETA: 1:49:57 - loss: 0.0052 - accuracy: 0.991 - ETA: 1:49:48 - loss: 0.0052 - accuracy: 0.991 - ETA: 1:49:39 - loss: 0.0052 - accuracy: 0.990 - ETA: 1:49:30 - loss: 0.0052 - accuracy: 0.991 - ETA: 1:49:21 - loss: 0.0052 - accuracy: 0.991 - ETA: 1:49:12 - loss: 0.0052 - accuracy: 0.990 - ETA: 1:49:02 - loss: 0.0052 - accuracy: 0.990 - ETA: 1:48:51 - loss: 0.0052 - accuracy: 0.991 - ETA: 1:48:42 - loss: 0.0052 - accuracy: 0.991 - ETA: 1:48:32 - loss: 0.0052 - accuracy: 0.990 - ETA: 1:48:23 - loss: 0.0052 - accuracy: 0.991 - ETA: 1:48:13 - loss: 0.0052 - accuracy: 0.990 - ETA: 1:48:03 - loss: 0.0052 - accuracy: 0.990 - ETA: 1:47:54 - loss: 0.0052 - accuracy: 0.990 - ETA: 1:47:45 - loss: 0.0052 - accuracy: 0.990 - ETA: 1:47:37 - loss: 0.0052 - accuracy: 0.990 - ETA: 1:47:32 - loss: 0.0052 - accuracy: 0.990 - ETA: 1:47:23 - loss: 0.0052 - accuracy: 0.991 - ETA: 1:47:13 - loss: 0.0052 - accuracy: 0.991 - ETA: 1:47:04 - loss: 0.0052 - accuracy: 0.991 - ETA: 1:46:55 - loss: 0.0052 - accuracy: 0.991 - ETA: 1:46:46 - loss: 0.0052 - accuracy: 0.990 - ETA: 1:46:36 - loss: 0.0052 - accuracy: 0.990 - ETA: 1:46:28 - loss: 0.0052 - accuracy: 0.990 - ETA: 1:46:18 - loss: 0.0052 - accuracy: 0.990 - ETA: 1:46:09 - loss: 0.0052 - accuracy: 0.991 - ETA: 1:45:59 - loss: 0.0052 - accuracy: 0.990 - ETA: 1:45:48 - loss: 0.0052 - accuracy: 0.991 - ETA: 1:45:38 - loss: 0.0052 - accuracy: 0.991 - ETA: 1:45:29 - loss: 0.0052 - accuracy: 0.991 - ETA: 1:45:19 - loss: 0.0052 - accuracy: 0.991 - ETA: 1:45:08 - loss: 0.0052 - accuracy: 0.991 - ETA: 1:44:58 - loss: 0.0052 - accuracy: 0.991 - ETA: 1:44:48 - loss: 0.0052 - accuracy: 0.991 - ETA: 1:44:39 - loss: 0.0052 - accuracy: 0.991 - ETA: 1:44:30 - loss: 0.0052 - accuracy: 0.991 - ETA: 1:44:20 - loss: 0.0052 - accuracy: 0.991 - ETA: 1:44:10 - loss: 0.0052 - accuracy: 0.991 - ETA: 1:44:00 - loss: 0.0052 - accuracy: 0.991 - ETA: 1:43:50 - loss: 0.0052 - accuracy: 0.991 - ETA: 1:43:40 - loss: 0.0052 - accuracy: 0.991 - ETA: 1:43:30 - loss: 0.0052 - accuracy: 0.991 - ETA: 1:43:21 - loss: 0.0051 - accuracy: 0.991 - ETA: 1:43:12 - loss: 0.0051 - accuracy: 0.991 - ETA: 1:43:02 - loss: 0.0052 - accuracy: 0.991 - ETA: 1:42:52 - loss: 0.0051 - accuracy: 0.991 - ETA: 1:42:42 - loss: 0.0052 - accuracy: 0.991 - ETA: 1:42:32 - loss: 0.0052 - accuracy: 0.990 - ETA: 1:42:22 - loss: 0.0052 - accuracy: 0.990 - ETA: 1:42:12 - loss: 0.0052 - accuracy: 0.990 - ETA: 1:42:03 - loss: 0.0052 - accuracy: 0.990 - ETA: 1:41:54 - loss: 0.0052 - accuracy: 0.990 - ETA: 1:41:44 - loss: 0.0052 - accuracy: 0.990 - ETA: 1:41:34 - loss: 0.0052 - accuracy: 0.990 - ETA: 1:41:25 - loss: 0.0052 - accuracy: 0.990 - ETA: 1:41:14 - loss: 0.0052 - accuracy: 0.990 - ETA: 1:41:05 - loss: 0.0052 - accuracy: 0.990 - ETA: 1:40:55 - loss: 0.0052 - accuracy: 0.990 - ETA: 1:40:46 - loss: 0.0052 - accuracy: 0.990 - ETA: 1:40:37 - loss: 0.0052 - accuracy: 0.991 - ETA: 1:40:27 - loss: 0.0052 - accuracy: 0.991 - ETA: 1:40:17 - loss: 0.0052 - accuracy: 0.991 - ETA: 1:40:08 - loss: 0.0052 - accuracy: 0.991 - ETA: 1:39:59 - loss: 0.0052 - accuracy: 0.9910"
     ]
    },
    {
     "name": "stdout",
     "output_type": "stream",
     "text": [
      " 8160/15457 [==============>...............] - ETA: 1:39:50 - loss: 0.0052 - accuracy: 0.991 - ETA: 1:39:40 - loss: 0.0052 - accuracy: 0.991 - ETA: 1:39:31 - loss: 0.0052 - accuracy: 0.991 - ETA: 1:39:21 - loss: 0.0052 - accuracy: 0.991 - ETA: 1:39:11 - loss: 0.0052 - accuracy: 0.991 - ETA: 1:39:02 - loss: 0.0052 - accuracy: 0.991 - ETA: 1:38:53 - loss: 0.0052 - accuracy: 0.991 - ETA: 1:38:43 - loss: 0.0052 - accuracy: 0.991 - ETA: 1:38:34 - loss: 0.0052 - accuracy: 0.991 - ETA: 1:38:25 - loss: 0.0052 - accuracy: 0.991 - ETA: 1:38:15 - loss: 0.0052 - accuracy: 0.991 - ETA: 1:38:06 - loss: 0.0052 - accuracy: 0.991 - ETA: 1:37:56 - loss: 0.0052 - accuracy: 0.991 - ETA: 1:37:47 - loss: 0.0051 - accuracy: 0.991 - ETA: 1:37:39 - loss: 0.0052 - accuracy: 0.991 - ETA: 1:37:31 - loss: 0.0051 - accuracy: 0.991 - ETA: 1:37:23 - loss: 0.0052 - accuracy: 0.991 - ETA: 1:37:15 - loss: 0.0052 - accuracy: 0.991 - ETA: 1:37:07 - loss: 0.0052 - accuracy: 0.990 - ETA: 1:36:57 - loss: 0.0052 - accuracy: 0.990 - ETA: 1:36:48 - loss: 0.0052 - accuracy: 0.990 - ETA: 1:36:39 - loss: 0.0052 - accuracy: 0.990 - ETA: 1:36:30 - loss: 0.0052 - accuracy: 0.990 - ETA: 1:36:20 - loss: 0.0052 - accuracy: 0.990 - ETA: 1:36:11 - loss: 0.0052 - accuracy: 0.990 - ETA: 1:36:01 - loss: 0.0052 - accuracy: 0.990 - ETA: 1:35:51 - loss: 0.0052 - accuracy: 0.990 - ETA: 1:35:41 - loss: 0.0052 - accuracy: 0.990 - ETA: 1:35:31 - loss: 0.0052 - accuracy: 0.990 - ETA: 1:35:21 - loss: 0.0052 - accuracy: 0.990 - ETA: 1:35:11 - loss: 0.0052 - accuracy: 0.990 - ETA: 1:35:02 - loss: 0.0052 - accuracy: 0.990 - ETA: 1:34:53 - loss: 0.0052 - accuracy: 0.990 - ETA: 1:34:44 - loss: 0.0052 - accuracy: 0.990 - ETA: 1:34:35 - loss: 0.0052 - accuracy: 0.990 - ETA: 1:34:26 - loss: 0.0052 - accuracy: 0.990 - ETA: 1:34:18 - loss: 0.0052 - accuracy: 0.990 - ETA: 1:34:10 - loss: 0.0052 - accuracy: 0.990 - ETA: 1:34:00 - loss: 0.0052 - accuracy: 0.990 - ETA: 1:33:50 - loss: 0.0052 - accuracy: 0.990 - ETA: 1:33:41 - loss: 0.0052 - accuracy: 0.990 - ETA: 1:33:31 - loss: 0.0052 - accuracy: 0.990 - ETA: 1:33:20 - loss: 0.0052 - accuracy: 0.990 - ETA: 1:33:11 - loss: 0.0052 - accuracy: 0.990 - ETA: 1:33:01 - loss: 0.0052 - accuracy: 0.990 - ETA: 1:32:51 - loss: 0.0052 - accuracy: 0.990 - ETA: 1:32:41 - loss: 0.0052 - accuracy: 0.990 - ETA: 1:32:32 - loss: 0.0052 - accuracy: 0.990 - ETA: 1:32:22 - loss: 0.0052 - accuracy: 0.990 - ETA: 1:32:13 - loss: 0.0052 - accuracy: 0.990 - ETA: 1:32:03 - loss: 0.0052 - accuracy: 0.990 - ETA: 1:31:54 - loss: 0.0052 - accuracy: 0.990 - ETA: 1:31:43 - loss: 0.0052 - accuracy: 0.990 - ETA: 1:31:34 - loss: 0.0052 - accuracy: 0.990 - ETA: 1:31:24 - loss: 0.0052 - accuracy: 0.990 - ETA: 1:31:14 - loss: 0.0052 - accuracy: 0.990 - ETA: 1:31:04 - loss: 0.0052 - accuracy: 0.990 - ETA: 1:30:55 - loss: 0.0052 - accuracy: 0.990 - ETA: 1:30:45 - loss: 0.0052 - accuracy: 0.990 - ETA: 1:30:35 - loss: 0.0052 - accuracy: 0.990 - ETA: 1:30:25 - loss: 0.0052 - accuracy: 0.990 - ETA: 1:30:16 - loss: 0.0052 - accuracy: 0.990 - ETA: 1:30:07 - loss: 0.0052 - accuracy: 0.990 - ETA: 1:29:57 - loss: 0.0052 - accuracy: 0.990 - ETA: 1:29:48 - loss: 0.0052 - accuracy: 0.990 - ETA: 1:29:38 - loss: 0.0052 - accuracy: 0.990 - ETA: 1:29:28 - loss: 0.0052 - accuracy: 0.990 - ETA: 1:29:18 - loss: 0.0052 - accuracy: 0.990 - ETA: 1:29:08 - loss: 0.0052 - accuracy: 0.990 - ETA: 1:28:59 - loss: 0.0052 - accuracy: 0.990 - ETA: 1:28:49 - loss: 0.0052 - accuracy: 0.990 - ETA: 1:28:39 - loss: 0.0052 - accuracy: 0.990 - ETA: 1:28:29 - loss: 0.0052 - accuracy: 0.990 - ETA: 1:28:20 - loss: 0.0052 - accuracy: 0.990 - ETA: 1:28:10 - loss: 0.0052 - accuracy: 0.990 - ETA: 1:28:00 - loss: 0.0052 - accuracy: 0.990 - ETA: 1:27:51 - loss: 0.0052 - accuracy: 0.990 - ETA: 1:27:42 - loss: 0.0052 - accuracy: 0.990 - ETA: 1:27:32 - loss: 0.0052 - accuracy: 0.990 - ETA: 1:27:23 - loss: 0.0052 - accuracy: 0.990 - ETA: 1:27:13 - loss: 0.0052 - accuracy: 0.990 - ETA: 1:27:04 - loss: 0.0052 - accuracy: 0.990 - ETA: 1:26:54 - loss: 0.0052 - accuracy: 0.990 - ETA: 1:26:45 - loss: 0.0052 - accuracy: 0.990 - ETA: 1:26:35 - loss: 0.0052 - accuracy: 0.990 - ETA: 1:26:25 - loss: 0.0052 - accuracy: 0.990 - ETA: 1:26:15 - loss: 0.0052 - accuracy: 0.990 - ETA: 1:26:05 - loss: 0.0052 - accuracy: 0.990 - ETA: 1:25:55 - loss: 0.0052 - accuracy: 0.990 - ETA: 1:25:45 - loss: 0.0052 - accuracy: 0.990 - ETA: 1:25:36 - loss: 0.0052 - accuracy: 0.990 - ETA: 1:25:26 - loss: 0.0052 - accuracy: 0.990 - ETA: 1:25:17 - loss: 0.0052 - accuracy: 0.990 - ETA: 1:25:07 - loss: 0.0052 - accuracy: 0.990 - ETA: 1:24:58 - loss: 0.0052 - accuracy: 0.990 - ETA: 1:24:48 - loss: 0.0052 - accuracy: 0.990 - ETA: 1:24:38 - loss: 0.0052 - accuracy: 0.990 - ETA: 1:24:28 - loss: 0.0052 - accuracy: 0.990 - ETA: 1:24:19 - loss: 0.0052 - accuracy: 0.990 - ETA: 1:24:09 - loss: 0.0052 - accuracy: 0.990 - ETA: 1:23:59 - loss: 0.0052 - accuracy: 0.990 - ETA: 1:23:49 - loss: 0.0052 - accuracy: 0.990 - ETA: 1:23:40 - loss: 0.0052 - accuracy: 0.990 - ETA: 1:23:30 - loss: 0.0052 - accuracy: 0.990 - ETA: 1:23:20 - loss: 0.0052 - accuracy: 0.990 - ETA: 1:23:10 - loss: 0.0052 - accuracy: 0.990 - ETA: 1:23:01 - loss: 0.0052 - accuracy: 0.990 - ETA: 1:22:51 - loss: 0.0052 - accuracy: 0.990 - ETA: 1:22:41 - loss: 0.0052 - accuracy: 0.990 - ETA: 1:22:31 - loss: 0.0052 - accuracy: 0.990 - ETA: 1:22:22 - loss: 0.0052 - accuracy: 0.990 - ETA: 1:22:12 - loss: 0.0052 - accuracy: 0.990 - ETA: 1:22:03 - loss: 0.0052 - accuracy: 0.990 - ETA: 1:21:53 - loss: 0.0052 - accuracy: 0.990 - ETA: 1:21:44 - loss: 0.0052 - accuracy: 0.990 - ETA: 1:21:34 - loss: 0.0052 - accuracy: 0.990 - ETA: 1:21:24 - loss: 0.0052 - accuracy: 0.990 - ETA: 1:21:15 - loss: 0.0052 - accuracy: 0.990 - ETA: 1:21:05 - loss: 0.0052 - accuracy: 0.990 - ETA: 1:20:55 - loss: 0.0052 - accuracy: 0.990 - ETA: 1:20:45 - loss: 0.0052 - accuracy: 0.990 - ETA: 1:20:35 - loss: 0.0052 - accuracy: 0.990 - ETA: 1:20:26 - loss: 0.0052 - accuracy: 0.990 - ETA: 1:20:17 - loss: 0.0052 - accuracy: 0.990 - ETA: 1:20:07 - loss: 0.0053 - accuracy: 0.990 - ETA: 1:19:58 - loss: 0.0053 - accuracy: 0.990 - ETA: 1:19:48 - loss: 0.0052 - accuracy: 0.990 - ETA: 1:19:38 - loss: 0.0052 - accuracy: 0.990 - ETA: 1:19:29 - loss: 0.0052 - accuracy: 0.990 - ETA: 1:19:19 - loss: 0.0053 - accuracy: 0.990 - ETA: 1:19:09 - loss: 0.0053 - accuracy: 0.990 - ETA: 1:19:00 - loss: 0.0053 - accuracy: 0.990 - ETA: 1:18:50 - loss: 0.0053 - accuracy: 0.990 - ETA: 1:18:40 - loss: 0.0053 - accuracy: 0.990 - ETA: 1:18:30 - loss: 0.0053 - accuracy: 0.990 - ETA: 1:18:21 - loss: 0.0053 - accuracy: 0.990 - ETA: 1:18:11 - loss: 0.0053 - accuracy: 0.990 - ETA: 1:18:02 - loss: 0.0053 - accuracy: 0.990 - ETA: 1:17:52 - loss: 0.0053 - accuracy: 0.990 - ETA: 1:17:43 - loss: 0.0053 - accuracy: 0.990 - ETA: 1:17:33 - loss: 0.0053 - accuracy: 0.990 - ETA: 1:17:23 - loss: 0.0052 - accuracy: 0.990 - ETA: 1:17:15 - loss: 0.0053 - accuracy: 0.990 - ETA: 1:17:10 - loss: 0.0053 - accuracy: 0.990 - ETA: 1:17:04 - loss: 0.0053 - accuracy: 0.990 - ETA: 1:16:57 - loss: 0.0053 - accuracy: 0.990 - ETA: 1:16:48 - loss: 0.0053 - accuracy: 0.990 - ETA: 1:16:39 - loss: 0.0053 - accuracy: 0.990 - ETA: 1:16:29 - loss: 0.0053 - accuracy: 0.990 - ETA: 1:16:19 - loss: 0.0053 - accuracy: 0.990 - ETA: 1:16:09 - loss: 0.0053 - accuracy: 0.990 - ETA: 1:15:58 - loss: 0.0053 - accuracy: 0.990 - ETA: 1:15:47 - loss: 0.0053 - accuracy: 0.990 - ETA: 1:15:36 - loss: 0.0053 - accuracy: 0.990 - ETA: 1:15:26 - loss: 0.0053 - accuracy: 0.990 - ETA: 1:15:15 - loss: 0.0053 - accuracy: 0.990 - ETA: 1:15:04 - loss: 0.0053 - accuracy: 0.990 - ETA: 1:14:54 - loss: 0.0053 - accuracy: 0.990 - ETA: 1:14:43 - loss: 0.0053 - accuracy: 0.990 - ETA: 1:14:33 - loss: 0.0053 - accuracy: 0.990 - ETA: 1:14:22 - loss: 0.0053 - accuracy: 0.990 - ETA: 1:14:11 - loss: 0.0053 - accuracy: 0.990 - ETA: 1:14:01 - loss: 0.0053 - accuracy: 0.990 - ETA: 1:13:50 - loss: 0.0053 - accuracy: 0.990 - ETA: 1:13:40 - loss: 0.0053 - accuracy: 0.990 - ETA: 1:13:29 - loss: 0.0053 - accuracy: 0.990 - ETA: 1:13:19 - loss: 0.0053 - accuracy: 0.990 - ETA: 1:13:08 - loss: 0.0053 - accuracy: 0.990 - ETA: 1:12:58 - loss: 0.0053 - accuracy: 0.990 - ETA: 1:12:47 - loss: 0.0053 - accuracy: 0.9904"
     ]
    },
    {
     "name": "stdout",
     "output_type": "stream",
     "text": [
      "10944/15457 [====================>.........] - ETA: 1:12:37 - loss: 0.0053 - accuracy: 0.990 - ETA: 1:12:27 - loss: 0.0053 - accuracy: 0.990 - ETA: 1:12:17 - loss: 0.0053 - accuracy: 0.990 - ETA: 1:12:07 - loss: 0.0053 - accuracy: 0.990 - ETA: 1:11:56 - loss: 0.0053 - accuracy: 0.990 - ETA: 1:11:46 - loss: 0.0053 - accuracy: 0.990 - ETA: 1:11:36 - loss: 0.0053 - accuracy: 0.990 - ETA: 1:11:25 - loss: 0.0053 - accuracy: 0.990 - ETA: 1:11:15 - loss: 0.0053 - accuracy: 0.990 - ETA: 1:11:05 - loss: 0.0053 - accuracy: 0.990 - ETA: 1:10:54 - loss: 0.0053 - accuracy: 0.990 - ETA: 1:10:44 - loss: 0.0053 - accuracy: 0.990 - ETA: 1:10:34 - loss: 0.0053 - accuracy: 0.990 - ETA: 1:10:24 - loss: 0.0053 - accuracy: 0.990 - ETA: 1:10:13 - loss: 0.0053 - accuracy: 0.990 - ETA: 1:10:03 - loss: 0.0053 - accuracy: 0.990 - ETA: 1:09:53 - loss: 0.0053 - accuracy: 0.990 - ETA: 1:09:43 - loss: 0.0053 - accuracy: 0.990 - ETA: 1:09:33 - loss: 0.0053 - accuracy: 0.990 - ETA: 1:09:23 - loss: 0.0053 - accuracy: 0.990 - ETA: 1:09:13 - loss: 0.0053 - accuracy: 0.990 - ETA: 1:09:03 - loss: 0.0053 - accuracy: 0.990 - ETA: 1:08:53 - loss: 0.0053 - accuracy: 0.990 - ETA: 1:08:43 - loss: 0.0053 - accuracy: 0.990 - ETA: 1:08:33 - loss: 0.0053 - accuracy: 0.990 - ETA: 1:08:22 - loss: 0.0053 - accuracy: 0.990 - ETA: 1:08:12 - loss: 0.0053 - accuracy: 0.990 - ETA: 1:08:02 - loss: 0.0053 - accuracy: 0.990 - ETA: 1:07:52 - loss: 0.0053 - accuracy: 0.990 - ETA: 1:07:42 - loss: 0.0053 - accuracy: 0.990 - ETA: 1:07:32 - loss: 0.0053 - accuracy: 0.990 - ETA: 1:07:22 - loss: 0.0053 - accuracy: 0.990 - ETA: 1:07:11 - loss: 0.0054 - accuracy: 0.990 - ETA: 1:07:01 - loss: 0.0053 - accuracy: 0.990 - ETA: 1:06:51 - loss: 0.0054 - accuracy: 0.990 - ETA: 1:06:41 - loss: 0.0054 - accuracy: 0.990 - ETA: 1:06:32 - loss: 0.0053 - accuracy: 0.990 - ETA: 1:06:22 - loss: 0.0053 - accuracy: 0.990 - ETA: 1:06:11 - loss: 0.0053 - accuracy: 0.990 - ETA: 1:06:01 - loss: 0.0054 - accuracy: 0.990 - ETA: 1:05:52 - loss: 0.0054 - accuracy: 0.990 - ETA: 1:05:42 - loss: 0.0054 - accuracy: 0.990 - ETA: 1:05:32 - loss: 0.0054 - accuracy: 0.990 - ETA: 1:05:22 - loss: 0.0054 - accuracy: 0.990 - ETA: 1:05:12 - loss: 0.0054 - accuracy: 0.990 - ETA: 1:05:02 - loss: 0.0054 - accuracy: 0.990 - ETA: 1:04:52 - loss: 0.0054 - accuracy: 0.990 - ETA: 1:04:42 - loss: 0.0054 - accuracy: 0.990 - ETA: 1:04:32 - loss: 0.0054 - accuracy: 0.990 - ETA: 1:04:22 - loss: 0.0054 - accuracy: 0.990 - ETA: 1:04:12 - loss: 0.0054 - accuracy: 0.990 - ETA: 1:04:02 - loss: 0.0054 - accuracy: 0.990 - ETA: 1:03:52 - loss: 0.0054 - accuracy: 0.990 - ETA: 1:03:42 - loss: 0.0054 - accuracy: 0.990 - ETA: 1:03:32 - loss: 0.0054 - accuracy: 0.990 - ETA: 1:03:22 - loss: 0.0054 - accuracy: 0.990 - ETA: 1:03:12 - loss: 0.0054 - accuracy: 0.990 - ETA: 1:03:02 - loss: 0.0054 - accuracy: 0.990 - ETA: 1:02:53 - loss: 0.0054 - accuracy: 0.990 - ETA: 1:02:43 - loss: 0.0054 - accuracy: 0.990 - ETA: 1:02:33 - loss: 0.0054 - accuracy: 0.990 - ETA: 1:02:23 - loss: 0.0054 - accuracy: 0.990 - ETA: 1:02:13 - loss: 0.0054 - accuracy: 0.990 - ETA: 1:02:03 - loss: 0.0054 - accuracy: 0.990 - ETA: 1:01:54 - loss: 0.0054 - accuracy: 0.990 - ETA: 1:01:44 - loss: 0.0054 - accuracy: 0.990 - ETA: 1:01:34 - loss: 0.0054 - accuracy: 0.990 - ETA: 1:01:24 - loss: 0.0054 - accuracy: 0.990 - ETA: 1:01:14 - loss: 0.0054 - accuracy: 0.990 - ETA: 1:01:04 - loss: 0.0054 - accuracy: 0.990 - ETA: 1:00:54 - loss: 0.0054 - accuracy: 0.990 - ETA: 1:00:45 - loss: 0.0054 - accuracy: 0.990 - ETA: 1:00:35 - loss: 0.0054 - accuracy: 0.990 - ETA: 1:00:25 - loss: 0.0054 - accuracy: 0.990 - ETA: 1:00:15 - loss: 0.0054 - accuracy: 0.990 - ETA: 1:00:06 - loss: 0.0054 - accuracy: 0.990 - ETA: 59:57 - loss: 0.0054 - accuracy: 0.9902  - ETA: 59:47 - loss: 0.0054 - accuracy: 0.990 - ETA: 59:38 - loss: 0.0054 - accuracy: 0.990 - ETA: 59:28 - loss: 0.0054 - accuracy: 0.990 - ETA: 59:18 - loss: 0.0054 - accuracy: 0.990 - ETA: 59:08 - loss: 0.0054 - accuracy: 0.990 - ETA: 58:58 - loss: 0.0054 - accuracy: 0.990 - ETA: 58:48 - loss: 0.0054 - accuracy: 0.990 - ETA: 58:38 - loss: 0.0054 - accuracy: 0.990 - ETA: 58:29 - loss: 0.0054 - accuracy: 0.990 - ETA: 58:19 - loss: 0.0054 - accuracy: 0.990 - ETA: 58:10 - loss: 0.0054 - accuracy: 0.990 - ETA: 58:00 - loss: 0.0054 - accuracy: 0.990 - ETA: 57:51 - loss: 0.0054 - accuracy: 0.990 - ETA: 57:41 - loss: 0.0054 - accuracy: 0.990 - ETA: 57:31 - loss: 0.0054 - accuracy: 0.990 - ETA: 57:21 - loss: 0.0054 - accuracy: 0.990 - ETA: 57:12 - loss: 0.0054 - accuracy: 0.990 - ETA: 57:02 - loss: 0.0054 - accuracy: 0.990 - ETA: 56:52 - loss: 0.0054 - accuracy: 0.990 - ETA: 56:42 - loss: 0.0054 - accuracy: 0.990 - ETA: 56:33 - loss: 0.0054 - accuracy: 0.990 - ETA: 56:23 - loss: 0.0054 - accuracy: 0.990 - ETA: 56:14 - loss: 0.0054 - accuracy: 0.990 - ETA: 56:04 - loss: 0.0054 - accuracy: 0.990 - ETA: 55:54 - loss: 0.0054 - accuracy: 0.990 - ETA: 55:45 - loss: 0.0054 - accuracy: 0.990 - ETA: 55:35 - loss: 0.0054 - accuracy: 0.990 - ETA: 55:26 - loss: 0.0054 - accuracy: 0.990 - ETA: 55:16 - loss: 0.0054 - accuracy: 0.990 - ETA: 55:07 - loss: 0.0054 - accuracy: 0.990 - ETA: 54:57 - loss: 0.0054 - accuracy: 0.990 - ETA: 54:47 - loss: 0.0054 - accuracy: 0.990 - ETA: 54:38 - loss: 0.0054 - accuracy: 0.990 - ETA: 54:28 - loss: 0.0054 - accuracy: 0.990 - ETA: 54:18 - loss: 0.0054 - accuracy: 0.990 - ETA: 54:09 - loss: 0.0054 - accuracy: 0.990 - ETA: 53:59 - loss: 0.0054 - accuracy: 0.990 - ETA: 53:49 - loss: 0.0054 - accuracy: 0.990 - ETA: 53:40 - loss: 0.0054 - accuracy: 0.990 - ETA: 53:30 - loss: 0.0054 - accuracy: 0.990 - ETA: 53:21 - loss: 0.0054 - accuracy: 0.990 - ETA: 53:11 - loss: 0.0054 - accuracy: 0.990 - ETA: 53:01 - loss: 0.0054 - accuracy: 0.990 - ETA: 52:52 - loss: 0.0054 - accuracy: 0.990 - ETA: 52:42 - loss: 0.0054 - accuracy: 0.990 - ETA: 52:32 - loss: 0.0054 - accuracy: 0.990 - ETA: 52:23 - loss: 0.0054 - accuracy: 0.990 - ETA: 52:13 - loss: 0.0054 - accuracy: 0.990 - ETA: 52:04 - loss: 0.0054 - accuracy: 0.990 - ETA: 51:54 - loss: 0.0054 - accuracy: 0.990 - ETA: 51:44 - loss: 0.0054 - accuracy: 0.990 - ETA: 51:35 - loss: 0.0054 - accuracy: 0.990 - ETA: 51:25 - loss: 0.0054 - accuracy: 0.990 - ETA: 51:15 - loss: 0.0054 - accuracy: 0.990 - ETA: 51:06 - loss: 0.0054 - accuracy: 0.990 - ETA: 50:56 - loss: 0.0054 - accuracy: 0.990 - ETA: 50:47 - loss: 0.0054 - accuracy: 0.990 - ETA: 50:37 - loss: 0.0054 - accuracy: 0.990 - ETA: 50:27 - loss: 0.0054 - accuracy: 0.990 - ETA: 50:18 - loss: 0.0054 - accuracy: 0.990 - ETA: 50:08 - loss: 0.0054 - accuracy: 0.990 - ETA: 49:59 - loss: 0.0054 - accuracy: 0.990 - ETA: 49:49 - loss: 0.0054 - accuracy: 0.990 - ETA: 49:40 - loss: 0.0054 - accuracy: 0.990 - ETA: 49:30 - loss: 0.0054 - accuracy: 0.990 - ETA: 49:21 - loss: 0.0054 - accuracy: 0.990 - ETA: 49:11 - loss: 0.0054 - accuracy: 0.990 - ETA: 49:01 - loss: 0.0054 - accuracy: 0.990 - ETA: 48:52 - loss: 0.0054 - accuracy: 0.990 - ETA: 48:42 - loss: 0.0054 - accuracy: 0.990 - ETA: 48:33 - loss: 0.0054 - accuracy: 0.990 - ETA: 48:23 - loss: 0.0054 - accuracy: 0.990 - ETA: 48:13 - loss: 0.0054 - accuracy: 0.990 - ETA: 48:04 - loss: 0.0054 - accuracy: 0.990 - ETA: 47:55 - loss: 0.0054 - accuracy: 0.990 - ETA: 47:45 - loss: 0.0054 - accuracy: 0.990 - ETA: 47:36 - loss: 0.0054 - accuracy: 0.990 - ETA: 47:27 - loss: 0.0054 - accuracy: 0.990 - ETA: 47:17 - loss: 0.0054 - accuracy: 0.990 - ETA: 47:08 - loss: 0.0054 - accuracy: 0.990 - ETA: 46:58 - loss: 0.0054 - accuracy: 0.990 - ETA: 46:49 - loss: 0.0054 - accuracy: 0.990 - ETA: 46:40 - loss: 0.0054 - accuracy: 0.990 - ETA: 46:31 - loss: 0.0054 - accuracy: 0.990 - ETA: 46:21 - loss: 0.0054 - accuracy: 0.990 - ETA: 46:12 - loss: 0.0054 - accuracy: 0.990 - ETA: 46:02 - loss: 0.0054 - accuracy: 0.990 - ETA: 45:52 - loss: 0.0054 - accuracy: 0.990 - ETA: 45:43 - loss: 0.0054 - accuracy: 0.990 - ETA: 45:34 - loss: 0.0054 - accuracy: 0.990 - ETA: 45:25 - loss: 0.0054 - accuracy: 0.990 - ETA: 45:16 - loss: 0.0054 - accuracy: 0.990 - ETA: 45:06 - loss: 0.0054 - accuracy: 0.990 - ETA: 44:57 - loss: 0.0054 - accuracy: 0.990 - ETA: 44:48 - loss: 0.0054 - accuracy: 0.990 - ETA: 44:39 - loss: 0.0054 - accuracy: 0.990 - ETA: 44:30 - loss: 0.0054 - accuracy: 0.9902"
     ]
    },
    {
     "name": "stdout",
     "output_type": "stream",
     "text": [
      "13792/15457 [=========================>....] - ETA: 44:20 - loss: 0.0054 - accuracy: 0.990 - ETA: 44:11 - loss: 0.0054 - accuracy: 0.990 - ETA: 44:02 - loss: 0.0055 - accuracy: 0.990 - ETA: 43:53 - loss: 0.0055 - accuracy: 0.990 - ETA: 43:43 - loss: 0.0054 - accuracy: 0.990 - ETA: 43:34 - loss: 0.0055 - accuracy: 0.990 - ETA: 43:25 - loss: 0.0055 - accuracy: 0.990 - ETA: 43:16 - loss: 0.0054 - accuracy: 0.990 - ETA: 43:06 - loss: 0.0054 - accuracy: 0.990 - ETA: 42:57 - loss: 0.0054 - accuracy: 0.990 - ETA: 42:48 - loss: 0.0054 - accuracy: 0.990 - ETA: 42:38 - loss: 0.0054 - accuracy: 0.990 - ETA: 42:29 - loss: 0.0054 - accuracy: 0.990 - ETA: 42:20 - loss: 0.0054 - accuracy: 0.990 - ETA: 42:11 - loss: 0.0054 - accuracy: 0.990 - ETA: 42:01 - loss: 0.0054 - accuracy: 0.990 - ETA: 41:52 - loss: 0.0054 - accuracy: 0.990 - ETA: 41:43 - loss: 0.0054 - accuracy: 0.990 - ETA: 41:33 - loss: 0.0054 - accuracy: 0.990 - ETA: 41:24 - loss: 0.0054 - accuracy: 0.990 - ETA: 41:15 - loss: 0.0054 - accuracy: 0.990 - ETA: 41:06 - loss: 0.0054 - accuracy: 0.990 - ETA: 40:56 - loss: 0.0054 - accuracy: 0.990 - ETA: 40:47 - loss: 0.0054 - accuracy: 0.990 - ETA: 40:38 - loss: 0.0054 - accuracy: 0.990 - ETA: 40:29 - loss: 0.0055 - accuracy: 0.990 - ETA: 40:20 - loss: 0.0055 - accuracy: 0.990 - ETA: 40:10 - loss: 0.0055 - accuracy: 0.990 - ETA: 40:01 - loss: 0.0055 - accuracy: 0.990 - ETA: 39:52 - loss: 0.0055 - accuracy: 0.990 - ETA: 39:42 - loss: 0.0055 - accuracy: 0.990 - ETA: 39:33 - loss: 0.0055 - accuracy: 0.990 - ETA: 39:24 - loss: 0.0055 - accuracy: 0.990 - ETA: 39:15 - loss: 0.0055 - accuracy: 0.990 - ETA: 39:05 - loss: 0.0055 - accuracy: 0.990 - ETA: 38:56 - loss: 0.0055 - accuracy: 0.990 - ETA: 38:47 - loss: 0.0055 - accuracy: 0.990 - ETA: 38:38 - loss: 0.0055 - accuracy: 0.990 - ETA: 38:29 - loss: 0.0054 - accuracy: 0.990 - ETA: 38:19 - loss: 0.0055 - accuracy: 0.990 - ETA: 38:10 - loss: 0.0055 - accuracy: 0.990 - ETA: 38:01 - loss: 0.0055 - accuracy: 0.990 - ETA: 37:51 - loss: 0.0055 - accuracy: 0.990 - ETA: 37:42 - loss: 0.0055 - accuracy: 0.990 - ETA: 37:32 - loss: 0.0055 - accuracy: 0.990 - ETA: 37:23 - loss: 0.0055 - accuracy: 0.990 - ETA: 37:13 - loss: 0.0055 - accuracy: 0.990 - ETA: 37:03 - loss: 0.0055 - accuracy: 0.990 - ETA: 36:54 - loss: 0.0055 - accuracy: 0.990 - ETA: 36:44 - loss: 0.0055 - accuracy: 0.990 - ETA: 36:35 - loss: 0.0055 - accuracy: 0.990 - ETA: 36:25 - loss: 0.0055 - accuracy: 0.990 - ETA: 36:16 - loss: 0.0055 - accuracy: 0.990 - ETA: 36:07 - loss: 0.0055 - accuracy: 0.990 - ETA: 35:57 - loss: 0.0054 - accuracy: 0.990 - ETA: 35:48 - loss: 0.0055 - accuracy: 0.990 - ETA: 35:38 - loss: 0.0055 - accuracy: 0.990 - ETA: 35:29 - loss: 0.0055 - accuracy: 0.990 - ETA: 35:20 - loss: 0.0055 - accuracy: 0.990 - ETA: 35:10 - loss: 0.0055 - accuracy: 0.990 - ETA: 35:01 - loss: 0.0055 - accuracy: 0.990 - ETA: 34:52 - loss: 0.0055 - accuracy: 0.990 - ETA: 34:42 - loss: 0.0055 - accuracy: 0.990 - ETA: 34:33 - loss: 0.0055 - accuracy: 0.990 - ETA: 34:23 - loss: 0.0055 - accuracy: 0.990 - ETA: 34:14 - loss: 0.0055 - accuracy: 0.990 - ETA: 34:04 - loss: 0.0055 - accuracy: 0.990 - ETA: 33:55 - loss: 0.0055 - accuracy: 0.990 - ETA: 33:45 - loss: 0.0055 - accuracy: 0.990 - ETA: 33:36 - loss: 0.0055 - accuracy: 0.990 - ETA: 33:26 - loss: 0.0055 - accuracy: 0.990 - ETA: 33:17 - loss: 0.0055 - accuracy: 0.990 - ETA: 33:07 - loss: 0.0055 - accuracy: 0.990 - ETA: 32:58 - loss: 0.0055 - accuracy: 0.990 - ETA: 32:48 - loss: 0.0055 - accuracy: 0.990 - ETA: 32:39 - loss: 0.0055 - accuracy: 0.990 - ETA: 32:30 - loss: 0.0055 - accuracy: 0.990 - ETA: 32:20 - loss: 0.0055 - accuracy: 0.990 - ETA: 32:11 - loss: 0.0055 - accuracy: 0.990 - ETA: 32:02 - loss: 0.0055 - accuracy: 0.989 - ETA: 31:53 - loss: 0.0055 - accuracy: 0.989 - ETA: 31:44 - loss: 0.0055 - accuracy: 0.989 - ETA: 31:34 - loss: 0.0055 - accuracy: 0.989 - ETA: 31:25 - loss: 0.0055 - accuracy: 0.989 - ETA: 31:15 - loss: 0.0055 - accuracy: 0.989 - ETA: 31:06 - loss: 0.0055 - accuracy: 0.990 - ETA: 30:56 - loss: 0.0055 - accuracy: 0.990 - ETA: 30:47 - loss: 0.0055 - accuracy: 0.990 - ETA: 30:37 - loss: 0.0055 - accuracy: 0.990 - ETA: 30:28 - loss: 0.0055 - accuracy: 0.990 - ETA: 30:18 - loss: 0.0055 - accuracy: 0.990 - ETA: 30:09 - loss: 0.0055 - accuracy: 0.989 - ETA: 29:59 - loss: 0.0055 - accuracy: 0.989 - ETA: 29:50 - loss: 0.0055 - accuracy: 0.989 - ETA: 29:40 - loss: 0.0055 - accuracy: 0.989 - ETA: 29:31 - loss: 0.0055 - accuracy: 0.989 - ETA: 29:21 - loss: 0.0055 - accuracy: 0.989 - ETA: 29:12 - loss: 0.0055 - accuracy: 0.989 - ETA: 29:03 - loss: 0.0055 - accuracy: 0.989 - ETA: 28:53 - loss: 0.0055 - accuracy: 0.989 - ETA: 28:44 - loss: 0.0055 - accuracy: 0.989 - ETA: 28:34 - loss: 0.0055 - accuracy: 0.989 - ETA: 28:25 - loss: 0.0055 - accuracy: 0.989 - ETA: 28:15 - loss: 0.0055 - accuracy: 0.989 - ETA: 28:06 - loss: 0.0055 - accuracy: 0.989 - ETA: 27:56 - loss: 0.0055 - accuracy: 0.989 - ETA: 27:47 - loss: 0.0055 - accuracy: 0.989 - ETA: 27:37 - loss: 0.0055 - accuracy: 0.989 - ETA: 27:28 - loss: 0.0055 - accuracy: 0.989 - ETA: 27:18 - loss: 0.0055 - accuracy: 0.989 - ETA: 27:09 - loss: 0.0055 - accuracy: 0.989 - ETA: 26:59 - loss: 0.0055 - accuracy: 0.989 - ETA: 26:50 - loss: 0.0055 - accuracy: 0.989 - ETA: 26:40 - loss: 0.0055 - accuracy: 0.989 - ETA: 26:31 - loss: 0.0055 - accuracy: 0.989 - ETA: 26:22 - loss: 0.0055 - accuracy: 0.989 - ETA: 26:12 - loss: 0.0055 - accuracy: 0.989 - ETA: 26:03 - loss: 0.0055 - accuracy: 0.989 - ETA: 25:53 - loss: 0.0055 - accuracy: 0.989 - ETA: 25:44 - loss: 0.0055 - accuracy: 0.989 - ETA: 25:34 - loss: 0.0055 - accuracy: 0.989 - ETA: 25:25 - loss: 0.0055 - accuracy: 0.989 - ETA: 25:15 - loss: 0.0055 - accuracy: 0.989 - ETA: 25:06 - loss: 0.0055 - accuracy: 0.989 - ETA: 24:56 - loss: 0.0055 - accuracy: 0.989 - ETA: 24:46 - loss: 0.0055 - accuracy: 0.989 - ETA: 24:37 - loss: 0.0055 - accuracy: 0.989 - ETA: 24:27 - loss: 0.0055 - accuracy: 0.989 - ETA: 24:18 - loss: 0.0055 - accuracy: 0.989 - ETA: 24:08 - loss: 0.0055 - accuracy: 0.989 - ETA: 23:59 - loss: 0.0055 - accuracy: 0.989 - ETA: 23:49 - loss: 0.0055 - accuracy: 0.989 - ETA: 23:39 - loss: 0.0055 - accuracy: 0.989 - ETA: 23:30 - loss: 0.0055 - accuracy: 0.989 - ETA: 23:20 - loss: 0.0055 - accuracy: 0.989 - ETA: 23:11 - loss: 0.0055 - accuracy: 0.989 - ETA: 23:01 - loss: 0.0055 - accuracy: 0.989 - ETA: 22:52 - loss: 0.0055 - accuracy: 0.989 - ETA: 22:42 - loss: 0.0055 - accuracy: 0.989 - ETA: 22:33 - loss: 0.0055 - accuracy: 0.989 - ETA: 22:23 - loss: 0.0055 - accuracy: 0.989 - ETA: 22:14 - loss: 0.0055 - accuracy: 0.989 - ETA: 22:04 - loss: 0.0055 - accuracy: 0.989 - ETA: 21:54 - loss: 0.0055 - accuracy: 0.989 - ETA: 21:45 - loss: 0.0055 - accuracy: 0.989 - ETA: 21:35 - loss: 0.0055 - accuracy: 0.989 - ETA: 21:26 - loss: 0.0055 - accuracy: 0.989 - ETA: 21:16 - loss: 0.0055 - accuracy: 0.989 - ETA: 21:07 - loss: 0.0055 - accuracy: 0.989 - ETA: 20:57 - loss: 0.0055 - accuracy: 0.989 - ETA: 20:48 - loss: 0.0055 - accuracy: 0.989 - ETA: 20:38 - loss: 0.0055 - accuracy: 0.989 - ETA: 20:29 - loss: 0.0055 - accuracy: 0.989 - ETA: 20:19 - loss: 0.0055 - accuracy: 0.989 - ETA: 20:09 - loss: 0.0055 - accuracy: 0.989 - ETA: 20:00 - loss: 0.0055 - accuracy: 0.989 - ETA: 19:50 - loss: 0.0055 - accuracy: 0.989 - ETA: 19:41 - loss: 0.0055 - accuracy: 0.989 - ETA: 19:31 - loss: 0.0056 - accuracy: 0.989 - ETA: 19:22 - loss: 0.0055 - accuracy: 0.989 - ETA: 19:12 - loss: 0.0055 - accuracy: 0.989 - ETA: 19:03 - loss: 0.0055 - accuracy: 0.989 - ETA: 18:53 - loss: 0.0055 - accuracy: 0.989 - ETA: 18:44 - loss: 0.0055 - accuracy: 0.989 - ETA: 18:34 - loss: 0.0055 - accuracy: 0.989 - ETA: 18:25 - loss: 0.0055 - accuracy: 0.989 - ETA: 18:15 - loss: 0.0055 - accuracy: 0.989 - ETA: 18:06 - loss: 0.0055 - accuracy: 0.989 - ETA: 17:56 - loss: 0.0055 - accuracy: 0.989 - ETA: 17:46 - loss: 0.0055 - accuracy: 0.989 - ETA: 17:37 - loss: 0.0055 - accuracy: 0.989 - ETA: 17:27 - loss: 0.0055 - accuracy: 0.989 - ETA: 17:18 - loss: 0.0055 - accuracy: 0.989 - ETA: 17:08 - loss: 0.0055 - accuracy: 0.989 - ETA: 16:59 - loss: 0.0055 - accuracy: 0.989 - ETA: 16:49 - loss: 0.0055 - accuracy: 0.989 - ETA: 16:40 - loss: 0.0055 - accuracy: 0.989 - ETA: 16:30 - loss: 0.0055 - accuracy: 0.9899"
     ]
    },
    {
     "name": "stdout",
     "output_type": "stream",
     "text": [
      "15457/15457 [==============================] - ETA: 16:21 - loss: 0.0055 - accuracy: 0.989 - ETA: 16:11 - loss: 0.0055 - accuracy: 0.989 - ETA: 16:02 - loss: 0.0055 - accuracy: 0.989 - ETA: 15:52 - loss: 0.0055 - accuracy: 0.989 - ETA: 15:43 - loss: 0.0056 - accuracy: 0.989 - ETA: 15:33 - loss: 0.0055 - accuracy: 0.989 - ETA: 15:24 - loss: 0.0056 - accuracy: 0.989 - ETA: 15:14 - loss: 0.0056 - accuracy: 0.989 - ETA: 15:05 - loss: 0.0056 - accuracy: 0.989 - ETA: 14:55 - loss: 0.0056 - accuracy: 0.989 - ETA: 14:46 - loss: 0.0056 - accuracy: 0.989 - ETA: 14:36 - loss: 0.0056 - accuracy: 0.989 - ETA: 14:27 - loss: 0.0056 - accuracy: 0.989 - ETA: 14:17 - loss: 0.0056 - accuracy: 0.989 - ETA: 14:08 - loss: 0.0055 - accuracy: 0.989 - ETA: 13:58 - loss: 0.0055 - accuracy: 0.989 - ETA: 13:48 - loss: 0.0055 - accuracy: 0.989 - ETA: 13:39 - loss: 0.0055 - accuracy: 0.989 - ETA: 13:29 - loss: 0.0055 - accuracy: 0.989 - ETA: 13:20 - loss: 0.0055 - accuracy: 0.989 - ETA: 13:10 - loss: 0.0055 - accuracy: 0.989 - ETA: 13:01 - loss: 0.0055 - accuracy: 0.989 - ETA: 12:51 - loss: 0.0055 - accuracy: 0.989 - ETA: 12:42 - loss: 0.0055 - accuracy: 0.989 - ETA: 12:32 - loss: 0.0055 - accuracy: 0.989 - ETA: 12:23 - loss: 0.0055 - accuracy: 0.989 - ETA: 12:13 - loss: 0.0055 - accuracy: 0.989 - ETA: 12:03 - loss: 0.0055 - accuracy: 0.989 - ETA: 11:54 - loss: 0.0055 - accuracy: 0.989 - ETA: 11:44 - loss: 0.0055 - accuracy: 0.989 - ETA: 11:35 - loss: 0.0055 - accuracy: 0.989 - ETA: 11:25 - loss: 0.0055 - accuracy: 0.989 - ETA: 11:16 - loss: 0.0056 - accuracy: 0.989 - ETA: 11:06 - loss: 0.0056 - accuracy: 0.989 - ETA: 10:57 - loss: 0.0056 - accuracy: 0.989 - ETA: 10:47 - loss: 0.0055 - accuracy: 0.989 - ETA: 10:38 - loss: 0.0055 - accuracy: 0.989 - ETA: 10:28 - loss: 0.0055 - accuracy: 0.989 - ETA: 10:19 - loss: 0.0055 - accuracy: 0.989 - ETA: 10:09 - loss: 0.0055 - accuracy: 0.989 - ETA: 10:00 - loss: 0.0055 - accuracy: 0.989 - ETA: 9:50 - loss: 0.0055 - accuracy: 0.989 - ETA: 9:41 - loss: 0.0055 - accuracy: 0.98 - ETA: 9:31 - loss: 0.0055 - accuracy: 0.98 - ETA: 9:22 - loss: 0.0056 - accuracy: 0.98 - ETA: 9:12 - loss: 0.0056 - accuracy: 0.98 - ETA: 9:03 - loss: 0.0056 - accuracy: 0.98 - ETA: 8:53 - loss: 0.0056 - accuracy: 0.98 - ETA: 8:44 - loss: 0.0056 - accuracy: 0.98 - ETA: 8:34 - loss: 0.0056 - accuracy: 0.98 - ETA: 8:25 - loss: 0.0056 - accuracy: 0.98 - ETA: 8:15 - loss: 0.0056 - accuracy: 0.98 - ETA: 8:05 - loss: 0.0056 - accuracy: 0.98 - ETA: 7:56 - loss: 0.0056 - accuracy: 0.98 - ETA: 7:46 - loss: 0.0056 - accuracy: 0.98 - ETA: 7:37 - loss: 0.0056 - accuracy: 0.98 - ETA: 7:27 - loss: 0.0056 - accuracy: 0.98 - ETA: 7:18 - loss: 0.0056 - accuracy: 0.98 - ETA: 7:08 - loss: 0.0056 - accuracy: 0.98 - ETA: 6:59 - loss: 0.0056 - accuracy: 0.98 - ETA: 6:49 - loss: 0.0056 - accuracy: 0.98 - ETA: 6:40 - loss: 0.0056 - accuracy: 0.98 - ETA: 6:30 - loss: 0.0056 - accuracy: 0.98 - ETA: 6:21 - loss: 0.0056 - accuracy: 0.98 - ETA: 6:11 - loss: 0.0056 - accuracy: 0.98 - ETA: 6:02 - loss: 0.0056 - accuracy: 0.98 - ETA: 5:52 - loss: 0.0056 - accuracy: 0.98 - ETA: 5:43 - loss: 0.0056 - accuracy: 0.98 - ETA: 5:33 - loss: 0.0056 - accuracy: 0.98 - ETA: 5:24 - loss: 0.0056 - accuracy: 0.98 - ETA: 5:14 - loss: 0.0056 - accuracy: 0.98 - ETA: 5:05 - loss: 0.0056 - accuracy: 0.98 - ETA: 4:55 - loss: 0.0056 - accuracy: 0.98 - ETA: 4:46 - loss: 0.0056 - accuracy: 0.98 - ETA: 4:36 - loss: 0.0056 - accuracy: 0.98 - ETA: 4:27 - loss: 0.0056 - accuracy: 0.98 - ETA: 4:17 - loss: 0.0056 - accuracy: 0.98 - ETA: 4:08 - loss: 0.0056 - accuracy: 0.98 - ETA: 3:58 - loss: 0.0056 - accuracy: 0.98 - ETA: 3:48 - loss: 0.0056 - accuracy: 0.98 - ETA: 3:39 - loss: 0.0056 - accuracy: 0.98 - ETA: 3:29 - loss: 0.0056 - accuracy: 0.98 - ETA: 3:20 - loss: 0.0056 - accuracy: 0.98 - ETA: 3:10 - loss: 0.0056 - accuracy: 0.98 - ETA: 3:01 - loss: 0.0056 - accuracy: 0.98 - ETA: 2:51 - loss: 0.0056 - accuracy: 0.98 - ETA: 2:42 - loss: 0.0056 - accuracy: 0.98 - ETA: 2:32 - loss: 0.0056 - accuracy: 0.98 - ETA: 2:23 - loss: 0.0056 - accuracy: 0.98 - ETA: 2:13 - loss: 0.0056 - accuracy: 0.98 - ETA: 2:04 - loss: 0.0056 - accuracy: 0.98 - ETA: 1:54 - loss: 0.0056 - accuracy: 0.98 - ETA: 1:45 - loss: 0.0056 - accuracy: 0.98 - ETA: 1:35 - loss: 0.0056 - accuracy: 0.98 - ETA: 1:26 - loss: 0.0056 - accuracy: 0.98 - ETA: 1:16 - loss: 0.0056 - accuracy: 0.98 - ETA: 1:07 - loss: 0.0056 - accuracy: 0.98 - ETA: 57s - loss: 0.0056 - accuracy: 0.9898 - ETA: 48s - loss: 0.0056 - accuracy: 0.989 - ETA: 38s - loss: 0.0056 - accuracy: 0.989 - ETA: 29s - loss: 0.0056 - accuracy: 0.989 - ETA: 19s - loss: 0.0056 - accuracy: 0.989 - ETA: 10s - loss: 0.0056 - accuracy: 0.989 - ETA: 0s - loss: 0.0056 - accuracy: 0.989 - 9803s 634ms/step - loss: 0.0056 - accuracy: 0.9898 - val_loss: 0.0073 - val_accuracy: 0.9868\n",
      "\n",
      "Epoch 00002: val_loss improved from 0.00761 to 0.00730, saving model to bert_tagger.h5\n",
      "Epoch 3/30\n"
     ]
    },
    {
     "name": "stdout",
     "output_type": "stream",
     "text": [
      " 2720/15457 [====>.........................] - ETA: 2:24:28 - loss: 0.0077 - accuracy: 0.992 - ETA: 2:29:55 - loss: 0.0044 - accuracy: 0.995 - ETA: 2:28:59 - loss: 0.0035 - accuracy: 0.995 - ETA: 2:29:25 - loss: 0.0042 - accuracy: 0.993 - ETA: 2:30:08 - loss: 0.0036 - accuracy: 0.993 - ETA: 2:30:22 - loss: 0.0037 - accuracy: 0.993 - ETA: 2:30:40 - loss: 0.0037 - accuracy: 0.992 - ETA: 2:31:23 - loss: 0.0034 - accuracy: 0.993 - ETA: 2:31:39 - loss: 0.0036 - accuracy: 0.993 - ETA: 2:31:22 - loss: 0.0033 - accuracy: 0.994 - ETA: 2:30:54 - loss: 0.0042 - accuracy: 0.993 - ETA: 2:30:26 - loss: 0.0039 - accuracy: 0.993 - ETA: 2:30:01 - loss: 0.0040 - accuracy: 0.993 - ETA: 2:29:54 - loss: 0.0038 - accuracy: 0.994 - ETA: 2:29:55 - loss: 0.0036 - accuracy: 0.994 - ETA: 2:29:33 - loss: 0.0037 - accuracy: 0.994 - ETA: 2:29:13 - loss: 0.0036 - accuracy: 0.994 - ETA: 2:29:10 - loss: 0.0034 - accuracy: 0.995 - ETA: 2:28:59 - loss: 0.0035 - accuracy: 0.995 - ETA: 2:29:32 - loss: 0.0033 - accuracy: 0.995 - ETA: 2:30:09 - loss: 0.0032 - accuracy: 0.995 - ETA: 2:30:34 - loss: 0.0032 - accuracy: 0.995 - ETA: 2:30:30 - loss: 0.0032 - accuracy: 0.995 - ETA: 2:30:22 - loss: 0.0033 - accuracy: 0.995 - ETA: 2:30:33 - loss: 0.0033 - accuracy: 0.995 - ETA: 2:30:29 - loss: 0.0032 - accuracy: 0.995 - ETA: 2:30:12 - loss: 0.0032 - accuracy: 0.995 - ETA: 2:30:07 - loss: 0.0032 - accuracy: 0.995 - ETA: 2:29:45 - loss: 0.0033 - accuracy: 0.995 - ETA: 2:29:32 - loss: 0.0033 - accuracy: 0.994 - ETA: 2:29:12 - loss: 0.0032 - accuracy: 0.995 - ETA: 2:28:53 - loss: 0.0032 - accuracy: 0.995 - ETA: 2:28:37 - loss: 0.0031 - accuracy: 0.995 - ETA: 2:28:19 - loss: 0.0031 - accuracy: 0.995 - ETA: 2:28:12 - loss: 0.0031 - accuracy: 0.995 - ETA: 2:27:53 - loss: 0.0031 - accuracy: 0.995 - ETA: 2:27:35 - loss: 0.0033 - accuracy: 0.994 - ETA: 2:27:18 - loss: 0.0033 - accuracy: 0.994 - ETA: 2:27:03 - loss: 0.0033 - accuracy: 0.994 - ETA: 2:26:46 - loss: 0.0033 - accuracy: 0.994 - ETA: 2:26:34 - loss: 0.0032 - accuracy: 0.994 - ETA: 2:26:26 - loss: 0.0033 - accuracy: 0.994 - ETA: 2:26:16 - loss: 0.0034 - accuracy: 0.994 - ETA: 2:26:02 - loss: 0.0033 - accuracy: 0.994 - ETA: 2:25:46 - loss: 0.0034 - accuracy: 0.994 - ETA: 2:25:33 - loss: 0.0033 - accuracy: 0.994 - ETA: 2:25:18 - loss: 0.0032 - accuracy: 0.994 - ETA: 2:25:07 - loss: 0.0033 - accuracy: 0.994 - ETA: 2:25:01 - loss: 0.0033 - accuracy: 0.994 - ETA: 2:24:47 - loss: 0.0033 - accuracy: 0.994 - ETA: 2:24:37 - loss: 0.0033 - accuracy: 0.994 - ETA: 2:24:28 - loss: 0.0033 - accuracy: 0.994 - ETA: 2:24:15 - loss: 0.0035 - accuracy: 0.994 - ETA: 2:24:01 - loss: 0.0034 - accuracy: 0.994 - ETA: 2:23:52 - loss: 0.0034 - accuracy: 0.994 - ETA: 2:23:43 - loss: 0.0035 - accuracy: 0.994 - ETA: 2:23:35 - loss: 0.0035 - accuracy: 0.994 - ETA: 2:23:27 - loss: 0.0034 - accuracy: 0.994 - ETA: 2:23:17 - loss: 0.0035 - accuracy: 0.994 - ETA: 2:23:03 - loss: 0.0034 - accuracy: 0.994 - ETA: 2:22:49 - loss: 0.0034 - accuracy: 0.994 - ETA: 2:22:42 - loss: 0.0034 - accuracy: 0.994 - ETA: 2:22:30 - loss: 0.0034 - accuracy: 0.994 - ETA: 2:22:20 - loss: 0.0034 - accuracy: 0.994 - ETA: 2:22:08 - loss: 0.0034 - accuracy: 0.994 - ETA: 2:21:55 - loss: 0.0035 - accuracy: 0.994 - ETA: 2:21:45 - loss: 0.0034 - accuracy: 0.994 - ETA: 2:21:39 - loss: 0.0035 - accuracy: 0.994 - ETA: 2:21:36 - loss: 0.0034 - accuracy: 0.994 - ETA: 2:21:29 - loss: 0.0034 - accuracy: 0.994 - ETA: 2:21:20 - loss: 0.0034 - accuracy: 0.994 - ETA: 2:21:10 - loss: 0.0034 - accuracy: 0.994 - ETA: 2:21:00 - loss: 0.0035 - accuracy: 0.994 - ETA: 2:20:48 - loss: 0.0035 - accuracy: 0.994 - ETA: 2:20:40 - loss: 0.0034 - accuracy: 0.994 - ETA: 2:20:28 - loss: 0.0034 - accuracy: 0.994 - ETA: 2:20:17 - loss: 0.0034 - accuracy: 0.994 - ETA: 2:20:04 - loss: 0.0034 - accuracy: 0.994 - ETA: 2:19:52 - loss: 0.0034 - accuracy: 0.994 - ETA: 2:19:41 - loss: 0.0035 - accuracy: 0.994 - ETA: 2:19:36 - loss: 0.0034 - accuracy: 0.994 - ETA: 2:19:32 - loss: 0.0035 - accuracy: 0.994 - ETA: 2:19:23 - loss: 0.0035 - accuracy: 0.994 - ETA: 2:19:15 - loss: 0.0035 - accuracy: 0.994 - ETA: 2:19:06 - loss: 0.0035 - accuracy: 0.994 - ETA: 2:18:58 - loss: 0.0035 - accuracy: 0.994 - ETA: 2:18:50 - loss: 0.0035 - accuracy: 0.994 - ETA: 2:18:40 - loss: 0.0035 - accuracy: 0.994 - ETA: 2:18:41 - loss: 0.0035 - accuracy: 0.994 - ETA: 2:18:40 - loss: 0.0035 - accuracy: 0.994 - ETA: 2:18:29 - loss: 0.0035 - accuracy: 0.994 - ETA: 2:18:19 - loss: 0.0035 - accuracy: 0.994 - ETA: 2:18:06 - loss: 0.0035 - accuracy: 0.994 - ETA: 2:17:56 - loss: 0.0035 - accuracy: 0.994 - ETA: 2:17:47 - loss: 0.0035 - accuracy: 0.994 - ETA: 2:17:36 - loss: 0.0035 - accuracy: 0.994 - ETA: 2:17:29 - loss: 0.0035 - accuracy: 0.994 - ETA: 2:17:21 - loss: 0.0035 - accuracy: 0.994 - ETA: 2:17:15 - loss: 0.0035 - accuracy: 0.994 - ETA: 2:17:10 - loss: 0.0035 - accuracy: 0.994 - ETA: 2:17:04 - loss: 0.0036 - accuracy: 0.994 - ETA: 2:17:02 - loss: 0.0037 - accuracy: 0.994 - ETA: 2:16:51 - loss: 0.0037 - accuracy: 0.994 - ETA: 2:16:39 - loss: 0.0037 - accuracy: 0.993 - ETA: 2:16:27 - loss: 0.0037 - accuracy: 0.993 - ETA: 2:16:17 - loss: 0.0037 - accuracy: 0.993 - ETA: 2:16:06 - loss: 0.0037 - accuracy: 0.994 - ETA: 2:15:56 - loss: 0.0037 - accuracy: 0.993 - ETA: 2:15:46 - loss: 0.0037 - accuracy: 0.993 - ETA: 2:15:36 - loss: 0.0037 - accuracy: 0.993 - ETA: 2:15:24 - loss: 0.0037 - accuracy: 0.993 - ETA: 2:15:13 - loss: 0.0037 - accuracy: 0.993 - ETA: 2:15:01 - loss: 0.0037 - accuracy: 0.993 - ETA: 2:14:51 - loss: 0.0037 - accuracy: 0.993 - ETA: 2:14:47 - loss: 0.0037 - accuracy: 0.993 - ETA: 2:14:45 - loss: 0.0037 - accuracy: 0.993 - ETA: 2:14:46 - loss: 0.0037 - accuracy: 0.993 - ETA: 2:14:46 - loss: 0.0037 - accuracy: 0.993 - ETA: 2:14:45 - loss: 0.0037 - accuracy: 0.993 - ETA: 2:14:40 - loss: 0.0037 - accuracy: 0.993 - ETA: 2:14:36 - loss: 0.0037 - accuracy: 0.993 - ETA: 2:14:30 - loss: 0.0037 - accuracy: 0.993 - ETA: 2:14:23 - loss: 0.0037 - accuracy: 0.993 - ETA: 2:14:13 - loss: 0.0037 - accuracy: 0.993 - ETA: 2:14:01 - loss: 0.0037 - accuracy: 0.993 - ETA: 2:13:49 - loss: 0.0037 - accuracy: 0.993 - ETA: 2:13:39 - loss: 0.0037 - accuracy: 0.993 - ETA: 2:13:30 - loss: 0.0037 - accuracy: 0.993 - ETA: 2:13:18 - loss: 0.0037 - accuracy: 0.993 - ETA: 2:13:08 - loss: 0.0037 - accuracy: 0.993 - ETA: 2:12:59 - loss: 0.0037 - accuracy: 0.993 - ETA: 2:12:50 - loss: 0.0036 - accuracy: 0.993 - ETA: 2:12:40 - loss: 0.0036 - accuracy: 0.993 - ETA: 2:12:32 - loss: 0.0036 - accuracy: 0.993 - ETA: 2:12:22 - loss: 0.0036 - accuracy: 0.993 - ETA: 2:12:11 - loss: 0.0036 - accuracy: 0.993 - ETA: 2:12:00 - loss: 0.0036 - accuracy: 0.993 - ETA: 2:11:48 - loss: 0.0036 - accuracy: 0.993 - ETA: 2:11:37 - loss: 0.0036 - accuracy: 0.993 - ETA: 2:11:26 - loss: 0.0036 - accuracy: 0.993 - ETA: 2:11:18 - loss: 0.0036 - accuracy: 0.993 - ETA: 2:11:06 - loss: 0.0036 - accuracy: 0.993 - ETA: 2:10:57 - loss: 0.0037 - accuracy: 0.993 - ETA: 2:10:45 - loss: 0.0036 - accuracy: 0.993 - ETA: 2:10:36 - loss: 0.0036 - accuracy: 0.993 - ETA: 2:10:26 - loss: 0.0036 - accuracy: 0.993 - ETA: 2:10:18 - loss: 0.0036 - accuracy: 0.993 - ETA: 2:10:09 - loss: 0.0036 - accuracy: 0.993 - ETA: 2:10:00 - loss: 0.0036 - accuracy: 0.993 - ETA: 2:09:50 - loss: 0.0036 - accuracy: 0.993 - ETA: 2:09:42 - loss: 0.0036 - accuracy: 0.993 - ETA: 2:09:33 - loss: 0.0036 - accuracy: 0.993 - ETA: 2:09:22 - loss: 0.0036 - accuracy: 0.993 - ETA: 2:09:11 - loss: 0.0036 - accuracy: 0.993 - ETA: 2:09:02 - loss: 0.0036 - accuracy: 0.993 - ETA: 2:08:52 - loss: 0.0036 - accuracy: 0.993 - ETA: 2:08:41 - loss: 0.0036 - accuracy: 0.993 - ETA: 2:08:30 - loss: 0.0036 - accuracy: 0.993 - ETA: 2:08:19 - loss: 0.0036 - accuracy: 0.993 - ETA: 2:08:08 - loss: 0.0036 - accuracy: 0.993 - ETA: 2:07:59 - loss: 0.0036 - accuracy: 0.993 - ETA: 2:07:49 - loss: 0.0036 - accuracy: 0.993 - ETA: 2:07:38 - loss: 0.0036 - accuracy: 0.993 - ETA: 2:07:27 - loss: 0.0036 - accuracy: 0.993 - ETA: 2:07:17 - loss: 0.0036 - accuracy: 0.993 - ETA: 2:07:06 - loss: 0.0036 - accuracy: 0.993 - ETA: 2:06:55 - loss: 0.0036 - accuracy: 0.993 - ETA: 2:06:46 - loss: 0.0036 - accuracy: 0.993 - ETA: 2:06:37 - loss: 0.0035 - accuracy: 0.994 - ETA: 2:06:26 - loss: 0.0035 - accuracy: 0.9940 5440/15457 [=========>....................] - ETA: 2:06:15 - loss: 0.0036 - accuracy: 0.994 - ETA: 2:06:05 - loss: 0.0035 - accuracy: 0.994 - ETA: 2:05:54 - loss: 0.0035 - accuracy: 0.994 - ETA: 2:05:43 - loss: 0.0035 - accuracy: 0.994 - ETA: 2:05:35 - loss: 0.0035 - accuracy: 0.994 - ETA: 2:05:24 - loss: 0.0035 - accuracy: 0.994 - ETA: 2:05:14 - loss: 0.0035 - accuracy: 0.994 - ETA: 2:05:05 - loss: 0.0035 - accuracy: 0.994 - ETA: 2:04:55 - loss: 0.0035 - accuracy: 0.994 - ETA: 2:04:45 - loss: 0.0035 - accuracy: 0.994 - ETA: 2:04:35 - loss: 0.0035 - accuracy: 0.994 - ETA: 2:04:25 - loss: 0.0035 - accuracy: 0.994 - ETA: 2:04:16 - loss: 0.0035 - accuracy: 0.994 - ETA: 2:04:06 - loss: 0.0035 - accuracy: 0.994 - ETA: 2:03:56 - loss: 0.0035 - accuracy: 0.994 - ETA: 2:03:45 - loss: 0.0035 - accuracy: 0.994 - ETA: 2:03:35 - loss: 0.0035 - accuracy: 0.994 - ETA: 2:03:26 - loss: 0.0035 - accuracy: 0.994 - ETA: 2:03:16 - loss: 0.0035 - accuracy: 0.994 - ETA: 2:03:05 - loss: 0.0035 - accuracy: 0.994 - ETA: 2:02:55 - loss: 0.0035 - accuracy: 0.994 - ETA: 2:02:44 - loss: 0.0035 - accuracy: 0.994 - ETA: 2:02:34 - loss: 0.0035 - accuracy: 0.994 - ETA: 2:02:25 - loss: 0.0035 - accuracy: 0.994 - ETA: 2:02:18 - loss: 0.0035 - accuracy: 0.994 - ETA: 2:02:09 - loss: 0.0035 - accuracy: 0.994 - ETA: 2:02:00 - loss: 0.0035 - accuracy: 0.994 - ETA: 2:01:51 - loss: 0.0035 - accuracy: 0.994 - ETA: 2:01:42 - loss: 0.0035 - accuracy: 0.994 - ETA: 2:01:31 - loss: 0.0035 - accuracy: 0.994 - ETA: 2:01:21 - loss: 0.0035 - accuracy: 0.994 - ETA: 2:01:11 - loss: 0.0035 - accuracy: 0.994 - ETA: 2:01:01 - loss: 0.0035 - accuracy: 0.994 - ETA: 2:00:51 - loss: 0.0035 - accuracy: 0.994 - ETA: 2:00:41 - loss: 0.0035 - accuracy: 0.994 - ETA: 2:00:30 - loss: 0.0035 - accuracy: 0.994 - ETA: 2:00:21 - loss: 0.0035 - accuracy: 0.994 - ETA: 2:00:12 - loss: 0.0035 - accuracy: 0.994 - ETA: 2:00:02 - loss: 0.0035 - accuracy: 0.994 - ETA: 1:59:52 - loss: 0.0035 - accuracy: 0.994 - ETA: 1:59:44 - loss: 0.0035 - accuracy: 0.994 - ETA: 1:59:35 - loss: 0.0036 - accuracy: 0.994 - ETA: 1:59:25 - loss: 0.0035 - accuracy: 0.994 - ETA: 1:59:16 - loss: 0.0035 - accuracy: 0.994 - ETA: 1:59:07 - loss: 0.0035 - accuracy: 0.994 - ETA: 1:58:57 - loss: 0.0035 - accuracy: 0.994 - ETA: 1:58:47 - loss: 0.0035 - accuracy: 0.994 - ETA: 1:58:37 - loss: 0.0035 - accuracy: 0.994 - ETA: 1:58:27 - loss: 0.0035 - accuracy: 0.994 - ETA: 1:58:16 - loss: 0.0035 - accuracy: 0.994 - ETA: 1:58:07 - loss: 0.0035 - accuracy: 0.994 - ETA: 1:57:57 - loss: 0.0035 - accuracy: 0.994 - ETA: 1:57:48 - loss: 0.0035 - accuracy: 0.994 - ETA: 1:57:37 - loss: 0.0035 - accuracy: 0.994 - ETA: 1:57:27 - loss: 0.0035 - accuracy: 0.994 - ETA: 1:57:17 - loss: 0.0035 - accuracy: 0.994 - ETA: 1:57:06 - loss: 0.0035 - accuracy: 0.994 - ETA: 1:56:57 - loss: 0.0035 - accuracy: 0.994 - ETA: 1:56:47 - loss: 0.0035 - accuracy: 0.994 - ETA: 1:56:37 - loss: 0.0035 - accuracy: 0.994 - ETA: 1:56:26 - loss: 0.0035 - accuracy: 0.994 - ETA: 1:56:17 - loss: 0.0035 - accuracy: 0.994 - ETA: 1:56:06 - loss: 0.0035 - accuracy: 0.994 - ETA: 1:55:57 - loss: 0.0035 - accuracy: 0.994 - ETA: 1:55:47 - loss: 0.0035 - accuracy: 0.994 - ETA: 1:55:37 - loss: 0.0035 - accuracy: 0.994 - ETA: 1:55:27 - loss: 0.0035 - accuracy: 0.994 - ETA: 1:55:17 - loss: 0.0035 - accuracy: 0.994 - ETA: 1:55:07 - loss: 0.0035 - accuracy: 0.994 - ETA: 1:54:57 - loss: 0.0035 - accuracy: 0.994 - ETA: 1:54:47 - loss: 0.0035 - accuracy: 0.994 - ETA: 1:54:38 - loss: 0.0035 - accuracy: 0.994 - ETA: 1:54:28 - loss: 0.0035 - accuracy: 0.994 - ETA: 1:54:18 - loss: 0.0035 - accuracy: 0.994 - ETA: 1:54:09 - loss: 0.0035 - accuracy: 0.994 - ETA: 1:53:59 - loss: 0.0035 - accuracy: 0.994 - ETA: 1:53:49 - loss: 0.0035 - accuracy: 0.994 - ETA: 1:53:39 - loss: 0.0035 - accuracy: 0.994 - ETA: 1:53:30 - loss: 0.0035 - accuracy: 0.994 - ETA: 1:53:20 - loss: 0.0035 - accuracy: 0.994 - ETA: 1:53:10 - loss: 0.0035 - accuracy: 0.994 - ETA: 1:53:00 - loss: 0.0035 - accuracy: 0.994 - ETA: 1:52:50 - loss: 0.0035 - accuracy: 0.994 - ETA: 1:52:40 - loss: 0.0035 - accuracy: 0.994 - ETA: 1:52:31 - loss: 0.0035 - accuracy: 0.994 - ETA: 1:52:20 - loss: 0.0035 - accuracy: 0.994 - ETA: 1:52:11 - loss: 0.0035 - accuracy: 0.994 - ETA: 1:52:02 - loss: 0.0035 - accuracy: 0.994 - ETA: 1:51:53 - loss: 0.0035 - accuracy: 0.994 - ETA: 1:51:44 - loss: 0.0035 - accuracy: 0.994 - ETA: 1:51:35 - loss: 0.0036 - accuracy: 0.994 - ETA: 1:51:26 - loss: 0.0035 - accuracy: 0.994 - ETA: 1:51:17 - loss: 0.0036 - accuracy: 0.994 - ETA: 1:51:07 - loss: 0.0036 - accuracy: 0.994 - ETA: 1:50:56 - loss: 0.0036 - accuracy: 0.994 - ETA: 1:50:46 - loss: 0.0035 - accuracy: 0.994 - ETA: 1:50:36 - loss: 0.0035 - accuracy: 0.994 - ETA: 1:50:26 - loss: 0.0035 - accuracy: 0.994 - ETA: 1:50:17 - loss: 0.0035 - accuracy: 0.994 - ETA: 1:50:07 - loss: 0.0036 - accuracy: 0.994 - ETA: 1:49:57 - loss: 0.0036 - accuracy: 0.994 - ETA: 1:49:47 - loss: 0.0036 - accuracy: 0.994 - ETA: 1:49:37 - loss: 0.0036 - accuracy: 0.993 - ETA: 1:49:28 - loss: 0.0036 - accuracy: 0.993 - ETA: 1:49:21 - loss: 0.0036 - accuracy: 0.993 - ETA: 1:49:12 - loss: 0.0036 - accuracy: 0.993 - ETA: 1:49:02 - loss: 0.0036 - accuracy: 0.993 - ETA: 1:48:53 - loss: 0.0036 - accuracy: 0.993 - ETA: 1:48:44 - loss: 0.0035 - accuracy: 0.994 - ETA: 1:48:34 - loss: 0.0035 - accuracy: 0.994 - ETA: 1:48:24 - loss: 0.0036 - accuracy: 0.993 - ETA: 1:48:15 - loss: 0.0036 - accuracy: 0.993 - ETA: 1:48:06 - loss: 0.0035 - accuracy: 0.994 - ETA: 1:47:55 - loss: 0.0036 - accuracy: 0.993 - ETA: 1:47:45 - loss: 0.0036 - accuracy: 0.994 - ETA: 1:47:35 - loss: 0.0036 - accuracy: 0.994 - ETA: 1:47:25 - loss: 0.0036 - accuracy: 0.993 - ETA: 1:47:15 - loss: 0.0036 - accuracy: 0.993 - ETA: 1:47:06 - loss: 0.0036 - accuracy: 0.993 - ETA: 1:46:55 - loss: 0.0036 - accuracy: 0.993 - ETA: 1:46:45 - loss: 0.0036 - accuracy: 0.994 - ETA: 1:46:36 - loss: 0.0036 - accuracy: 0.993 - ETA: 1:46:26 - loss: 0.0036 - accuracy: 0.993 - ETA: 1:46:16 - loss: 0.0036 - accuracy: 0.993 - ETA: 1:46:06 - loss: 0.0036 - accuracy: 0.993 - ETA: 1:45:57 - loss: 0.0035 - accuracy: 0.993 - ETA: 1:45:47 - loss: 0.0035 - accuracy: 0.993 - ETA: 1:45:37 - loss: 0.0035 - accuracy: 0.993 - ETA: 1:45:27 - loss: 0.0035 - accuracy: 0.993 - ETA: 1:45:17 - loss: 0.0036 - accuracy: 0.993 - ETA: 1:45:07 - loss: 0.0036 - accuracy: 0.993 - ETA: 1:44:58 - loss: 0.0036 - accuracy: 0.993 - ETA: 1:44:48 - loss: 0.0036 - accuracy: 0.993 - ETA: 1:44:38 - loss: 0.0036 - accuracy: 0.993 - ETA: 1:44:28 - loss: 0.0036 - accuracy: 0.993 - ETA: 1:44:18 - loss: 0.0036 - accuracy: 0.993 - ETA: 1:44:09 - loss: 0.0036 - accuracy: 0.993 - ETA: 1:43:59 - loss: 0.0036 - accuracy: 0.993 - ETA: 1:43:50 - loss: 0.0035 - accuracy: 0.993 - ETA: 1:43:41 - loss: 0.0036 - accuracy: 0.993 - ETA: 1:43:32 - loss: 0.0036 - accuracy: 0.993 - ETA: 1:43:22 - loss: 0.0036 - accuracy: 0.993 - ETA: 1:43:12 - loss: 0.0036 - accuracy: 0.993 - ETA: 1:43:02 - loss: 0.0036 - accuracy: 0.993 - ETA: 1:42:53 - loss: 0.0036 - accuracy: 0.993 - ETA: 1:42:43 - loss: 0.0036 - accuracy: 0.993 - ETA: 1:42:33 - loss: 0.0036 - accuracy: 0.993 - ETA: 1:42:23 - loss: 0.0036 - accuracy: 0.993 - ETA: 1:42:13 - loss: 0.0036 - accuracy: 0.993 - ETA: 1:42:03 - loss: 0.0036 - accuracy: 0.993 - ETA: 1:41:54 - loss: 0.0035 - accuracy: 0.993 - ETA: 1:41:45 - loss: 0.0035 - accuracy: 0.993 - ETA: 1:41:36 - loss: 0.0036 - accuracy: 0.993 - ETA: 1:41:26 - loss: 0.0036 - accuracy: 0.993 - ETA: 1:41:17 - loss: 0.0036 - accuracy: 0.993 - ETA: 1:41:07 - loss: 0.0035 - accuracy: 0.993 - ETA: 1:40:57 - loss: 0.0035 - accuracy: 0.993 - ETA: 1:40:48 - loss: 0.0036 - accuracy: 0.993 - ETA: 1:40:39 - loss: 0.0035 - accuracy: 0.993 - ETA: 1:40:29 - loss: 0.0036 - accuracy: 0.993 - ETA: 1:40:19 - loss: 0.0036 - accuracy: 0.993 - ETA: 1:40:09 - loss: 0.0036 - accuracy: 0.993 - ETA: 1:39:59 - loss: 0.0036 - accuracy: 0.993 - ETA: 1:39:50 - loss: 0.0036 - accuracy: 0.993 - ETA: 1:39:40 - loss: 0.0035 - accuracy: 0.993 - ETA: 1:39:31 - loss: 0.0035 - accuracy: 0.993 - ETA: 1:39:22 - loss: 0.0035 - accuracy: 0.993 - ETA: 1:39:13 - loss: 0.0035 - accuracy: 0.994 - ETA: 1:39:03 - loss: 0.0035 - accuracy: 0.994 - ETA: 1:38:54 - loss: 0.0035 - accuracy: 0.9940"
     ]
    },
    {
     "name": "stdout",
     "output_type": "stream",
     "text": [
      " 8160/15457 [==============>...............] - ETA: 1:38:44 - loss: 0.0035 - accuracy: 0.994 - ETA: 1:38:36 - loss: 0.0035 - accuracy: 0.993 - ETA: 1:38:26 - loss: 0.0035 - accuracy: 0.994 - ETA: 1:38:16 - loss: 0.0035 - accuracy: 0.993 - ETA: 1:38:07 - loss: 0.0035 - accuracy: 0.993 - ETA: 1:37:57 - loss: 0.0035 - accuracy: 0.993 - ETA: 1:37:47 - loss: 0.0035 - accuracy: 0.993 - ETA: 1:37:37 - loss: 0.0035 - accuracy: 0.994 - ETA: 1:37:28 - loss: 0.0035 - accuracy: 0.994 - ETA: 1:37:18 - loss: 0.0035 - accuracy: 0.993 - ETA: 1:37:08 - loss: 0.0035 - accuracy: 0.993 - ETA: 1:36:59 - loss: 0.0035 - accuracy: 0.993 - ETA: 1:36:49 - loss: 0.0035 - accuracy: 0.993 - ETA: 1:36:39 - loss: 0.0035 - accuracy: 0.993 - ETA: 1:36:29 - loss: 0.0035 - accuracy: 0.993 - ETA: 1:36:20 - loss: 0.0035 - accuracy: 0.993 - ETA: 1:36:11 - loss: 0.0035 - accuracy: 0.993 - ETA: 1:36:01 - loss: 0.0035 - accuracy: 0.993 - ETA: 1:35:51 - loss: 0.0035 - accuracy: 0.993 - ETA: 1:35:41 - loss: 0.0035 - accuracy: 0.993 - ETA: 1:35:32 - loss: 0.0035 - accuracy: 0.993 - ETA: 1:35:22 - loss: 0.0035 - accuracy: 0.993 - ETA: 1:35:13 - loss: 0.0035 - accuracy: 0.994 - ETA: 1:35:03 - loss: 0.0035 - accuracy: 0.993 - ETA: 1:34:53 - loss: 0.0035 - accuracy: 0.993 - ETA: 1:34:44 - loss: 0.0035 - accuracy: 0.993 - ETA: 1:34:34 - loss: 0.0035 - accuracy: 0.993 - ETA: 1:34:24 - loss: 0.0035 - accuracy: 0.993 - ETA: 1:34:15 - loss: 0.0035 - accuracy: 0.993 - ETA: 1:34:05 - loss: 0.0035 - accuracy: 0.993 - ETA: 1:33:55 - loss: 0.0035 - accuracy: 0.993 - ETA: 1:33:46 - loss: 0.0035 - accuracy: 0.993 - ETA: 1:33:37 - loss: 0.0035 - accuracy: 0.993 - ETA: 1:33:27 - loss: 0.0035 - accuracy: 0.993 - ETA: 1:33:18 - loss: 0.0035 - accuracy: 0.993 - ETA: 1:33:09 - loss: 0.0035 - accuracy: 0.993 - ETA: 1:32:59 - loss: 0.0035 - accuracy: 0.993 - ETA: 1:32:49 - loss: 0.0035 - accuracy: 0.993 - ETA: 1:32:39 - loss: 0.0035 - accuracy: 0.993 - ETA: 1:32:30 - loss: 0.0035 - accuracy: 0.993 - ETA: 1:32:20 - loss: 0.0035 - accuracy: 0.993 - ETA: 1:32:10 - loss: 0.0035 - accuracy: 0.993 - ETA: 1:32:01 - loss: 0.0035 - accuracy: 0.993 - ETA: 1:31:52 - loss: 0.0035 - accuracy: 0.993 - ETA: 1:31:42 - loss: 0.0035 - accuracy: 0.993 - ETA: 1:31:33 - loss: 0.0035 - accuracy: 0.993 - ETA: 1:31:24 - loss: 0.0035 - accuracy: 0.993 - ETA: 1:31:14 - loss: 0.0035 - accuracy: 0.993 - ETA: 1:31:05 - loss: 0.0035 - accuracy: 0.993 - ETA: 1:30:56 - loss: 0.0035 - accuracy: 0.993 - ETA: 1:30:46 - loss: 0.0035 - accuracy: 0.993 - ETA: 1:30:36 - loss: 0.0035 - accuracy: 0.993 - ETA: 1:30:27 - loss: 0.0035 - accuracy: 0.993 - ETA: 1:30:17 - loss: 0.0035 - accuracy: 0.993 - ETA: 1:30:07 - loss: 0.0035 - accuracy: 0.993 - ETA: 1:29:58 - loss: 0.0035 - accuracy: 0.993 - ETA: 1:29:48 - loss: 0.0035 - accuracy: 0.993 - ETA: 1:29:39 - loss: 0.0035 - accuracy: 0.993 - ETA: 1:29:29 - loss: 0.0035 - accuracy: 0.993 - ETA: 1:29:20 - loss: 0.0035 - accuracy: 0.993 - ETA: 1:29:12 - loss: 0.0035 - accuracy: 0.993 - ETA: 1:29:03 - loss: 0.0035 - accuracy: 0.993 - ETA: 1:28:55 - loss: 0.0035 - accuracy: 0.993 - ETA: 1:28:45 - loss: 0.0035 - accuracy: 0.993 - ETA: 1:28:36 - loss: 0.0035 - accuracy: 0.993 - ETA: 1:28:27 - loss: 0.0035 - accuracy: 0.993 - ETA: 1:28:17 - loss: 0.0035 - accuracy: 0.993 - ETA: 1:28:08 - loss: 0.0035 - accuracy: 0.993 - ETA: 1:27:59 - loss: 0.0035 - accuracy: 0.993 - ETA: 1:27:49 - loss: 0.0035 - accuracy: 0.993 - ETA: 1:27:39 - loss: 0.0035 - accuracy: 0.993 - ETA: 1:27:29 - loss: 0.0035 - accuracy: 0.993 - ETA: 1:27:20 - loss: 0.0035 - accuracy: 0.993 - ETA: 1:27:10 - loss: 0.0035 - accuracy: 0.993 - ETA: 1:27:00 - loss: 0.0035 - accuracy: 0.993 - ETA: 1:26:51 - loss: 0.0035 - accuracy: 0.993 - ETA: 1:26:41 - loss: 0.0035 - accuracy: 0.993 - ETA: 1:26:31 - loss: 0.0035 - accuracy: 0.993 - ETA: 1:26:22 - loss: 0.0035 - accuracy: 0.993 - ETA: 1:26:12 - loss: 0.0035 - accuracy: 0.993 - ETA: 1:26:02 - loss: 0.0035 - accuracy: 0.993 - ETA: 1:25:53 - loss: 0.0035 - accuracy: 0.993 - ETA: 1:25:44 - loss: 0.0035 - accuracy: 0.993 - ETA: 1:25:34 - loss: 0.0035 - accuracy: 0.993 - ETA: 1:25:24 - loss: 0.0035 - accuracy: 0.993 - ETA: 1:25:15 - loss: 0.0035 - accuracy: 0.993 - ETA: 1:25:05 - loss: 0.0035 - accuracy: 0.993 - ETA: 1:24:55 - loss: 0.0035 - accuracy: 0.993 - ETA: 1:24:46 - loss: 0.0035 - accuracy: 0.993 - ETA: 1:24:36 - loss: 0.0035 - accuracy: 0.993 - ETA: 1:24:27 - loss: 0.0035 - accuracy: 0.993 - ETA: 1:24:17 - loss: 0.0035 - accuracy: 0.993 - ETA: 1:24:07 - loss: 0.0035 - accuracy: 0.993 - ETA: 1:23:58 - loss: 0.0035 - accuracy: 0.993 - ETA: 1:23:48 - loss: 0.0035 - accuracy: 0.993 - ETA: 1:23:39 - loss: 0.0035 - accuracy: 0.993 - ETA: 1:23:30 - loss: 0.0035 - accuracy: 0.993 - ETA: 1:23:20 - loss: 0.0035 - accuracy: 0.993 - ETA: 1:23:11 - loss: 0.0035 - accuracy: 0.993 - ETA: 1:23:01 - loss: 0.0035 - accuracy: 0.993 - ETA: 1:22:52 - loss: 0.0035 - accuracy: 0.993 - ETA: 1:22:42 - loss: 0.0035 - accuracy: 0.993 - ETA: 1:22:33 - loss: 0.0035 - accuracy: 0.993 - ETA: 1:22:23 - loss: 0.0035 - accuracy: 0.993 - ETA: 1:22:13 - loss: 0.0035 - accuracy: 0.993 - ETA: 1:22:04 - loss: 0.0035 - accuracy: 0.993 - ETA: 1:21:54 - loss: 0.0035 - accuracy: 0.993 - ETA: 1:21:45 - loss: 0.0035 - accuracy: 0.993 - ETA: 1:21:36 - loss: 0.0035 - accuracy: 0.993 - ETA: 1:21:26 - loss: 0.0035 - accuracy: 0.993 - ETA: 1:21:17 - loss: 0.0035 - accuracy: 0.993 - ETA: 1:21:08 - loss: 0.0035 - accuracy: 0.993 - ETA: 1:20:58 - loss: 0.0035 - accuracy: 0.993 - ETA: 1:20:49 - loss: 0.0035 - accuracy: 0.993 - ETA: 1:20:39 - loss: 0.0035 - accuracy: 0.993 - ETA: 1:20:30 - loss: 0.0035 - accuracy: 0.993 - ETA: 1:20:20 - loss: 0.0035 - accuracy: 0.993 - ETA: 1:20:11 - loss: 0.0035 - accuracy: 0.993 - ETA: 1:20:01 - loss: 0.0035 - accuracy: 0.993 - ETA: 1:19:51 - loss: 0.0035 - accuracy: 0.993 - ETA: 1:19:42 - loss: 0.0035 - accuracy: 0.993 - ETA: 1:19:32 - loss: 0.0035 - accuracy: 0.993 - ETA: 1:19:23 - loss: 0.0035 - accuracy: 0.993 - ETA: 1:19:14 - loss: 0.0035 - accuracy: 0.993 - ETA: 1:19:04 - loss: 0.0035 - accuracy: 0.993 - ETA: 1:18:55 - loss: 0.0035 - accuracy: 0.993 - ETA: 1:18:46 - loss: 0.0035 - accuracy: 0.993 - ETA: 1:18:36 - loss: 0.0035 - accuracy: 0.993 - ETA: 1:18:27 - loss: 0.0035 - accuracy: 0.993 - ETA: 1:18:18 - loss: 0.0035 - accuracy: 0.993 - ETA: 1:18:09 - loss: 0.0035 - accuracy: 0.993 - ETA: 1:17:59 - loss: 0.0035 - accuracy: 0.993 - ETA: 1:17:49 - loss: 0.0035 - accuracy: 0.993 - ETA: 1:17:40 - loss: 0.0035 - accuracy: 0.993 - ETA: 1:17:30 - loss: 0.0035 - accuracy: 0.993 - ETA: 1:17:21 - loss: 0.0035 - accuracy: 0.993 - ETA: 1:17:11 - loss: 0.0035 - accuracy: 0.993 - ETA: 1:17:02 - loss: 0.0035 - accuracy: 0.993 - ETA: 1:16:52 - loss: 0.0035 - accuracy: 0.993 - ETA: 1:16:42 - loss: 0.0035 - accuracy: 0.993 - ETA: 1:16:33 - loss: 0.0035 - accuracy: 0.993 - ETA: 1:16:23 - loss: 0.0035 - accuracy: 0.993 - ETA: 1:16:14 - loss: 0.0035 - accuracy: 0.993 - ETA: 1:16:04 - loss: 0.0035 - accuracy: 0.993 - ETA: 1:15:55 - loss: 0.0035 - accuracy: 0.993 - ETA: 1:15:46 - loss: 0.0035 - accuracy: 0.993 - ETA: 1:15:37 - loss: 0.0035 - accuracy: 0.993 - ETA: 1:15:28 - loss: 0.0035 - accuracy: 0.993 - ETA: 1:15:19 - loss: 0.0035 - accuracy: 0.993 - ETA: 1:15:11 - loss: 0.0035 - accuracy: 0.993 - ETA: 1:15:01 - loss: 0.0035 - accuracy: 0.993 - ETA: 1:14:51 - loss: 0.0035 - accuracy: 0.993 - ETA: 1:14:42 - loss: 0.0035 - accuracy: 0.993 - ETA: 1:14:32 - loss: 0.0035 - accuracy: 0.993 - ETA: 1:14:22 - loss: 0.0035 - accuracy: 0.993 - ETA: 1:14:13 - loss: 0.0035 - accuracy: 0.993 - ETA: 1:14:04 - loss: 0.0035 - accuracy: 0.993 - ETA: 1:13:54 - loss: 0.0035 - accuracy: 0.993 - ETA: 1:13:44 - loss: 0.0035 - accuracy: 0.993 - ETA: 1:13:35 - loss: 0.0035 - accuracy: 0.993 - ETA: 1:13:26 - loss: 0.0035 - accuracy: 0.993 - ETA: 1:13:16 - loss: 0.0035 - accuracy: 0.993 - ETA: 1:13:07 - loss: 0.0035 - accuracy: 0.993 - ETA: 1:12:59 - loss: 0.0035 - accuracy: 0.993 - ETA: 1:12:50 - loss: 0.0035 - accuracy: 0.993 - ETA: 1:12:42 - loss: 0.0035 - accuracy: 0.993 - ETA: 1:12:34 - loss: 0.0035 - accuracy: 0.993 - ETA: 1:12:25 - loss: 0.0035 - accuracy: 0.993 - ETA: 1:12:16 - loss: 0.0035 - accuracy: 0.993 - ETA: 1:12:07 - loss: 0.0035 - accuracy: 0.9939"
     ]
    },
    {
     "name": "stdout",
     "output_type": "stream",
     "text": [
      "10944/15457 [====================>.........] - ETA: 1:11:58 - loss: 0.0035 - accuracy: 0.993 - ETA: 1:11:48 - loss: 0.0035 - accuracy: 0.993 - ETA: 1:11:39 - loss: 0.0035 - accuracy: 0.993 - ETA: 1:11:30 - loss: 0.0035 - accuracy: 0.993 - ETA: 1:11:20 - loss: 0.0035 - accuracy: 0.993 - ETA: 1:11:11 - loss: 0.0035 - accuracy: 0.993 - ETA: 1:11:01 - loss: 0.0035 - accuracy: 0.993 - ETA: 1:10:51 - loss: 0.0035 - accuracy: 0.993 - ETA: 1:10:42 - loss: 0.0035 - accuracy: 0.993 - ETA: 1:10:32 - loss: 0.0035 - accuracy: 0.993 - ETA: 1:10:22 - loss: 0.0035 - accuracy: 0.993 - ETA: 1:10:13 - loss: 0.0035 - accuracy: 0.993 - ETA: 1:10:03 - loss: 0.0035 - accuracy: 0.993 - ETA: 1:09:54 - loss: 0.0035 - accuracy: 0.993 - ETA: 1:09:44 - loss: 0.0035 - accuracy: 0.993 - ETA: 1:09:35 - loss: 0.0035 - accuracy: 0.993 - ETA: 1:09:26 - loss: 0.0035 - accuracy: 0.993 - ETA: 1:09:16 - loss: 0.0035 - accuracy: 0.993 - ETA: 1:09:07 - loss: 0.0035 - accuracy: 0.993 - ETA: 1:08:57 - loss: 0.0035 - accuracy: 0.993 - ETA: 1:08:48 - loss: 0.0035 - accuracy: 0.993 - ETA: 1:08:39 - loss: 0.0035 - accuracy: 0.993 - ETA: 1:08:29 - loss: 0.0035 - accuracy: 0.993 - ETA: 1:08:20 - loss: 0.0035 - accuracy: 0.993 - ETA: 1:08:11 - loss: 0.0035 - accuracy: 0.993 - ETA: 1:08:01 - loss: 0.0035 - accuracy: 0.993 - ETA: 1:07:52 - loss: 0.0035 - accuracy: 0.993 - ETA: 1:07:42 - loss: 0.0035 - accuracy: 0.993 - ETA: 1:07:32 - loss: 0.0035 - accuracy: 0.993 - ETA: 1:07:23 - loss: 0.0035 - accuracy: 0.993 - ETA: 1:07:13 - loss: 0.0036 - accuracy: 0.993 - ETA: 1:07:04 - loss: 0.0036 - accuracy: 0.993 - ETA: 1:06:54 - loss: 0.0036 - accuracy: 0.993 - ETA: 1:06:45 - loss: 0.0036 - accuracy: 0.993 - ETA: 1:06:36 - loss: 0.0036 - accuracy: 0.993 - ETA: 1:06:26 - loss: 0.0035 - accuracy: 0.993 - ETA: 1:06:17 - loss: 0.0035 - accuracy: 0.993 - ETA: 1:06:07 - loss: 0.0035 - accuracy: 0.993 - ETA: 1:05:58 - loss: 0.0035 - accuracy: 0.993 - ETA: 1:05:48 - loss: 0.0035 - accuracy: 0.993 - ETA: 1:05:38 - loss: 0.0035 - accuracy: 0.993 - ETA: 1:05:29 - loss: 0.0035 - accuracy: 0.993 - ETA: 1:05:19 - loss: 0.0035 - accuracy: 0.993 - ETA: 1:05:09 - loss: 0.0035 - accuracy: 0.993 - ETA: 1:05:00 - loss: 0.0035 - accuracy: 0.993 - ETA: 1:04:50 - loss: 0.0035 - accuracy: 0.993 - ETA: 1:04:41 - loss: 0.0035 - accuracy: 0.993 - ETA: 1:04:31 - loss: 0.0035 - accuracy: 0.993 - ETA: 1:04:22 - loss: 0.0035 - accuracy: 0.993 - ETA: 1:04:12 - loss: 0.0035 - accuracy: 0.993 - ETA: 1:04:02 - loss: 0.0035 - accuracy: 0.993 - ETA: 1:03:53 - loss: 0.0035 - accuracy: 0.994 - ETA: 1:03:44 - loss: 0.0035 - accuracy: 0.994 - ETA: 1:03:35 - loss: 0.0035 - accuracy: 0.994 - ETA: 1:03:25 - loss: 0.0035 - accuracy: 0.994 - ETA: 1:03:16 - loss: 0.0035 - accuracy: 0.994 - ETA: 1:03:06 - loss: 0.0035 - accuracy: 0.994 - ETA: 1:02:56 - loss: 0.0035 - accuracy: 0.994 - ETA: 1:02:47 - loss: 0.0035 - accuracy: 0.994 - ETA: 1:02:37 - loss: 0.0035 - accuracy: 0.994 - ETA: 1:02:28 - loss: 0.0035 - accuracy: 0.994 - ETA: 1:02:18 - loss: 0.0035 - accuracy: 0.994 - ETA: 1:02:09 - loss: 0.0035 - accuracy: 0.994 - ETA: 1:01:59 - loss: 0.0035 - accuracy: 0.994 - ETA: 1:01:50 - loss: 0.0035 - accuracy: 0.993 - ETA: 1:01:41 - loss: 0.0035 - accuracy: 0.994 - ETA: 1:01:31 - loss: 0.0035 - accuracy: 0.994 - ETA: 1:01:22 - loss: 0.0035 - accuracy: 0.994 - ETA: 1:01:12 - loss: 0.0035 - accuracy: 0.994 - ETA: 1:01:03 - loss: 0.0035 - accuracy: 0.994 - ETA: 1:00:53 - loss: 0.0035 - accuracy: 0.994 - ETA: 1:00:44 - loss: 0.0035 - accuracy: 0.994 - ETA: 1:00:34 - loss: 0.0035 - accuracy: 0.994 - ETA: 1:00:25 - loss: 0.0035 - accuracy: 0.994 - ETA: 1:00:15 - loss: 0.0035 - accuracy: 0.994 - ETA: 1:00:05 - loss: 0.0035 - accuracy: 0.994 - ETA: 59:56 - loss: 0.0035 - accuracy: 0.9940  - ETA: 59:46 - loss: 0.0035 - accuracy: 0.994 - ETA: 59:37 - loss: 0.0035 - accuracy: 0.994 - ETA: 59:27 - loss: 0.0035 - accuracy: 0.994 - ETA: 59:18 - loss: 0.0035 - accuracy: 0.994 - ETA: 59:09 - loss: 0.0035 - accuracy: 0.994 - ETA: 58:59 - loss: 0.0035 - accuracy: 0.994 - ETA: 58:50 - loss: 0.0035 - accuracy: 0.994 - ETA: 58:40 - loss: 0.0035 - accuracy: 0.994 - ETA: 58:31 - loss: 0.0035 - accuracy: 0.994 - ETA: 58:21 - loss: 0.0035 - accuracy: 0.994 - ETA: 58:12 - loss: 0.0035 - accuracy: 0.994 - ETA: 58:02 - loss: 0.0035 - accuracy: 0.994 - ETA: 57:53 - loss: 0.0035 - accuracy: 0.994 - ETA: 57:43 - loss: 0.0035 - accuracy: 0.994 - ETA: 57:34 - loss: 0.0035 - accuracy: 0.994 - ETA: 57:25 - loss: 0.0035 - accuracy: 0.994 - ETA: 57:16 - loss: 0.0035 - accuracy: 0.994 - ETA: 57:06 - loss: 0.0035 - accuracy: 0.994 - ETA: 56:57 - loss: 0.0035 - accuracy: 0.994 - ETA: 56:47 - loss: 0.0035 - accuracy: 0.994 - ETA: 56:38 - loss: 0.0035 - accuracy: 0.994 - ETA: 56:28 - loss: 0.0035 - accuracy: 0.994 - ETA: 56:19 - loss: 0.0035 - accuracy: 0.994 - ETA: 56:09 - loss: 0.0035 - accuracy: 0.994 - ETA: 55:59 - loss: 0.0035 - accuracy: 0.994 - ETA: 55:50 - loss: 0.0035 - accuracy: 0.994 - ETA: 55:40 - loss: 0.0035 - accuracy: 0.994 - ETA: 55:31 - loss: 0.0035 - accuracy: 0.993 - ETA: 55:21 - loss: 0.0035 - accuracy: 0.993 - ETA: 55:12 - loss: 0.0035 - accuracy: 0.993 - ETA: 55:02 - loss: 0.0035 - accuracy: 0.994 - ETA: 54:53 - loss: 0.0035 - accuracy: 0.994 - ETA: 54:43 - loss: 0.0035 - accuracy: 0.994 - ETA: 54:33 - loss: 0.0035 - accuracy: 0.994 - ETA: 54:24 - loss: 0.0035 - accuracy: 0.993 - ETA: 54:15 - loss: 0.0035 - accuracy: 0.993 - ETA: 54:05 - loss: 0.0035 - accuracy: 0.993 - ETA: 53:55 - loss: 0.0035 - accuracy: 0.993 - ETA: 53:46 - loss: 0.0035 - accuracy: 0.993 - ETA: 53:36 - loss: 0.0035 - accuracy: 0.993 - ETA: 53:27 - loss: 0.0036 - accuracy: 0.993 - ETA: 53:18 - loss: 0.0035 - accuracy: 0.993 - ETA: 53:09 - loss: 0.0035 - accuracy: 0.993 - ETA: 52:59 - loss: 0.0035 - accuracy: 0.993 - ETA: 52:50 - loss: 0.0036 - accuracy: 0.993 - ETA: 52:40 - loss: 0.0036 - accuracy: 0.993 - ETA: 52:30 - loss: 0.0036 - accuracy: 0.993 - ETA: 52:21 - loss: 0.0036 - accuracy: 0.993 - ETA: 52:12 - loss: 0.0036 - accuracy: 0.993 - ETA: 52:02 - loss: 0.0036 - accuracy: 0.993 - ETA: 51:53 - loss: 0.0035 - accuracy: 0.993 - ETA: 51:43 - loss: 0.0035 - accuracy: 0.993 - ETA: 51:34 - loss: 0.0035 - accuracy: 0.993 - ETA: 51:24 - loss: 0.0035 - accuracy: 0.993 - ETA: 51:15 - loss: 0.0035 - accuracy: 0.993 - ETA: 51:05 - loss: 0.0035 - accuracy: 0.993 - ETA: 50:56 - loss: 0.0035 - accuracy: 0.993 - ETA: 50:46 - loss: 0.0036 - accuracy: 0.993 - ETA: 50:36 - loss: 0.0036 - accuracy: 0.993 - ETA: 50:27 - loss: 0.0036 - accuracy: 0.993 - ETA: 50:17 - loss: 0.0036 - accuracy: 0.993 - ETA: 50:08 - loss: 0.0036 - accuracy: 0.993 - ETA: 49:58 - loss: 0.0036 - accuracy: 0.993 - ETA: 49:49 - loss: 0.0036 - accuracy: 0.993 - ETA: 49:39 - loss: 0.0036 - accuracy: 0.993 - ETA: 49:30 - loss: 0.0036 - accuracy: 0.993 - ETA: 49:20 - loss: 0.0035 - accuracy: 0.993 - ETA: 49:11 - loss: 0.0035 - accuracy: 0.993 - ETA: 49:02 - loss: 0.0036 - accuracy: 0.993 - ETA: 48:52 - loss: 0.0036 - accuracy: 0.993 - ETA: 48:43 - loss: 0.0036 - accuracy: 0.993 - ETA: 48:33 - loss: 0.0036 - accuracy: 0.993 - ETA: 48:24 - loss: 0.0036 - accuracy: 0.993 - ETA: 48:14 - loss: 0.0036 - accuracy: 0.993 - ETA: 48:05 - loss: 0.0036 - accuracy: 0.993 - ETA: 47:55 - loss: 0.0036 - accuracy: 0.993 - ETA: 47:46 - loss: 0.0036 - accuracy: 0.993 - ETA: 47:36 - loss: 0.0036 - accuracy: 0.993 - ETA: 47:27 - loss: 0.0036 - accuracy: 0.993 - ETA: 47:17 - loss: 0.0036 - accuracy: 0.993 - ETA: 47:08 - loss: 0.0036 - accuracy: 0.993 - ETA: 46:58 - loss: 0.0036 - accuracy: 0.993 - ETA: 46:48 - loss: 0.0036 - accuracy: 0.993 - ETA: 46:39 - loss: 0.0036 - accuracy: 0.993 - ETA: 46:29 - loss: 0.0036 - accuracy: 0.993 - ETA: 46:20 - loss: 0.0036 - accuracy: 0.993 - ETA: 46:10 - loss: 0.0036 - accuracy: 0.993 - ETA: 46:01 - loss: 0.0036 - accuracy: 0.993 - ETA: 45:51 - loss: 0.0036 - accuracy: 0.993 - ETA: 45:42 - loss: 0.0036 - accuracy: 0.993 - ETA: 45:32 - loss: 0.0036 - accuracy: 0.993 - ETA: 45:23 - loss: 0.0036 - accuracy: 0.993 - ETA: 45:13 - loss: 0.0036 - accuracy: 0.993 - ETA: 45:03 - loss: 0.0036 - accuracy: 0.993 - ETA: 44:54 - loss: 0.0036 - accuracy: 0.993 - ETA: 44:44 - loss: 0.0036 - accuracy: 0.993 - ETA: 44:35 - loss: 0.0036 - accuracy: 0.9939"
     ]
    },
    {
     "name": "stdout",
     "output_type": "stream",
     "text": [
      "13792/15457 [=========================>....] - ETA: 44:25 - loss: 0.0036 - accuracy: 0.993 - ETA: 44:16 - loss: 0.0036 - accuracy: 0.993 - ETA: 44:06 - loss: 0.0036 - accuracy: 0.993 - ETA: 43:57 - loss: 0.0036 - accuracy: 0.993 - ETA: 43:47 - loss: 0.0036 - accuracy: 0.993 - ETA: 43:38 - loss: 0.0036 - accuracy: 0.993 - ETA: 43:28 - loss: 0.0036 - accuracy: 0.993 - ETA: 43:19 - loss: 0.0036 - accuracy: 0.993 - ETA: 43:09 - loss: 0.0036 - accuracy: 0.993 - ETA: 43:00 - loss: 0.0036 - accuracy: 0.993 - ETA: 42:50 - loss: 0.0036 - accuracy: 0.993 - ETA: 42:41 - loss: 0.0036 - accuracy: 0.993 - ETA: 42:31 - loss: 0.0036 - accuracy: 0.993 - ETA: 42:22 - loss: 0.0036 - accuracy: 0.993 - ETA: 42:12 - loss: 0.0036 - accuracy: 0.993 - ETA: 42:03 - loss: 0.0036 - accuracy: 0.993 - ETA: 41:53 - loss: 0.0036 - accuracy: 0.993 - ETA: 41:44 - loss: 0.0036 - accuracy: 0.993 - ETA: 41:34 - loss: 0.0036 - accuracy: 0.993 - ETA: 41:25 - loss: 0.0036 - accuracy: 0.993 - ETA: 41:15 - loss: 0.0036 - accuracy: 0.993 - ETA: 41:06 - loss: 0.0036 - accuracy: 0.993 - ETA: 40:56 - loss: 0.0036 - accuracy: 0.993 - ETA: 40:47 - loss: 0.0036 - accuracy: 0.993 - ETA: 40:37 - loss: 0.0036 - accuracy: 0.993 - ETA: 40:28 - loss: 0.0036 - accuracy: 0.993 - ETA: 40:18 - loss: 0.0036 - accuracy: 0.993 - ETA: 40:09 - loss: 0.0036 - accuracy: 0.993 - ETA: 39:59 - loss: 0.0036 - accuracy: 0.993 - ETA: 39:50 - loss: 0.0036 - accuracy: 0.993 - ETA: 39:40 - loss: 0.0036 - accuracy: 0.993 - ETA: 39:31 - loss: 0.0036 - accuracy: 0.993 - ETA: 39:21 - loss: 0.0036 - accuracy: 0.993 - ETA: 39:12 - loss: 0.0036 - accuracy: 0.993 - ETA: 39:02 - loss: 0.0036 - accuracy: 0.993 - ETA: 38:53 - loss: 0.0036 - accuracy: 0.993 - ETA: 38:44 - loss: 0.0036 - accuracy: 0.993 - ETA: 38:34 - loss: 0.0036 - accuracy: 0.993 - ETA: 38:25 - loss: 0.0036 - accuracy: 0.993 - ETA: 38:15 - loss: 0.0036 - accuracy: 0.993 - ETA: 38:06 - loss: 0.0036 - accuracy: 0.993 - ETA: 37:56 - loss: 0.0036 - accuracy: 0.993 - ETA: 37:47 - loss: 0.0036 - accuracy: 0.993 - ETA: 37:37 - loss: 0.0036 - accuracy: 0.993 - ETA: 37:28 - loss: 0.0036 - accuracy: 0.993 - ETA: 37:18 - loss: 0.0035 - accuracy: 0.993 - ETA: 37:08 - loss: 0.0035 - accuracy: 0.993 - ETA: 36:59 - loss: 0.0036 - accuracy: 0.993 - ETA: 36:49 - loss: 0.0035 - accuracy: 0.993 - ETA: 36:40 - loss: 0.0035 - accuracy: 0.993 - ETA: 36:30 - loss: 0.0036 - accuracy: 0.993 - ETA: 36:21 - loss: 0.0036 - accuracy: 0.993 - ETA: 36:11 - loss: 0.0035 - accuracy: 0.993 - ETA: 36:02 - loss: 0.0036 - accuracy: 0.993 - ETA: 35:52 - loss: 0.0036 - accuracy: 0.993 - ETA: 35:43 - loss: 0.0036 - accuracy: 0.993 - ETA: 35:33 - loss: 0.0036 - accuracy: 0.993 - ETA: 35:24 - loss: 0.0036 - accuracy: 0.993 - ETA: 35:14 - loss: 0.0036 - accuracy: 0.993 - ETA: 35:05 - loss: 0.0036 - accuracy: 0.993 - ETA: 34:55 - loss: 0.0036 - accuracy: 0.993 - ETA: 34:46 - loss: 0.0036 - accuracy: 0.993 - ETA: 34:36 - loss: 0.0036 - accuracy: 0.993 - ETA: 34:27 - loss: 0.0036 - accuracy: 0.993 - ETA: 34:17 - loss: 0.0036 - accuracy: 0.993 - ETA: 34:08 - loss: 0.0036 - accuracy: 0.993 - ETA: 33:58 - loss: 0.0036 - accuracy: 0.993 - ETA: 33:49 - loss: 0.0036 - accuracy: 0.993 - ETA: 33:39 - loss: 0.0036 - accuracy: 0.993 - ETA: 33:30 - loss: 0.0036 - accuracy: 0.993 - ETA: 33:20 - loss: 0.0036 - accuracy: 0.993 - ETA: 33:11 - loss: 0.0036 - accuracy: 0.993 - ETA: 33:02 - loss: 0.0036 - accuracy: 0.993 - ETA: 32:52 - loss: 0.0036 - accuracy: 0.993 - ETA: 32:43 - loss: 0.0036 - accuracy: 0.993 - ETA: 32:33 - loss: 0.0036 - accuracy: 0.993 - ETA: 32:23 - loss: 0.0036 - accuracy: 0.993 - ETA: 32:14 - loss: 0.0036 - accuracy: 0.993 - ETA: 32:04 - loss: 0.0036 - accuracy: 0.993 - ETA: 31:55 - loss: 0.0036 - accuracy: 0.993 - ETA: 31:46 - loss: 0.0036 - accuracy: 0.993 - ETA: 31:36 - loss: 0.0036 - accuracy: 0.993 - ETA: 31:27 - loss: 0.0036 - accuracy: 0.993 - ETA: 31:17 - loss: 0.0036 - accuracy: 0.993 - ETA: 31:08 - loss: 0.0036 - accuracy: 0.993 - ETA: 30:58 - loss: 0.0036 - accuracy: 0.993 - ETA: 30:49 - loss: 0.0036 - accuracy: 0.993 - ETA: 30:39 - loss: 0.0036 - accuracy: 0.993 - ETA: 30:30 - loss: 0.0036 - accuracy: 0.993 - ETA: 30:20 - loss: 0.0036 - accuracy: 0.993 - ETA: 30:11 - loss: 0.0036 - accuracy: 0.993 - ETA: 30:01 - loss: 0.0036 - accuracy: 0.993 - ETA: 29:52 - loss: 0.0036 - accuracy: 0.993 - ETA: 29:42 - loss: 0.0036 - accuracy: 0.993 - ETA: 29:33 - loss: 0.0036 - accuracy: 0.993 - ETA: 29:24 - loss: 0.0036 - accuracy: 0.993 - ETA: 29:14 - loss: 0.0036 - accuracy: 0.993 - ETA: 29:05 - loss: 0.0036 - accuracy: 0.993 - ETA: 28:55 - loss: 0.0036 - accuracy: 0.993 - ETA: 28:46 - loss: 0.0036 - accuracy: 0.993 - ETA: 28:37 - loss: 0.0036 - accuracy: 0.993 - ETA: 28:27 - loss: 0.0036 - accuracy: 0.993 - ETA: 28:18 - loss: 0.0036 - accuracy: 0.993 - ETA: 28:08 - loss: 0.0036 - accuracy: 0.993 - ETA: 27:59 - loss: 0.0036 - accuracy: 0.993 - ETA: 27:49 - loss: 0.0036 - accuracy: 0.993 - ETA: 27:40 - loss: 0.0036 - accuracy: 0.993 - ETA: 27:30 - loss: 0.0036 - accuracy: 0.993 - ETA: 27:21 - loss: 0.0036 - accuracy: 0.993 - ETA: 27:11 - loss: 0.0036 - accuracy: 0.993 - ETA: 27:02 - loss: 0.0036 - accuracy: 0.993 - ETA: 26:52 - loss: 0.0036 - accuracy: 0.993 - ETA: 26:43 - loss: 0.0036 - accuracy: 0.993 - ETA: 26:33 - loss: 0.0036 - accuracy: 0.993 - ETA: 26:24 - loss: 0.0036 - accuracy: 0.993 - ETA: 26:14 - loss: 0.0036 - accuracy: 0.993 - ETA: 26:04 - loss: 0.0036 - accuracy: 0.993 - ETA: 25:55 - loss: 0.0036 - accuracy: 0.993 - ETA: 25:46 - loss: 0.0036 - accuracy: 0.993 - ETA: 25:36 - loss: 0.0036 - accuracy: 0.993 - ETA: 25:26 - loss: 0.0036 - accuracy: 0.993 - ETA: 25:17 - loss: 0.0036 - accuracy: 0.993 - ETA: 25:07 - loss: 0.0036 - accuracy: 0.993 - ETA: 24:58 - loss: 0.0036 - accuracy: 0.993 - ETA: 24:48 - loss: 0.0036 - accuracy: 0.993 - ETA: 24:39 - loss: 0.0036 - accuracy: 0.993 - ETA: 24:29 - loss: 0.0037 - accuracy: 0.993 - ETA: 24:20 - loss: 0.0037 - accuracy: 0.993 - ETA: 24:10 - loss: 0.0037 - accuracy: 0.993 - ETA: 24:01 - loss: 0.0037 - accuracy: 0.993 - ETA: 23:51 - loss: 0.0037 - accuracy: 0.993 - ETA: 23:42 - loss: 0.0037 - accuracy: 0.993 - ETA: 23:33 - loss: 0.0037 - accuracy: 0.993 - ETA: 23:23 - loss: 0.0037 - accuracy: 0.993 - ETA: 23:14 - loss: 0.0037 - accuracy: 0.993 - ETA: 23:04 - loss: 0.0037 - accuracy: 0.993 - ETA: 22:55 - loss: 0.0037 - accuracy: 0.993 - ETA: 22:45 - loss: 0.0037 - accuracy: 0.993 - ETA: 22:36 - loss: 0.0037 - accuracy: 0.993 - ETA: 22:26 - loss: 0.0037 - accuracy: 0.993 - ETA: 22:17 - loss: 0.0037 - accuracy: 0.993 - ETA: 22:07 - loss: 0.0037 - accuracy: 0.993 - ETA: 21:58 - loss: 0.0037 - accuracy: 0.993 - ETA: 21:48 - loss: 0.0037 - accuracy: 0.993 - ETA: 21:39 - loss: 0.0037 - accuracy: 0.993 - ETA: 21:29 - loss: 0.0037 - accuracy: 0.993 - ETA: 21:20 - loss: 0.0037 - accuracy: 0.993 - ETA: 21:10 - loss: 0.0037 - accuracy: 0.993 - ETA: 21:01 - loss: 0.0037 - accuracy: 0.993 - ETA: 20:52 - loss: 0.0037 - accuracy: 0.993 - ETA: 20:42 - loss: 0.0037 - accuracy: 0.993 - ETA: 20:33 - loss: 0.0037 - accuracy: 0.993 - ETA: 20:23 - loss: 0.0037 - accuracy: 0.993 - ETA: 20:14 - loss: 0.0037 - accuracy: 0.993 - ETA: 20:04 - loss: 0.0037 - accuracy: 0.993 - ETA: 19:55 - loss: 0.0037 - accuracy: 0.993 - ETA: 19:45 - loss: 0.0037 - accuracy: 0.993 - ETA: 19:36 - loss: 0.0037 - accuracy: 0.993 - ETA: 19:26 - loss: 0.0037 - accuracy: 0.993 - ETA: 19:17 - loss: 0.0037 - accuracy: 0.993 - ETA: 19:07 - loss: 0.0037 - accuracy: 0.993 - ETA: 18:58 - loss: 0.0037 - accuracy: 0.993 - ETA: 18:48 - loss: 0.0037 - accuracy: 0.993 - ETA: 18:39 - loss: 0.0037 - accuracy: 0.993 - ETA: 18:30 - loss: 0.0037 - accuracy: 0.993 - ETA: 18:20 - loss: 0.0037 - accuracy: 0.993 - ETA: 18:11 - loss: 0.0037 - accuracy: 0.993 - ETA: 18:01 - loss: 0.0037 - accuracy: 0.993 - ETA: 17:52 - loss: 0.0037 - accuracy: 0.993 - ETA: 17:42 - loss: 0.0037 - accuracy: 0.993 - ETA: 17:33 - loss: 0.0037 - accuracy: 0.993 - ETA: 17:23 - loss: 0.0037 - accuracy: 0.993 - ETA: 17:14 - loss: 0.0037 - accuracy: 0.993 - ETA: 17:04 - loss: 0.0037 - accuracy: 0.993 - ETA: 16:55 - loss: 0.0037 - accuracy: 0.993 - ETA: 16:45 - loss: 0.0037 - accuracy: 0.993 - ETA: 16:36 - loss: 0.0037 - accuracy: 0.993 - ETA: 16:26 - loss: 0.0037 - accuracy: 0.9936"
     ]
    },
    {
     "name": "stdout",
     "output_type": "stream",
     "text": [
      "15457/15457 [==============================] - ETA: 16:17 - loss: 0.0037 - accuracy: 0.993 - ETA: 16:07 - loss: 0.0037 - accuracy: 0.993 - ETA: 15:58 - loss: 0.0037 - accuracy: 0.993 - ETA: 15:48 - loss: 0.0037 - accuracy: 0.993 - ETA: 15:39 - loss: 0.0037 - accuracy: 0.993 - ETA: 15:29 - loss: 0.0037 - accuracy: 0.993 - ETA: 15:20 - loss: 0.0037 - accuracy: 0.993 - ETA: 15:10 - loss: 0.0037 - accuracy: 0.993 - ETA: 15:01 - loss: 0.0037 - accuracy: 0.993 - ETA: 14:51 - loss: 0.0037 - accuracy: 0.993 - ETA: 14:42 - loss: 0.0037 - accuracy: 0.993 - ETA: 14:32 - loss: 0.0037 - accuracy: 0.993 - ETA: 14:23 - loss: 0.0037 - accuracy: 0.993 - ETA: 14:14 - loss: 0.0037 - accuracy: 0.993 - ETA: 14:04 - loss: 0.0037 - accuracy: 0.993 - ETA: 13:55 - loss: 0.0038 - accuracy: 0.993 - ETA: 13:45 - loss: 0.0038 - accuracy: 0.993 - ETA: 13:36 - loss: 0.0038 - accuracy: 0.993 - ETA: 13:26 - loss: 0.0038 - accuracy: 0.993 - ETA: 13:17 - loss: 0.0038 - accuracy: 0.993 - ETA: 13:07 - loss: 0.0038 - accuracy: 0.993 - ETA: 12:58 - loss: 0.0038 - accuracy: 0.993 - ETA: 12:48 - loss: 0.0038 - accuracy: 0.993 - ETA: 12:39 - loss: 0.0038 - accuracy: 0.993 - ETA: 12:29 - loss: 0.0038 - accuracy: 0.993 - ETA: 12:20 - loss: 0.0038 - accuracy: 0.993 - ETA: 12:10 - loss: 0.0038 - accuracy: 0.993 - ETA: 12:01 - loss: 0.0038 - accuracy: 0.993 - ETA: 11:52 - loss: 0.0038 - accuracy: 0.993 - ETA: 11:42 - loss: 0.0038 - accuracy: 0.993 - ETA: 11:33 - loss: 0.0038 - accuracy: 0.993 - ETA: 11:23 - loss: 0.0038 - accuracy: 0.993 - ETA: 11:14 - loss: 0.0038 - accuracy: 0.993 - ETA: 11:05 - loss: 0.0038 - accuracy: 0.993 - ETA: 10:55 - loss: 0.0038 - accuracy: 0.993 - ETA: 10:46 - loss: 0.0038 - accuracy: 0.993 - ETA: 10:36 - loss: 0.0038 - accuracy: 0.993 - ETA: 10:27 - loss: 0.0038 - accuracy: 0.993 - ETA: 10:17 - loss: 0.0038 - accuracy: 0.993 - ETA: 10:08 - loss: 0.0038 - accuracy: 0.993 - ETA: 9:58 - loss: 0.0038 - accuracy: 0.993 - ETA: 9:49 - loss: 0.0038 - accuracy: 0.99 - ETA: 9:39 - loss: 0.0038 - accuracy: 0.99 - ETA: 9:30 - loss: 0.0038 - accuracy: 0.99 - ETA: 9:20 - loss: 0.0038 - accuracy: 0.99 - ETA: 9:11 - loss: 0.0038 - accuracy: 0.99 - ETA: 9:01 - loss: 0.0038 - accuracy: 0.99 - ETA: 8:52 - loss: 0.0038 - accuracy: 0.99 - ETA: 8:42 - loss: 0.0038 - accuracy: 0.99 - ETA: 8:33 - loss: 0.0038 - accuracy: 0.99 - ETA: 8:23 - loss: 0.0038 - accuracy: 0.99 - ETA: 8:14 - loss: 0.0038 - accuracy: 0.99 - ETA: 8:04 - loss: 0.0038 - accuracy: 0.99 - ETA: 7:55 - loss: 0.0038 - accuracy: 0.99 - ETA: 7:45 - loss: 0.0038 - accuracy: 0.99 - ETA: 7:36 - loss: 0.0038 - accuracy: 0.99 - ETA: 7:26 - loss: 0.0038 - accuracy: 0.99 - ETA: 7:17 - loss: 0.0038 - accuracy: 0.99 - ETA: 7:07 - loss: 0.0038 - accuracy: 0.99 - ETA: 6:58 - loss: 0.0038 - accuracy: 0.99 - ETA: 6:48 - loss: 0.0038 - accuracy: 0.99 - ETA: 6:39 - loss: 0.0038 - accuracy: 0.99 - ETA: 6:29 - loss: 0.0038 - accuracy: 0.99 - ETA: 6:20 - loss: 0.0038 - accuracy: 0.99 - ETA: 6:10 - loss: 0.0038 - accuracy: 0.99 - ETA: 6:01 - loss: 0.0038 - accuracy: 0.99 - ETA: 5:51 - loss: 0.0038 - accuracy: 0.99 - ETA: 5:42 - loss: 0.0038 - accuracy: 0.99 - ETA: 5:32 - loss: 0.0038 - accuracy: 0.99 - ETA: 5:23 - loss: 0.0038 - accuracy: 0.99 - ETA: 5:13 - loss: 0.0038 - accuracy: 0.99 - ETA: 5:04 - loss: 0.0038 - accuracy: 0.99 - ETA: 4:54 - loss: 0.0038 - accuracy: 0.99 - ETA: 4:45 - loss: 0.0038 - accuracy: 0.99 - ETA: 4:35 - loss: 0.0038 - accuracy: 0.99 - ETA: 4:26 - loss: 0.0038 - accuracy: 0.99 - ETA: 4:16 - loss: 0.0038 - accuracy: 0.99 - ETA: 4:07 - loss: 0.0038 - accuracy: 0.99 - ETA: 3:57 - loss: 0.0038 - accuracy: 0.99 - ETA: 3:48 - loss: 0.0038 - accuracy: 0.99 - ETA: 3:38 - loss: 0.0038 - accuracy: 0.99 - ETA: 3:29 - loss: 0.0038 - accuracy: 0.99 - ETA: 3:19 - loss: 0.0038 - accuracy: 0.99 - ETA: 3:10 - loss: 0.0038 - accuracy: 0.99 - ETA: 3:00 - loss: 0.0038 - accuracy: 0.99 - ETA: 2:51 - loss: 0.0038 - accuracy: 0.99 - ETA: 2:41 - loss: 0.0038 - accuracy: 0.99 - ETA: 2:32 - loss: 0.0038 - accuracy: 0.99 - ETA: 2:22 - loss: 0.0038 - accuracy: 0.99 - ETA: 2:13 - loss: 0.0038 - accuracy: 0.99 - ETA: 2:03 - loss: 0.0038 - accuracy: 0.99 - ETA: 1:54 - loss: 0.0038 - accuracy: 0.99 - ETA: 1:44 - loss: 0.0038 - accuracy: 0.99 - ETA: 1:35 - loss: 0.0038 - accuracy: 0.99 - ETA: 1:26 - loss: 0.0038 - accuracy: 0.99 - ETA: 1:16 - loss: 0.0038 - accuracy: 0.99 - ETA: 1:07 - loss: 0.0038 - accuracy: 0.99 - ETA: 57s - loss: 0.0038 - accuracy: 0.9934 - ETA: 48s - loss: 0.0038 - accuracy: 0.993 - ETA: 38s - loss: 0.0038 - accuracy: 0.993 - ETA: 29s - loss: 0.0038 - accuracy: 0.993 - ETA: 19s - loss: 0.0038 - accuracy: 0.993 - ETA: 10s - loss: 0.0038 - accuracy: 0.993 - ETA: 0s - loss: 0.0038 - accuracy: 0.993 - 9769s 632ms/step - loss: 0.0038 - accuracy: 0.9934 - val_loss: 0.0087 - val_accuracy: 0.9858\n",
      "\n",
      "Epoch 00003: val_loss did not improve from 0.00730\n",
      "Epoch 4/30\n"
     ]
    },
    {
     "name": "stdout",
     "output_type": "stream",
     "text": [
      " 2720/15457 [====>.........................] - ETA: 2:28:50 - loss: 0.0032 - accuracy: 0.996 - ETA: 2:29:13 - loss: 0.0026 - accuracy: 0.996 - ETA: 2:30:17 - loss: 0.0027 - accuracy: 0.995 - ETA: 2:30:38 - loss: 0.0023 - accuracy: 0.996 - ETA: 2:32:58 - loss: 0.0020 - accuracy: 0.997 - ETA: 2:32:21 - loss: 0.0019 - accuracy: 0.997 - ETA: 2:32:25 - loss: 0.0017 - accuracy: 0.998 - ETA: 2:32:19 - loss: 0.0019 - accuracy: 0.997 - ETA: 2:31:57 - loss: 0.0017 - accuracy: 0.997 - ETA: 2:31:28 - loss: 0.0016 - accuracy: 0.998 - ETA: 2:30:58 - loss: 0.0015 - accuracy: 0.998 - ETA: 2:31:13 - loss: 0.0021 - accuracy: 0.997 - ETA: 2:30:53 - loss: 0.0023 - accuracy: 0.997 - ETA: 2:30:25 - loss: 0.0022 - accuracy: 0.997 - ETA: 2:30:05 - loss: 0.0024 - accuracy: 0.997 - ETA: 2:29:44 - loss: 0.0023 - accuracy: 0.997 - ETA: 2:29:31 - loss: 0.0022 - accuracy: 0.997 - ETA: 2:29:23 - loss: 0.0023 - accuracy: 0.996 - ETA: 2:29:26 - loss: 0.0023 - accuracy: 0.997 - ETA: 2:29:17 - loss: 0.0022 - accuracy: 0.997 - ETA: 2:28:58 - loss: 0.0021 - accuracy: 0.997 - ETA: 2:28:41 - loss: 0.0020 - accuracy: 0.997 - ETA: 2:28:27 - loss: 0.0021 - accuracy: 0.997 - ETA: 2:28:09 - loss: 0.0021 - accuracy: 0.997 - ETA: 2:28:08 - loss: 0.0024 - accuracy: 0.997 - ETA: 2:27:56 - loss: 0.0023 - accuracy: 0.997 - ETA: 2:27:37 - loss: 0.0024 - accuracy: 0.997 - ETA: 2:27:28 - loss: 0.0023 - accuracy: 0.997 - ETA: 2:27:14 - loss: 0.0022 - accuracy: 0.997 - ETA: 2:27:05 - loss: 0.0022 - accuracy: 0.997 - ETA: 2:26:49 - loss: 0.0023 - accuracy: 0.997 - ETA: 2:26:44 - loss: 0.0023 - accuracy: 0.997 - ETA: 2:26:36 - loss: 0.0024 - accuracy: 0.997 - ETA: 2:26:24 - loss: 0.0025 - accuracy: 0.997 - ETA: 2:26:13 - loss: 0.0025 - accuracy: 0.997 - ETA: 2:26:00 - loss: 0.0024 - accuracy: 0.997 - ETA: 2:25:46 - loss: 0.0024 - accuracy: 0.997 - ETA: 2:25:38 - loss: 0.0024 - accuracy: 0.996 - ETA: 2:25:41 - loss: 0.0024 - accuracy: 0.996 - ETA: 2:25:33 - loss: 0.0023 - accuracy: 0.997 - ETA: 2:25:26 - loss: 0.0023 - accuracy: 0.997 - ETA: 2:25:14 - loss: 0.0023 - accuracy: 0.997 - ETA: 2:25:02 - loss: 0.0022 - accuracy: 0.997 - ETA: 2:24:49 - loss: 0.0022 - accuracy: 0.997 - ETA: 2:24:40 - loss: 0.0022 - accuracy: 0.997 - ETA: 2:24:34 - loss: 0.0023 - accuracy: 0.997 - ETA: 2:24:23 - loss: 0.0024 - accuracy: 0.997 - ETA: 2:24:13 - loss: 0.0024 - accuracy: 0.997 - ETA: 2:24:00 - loss: 0.0023 - accuracy: 0.997 - ETA: 2:23:52 - loss: 0.0023 - accuracy: 0.997 - ETA: 2:23:48 - loss: 0.0023 - accuracy: 0.997 - ETA: 2:23:46 - loss: 0.0023 - accuracy: 0.997 - ETA: 2:23:38 - loss: 0.0022 - accuracy: 0.997 - ETA: 2:23:32 - loss: 0.0022 - accuracy: 0.997 - ETA: 2:23:22 - loss: 0.0022 - accuracy: 0.997 - ETA: 2:23:12 - loss: 0.0022 - accuracy: 0.997 - ETA: 2:22:59 - loss: 0.0022 - accuracy: 0.997 - ETA: 2:22:49 - loss: 0.0022 - accuracy: 0.997 - ETA: 2:22:43 - loss: 0.0022 - accuracy: 0.997 - ETA: 2:22:31 - loss: 0.0022 - accuracy: 0.997 - ETA: 2:22:21 - loss: 0.0022 - accuracy: 0.997 - ETA: 2:22:08 - loss: 0.0023 - accuracy: 0.996 - ETA: 2:21:58 - loss: 0.0024 - accuracy: 0.996 - ETA: 2:21:46 - loss: 0.0024 - accuracy: 0.996 - ETA: 2:21:36 - loss: 0.0024 - accuracy: 0.996 - ETA: 2:21:34 - loss: 0.0024 - accuracy: 0.996 - ETA: 2:21:26 - loss: 0.0024 - accuracy: 0.996 - ETA: 2:21:18 - loss: 0.0024 - accuracy: 0.996 - ETA: 2:21:09 - loss: 0.0024 - accuracy: 0.996 - ETA: 2:21:00 - loss: 0.0024 - accuracy: 0.996 - ETA: 2:20:55 - loss: 0.0024 - accuracy: 0.996 - ETA: 2:20:52 - loss: 0.0024 - accuracy: 0.996 - ETA: 2:20:42 - loss: 0.0024 - accuracy: 0.996 - ETA: 2:20:30 - loss: 0.0024 - accuracy: 0.996 - ETA: 2:20:17 - loss: 0.0024 - accuracy: 0.996 - ETA: 2:20:09 - loss: 0.0024 - accuracy: 0.996 - ETA: 2:19:59 - loss: 0.0023 - accuracy: 0.996 - ETA: 2:19:47 - loss: 0.0023 - accuracy: 0.996 - ETA: 2:19:41 - loss: 0.0023 - accuracy: 0.996 - ETA: 2:19:30 - loss: 0.0023 - accuracy: 0.996 - ETA: 2:19:19 - loss: 0.0023 - accuracy: 0.996 - ETA: 2:19:08 - loss: 0.0023 - accuracy: 0.997 - ETA: 2:18:56 - loss: 0.0023 - accuracy: 0.997 - ETA: 2:18:45 - loss: 0.0023 - accuracy: 0.997 - ETA: 2:18:35 - loss: 0.0023 - accuracy: 0.997 - ETA: 2:18:28 - loss: 0.0022 - accuracy: 0.997 - ETA: 2:18:17 - loss: 0.0022 - accuracy: 0.997 - ETA: 2:18:05 - loss: 0.0022 - accuracy: 0.997 - ETA: 2:17:56 - loss: 0.0022 - accuracy: 0.996 - ETA: 2:17:45 - loss: 0.0022 - accuracy: 0.996 - ETA: 2:17:34 - loss: 0.0023 - accuracy: 0.996 - ETA: 2:17:23 - loss: 0.0022 - accuracy: 0.996 - ETA: 2:17:15 - loss: 0.0022 - accuracy: 0.996 - ETA: 2:17:04 - loss: 0.0022 - accuracy: 0.996 - ETA: 2:16:53 - loss: 0.0022 - accuracy: 0.996 - ETA: 2:16:42 - loss: 0.0023 - accuracy: 0.996 - ETA: 2:16:33 - loss: 0.0023 - accuracy: 0.996 - ETA: 2:16:23 - loss: 0.0023 - accuracy: 0.996 - ETA: 2:16:14 - loss: 0.0023 - accuracy: 0.996 - ETA: 2:16:03 - loss: 0.0023 - accuracy: 0.996 - ETA: 2:15:52 - loss: 0.0023 - accuracy: 0.996 - ETA: 2:15:44 - loss: 0.0023 - accuracy: 0.996 - ETA: 2:15:35 - loss: 0.0023 - accuracy: 0.996 - ETA: 2:15:25 - loss: 0.0023 - accuracy: 0.996 - ETA: 2:15:15 - loss: 0.0023 - accuracy: 0.996 - ETA: 2:15:07 - loss: 0.0023 - accuracy: 0.996 - ETA: 2:14:57 - loss: 0.0023 - accuracy: 0.996 - ETA: 2:14:46 - loss: 0.0023 - accuracy: 0.996 - ETA: 2:14:36 - loss: 0.0023 - accuracy: 0.996 - ETA: 2:14:26 - loss: 0.0023 - accuracy: 0.996 - ETA: 2:14:15 - loss: 0.0023 - accuracy: 0.996 - ETA: 2:14:04 - loss: 0.0022 - accuracy: 0.996 - ETA: 2:13:56 - loss: 0.0022 - accuracy: 0.996 - ETA: 2:13:48 - loss: 0.0022 - accuracy: 0.996 - ETA: 2:13:41 - loss: 0.0023 - accuracy: 0.996 - ETA: 2:13:35 - loss: 0.0023 - accuracy: 0.996 - ETA: 2:13:27 - loss: 0.0023 - accuracy: 0.996 - ETA: 2:13:18 - loss: 0.0024 - accuracy: 0.996 - ETA: 2:13:11 - loss: 0.0023 - accuracy: 0.996 - ETA: 2:13:00 - loss: 0.0023 - accuracy: 0.996 - ETA: 2:12:49 - loss: 0.0023 - accuracy: 0.996 - ETA: 2:12:39 - loss: 0.0023 - accuracy: 0.996 - ETA: 2:12:28 - loss: 0.0023 - accuracy: 0.996 - ETA: 2:12:18 - loss: 0.0023 - accuracy: 0.996 - ETA: 2:12:07 - loss: 0.0024 - accuracy: 0.996 - ETA: 2:11:58 - loss: 0.0023 - accuracy: 0.996 - ETA: 2:11:49 - loss: 0.0024 - accuracy: 0.996 - ETA: 2:11:39 - loss: 0.0024 - accuracy: 0.996 - ETA: 2:11:32 - loss: 0.0024 - accuracy: 0.996 - ETA: 2:11:40 - loss: 0.0024 - accuracy: 0.996 - ETA: 2:11:47 - loss: 0.0024 - accuracy: 0.996 - ETA: 2:11:50 - loss: 0.0024 - accuracy: 0.996 - ETA: 2:11:51 - loss: 0.0024 - accuracy: 0.996 - ETA: 2:11:53 - loss: 0.0023 - accuracy: 0.996 - ETA: 2:11:52 - loss: 0.0023 - accuracy: 0.996 - ETA: 2:11:48 - loss: 0.0023 - accuracy: 0.996 - ETA: 2:11:40 - loss: 0.0023 - accuracy: 0.996 - ETA: 2:11:34 - loss: 0.0023 - accuracy: 0.996 - ETA: 2:11:24 - loss: 0.0023 - accuracy: 0.996 - ETA: 2:11:14 - loss: 0.0023 - accuracy: 0.996 - ETA: 2:11:03 - loss: 0.0023 - accuracy: 0.996 - ETA: 2:10:52 - loss: 0.0023 - accuracy: 0.996 - ETA: 2:10:41 - loss: 0.0024 - accuracy: 0.996 - ETA: 2:10:29 - loss: 0.0024 - accuracy: 0.996 - ETA: 2:10:21 - loss: 0.0024 - accuracy: 0.996 - ETA: 2:10:09 - loss: 0.0024 - accuracy: 0.996 - ETA: 2:09:58 - loss: 0.0024 - accuracy: 0.996 - ETA: 2:09:48 - loss: 0.0024 - accuracy: 0.996 - ETA: 2:09:37 - loss: 0.0024 - accuracy: 0.996 - ETA: 2:09:25 - loss: 0.0024 - accuracy: 0.996 - ETA: 2:09:16 - loss: 0.0024 - accuracy: 0.996 - ETA: 2:09:07 - loss: 0.0024 - accuracy: 0.996 - ETA: 2:08:56 - loss: 0.0024 - accuracy: 0.996 - ETA: 2:08:45 - loss: 0.0024 - accuracy: 0.996 - ETA: 2:08:35 - loss: 0.0024 - accuracy: 0.996 - ETA: 2:08:25 - loss: 0.0024 - accuracy: 0.996 - ETA: 2:08:16 - loss: 0.0024 - accuracy: 0.996 - ETA: 2:08:06 - loss: 0.0024 - accuracy: 0.996 - ETA: 2:07:57 - loss: 0.0024 - accuracy: 0.996 - ETA: 2:07:47 - loss: 0.0024 - accuracy: 0.996 - ETA: 2:07:36 - loss: 0.0024 - accuracy: 0.996 - ETA: 2:07:25 - loss: 0.0024 - accuracy: 0.996 - ETA: 2:07:14 - loss: 0.0024 - accuracy: 0.996 - ETA: 2:07:05 - loss: 0.0024 - accuracy: 0.996 - ETA: 2:06:57 - loss: 0.0024 - accuracy: 0.996 - ETA: 2:06:46 - loss: 0.0024 - accuracy: 0.996 - ETA: 2:06:36 - loss: 0.0024 - accuracy: 0.996 - ETA: 2:06:25 - loss: 0.0024 - accuracy: 0.996 - ETA: 2:06:15 - loss: 0.0025 - accuracy: 0.996 - ETA: 2:06:05 - loss: 0.0024 - accuracy: 0.9964 5440/15457 [=========>....................] - ETA: 2:05:54 - loss: 0.0024 - accuracy: 0.996 - ETA: 2:05:46 - loss: 0.0024 - accuracy: 0.996 - ETA: 2:05:36 - loss: 0.0024 - accuracy: 0.996 - ETA: 2:05:26 - loss: 0.0024 - accuracy: 0.996 - ETA: 2:05:15 - loss: 0.0024 - accuracy: 0.996 - ETA: 2:05:06 - loss: 0.0024 - accuracy: 0.996 - ETA: 2:04:57 - loss: 0.0024 - accuracy: 0.996 - ETA: 2:04:48 - loss: 0.0024 - accuracy: 0.996 - ETA: 2:04:41 - loss: 0.0024 - accuracy: 0.996 - ETA: 2:04:31 - loss: 0.0024 - accuracy: 0.996 - ETA: 2:04:22 - loss: 0.0024 - accuracy: 0.996 - ETA: 2:04:12 - loss: 0.0024 - accuracy: 0.996 - ETA: 2:04:01 - loss: 0.0024 - accuracy: 0.996 - ETA: 2:03:51 - loss: 0.0024 - accuracy: 0.996 - ETA: 2:03:42 - loss: 0.0024 - accuracy: 0.996 - ETA: 2:03:32 - loss: 0.0024 - accuracy: 0.996 - ETA: 2:03:22 - loss: 0.0024 - accuracy: 0.996 - ETA: 2:03:11 - loss: 0.0024 - accuracy: 0.996 - ETA: 2:03:01 - loss: 0.0024 - accuracy: 0.996 - ETA: 2:02:51 - loss: 0.0024 - accuracy: 0.996 - ETA: 2:02:41 - loss: 0.0024 - accuracy: 0.996 - ETA: 2:02:34 - loss: 0.0024 - accuracy: 0.996 - ETA: 2:02:25 - loss: 0.0024 - accuracy: 0.996 - ETA: 2:02:16 - loss: 0.0023 - accuracy: 0.996 - ETA: 2:02:06 - loss: 0.0024 - accuracy: 0.996 - ETA: 2:01:57 - loss: 0.0024 - accuracy: 0.996 - ETA: 2:01:49 - loss: 0.0024 - accuracy: 0.996 - ETA: 2:01:45 - loss: 0.0024 - accuracy: 0.996 - ETA: 2:01:37 - loss: 0.0024 - accuracy: 0.996 - ETA: 2:01:28 - loss: 0.0024 - accuracy: 0.996 - ETA: 2:01:18 - loss: 0.0024 - accuracy: 0.996 - ETA: 2:01:09 - loss: 0.0024 - accuracy: 0.996 - ETA: 2:00:58 - loss: 0.0024 - accuracy: 0.996 - ETA: 2:00:49 - loss: 0.0024 - accuracy: 0.996 - ETA: 2:00:40 - loss: 0.0024 - accuracy: 0.996 - ETA: 2:00:29 - loss: 0.0024 - accuracy: 0.996 - ETA: 2:00:19 - loss: 0.0024 - accuracy: 0.996 - ETA: 2:00:09 - loss: 0.0024 - accuracy: 0.996 - ETA: 1:59:58 - loss: 0.0024 - accuracy: 0.996 - ETA: 1:59:48 - loss: 0.0024 - accuracy: 0.996 - ETA: 1:59:40 - loss: 0.0024 - accuracy: 0.996 - ETA: 1:59:32 - loss: 0.0024 - accuracy: 0.996 - ETA: 1:59:22 - loss: 0.0025 - accuracy: 0.996 - ETA: 1:59:13 - loss: 0.0024 - accuracy: 0.996 - ETA: 1:59:03 - loss: 0.0025 - accuracy: 0.996 - ETA: 1:58:55 - loss: 0.0025 - accuracy: 0.996 - ETA: 1:58:45 - loss: 0.0025 - accuracy: 0.996 - ETA: 1:58:36 - loss: 0.0025 - accuracy: 0.996 - ETA: 1:58:25 - loss: 0.0025 - accuracy: 0.996 - ETA: 1:58:15 - loss: 0.0025 - accuracy: 0.996 - ETA: 1:58:04 - loss: 0.0025 - accuracy: 0.996 - ETA: 1:57:55 - loss: 0.0025 - accuracy: 0.996 - ETA: 1:57:44 - loss: 0.0025 - accuracy: 0.996 - ETA: 1:57:34 - loss: 0.0025 - accuracy: 0.996 - ETA: 1:57:25 - loss: 0.0025 - accuracy: 0.996 - ETA: 1:57:15 - loss: 0.0025 - accuracy: 0.996 - ETA: 1:57:05 - loss: 0.0025 - accuracy: 0.996 - ETA: 1:56:55 - loss: 0.0025 - accuracy: 0.996 - ETA: 1:56:45 - loss: 0.0025 - accuracy: 0.996 - ETA: 1:56:35 - loss: 0.0025 - accuracy: 0.996 - ETA: 1:56:26 - loss: 0.0025 - accuracy: 0.996 - ETA: 1:56:17 - loss: 0.0025 - accuracy: 0.996 - ETA: 1:56:07 - loss: 0.0025 - accuracy: 0.996 - ETA: 1:55:57 - loss: 0.0025 - accuracy: 0.996 - ETA: 1:55:47 - loss: 0.0025 - accuracy: 0.996 - ETA: 1:55:37 - loss: 0.0025 - accuracy: 0.996 - ETA: 1:55:27 - loss: 0.0025 - accuracy: 0.996 - ETA: 1:55:17 - loss: 0.0025 - accuracy: 0.996 - ETA: 1:55:09 - loss: 0.0025 - accuracy: 0.996 - ETA: 1:55:01 - loss: 0.0025 - accuracy: 0.996 - ETA: 1:54:52 - loss: 0.0025 - accuracy: 0.996 - ETA: 1:54:43 - loss: 0.0025 - accuracy: 0.996 - ETA: 1:54:34 - loss: 0.0025 - accuracy: 0.996 - ETA: 1:54:25 - loss: 0.0025 - accuracy: 0.996 - ETA: 1:54:16 - loss: 0.0025 - accuracy: 0.996 - ETA: 1:54:06 - loss: 0.0025 - accuracy: 0.996 - ETA: 1:53:56 - loss: 0.0025 - accuracy: 0.996 - ETA: 1:53:45 - loss: 0.0025 - accuracy: 0.996 - ETA: 1:53:35 - loss: 0.0025 - accuracy: 0.996 - ETA: 1:53:25 - loss: 0.0025 - accuracy: 0.996 - ETA: 1:53:15 - loss: 0.0025 - accuracy: 0.996 - ETA: 1:53:06 - loss: 0.0025 - accuracy: 0.996 - ETA: 1:52:57 - loss: 0.0025 - accuracy: 0.996 - ETA: 1:52:47 - loss: 0.0025 - accuracy: 0.995 - ETA: 1:52:37 - loss: 0.0025 - accuracy: 0.995 - ETA: 1:52:28 - loss: 0.0025 - accuracy: 0.995 - ETA: 1:52:18 - loss: 0.0025 - accuracy: 0.995 - ETA: 1:52:09 - loss: 0.0025 - accuracy: 0.995 - ETA: 1:52:00 - loss: 0.0025 - accuracy: 0.995 - ETA: 1:51:52 - loss: 0.0025 - accuracy: 0.995 - ETA: 1:51:42 - loss: 0.0025 - accuracy: 0.995 - ETA: 1:51:32 - loss: 0.0026 - accuracy: 0.995 - ETA: 1:51:22 - loss: 0.0026 - accuracy: 0.995 - ETA: 1:51:12 - loss: 0.0026 - accuracy: 0.995 - ETA: 1:51:04 - loss: 0.0026 - accuracy: 0.995 - ETA: 1:50:54 - loss: 0.0026 - accuracy: 0.995 - ETA: 1:50:45 - loss: 0.0026 - accuracy: 0.995 - ETA: 1:50:36 - loss: 0.0026 - accuracy: 0.995 - ETA: 1:50:27 - loss: 0.0026 - accuracy: 0.995 - ETA: 1:50:18 - loss: 0.0026 - accuracy: 0.995 - ETA: 1:50:09 - loss: 0.0027 - accuracy: 0.995 - ETA: 1:50:00 - loss: 0.0027 - accuracy: 0.995 - ETA: 1:49:51 - loss: 0.0027 - accuracy: 0.995 - ETA: 1:49:41 - loss: 0.0027 - accuracy: 0.995 - ETA: 1:49:31 - loss: 0.0027 - accuracy: 0.995 - ETA: 1:49:22 - loss: 0.0027 - accuracy: 0.995 - ETA: 1:49:12 - loss: 0.0027 - accuracy: 0.995 - ETA: 1:49:02 - loss: 0.0027 - accuracy: 0.995 - ETA: 1:48:53 - loss: 0.0027 - accuracy: 0.995 - ETA: 1:48:43 - loss: 0.0027 - accuracy: 0.995 - ETA: 1:48:33 - loss: 0.0027 - accuracy: 0.995 - ETA: 1:48:24 - loss: 0.0027 - accuracy: 0.995 - ETA: 1:48:15 - loss: 0.0027 - accuracy: 0.995 - ETA: 1:48:05 - loss: 0.0027 - accuracy: 0.995 - ETA: 1:47:56 - loss: 0.0028 - accuracy: 0.995 - ETA: 1:47:47 - loss: 0.0028 - accuracy: 0.995 - ETA: 1:47:38 - loss: 0.0028 - accuracy: 0.995 - ETA: 1:47:28 - loss: 0.0028 - accuracy: 0.995 - ETA: 1:47:19 - loss: 0.0028 - accuracy: 0.995 - ETA: 1:47:09 - loss: 0.0028 - accuracy: 0.995 - ETA: 1:47:00 - loss: 0.0028 - accuracy: 0.995 - ETA: 1:46:51 - loss: 0.0028 - accuracy: 0.995 - ETA: 1:46:42 - loss: 0.0028 - accuracy: 0.995 - ETA: 1:46:33 - loss: 0.0028 - accuracy: 0.995 - ETA: 1:46:23 - loss: 0.0028 - accuracy: 0.995 - ETA: 1:46:13 - loss: 0.0028 - accuracy: 0.995 - ETA: 1:46:03 - loss: 0.0028 - accuracy: 0.995 - ETA: 1:45:54 - loss: 0.0028 - accuracy: 0.995 - ETA: 1:45:45 - loss: 0.0028 - accuracy: 0.995 - ETA: 1:45:35 - loss: 0.0028 - accuracy: 0.995 - ETA: 1:45:25 - loss: 0.0028 - accuracy: 0.995 - ETA: 1:45:16 - loss: 0.0028 - accuracy: 0.995 - ETA: 1:45:07 - loss: 0.0028 - accuracy: 0.995 - ETA: 1:44:58 - loss: 0.0029 - accuracy: 0.995 - ETA: 1:44:50 - loss: 0.0028 - accuracy: 0.995 - ETA: 1:44:41 - loss: 0.0028 - accuracy: 0.995 - ETA: 1:44:32 - loss: 0.0028 - accuracy: 0.995 - ETA: 1:44:23 - loss: 0.0028 - accuracy: 0.995 - ETA: 1:44:13 - loss: 0.0028 - accuracy: 0.995 - ETA: 1:44:04 - loss: 0.0029 - accuracy: 0.995 - ETA: 1:43:54 - loss: 0.0029 - accuracy: 0.995 - ETA: 1:43:45 - loss: 0.0029 - accuracy: 0.995 - ETA: 1:43:35 - loss: 0.0029 - accuracy: 0.995 - ETA: 1:43:26 - loss: 0.0029 - accuracy: 0.995 - ETA: 1:43:16 - loss: 0.0028 - accuracy: 0.995 - ETA: 1:43:07 - loss: 0.0029 - accuracy: 0.995 - ETA: 1:42:58 - loss: 0.0029 - accuracy: 0.995 - ETA: 1:42:49 - loss: 0.0028 - accuracy: 0.995 - ETA: 1:42:40 - loss: 0.0028 - accuracy: 0.995 - ETA: 1:42:31 - loss: 0.0028 - accuracy: 0.995 - ETA: 1:42:22 - loss: 0.0028 - accuracy: 0.995 - ETA: 1:42:13 - loss: 0.0029 - accuracy: 0.995 - ETA: 1:42:04 - loss: 0.0028 - accuracy: 0.995 - ETA: 1:41:54 - loss: 0.0029 - accuracy: 0.995 - ETA: 1:41:45 - loss: 0.0029 - accuracy: 0.995 - ETA: 1:41:35 - loss: 0.0028 - accuracy: 0.995 - ETA: 1:41:25 - loss: 0.0028 - accuracy: 0.995 - ETA: 1:41:15 - loss: 0.0028 - accuracy: 0.995 - ETA: 1:41:05 - loss: 0.0028 - accuracy: 0.995 - ETA: 1:40:55 - loss: 0.0028 - accuracy: 0.995 - ETA: 1:40:46 - loss: 0.0028 - accuracy: 0.995 - ETA: 1:40:36 - loss: 0.0028 - accuracy: 0.995 - ETA: 1:40:26 - loss: 0.0028 - accuracy: 0.995 - ETA: 1:40:16 - loss: 0.0028 - accuracy: 0.995 - ETA: 1:40:06 - loss: 0.0028 - accuracy: 0.995 - ETA: 1:39:56 - loss: 0.0028 - accuracy: 0.995 - ETA: 1:39:46 - loss: 0.0028 - accuracy: 0.995 - ETA: 1:39:37 - loss: 0.0028 - accuracy: 0.995 - ETA: 1:39:27 - loss: 0.0028 - accuracy: 0.995 - ETA: 1:39:17 - loss: 0.0028 - accuracy: 0.9952"
     ]
    },
    {
     "name": "stdout",
     "output_type": "stream",
     "text": [
      " 8160/15457 [==============>...............] - ETA: 1:39:07 - loss: 0.0028 - accuracy: 0.995 - ETA: 1:38:57 - loss: 0.0028 - accuracy: 0.995 - ETA: 1:38:47 - loss: 0.0028 - accuracy: 0.995 - ETA: 1:38:37 - loss: 0.0028 - accuracy: 0.995 - ETA: 1:38:28 - loss: 0.0028 - accuracy: 0.995 - ETA: 1:38:18 - loss: 0.0028 - accuracy: 0.995 - ETA: 1:38:08 - loss: 0.0028 - accuracy: 0.995 - ETA: 1:37:58 - loss: 0.0028 - accuracy: 0.995 - ETA: 1:37:48 - loss: 0.0028 - accuracy: 0.995 - ETA: 1:37:38 - loss: 0.0028 - accuracy: 0.995 - ETA: 1:37:28 - loss: 0.0028 - accuracy: 0.995 - ETA: 1:37:19 - loss: 0.0028 - accuracy: 0.995 - ETA: 1:37:09 - loss: 0.0028 - accuracy: 0.995 - ETA: 1:36:59 - loss: 0.0028 - accuracy: 0.995 - ETA: 1:36:50 - loss: 0.0028 - accuracy: 0.995 - ETA: 1:36:40 - loss: 0.0028 - accuracy: 0.995 - ETA: 1:36:30 - loss: 0.0028 - accuracy: 0.995 - ETA: 1:36:20 - loss: 0.0028 - accuracy: 0.995 - ETA: 1:36:11 - loss: 0.0028 - accuracy: 0.995 - ETA: 1:36:01 - loss: 0.0028 - accuracy: 0.995 - ETA: 1:35:51 - loss: 0.0028 - accuracy: 0.995 - ETA: 1:35:41 - loss: 0.0028 - accuracy: 0.995 - ETA: 1:35:32 - loss: 0.0028 - accuracy: 0.995 - ETA: 1:35:22 - loss: 0.0028 - accuracy: 0.995 - ETA: 1:35:13 - loss: 0.0028 - accuracy: 0.995 - ETA: 1:35:03 - loss: 0.0028 - accuracy: 0.995 - ETA: 1:34:54 - loss: 0.0028 - accuracy: 0.995 - ETA: 1:34:44 - loss: 0.0028 - accuracy: 0.995 - ETA: 1:34:35 - loss: 0.0028 - accuracy: 0.995 - ETA: 1:34:26 - loss: 0.0028 - accuracy: 0.995 - ETA: 1:34:17 - loss: 0.0028 - accuracy: 0.995 - ETA: 1:34:08 - loss: 0.0028 - accuracy: 0.995 - ETA: 1:33:58 - loss: 0.0028 - accuracy: 0.995 - ETA: 1:33:48 - loss: 0.0028 - accuracy: 0.995 - ETA: 1:33:39 - loss: 0.0028 - accuracy: 0.995 - ETA: 1:33:29 - loss: 0.0028 - accuracy: 0.995 - ETA: 1:33:19 - loss: 0.0028 - accuracy: 0.995 - ETA: 1:33:09 - loss: 0.0028 - accuracy: 0.995 - ETA: 1:33:00 - loss: 0.0028 - accuracy: 0.995 - ETA: 1:32:51 - loss: 0.0028 - accuracy: 0.995 - ETA: 1:32:41 - loss: 0.0028 - accuracy: 0.995 - ETA: 1:32:31 - loss: 0.0028 - accuracy: 0.995 - ETA: 1:32:22 - loss: 0.0028 - accuracy: 0.995 - ETA: 1:32:12 - loss: 0.0028 - accuracy: 0.995 - ETA: 1:32:03 - loss: 0.0028 - accuracy: 0.995 - ETA: 1:31:54 - loss: 0.0028 - accuracy: 0.995 - ETA: 1:31:45 - loss: 0.0028 - accuracy: 0.995 - ETA: 1:31:35 - loss: 0.0028 - accuracy: 0.995 - ETA: 1:31:25 - loss: 0.0028 - accuracy: 0.995 - ETA: 1:31:16 - loss: 0.0028 - accuracy: 0.995 - ETA: 1:31:06 - loss: 0.0028 - accuracy: 0.995 - ETA: 1:30:57 - loss: 0.0028 - accuracy: 0.995 - ETA: 1:30:47 - loss: 0.0028 - accuracy: 0.995 - ETA: 1:30:37 - loss: 0.0028 - accuracy: 0.995 - ETA: 1:30:28 - loss: 0.0028 - accuracy: 0.995 - ETA: 1:30:18 - loss: 0.0028 - accuracy: 0.995 - ETA: 1:30:08 - loss: 0.0028 - accuracy: 0.995 - ETA: 1:29:58 - loss: 0.0028 - accuracy: 0.995 - ETA: 1:29:49 - loss: 0.0028 - accuracy: 0.995 - ETA: 1:29:39 - loss: 0.0028 - accuracy: 0.995 - ETA: 1:29:29 - loss: 0.0028 - accuracy: 0.995 - ETA: 1:29:19 - loss: 0.0028 - accuracy: 0.995 - ETA: 1:29:09 - loss: 0.0028 - accuracy: 0.995 - ETA: 1:29:00 - loss: 0.0028 - accuracy: 0.995 - ETA: 1:28:51 - loss: 0.0028 - accuracy: 0.995 - ETA: 1:28:41 - loss: 0.0028 - accuracy: 0.995 - ETA: 1:28:31 - loss: 0.0028 - accuracy: 0.995 - ETA: 1:28:22 - loss: 0.0028 - accuracy: 0.995 - ETA: 1:28:12 - loss: 0.0028 - accuracy: 0.995 - ETA: 1:28:03 - loss: 0.0028 - accuracy: 0.995 - ETA: 1:27:53 - loss: 0.0028 - accuracy: 0.995 - ETA: 1:27:44 - loss: 0.0028 - accuracy: 0.995 - ETA: 1:27:35 - loss: 0.0028 - accuracy: 0.995 - ETA: 1:27:25 - loss: 0.0028 - accuracy: 0.995 - ETA: 1:27:16 - loss: 0.0028 - accuracy: 0.995 - ETA: 1:27:06 - loss: 0.0028 - accuracy: 0.995 - ETA: 1:26:56 - loss: 0.0028 - accuracy: 0.995 - ETA: 1:26:47 - loss: 0.0028 - accuracy: 0.995 - ETA: 1:26:38 - loss: 0.0028 - accuracy: 0.995 - ETA: 1:26:28 - loss: 0.0028 - accuracy: 0.995 - ETA: 1:26:18 - loss: 0.0028 - accuracy: 0.995 - ETA: 1:26:08 - loss: 0.0028 - accuracy: 0.995 - ETA: 1:25:58 - loss: 0.0028 - accuracy: 0.995 - ETA: 1:25:49 - loss: 0.0028 - accuracy: 0.995 - ETA: 1:25:39 - loss: 0.0028 - accuracy: 0.995 - ETA: 1:25:30 - loss: 0.0028 - accuracy: 0.995 - ETA: 1:25:20 - loss: 0.0028 - accuracy: 0.995 - ETA: 1:25:10 - loss: 0.0028 - accuracy: 0.995 - ETA: 1:25:01 - loss: 0.0028 - accuracy: 0.995 - ETA: 1:24:51 - loss: 0.0028 - accuracy: 0.995 - ETA: 1:24:42 - loss: 0.0028 - accuracy: 0.995 - ETA: 1:24:33 - loss: 0.0028 - accuracy: 0.995 - ETA: 1:24:23 - loss: 0.0028 - accuracy: 0.995 - ETA: 1:24:14 - loss: 0.0028 - accuracy: 0.995 - ETA: 1:24:04 - loss: 0.0028 - accuracy: 0.995 - ETA: 1:23:54 - loss: 0.0028 - accuracy: 0.995 - ETA: 1:23:44 - loss: 0.0028 - accuracy: 0.995 - ETA: 1:23:34 - loss: 0.0028 - accuracy: 0.995 - ETA: 1:23:25 - loss: 0.0028 - accuracy: 0.995 - ETA: 1:23:15 - loss: 0.0028 - accuracy: 0.995 - ETA: 1:23:06 - loss: 0.0028 - accuracy: 0.995 - ETA: 1:22:56 - loss: 0.0028 - accuracy: 0.995 - ETA: 1:22:46 - loss: 0.0028 - accuracy: 0.995 - ETA: 1:22:37 - loss: 0.0028 - accuracy: 0.995 - ETA: 1:22:28 - loss: 0.0028 - accuracy: 0.995 - ETA: 1:22:19 - loss: 0.0028 - accuracy: 0.995 - ETA: 1:22:09 - loss: 0.0028 - accuracy: 0.995 - ETA: 1:22:00 - loss: 0.0028 - accuracy: 0.995 - ETA: 1:21:50 - loss: 0.0028 - accuracy: 0.995 - ETA: 1:21:41 - loss: 0.0028 - accuracy: 0.995 - ETA: 1:21:31 - loss: 0.0028 - accuracy: 0.995 - ETA: 1:21:22 - loss: 0.0028 - accuracy: 0.995 - ETA: 1:21:12 - loss: 0.0028 - accuracy: 0.995 - ETA: 1:21:02 - loss: 0.0028 - accuracy: 0.995 - ETA: 1:20:53 - loss: 0.0028 - accuracy: 0.995 - ETA: 1:20:43 - loss: 0.0028 - accuracy: 0.995 - ETA: 1:20:34 - loss: 0.0028 - accuracy: 0.995 - ETA: 1:20:24 - loss: 0.0028 - accuracy: 0.995 - ETA: 1:20:15 - loss: 0.0028 - accuracy: 0.995 - ETA: 1:20:05 - loss: 0.0028 - accuracy: 0.995 - ETA: 1:19:55 - loss: 0.0028 - accuracy: 0.995 - ETA: 1:19:45 - loss: 0.0028 - accuracy: 0.995 - ETA: 1:19:36 - loss: 0.0028 - accuracy: 0.995 - ETA: 1:19:26 - loss: 0.0028 - accuracy: 0.995 - ETA: 1:19:16 - loss: 0.0028 - accuracy: 0.995 - ETA: 1:19:07 - loss: 0.0028 - accuracy: 0.995 - ETA: 1:18:57 - loss: 0.0028 - accuracy: 0.995 - ETA: 1:18:48 - loss: 0.0028 - accuracy: 0.995 - ETA: 1:18:38 - loss: 0.0028 - accuracy: 0.995 - ETA: 1:18:28 - loss: 0.0028 - accuracy: 0.995 - ETA: 1:18:18 - loss: 0.0028 - accuracy: 0.995 - ETA: 1:18:09 - loss: 0.0028 - accuracy: 0.995 - ETA: 1:17:59 - loss: 0.0028 - accuracy: 0.995 - ETA: 1:17:50 - loss: 0.0028 - accuracy: 0.995 - ETA: 1:17:40 - loss: 0.0028 - accuracy: 0.995 - ETA: 1:17:30 - loss: 0.0029 - accuracy: 0.995 - ETA: 1:17:21 - loss: 0.0029 - accuracy: 0.995 - ETA: 1:17:11 - loss: 0.0029 - accuracy: 0.995 - ETA: 1:17:02 - loss: 0.0029 - accuracy: 0.995 - ETA: 1:16:52 - loss: 0.0029 - accuracy: 0.995 - ETA: 1:16:42 - loss: 0.0029 - accuracy: 0.995 - ETA: 1:16:33 - loss: 0.0029 - accuracy: 0.995 - ETA: 1:16:23 - loss: 0.0029 - accuracy: 0.995 - ETA: 1:16:14 - loss: 0.0029 - accuracy: 0.995 - ETA: 1:16:04 - loss: 0.0029 - accuracy: 0.995 - ETA: 1:15:55 - loss: 0.0029 - accuracy: 0.995 - ETA: 1:15:45 - loss: 0.0029 - accuracy: 0.995 - ETA: 1:15:35 - loss: 0.0029 - accuracy: 0.995 - ETA: 1:15:25 - loss: 0.0029 - accuracy: 0.995 - ETA: 1:15:16 - loss: 0.0029 - accuracy: 0.995 - ETA: 1:15:06 - loss: 0.0029 - accuracy: 0.995 - ETA: 1:14:57 - loss: 0.0029 - accuracy: 0.995 - ETA: 1:14:48 - loss: 0.0029 - accuracy: 0.995 - ETA: 1:14:38 - loss: 0.0029 - accuracy: 0.995 - ETA: 1:14:29 - loss: 0.0029 - accuracy: 0.995 - ETA: 1:14:20 - loss: 0.0029 - accuracy: 0.995 - ETA: 1:14:11 - loss: 0.0029 - accuracy: 0.995 - ETA: 1:14:02 - loss: 0.0029 - accuracy: 0.995 - ETA: 1:13:54 - loss: 0.0029 - accuracy: 0.995 - ETA: 1:13:45 - loss: 0.0029 - accuracy: 0.995 - ETA: 1:13:36 - loss: 0.0029 - accuracy: 0.995 - ETA: 1:13:26 - loss: 0.0029 - accuracy: 0.995 - ETA: 1:13:16 - loss: 0.0029 - accuracy: 0.995 - ETA: 1:13:07 - loss: 0.0029 - accuracy: 0.995 - ETA: 1:12:57 - loss: 0.0029 - accuracy: 0.995 - ETA: 1:12:48 - loss: 0.0029 - accuracy: 0.995 - ETA: 1:12:38 - loss: 0.0029 - accuracy: 0.995 - ETA: 1:12:30 - loss: 0.0029 - accuracy: 0.995 - ETA: 1:12:21 - loss: 0.0029 - accuracy: 0.995 - ETA: 1:12:11 - loss: 0.0029 - accuracy: 0.9952"
     ]
    },
    {
     "name": "stdout",
     "output_type": "stream",
     "text": [
      "10944/15457 [====================>.........] - ETA: 1:12:02 - loss: 0.0029 - accuracy: 0.995 - ETA: 1:11:53 - loss: 0.0029 - accuracy: 0.995 - ETA: 1:11:43 - loss: 0.0029 - accuracy: 0.995 - ETA: 1:11:35 - loss: 0.0029 - accuracy: 0.995 - ETA: 1:11:25 - loss: 0.0029 - accuracy: 0.995 - ETA: 1:11:16 - loss: 0.0029 - accuracy: 0.995 - ETA: 1:11:08 - loss: 0.0029 - accuracy: 0.995 - ETA: 1:11:00 - loss: 0.0029 - accuracy: 0.995 - ETA: 1:10:51 - loss: 0.0029 - accuracy: 0.995 - ETA: 1:10:42 - loss: 0.0029 - accuracy: 0.995 - ETA: 1:10:33 - loss: 0.0029 - accuracy: 0.995 - ETA: 1:10:24 - loss: 0.0029 - accuracy: 0.995 - ETA: 1:10:14 - loss: 0.0029 - accuracy: 0.995 - ETA: 1:10:05 - loss: 0.0029 - accuracy: 0.995 - ETA: 1:09:55 - loss: 0.0029 - accuracy: 0.995 - ETA: 1:09:45 - loss: 0.0029 - accuracy: 0.995 - ETA: 1:09:36 - loss: 0.0029 - accuracy: 0.995 - ETA: 1:09:26 - loss: 0.0029 - accuracy: 0.995 - ETA: 1:09:16 - loss: 0.0029 - accuracy: 0.995 - ETA: 1:09:07 - loss: 0.0029 - accuracy: 0.995 - ETA: 1:08:57 - loss: 0.0029 - accuracy: 0.995 - ETA: 1:08:47 - loss: 0.0029 - accuracy: 0.995 - ETA: 1:08:38 - loss: 0.0029 - accuracy: 0.995 - ETA: 1:08:28 - loss: 0.0029 - accuracy: 0.995 - ETA: 1:08:18 - loss: 0.0029 - accuracy: 0.995 - ETA: 1:08:09 - loss: 0.0029 - accuracy: 0.995 - ETA: 1:07:59 - loss: 0.0029 - accuracy: 0.995 - ETA: 1:07:50 - loss: 0.0029 - accuracy: 0.995 - ETA: 1:07:40 - loss: 0.0029 - accuracy: 0.995 - ETA: 1:07:30 - loss: 0.0029 - accuracy: 0.995 - ETA: 1:07:21 - loss: 0.0029 - accuracy: 0.995 - ETA: 1:07:11 - loss: 0.0029 - accuracy: 0.995 - ETA: 1:07:01 - loss: 0.0029 - accuracy: 0.995 - ETA: 1:06:52 - loss: 0.0029 - accuracy: 0.995 - ETA: 1:06:42 - loss: 0.0029 - accuracy: 0.995 - ETA: 1:06:33 - loss: 0.0029 - accuracy: 0.995 - ETA: 1:06:23 - loss: 0.0029 - accuracy: 0.995 - ETA: 1:06:13 - loss: 0.0029 - accuracy: 0.995 - ETA: 1:06:04 - loss: 0.0029 - accuracy: 0.995 - ETA: 1:05:54 - loss: 0.0029 - accuracy: 0.995 - ETA: 1:05:44 - loss: 0.0029 - accuracy: 0.995 - ETA: 1:05:35 - loss: 0.0029 - accuracy: 0.995 - ETA: 1:05:25 - loss: 0.0029 - accuracy: 0.995 - ETA: 1:05:16 - loss: 0.0029 - accuracy: 0.995 - ETA: 1:05:06 - loss: 0.0029 - accuracy: 0.995 - ETA: 1:04:57 - loss: 0.0029 - accuracy: 0.995 - ETA: 1:04:48 - loss: 0.0029 - accuracy: 0.995 - ETA: 1:04:38 - loss: 0.0029 - accuracy: 0.995 - ETA: 1:04:29 - loss: 0.0029 - accuracy: 0.995 - ETA: 1:04:19 - loss: 0.0029 - accuracy: 0.995 - ETA: 1:04:09 - loss: 0.0029 - accuracy: 0.995 - ETA: 1:04:00 - loss: 0.0029 - accuracy: 0.995 - ETA: 1:03:50 - loss: 0.0029 - accuracy: 0.995 - ETA: 1:03:41 - loss: 0.0029 - accuracy: 0.995 - ETA: 1:03:32 - loss: 0.0029 - accuracy: 0.995 - ETA: 1:03:22 - loss: 0.0029 - accuracy: 0.995 - ETA: 1:03:13 - loss: 0.0029 - accuracy: 0.995 - ETA: 1:03:03 - loss: 0.0029 - accuracy: 0.995 - ETA: 1:02:54 - loss: 0.0029 - accuracy: 0.995 - ETA: 1:02:44 - loss: 0.0028 - accuracy: 0.995 - ETA: 1:02:35 - loss: 0.0029 - accuracy: 0.995 - ETA: 1:02:26 - loss: 0.0029 - accuracy: 0.995 - ETA: 1:02:16 - loss: 0.0028 - accuracy: 0.995 - ETA: 1:02:07 - loss: 0.0029 - accuracy: 0.995 - ETA: 1:01:57 - loss: 0.0028 - accuracy: 0.995 - ETA: 1:01:48 - loss: 0.0028 - accuracy: 0.995 - ETA: 1:01:38 - loss: 0.0028 - accuracy: 0.995 - ETA: 1:01:29 - loss: 0.0028 - accuracy: 0.995 - ETA: 1:01:19 - loss: 0.0028 - accuracy: 0.995 - ETA: 1:01:10 - loss: 0.0028 - accuracy: 0.995 - ETA: 1:01:00 - loss: 0.0028 - accuracy: 0.995 - ETA: 1:00:50 - loss: 0.0028 - accuracy: 0.995 - ETA: 1:00:40 - loss: 0.0028 - accuracy: 0.995 - ETA: 1:00:31 - loss: 0.0028 - accuracy: 0.995 - ETA: 1:00:21 - loss: 0.0028 - accuracy: 0.995 - ETA: 1:00:12 - loss: 0.0028 - accuracy: 0.995 - ETA: 1:00:02 - loss: 0.0029 - accuracy: 0.995 - ETA: 59:52 - loss: 0.0029 - accuracy: 0.9952  - ETA: 59:43 - loss: 0.0029 - accuracy: 0.995 - ETA: 59:33 - loss: 0.0029 - accuracy: 0.995 - ETA: 59:24 - loss: 0.0029 - accuracy: 0.995 - ETA: 59:14 - loss: 0.0029 - accuracy: 0.995 - ETA: 59:05 - loss: 0.0029 - accuracy: 0.995 - ETA: 58:55 - loss: 0.0029 - accuracy: 0.995 - ETA: 58:45 - loss: 0.0029 - accuracy: 0.995 - ETA: 58:36 - loss: 0.0029 - accuracy: 0.995 - ETA: 58:26 - loss: 0.0029 - accuracy: 0.995 - ETA: 58:17 - loss: 0.0029 - accuracy: 0.995 - ETA: 58:07 - loss: 0.0029 - accuracy: 0.995 - ETA: 57:58 - loss: 0.0029 - accuracy: 0.995 - ETA: 57:48 - loss: 0.0029 - accuracy: 0.995 - ETA: 57:38 - loss: 0.0029 - accuracy: 0.995 - ETA: 57:29 - loss: 0.0029 - accuracy: 0.995 - ETA: 57:19 - loss: 0.0029 - accuracy: 0.995 - ETA: 57:10 - loss: 0.0029 - accuracy: 0.995 - ETA: 57:00 - loss: 0.0029 - accuracy: 0.995 - ETA: 56:51 - loss: 0.0029 - accuracy: 0.995 - ETA: 56:41 - loss: 0.0029 - accuracy: 0.995 - ETA: 56:32 - loss: 0.0029 - accuracy: 0.995 - ETA: 56:22 - loss: 0.0029 - accuracy: 0.995 - ETA: 56:12 - loss: 0.0029 - accuracy: 0.995 - ETA: 56:03 - loss: 0.0029 - accuracy: 0.995 - ETA: 55:53 - loss: 0.0029 - accuracy: 0.995 - ETA: 55:44 - loss: 0.0029 - accuracy: 0.995 - ETA: 55:34 - loss: 0.0029 - accuracy: 0.995 - ETA: 55:25 - loss: 0.0029 - accuracy: 0.995 - ETA: 55:15 - loss: 0.0029 - accuracy: 0.995 - ETA: 55:05 - loss: 0.0029 - accuracy: 0.995 - ETA: 54:56 - loss: 0.0029 - accuracy: 0.995 - ETA: 54:47 - loss: 0.0029 - accuracy: 0.995 - ETA: 54:37 - loss: 0.0029 - accuracy: 0.995 - ETA: 54:28 - loss: 0.0029 - accuracy: 0.995 - ETA: 54:18 - loss: 0.0029 - accuracy: 0.995 - ETA: 54:09 - loss: 0.0029 - accuracy: 0.995 - ETA: 53:59 - loss: 0.0029 - accuracy: 0.995 - ETA: 53:50 - loss: 0.0029 - accuracy: 0.995 - ETA: 53:40 - loss: 0.0029 - accuracy: 0.995 - ETA: 53:31 - loss: 0.0029 - accuracy: 0.995 - ETA: 53:21 - loss: 0.0029 - accuracy: 0.995 - ETA: 53:12 - loss: 0.0029 - accuracy: 0.995 - ETA: 53:02 - loss: 0.0029 - accuracy: 0.995 - ETA: 52:53 - loss: 0.0029 - accuracy: 0.995 - ETA: 52:43 - loss: 0.0029 - accuracy: 0.995 - ETA: 52:33 - loss: 0.0029 - accuracy: 0.995 - ETA: 52:24 - loss: 0.0029 - accuracy: 0.995 - ETA: 52:15 - loss: 0.0029 - accuracy: 0.995 - ETA: 52:05 - loss: 0.0029 - accuracy: 0.995 - ETA: 51:56 - loss: 0.0029 - accuracy: 0.995 - ETA: 51:46 - loss: 0.0029 - accuracy: 0.995 - ETA: 51:37 - loss: 0.0029 - accuracy: 0.995 - ETA: 51:28 - loss: 0.0029 - accuracy: 0.995 - ETA: 51:18 - loss: 0.0029 - accuracy: 0.995 - ETA: 51:08 - loss: 0.0029 - accuracy: 0.995 - ETA: 50:59 - loss: 0.0029 - accuracy: 0.995 - ETA: 50:50 - loss: 0.0029 - accuracy: 0.995 - ETA: 50:40 - loss: 0.0029 - accuracy: 0.995 - ETA: 50:30 - loss: 0.0029 - accuracy: 0.995 - ETA: 50:21 - loss: 0.0029 - accuracy: 0.995 - ETA: 50:11 - loss: 0.0029 - accuracy: 0.995 - ETA: 50:02 - loss: 0.0029 - accuracy: 0.995 - ETA: 49:52 - loss: 0.0029 - accuracy: 0.995 - ETA: 49:43 - loss: 0.0029 - accuracy: 0.995 - ETA: 49:33 - loss: 0.0029 - accuracy: 0.995 - ETA: 49:23 - loss: 0.0029 - accuracy: 0.995 - ETA: 49:14 - loss: 0.0029 - accuracy: 0.995 - ETA: 49:04 - loss: 0.0029 - accuracy: 0.995 - ETA: 48:55 - loss: 0.0029 - accuracy: 0.995 - ETA: 48:45 - loss: 0.0029 - accuracy: 0.995 - ETA: 48:36 - loss: 0.0029 - accuracy: 0.995 - ETA: 48:26 - loss: 0.0029 - accuracy: 0.995 - ETA: 48:16 - loss: 0.0029 - accuracy: 0.995 - ETA: 48:07 - loss: 0.0029 - accuracy: 0.995 - ETA: 47:57 - loss: 0.0029 - accuracy: 0.995 - ETA: 47:48 - loss: 0.0029 - accuracy: 0.995 - ETA: 47:38 - loss: 0.0029 - accuracy: 0.995 - ETA: 47:29 - loss: 0.0029 - accuracy: 0.995 - ETA: 47:19 - loss: 0.0029 - accuracy: 0.995 - ETA: 47:09 - loss: 0.0029 - accuracy: 0.995 - ETA: 47:00 - loss: 0.0029 - accuracy: 0.995 - ETA: 46:50 - loss: 0.0029 - accuracy: 0.995 - ETA: 46:41 - loss: 0.0029 - accuracy: 0.995 - ETA: 46:31 - loss: 0.0029 - accuracy: 0.995 - ETA: 46:22 - loss: 0.0029 - accuracy: 0.995 - ETA: 46:12 - loss: 0.0029 - accuracy: 0.995 - ETA: 46:03 - loss: 0.0029 - accuracy: 0.995 - ETA: 45:53 - loss: 0.0029 - accuracy: 0.995 - ETA: 45:43 - loss: 0.0029 - accuracy: 0.995 - ETA: 45:34 - loss: 0.0029 - accuracy: 0.995 - ETA: 45:24 - loss: 0.0029 - accuracy: 0.995 - ETA: 45:15 - loss: 0.0029 - accuracy: 0.995 - ETA: 45:05 - loss: 0.0029 - accuracy: 0.995 - ETA: 44:56 - loss: 0.0029 - accuracy: 0.995 - ETA: 44:46 - loss: 0.0029 - accuracy: 0.995 - ETA: 44:37 - loss: 0.0029 - accuracy: 0.9951"
     ]
    },
    {
     "name": "stdout",
     "output_type": "stream",
     "text": [
      "13792/15457 [=========================>....] - ETA: 44:27 - loss: 0.0029 - accuracy: 0.995 - ETA: 44:18 - loss: 0.0029 - accuracy: 0.995 - ETA: 44:09 - loss: 0.0029 - accuracy: 0.995 - ETA: 43:59 - loss: 0.0029 - accuracy: 0.995 - ETA: 43:50 - loss: 0.0029 - accuracy: 0.995 - ETA: 43:40 - loss: 0.0029 - accuracy: 0.995 - ETA: 43:30 - loss: 0.0029 - accuracy: 0.995 - ETA: 43:21 - loss: 0.0029 - accuracy: 0.995 - ETA: 43:11 - loss: 0.0029 - accuracy: 0.995 - ETA: 43:02 - loss: 0.0029 - accuracy: 0.995 - ETA: 42:52 - loss: 0.0029 - accuracy: 0.995 - ETA: 42:43 - loss: 0.0029 - accuracy: 0.995 - ETA: 42:33 - loss: 0.0029 - accuracy: 0.995 - ETA: 42:24 - loss: 0.0029 - accuracy: 0.995 - ETA: 42:15 - loss: 0.0029 - accuracy: 0.995 - ETA: 42:05 - loss: 0.0029 - accuracy: 0.995 - ETA: 41:55 - loss: 0.0029 - accuracy: 0.995 - ETA: 41:46 - loss: 0.0029 - accuracy: 0.995 - ETA: 41:37 - loss: 0.0029 - accuracy: 0.995 - ETA: 41:27 - loss: 0.0029 - accuracy: 0.995 - ETA: 41:17 - loss: 0.0029 - accuracy: 0.995 - ETA: 41:08 - loss: 0.0029 - accuracy: 0.995 - ETA: 40:59 - loss: 0.0029 - accuracy: 0.995 - ETA: 40:49 - loss: 0.0029 - accuracy: 0.995 - ETA: 40:39 - loss: 0.0029 - accuracy: 0.995 - ETA: 40:30 - loss: 0.0029 - accuracy: 0.995 - ETA: 40:20 - loss: 0.0029 - accuracy: 0.995 - ETA: 40:11 - loss: 0.0029 - accuracy: 0.995 - ETA: 40:01 - loss: 0.0029 - accuracy: 0.995 - ETA: 39:52 - loss: 0.0029 - accuracy: 0.995 - ETA: 39:42 - loss: 0.0029 - accuracy: 0.995 - ETA: 39:33 - loss: 0.0029 - accuracy: 0.995 - ETA: 39:23 - loss: 0.0029 - accuracy: 0.995 - ETA: 39:14 - loss: 0.0029 - accuracy: 0.995 - ETA: 39:04 - loss: 0.0029 - accuracy: 0.995 - ETA: 38:55 - loss: 0.0029 - accuracy: 0.995 - ETA: 38:45 - loss: 0.0029 - accuracy: 0.995 - ETA: 38:35 - loss: 0.0029 - accuracy: 0.995 - ETA: 38:26 - loss: 0.0029 - accuracy: 0.995 - ETA: 38:16 - loss: 0.0029 - accuracy: 0.995 - ETA: 38:07 - loss: 0.0029 - accuracy: 0.995 - ETA: 37:57 - loss: 0.0029 - accuracy: 0.995 - ETA: 37:48 - loss: 0.0029 - accuracy: 0.995 - ETA: 37:38 - loss: 0.0029 - accuracy: 0.995 - ETA: 37:29 - loss: 0.0029 - accuracy: 0.995 - ETA: 37:19 - loss: 0.0029 - accuracy: 0.995 - ETA: 37:09 - loss: 0.0029 - accuracy: 0.995 - ETA: 37:00 - loss: 0.0029 - accuracy: 0.995 - ETA: 36:50 - loss: 0.0029 - accuracy: 0.995 - ETA: 36:41 - loss: 0.0029 - accuracy: 0.995 - ETA: 36:31 - loss: 0.0029 - accuracy: 0.995 - ETA: 36:22 - loss: 0.0029 - accuracy: 0.995 - ETA: 36:12 - loss: 0.0029 - accuracy: 0.995 - ETA: 36:03 - loss: 0.0029 - accuracy: 0.995 - ETA: 35:53 - loss: 0.0029 - accuracy: 0.995 - ETA: 35:44 - loss: 0.0029 - accuracy: 0.995 - ETA: 35:34 - loss: 0.0029 - accuracy: 0.995 - ETA: 35:25 - loss: 0.0029 - accuracy: 0.995 - ETA: 35:15 - loss: 0.0029 - accuracy: 0.995 - ETA: 35:05 - loss: 0.0029 - accuracy: 0.995 - ETA: 34:56 - loss: 0.0030 - accuracy: 0.995 - ETA: 34:47 - loss: 0.0030 - accuracy: 0.995 - ETA: 34:37 - loss: 0.0030 - accuracy: 0.995 - ETA: 34:28 - loss: 0.0030 - accuracy: 0.995 - ETA: 34:18 - loss: 0.0030 - accuracy: 0.995 - ETA: 34:09 - loss: 0.0030 - accuracy: 0.995 - ETA: 33:59 - loss: 0.0030 - accuracy: 0.995 - ETA: 33:50 - loss: 0.0030 - accuracy: 0.995 - ETA: 33:40 - loss: 0.0030 - accuracy: 0.995 - ETA: 33:31 - loss: 0.0030 - accuracy: 0.995 - ETA: 33:21 - loss: 0.0030 - accuracy: 0.995 - ETA: 33:12 - loss: 0.0030 - accuracy: 0.995 - ETA: 33:02 - loss: 0.0030 - accuracy: 0.995 - ETA: 32:52 - loss: 0.0030 - accuracy: 0.995 - ETA: 32:43 - loss: 0.0030 - accuracy: 0.995 - ETA: 32:34 - loss: 0.0030 - accuracy: 0.995 - ETA: 32:24 - loss: 0.0030 - accuracy: 0.995 - ETA: 32:15 - loss: 0.0030 - accuracy: 0.995 - ETA: 32:05 - loss: 0.0030 - accuracy: 0.995 - ETA: 31:56 - loss: 0.0030 - accuracy: 0.995 - ETA: 31:46 - loss: 0.0030 - accuracy: 0.995 - ETA: 31:37 - loss: 0.0030 - accuracy: 0.995 - ETA: 31:27 - loss: 0.0030 - accuracy: 0.995 - ETA: 31:18 - loss: 0.0029 - accuracy: 0.995 - ETA: 31:08 - loss: 0.0029 - accuracy: 0.995 - ETA: 30:59 - loss: 0.0029 - accuracy: 0.995 - ETA: 30:49 - loss: 0.0030 - accuracy: 0.995 - ETA: 30:40 - loss: 0.0029 - accuracy: 0.995 - ETA: 30:30 - loss: 0.0030 - accuracy: 0.995 - ETA: 30:21 - loss: 0.0029 - accuracy: 0.995 - ETA: 30:11 - loss: 0.0029 - accuracy: 0.995 - ETA: 30:02 - loss: 0.0029 - accuracy: 0.995 - ETA: 29:52 - loss: 0.0029 - accuracy: 0.995 - ETA: 29:43 - loss: 0.0029 - accuracy: 0.995 - ETA: 29:33 - loss: 0.0029 - accuracy: 0.995 - ETA: 29:24 - loss: 0.0030 - accuracy: 0.995 - ETA: 29:14 - loss: 0.0030 - accuracy: 0.995 - ETA: 29:05 - loss: 0.0030 - accuracy: 0.995 - ETA: 28:55 - loss: 0.0030 - accuracy: 0.995 - ETA: 28:46 - loss: 0.0030 - accuracy: 0.995 - ETA: 28:36 - loss: 0.0030 - accuracy: 0.995 - ETA: 28:26 - loss: 0.0030 - accuracy: 0.995 - ETA: 28:17 - loss: 0.0030 - accuracy: 0.995 - ETA: 28:08 - loss: 0.0030 - accuracy: 0.995 - ETA: 27:58 - loss: 0.0029 - accuracy: 0.995 - ETA: 27:48 - loss: 0.0029 - accuracy: 0.995 - ETA: 27:39 - loss: 0.0029 - accuracy: 0.995 - ETA: 27:29 - loss: 0.0029 - accuracy: 0.995 - ETA: 27:20 - loss: 0.0029 - accuracy: 0.995 - ETA: 27:11 - loss: 0.0029 - accuracy: 0.995 - ETA: 27:01 - loss: 0.0029 - accuracy: 0.995 - ETA: 26:52 - loss: 0.0029 - accuracy: 0.995 - ETA: 26:42 - loss: 0.0029 - accuracy: 0.995 - ETA: 26:32 - loss: 0.0029 - accuracy: 0.995 - ETA: 26:23 - loss: 0.0029 - accuracy: 0.995 - ETA: 26:13 - loss: 0.0029 - accuracy: 0.995 - ETA: 26:04 - loss: 0.0029 - accuracy: 0.995 - ETA: 25:54 - loss: 0.0029 - accuracy: 0.995 - ETA: 25:45 - loss: 0.0029 - accuracy: 0.995 - ETA: 25:35 - loss: 0.0029 - accuracy: 0.995 - ETA: 25:26 - loss: 0.0029 - accuracy: 0.995 - ETA: 25:16 - loss: 0.0029 - accuracy: 0.995 - ETA: 25:07 - loss: 0.0029 - accuracy: 0.995 - ETA: 24:57 - loss: 0.0029 - accuracy: 0.995 - ETA: 24:48 - loss: 0.0029 - accuracy: 0.995 - ETA: 24:38 - loss: 0.0029 - accuracy: 0.995 - ETA: 24:29 - loss: 0.0029 - accuracy: 0.995 - ETA: 24:19 - loss: 0.0030 - accuracy: 0.995 - ETA: 24:10 - loss: 0.0030 - accuracy: 0.995 - ETA: 24:01 - loss: 0.0030 - accuracy: 0.995 - ETA: 23:51 - loss: 0.0030 - accuracy: 0.995 - ETA: 23:42 - loss: 0.0030 - accuracy: 0.995 - ETA: 23:32 - loss: 0.0030 - accuracy: 0.995 - ETA: 23:23 - loss: 0.0030 - accuracy: 0.995 - ETA: 23:13 - loss: 0.0030 - accuracy: 0.995 - ETA: 23:04 - loss: 0.0030 - accuracy: 0.995 - ETA: 22:54 - loss: 0.0030 - accuracy: 0.995 - ETA: 22:45 - loss: 0.0030 - accuracy: 0.995 - ETA: 22:35 - loss: 0.0030 - accuracy: 0.995 - ETA: 22:26 - loss: 0.0030 - accuracy: 0.995 - ETA: 22:16 - loss: 0.0030 - accuracy: 0.995 - ETA: 22:07 - loss: 0.0030 - accuracy: 0.995 - ETA: 21:57 - loss: 0.0030 - accuracy: 0.995 - ETA: 21:48 - loss: 0.0030 - accuracy: 0.995 - ETA: 21:38 - loss: 0.0030 - accuracy: 0.995 - ETA: 21:29 - loss: 0.0030 - accuracy: 0.995 - ETA: 21:19 - loss: 0.0030 - accuracy: 0.995 - ETA: 21:10 - loss: 0.0030 - accuracy: 0.995 - ETA: 21:00 - loss: 0.0030 - accuracy: 0.995 - ETA: 20:51 - loss: 0.0030 - accuracy: 0.995 - ETA: 20:42 - loss: 0.0030 - accuracy: 0.995 - ETA: 20:32 - loss: 0.0030 - accuracy: 0.995 - ETA: 20:23 - loss: 0.0030 - accuracy: 0.995 - ETA: 20:13 - loss: 0.0030 - accuracy: 0.995 - ETA: 20:04 - loss: 0.0030 - accuracy: 0.995 - ETA: 19:54 - loss: 0.0030 - accuracy: 0.995 - ETA: 19:45 - loss: 0.0030 - accuracy: 0.995 - ETA: 19:35 - loss: 0.0030 - accuracy: 0.995 - ETA: 19:26 - loss: 0.0030 - accuracy: 0.995 - ETA: 19:16 - loss: 0.0030 - accuracy: 0.995 - ETA: 19:07 - loss: 0.0030 - accuracy: 0.995 - ETA: 18:57 - loss: 0.0030 - accuracy: 0.995 - ETA: 18:48 - loss: 0.0030 - accuracy: 0.995 - ETA: 18:38 - loss: 0.0030 - accuracy: 0.995 - ETA: 18:29 - loss: 0.0029 - accuracy: 0.995 - ETA: 18:19 - loss: 0.0029 - accuracy: 0.995 - ETA: 18:10 - loss: 0.0029 - accuracy: 0.995 - ETA: 18:00 - loss: 0.0029 - accuracy: 0.995 - ETA: 17:51 - loss: 0.0029 - accuracy: 0.995 - ETA: 17:41 - loss: 0.0029 - accuracy: 0.995 - ETA: 17:32 - loss: 0.0029 - accuracy: 0.995 - ETA: 17:22 - loss: 0.0029 - accuracy: 0.995 - ETA: 17:13 - loss: 0.0029 - accuracy: 0.995 - ETA: 17:03 - loss: 0.0029 - accuracy: 0.995 - ETA: 16:54 - loss: 0.0029 - accuracy: 0.995 - ETA: 16:44 - loss: 0.0029 - accuracy: 0.995 - ETA: 16:35 - loss: 0.0029 - accuracy: 0.995 - ETA: 16:25 - loss: 0.0029 - accuracy: 0.9951"
     ]
    },
    {
     "name": "stdout",
     "output_type": "stream",
     "text": [
      "15457/15457 [==============================] - ETA: 16:16 - loss: 0.0029 - accuracy: 0.995 - ETA: 16:06 - loss: 0.0029 - accuracy: 0.995 - ETA: 15:57 - loss: 0.0029 - accuracy: 0.995 - ETA: 15:47 - loss: 0.0029 - accuracy: 0.995 - ETA: 15:38 - loss: 0.0029 - accuracy: 0.995 - ETA: 15:28 - loss: 0.0029 - accuracy: 0.995 - ETA: 15:19 - loss: 0.0029 - accuracy: 0.995 - ETA: 15:09 - loss: 0.0029 - accuracy: 0.995 - ETA: 15:00 - loss: 0.0029 - accuracy: 0.995 - ETA: 14:50 - loss: 0.0029 - accuracy: 0.995 - ETA: 14:41 - loss: 0.0029 - accuracy: 0.995 - ETA: 14:32 - loss: 0.0029 - accuracy: 0.995 - ETA: 14:22 - loss: 0.0029 - accuracy: 0.995 - ETA: 14:13 - loss: 0.0029 - accuracy: 0.995 - ETA: 14:03 - loss: 0.0029 - accuracy: 0.995 - ETA: 13:54 - loss: 0.0029 - accuracy: 0.995 - ETA: 13:44 - loss: 0.0029 - accuracy: 0.995 - ETA: 13:35 - loss: 0.0029 - accuracy: 0.995 - ETA: 13:25 - loss: 0.0029 - accuracy: 0.995 - ETA: 13:16 - loss: 0.0029 - accuracy: 0.995 - ETA: 13:07 - loss: 0.0029 - accuracy: 0.995 - ETA: 12:57 - loss: 0.0029 - accuracy: 0.995 - ETA: 12:48 - loss: 0.0029 - accuracy: 0.995 - ETA: 12:38 - loss: 0.0029 - accuracy: 0.995 - ETA: 12:29 - loss: 0.0029 - accuracy: 0.995 - ETA: 12:19 - loss: 0.0029 - accuracy: 0.995 - ETA: 12:10 - loss: 0.0029 - accuracy: 0.995 - ETA: 12:01 - loss: 0.0029 - accuracy: 0.995 - ETA: 11:51 - loss: 0.0029 - accuracy: 0.995 - ETA: 11:42 - loss: 0.0029 - accuracy: 0.995 - ETA: 11:32 - loss: 0.0029 - accuracy: 0.995 - ETA: 11:23 - loss: 0.0029 - accuracy: 0.995 - ETA: 11:14 - loss: 0.0029 - accuracy: 0.995 - ETA: 11:04 - loss: 0.0030 - accuracy: 0.995 - ETA: 10:55 - loss: 0.0030 - accuracy: 0.995 - ETA: 10:45 - loss: 0.0030 - accuracy: 0.995 - ETA: 10:36 - loss: 0.0030 - accuracy: 0.995 - ETA: 10:27 - loss: 0.0030 - accuracy: 0.995 - ETA: 10:17 - loss: 0.0029 - accuracy: 0.995 - ETA: 10:08 - loss: 0.0029 - accuracy: 0.995 - ETA: 9:59 - loss: 0.0030 - accuracy: 0.995 - ETA: 9:49 - loss: 0.0029 - accuracy: 0.99 - ETA: 9:40 - loss: 0.0029 - accuracy: 0.99 - ETA: 9:30 - loss: 0.0029 - accuracy: 0.99 - ETA: 9:21 - loss: 0.0030 - accuracy: 0.99 - ETA: 9:11 - loss: 0.0030 - accuracy: 0.99 - ETA: 9:02 - loss: 0.0030 - accuracy: 0.99 - ETA: 8:53 - loss: 0.0030 - accuracy: 0.99 - ETA: 8:43 - loss: 0.0030 - accuracy: 0.99 - ETA: 8:34 - loss: 0.0030 - accuracy: 0.99 - ETA: 8:24 - loss: 0.0030 - accuracy: 0.99 - ETA: 8:15 - loss: 0.0030 - accuracy: 0.99 - ETA: 8:05 - loss: 0.0030 - accuracy: 0.99 - ETA: 7:56 - loss: 0.0030 - accuracy: 0.99 - ETA: 7:46 - loss: 0.0030 - accuracy: 0.99 - ETA: 7:37 - loss: 0.0030 - accuracy: 0.99 - ETA: 7:27 - loss: 0.0030 - accuracy: 0.99 - ETA: 7:18 - loss: 0.0030 - accuracy: 0.99 - ETA: 7:08 - loss: 0.0030 - accuracy: 0.99 - ETA: 6:59 - loss: 0.0030 - accuracy: 0.99 - ETA: 6:49 - loss: 0.0030 - accuracy: 0.99 - ETA: 6:40 - loss: 0.0030 - accuracy: 0.99 - ETA: 6:30 - loss: 0.0030 - accuracy: 0.99 - ETA: 6:21 - loss: 0.0030 - accuracy: 0.99 - ETA: 6:11 - loss: 0.0030 - accuracy: 0.99 - ETA: 6:02 - loss: 0.0030 - accuracy: 0.99 - ETA: 5:52 - loss: 0.0030 - accuracy: 0.99 - ETA: 5:43 - loss: 0.0030 - accuracy: 0.99 - ETA: 5:33 - loss: 0.0030 - accuracy: 0.99 - ETA: 5:24 - loss: 0.0030 - accuracy: 0.99 - ETA: 5:14 - loss: 0.0030 - accuracy: 0.99 - ETA: 5:05 - loss: 0.0030 - accuracy: 0.99 - ETA: 4:55 - loss: 0.0030 - accuracy: 0.99 - ETA: 4:46 - loss: 0.0030 - accuracy: 0.99 - ETA: 4:36 - loss: 0.0030 - accuracy: 0.99 - ETA: 4:27 - loss: 0.0029 - accuracy: 0.99 - ETA: 4:17 - loss: 0.0029 - accuracy: 0.99 - ETA: 4:08 - loss: 0.0029 - accuracy: 0.99 - ETA: 3:58 - loss: 0.0029 - accuracy: 0.99 - ETA: 3:49 - loss: 0.0029 - accuracy: 0.99 - ETA: 3:39 - loss: 0.0029 - accuracy: 0.99 - ETA: 3:30 - loss: 0.0029 - accuracy: 0.99 - ETA: 3:20 - loss: 0.0029 - accuracy: 0.99 - ETA: 3:11 - loss: 0.0029 - accuracy: 0.99 - ETA: 3:01 - loss: 0.0029 - accuracy: 0.99 - ETA: 2:52 - loss: 0.0029 - accuracy: 0.99 - ETA: 2:42 - loss: 0.0029 - accuracy: 0.99 - ETA: 2:33 - loss: 0.0029 - accuracy: 0.99 - ETA: 2:23 - loss: 0.0029 - accuracy: 0.99 - ETA: 2:13 - loss: 0.0029 - accuracy: 0.99 - ETA: 2:04 - loss: 0.0029 - accuracy: 0.99 - ETA: 1:54 - loss: 0.0029 - accuracy: 0.99 - ETA: 1:45 - loss: 0.0029 - accuracy: 0.99 - ETA: 1:35 - loss: 0.0029 - accuracy: 0.99 - ETA: 1:26 - loss: 0.0029 - accuracy: 0.99 - ETA: 1:16 - loss: 0.0029 - accuracy: 0.99 - ETA: 1:07 - loss: 0.0030 - accuracy: 0.99 - ETA: 57s - loss: 0.0030 - accuracy: 0.9950 - ETA: 48s - loss: 0.0030 - accuracy: 0.995 - ETA: 38s - loss: 0.0030 - accuracy: 0.995 - ETA: 29s - loss: 0.0029 - accuracy: 0.995 - ETA: 19s - loss: 0.0029 - accuracy: 0.995 - ETA: 10s - loss: 0.0030 - accuracy: 0.995 - ETA: 0s - loss: 0.0030 - accuracy: 0.995 - 9795s 634ms/step - loss: 0.0030 - accuracy: 0.9950 - val_loss: 0.0081 - val_accuracy: 0.9870\n",
      "\n",
      "Epoch 00004: val_loss did not improve from 0.00730\n",
      "Epoch 5/30\n"
     ]
    },
    {
     "name": "stdout",
     "output_type": "stream",
     "text": [
      " 2672/15457 [====>.........................] - ETA: 2:42:07 - loss: 0.0022 - accuracy: 0.995 - ETA: 2:36:56 - loss: 0.0014 - accuracy: 0.997 - ETA: 2:34:12 - loss: 0.0010 - accuracy: 0.998 - ETA: 2:32:29 - loss: 8.8439e-04 - accuracy: 0.998 - ETA: 2:32:02 - loss: 7.5122e-04 - accuracy: 0.999 - ETA: 2:31:33 - loss: 6.8340e-04 - accuracy: 0.999 - ETA: 2:31:36 - loss: 6.4777e-04 - accuracy: 0.999 - ETA: 2:31:03 - loss: 6.2785e-04 - accuracy: 0.999 - ETA: 2:30:23 - loss: 5.7499e-04 - accuracy: 0.999 - ETA: 2:30:12 - loss: 5.6791e-04 - accuracy: 0.999 - ETA: 2:29:38 - loss: 5.5175e-04 - accuracy: 0.999 - ETA: 2:29:20 - loss: 5.2077e-04 - accuracy: 0.999 - ETA: 2:29:00 - loss: 6.6926e-04 - accuracy: 0.999 - ETA: 2:29:17 - loss: 6.2960e-04 - accuracy: 0.999 - ETA: 2:29:00 - loss: 6.6580e-04 - accuracy: 0.999 - ETA: 2:28:40 - loss: 8.1214e-04 - accuracy: 0.998 - ETA: 2:28:28 - loss: 7.8913e-04 - accuracy: 0.998 - ETA: 2:28:18 - loss: 7.4758e-04 - accuracy: 0.998 - ETA: 2:28:15 - loss: 8.9803e-04 - accuracy: 0.998 - ETA: 2:28:02 - loss: 8.6058e-04 - accuracy: 0.998 - ETA: 2:28:12 - loss: 8.4077e-04 - accuracy: 0.998 - ETA: 2:27:55 - loss: 8.4389e-04 - accuracy: 0.998 - ETA: 2:27:41 - loss: 0.0010 - accuracy: 0.9984    - ETA: 2:27:25 - loss: 0.0010 - accuracy: 0.998 - ETA: 2:27:09 - loss: 9.8079e-04 - accuracy: 0.998 - ETA: 2:26:59 - loss: 9.4782e-04 - accuracy: 0.998 - ETA: 2:26:47 - loss: 9.6882e-04 - accuracy: 0.998 - ETA: 2:26:46 - loss: 9.7633e-04 - accuracy: 0.998 - ETA: 2:26:33 - loss: 9.4422e-04 - accuracy: 0.998 - ETA: 2:26:32 - loss: 9.3283e-04 - accuracy: 0.998 - ETA: 2:26:30 - loss: 9.1041e-04 - accuracy: 0.998 - ETA: 2:26:38 - loss: 8.9736e-04 - accuracy: 0.998 - ETA: 2:26:41 - loss: 8.9284e-04 - accuracy: 0.998 - ETA: 2:27:14 - loss: 8.9655e-04 - accuracy: 0.998 - ETA: 2:27:11 - loss: 8.7173e-04 - accuracy: 0.998 - ETA: 2:27:06 - loss: 8.7835e-04 - accuracy: 0.998 - ETA: 2:26:51 - loss: 8.9154e-04 - accuracy: 0.998 - ETA: 2:26:39 - loss: 8.7057e-04 - accuracy: 0.998 - ETA: 2:26:25 - loss: 8.6035e-04 - accuracy: 0.998 - ETA: 2:26:09 - loss: 8.6513e-04 - accuracy: 0.998 - ETA: 2:26:05 - loss: 8.5725e-04 - accuracy: 0.998 - ETA: 2:25:49 - loss: 8.5553e-04 - accuracy: 0.998 - ETA: 2:25:39 - loss: 8.4121e-04 - accuracy: 0.998 - ETA: 2:25:27 - loss: 8.9991e-04 - accuracy: 0.998 - ETA: 2:25:15 - loss: 9.2436e-04 - accuracy: 0.998 - ETA: 2:25:07 - loss: 9.0648e-04 - accuracy: 0.998 - ETA: 2:24:59 - loss: 0.0010 - accuracy: 0.9983    - ETA: 2:24:54 - loss: 0.0011 - accuracy: 0.998 - ETA: 2:24:49 - loss: 0.0011 - accuracy: 0.998 - ETA: 2:24:44 - loss: 0.0012 - accuracy: 0.998 - ETA: 2:24:36 - loss: 0.0013 - accuracy: 0.998 - ETA: 2:24:23 - loss: 0.0013 - accuracy: 0.998 - ETA: 2:24:12 - loss: 0.0013 - accuracy: 0.998 - ETA: 2:24:06 - loss: 0.0013 - accuracy: 0.998 - ETA: 2:23:57 - loss: 0.0013 - accuracy: 0.998 - ETA: 2:23:46 - loss: 0.0013 - accuracy: 0.998 - ETA: 2:23:31 - loss: 0.0013 - accuracy: 0.998 - ETA: 2:23:19 - loss: 0.0013 - accuracy: 0.998 - ETA: 2:23:04 - loss: 0.0013 - accuracy: 0.998 - ETA: 2:22:51 - loss: 0.0013 - accuracy: 0.998 - ETA: 2:22:46 - loss: 0.0013 - accuracy: 0.998 - ETA: 2:22:34 - loss: 0.0014 - accuracy: 0.998 - ETA: 2:22:21 - loss: 0.0014 - accuracy: 0.998 - ETA: 2:22:12 - loss: 0.0014 - accuracy: 0.998 - ETA: 2:22:00 - loss: 0.0014 - accuracy: 0.998 - ETA: 2:21:51 - loss: 0.0014 - accuracy: 0.998 - ETA: 2:21:37 - loss: 0.0014 - accuracy: 0.998 - ETA: 2:21:33 - loss: 0.0014 - accuracy: 0.998 - ETA: 2:21:20 - loss: 0.0014 - accuracy: 0.998 - ETA: 2:21:07 - loss: 0.0014 - accuracy: 0.998 - ETA: 2:20:57 - loss: 0.0014 - accuracy: 0.998 - ETA: 2:20:45 - loss: 0.0014 - accuracy: 0.998 - ETA: 2:20:30 - loss: 0.0014 - accuracy: 0.998 - ETA: 2:20:21 - loss: 0.0015 - accuracy: 0.998 - ETA: 2:20:10 - loss: 0.0015 - accuracy: 0.998 - ETA: 2:20:01 - loss: 0.0015 - accuracy: 0.997 - ETA: 2:19:48 - loss: 0.0015 - accuracy: 0.997 - ETA: 2:19:33 - loss: 0.0015 - accuracy: 0.997 - ETA: 2:19:23 - loss: 0.0015 - accuracy: 0.997 - ETA: 2:19:12 - loss: 0.0015 - accuracy: 0.998 - ETA: 2:19:06 - loss: 0.0015 - accuracy: 0.998 - ETA: 2:18:57 - loss: 0.0015 - accuracy: 0.997 - ETA: 2:18:47 - loss: 0.0015 - accuracy: 0.998 - ETA: 2:18:36 - loss: 0.0015 - accuracy: 0.998 - ETA: 2:18:25 - loss: 0.0015 - accuracy: 0.997 - ETA: 2:18:13 - loss: 0.0015 - accuracy: 0.997 - ETA: 2:18:02 - loss: 0.0015 - accuracy: 0.998 - ETA: 2:17:54 - loss: 0.0014 - accuracy: 0.998 - ETA: 2:17:42 - loss: 0.0015 - accuracy: 0.997 - ETA: 2:17:31 - loss: 0.0015 - accuracy: 0.997 - ETA: 2:17:19 - loss: 0.0015 - accuracy: 0.997 - ETA: 2:17:09 - loss: 0.0015 - accuracy: 0.997 - ETA: 2:17:01 - loss: 0.0015 - accuracy: 0.997 - ETA: 2:16:55 - loss: 0.0015 - accuracy: 0.997 - ETA: 2:16:47 - loss: 0.0015 - accuracy: 0.997 - ETA: 2:16:38 - loss: 0.0015 - accuracy: 0.997 - ETA: 2:16:30 - loss: 0.0015 - accuracy: 0.997 - ETA: 2:16:21 - loss: 0.0015 - accuracy: 0.997 - ETA: 2:16:12 - loss: 0.0015 - accuracy: 0.997 - ETA: 2:16:01 - loss: 0.0015 - accuracy: 0.997 - ETA: 2:15:52 - loss: 0.0015 - accuracy: 0.997 - ETA: 2:15:41 - loss: 0.0015 - accuracy: 0.997 - ETA: 2:15:31 - loss: 0.0015 - accuracy: 0.997 - ETA: 2:15:20 - loss: 0.0015 - accuracy: 0.997 - ETA: 2:15:09 - loss: 0.0015 - accuracy: 0.997 - ETA: 2:14:58 - loss: 0.0015 - accuracy: 0.997 - ETA: 2:14:49 - loss: 0.0016 - accuracy: 0.997 - ETA: 2:14:43 - loss: 0.0016 - accuracy: 0.997 - ETA: 2:14:32 - loss: 0.0016 - accuracy: 0.997 - ETA: 2:14:24 - loss: 0.0016 - accuracy: 0.997 - ETA: 2:14:15 - loss: 0.0016 - accuracy: 0.997 - ETA: 2:14:07 - loss: 0.0016 - accuracy: 0.997 - ETA: 2:13:58 - loss: 0.0016 - accuracy: 0.997 - ETA: 2:13:50 - loss: 0.0016 - accuracy: 0.997 - ETA: 2:13:45 - loss: 0.0016 - accuracy: 0.997 - ETA: 2:13:34 - loss: 0.0016 - accuracy: 0.997 - ETA: 2:13:24 - loss: 0.0016 - accuracy: 0.997 - ETA: 2:13:13 - loss: 0.0016 - accuracy: 0.997 - ETA: 2:13:04 - loss: 0.0016 - accuracy: 0.997 - ETA: 2:12:52 - loss: 0.0016 - accuracy: 0.997 - ETA: 2:12:41 - loss: 0.0016 - accuracy: 0.997 - ETA: 2:12:31 - loss: 0.0016 - accuracy: 0.997 - ETA: 2:12:21 - loss: 0.0016 - accuracy: 0.997 - ETA: 2:12:10 - loss: 0.0016 - accuracy: 0.997 - ETA: 2:11:59 - loss: 0.0016 - accuracy: 0.997 - ETA: 2:11:48 - loss: 0.0016 - accuracy: 0.997 - ETA: 2:11:37 - loss: 0.0017 - accuracy: 0.997 - ETA: 2:11:31 - loss: 0.0016 - accuracy: 0.997 - ETA: 2:11:20 - loss: 0.0017 - accuracy: 0.997 - ETA: 2:11:10 - loss: 0.0016 - accuracy: 0.997 - ETA: 2:11:01 - loss: 0.0017 - accuracy: 0.997 - ETA: 2:10:51 - loss: 0.0017 - accuracy: 0.997 - ETA: 2:10:41 - loss: 0.0017 - accuracy: 0.997 - ETA: 2:10:30 - loss: 0.0017 - accuracy: 0.997 - ETA: 2:10:22 - loss: 0.0017 - accuracy: 0.997 - ETA: 2:10:11 - loss: 0.0017 - accuracy: 0.997 - ETA: 2:10:00 - loss: 0.0017 - accuracy: 0.997 - ETA: 2:09:50 - loss: 0.0017 - accuracy: 0.997 - ETA: 2:09:39 - loss: 0.0017 - accuracy: 0.997 - ETA: 2:09:31 - loss: 0.0017 - accuracy: 0.997 - ETA: 2:09:24 - loss: 0.0017 - accuracy: 0.997 - ETA: 2:09:21 - loss: 0.0017 - accuracy: 0.997 - ETA: 2:09:18 - loss: 0.0017 - accuracy: 0.997 - ETA: 2:09:10 - loss: 0.0017 - accuracy: 0.997 - ETA: 2:09:03 - loss: 0.0017 - accuracy: 0.997 - ETA: 2:08:55 - loss: 0.0017 - accuracy: 0.997 - ETA: 2:08:45 - loss: 0.0017 - accuracy: 0.997 - ETA: 2:08:37 - loss: 0.0017 - accuracy: 0.997 - ETA: 2:08:26 - loss: 0.0017 - accuracy: 0.997 - ETA: 2:08:15 - loss: 0.0017 - accuracy: 0.997 - ETA: 2:08:04 - loss: 0.0017 - accuracy: 0.997 - ETA: 2:07:53 - loss: 0.0018 - accuracy: 0.997 - ETA: 2:07:43 - loss: 0.0017 - accuracy: 0.997 - ETA: 2:07:33 - loss: 0.0017 - accuracy: 0.997 - ETA: 2:07:24 - loss: 0.0017 - accuracy: 0.997 - ETA: 2:07:13 - loss: 0.0017 - accuracy: 0.997 - ETA: 2:07:05 - loss: 0.0017 - accuracy: 0.997 - ETA: 2:06:55 - loss: 0.0017 - accuracy: 0.997 - ETA: 2:06:46 - loss: 0.0017 - accuracy: 0.997 - ETA: 2:06:36 - loss: 0.0017 - accuracy: 0.997 - ETA: 2:06:27 - loss: 0.0017 - accuracy: 0.997 - ETA: 2:06:19 - loss: 0.0018 - accuracy: 0.997 - ETA: 2:06:10 - loss: 0.0018 - accuracy: 0.997 - ETA: 2:05:59 - loss: 0.0018 - accuracy: 0.997 - ETA: 2:05:49 - loss: 0.0017 - accuracy: 0.997 - ETA: 2:05:39 - loss: 0.0018 - accuracy: 0.997 - ETA: 2:05:29 - loss: 0.0018 - accuracy: 0.9973 5392/15457 [=========>....................] - ETA: 2:05:19 - loss: 0.0018 - accuracy: 0.997 - ETA: 2:05:09 - loss: 0.0018 - accuracy: 0.997 - ETA: 2:04:59 - loss: 0.0018 - accuracy: 0.997 - ETA: 2:04:49 - loss: 0.0018 - accuracy: 0.997 - ETA: 2:04:39 - loss: 0.0018 - accuracy: 0.997 - ETA: 2:04:31 - loss: 0.0018 - accuracy: 0.997 - ETA: 2:04:22 - loss: 0.0018 - accuracy: 0.997 - ETA: 2:04:14 - loss: 0.0018 - accuracy: 0.997 - ETA: 2:04:05 - loss: 0.0018 - accuracy: 0.997 - ETA: 2:03:55 - loss: 0.0018 - accuracy: 0.997 - ETA: 2:03:46 - loss: 0.0018 - accuracy: 0.997 - ETA: 2:03:37 - loss: 0.0018 - accuracy: 0.997 - ETA: 2:03:27 - loss: 0.0018 - accuracy: 0.997 - ETA: 2:03:17 - loss: 0.0018 - accuracy: 0.997 - ETA: 2:03:09 - loss: 0.0018 - accuracy: 0.997 - ETA: 2:02:59 - loss: 0.0018 - accuracy: 0.997 - ETA: 2:02:49 - loss: 0.0018 - accuracy: 0.997 - ETA: 2:02:39 - loss: 0.0018 - accuracy: 0.997 - ETA: 2:02:29 - loss: 0.0018 - accuracy: 0.997 - ETA: 2:02:19 - loss: 0.0018 - accuracy: 0.997 - ETA: 2:02:08 - loss: 0.0018 - accuracy: 0.997 - ETA: 2:01:59 - loss: 0.0018 - accuracy: 0.997 - ETA: 2:01:49 - loss: 0.0018 - accuracy: 0.997 - ETA: 2:01:38 - loss: 0.0018 - accuracy: 0.997 - ETA: 2:01:28 - loss: 0.0018 - accuracy: 0.997 - ETA: 2:01:18 - loss: 0.0018 - accuracy: 0.997 - ETA: 2:01:08 - loss: 0.0017 - accuracy: 0.997 - ETA: 2:00:59 - loss: 0.0017 - accuracy: 0.997 - ETA: 2:00:50 - loss: 0.0017 - accuracy: 0.997 - ETA: 2:00:40 - loss: 0.0017 - accuracy: 0.997 - ETA: 2:00:30 - loss: 0.0017 - accuracy: 0.997 - ETA: 2:00:20 - loss: 0.0017 - accuracy: 0.997 - ETA: 2:00:10 - loss: 0.0017 - accuracy: 0.997 - ETA: 2:00:00 - loss: 0.0017 - accuracy: 0.997 - ETA: 1:59:51 - loss: 0.0017 - accuracy: 0.997 - ETA: 1:59:40 - loss: 0.0017 - accuracy: 0.997 - ETA: 1:59:31 - loss: 0.0017 - accuracy: 0.997 - ETA: 1:59:21 - loss: 0.0018 - accuracy: 0.997 - ETA: 1:59:11 - loss: 0.0018 - accuracy: 0.997 - ETA: 1:59:01 - loss: 0.0018 - accuracy: 0.997 - ETA: 1:58:51 - loss: 0.0018 - accuracy: 0.997 - ETA: 1:58:43 - loss: 0.0018 - accuracy: 0.997 - ETA: 1:58:34 - loss: 0.0017 - accuracy: 0.997 - ETA: 1:58:24 - loss: 0.0018 - accuracy: 0.997 - ETA: 1:58:14 - loss: 0.0017 - accuracy: 0.997 - ETA: 1:58:04 - loss: 0.0017 - accuracy: 0.997 - ETA: 1:57:54 - loss: 0.0018 - accuracy: 0.997 - ETA: 1:57:44 - loss: 0.0017 - accuracy: 0.997 - ETA: 1:57:35 - loss: 0.0017 - accuracy: 0.997 - ETA: 1:57:25 - loss: 0.0017 - accuracy: 0.997 - ETA: 1:57:15 - loss: 0.0017 - accuracy: 0.997 - ETA: 1:57:05 - loss: 0.0018 - accuracy: 0.997 - ETA: 1:56:55 - loss: 0.0018 - accuracy: 0.997 - ETA: 1:56:45 - loss: 0.0018 - accuracy: 0.997 - ETA: 1:56:36 - loss: 0.0018 - accuracy: 0.997 - ETA: 1:56:28 - loss: 0.0018 - accuracy: 0.997 - ETA: 1:56:19 - loss: 0.0018 - accuracy: 0.997 - ETA: 1:56:10 - loss: 0.0018 - accuracy: 0.997 - ETA: 1:56:01 - loss: 0.0018 - accuracy: 0.997 - ETA: 1:55:51 - loss: 0.0018 - accuracy: 0.997 - ETA: 1:55:42 - loss: 0.0018 - accuracy: 0.997 - ETA: 1:55:33 - loss: 0.0018 - accuracy: 0.997 - ETA: 1:55:22 - loss: 0.0018 - accuracy: 0.997 - ETA: 1:55:13 - loss: 0.0018 - accuracy: 0.997 - ETA: 1:55:03 - loss: 0.0018 - accuracy: 0.997 - ETA: 1:54:53 - loss: 0.0018 - accuracy: 0.997 - ETA: 1:54:43 - loss: 0.0018 - accuracy: 0.997 - ETA: 1:54:33 - loss: 0.0018 - accuracy: 0.997 - ETA: 1:54:26 - loss: 0.0018 - accuracy: 0.997 - ETA: 1:54:19 - loss: 0.0018 - accuracy: 0.997 - ETA: 1:54:12 - loss: 0.0018 - accuracy: 0.997 - ETA: 1:54:03 - loss: 0.0018 - accuracy: 0.997 - ETA: 1:53:56 - loss: 0.0018 - accuracy: 0.997 - ETA: 1:53:48 - loss: 0.0018 - accuracy: 0.997 - ETA: 1:53:43 - loss: 0.0018 - accuracy: 0.997 - ETA: 1:53:37 - loss: 0.0018 - accuracy: 0.997 - ETA: 1:53:30 - loss: 0.0018 - accuracy: 0.997 - ETA: 1:53:22 - loss: 0.0018 - accuracy: 0.997 - ETA: 1:53:13 - loss: 0.0018 - accuracy: 0.997 - ETA: 1:53:03 - loss: 0.0018 - accuracy: 0.997 - ETA: 1:52:53 - loss: 0.0018 - accuracy: 0.997 - ETA: 1:52:44 - loss: 0.0018 - accuracy: 0.997 - ETA: 1:52:34 - loss: 0.0018 - accuracy: 0.997 - ETA: 1:52:24 - loss: 0.0018 - accuracy: 0.997 - ETA: 1:52:14 - loss: 0.0018 - accuracy: 0.997 - ETA: 1:52:04 - loss: 0.0018 - accuracy: 0.997 - ETA: 1:51:54 - loss: 0.0018 - accuracy: 0.997 - ETA: 1:51:45 - loss: 0.0018 - accuracy: 0.997 - ETA: 1:51:35 - loss: 0.0018 - accuracy: 0.997 - ETA: 1:51:25 - loss: 0.0018 - accuracy: 0.997 - ETA: 1:51:15 - loss: 0.0018 - accuracy: 0.997 - ETA: 1:51:08 - loss: 0.0018 - accuracy: 0.997 - ETA: 1:51:00 - loss: 0.0019 - accuracy: 0.997 - ETA: 1:50:53 - loss: 0.0019 - accuracy: 0.997 - ETA: 1:50:47 - loss: 0.0019 - accuracy: 0.997 - ETA: 1:50:41 - loss: 0.0019 - accuracy: 0.997 - ETA: 1:50:33 - loss: 0.0019 - accuracy: 0.997 - ETA: 1:50:25 - loss: 0.0019 - accuracy: 0.997 - ETA: 1:50:17 - loss: 0.0019 - accuracy: 0.997 - ETA: 1:50:07 - loss: 0.0019 - accuracy: 0.997 - ETA: 1:49:58 - loss: 0.0018 - accuracy: 0.997 - ETA: 1:49:48 - loss: 0.0019 - accuracy: 0.997 - ETA: 1:49:38 - loss: 0.0019 - accuracy: 0.997 - ETA: 1:49:28 - loss: 0.0019 - accuracy: 0.997 - ETA: 1:49:19 - loss: 0.0019 - accuracy: 0.997 - ETA: 1:49:09 - loss: 0.0019 - accuracy: 0.997 - ETA: 1:48:59 - loss: 0.0019 - accuracy: 0.997 - ETA: 1:48:50 - loss: 0.0019 - accuracy: 0.997 - ETA: 1:48:40 - loss: 0.0019 - accuracy: 0.997 - ETA: 1:48:30 - loss: 0.0019 - accuracy: 0.997 - ETA: 1:48:20 - loss: 0.0018 - accuracy: 0.997 - ETA: 1:48:10 - loss: 0.0018 - accuracy: 0.997 - ETA: 1:48:00 - loss: 0.0019 - accuracy: 0.997 - ETA: 1:47:50 - loss: 0.0019 - accuracy: 0.997 - ETA: 1:47:41 - loss: 0.0019 - accuracy: 0.997 - ETA: 1:47:32 - loss: 0.0019 - accuracy: 0.997 - ETA: 1:47:23 - loss: 0.0019 - accuracy: 0.997 - ETA: 1:47:13 - loss: 0.0019 - accuracy: 0.997 - ETA: 1:47:04 - loss: 0.0019 - accuracy: 0.997 - ETA: 1:46:55 - loss: 0.0019 - accuracy: 0.997 - ETA: 1:46:46 - loss: 0.0019 - accuracy: 0.997 - ETA: 1:46:36 - loss: 0.0019 - accuracy: 0.997 - ETA: 1:46:26 - loss: 0.0019 - accuracy: 0.997 - ETA: 1:46:17 - loss: 0.0018 - accuracy: 0.997 - ETA: 1:46:07 - loss: 0.0018 - accuracy: 0.997 - ETA: 1:45:57 - loss: 0.0019 - accuracy: 0.997 - ETA: 1:45:47 - loss: 0.0018 - accuracy: 0.997 - ETA: 1:45:38 - loss: 0.0018 - accuracy: 0.997 - ETA: 1:45:28 - loss: 0.0018 - accuracy: 0.997 - ETA: 1:45:19 - loss: 0.0018 - accuracy: 0.997 - ETA: 1:45:09 - loss: 0.0019 - accuracy: 0.997 - ETA: 1:44:59 - loss: 0.0019 - accuracy: 0.997 - ETA: 1:44:49 - loss: 0.0018 - accuracy: 0.997 - ETA: 1:44:40 - loss: 0.0018 - accuracy: 0.997 - ETA: 1:44:32 - loss: 0.0018 - accuracy: 0.997 - ETA: 1:44:22 - loss: 0.0018 - accuracy: 0.997 - ETA: 1:44:13 - loss: 0.0019 - accuracy: 0.997 - ETA: 1:44:04 - loss: 0.0019 - accuracy: 0.997 - ETA: 1:43:54 - loss: 0.0019 - accuracy: 0.997 - ETA: 1:43:44 - loss: 0.0019 - accuracy: 0.997 - ETA: 1:43:34 - loss: 0.0019 - accuracy: 0.997 - ETA: 1:43:25 - loss: 0.0019 - accuracy: 0.997 - ETA: 1:43:16 - loss: 0.0019 - accuracy: 0.997 - ETA: 1:43:06 - loss: 0.0018 - accuracy: 0.997 - ETA: 1:42:56 - loss: 0.0019 - accuracy: 0.997 - ETA: 1:42:46 - loss: 0.0018 - accuracy: 0.997 - ETA: 1:42:36 - loss: 0.0019 - accuracy: 0.997 - ETA: 1:42:26 - loss: 0.0019 - accuracy: 0.997 - ETA: 1:42:17 - loss: 0.0019 - accuracy: 0.997 - ETA: 1:42:07 - loss: 0.0019 - accuracy: 0.997 - ETA: 1:41:57 - loss: 0.0019 - accuracy: 0.997 - ETA: 1:41:47 - loss: 0.0019 - accuracy: 0.997 - ETA: 1:41:37 - loss: 0.0019 - accuracy: 0.997 - ETA: 1:41:27 - loss: 0.0018 - accuracy: 0.997 - ETA: 1:41:18 - loss: 0.0018 - accuracy: 0.997 - ETA: 1:41:09 - loss: 0.0018 - accuracy: 0.997 - ETA: 1:40:59 - loss: 0.0019 - accuracy: 0.997 - ETA: 1:40:49 - loss: 0.0019 - accuracy: 0.997 - ETA: 1:40:40 - loss: 0.0019 - accuracy: 0.997 - ETA: 1:40:30 - loss: 0.0019 - accuracy: 0.997 - ETA: 1:40:19 - loss: 0.0019 - accuracy: 0.997 - ETA: 1:40:10 - loss: 0.0019 - accuracy: 0.997 - ETA: 1:40:01 - loss: 0.0019 - accuracy: 0.997 - ETA: 1:39:51 - loss: 0.0019 - accuracy: 0.997 - ETA: 1:39:41 - loss: 0.0019 - accuracy: 0.997 - ETA: 1:39:31 - loss: 0.0019 - accuracy: 0.997 - ETA: 1:39:21 - loss: 0.0019 - accuracy: 0.997 - ETA: 1:39:12 - loss: 0.0019 - accuracy: 0.997 - ETA: 1:39:03 - loss: 0.0019 - accuracy: 0.997 - ETA: 1:38:54 - loss: 0.0019 - accuracy: 0.9970"
     ]
    },
    {
     "name": "stdout",
     "output_type": "stream",
     "text": [
      " 8112/15457 [==============>...............] - ETA: 1:38:45 - loss: 0.0019 - accuracy: 0.997 - ETA: 1:38:35 - loss: 0.0019 - accuracy: 0.997 - ETA: 1:38:27 - loss: 0.0019 - accuracy: 0.997 - ETA: 1:38:17 - loss: 0.0019 - accuracy: 0.997 - ETA: 1:38:08 - loss: 0.0019 - accuracy: 0.997 - ETA: 1:37:59 - loss: 0.0019 - accuracy: 0.997 - ETA: 1:37:49 - loss: 0.0019 - accuracy: 0.997 - ETA: 1:37:39 - loss: 0.0019 - accuracy: 0.997 - ETA: 1:37:30 - loss: 0.0019 - accuracy: 0.997 - ETA: 1:37:20 - loss: 0.0019 - accuracy: 0.997 - ETA: 1:37:11 - loss: 0.0019 - accuracy: 0.997 - ETA: 1:37:02 - loss: 0.0019 - accuracy: 0.997 - ETA: 1:36:53 - loss: 0.0019 - accuracy: 0.997 - ETA: 1:36:43 - loss: 0.0019 - accuracy: 0.997 - ETA: 1:36:34 - loss: 0.0019 - accuracy: 0.997 - ETA: 1:36:25 - loss: 0.0019 - accuracy: 0.997 - ETA: 1:36:15 - loss: 0.0019 - accuracy: 0.997 - ETA: 1:36:05 - loss: 0.0019 - accuracy: 0.997 - ETA: 1:35:56 - loss: 0.0019 - accuracy: 0.997 - ETA: 1:35:46 - loss: 0.0019 - accuracy: 0.996 - ETA: 1:35:36 - loss: 0.0019 - accuracy: 0.996 - ETA: 1:35:26 - loss: 0.0019 - accuracy: 0.997 - ETA: 1:35:16 - loss: 0.0019 - accuracy: 0.997 - ETA: 1:35:07 - loss: 0.0019 - accuracy: 0.997 - ETA: 1:34:58 - loss: 0.0019 - accuracy: 0.997 - ETA: 1:34:49 - loss: 0.0019 - accuracy: 0.997 - ETA: 1:34:39 - loss: 0.0018 - accuracy: 0.997 - ETA: 1:34:30 - loss: 0.0018 - accuracy: 0.997 - ETA: 1:34:21 - loss: 0.0018 - accuracy: 0.997 - ETA: 1:34:11 - loss: 0.0018 - accuracy: 0.997 - ETA: 1:34:02 - loss: 0.0018 - accuracy: 0.997 - ETA: 1:33:53 - loss: 0.0019 - accuracy: 0.997 - ETA: 1:33:43 - loss: 0.0019 - accuracy: 0.997 - ETA: 1:33:34 - loss: 0.0019 - accuracy: 0.996 - ETA: 1:33:24 - loss: 0.0019 - accuracy: 0.996 - ETA: 1:33:14 - loss: 0.0019 - accuracy: 0.997 - ETA: 1:33:04 - loss: 0.0019 - accuracy: 0.997 - ETA: 1:32:54 - loss: 0.0019 - accuracy: 0.997 - ETA: 1:32:46 - loss: 0.0019 - accuracy: 0.996 - ETA: 1:32:36 - loss: 0.0019 - accuracy: 0.996 - ETA: 1:32:26 - loss: 0.0019 - accuracy: 0.996 - ETA: 1:32:16 - loss: 0.0019 - accuracy: 0.996 - ETA: 1:32:07 - loss: 0.0019 - accuracy: 0.996 - ETA: 1:31:57 - loss: 0.0019 - accuracy: 0.996 - ETA: 1:31:47 - loss: 0.0019 - accuracy: 0.996 - ETA: 1:31:38 - loss: 0.0019 - accuracy: 0.996 - ETA: 1:31:28 - loss: 0.0019 - accuracy: 0.996 - ETA: 1:31:18 - loss: 0.0019 - accuracy: 0.996 - ETA: 1:31:08 - loss: 0.0019 - accuracy: 0.996 - ETA: 1:30:59 - loss: 0.0019 - accuracy: 0.996 - ETA: 1:30:49 - loss: 0.0018 - accuracy: 0.996 - ETA: 1:30:40 - loss: 0.0018 - accuracy: 0.996 - ETA: 1:30:31 - loss: 0.0018 - accuracy: 0.996 - ETA: 1:30:21 - loss: 0.0018 - accuracy: 0.996 - ETA: 1:30:11 - loss: 0.0018 - accuracy: 0.996 - ETA: 1:30:01 - loss: 0.0019 - accuracy: 0.996 - ETA: 1:29:52 - loss: 0.0018 - accuracy: 0.996 - ETA: 1:29:42 - loss: 0.0019 - accuracy: 0.996 - ETA: 1:29:32 - loss: 0.0019 - accuracy: 0.996 - ETA: 1:29:22 - loss: 0.0018 - accuracy: 0.996 - ETA: 1:29:13 - loss: 0.0018 - accuracy: 0.996 - ETA: 1:29:03 - loss: 0.0018 - accuracy: 0.996 - ETA: 1:28:53 - loss: 0.0018 - accuracy: 0.996 - ETA: 1:28:44 - loss: 0.0018 - accuracy: 0.996 - ETA: 1:28:35 - loss: 0.0018 - accuracy: 0.996 - ETA: 1:28:26 - loss: 0.0018 - accuracy: 0.996 - ETA: 1:28:16 - loss: 0.0018 - accuracy: 0.996 - ETA: 1:28:06 - loss: 0.0018 - accuracy: 0.996 - ETA: 1:27:56 - loss: 0.0018 - accuracy: 0.996 - ETA: 1:27:47 - loss: 0.0018 - accuracy: 0.996 - ETA: 1:27:38 - loss: 0.0018 - accuracy: 0.996 - ETA: 1:27:29 - loss: 0.0018 - accuracy: 0.996 - ETA: 1:27:21 - loss: 0.0019 - accuracy: 0.996 - ETA: 1:27:11 - loss: 0.0018 - accuracy: 0.996 - ETA: 1:27:02 - loss: 0.0019 - accuracy: 0.996 - ETA: 1:26:53 - loss: 0.0019 - accuracy: 0.996 - ETA: 1:26:43 - loss: 0.0019 - accuracy: 0.996 - ETA: 1:26:34 - loss: 0.0019 - accuracy: 0.996 - ETA: 1:26:25 - loss: 0.0019 - accuracy: 0.996 - ETA: 1:26:16 - loss: 0.0018 - accuracy: 0.996 - ETA: 1:26:06 - loss: 0.0019 - accuracy: 0.996 - ETA: 1:25:56 - loss: 0.0019 - accuracy: 0.996 - ETA: 1:25:47 - loss: 0.0019 - accuracy: 0.996 - ETA: 1:25:37 - loss: 0.0019 - accuracy: 0.996 - ETA: 1:25:27 - loss: 0.0019 - accuracy: 0.996 - ETA: 1:25:18 - loss: 0.0019 - accuracy: 0.996 - ETA: 1:25:08 - loss: 0.0019 - accuracy: 0.996 - ETA: 1:24:59 - loss: 0.0019 - accuracy: 0.996 - ETA: 1:24:49 - loss: 0.0019 - accuracy: 0.996 - ETA: 1:24:40 - loss: 0.0018 - accuracy: 0.997 - ETA: 1:24:30 - loss: 0.0018 - accuracy: 0.997 - ETA: 1:24:21 - loss: 0.0018 - accuracy: 0.997 - ETA: 1:24:12 - loss: 0.0018 - accuracy: 0.997 - ETA: 1:24:03 - loss: 0.0018 - accuracy: 0.997 - ETA: 1:23:53 - loss: 0.0018 - accuracy: 0.997 - ETA: 1:23:44 - loss: 0.0018 - accuracy: 0.997 - ETA: 1:23:34 - loss: 0.0018 - accuracy: 0.997 - ETA: 1:23:24 - loss: 0.0018 - accuracy: 0.997 - ETA: 1:23:15 - loss: 0.0018 - accuracy: 0.997 - ETA: 1:23:06 - loss: 0.0018 - accuracy: 0.997 - ETA: 1:22:56 - loss: 0.0018 - accuracy: 0.997 - ETA: 1:22:47 - loss: 0.0018 - accuracy: 0.997 - ETA: 1:22:37 - loss: 0.0018 - accuracy: 0.997 - ETA: 1:22:28 - loss: 0.0018 - accuracy: 0.997 - ETA: 1:22:18 - loss: 0.0018 - accuracy: 0.997 - ETA: 1:22:08 - loss: 0.0019 - accuracy: 0.996 - ETA: 1:21:59 - loss: 0.0018 - accuracy: 0.996 - ETA: 1:21:49 - loss: 0.0018 - accuracy: 0.997 - ETA: 1:21:39 - loss: 0.0018 - accuracy: 0.997 - ETA: 1:21:30 - loss: 0.0018 - accuracy: 0.997 - ETA: 1:21:20 - loss: 0.0018 - accuracy: 0.997 - ETA: 1:21:10 - loss: 0.0018 - accuracy: 0.997 - ETA: 1:21:01 - loss: 0.0018 - accuracy: 0.997 - ETA: 1:20:51 - loss: 0.0018 - accuracy: 0.997 - ETA: 1:20:41 - loss: 0.0018 - accuracy: 0.997 - ETA: 1:20:32 - loss: 0.0018 - accuracy: 0.997 - ETA: 1:20:22 - loss: 0.0018 - accuracy: 0.997 - ETA: 1:20:13 - loss: 0.0019 - accuracy: 0.997 - ETA: 1:20:03 - loss: 0.0019 - accuracy: 0.996 - ETA: 1:19:53 - loss: 0.0019 - accuracy: 0.996 - ETA: 1:19:44 - loss: 0.0019 - accuracy: 0.996 - ETA: 1:19:34 - loss: 0.0019 - accuracy: 0.996 - ETA: 1:19:25 - loss: 0.0019 - accuracy: 0.996 - ETA: 1:19:15 - loss: 0.0019 - accuracy: 0.996 - ETA: 1:19:06 - loss: 0.0019 - accuracy: 0.996 - ETA: 1:18:56 - loss: 0.0019 - accuracy: 0.996 - ETA: 1:18:47 - loss: 0.0019 - accuracy: 0.996 - ETA: 1:18:38 - loss: 0.0019 - accuracy: 0.996 - ETA: 1:18:28 - loss: 0.0019 - accuracy: 0.996 - ETA: 1:18:19 - loss: 0.0019 - accuracy: 0.996 - ETA: 1:18:09 - loss: 0.0019 - accuracy: 0.996 - ETA: 1:18:00 - loss: 0.0019 - accuracy: 0.996 - ETA: 1:17:50 - loss: 0.0019 - accuracy: 0.996 - ETA: 1:17:41 - loss: 0.0019 - accuracy: 0.996 - ETA: 1:17:31 - loss: 0.0019 - accuracy: 0.996 - ETA: 1:17:22 - loss: 0.0019 - accuracy: 0.996 - ETA: 1:17:12 - loss: 0.0019 - accuracy: 0.996 - ETA: 1:17:03 - loss: 0.0019 - accuracy: 0.996 - ETA: 1:16:53 - loss: 0.0019 - accuracy: 0.996 - ETA: 1:16:44 - loss: 0.0019 - accuracy: 0.996 - ETA: 1:16:35 - loss: 0.0019 - accuracy: 0.996 - ETA: 1:16:26 - loss: 0.0019 - accuracy: 0.996 - ETA: 1:16:17 - loss: 0.0019 - accuracy: 0.996 - ETA: 1:16:07 - loss: 0.0019 - accuracy: 0.996 - ETA: 1:15:58 - loss: 0.0019 - accuracy: 0.996 - ETA: 1:15:49 - loss: 0.0019 - accuracy: 0.996 - ETA: 1:15:39 - loss: 0.0019 - accuracy: 0.996 - ETA: 1:15:30 - loss: 0.0019 - accuracy: 0.996 - ETA: 1:15:20 - loss: 0.0019 - accuracy: 0.996 - ETA: 1:15:10 - loss: 0.0019 - accuracy: 0.996 - ETA: 1:15:01 - loss: 0.0019 - accuracy: 0.996 - ETA: 1:14:52 - loss: 0.0019 - accuracy: 0.996 - ETA: 1:14:42 - loss: 0.0019 - accuracy: 0.996 - ETA: 1:14:33 - loss: 0.0019 - accuracy: 0.996 - ETA: 1:14:24 - loss: 0.0019 - accuracy: 0.996 - ETA: 1:14:14 - loss: 0.0019 - accuracy: 0.996 - ETA: 1:14:05 - loss: 0.0019 - accuracy: 0.996 - ETA: 1:13:56 - loss: 0.0019 - accuracy: 0.996 - ETA: 1:13:46 - loss: 0.0019 - accuracy: 0.996 - ETA: 1:13:37 - loss: 0.0019 - accuracy: 0.996 - ETA: 1:13:28 - loss: 0.0019 - accuracy: 0.996 - ETA: 1:13:18 - loss: 0.0019 - accuracy: 0.996 - ETA: 1:13:08 - loss: 0.0019 - accuracy: 0.996 - ETA: 1:12:59 - loss: 0.0019 - accuracy: 0.996 - ETA: 1:12:49 - loss: 0.0019 - accuracy: 0.996 - ETA: 1:12:40 - loss: 0.0019 - accuracy: 0.996 - ETA: 1:12:31 - loss: 0.0019 - accuracy: 0.996 - ETA: 1:12:21 - loss: 0.0019 - accuracy: 0.996 - ETA: 1:12:11 - loss: 0.0019 - accuracy: 0.996 - ETA: 1:12:02 - loss: 0.0019 - accuracy: 0.9969"
     ]
    },
    {
     "name": "stdout",
     "output_type": "stream",
     "text": [
      "10896/15457 [====================>.........] - ETA: 1:11:52 - loss: 0.0019 - accuracy: 0.996 - ETA: 1:11:43 - loss: 0.0019 - accuracy: 0.996 - ETA: 1:11:33 - loss: 0.0019 - accuracy: 0.996 - ETA: 1:11:24 - loss: 0.0019 - accuracy: 0.996 - ETA: 1:11:14 - loss: 0.0019 - accuracy: 0.996 - ETA: 1:11:05 - loss: 0.0019 - accuracy: 0.996 - ETA: 1:10:55 - loss: 0.0019 - accuracy: 0.996 - ETA: 1:10:45 - loss: 0.0019 - accuracy: 0.996 - ETA: 1:10:36 - loss: 0.0019 - accuracy: 0.996 - ETA: 1:10:26 - loss: 0.0019 - accuracy: 0.996 - ETA: 1:10:17 - loss: 0.0019 - accuracy: 0.996 - ETA: 1:10:08 - loss: 0.0019 - accuracy: 0.996 - ETA: 1:09:58 - loss: 0.0019 - accuracy: 0.996 - ETA: 1:09:49 - loss: 0.0019 - accuracy: 0.996 - ETA: 1:09:39 - loss: 0.0019 - accuracy: 0.996 - ETA: 1:09:30 - loss: 0.0019 - accuracy: 0.996 - ETA: 1:09:20 - loss: 0.0019 - accuracy: 0.996 - ETA: 1:09:11 - loss: 0.0019 - accuracy: 0.996 - ETA: 1:09:01 - loss: 0.0019 - accuracy: 0.996 - ETA: 1:08:52 - loss: 0.0019 - accuracy: 0.996 - ETA: 1:08:43 - loss: 0.0019 - accuracy: 0.996 - ETA: 1:08:33 - loss: 0.0019 - accuracy: 0.996 - ETA: 1:08:24 - loss: 0.0019 - accuracy: 0.996 - ETA: 1:08:14 - loss: 0.0019 - accuracy: 0.996 - ETA: 1:08:05 - loss: 0.0019 - accuracy: 0.996 - ETA: 1:07:56 - loss: 0.0019 - accuracy: 0.996 - ETA: 1:07:46 - loss: 0.0019 - accuracy: 0.996 - ETA: 1:07:36 - loss: 0.0019 - accuracy: 0.996 - ETA: 1:07:27 - loss: 0.0019 - accuracy: 0.996 - ETA: 1:07:18 - loss: 0.0019 - accuracy: 0.996 - ETA: 1:07:08 - loss: 0.0019 - accuracy: 0.996 - ETA: 1:06:59 - loss: 0.0019 - accuracy: 0.996 - ETA: 1:06:49 - loss: 0.0019 - accuracy: 0.996 - ETA: 1:06:40 - loss: 0.0019 - accuracy: 0.996 - ETA: 1:06:31 - loss: 0.0019 - accuracy: 0.996 - ETA: 1:06:21 - loss: 0.0019 - accuracy: 0.996 - ETA: 1:06:12 - loss: 0.0019 - accuracy: 0.996 - ETA: 1:06:03 - loss: 0.0019 - accuracy: 0.996 - ETA: 1:05:53 - loss: 0.0019 - accuracy: 0.996 - ETA: 1:05:43 - loss: 0.0019 - accuracy: 0.996 - ETA: 1:05:34 - loss: 0.0019 - accuracy: 0.996 - ETA: 1:05:24 - loss: 0.0019 - accuracy: 0.996 - ETA: 1:05:15 - loss: 0.0019 - accuracy: 0.996 - ETA: 1:05:05 - loss: 0.0019 - accuracy: 0.996 - ETA: 1:04:56 - loss: 0.0019 - accuracy: 0.996 - ETA: 1:04:47 - loss: 0.0019 - accuracy: 0.996 - ETA: 1:04:37 - loss: 0.0019 - accuracy: 0.996 - ETA: 1:04:28 - loss: 0.0019 - accuracy: 0.996 - ETA: 1:04:18 - loss: 0.0019 - accuracy: 0.996 - ETA: 1:04:09 - loss: 0.0019 - accuracy: 0.996 - ETA: 1:04:00 - loss: 0.0019 - accuracy: 0.996 - ETA: 1:03:50 - loss: 0.0019 - accuracy: 0.996 - ETA: 1:03:41 - loss: 0.0019 - accuracy: 0.996 - ETA: 1:03:32 - loss: 0.0019 - accuracy: 0.996 - ETA: 1:03:22 - loss: 0.0019 - accuracy: 0.996 - ETA: 1:03:13 - loss: 0.0019 - accuracy: 0.996 - ETA: 1:03:03 - loss: 0.0019 - accuracy: 0.996 - ETA: 1:02:54 - loss: 0.0019 - accuracy: 0.996 - ETA: 1:02:44 - loss: 0.0019 - accuracy: 0.996 - ETA: 1:02:35 - loss: 0.0019 - accuracy: 0.996 - ETA: 1:02:25 - loss: 0.0019 - accuracy: 0.996 - ETA: 1:02:16 - loss: 0.0019 - accuracy: 0.996 - ETA: 1:02:06 - loss: 0.0019 - accuracy: 0.996 - ETA: 1:01:57 - loss: 0.0019 - accuracy: 0.996 - ETA: 1:01:48 - loss: 0.0019 - accuracy: 0.996 - ETA: 1:01:38 - loss: 0.0019 - accuracy: 0.996 - ETA: 1:01:29 - loss: 0.0019 - accuracy: 0.996 - ETA: 1:01:19 - loss: 0.0019 - accuracy: 0.996 - ETA: 1:01:10 - loss: 0.0019 - accuracy: 0.996 - ETA: 1:01:00 - loss: 0.0019 - accuracy: 0.996 - ETA: 1:00:51 - loss: 0.0019 - accuracy: 0.996 - ETA: 1:00:41 - loss: 0.0019 - accuracy: 0.996 - ETA: 1:00:32 - loss: 0.0019 - accuracy: 0.996 - ETA: 1:00:22 - loss: 0.0019 - accuracy: 0.996 - ETA: 1:00:13 - loss: 0.0019 - accuracy: 0.996 - ETA: 1:00:03 - loss: 0.0019 - accuracy: 0.996 - ETA: 59:54 - loss: 0.0019 - accuracy: 0.9968  - ETA: 59:44 - loss: 0.0019 - accuracy: 0.996 - ETA: 59:35 - loss: 0.0019 - accuracy: 0.996 - ETA: 59:25 - loss: 0.0019 - accuracy: 0.996 - ETA: 59:16 - loss: 0.0019 - accuracy: 0.996 - ETA: 59:06 - loss: 0.0019 - accuracy: 0.996 - ETA: 58:57 - loss: 0.0019 - accuracy: 0.996 - ETA: 58:47 - loss: 0.0019 - accuracy: 0.996 - ETA: 58:38 - loss: 0.0019 - accuracy: 0.996 - ETA: 58:29 - loss: 0.0019 - accuracy: 0.996 - ETA: 58:19 - loss: 0.0019 - accuracy: 0.996 - ETA: 58:10 - loss: 0.0019 - accuracy: 0.996 - ETA: 58:00 - loss: 0.0019 - accuracy: 0.996 - ETA: 57:51 - loss: 0.0019 - accuracy: 0.996 - ETA: 57:41 - loss: 0.0019 - accuracy: 0.996 - ETA: 57:32 - loss: 0.0019 - accuracy: 0.996 - ETA: 57:22 - loss: 0.0019 - accuracy: 0.996 - ETA: 57:13 - loss: 0.0019 - accuracy: 0.996 - ETA: 57:03 - loss: 0.0019 - accuracy: 0.996 - ETA: 56:54 - loss: 0.0019 - accuracy: 0.996 - ETA: 56:44 - loss: 0.0019 - accuracy: 0.996 - ETA: 56:35 - loss: 0.0019 - accuracy: 0.996 - ETA: 56:26 - loss: 0.0019 - accuracy: 0.996 - ETA: 56:17 - loss: 0.0019 - accuracy: 0.996 - ETA: 56:07 - loss: 0.0019 - accuracy: 0.996 - ETA: 55:58 - loss: 0.0019 - accuracy: 0.996 - ETA: 55:48 - loss: 0.0019 - accuracy: 0.996 - ETA: 55:39 - loss: 0.0019 - accuracy: 0.996 - ETA: 55:29 - loss: 0.0019 - accuracy: 0.996 - ETA: 55:20 - loss: 0.0019 - accuracy: 0.996 - ETA: 55:10 - loss: 0.0019 - accuracy: 0.996 - ETA: 55:01 - loss: 0.0019 - accuracy: 0.996 - ETA: 54:51 - loss: 0.0019 - accuracy: 0.996 - ETA: 54:42 - loss: 0.0019 - accuracy: 0.996 - ETA: 54:33 - loss: 0.0019 - accuracy: 0.996 - ETA: 54:23 - loss: 0.0019 - accuracy: 0.996 - ETA: 54:14 - loss: 0.0019 - accuracy: 0.996 - ETA: 54:05 - loss: 0.0019 - accuracy: 0.996 - ETA: 53:56 - loss: 0.0019 - accuracy: 0.996 - ETA: 53:47 - loss: 0.0019 - accuracy: 0.996 - ETA: 53:37 - loss: 0.0019 - accuracy: 0.996 - ETA: 53:28 - loss: 0.0019 - accuracy: 0.996 - ETA: 53:19 - loss: 0.0019 - accuracy: 0.996 - ETA: 53:09 - loss: 0.0019 - accuracy: 0.996 - ETA: 53:00 - loss: 0.0019 - accuracy: 0.996 - ETA: 52:50 - loss: 0.0019 - accuracy: 0.996 - ETA: 52:41 - loss: 0.0019 - accuracy: 0.996 - ETA: 52:32 - loss: 0.0019 - accuracy: 0.996 - ETA: 52:23 - loss: 0.0019 - accuracy: 0.996 - ETA: 52:14 - loss: 0.0019 - accuracy: 0.996 - ETA: 52:05 - loss: 0.0019 - accuracy: 0.996 - ETA: 51:55 - loss: 0.0019 - accuracy: 0.996 - ETA: 51:46 - loss: 0.0019 - accuracy: 0.996 - ETA: 51:37 - loss: 0.0019 - accuracy: 0.996 - ETA: 51:28 - loss: 0.0019 - accuracy: 0.996 - ETA: 51:18 - loss: 0.0019 - accuracy: 0.996 - ETA: 51:09 - loss: 0.0019 - accuracy: 0.996 - ETA: 50:59 - loss: 0.0019 - accuracy: 0.996 - ETA: 50:50 - loss: 0.0019 - accuracy: 0.996 - ETA: 50:40 - loss: 0.0019 - accuracy: 0.996 - ETA: 50:31 - loss: 0.0019 - accuracy: 0.996 - ETA: 50:21 - loss: 0.0019 - accuracy: 0.996 - ETA: 50:12 - loss: 0.0019 - accuracy: 0.996 - ETA: 50:03 - loss: 0.0019 - accuracy: 0.996 - ETA: 49:53 - loss: 0.0019 - accuracy: 0.996 - ETA: 49:44 - loss: 0.0019 - accuracy: 0.996 - ETA: 49:35 - loss: 0.0019 - accuracy: 0.996 - ETA: 49:26 - loss: 0.0019 - accuracy: 0.996 - ETA: 49:17 - loss: 0.0019 - accuracy: 0.996 - ETA: 49:08 - loss: 0.0019 - accuracy: 0.996 - ETA: 48:59 - loss: 0.0019 - accuracy: 0.996 - ETA: 48:50 - loss: 0.0019 - accuracy: 0.996 - ETA: 48:41 - loss: 0.0019 - accuracy: 0.996 - ETA: 48:32 - loss: 0.0019 - accuracy: 0.996 - ETA: 48:23 - loss: 0.0019 - accuracy: 0.996 - ETA: 48:13 - loss: 0.0019 - accuracy: 0.996 - ETA: 48:04 - loss: 0.0019 - accuracy: 0.996 - ETA: 47:54 - loss: 0.0019 - accuracy: 0.996 - ETA: 47:45 - loss: 0.0019 - accuracy: 0.996 - ETA: 47:35 - loss: 0.0019 - accuracy: 0.996 - ETA: 47:26 - loss: 0.0019 - accuracy: 0.996 - ETA: 47:16 - loss: 0.0019 - accuracy: 0.996 - ETA: 47:07 - loss: 0.0019 - accuracy: 0.996 - ETA: 46:58 - loss: 0.0019 - accuracy: 0.996 - ETA: 46:48 - loss: 0.0019 - accuracy: 0.996 - ETA: 46:39 - loss: 0.0020 - accuracy: 0.996 - ETA: 46:30 - loss: 0.0020 - accuracy: 0.996 - ETA: 46:20 - loss: 0.0019 - accuracy: 0.996 - ETA: 46:11 - loss: 0.0019 - accuracy: 0.996 - ETA: 46:01 - loss: 0.0019 - accuracy: 0.996 - ETA: 45:52 - loss: 0.0019 - accuracy: 0.996 - ETA: 45:42 - loss: 0.0020 - accuracy: 0.996 - ETA: 45:33 - loss: 0.0020 - accuracy: 0.996 - ETA: 45:23 - loss: 0.0020 - accuracy: 0.996 - ETA: 45:14 - loss: 0.0020 - accuracy: 0.996 - ETA: 45:04 - loss: 0.0020 - accuracy: 0.996 - ETA: 44:55 - loss: 0.0020 - accuracy: 0.996 - ETA: 44:46 - loss: 0.0020 - accuracy: 0.9966"
     ]
    },
    {
     "name": "stdout",
     "output_type": "stream",
     "text": [
      "13744/15457 [=========================>....] - ETA: 44:36 - loss: 0.0020 - accuracy: 0.996 - ETA: 44:27 - loss: 0.0020 - accuracy: 0.996 - ETA: 44:18 - loss: 0.0020 - accuracy: 0.996 - ETA: 44:08 - loss: 0.0020 - accuracy: 0.996 - ETA: 43:59 - loss: 0.0020 - accuracy: 0.996 - ETA: 43:50 - loss: 0.0020 - accuracy: 0.996 - ETA: 43:40 - loss: 0.0020 - accuracy: 0.996 - ETA: 43:31 - loss: 0.0020 - accuracy: 0.996 - ETA: 43:21 - loss: 0.0020 - accuracy: 0.996 - ETA: 43:12 - loss: 0.0020 - accuracy: 0.996 - ETA: 43:03 - loss: 0.0020 - accuracy: 0.996 - ETA: 42:53 - loss: 0.0020 - accuracy: 0.996 - ETA: 42:44 - loss: 0.0020 - accuracy: 0.996 - ETA: 42:34 - loss: 0.0020 - accuracy: 0.996 - ETA: 42:25 - loss: 0.0020 - accuracy: 0.996 - ETA: 42:15 - loss: 0.0020 - accuracy: 0.996 - ETA: 42:06 - loss: 0.0020 - accuracy: 0.996 - ETA: 41:56 - loss: 0.0020 - accuracy: 0.996 - ETA: 41:47 - loss: 0.0020 - accuracy: 0.996 - ETA: 41:37 - loss: 0.0020 - accuracy: 0.996 - ETA: 41:28 - loss: 0.0020 - accuracy: 0.996 - ETA: 41:18 - loss: 0.0020 - accuracy: 0.996 - ETA: 41:09 - loss: 0.0020 - accuracy: 0.996 - ETA: 40:59 - loss: 0.0020 - accuracy: 0.996 - ETA: 40:50 - loss: 0.0020 - accuracy: 0.996 - ETA: 40:40 - loss: 0.0020 - accuracy: 0.996 - ETA: 40:31 - loss: 0.0020 - accuracy: 0.996 - ETA: 40:22 - loss: 0.0020 - accuracy: 0.996 - ETA: 40:12 - loss: 0.0020 - accuracy: 0.996 - ETA: 40:03 - loss: 0.0020 - accuracy: 0.996 - ETA: 39:53 - loss: 0.0020 - accuracy: 0.996 - ETA: 39:44 - loss: 0.0020 - accuracy: 0.996 - ETA: 39:34 - loss: 0.0020 - accuracy: 0.996 - ETA: 39:25 - loss: 0.0020 - accuracy: 0.996 - ETA: 39:15 - loss: 0.0020 - accuracy: 0.996 - ETA: 39:06 - loss: 0.0020 - accuracy: 0.996 - ETA: 38:56 - loss: 0.0020 - accuracy: 0.996 - ETA: 38:47 - loss: 0.0020 - accuracy: 0.996 - ETA: 38:38 - loss: 0.0020 - accuracy: 0.996 - ETA: 38:28 - loss: 0.0020 - accuracy: 0.996 - ETA: 38:19 - loss: 0.0020 - accuracy: 0.996 - ETA: 38:10 - loss: 0.0020 - accuracy: 0.996 - ETA: 38:00 - loss: 0.0020 - accuracy: 0.996 - ETA: 37:51 - loss: 0.0020 - accuracy: 0.996 - ETA: 37:41 - loss: 0.0020 - accuracy: 0.996 - ETA: 37:32 - loss: 0.0020 - accuracy: 0.996 - ETA: 37:23 - loss: 0.0020 - accuracy: 0.996 - ETA: 37:13 - loss: 0.0020 - accuracy: 0.996 - ETA: 37:04 - loss: 0.0020 - accuracy: 0.996 - ETA: 36:55 - loss: 0.0020 - accuracy: 0.996 - ETA: 36:45 - loss: 0.0020 - accuracy: 0.996 - ETA: 36:36 - loss: 0.0020 - accuracy: 0.996 - ETA: 36:27 - loss: 0.0020 - accuracy: 0.996 - ETA: 36:17 - loss: 0.0020 - accuracy: 0.996 - ETA: 36:08 - loss: 0.0020 - accuracy: 0.996 - ETA: 35:58 - loss: 0.0020 - accuracy: 0.996 - ETA: 35:49 - loss: 0.0020 - accuracy: 0.996 - ETA: 35:39 - loss: 0.0020 - accuracy: 0.996 - ETA: 35:30 - loss: 0.0020 - accuracy: 0.996 - ETA: 35:21 - loss: 0.0020 - accuracy: 0.996 - ETA: 35:11 - loss: 0.0020 - accuracy: 0.996 - ETA: 35:02 - loss: 0.0020 - accuracy: 0.996 - ETA: 34:52 - loss: 0.0020 - accuracy: 0.996 - ETA: 34:43 - loss: 0.0020 - accuracy: 0.996 - ETA: 34:33 - loss: 0.0020 - accuracy: 0.996 - ETA: 34:24 - loss: 0.0020 - accuracy: 0.996 - ETA: 34:15 - loss: 0.0020 - accuracy: 0.996 - ETA: 34:05 - loss: 0.0020 - accuracy: 0.996 - ETA: 33:56 - loss: 0.0020 - accuracy: 0.996 - ETA: 33:46 - loss: 0.0020 - accuracy: 0.996 - ETA: 33:37 - loss: 0.0020 - accuracy: 0.996 - ETA: 33:28 - loss: 0.0020 - accuracy: 0.996 - ETA: 33:18 - loss: 0.0020 - accuracy: 0.996 - ETA: 33:09 - loss: 0.0020 - accuracy: 0.996 - ETA: 32:59 - loss: 0.0020 - accuracy: 0.996 - ETA: 32:50 - loss: 0.0020 - accuracy: 0.996 - ETA: 32:40 - loss: 0.0020 - accuracy: 0.996 - ETA: 32:31 - loss: 0.0020 - accuracy: 0.996 - ETA: 32:22 - loss: 0.0020 - accuracy: 0.996 - ETA: 32:12 - loss: 0.0020 - accuracy: 0.996 - ETA: 32:03 - loss: 0.0020 - accuracy: 0.996 - ETA: 31:53 - loss: 0.0020 - accuracy: 0.996 - ETA: 31:44 - loss: 0.0020 - accuracy: 0.996 - ETA: 31:34 - loss: 0.0020 - accuracy: 0.996 - ETA: 31:25 - loss: 0.0020 - accuracy: 0.996 - ETA: 31:15 - loss: 0.0020 - accuracy: 0.996 - ETA: 31:06 - loss: 0.0020 - accuracy: 0.996 - ETA: 30:56 - loss: 0.0020 - accuracy: 0.996 - ETA: 30:47 - loss: 0.0020 - accuracy: 0.996 - ETA: 30:38 - loss: 0.0020 - accuracy: 0.996 - ETA: 30:28 - loss: 0.0020 - accuracy: 0.996 - ETA: 30:19 - loss: 0.0020 - accuracy: 0.996 - ETA: 30:09 - loss: 0.0020 - accuracy: 0.996 - ETA: 30:00 - loss: 0.0020 - accuracy: 0.996 - ETA: 29:50 - loss: 0.0020 - accuracy: 0.996 - ETA: 29:41 - loss: 0.0020 - accuracy: 0.996 - ETA: 29:31 - loss: 0.0020 - accuracy: 0.996 - ETA: 29:22 - loss: 0.0020 - accuracy: 0.996 - ETA: 29:13 - loss: 0.0020 - accuracy: 0.996 - ETA: 29:03 - loss: 0.0020 - accuracy: 0.996 - ETA: 28:54 - loss: 0.0020 - accuracy: 0.996 - ETA: 28:44 - loss: 0.0020 - accuracy: 0.996 - ETA: 28:35 - loss: 0.0020 - accuracy: 0.996 - ETA: 28:25 - loss: 0.0020 - accuracy: 0.996 - ETA: 28:16 - loss: 0.0020 - accuracy: 0.996 - ETA: 28:07 - loss: 0.0020 - accuracy: 0.996 - ETA: 27:57 - loss: 0.0020 - accuracy: 0.996 - ETA: 27:48 - loss: 0.0020 - accuracy: 0.996 - ETA: 27:38 - loss: 0.0020 - accuracy: 0.996 - ETA: 27:29 - loss: 0.0020 - accuracy: 0.996 - ETA: 27:19 - loss: 0.0020 - accuracy: 0.996 - ETA: 27:10 - loss: 0.0020 - accuracy: 0.996 - ETA: 27:01 - loss: 0.0020 - accuracy: 0.996 - ETA: 26:51 - loss: 0.0020 - accuracy: 0.996 - ETA: 26:42 - loss: 0.0020 - accuracy: 0.996 - ETA: 26:32 - loss: 0.0020 - accuracy: 0.996 - ETA: 26:23 - loss: 0.0020 - accuracy: 0.996 - ETA: 26:14 - loss: 0.0020 - accuracy: 0.996 - ETA: 26:04 - loss: 0.0020 - accuracy: 0.996 - ETA: 25:55 - loss: 0.0020 - accuracy: 0.996 - ETA: 25:45 - loss: 0.0020 - accuracy: 0.996 - ETA: 25:36 - loss: 0.0020 - accuracy: 0.996 - ETA: 25:26 - loss: 0.0020 - accuracy: 0.996 - ETA: 25:17 - loss: 0.0020 - accuracy: 0.996 - ETA: 25:07 - loss: 0.0020 - accuracy: 0.996 - ETA: 24:58 - loss: 0.0020 - accuracy: 0.996 - ETA: 24:49 - loss: 0.0020 - accuracy: 0.996 - ETA: 24:39 - loss: 0.0020 - accuracy: 0.996 - ETA: 24:30 - loss: 0.0020 - accuracy: 0.996 - ETA: 24:20 - loss: 0.0020 - accuracy: 0.996 - ETA: 24:11 - loss: 0.0020 - accuracy: 0.996 - ETA: 24:02 - loss: 0.0020 - accuracy: 0.996 - ETA: 23:52 - loss: 0.0020 - accuracy: 0.996 - ETA: 23:43 - loss: 0.0020 - accuracy: 0.996 - ETA: 23:33 - loss: 0.0020 - accuracy: 0.996 - ETA: 23:24 - loss: 0.0020 - accuracy: 0.996 - ETA: 23:15 - loss: 0.0020 - accuracy: 0.996 - ETA: 23:05 - loss: 0.0020 - accuracy: 0.996 - ETA: 22:56 - loss: 0.0020 - accuracy: 0.996 - ETA: 22:46 - loss: 0.0020 - accuracy: 0.996 - ETA: 22:37 - loss: 0.0020 - accuracy: 0.996 - ETA: 22:27 - loss: 0.0020 - accuracy: 0.996 - ETA: 22:18 - loss: 0.0020 - accuracy: 0.996 - ETA: 22:08 - loss: 0.0020 - accuracy: 0.996 - ETA: 21:59 - loss: 0.0020 - accuracy: 0.996 - ETA: 21:50 - loss: 0.0020 - accuracy: 0.996 - ETA: 21:40 - loss: 0.0020 - accuracy: 0.996 - ETA: 21:31 - loss: 0.0020 - accuracy: 0.996 - ETA: 21:21 - loss: 0.0020 - accuracy: 0.996 - ETA: 21:12 - loss: 0.0020 - accuracy: 0.996 - ETA: 21:02 - loss: 0.0020 - accuracy: 0.996 - ETA: 20:53 - loss: 0.0020 - accuracy: 0.996 - ETA: 20:44 - loss: 0.0020 - accuracy: 0.996 - ETA: 20:34 - loss: 0.0020 - accuracy: 0.996 - ETA: 20:25 - loss: 0.0020 - accuracy: 0.996 - ETA: 20:15 - loss: 0.0020 - accuracy: 0.996 - ETA: 20:06 - loss: 0.0020 - accuracy: 0.996 - ETA: 19:56 - loss: 0.0020 - accuracy: 0.996 - ETA: 19:47 - loss: 0.0020 - accuracy: 0.996 - ETA: 19:38 - loss: 0.0020 - accuracy: 0.996 - ETA: 19:28 - loss: 0.0020 - accuracy: 0.996 - ETA: 19:19 - loss: 0.0020 - accuracy: 0.996 - ETA: 19:09 - loss: 0.0020 - accuracy: 0.996 - ETA: 19:00 - loss: 0.0020 - accuracy: 0.996 - ETA: 18:50 - loss: 0.0020 - accuracy: 0.996 - ETA: 18:41 - loss: 0.0020 - accuracy: 0.996 - ETA: 18:32 - loss: 0.0020 - accuracy: 0.996 - ETA: 18:22 - loss: 0.0020 - accuracy: 0.996 - ETA: 18:13 - loss: 0.0020 - accuracy: 0.996 - ETA: 18:03 - loss: 0.0020 - accuracy: 0.996 - ETA: 17:54 - loss: 0.0020 - accuracy: 0.996 - ETA: 17:45 - loss: 0.0020 - accuracy: 0.996 - ETA: 17:35 - loss: 0.0020 - accuracy: 0.996 - ETA: 17:26 - loss: 0.0020 - accuracy: 0.996 - ETA: 17:16 - loss: 0.0020 - accuracy: 0.996 - ETA: 17:07 - loss: 0.0020 - accuracy: 0.996 - ETA: 16:58 - loss: 0.0020 - accuracy: 0.996 - ETA: 16:48 - loss: 0.0020 - accuracy: 0.9965"
     ]
    },
    {
     "name": "stdout",
     "output_type": "stream",
     "text": [
      "15457/15457 [==============================] - ETA: 16:39 - loss: 0.0020 - accuracy: 0.996 - ETA: 16:29 - loss: 0.0020 - accuracy: 0.996 - ETA: 16:20 - loss: 0.0020 - accuracy: 0.996 - ETA: 16:11 - loss: 0.0020 - accuracy: 0.996 - ETA: 16:01 - loss: 0.0020 - accuracy: 0.996 - ETA: 15:52 - loss: 0.0020 - accuracy: 0.996 - ETA: 15:42 - loss: 0.0020 - accuracy: 0.996 - ETA: 15:33 - loss: 0.0020 - accuracy: 0.996 - ETA: 15:23 - loss: 0.0020 - accuracy: 0.996 - ETA: 15:14 - loss: 0.0020 - accuracy: 0.996 - ETA: 15:04 - loss: 0.0020 - accuracy: 0.996 - ETA: 14:55 - loss: 0.0020 - accuracy: 0.996 - ETA: 14:46 - loss: 0.0020 - accuracy: 0.996 - ETA: 14:36 - loss: 0.0020 - accuracy: 0.996 - ETA: 14:27 - loss: 0.0020 - accuracy: 0.996 - ETA: 14:17 - loss: 0.0020 - accuracy: 0.996 - ETA: 14:08 - loss: 0.0020 - accuracy: 0.996 - ETA: 13:59 - loss: 0.0020 - accuracy: 0.996 - ETA: 13:49 - loss: 0.0020 - accuracy: 0.996 - ETA: 13:40 - loss: 0.0020 - accuracy: 0.996 - ETA: 13:30 - loss: 0.0020 - accuracy: 0.996 - ETA: 13:21 - loss: 0.0020 - accuracy: 0.996 - ETA: 13:12 - loss: 0.0020 - accuracy: 0.996 - ETA: 13:02 - loss: 0.0020 - accuracy: 0.996 - ETA: 12:53 - loss: 0.0020 - accuracy: 0.996 - ETA: 12:43 - loss: 0.0020 - accuracy: 0.996 - ETA: 12:34 - loss: 0.0020 - accuracy: 0.996 - ETA: 12:24 - loss: 0.0020 - accuracy: 0.996 - ETA: 12:15 - loss: 0.0020 - accuracy: 0.996 - ETA: 12:06 - loss: 0.0020 - accuracy: 0.996 - ETA: 11:56 - loss: 0.0020 - accuracy: 0.996 - ETA: 11:47 - loss: 0.0020 - accuracy: 0.996 - ETA: 11:37 - loss: 0.0020 - accuracy: 0.996 - ETA: 11:28 - loss: 0.0020 - accuracy: 0.996 - ETA: 11:18 - loss: 0.0020 - accuracy: 0.996 - ETA: 11:09 - loss: 0.0020 - accuracy: 0.996 - ETA: 11:00 - loss: 0.0020 - accuracy: 0.996 - ETA: 10:50 - loss: 0.0020 - accuracy: 0.996 - ETA: 10:41 - loss: 0.0020 - accuracy: 0.996 - ETA: 10:31 - loss: 0.0020 - accuracy: 0.996 - ETA: 10:22 - loss: 0.0020 - accuracy: 0.996 - ETA: 10:12 - loss: 0.0020 - accuracy: 0.996 - ETA: 10:03 - loss: 0.0020 - accuracy: 0.996 - ETA: 9:54 - loss: 0.0020 - accuracy: 0.996 - ETA: 9:44 - loss: 0.0020 - accuracy: 0.99 - ETA: 9:35 - loss: 0.0020 - accuracy: 0.99 - ETA: 9:25 - loss: 0.0021 - accuracy: 0.99 - ETA: 9:16 - loss: 0.0021 - accuracy: 0.99 - ETA: 9:07 - loss: 0.0021 - accuracy: 0.99 - ETA: 8:57 - loss: 0.0021 - accuracy: 0.99 - ETA: 8:48 - loss: 0.0021 - accuracy: 0.99 - ETA: 8:38 - loss: 0.0021 - accuracy: 0.99 - ETA: 8:29 - loss: 0.0021 - accuracy: 0.99 - ETA: 8:19 - loss: 0.0021 - accuracy: 0.99 - ETA: 8:10 - loss: 0.0021 - accuracy: 0.99 - ETA: 8:01 - loss: 0.0021 - accuracy: 0.99 - ETA: 7:51 - loss: 0.0021 - accuracy: 0.99 - ETA: 7:42 - loss: 0.0021 - accuracy: 0.99 - ETA: 7:32 - loss: 0.0021 - accuracy: 0.99 - ETA: 7:23 - loss: 0.0021 - accuracy: 0.99 - ETA: 7:13 - loss: 0.0021 - accuracy: 0.99 - ETA: 7:04 - loss: 0.0021 - accuracy: 0.99 - ETA: 6:55 - loss: 0.0021 - accuracy: 0.99 - ETA: 6:45 - loss: 0.0021 - accuracy: 0.99 - ETA: 6:36 - loss: 0.0021 - accuracy: 0.99 - ETA: 6:26 - loss: 0.0021 - accuracy: 0.99 - ETA: 6:17 - loss: 0.0021 - accuracy: 0.99 - ETA: 6:08 - loss: 0.0021 - accuracy: 0.99 - ETA: 5:58 - loss: 0.0021 - accuracy: 0.99 - ETA: 5:49 - loss: 0.0021 - accuracy: 0.99 - ETA: 5:39 - loss: 0.0021 - accuracy: 0.99 - ETA: 5:30 - loss: 0.0021 - accuracy: 0.99 - ETA: 5:20 - loss: 0.0021 - accuracy: 0.99 - ETA: 5:11 - loss: 0.0021 - accuracy: 0.99 - ETA: 5:02 - loss: 0.0021 - accuracy: 0.99 - ETA: 4:52 - loss: 0.0021 - accuracy: 0.99 - ETA: 4:43 - loss: 0.0021 - accuracy: 0.99 - ETA: 4:33 - loss: 0.0021 - accuracy: 0.99 - ETA: 4:24 - loss: 0.0021 - accuracy: 0.99 - ETA: 4:14 - loss: 0.0021 - accuracy: 0.99 - ETA: 4:05 - loss: 0.0021 - accuracy: 0.99 - ETA: 3:56 - loss: 0.0021 - accuracy: 0.99 - ETA: 3:46 - loss: 0.0021 - accuracy: 0.99 - ETA: 3:37 - loss: 0.0021 - accuracy: 0.99 - ETA: 3:27 - loss: 0.0021 - accuracy: 0.99 - ETA: 3:18 - loss: 0.0021 - accuracy: 0.99 - ETA: 3:09 - loss: 0.0021 - accuracy: 0.99 - ETA: 2:59 - loss: 0.0021 - accuracy: 0.99 - ETA: 2:50 - loss: 0.0021 - accuracy: 0.99 - ETA: 2:40 - loss: 0.0021 - accuracy: 0.99 - ETA: 2:31 - loss: 0.0021 - accuracy: 0.99 - ETA: 2:21 - loss: 0.0021 - accuracy: 0.99 - ETA: 2:12 - loss: 0.0021 - accuracy: 0.99 - ETA: 2:03 - loss: 0.0021 - accuracy: 0.99 - ETA: 1:53 - loss: 0.0021 - accuracy: 0.99 - ETA: 1:44 - loss: 0.0021 - accuracy: 0.99 - ETA: 1:34 - loss: 0.0021 - accuracy: 0.99 - ETA: 1:25 - loss: 0.0021 - accuracy: 0.99 - ETA: 1:15 - loss: 0.0021 - accuracy: 0.99 - ETA: 1:06 - loss: 0.0021 - accuracy: 0.99 - ETA: 57s - loss: 0.0021 - accuracy: 0.9964 - ETA: 47s - loss: 0.0021 - accuracy: 0.996 - ETA: 38s - loss: 0.0021 - accuracy: 0.996 - ETA: 28s - loss: 0.0021 - accuracy: 0.996 - ETA: 19s - loss: 0.0021 - accuracy: 0.996 - ETA: 10s - loss: 0.0021 - accuracy: 0.996 - ETA: 0s - loss: 0.0021 - accuracy: 0.996 - 9716s 629ms/step - loss: 0.0021 - accuracy: 0.9964 - val_loss: 0.0088 - val_accuracy: 0.9868\n",
      "\n",
      "Epoch 00005: val_loss did not improve from 0.00730\n",
      "Epoch 6/30\n"
     ]
    },
    {
     "name": "stdout",
     "output_type": "stream",
     "text": [
      " 2672/15457 [====>.........................] - ETA: 2:32:21 - loss: 2.3941e-04 - accuracy: 1.000 - ETA: 2:31:44 - loss: 0.0016 - accuracy: 0.9954    - ETA: 2:32:21 - loss: 0.0012 - accuracy: 0.997 - ETA: 2:31:43 - loss: 0.0017 - accuracy: 0.996 - ETA: 2:31:55 - loss: 0.0015 - accuracy: 0.997 - ETA: 2:32:45 - loss: 0.0013 - accuracy: 0.997 - ETA: 2:33:20 - loss: 0.0012 - accuracy: 0.998 - ETA: 2:35:37 - loss: 0.0011 - accuracy: 0.998 - ETA: 2:37:53 - loss: 0.0013 - accuracy: 0.997 - ETA: 2:38:35 - loss: 0.0012 - accuracy: 0.997 - ETA: 2:39:10 - loss: 0.0013 - accuracy: 0.997 - ETA: 2:38:59 - loss: 0.0012 - accuracy: 0.997 - ETA: 2:38:48 - loss: 0.0012 - accuracy: 0.997 - ETA: 2:38:22 - loss: 0.0014 - accuracy: 0.997 - ETA: 2:37:31 - loss: 0.0013 - accuracy: 0.997 - ETA: 2:37:01 - loss: 0.0014 - accuracy: 0.997 - ETA: 2:36:37 - loss: 0.0014 - accuracy: 0.997 - ETA: 2:36:04 - loss: 0.0015 - accuracy: 0.997 - ETA: 2:35:44 - loss: 0.0015 - accuracy: 0.997 - ETA: 2:35:15 - loss: 0.0015 - accuracy: 0.997 - ETA: 2:34:48 - loss: 0.0014 - accuracy: 0.997 - ETA: 2:34:35 - loss: 0.0014 - accuracy: 0.997 - ETA: 2:34:03 - loss: 0.0013 - accuracy: 0.997 - ETA: 2:33:34 - loss: 0.0013 - accuracy: 0.997 - ETA: 2:33:03 - loss: 0.0013 - accuracy: 0.997 - ETA: 2:32:35 - loss: 0.0012 - accuracy: 0.997 - ETA: 2:32:10 - loss: 0.0012 - accuracy: 0.998 - ETA: 2:31:45 - loss: 0.0012 - accuracy: 0.998 - ETA: 2:31:36 - loss: 0.0012 - accuracy: 0.998 - ETA: 2:31:17 - loss: 0.0011 - accuracy: 0.998 - ETA: 2:31:10 - loss: 0.0011 - accuracy: 0.998 - ETA: 2:30:55 - loss: 0.0011 - accuracy: 0.998 - ETA: 2:30:40 - loss: 0.0011 - accuracy: 0.998 - ETA: 2:30:25 - loss: 0.0011 - accuracy: 0.998 - ETA: 2:30:22 - loss: 0.0011 - accuracy: 0.998 - ETA: 2:30:08 - loss: 0.0010 - accuracy: 0.998 - ETA: 2:30:00 - loss: 0.0010 - accuracy: 0.998 - ETA: 2:29:47 - loss: 0.0011 - accuracy: 0.998 - ETA: 2:29:29 - loss: 0.0010 - accuracy: 0.998 - ETA: 2:29:08 - loss: 0.0010 - accuracy: 0.998 - ETA: 2:28:50 - loss: 9.8126e-04 - accuracy: 0.998 - ETA: 2:28:47 - loss: 9.5886e-04 - accuracy: 0.998 - ETA: 2:28:28 - loss: 9.3696e-04 - accuracy: 0.998 - ETA: 2:28:10 - loss: 9.1635e-04 - accuracy: 0.998 - ETA: 2:27:53 - loss: 9.0011e-04 - accuracy: 0.998 - ETA: 2:27:41 - loss: 0.0010 - accuracy: 0.9984    - ETA: 2:27:26 - loss: 9.9090e-04 - accuracy: 0.998 - ETA: 2:27:08 - loss: 9.7132e-04 - accuracy: 0.998 - ETA: 2:26:59 - loss: 0.0011 - accuracy: 0.9984    - ETA: 2:26:46 - loss: 0.0010 - accuracy: 0.998 - ETA: 2:26:30 - loss: 0.0010 - accuracy: 0.998 - ETA: 2:26:17 - loss: 0.0010 - accuracy: 0.998 - ETA: 2:26:03 - loss: 9.8515e-04 - accuracy: 0.998 - ETA: 2:25:50 - loss: 0.0010 - accuracy: 0.9983    - ETA: 2:25:41 - loss: 0.0010 - accuracy: 0.998 - ETA: 2:25:33 - loss: 0.0010 - accuracy: 0.998 - ETA: 2:25:19 - loss: 9.9789e-04 - accuracy: 0.998 - ETA: 2:25:07 - loss: 0.0010 - accuracy: 0.9983    - ETA: 2:24:54 - loss: 9.9178e-04 - accuracy: 0.998 - ETA: 2:24:39 - loss: 9.7547e-04 - accuracy: 0.998 - ETA: 2:24:24 - loss: 9.7728e-04 - accuracy: 0.998 - ETA: 2:24:16 - loss: 9.6196e-04 - accuracy: 0.998 - ETA: 2:24:07 - loss: 9.5384e-04 - accuracy: 0.998 - ETA: 2:23:55 - loss: 9.3935e-04 - accuracy: 0.998 - ETA: 2:23:42 - loss: 9.4876e-04 - accuracy: 0.998 - ETA: 2:23:29 - loss: 9.3603e-04 - accuracy: 0.998 - ETA: 2:23:17 - loss: 9.3201e-04 - accuracy: 0.998 - ETA: 2:23:08 - loss: 9.4339e-04 - accuracy: 0.998 - ETA: 2:23:04 - loss: 9.7198e-04 - accuracy: 0.998 - ETA: 2:22:54 - loss: 9.5956e-04 - accuracy: 0.998 - ETA: 2:22:44 - loss: 9.4648e-04 - accuracy: 0.998 - ETA: 2:22:34 - loss: 9.3737e-04 - accuracy: 0.998 - ETA: 2:22:21 - loss: 9.2999e-04 - accuracy: 0.998 - ETA: 2:22:09 - loss: 9.2107e-04 - accuracy: 0.998 - ETA: 2:21:57 - loss: 9.6610e-04 - accuracy: 0.998 - ETA: 2:21:47 - loss: 9.6048e-04 - accuracy: 0.998 - ETA: 2:21:37 - loss: 9.8848e-04 - accuracy: 0.998 - ETA: 2:21:27 - loss: 0.0010 - accuracy: 0.9982    - ETA: 2:21:16 - loss: 0.0010 - accuracy: 0.998 - ETA: 2:21:10 - loss: 0.0010 - accuracy: 0.998 - ETA: 2:20:59 - loss: 0.0010 - accuracy: 0.998 - ETA: 2:20:56 - loss: 0.0011 - accuracy: 0.998 - ETA: 2:20:49 - loss: 0.0011 - accuracy: 0.998 - ETA: 2:20:38 - loss: 0.0011 - accuracy: 0.998 - ETA: 2:20:29 - loss: 0.0011 - accuracy: 0.998 - ETA: 2:20:19 - loss: 0.0011 - accuracy: 0.998 - ETA: 2:20:11 - loss: 0.0011 - accuracy: 0.998 - ETA: 2:19:59 - loss: 0.0011 - accuracy: 0.998 - ETA: 2:19:51 - loss: 0.0011 - accuracy: 0.998 - ETA: 2:19:40 - loss: 0.0011 - accuracy: 0.998 - ETA: 2:19:30 - loss: 0.0011 - accuracy: 0.998 - ETA: 2:19:23 - loss: 0.0011 - accuracy: 0.998 - ETA: 2:19:13 - loss: 0.0011 - accuracy: 0.998 - ETA: 2:19:02 - loss: 0.0011 - accuracy: 0.998 - ETA: 2:18:57 - loss: 0.0012 - accuracy: 0.998 - ETA: 2:18:48 - loss: 0.0012 - accuracy: 0.998 - ETA: 2:18:39 - loss: 0.0012 - accuracy: 0.998 - ETA: 2:18:28 - loss: 0.0012 - accuracy: 0.998 - ETA: 2:18:19 - loss: 0.0012 - accuracy: 0.998 - ETA: 2:18:11 - loss: 0.0012 - accuracy: 0.998 - ETA: 2:18:04 - loss: 0.0012 - accuracy: 0.998 - ETA: 2:17:56 - loss: 0.0012 - accuracy: 0.998 - ETA: 2:17:44 - loss: 0.0012 - accuracy: 0.998 - ETA: 2:17:34 - loss: 0.0012 - accuracy: 0.998 - ETA: 2:17:24 - loss: 0.0012 - accuracy: 0.998 - ETA: 2:17:13 - loss: 0.0012 - accuracy: 0.998 - ETA: 2:17:01 - loss: 0.0011 - accuracy: 0.998 - ETA: 2:16:54 - loss: 0.0012 - accuracy: 0.998 - ETA: 2:16:43 - loss: 0.0012 - accuracy: 0.998 - ETA: 2:16:33 - loss: 0.0012 - accuracy: 0.998 - ETA: 2:16:23 - loss: 0.0012 - accuracy: 0.998 - ETA: 2:16:11 - loss: 0.0012 - accuracy: 0.998 - ETA: 2:15:59 - loss: 0.0012 - accuracy: 0.998 - ETA: 2:15:50 - loss: 0.0012 - accuracy: 0.998 - ETA: 2:15:44 - loss: 0.0012 - accuracy: 0.998 - ETA: 2:15:34 - loss: 0.0012 - accuracy: 0.998 - ETA: 2:15:23 - loss: 0.0012 - accuracy: 0.998 - ETA: 2:15:13 - loss: 0.0012 - accuracy: 0.998 - ETA: 2:15:03 - loss: 0.0012 - accuracy: 0.998 - ETA: 2:14:52 - loss: 0.0012 - accuracy: 0.998 - ETA: 2:14:42 - loss: 0.0012 - accuracy: 0.998 - ETA: 2:14:35 - loss: 0.0013 - accuracy: 0.998 - ETA: 2:14:23 - loss: 0.0012 - accuracy: 0.998 - ETA: 2:14:11 - loss: 0.0012 - accuracy: 0.998 - ETA: 2:14:01 - loss: 0.0012 - accuracy: 0.998 - ETA: 2:13:52 - loss: 0.0012 - accuracy: 0.998 - ETA: 2:13:43 - loss: 0.0012 - accuracy: 0.998 - ETA: 2:13:36 - loss: 0.0012 - accuracy: 0.998 - ETA: 2:13:25 - loss: 0.0012 - accuracy: 0.998 - ETA: 2:13:15 - loss: 0.0012 - accuracy: 0.998 - ETA: 2:13:05 - loss: 0.0012 - accuracy: 0.998 - ETA: 2:12:57 - loss: 0.0012 - accuracy: 0.998 - ETA: 2:12:48 - loss: 0.0012 - accuracy: 0.998 - ETA: 2:12:38 - loss: 0.0012 - accuracy: 0.998 - ETA: 2:12:32 - loss: 0.0012 - accuracy: 0.998 - ETA: 2:12:21 - loss: 0.0012 - accuracy: 0.998 - ETA: 2:12:12 - loss: 0.0012 - accuracy: 0.998 - ETA: 2:12:03 - loss: 0.0012 - accuracy: 0.998 - ETA: 2:11:52 - loss: 0.0012 - accuracy: 0.998 - ETA: 2:11:43 - loss: 0.0012 - accuracy: 0.998 - ETA: 2:11:34 - loss: 0.0012 - accuracy: 0.998 - ETA: 2:11:24 - loss: 0.0012 - accuracy: 0.998 - ETA: 2:11:15 - loss: 0.0012 - accuracy: 0.998 - ETA: 2:11:07 - loss: 0.0012 - accuracy: 0.998 - ETA: 2:11:01 - loss: 0.0013 - accuracy: 0.998 - ETA: 2:10:53 - loss: 0.0013 - accuracy: 0.998 - ETA: 2:10:43 - loss: 0.0013 - accuracy: 0.998 - ETA: 2:10:35 - loss: 0.0013 - accuracy: 0.998 - ETA: 2:10:25 - loss: 0.0013 - accuracy: 0.998 - ETA: 2:10:18 - loss: 0.0013 - accuracy: 0.998 - ETA: 2:10:08 - loss: 0.0013 - accuracy: 0.998 - ETA: 2:09:58 - loss: 0.0013 - accuracy: 0.998 - ETA: 2:09:47 - loss: 0.0013 - accuracy: 0.998 - ETA: 2:09:37 - loss: 0.0013 - accuracy: 0.998 - ETA: 2:09:27 - loss: 0.0013 - accuracy: 0.998 - ETA: 2:09:16 - loss: 0.0013 - accuracy: 0.998 - ETA: 2:09:07 - loss: 0.0013 - accuracy: 0.998 - ETA: 2:08:58 - loss: 0.0013 - accuracy: 0.998 - ETA: 2:08:51 - loss: 0.0013 - accuracy: 0.998 - ETA: 2:08:43 - loss: 0.0013 - accuracy: 0.998 - ETA: 2:08:35 - loss: 0.0013 - accuracy: 0.998 - ETA: 2:08:25 - loss: 0.0013 - accuracy: 0.998 - ETA: 2:08:16 - loss: 0.0013 - accuracy: 0.998 - ETA: 2:08:07 - loss: 0.0013 - accuracy: 0.998 - ETA: 2:07:58 - loss: 0.0013 - accuracy: 0.998 - ETA: 2:07:47 - loss: 0.0013 - accuracy: 0.998 - ETA: 2:07:37 - loss: 0.0013 - accuracy: 0.9981 5392/15457 [=========>....................] - ETA: 2:07:28 - loss: 0.0013 - accuracy: 0.998 - ETA: 2:07:17 - loss: 0.0013 - accuracy: 0.998 - ETA: 2:07:08 - loss: 0.0013 - accuracy: 0.998 - ETA: 2:06:58 - loss: 0.0013 - accuracy: 0.998 - ETA: 2:06:47 - loss: 0.0013 - accuracy: 0.998 - ETA: 2:06:36 - loss: 0.0013 - accuracy: 0.998 - ETA: 2:06:28 - loss: 0.0013 - accuracy: 0.998 - ETA: 2:06:17 - loss: 0.0013 - accuracy: 0.998 - ETA: 2:06:08 - loss: 0.0013 - accuracy: 0.998 - ETA: 2:05:59 - loss: 0.0013 - accuracy: 0.998 - ETA: 2:05:48 - loss: 0.0013 - accuracy: 0.998 - ETA: 2:05:37 - loss: 0.0013 - accuracy: 0.998 - ETA: 2:05:27 - loss: 0.0013 - accuracy: 0.998 - ETA: 2:05:17 - loss: 0.0013 - accuracy: 0.998 - ETA: 2:05:08 - loss: 0.0013 - accuracy: 0.998 - ETA: 2:05:01 - loss: 0.0013 - accuracy: 0.998 - ETA: 2:04:51 - loss: 0.0013 - accuracy: 0.998 - ETA: 2:04:40 - loss: 0.0013 - accuracy: 0.998 - ETA: 2:04:29 - loss: 0.0013 - accuracy: 0.998 - ETA: 2:04:20 - loss: 0.0013 - accuracy: 0.998 - ETA: 2:04:11 - loss: 0.0013 - accuracy: 0.998 - ETA: 2:04:01 - loss: 0.0013 - accuracy: 0.998 - ETA: 2:03:51 - loss: 0.0013 - accuracy: 0.998 - ETA: 2:03:41 - loss: 0.0013 - accuracy: 0.998 - ETA: 2:03:31 - loss: 0.0013 - accuracy: 0.998 - ETA: 2:03:21 - loss: 0.0013 - accuracy: 0.998 - ETA: 2:03:14 - loss: 0.0013 - accuracy: 0.998 - ETA: 2:03:07 - loss: 0.0013 - accuracy: 0.998 - ETA: 2:03:01 - loss: 0.0013 - accuracy: 0.998 - ETA: 2:02:54 - loss: 0.0013 - accuracy: 0.998 - ETA: 2:02:43 - loss: 0.0013 - accuracy: 0.998 - ETA: 2:02:33 - loss: 0.0013 - accuracy: 0.998 - ETA: 2:02:23 - loss: 0.0013 - accuracy: 0.998 - ETA: 2:02:13 - loss: 0.0013 - accuracy: 0.998 - ETA: 2:02:04 - loss: 0.0013 - accuracy: 0.998 - ETA: 2:01:53 - loss: 0.0013 - accuracy: 0.998 - ETA: 2:01:44 - loss: 0.0013 - accuracy: 0.998 - ETA: 2:01:36 - loss: 0.0013 - accuracy: 0.998 - ETA: 2:01:26 - loss: 0.0013 - accuracy: 0.998 - ETA: 2:01:19 - loss: 0.0013 - accuracy: 0.998 - ETA: 2:01:10 - loss: 0.0013 - accuracy: 0.998 - ETA: 2:01:01 - loss: 0.0013 - accuracy: 0.998 - ETA: 2:00:51 - loss: 0.0013 - accuracy: 0.998 - ETA: 2:00:41 - loss: 0.0013 - accuracy: 0.998 - ETA: 2:00:32 - loss: 0.0013 - accuracy: 0.998 - ETA: 2:00:22 - loss: 0.0013 - accuracy: 0.997 - ETA: 2:00:12 - loss: 0.0013 - accuracy: 0.998 - ETA: 2:00:01 - loss: 0.0013 - accuracy: 0.997 - ETA: 1:59:52 - loss: 0.0013 - accuracy: 0.997 - ETA: 1:59:44 - loss: 0.0013 - accuracy: 0.997 - ETA: 1:59:36 - loss: 0.0013 - accuracy: 0.997 - ETA: 1:59:26 - loss: 0.0013 - accuracy: 0.997 - ETA: 1:59:18 - loss: 0.0013 - accuracy: 0.997 - ETA: 1:59:10 - loss: 0.0013 - accuracy: 0.997 - ETA: 1:59:01 - loss: 0.0013 - accuracy: 0.997 - ETA: 1:58:52 - loss: 0.0013 - accuracy: 0.997 - ETA: 1:58:45 - loss: 0.0013 - accuracy: 0.997 - ETA: 1:58:37 - loss: 0.0013 - accuracy: 0.997 - ETA: 1:58:31 - loss: 0.0013 - accuracy: 0.997 - ETA: 1:58:22 - loss: 0.0013 - accuracy: 0.997 - ETA: 1:58:11 - loss: 0.0013 - accuracy: 0.997 - ETA: 1:58:00 - loss: 0.0013 - accuracy: 0.997 - ETA: 1:57:51 - loss: 0.0013 - accuracy: 0.997 - ETA: 1:57:40 - loss: 0.0013 - accuracy: 0.997 - ETA: 1:57:30 - loss: 0.0013 - accuracy: 0.997 - ETA: 1:57:24 - loss: 0.0013 - accuracy: 0.997 - ETA: 1:57:17 - loss: 0.0013 - accuracy: 0.997 - ETA: 1:57:07 - loss: 0.0013 - accuracy: 0.997 - ETA: 1:56:56 - loss: 0.0013 - accuracy: 0.997 - ETA: 1:56:45 - loss: 0.0013 - accuracy: 0.997 - ETA: 1:56:35 - loss: 0.0013 - accuracy: 0.997 - ETA: 1:56:25 - loss: 0.0013 - accuracy: 0.997 - ETA: 1:56:15 - loss: 0.0013 - accuracy: 0.997 - ETA: 1:56:07 - loss: 0.0013 - accuracy: 0.997 - ETA: 1:55:57 - loss: 0.0013 - accuracy: 0.997 - ETA: 1:55:48 - loss: 0.0013 - accuracy: 0.997 - ETA: 1:55:39 - loss: 0.0013 - accuracy: 0.997 - ETA: 1:55:29 - loss: 0.0013 - accuracy: 0.997 - ETA: 1:55:20 - loss: 0.0013 - accuracy: 0.997 - ETA: 1:55:10 - loss: 0.0013 - accuracy: 0.997 - ETA: 1:55:00 - loss: 0.0014 - accuracy: 0.997 - ETA: 1:54:51 - loss: 0.0014 - accuracy: 0.997 - ETA: 1:54:41 - loss: 0.0014 - accuracy: 0.997 - ETA: 1:54:31 - loss: 0.0014 - accuracy: 0.997 - ETA: 1:54:22 - loss: 0.0014 - accuracy: 0.997 - ETA: 1:54:14 - loss: 0.0014 - accuracy: 0.997 - ETA: 1:54:04 - loss: 0.0014 - accuracy: 0.997 - ETA: 1:53:54 - loss: 0.0014 - accuracy: 0.997 - ETA: 1:53:44 - loss: 0.0014 - accuracy: 0.997 - ETA: 1:53:35 - loss: 0.0014 - accuracy: 0.997 - ETA: 1:53:25 - loss: 0.0014 - accuracy: 0.997 - ETA: 1:53:17 - loss: 0.0014 - accuracy: 0.997 - ETA: 1:53:08 - loss: 0.0014 - accuracy: 0.997 - ETA: 1:52:57 - loss: 0.0014 - accuracy: 0.997 - ETA: 1:52:47 - loss: 0.0014 - accuracy: 0.997 - ETA: 1:52:37 - loss: 0.0014 - accuracy: 0.997 - ETA: 1:52:28 - loss: 0.0014 - accuracy: 0.997 - ETA: 1:52:20 - loss: 0.0013 - accuracy: 0.997 - ETA: 1:52:12 - loss: 0.0013 - accuracy: 0.997 - ETA: 1:52:03 - loss: 0.0013 - accuracy: 0.997 - ETA: 1:51:53 - loss: 0.0014 - accuracy: 0.997 - ETA: 1:51:43 - loss: 0.0013 - accuracy: 0.997 - ETA: 1:51:35 - loss: 0.0013 - accuracy: 0.997 - ETA: 1:51:26 - loss: 0.0013 - accuracy: 0.997 - ETA: 1:51:17 - loss: 0.0014 - accuracy: 0.997 - ETA: 1:51:07 - loss: 0.0014 - accuracy: 0.997 - ETA: 1:50:57 - loss: 0.0014 - accuracy: 0.997 - ETA: 1:50:47 - loss: 0.0014 - accuracy: 0.997 - ETA: 1:50:38 - loss: 0.0014 - accuracy: 0.997 - ETA: 1:50:30 - loss: 0.0014 - accuracy: 0.997 - ETA: 1:50:20 - loss: 0.0014 - accuracy: 0.997 - ETA: 1:50:12 - loss: 0.0014 - accuracy: 0.997 - ETA: 1:50:04 - loss: 0.0014 - accuracy: 0.997 - ETA: 1:49:55 - loss: 0.0014 - accuracy: 0.997 - ETA: 1:49:46 - loss: 0.0014 - accuracy: 0.997 - ETA: 1:49:37 - loss: 0.0014 - accuracy: 0.997 - ETA: 1:49:27 - loss: 0.0014 - accuracy: 0.997 - ETA: 1:49:18 - loss: 0.0014 - accuracy: 0.997 - ETA: 1:49:08 - loss: 0.0014 - accuracy: 0.997 - ETA: 1:49:00 - loss: 0.0014 - accuracy: 0.997 - ETA: 1:48:52 - loss: 0.0013 - accuracy: 0.997 - ETA: 1:48:43 - loss: 0.0013 - accuracy: 0.997 - ETA: 1:48:33 - loss: 0.0014 - accuracy: 0.997 - ETA: 1:48:24 - loss: 0.0013 - accuracy: 0.997 - ETA: 1:48:15 - loss: 0.0013 - accuracy: 0.997 - ETA: 1:48:05 - loss: 0.0013 - accuracy: 0.997 - ETA: 1:47:55 - loss: 0.0013 - accuracy: 0.997 - ETA: 1:47:45 - loss: 0.0013 - accuracy: 0.997 - ETA: 1:47:36 - loss: 0.0013 - accuracy: 0.997 - ETA: 1:47:27 - loss: 0.0013 - accuracy: 0.997 - ETA: 1:47:18 - loss: 0.0013 - accuracy: 0.997 - ETA: 1:47:08 - loss: 0.0013 - accuracy: 0.997 - ETA: 1:46:59 - loss: 0.0013 - accuracy: 0.997 - ETA: 1:46:49 - loss: 0.0013 - accuracy: 0.997 - ETA: 1:46:40 - loss: 0.0013 - accuracy: 0.997 - ETA: 1:46:30 - loss: 0.0013 - accuracy: 0.997 - ETA: 1:46:21 - loss: 0.0013 - accuracy: 0.997 - ETA: 1:46:12 - loss: 0.0013 - accuracy: 0.997 - ETA: 1:46:02 - loss: 0.0013 - accuracy: 0.997 - ETA: 1:45:52 - loss: 0.0013 - accuracy: 0.997 - ETA: 1:45:42 - loss: 0.0013 - accuracy: 0.997 - ETA: 1:45:33 - loss: 0.0013 - accuracy: 0.997 - ETA: 1:45:24 - loss: 0.0013 - accuracy: 0.997 - ETA: 1:45:15 - loss: 0.0013 - accuracy: 0.997 - ETA: 1:45:05 - loss: 0.0013 - accuracy: 0.997 - ETA: 1:44:55 - loss: 0.0014 - accuracy: 0.997 - ETA: 1:44:46 - loss: 0.0014 - accuracy: 0.997 - ETA: 1:44:37 - loss: 0.0014 - accuracy: 0.997 - ETA: 1:44:28 - loss: 0.0014 - accuracy: 0.997 - ETA: 1:44:18 - loss: 0.0014 - accuracy: 0.997 - ETA: 1:44:09 - loss: 0.0014 - accuracy: 0.997 - ETA: 1:43:59 - loss: 0.0014 - accuracy: 0.997 - ETA: 1:43:50 - loss: 0.0014 - accuracy: 0.997 - ETA: 1:43:41 - loss: 0.0014 - accuracy: 0.997 - ETA: 1:43:32 - loss: 0.0014 - accuracy: 0.997 - ETA: 1:43:21 - loss: 0.0014 - accuracy: 0.997 - ETA: 1:43:13 - loss: 0.0014 - accuracy: 0.997 - ETA: 1:43:03 - loss: 0.0014 - accuracy: 0.997 - ETA: 1:42:53 - loss: 0.0014 - accuracy: 0.997 - ETA: 1:42:43 - loss: 0.0014 - accuracy: 0.997 - ETA: 1:42:34 - loss: 0.0014 - accuracy: 0.997 - ETA: 1:42:26 - loss: 0.0014 - accuracy: 0.997 - ETA: 1:42:19 - loss: 0.0014 - accuracy: 0.997 - ETA: 1:42:10 - loss: 0.0014 - accuracy: 0.997 - ETA: 1:42:00 - loss: 0.0014 - accuracy: 0.997 - ETA: 1:41:51 - loss: 0.0014 - accuracy: 0.997 - ETA: 1:41:40 - loss: 0.0014 - accuracy: 0.997 - ETA: 1:41:31 - loss: 0.0014 - accuracy: 0.997 - ETA: 1:41:23 - loss: 0.0014 - accuracy: 0.997 - ETA: 1:41:14 - loss: 0.0014 - accuracy: 0.9975"
     ]
    },
    {
     "name": "stdout",
     "output_type": "stream",
     "text": [
      " 8112/15457 [==============>...............] - ETA: 1:41:04 - loss: 0.0014 - accuracy: 0.997 - ETA: 1:40:54 - loss: 0.0014 - accuracy: 0.997 - ETA: 1:40:44 - loss: 0.0015 - accuracy: 0.997 - ETA: 1:40:34 - loss: 0.0014 - accuracy: 0.997 - ETA: 1:40:25 - loss: 0.0014 - accuracy: 0.997 - ETA: 1:40:16 - loss: 0.0014 - accuracy: 0.997 - ETA: 1:40:08 - loss: 0.0014 - accuracy: 0.997 - ETA: 1:40:00 - loss: 0.0014 - accuracy: 0.997 - ETA: 1:39:52 - loss: 0.0015 - accuracy: 0.997 - ETA: 1:39:43 - loss: 0.0015 - accuracy: 0.997 - ETA: 1:39:33 - loss: 0.0015 - accuracy: 0.997 - ETA: 1:39:24 - loss: 0.0015 - accuracy: 0.997 - ETA: 1:39:15 - loss: 0.0015 - accuracy: 0.997 - ETA: 1:39:05 - loss: 0.0015 - accuracy: 0.997 - ETA: 1:38:56 - loss: 0.0015 - accuracy: 0.997 - ETA: 1:38:47 - loss: 0.0015 - accuracy: 0.997 - ETA: 1:38:38 - loss: 0.0015 - accuracy: 0.997 - ETA: 1:38:29 - loss: 0.0015 - accuracy: 0.997 - ETA: 1:38:19 - loss: 0.0015 - accuracy: 0.997 - ETA: 1:38:09 - loss: 0.0015 - accuracy: 0.997 - ETA: 1:37:58 - loss: 0.0015 - accuracy: 0.997 - ETA: 1:37:49 - loss: 0.0015 - accuracy: 0.997 - ETA: 1:37:40 - loss: 0.0015 - accuracy: 0.997 - ETA: 1:37:31 - loss: 0.0015 - accuracy: 0.997 - ETA: 1:37:22 - loss: 0.0015 - accuracy: 0.997 - ETA: 1:37:12 - loss: 0.0015 - accuracy: 0.997 - ETA: 1:37:02 - loss: 0.0015 - accuracy: 0.997 - ETA: 1:36:53 - loss: 0.0015 - accuracy: 0.997 - ETA: 1:36:43 - loss: 0.0015 - accuracy: 0.997 - ETA: 1:36:34 - loss: 0.0015 - accuracy: 0.997 - ETA: 1:36:24 - loss: 0.0015 - accuracy: 0.997 - ETA: 1:36:17 - loss: 0.0015 - accuracy: 0.997 - ETA: 1:36:09 - loss: 0.0015 - accuracy: 0.997 - ETA: 1:36:01 - loss: 0.0015 - accuracy: 0.997 - ETA: 1:35:53 - loss: 0.0015 - accuracy: 0.997 - ETA: 1:35:44 - loss: 0.0015 - accuracy: 0.997 - ETA: 1:35:35 - loss: 0.0015 - accuracy: 0.997 - ETA: 1:35:26 - loss: 0.0015 - accuracy: 0.997 - ETA: 1:35:17 - loss: 0.0015 - accuracy: 0.997 - ETA: 1:35:07 - loss: 0.0015 - accuracy: 0.997 - ETA: 1:34:58 - loss: 0.0015 - accuracy: 0.997 - ETA: 1:34:49 - loss: 0.0015 - accuracy: 0.997 - ETA: 1:34:39 - loss: 0.0015 - accuracy: 0.997 - ETA: 1:34:30 - loss: 0.0015 - accuracy: 0.997 - ETA: 1:34:21 - loss: 0.0015 - accuracy: 0.997 - ETA: 1:34:11 - loss: 0.0015 - accuracy: 0.997 - ETA: 1:34:01 - loss: 0.0015 - accuracy: 0.997 - ETA: 1:33:52 - loss: 0.0015 - accuracy: 0.997 - ETA: 1:33:43 - loss: 0.0015 - accuracy: 0.997 - ETA: 1:33:35 - loss: 0.0015 - accuracy: 0.997 - ETA: 1:33:28 - loss: 0.0015 - accuracy: 0.997 - ETA: 1:33:21 - loss: 0.0015 - accuracy: 0.997 - ETA: 1:33:14 - loss: 0.0015 - accuracy: 0.997 - ETA: 1:33:07 - loss: 0.0015 - accuracy: 0.997 - ETA: 1:33:00 - loss: 0.0015 - accuracy: 0.997 - ETA: 1:32:51 - loss: 0.0015 - accuracy: 0.997 - ETA: 1:32:41 - loss: 0.0015 - accuracy: 0.997 - ETA: 1:32:31 - loss: 0.0015 - accuracy: 0.997 - ETA: 1:32:23 - loss: 0.0015 - accuracy: 0.997 - ETA: 1:32:14 - loss: 0.0015 - accuracy: 0.997 - ETA: 1:32:05 - loss: 0.0015 - accuracy: 0.997 - ETA: 1:31:55 - loss: 0.0015 - accuracy: 0.997 - ETA: 1:31:45 - loss: 0.0015 - accuracy: 0.997 - ETA: 1:31:36 - loss: 0.0015 - accuracy: 0.997 - ETA: 1:31:27 - loss: 0.0015 - accuracy: 0.997 - ETA: 1:31:19 - loss: 0.0015 - accuracy: 0.997 - ETA: 1:31:11 - loss: 0.0015 - accuracy: 0.997 - ETA: 1:31:03 - loss: 0.0015 - accuracy: 0.997 - ETA: 1:30:54 - loss: 0.0015 - accuracy: 0.997 - ETA: 1:30:46 - loss: 0.0015 - accuracy: 0.997 - ETA: 1:30:39 - loss: 0.0015 - accuracy: 0.997 - ETA: 1:30:34 - loss: 0.0015 - accuracy: 0.997 - ETA: 1:30:26 - loss: 0.0015 - accuracy: 0.997 - ETA: 1:30:18 - loss: 0.0015 - accuracy: 0.997 - ETA: 1:30:09 - loss: 0.0015 - accuracy: 0.997 - ETA: 1:30:01 - loss: 0.0015 - accuracy: 0.997 - ETA: 1:29:55 - loss: 0.0015 - accuracy: 0.997 - ETA: 1:29:46 - loss: 0.0015 - accuracy: 0.997 - ETA: 1:29:37 - loss: 0.0015 - accuracy: 0.997 - ETA: 1:29:28 - loss: 0.0015 - accuracy: 0.997 - ETA: 1:29:18 - loss: 0.0015 - accuracy: 0.997 - ETA: 1:29:10 - loss: 0.0015 - accuracy: 0.997 - ETA: 1:29:01 - loss: 0.0015 - accuracy: 0.997 - ETA: 1:28:51 - loss: 0.0015 - accuracy: 0.997 - ETA: 1:28:43 - loss: 0.0015 - accuracy: 0.997 - ETA: 1:28:34 - loss: 0.0015 - accuracy: 0.997 - ETA: 1:28:25 - loss: 0.0015 - accuracy: 0.997 - ETA: 1:28:16 - loss: 0.0015 - accuracy: 0.997 - ETA: 1:28:09 - loss: 0.0015 - accuracy: 0.997 - ETA: 1:28:02 - loss: 0.0015 - accuracy: 0.997 - ETA: 1:27:54 - loss: 0.0015 - accuracy: 0.997 - ETA: 1:27:46 - loss: 0.0015 - accuracy: 0.997 - ETA: 1:27:38 - loss: 0.0015 - accuracy: 0.997 - ETA: 1:27:32 - loss: 0.0015 - accuracy: 0.997 - ETA: 1:27:25 - loss: 0.0015 - accuracy: 0.997 - ETA: 1:27:17 - loss: 0.0015 - accuracy: 0.997 - ETA: 1:27:09 - loss: 0.0015 - accuracy: 0.997 - ETA: 1:27:01 - loss: 0.0015 - accuracy: 0.997 - ETA: 1:26:53 - loss: 0.0015 - accuracy: 0.997 - ETA: 1:26:46 - loss: 0.0015 - accuracy: 0.997 - ETA: 1:26:39 - loss: 0.0015 - accuracy: 0.997 - ETA: 1:26:31 - loss: 0.0015 - accuracy: 0.997 - ETA: 1:26:22 - loss: 0.0015 - accuracy: 0.997 - ETA: 1:26:12 - loss: 0.0015 - accuracy: 0.997 - ETA: 1:26:01 - loss: 0.0015 - accuracy: 0.997 - ETA: 1:25:51 - loss: 0.0015 - accuracy: 0.997 - ETA: 1:25:41 - loss: 0.0015 - accuracy: 0.997 - ETA: 1:25:32 - loss: 0.0015 - accuracy: 0.997 - ETA: 1:25:23 - loss: 0.0015 - accuracy: 0.997 - ETA: 1:25:13 - loss: 0.0015 - accuracy: 0.997 - ETA: 1:25:03 - loss: 0.0015 - accuracy: 0.997 - ETA: 1:24:53 - loss: 0.0015 - accuracy: 0.997 - ETA: 1:24:44 - loss: 0.0015 - accuracy: 0.997 - ETA: 1:24:34 - loss: 0.0015 - accuracy: 0.997 - ETA: 1:24:25 - loss: 0.0015 - accuracy: 0.997 - ETA: 1:24:15 - loss: 0.0015 - accuracy: 0.997 - ETA: 1:24:05 - loss: 0.0015 - accuracy: 0.997 - ETA: 1:23:55 - loss: 0.0015 - accuracy: 0.997 - ETA: 1:23:45 - loss: 0.0015 - accuracy: 0.997 - ETA: 1:23:35 - loss: 0.0015 - accuracy: 0.997 - ETA: 1:23:26 - loss: 0.0015 - accuracy: 0.997 - ETA: 1:23:18 - loss: 0.0015 - accuracy: 0.997 - ETA: 1:23:08 - loss: 0.0015 - accuracy: 0.997 - ETA: 1:22:58 - loss: 0.0015 - accuracy: 0.997 - ETA: 1:22:48 - loss: 0.0015 - accuracy: 0.997 - ETA: 1:22:39 - loss: 0.0015 - accuracy: 0.997 - ETA: 1:22:29 - loss: 0.0015 - accuracy: 0.997 - ETA: 1:22:21 - loss: 0.0015 - accuracy: 0.997 - ETA: 1:22:11 - loss: 0.0015 - accuracy: 0.997 - ETA: 1:22:01 - loss: 0.0015 - accuracy: 0.997 - ETA: 1:21:51 - loss: 0.0015 - accuracy: 0.997 - ETA: 1:21:41 - loss: 0.0015 - accuracy: 0.997 - ETA: 1:21:31 - loss: 0.0015 - accuracy: 0.997 - ETA: 1:21:21 - loss: 0.0015 - accuracy: 0.997 - ETA: 1:21:12 - loss: 0.0015 - accuracy: 0.997 - ETA: 1:21:02 - loss: 0.0015 - accuracy: 0.997 - ETA: 1:20:52 - loss: 0.0015 - accuracy: 0.997 - ETA: 1:20:42 - loss: 0.0015 - accuracy: 0.997 - ETA: 1:20:32 - loss: 0.0015 - accuracy: 0.997 - ETA: 1:20:23 - loss: 0.0015 - accuracy: 0.997 - ETA: 1:20:13 - loss: 0.0015 - accuracy: 0.997 - ETA: 1:20:03 - loss: 0.0015 - accuracy: 0.997 - ETA: 1:19:53 - loss: 0.0015 - accuracy: 0.997 - ETA: 1:19:43 - loss: 0.0015 - accuracy: 0.997 - ETA: 1:19:33 - loss: 0.0015 - accuracy: 0.997 - ETA: 1:19:23 - loss: 0.0015 - accuracy: 0.997 - ETA: 1:19:13 - loss: 0.0015 - accuracy: 0.997 - ETA: 1:19:04 - loss: 0.0015 - accuracy: 0.997 - ETA: 1:18:54 - loss: 0.0015 - accuracy: 0.997 - ETA: 1:18:44 - loss: 0.0015 - accuracy: 0.997 - ETA: 1:18:34 - loss: 0.0015 - accuracy: 0.997 - ETA: 1:18:24 - loss: 0.0015 - accuracy: 0.997 - ETA: 1:18:15 - loss: 0.0015 - accuracy: 0.997 - ETA: 1:18:06 - loss: 0.0015 - accuracy: 0.997 - ETA: 1:17:56 - loss: 0.0015 - accuracy: 0.997 - ETA: 1:17:47 - loss: 0.0015 - accuracy: 0.997 - ETA: 1:17:37 - loss: 0.0015 - accuracy: 0.997 - ETA: 1:17:27 - loss: 0.0015 - accuracy: 0.997 - ETA: 1:17:18 - loss: 0.0015 - accuracy: 0.997 - ETA: 1:17:08 - loss: 0.0015 - accuracy: 0.997 - ETA: 1:16:58 - loss: 0.0015 - accuracy: 0.997 - ETA: 1:16:48 - loss: 0.0015 - accuracy: 0.997 - ETA: 1:16:38 - loss: 0.0015 - accuracy: 0.997 - ETA: 1:16:28 - loss: 0.0015 - accuracy: 0.997 - ETA: 1:16:18 - loss: 0.0015 - accuracy: 0.997 - ETA: 1:16:09 - loss: 0.0015 - accuracy: 0.997 - ETA: 1:15:59 - loss: 0.0015 - accuracy: 0.997 - ETA: 1:15:49 - loss: 0.0015 - accuracy: 0.997 - ETA: 1:15:39 - loss: 0.0015 - accuracy: 0.997 - ETA: 1:15:29 - loss: 0.0015 - accuracy: 0.9974"
     ]
    },
    {
     "name": "stdout",
     "output_type": "stream",
     "text": [
      "10880/15457 [====================>.........] - ETA: 1:15:20 - loss: 0.0015 - accuracy: 0.997 - ETA: 1:15:10 - loss: 0.0015 - accuracy: 0.997 - ETA: 1:15:01 - loss: 0.0015 - accuracy: 0.997 - ETA: 1:14:51 - loss: 0.0015 - accuracy: 0.997 - ETA: 1:14:41 - loss: 0.0015 - accuracy: 0.997 - ETA: 1:14:31 - loss: 0.0015 - accuracy: 0.997 - ETA: 1:14:20 - loss: 0.0015 - accuracy: 0.997 - ETA: 1:14:11 - loss: 0.0015 - accuracy: 0.997 - ETA: 1:14:02 - loss: 0.0015 - accuracy: 0.997 - ETA: 1:13:52 - loss: 0.0015 - accuracy: 0.997 - ETA: 1:13:42 - loss: 0.0015 - accuracy: 0.997 - ETA: 1:13:32 - loss: 0.0015 - accuracy: 0.997 - ETA: 1:13:23 - loss: 0.0015 - accuracy: 0.997 - ETA: 1:13:13 - loss: 0.0015 - accuracy: 0.997 - ETA: 1:13:04 - loss: 0.0015 - accuracy: 0.997 - ETA: 1:12:54 - loss: 0.0015 - accuracy: 0.997 - ETA: 1:12:45 - loss: 0.0015 - accuracy: 0.997 - ETA: 1:12:35 - loss: 0.0015 - accuracy: 0.997 - ETA: 1:12:25 - loss: 0.0015 - accuracy: 0.997 - ETA: 1:12:15 - loss: 0.0015 - accuracy: 0.997 - ETA: 1:12:05 - loss: 0.0015 - accuracy: 0.997 - ETA: 1:11:55 - loss: 0.0015 - accuracy: 0.997 - ETA: 1:11:45 - loss: 0.0015 - accuracy: 0.997 - ETA: 1:11:36 - loss: 0.0015 - accuracy: 0.997 - ETA: 1:11:26 - loss: 0.0015 - accuracy: 0.997 - ETA: 1:11:16 - loss: 0.0015 - accuracy: 0.997 - ETA: 1:11:06 - loss: 0.0015 - accuracy: 0.997 - ETA: 1:10:56 - loss: 0.0015 - accuracy: 0.997 - ETA: 1:10:46 - loss: 0.0015 - accuracy: 0.997 - ETA: 1:10:36 - loss: 0.0015 - accuracy: 0.997 - ETA: 1:10:27 - loss: 0.0015 - accuracy: 0.997 - ETA: 1:10:16 - loss: 0.0015 - accuracy: 0.997 - ETA: 1:10:06 - loss: 0.0015 - accuracy: 0.997 - ETA: 1:09:57 - loss: 0.0015 - accuracy: 0.997 - ETA: 1:09:47 - loss: 0.0015 - accuracy: 0.997 - ETA: 1:09:37 - loss: 0.0015 - accuracy: 0.997 - ETA: 1:09:27 - loss: 0.0015 - accuracy: 0.997 - ETA: 1:09:17 - loss: 0.0015 - accuracy: 0.997 - ETA: 1:09:07 - loss: 0.0015 - accuracy: 0.997 - ETA: 1:08:58 - loss: 0.0015 - accuracy: 0.997 - ETA: 1:08:48 - loss: 0.0015 - accuracy: 0.997 - ETA: 1:08:38 - loss: 0.0015 - accuracy: 0.997 - ETA: 1:08:28 - loss: 0.0015 - accuracy: 0.997 - ETA: 1:08:18 - loss: 0.0015 - accuracy: 0.997 - ETA: 1:08:09 - loss: 0.0015 - accuracy: 0.997 - ETA: 1:07:59 - loss: 0.0015 - accuracy: 0.997 - ETA: 1:07:49 - loss: 0.0015 - accuracy: 0.997 - ETA: 1:07:39 - loss: 0.0015 - accuracy: 0.997 - ETA: 1:07:29 - loss: 0.0015 - accuracy: 0.997 - ETA: 1:07:19 - loss: 0.0015 - accuracy: 0.997 - ETA: 1:07:09 - loss: 0.0015 - accuracy: 0.997 - ETA: 1:06:59 - loss: 0.0015 - accuracy: 0.997 - ETA: 1:06:49 - loss: 0.0015 - accuracy: 0.997 - ETA: 1:06:39 - loss: 0.0015 - accuracy: 0.997 - ETA: 1:06:30 - loss: 0.0015 - accuracy: 0.997 - ETA: 1:06:20 - loss: 0.0015 - accuracy: 0.997 - ETA: 1:06:10 - loss: 0.0015 - accuracy: 0.997 - ETA: 1:06:01 - loss: 0.0015 - accuracy: 0.997 - ETA: 1:05:51 - loss: 0.0015 - accuracy: 0.997 - ETA: 1:05:42 - loss: 0.0015 - accuracy: 0.997 - ETA: 1:05:32 - loss: 0.0015 - accuracy: 0.997 - ETA: 1:05:22 - loss: 0.0015 - accuracy: 0.997 - ETA: 1:05:12 - loss: 0.0015 - accuracy: 0.997 - ETA: 1:05:02 - loss: 0.0015 - accuracy: 0.997 - ETA: 1:04:53 - loss: 0.0015 - accuracy: 0.997 - ETA: 1:04:44 - loss: 0.0015 - accuracy: 0.997 - ETA: 1:04:34 - loss: 0.0015 - accuracy: 0.997 - ETA: 1:04:24 - loss: 0.0015 - accuracy: 0.997 - ETA: 1:04:14 - loss: 0.0015 - accuracy: 0.997 - ETA: 1:04:03 - loss: 0.0015 - accuracy: 0.997 - ETA: 1:03:54 - loss: 0.0015 - accuracy: 0.997 - ETA: 1:03:44 - loss: 0.0015 - accuracy: 0.997 - ETA: 1:03:35 - loss: 0.0015 - accuracy: 0.997 - ETA: 1:03:25 - loss: 0.0015 - accuracy: 0.997 - ETA: 1:03:15 - loss: 0.0015 - accuracy: 0.997 - ETA: 1:03:05 - loss: 0.0015 - accuracy: 0.997 - ETA: 1:02:56 - loss: 0.0015 - accuracy: 0.997 - ETA: 1:02:46 - loss: 0.0015 - accuracy: 0.997 - ETA: 1:02:36 - loss: 0.0015 - accuracy: 0.997 - ETA: 1:02:26 - loss: 0.0015 - accuracy: 0.997 - ETA: 1:02:16 - loss: 0.0015 - accuracy: 0.997 - ETA: 1:02:06 - loss: 0.0015 - accuracy: 0.997 - ETA: 1:01:57 - loss: 0.0015 - accuracy: 0.997 - ETA: 1:01:47 - loss: 0.0015 - accuracy: 0.997 - ETA: 1:01:37 - loss: 0.0015 - accuracy: 0.997 - ETA: 1:01:27 - loss: 0.0015 - accuracy: 0.997 - ETA: 1:01:17 - loss: 0.0015 - accuracy: 0.997 - ETA: 1:01:07 - loss: 0.0015 - accuracy: 0.997 - ETA: 1:00:58 - loss: 0.0015 - accuracy: 0.997 - ETA: 1:00:48 - loss: 0.0015 - accuracy: 0.997 - ETA: 1:00:38 - loss: 0.0015 - accuracy: 0.997 - ETA: 1:00:28 - loss: 0.0015 - accuracy: 0.997 - ETA: 1:00:18 - loss: 0.0015 - accuracy: 0.997 - ETA: 1:00:09 - loss: 0.0015 - accuracy: 0.997 - ETA: 59:59 - loss: 0.0015 - accuracy: 0.9974  - ETA: 59:50 - loss: 0.0015 - accuracy: 0.997 - ETA: 59:40 - loss: 0.0015 - accuracy: 0.997 - ETA: 59:30 - loss: 0.0015 - accuracy: 0.997 - ETA: 59:20 - loss: 0.0015 - accuracy: 0.997 - ETA: 59:10 - loss: 0.0015 - accuracy: 0.997 - ETA: 59:00 - loss: 0.0015 - accuracy: 0.997 - ETA: 58:51 - loss: 0.0015 - accuracy: 0.997 - ETA: 58:41 - loss: 0.0015 - accuracy: 0.997 - ETA: 58:30 - loss: 0.0015 - accuracy: 0.997 - ETA: 58:21 - loss: 0.0015 - accuracy: 0.997 - ETA: 58:11 - loss: 0.0015 - accuracy: 0.997 - ETA: 58:01 - loss: 0.0015 - accuracy: 0.997 - ETA: 57:52 - loss: 0.0015 - accuracy: 0.997 - ETA: 57:42 - loss: 0.0015 - accuracy: 0.997 - ETA: 57:32 - loss: 0.0015 - accuracy: 0.997 - ETA: 57:22 - loss: 0.0015 - accuracy: 0.997 - ETA: 57:12 - loss: 0.0015 - accuracy: 0.997 - ETA: 57:02 - loss: 0.0015 - accuracy: 0.997 - ETA: 56:52 - loss: 0.0015 - accuracy: 0.997 - ETA: 56:42 - loss: 0.0015 - accuracy: 0.997 - ETA: 56:32 - loss: 0.0015 - accuracy: 0.997 - ETA: 56:23 - loss: 0.0015 - accuracy: 0.997 - ETA: 56:13 - loss: 0.0015 - accuracy: 0.997 - ETA: 56:03 - loss: 0.0015 - accuracy: 0.997 - ETA: 55:53 - loss: 0.0015 - accuracy: 0.997 - ETA: 55:43 - loss: 0.0015 - accuracy: 0.997 - ETA: 55:34 - loss: 0.0015 - accuracy: 0.997 - ETA: 55:24 - loss: 0.0015 - accuracy: 0.997 - ETA: 55:14 - loss: 0.0015 - accuracy: 0.997 - ETA: 55:04 - loss: 0.0015 - accuracy: 0.997 - ETA: 54:54 - loss: 0.0015 - accuracy: 0.997 - ETA: 54:44 - loss: 0.0015 - accuracy: 0.997 - ETA: 54:34 - loss: 0.0015 - accuracy: 0.997 - ETA: 54:24 - loss: 0.0015 - accuracy: 0.997 - ETA: 54:15 - loss: 0.0015 - accuracy: 0.997 - ETA: 54:05 - loss: 0.0015 - accuracy: 0.997 - ETA: 53:56 - loss: 0.0015 - accuracy: 0.997 - ETA: 53:46 - loss: 0.0015 - accuracy: 0.997 - ETA: 53:36 - loss: 0.0015 - accuracy: 0.997 - ETA: 53:26 - loss: 0.0015 - accuracy: 0.997 - ETA: 53:17 - loss: 0.0015 - accuracy: 0.997 - ETA: 53:07 - loss: 0.0015 - accuracy: 0.997 - ETA: 52:57 - loss: 0.0015 - accuracy: 0.997 - ETA: 52:47 - loss: 0.0015 - accuracy: 0.997 - ETA: 52:38 - loss: 0.0015 - accuracy: 0.997 - ETA: 52:28 - loss: 0.0015 - accuracy: 0.997 - ETA: 52:18 - loss: 0.0015 - accuracy: 0.997 - ETA: 52:08 - loss: 0.0015 - accuracy: 0.997 - ETA: 51:58 - loss: 0.0015 - accuracy: 0.997 - ETA: 51:48 - loss: 0.0015 - accuracy: 0.997 - ETA: 51:38 - loss: 0.0015 - accuracy: 0.997 - ETA: 51:29 - loss: 0.0015 - accuracy: 0.997 - ETA: 51:18 - loss: 0.0015 - accuracy: 0.997 - ETA: 51:09 - loss: 0.0015 - accuracy: 0.997 - ETA: 50:59 - loss: 0.0015 - accuracy: 0.997 - ETA: 50:49 - loss: 0.0015 - accuracy: 0.997 - ETA: 50:39 - loss: 0.0015 - accuracy: 0.997 - ETA: 50:29 - loss: 0.0015 - accuracy: 0.997 - ETA: 50:19 - loss: 0.0015 - accuracy: 0.997 - ETA: 50:10 - loss: 0.0015 - accuracy: 0.997 - ETA: 50:00 - loss: 0.0015 - accuracy: 0.997 - ETA: 49:50 - loss: 0.0015 - accuracy: 0.997 - ETA: 49:40 - loss: 0.0015 - accuracy: 0.997 - ETA: 49:30 - loss: 0.0015 - accuracy: 0.997 - ETA: 49:20 - loss: 0.0015 - accuracy: 0.997 - ETA: 49:10 - loss: 0.0015 - accuracy: 0.997 - ETA: 49:00 - loss: 0.0015 - accuracy: 0.997 - ETA: 48:50 - loss: 0.0015 - accuracy: 0.997 - ETA: 48:40 - loss: 0.0015 - accuracy: 0.997 - ETA: 48:30 - loss: 0.0015 - accuracy: 0.997 - ETA: 48:21 - loss: 0.0015 - accuracy: 0.997 - ETA: 48:11 - loss: 0.0015 - accuracy: 0.997 - ETA: 48:01 - loss: 0.0015 - accuracy: 0.997 - ETA: 47:51 - loss: 0.0015 - accuracy: 0.997 - ETA: 47:41 - loss: 0.0015 - accuracy: 0.997 - ETA: 47:31 - loss: 0.0015 - accuracy: 0.997 - ETA: 47:21 - loss: 0.0015 - accuracy: 0.997 - ETA: 47:11 - loss: 0.0015 - accuracy: 0.9974"
     ]
    },
    {
     "name": "stdout",
     "output_type": "stream",
     "text": [
      "13728/15457 [=========================>....] - ETA: 47:01 - loss: 0.0015 - accuracy: 0.997 - ETA: 46:52 - loss: 0.0015 - accuracy: 0.997 - ETA: 46:42 - loss: 0.0015 - accuracy: 0.997 - ETA: 46:32 - loss: 0.0015 - accuracy: 0.997 - ETA: 46:22 - loss: 0.0015 - accuracy: 0.997 - ETA: 46:12 - loss: 0.0015 - accuracy: 0.997 - ETA: 46:02 - loss: 0.0015 - accuracy: 0.997 - ETA: 45:53 - loss: 0.0015 - accuracy: 0.997 - ETA: 45:43 - loss: 0.0015 - accuracy: 0.997 - ETA: 45:33 - loss: 0.0015 - accuracy: 0.997 - ETA: 45:23 - loss: 0.0015 - accuracy: 0.997 - ETA: 45:13 - loss: 0.0015 - accuracy: 0.997 - ETA: 45:03 - loss: 0.0015 - accuracy: 0.997 - ETA: 44:53 - loss: 0.0015 - accuracy: 0.997 - ETA: 44:43 - loss: 0.0015 - accuracy: 0.997 - ETA: 44:34 - loss: 0.0015 - accuracy: 0.997 - ETA: 44:24 - loss: 0.0015 - accuracy: 0.997 - ETA: 44:14 - loss: 0.0015 - accuracy: 0.997 - ETA: 44:05 - loss: 0.0015 - accuracy: 0.997 - ETA: 43:55 - loss: 0.0015 - accuracy: 0.997 - ETA: 43:45 - loss: 0.0015 - accuracy: 0.997 - ETA: 43:35 - loss: 0.0015 - accuracy: 0.997 - ETA: 43:25 - loss: 0.0015 - accuracy: 0.997 - ETA: 43:16 - loss: 0.0015 - accuracy: 0.997 - ETA: 43:06 - loss: 0.0015 - accuracy: 0.997 - ETA: 42:56 - loss: 0.0015 - accuracy: 0.997 - ETA: 42:46 - loss: 0.0015 - accuracy: 0.997 - ETA: 42:36 - loss: 0.0015 - accuracy: 0.997 - ETA: 42:26 - loss: 0.0015 - accuracy: 0.997 - ETA: 42:16 - loss: 0.0015 - accuracy: 0.997 - ETA: 42:06 - loss: 0.0015 - accuracy: 0.997 - ETA: 41:56 - loss: 0.0015 - accuracy: 0.997 - ETA: 41:46 - loss: 0.0015 - accuracy: 0.997 - ETA: 41:36 - loss: 0.0015 - accuracy: 0.997 - ETA: 41:26 - loss: 0.0015 - accuracy: 0.997 - ETA: 41:16 - loss: 0.0015 - accuracy: 0.997 - ETA: 41:07 - loss: 0.0015 - accuracy: 0.997 - ETA: 40:57 - loss: 0.0015 - accuracy: 0.997 - ETA: 40:47 - loss: 0.0015 - accuracy: 0.997 - ETA: 40:37 - loss: 0.0015 - accuracy: 0.997 - ETA: 40:27 - loss: 0.0015 - accuracy: 0.997 - ETA: 40:17 - loss: 0.0015 - accuracy: 0.997 - ETA: 40:07 - loss: 0.0015 - accuracy: 0.997 - ETA: 39:57 - loss: 0.0015 - accuracy: 0.997 - ETA: 39:47 - loss: 0.0015 - accuracy: 0.997 - ETA: 39:37 - loss: 0.0015 - accuracy: 0.997 - ETA: 39:27 - loss: 0.0015 - accuracy: 0.997 - ETA: 39:18 - loss: 0.0015 - accuracy: 0.997 - ETA: 39:08 - loss: 0.0015 - accuracy: 0.997 - ETA: 38:58 - loss: 0.0015 - accuracy: 0.997 - ETA: 38:48 - loss: 0.0015 - accuracy: 0.997 - ETA: 38:39 - loss: 0.0015 - accuracy: 0.997 - ETA: 38:29 - loss: 0.0015 - accuracy: 0.997 - ETA: 38:19 - loss: 0.0015 - accuracy: 0.997 - ETA: 38:09 - loss: 0.0015 - accuracy: 0.997 - ETA: 38:00 - loss: 0.0015 - accuracy: 0.997 - ETA: 37:50 - loss: 0.0015 - accuracy: 0.997 - ETA: 37:40 - loss: 0.0015 - accuracy: 0.997 - ETA: 37:30 - loss: 0.0015 - accuracy: 0.997 - ETA: 37:20 - loss: 0.0015 - accuracy: 0.997 - ETA: 37:10 - loss: 0.0015 - accuracy: 0.997 - ETA: 37:00 - loss: 0.0015 - accuracy: 0.997 - ETA: 36:50 - loss: 0.0015 - accuracy: 0.997 - ETA: 36:41 - loss: 0.0015 - accuracy: 0.997 - ETA: 36:31 - loss: 0.0015 - accuracy: 0.997 - ETA: 36:21 - loss: 0.0015 - accuracy: 0.997 - ETA: 36:11 - loss: 0.0015 - accuracy: 0.997 - ETA: 36:01 - loss: 0.0015 - accuracy: 0.997 - ETA: 35:52 - loss: 0.0015 - accuracy: 0.997 - ETA: 35:43 - loss: 0.0015 - accuracy: 0.997 - ETA: 35:33 - loss: 0.0015 - accuracy: 0.997 - ETA: 35:24 - loss: 0.0015 - accuracy: 0.997 - ETA: 35:14 - loss: 0.0015 - accuracy: 0.997 - ETA: 35:04 - loss: 0.0015 - accuracy: 0.997 - ETA: 34:54 - loss: 0.0015 - accuracy: 0.997 - ETA: 34:44 - loss: 0.0015 - accuracy: 0.997 - ETA: 34:34 - loss: 0.0015 - accuracy: 0.997 - ETA: 34:25 - loss: 0.0015 - accuracy: 0.997 - ETA: 34:15 - loss: 0.0015 - accuracy: 0.997 - ETA: 34:05 - loss: 0.0015 - accuracy: 0.997 - ETA: 33:55 - loss: 0.0015 - accuracy: 0.997 - ETA: 33:45 - loss: 0.0015 - accuracy: 0.997 - ETA: 33:35 - loss: 0.0015 - accuracy: 0.997 - ETA: 33:26 - loss: 0.0015 - accuracy: 0.997 - ETA: 33:16 - loss: 0.0015 - accuracy: 0.997 - ETA: 33:06 - loss: 0.0015 - accuracy: 0.997 - ETA: 32:56 - loss: 0.0015 - accuracy: 0.997 - ETA: 32:46 - loss: 0.0015 - accuracy: 0.997 - ETA: 32:36 - loss: 0.0015 - accuracy: 0.997 - ETA: 32:26 - loss: 0.0015 - accuracy: 0.997 - ETA: 32:16 - loss: 0.0015 - accuracy: 0.997 - ETA: 32:06 - loss: 0.0015 - accuracy: 0.997 - ETA: 31:56 - loss: 0.0015 - accuracy: 0.997 - ETA: 31:46 - loss: 0.0015 - accuracy: 0.997 - ETA: 31:36 - loss: 0.0015 - accuracy: 0.997 - ETA: 31:26 - loss: 0.0015 - accuracy: 0.997 - ETA: 31:16 - loss: 0.0015 - accuracy: 0.997 - ETA: 31:06 - loss: 0.0015 - accuracy: 0.997 - ETA: 30:56 - loss: 0.0015 - accuracy: 0.997 - ETA: 30:46 - loss: 0.0015 - accuracy: 0.997 - ETA: 30:36 - loss: 0.0015 - accuracy: 0.997 - ETA: 30:27 - loss: 0.0015 - accuracy: 0.997 - ETA: 30:17 - loss: 0.0015 - accuracy: 0.997 - ETA: 30:07 - loss: 0.0015 - accuracy: 0.997 - ETA: 29:57 - loss: 0.0015 - accuracy: 0.997 - ETA: 29:47 - loss: 0.0015 - accuracy: 0.997 - ETA: 29:37 - loss: 0.0015 - accuracy: 0.997 - ETA: 29:27 - loss: 0.0015 - accuracy: 0.997 - ETA: 29:17 - loss: 0.0015 - accuracy: 0.997 - ETA: 29:07 - loss: 0.0015 - accuracy: 0.997 - ETA: 28:57 - loss: 0.0015 - accuracy: 0.997 - ETA: 28:47 - loss: 0.0015 - accuracy: 0.997 - ETA: 28:37 - loss: 0.0015 - accuracy: 0.997 - ETA: 28:27 - loss: 0.0015 - accuracy: 0.997 - ETA: 28:17 - loss: 0.0015 - accuracy: 0.997 - ETA: 28:08 - loss: 0.0015 - accuracy: 0.997 - ETA: 27:58 - loss: 0.0015 - accuracy: 0.997 - ETA: 27:48 - loss: 0.0015 - accuracy: 0.997 - ETA: 27:38 - loss: 0.0015 - accuracy: 0.997 - ETA: 27:28 - loss: 0.0015 - accuracy: 0.997 - ETA: 27:18 - loss: 0.0015 - accuracy: 0.997 - ETA: 27:08 - loss: 0.0015 - accuracy: 0.997 - ETA: 26:58 - loss: 0.0015 - accuracy: 0.997 - ETA: 26:48 - loss: 0.0015 - accuracy: 0.997 - ETA: 26:38 - loss: 0.0015 - accuracy: 0.997 - ETA: 26:28 - loss: 0.0015 - accuracy: 0.997 - ETA: 26:18 - loss: 0.0015 - accuracy: 0.997 - ETA: 26:09 - loss: 0.0015 - accuracy: 0.997 - ETA: 25:59 - loss: 0.0015 - accuracy: 0.997 - ETA: 25:49 - loss: 0.0015 - accuracy: 0.997 - ETA: 25:39 - loss: 0.0015 - accuracy: 0.997 - ETA: 25:29 - loss: 0.0015 - accuracy: 0.997 - ETA: 25:19 - loss: 0.0015 - accuracy: 0.997 - ETA: 25:09 - loss: 0.0015 - accuracy: 0.997 - ETA: 24:59 - loss: 0.0015 - accuracy: 0.997 - ETA: 24:49 - loss: 0.0015 - accuracy: 0.997 - ETA: 24:39 - loss: 0.0015 - accuracy: 0.997 - ETA: 24:29 - loss: 0.0015 - accuracy: 0.997 - ETA: 24:19 - loss: 0.0015 - accuracy: 0.997 - ETA: 24:09 - loss: 0.0015 - accuracy: 0.997 - ETA: 23:59 - loss: 0.0016 - accuracy: 0.997 - ETA: 23:49 - loss: 0.0015 - accuracy: 0.997 - ETA: 23:39 - loss: 0.0015 - accuracy: 0.997 - ETA: 23:29 - loss: 0.0015 - accuracy: 0.997 - ETA: 23:18 - loss: 0.0016 - accuracy: 0.997 - ETA: 23:08 - loss: 0.0015 - accuracy: 0.997 - ETA: 22:58 - loss: 0.0015 - accuracy: 0.997 - ETA: 22:48 - loss: 0.0015 - accuracy: 0.997 - ETA: 22:38 - loss: 0.0015 - accuracy: 0.997 - ETA: 22:28 - loss: 0.0015 - accuracy: 0.997 - ETA: 22:18 - loss: 0.0015 - accuracy: 0.997 - ETA: 22:08 - loss: 0.0015 - accuracy: 0.997 - ETA: 21:58 - loss: 0.0015 - accuracy: 0.997 - ETA: 21:48 - loss: 0.0015 - accuracy: 0.997 - ETA: 21:38 - loss: 0.0015 - accuracy: 0.997 - ETA: 21:28 - loss: 0.0015 - accuracy: 0.997 - ETA: 21:19 - loss: 0.0016 - accuracy: 0.997 - ETA: 21:09 - loss: 0.0016 - accuracy: 0.997 - ETA: 20:59 - loss: 0.0016 - accuracy: 0.997 - ETA: 20:50 - loss: 0.0016 - accuracy: 0.997 - ETA: 20:40 - loss: 0.0016 - accuracy: 0.997 - ETA: 20:30 - loss: 0.0016 - accuracy: 0.997 - ETA: 20:20 - loss: 0.0016 - accuracy: 0.997 - ETA: 20:10 - loss: 0.0016 - accuracy: 0.997 - ETA: 20:00 - loss: 0.0016 - accuracy: 0.997 - ETA: 19:50 - loss: 0.0016 - accuracy: 0.997 - ETA: 19:40 - loss: 0.0016 - accuracy: 0.997 - ETA: 19:30 - loss: 0.0016 - accuracy: 0.997 - ETA: 19:20 - loss: 0.0016 - accuracy: 0.997 - ETA: 19:10 - loss: 0.0016 - accuracy: 0.997 - ETA: 19:00 - loss: 0.0016 - accuracy: 0.997 - ETA: 18:50 - loss: 0.0016 - accuracy: 0.997 - ETA: 18:40 - loss: 0.0016 - accuracy: 0.997 - ETA: 18:30 - loss: 0.0016 - accuracy: 0.997 - ETA: 18:20 - loss: 0.0016 - accuracy: 0.997 - ETA: 18:10 - loss: 0.0016 - accuracy: 0.997 - ETA: 18:00 - loss: 0.0016 - accuracy: 0.997 - ETA: 17:50 - loss: 0.0016 - accuracy: 0.9972"
     ]
    },
    {
     "name": "stdout",
     "output_type": "stream",
     "text": [
      "15457/15457 [==============================] - ETA: 17:40 - loss: 0.0016 - accuracy: 0.997 - ETA: 17:31 - loss: 0.0016 - accuracy: 0.997 - ETA: 17:21 - loss: 0.0016 - accuracy: 0.997 - ETA: 17:11 - loss: 0.0016 - accuracy: 0.997 - ETA: 17:01 - loss: 0.0016 - accuracy: 0.997 - ETA: 16:51 - loss: 0.0016 - accuracy: 0.997 - ETA: 16:41 - loss: 0.0016 - accuracy: 0.997 - ETA: 16:31 - loss: 0.0016 - accuracy: 0.997 - ETA: 16:21 - loss: 0.0016 - accuracy: 0.997 - ETA: 16:11 - loss: 0.0016 - accuracy: 0.997 - ETA: 16:01 - loss: 0.0016 - accuracy: 0.997 - ETA: 15:51 - loss: 0.0016 - accuracy: 0.997 - ETA: 15:41 - loss: 0.0016 - accuracy: 0.997 - ETA: 15:32 - loss: 0.0016 - accuracy: 0.997 - ETA: 15:22 - loss: 0.0016 - accuracy: 0.997 - ETA: 15:12 - loss: 0.0016 - accuracy: 0.997 - ETA: 15:02 - loss: 0.0016 - accuracy: 0.997 - ETA: 14:52 - loss: 0.0016 - accuracy: 0.997 - ETA: 14:42 - loss: 0.0016 - accuracy: 0.997 - ETA: 14:32 - loss: 0.0016 - accuracy: 0.997 - ETA: 14:22 - loss: 0.0017 - accuracy: 0.997 - ETA: 14:12 - loss: 0.0017 - accuracy: 0.997 - ETA: 14:02 - loss: 0.0017 - accuracy: 0.997 - ETA: 13:52 - loss: 0.0017 - accuracy: 0.997 - ETA: 13:42 - loss: 0.0017 - accuracy: 0.997 - ETA: 13:33 - loss: 0.0017 - accuracy: 0.997 - ETA: 13:23 - loss: 0.0017 - accuracy: 0.997 - ETA: 13:13 - loss: 0.0017 - accuracy: 0.997 - ETA: 13:03 - loss: 0.0017 - accuracy: 0.997 - ETA: 12:53 - loss: 0.0017 - accuracy: 0.997 - ETA: 12:43 - loss: 0.0017 - accuracy: 0.997 - ETA: 12:33 - loss: 0.0017 - accuracy: 0.997 - ETA: 12:23 - loss: 0.0017 - accuracy: 0.997 - ETA: 12:14 - loss: 0.0017 - accuracy: 0.997 - ETA: 12:04 - loss: 0.0017 - accuracy: 0.997 - ETA: 11:54 - loss: 0.0017 - accuracy: 0.997 - ETA: 11:44 - loss: 0.0017 - accuracy: 0.997 - ETA: 11:34 - loss: 0.0017 - accuracy: 0.997 - ETA: 11:24 - loss: 0.0017 - accuracy: 0.997 - ETA: 11:14 - loss: 0.0017 - accuracy: 0.997 - ETA: 11:04 - loss: 0.0017 - accuracy: 0.997 - ETA: 10:54 - loss: 0.0017 - accuracy: 0.997 - ETA: 10:44 - loss: 0.0017 - accuracy: 0.997 - ETA: 10:34 - loss: 0.0017 - accuracy: 0.997 - ETA: 10:25 - loss: 0.0017 - accuracy: 0.997 - ETA: 10:15 - loss: 0.0017 - accuracy: 0.997 - ETA: 10:05 - loss: 0.0017 - accuracy: 0.997 - ETA: 9:55 - loss: 0.0017 - accuracy: 0.997 - ETA: 9:45 - loss: 0.0017 - accuracy: 0.99 - ETA: 9:35 - loss: 0.0017 - accuracy: 0.99 - ETA: 9:25 - loss: 0.0017 - accuracy: 0.99 - ETA: 9:15 - loss: 0.0017 - accuracy: 0.99 - ETA: 9:05 - loss: 0.0017 - accuracy: 0.99 - ETA: 8:55 - loss: 0.0017 - accuracy: 0.99 - ETA: 8:46 - loss: 0.0017 - accuracy: 0.99 - ETA: 8:36 - loss: 0.0017 - accuracy: 0.99 - ETA: 8:26 - loss: 0.0017 - accuracy: 0.99 - ETA: 8:16 - loss: 0.0017 - accuracy: 0.99 - ETA: 8:06 - loss: 0.0017 - accuracy: 0.99 - ETA: 7:56 - loss: 0.0017 - accuracy: 0.99 - ETA: 7:46 - loss: 0.0017 - accuracy: 0.99 - ETA: 7:36 - loss: 0.0017 - accuracy: 0.99 - ETA: 7:26 - loss: 0.0017 - accuracy: 0.99 - ETA: 7:16 - loss: 0.0017 - accuracy: 0.99 - ETA: 7:07 - loss: 0.0017 - accuracy: 0.99 - ETA: 6:57 - loss: 0.0017 - accuracy: 0.99 - ETA: 6:47 - loss: 0.0017 - accuracy: 0.99 - ETA: 6:37 - loss: 0.0017 - accuracy: 0.99 - ETA: 6:27 - loss: 0.0017 - accuracy: 0.99 - ETA: 6:17 - loss: 0.0017 - accuracy: 0.99 - ETA: 6:07 - loss: 0.0017 - accuracy: 0.99 - ETA: 5:57 - loss: 0.0017 - accuracy: 0.99 - ETA: 5:48 - loss: 0.0017 - accuracy: 0.99 - ETA: 5:38 - loss: 0.0017 - accuracy: 0.99 - ETA: 5:28 - loss: 0.0017 - accuracy: 0.99 - ETA: 5:18 - loss: 0.0017 - accuracy: 0.99 - ETA: 5:08 - loss: 0.0017 - accuracy: 0.99 - ETA: 4:58 - loss: 0.0017 - accuracy: 0.99 - ETA: 4:48 - loss: 0.0017 - accuracy: 0.99 - ETA: 4:38 - loss: 0.0017 - accuracy: 0.99 - ETA: 4:28 - loss: 0.0017 - accuracy: 0.99 - ETA: 4:18 - loss: 0.0017 - accuracy: 0.99 - ETA: 4:08 - loss: 0.0017 - accuracy: 0.99 - ETA: 3:59 - loss: 0.0017 - accuracy: 0.99 - ETA: 3:49 - loss: 0.0017 - accuracy: 0.99 - ETA: 3:39 - loss: 0.0017 - accuracy: 0.99 - ETA: 3:29 - loss: 0.0017 - accuracy: 0.99 - ETA: 3:19 - loss: 0.0017 - accuracy: 0.99 - ETA: 3:09 - loss: 0.0017 - accuracy: 0.99 - ETA: 2:59 - loss: 0.0017 - accuracy: 0.99 - ETA: 2:49 - loss: 0.0017 - accuracy: 0.99 - ETA: 2:39 - loss: 0.0017 - accuracy: 0.99 - ETA: 2:29 - loss: 0.0017 - accuracy: 0.99 - ETA: 2:19 - loss: 0.0017 - accuracy: 0.99 - ETA: 2:09 - loss: 0.0017 - accuracy: 0.99 - ETA: 1:59 - loss: 0.0017 - accuracy: 0.99 - ETA: 1:49 - loss: 0.0017 - accuracy: 0.99 - ETA: 1:40 - loss: 0.0017 - accuracy: 0.99 - ETA: 1:30 - loss: 0.0017 - accuracy: 0.99 - ETA: 1:20 - loss: 0.0017 - accuracy: 0.99 - ETA: 1:10 - loss: 0.0017 - accuracy: 0.99 - ETA: 1:00 - loss: 0.0017 - accuracy: 0.99 - ETA: 50s - loss: 0.0017 - accuracy: 0.9970 - ETA: 40s - loss: 0.0017 - accuracy: 0.997 - ETA: 30s - loss: 0.0017 - accuracy: 0.997 - ETA: 20s - loss: 0.0017 - accuracy: 0.997 - ETA: 10s - loss: 0.0017 - accuracy: 0.997 - ETA: 0s - loss: 0.0017 - accuracy: 0.997 - 10213s 661ms/step - loss: 0.0017 - accuracy: 0.9970 - val_loss: 0.0120 - val_accuracy: 0.9864\n",
      "\n",
      "Epoch 00006: val_loss did not improve from 0.00730\n",
      "Epoch 7/30\n"
     ]
    },
    {
     "name": "stdout",
     "output_type": "stream",
     "text": [
      " 2704/15457 [====>.........................] - ETA: 2:42:17 - loss: 4.2296e-05 - accuracy: 1.000 - ETA: 2:37:54 - loss: 4.3834e-05 - accuracy: 1.000 - ETA: 2:35:49 - loss: 4.2281e-04 - accuracy: 0.998 - ETA: 2:35:54 - loss: 5.1489e-04 - accuracy: 0.999 - ETA: 2:37:10 - loss: 4.2513e-04 - accuracy: 0.999 - ETA: 2:38:02 - loss: 4.0694e-04 - accuracy: 0.999 - ETA: 2:37:45 - loss: 9.6818e-04 - accuracy: 0.998 - ETA: 2:38:10 - loss: 9.8586e-04 - accuracy: 0.997 - ETA: 2:37:18 - loss: 9.4295e-04 - accuracy: 0.998 - ETA: 2:37:18 - loss: 8.5162e-04 - accuracy: 0.998 - ETA: 2:36:58 - loss: 8.5963e-04 - accuracy: 0.998 - ETA: 2:36:30 - loss: 7.8914e-04 - accuracy: 0.998 - ETA: 2:35:59 - loss: 0.0013 - accuracy: 0.9973    - ETA: 2:36:16 - loss: 0.0012 - accuracy: 0.997 - ETA: 2:36:31 - loss: 0.0011 - accuracy: 0.997 - ETA: 2:36:58 - loss: 0.0011 - accuracy: 0.997 - ETA: 2:37:01 - loss: 0.0012 - accuracy: 0.997 - ETA: 2:37:02 - loss: 0.0012 - accuracy: 0.997 - ETA: 2:37:04 - loss: 0.0012 - accuracy: 0.997 - ETA: 2:38:07 - loss: 0.0012 - accuracy: 0.997 - ETA: 2:38:41 - loss: 0.0012 - accuracy: 0.997 - ETA: 2:38:52 - loss: 0.0012 - accuracy: 0.997 - ETA: 2:38:58 - loss: 0.0011 - accuracy: 0.997 - ETA: 2:39:05 - loss: 0.0011 - accuracy: 0.997 - ETA: 2:38:41 - loss: 0.0012 - accuracy: 0.997 - ETA: 2:38:47 - loss: 0.0013 - accuracy: 0.997 - ETA: 2:39:03 - loss: 0.0013 - accuracy: 0.997 - ETA: 2:38:51 - loss: 0.0013 - accuracy: 0.997 - ETA: 2:38:48 - loss: 0.0013 - accuracy: 0.997 - ETA: 2:39:12 - loss: 0.0013 - accuracy: 0.997 - ETA: 2:39:10 - loss: 0.0012 - accuracy: 0.997 - ETA: 2:39:09 - loss: 0.0012 - accuracy: 0.997 - ETA: 2:39:00 - loss: 0.0012 - accuracy: 0.997 - ETA: 2:39:27 - loss: 0.0011 - accuracy: 0.997 - ETA: 2:39:47 - loss: 0.0011 - accuracy: 0.997 - ETA: 2:39:50 - loss: 0.0011 - accuracy: 0.997 - ETA: 2:39:47 - loss: 0.0011 - accuracy: 0.997 - ETA: 2:40:05 - loss: 0.0011 - accuracy: 0.997 - ETA: 2:40:08 - loss: 0.0011 - accuracy: 0.997 - ETA: 2:40:17 - loss: 0.0011 - accuracy: 0.997 - ETA: 2:40:43 - loss: 0.0011 - accuracy: 0.997 - ETA: 2:40:38 - loss: 0.0011 - accuracy: 0.997 - ETA: 2:40:31 - loss: 0.0011 - accuracy: 0.997 - ETA: 2:40:21 - loss: 0.0012 - accuracy: 0.997 - ETA: 2:40:07 - loss: 0.0012 - accuracy: 0.997 - ETA: 2:40:07 - loss: 0.0012 - accuracy: 0.997 - ETA: 2:40:18 - loss: 0.0011 - accuracy: 0.997 - ETA: 2:40:21 - loss: 0.0012 - accuracy: 0.997 - ETA: 2:40:24 - loss: 0.0012 - accuracy: 0.997 - ETA: 2:40:15 - loss: 0.0012 - accuracy: 0.997 - ETA: 2:40:05 - loss: 0.0012 - accuracy: 0.997 - ETA: 2:40:12 - loss: 0.0011 - accuracy: 0.997 - ETA: 2:40:10 - loss: 0.0012 - accuracy: 0.997 - ETA: 2:40:14 - loss: 0.0012 - accuracy: 0.997 - ETA: 2:40:22 - loss: 0.0012 - accuracy: 0.997 - ETA: 2:40:31 - loss: 0.0013 - accuracy: 0.997 - ETA: 2:40:24 - loss: 0.0013 - accuracy: 0.997 - ETA: 2:40:13 - loss: 0.0013 - accuracy: 0.997 - ETA: 2:40:12 - loss: 0.0013 - accuracy: 0.997 - ETA: 2:40:07 - loss: 0.0013 - accuracy: 0.997 - ETA: 2:40:04 - loss: 0.0013 - accuracy: 0.997 - ETA: 2:39:58 - loss: 0.0013 - accuracy: 0.997 - ETA: 2:39:57 - loss: 0.0014 - accuracy: 0.997 - ETA: 2:39:56 - loss: 0.0014 - accuracy: 0.997 - ETA: 2:40:08 - loss: 0.0014 - accuracy: 0.997 - ETA: 2:40:11 - loss: 0.0014 - accuracy: 0.997 - ETA: 2:40:21 - loss: 0.0014 - accuracy: 0.997 - ETA: 2:40:23 - loss: 0.0014 - accuracy: 0.997 - ETA: 2:40:43 - loss: 0.0013 - accuracy: 0.997 - ETA: 2:41:01 - loss: 0.0013 - accuracy: 0.997 - ETA: 2:40:55 - loss: 0.0013 - accuracy: 0.997 - ETA: 2:40:56 - loss: 0.0014 - accuracy: 0.997 - ETA: 2:40:48 - loss: 0.0013 - accuracy: 0.997 - ETA: 2:40:48 - loss: 0.0014 - accuracy: 0.997 - ETA: 2:40:39 - loss: 0.0013 - accuracy: 0.997 - ETA: 2:40:37 - loss: 0.0013 - accuracy: 0.997 - ETA: 2:40:32 - loss: 0.0013 - accuracy: 0.997 - ETA: 2:40:21 - loss: 0.0013 - accuracy: 0.997 - ETA: 2:40:06 - loss: 0.0013 - accuracy: 0.997 - ETA: 2:39:50 - loss: 0.0014 - accuracy: 0.997 - ETA: 2:39:38 - loss: 0.0013 - accuracy: 0.997 - ETA: 2:39:29 - loss: 0.0013 - accuracy: 0.997 - ETA: 2:39:23 - loss: 0.0013 - accuracy: 0.997 - ETA: 2:39:28 - loss: 0.0013 - accuracy: 0.997 - ETA: 2:39:25 - loss: 0.0013 - accuracy: 0.997 - ETA: 2:39:23 - loss: 0.0013 - accuracy: 0.997 - ETA: 2:39:17 - loss: 0.0013 - accuracy: 0.997 - ETA: 2:39:24 - loss: 0.0013 - accuracy: 0.997 - ETA: 2:39:17 - loss: 0.0013 - accuracy: 0.997 - ETA: 2:39:07 - loss: 0.0014 - accuracy: 0.997 - ETA: 2:38:57 - loss: 0.0014 - accuracy: 0.997 - ETA: 2:38:38 - loss: 0.0014 - accuracy: 0.997 - ETA: 2:38:23 - loss: 0.0014 - accuracy: 0.997 - ETA: 2:38:04 - loss: 0.0014 - accuracy: 0.997 - ETA: 2:37:51 - loss: 0.0014 - accuracy: 0.997 - ETA: 2:37:40 - loss: 0.0014 - accuracy: 0.997 - ETA: 2:37:28 - loss: 0.0014 - accuracy: 0.997 - ETA: 2:37:12 - loss: 0.0014 - accuracy: 0.997 - ETA: 2:36:55 - loss: 0.0014 - accuracy: 0.997 - ETA: 2:36:41 - loss: 0.0014 - accuracy: 0.997 - ETA: 2:36:30 - loss: 0.0014 - accuracy: 0.997 - ETA: 2:36:18 - loss: 0.0014 - accuracy: 0.997 - ETA: 2:36:04 - loss: 0.0014 - accuracy: 0.997 - ETA: 2:35:51 - loss: 0.0015 - accuracy: 0.997 - ETA: 2:35:40 - loss: 0.0015 - accuracy: 0.997 - ETA: 2:35:23 - loss: 0.0015 - accuracy: 0.997 - ETA: 2:35:07 - loss: 0.0015 - accuracy: 0.997 - ETA: 2:34:52 - loss: 0.0015 - accuracy: 0.997 - ETA: 2:34:40 - loss: 0.0014 - accuracy: 0.997 - ETA: 2:34:30 - loss: 0.0014 - accuracy: 0.997 - ETA: 2:34:13 - loss: 0.0014 - accuracy: 0.997 - ETA: 2:33:57 - loss: 0.0014 - accuracy: 0.997 - ETA: 2:33:48 - loss: 0.0014 - accuracy: 0.997 - ETA: 2:33:39 - loss: 0.0014 - accuracy: 0.997 - ETA: 2:33:27 - loss: 0.0014 - accuracy: 0.997 - ETA: 2:33:20 - loss: 0.0014 - accuracy: 0.997 - ETA: 2:33:17 - loss: 0.0014 - accuracy: 0.997 - ETA: 2:33:10 - loss: 0.0014 - accuracy: 0.997 - ETA: 2:33:02 - loss: 0.0014 - accuracy: 0.997 - ETA: 2:32:50 - loss: 0.0014 - accuracy: 0.997 - ETA: 2:32:34 - loss: 0.0015 - accuracy: 0.997 - ETA: 2:32:22 - loss: 0.0014 - accuracy: 0.997 - ETA: 2:32:12 - loss: 0.0014 - accuracy: 0.997 - ETA: 2:32:03 - loss: 0.0014 - accuracy: 0.997 - ETA: 2:32:03 - loss: 0.0014 - accuracy: 0.997 - ETA: 2:31:54 - loss: 0.0014 - accuracy: 0.997 - ETA: 2:31:47 - loss: 0.0014 - accuracy: 0.997 - ETA: 2:31:38 - loss: 0.0014 - accuracy: 0.997 - ETA: 2:31:28 - loss: 0.0014 - accuracy: 0.997 - ETA: 2:31:15 - loss: 0.0014 - accuracy: 0.997 - ETA: 2:31:07 - loss: 0.0014 - accuracy: 0.997 - ETA: 2:30:54 - loss: 0.0014 - accuracy: 0.997 - ETA: 2:30:41 - loss: 0.0014 - accuracy: 0.997 - ETA: 2:30:29 - loss: 0.0014 - accuracy: 0.997 - ETA: 2:30:16 - loss: 0.0014 - accuracy: 0.997 - ETA: 2:30:05 - loss: 0.0014 - accuracy: 0.997 - ETA: 2:29:52 - loss: 0.0014 - accuracy: 0.997 - ETA: 2:29:42 - loss: 0.0014 - accuracy: 0.997 - ETA: 2:29:33 - loss: 0.0014 - accuracy: 0.997 - ETA: 2:29:21 - loss: 0.0014 - accuracy: 0.997 - ETA: 2:29:13 - loss: 0.0014 - accuracy: 0.997 - ETA: 2:29:02 - loss: 0.0014 - accuracy: 0.997 - ETA: 2:28:52 - loss: 0.0014 - accuracy: 0.997 - ETA: 2:28:47 - loss: 0.0014 - accuracy: 0.997 - ETA: 2:28:37 - loss: 0.0014 - accuracy: 0.997 - ETA: 2:28:26 - loss: 0.0014 - accuracy: 0.997 - ETA: 2:28:18 - loss: 0.0014 - accuracy: 0.997 - ETA: 2:28:07 - loss: 0.0014 - accuracy: 0.997 - ETA: 2:27:55 - loss: 0.0014 - accuracy: 0.997 - ETA: 2:27:44 - loss: 0.0014 - accuracy: 0.997 - ETA: 2:27:35 - loss: 0.0014 - accuracy: 0.997 - ETA: 2:27:23 - loss: 0.0014 - accuracy: 0.997 - ETA: 2:27:10 - loss: 0.0014 - accuracy: 0.997 - ETA: 2:27:01 - loss: 0.0014 - accuracy: 0.997 - ETA: 2:26:51 - loss: 0.0014 - accuracy: 0.997 - ETA: 2:26:40 - loss: 0.0014 - accuracy: 0.997 - ETA: 2:26:28 - loss: 0.0013 - accuracy: 0.997 - ETA: 2:26:18 - loss: 0.0013 - accuracy: 0.997 - ETA: 2:26:06 - loss: 0.0013 - accuracy: 0.997 - ETA: 2:25:56 - loss: 0.0013 - accuracy: 0.997 - ETA: 2:25:45 - loss: 0.0013 - accuracy: 0.997 - ETA: 2:25:32 - loss: 0.0013 - accuracy: 0.997 - ETA: 2:25:19 - loss: 0.0013 - accuracy: 0.997 - ETA: 2:25:07 - loss: 0.0013 - accuracy: 0.997 - ETA: 2:24:56 - loss: 0.0013 - accuracy: 0.997 - ETA: 2:24:48 - loss: 0.0013 - accuracy: 0.997 - ETA: 2:24:38 - loss: 0.0013 - accuracy: 0.997 - ETA: 2:24:26 - loss: 0.0013 - accuracy: 0.997 - ETA: 2:24:14 - loss: 0.0013 - accuracy: 0.9978 5424/15457 [=========>....................] - ETA: 2:24:04 - loss: 0.0013 - accuracy: 0.997 - ETA: 2:23:54 - loss: 0.0013 - accuracy: 0.997 - ETA: 2:23:45 - loss: 0.0013 - accuracy: 0.997 - ETA: 2:23:33 - loss: 0.0013 - accuracy: 0.997 - ETA: 2:23:22 - loss: 0.0014 - accuracy: 0.997 - ETA: 2:23:11 - loss: 0.0014 - accuracy: 0.997 - ETA: 2:23:00 - loss: 0.0013 - accuracy: 0.997 - ETA: 2:22:50 - loss: 0.0013 - accuracy: 0.997 - ETA: 2:22:39 - loss: 0.0013 - accuracy: 0.997 - ETA: 2:22:29 - loss: 0.0013 - accuracy: 0.997 - ETA: 2:22:19 - loss: 0.0013 - accuracy: 0.997 - ETA: 2:22:09 - loss: 0.0013 - accuracy: 0.997 - ETA: 2:21:58 - loss: 0.0013 - accuracy: 0.997 - ETA: 2:21:50 - loss: 0.0013 - accuracy: 0.997 - ETA: 2:21:39 - loss: 0.0013 - accuracy: 0.997 - ETA: 2:21:30 - loss: 0.0013 - accuracy: 0.997 - ETA: 2:21:19 - loss: 0.0013 - accuracy: 0.997 - ETA: 2:21:08 - loss: 0.0013 - accuracy: 0.997 - ETA: 2:20:57 - loss: 0.0013 - accuracy: 0.997 - ETA: 2:20:47 - loss: 0.0013 - accuracy: 0.997 - ETA: 2:20:36 - loss: 0.0013 - accuracy: 0.997 - ETA: 2:20:24 - loss: 0.0013 - accuracy: 0.997 - ETA: 2:20:12 - loss: 0.0013 - accuracy: 0.997 - ETA: 2:20:01 - loss: 0.0013 - accuracy: 0.997 - ETA: 2:19:51 - loss: 0.0013 - accuracy: 0.997 - ETA: 2:19:42 - loss: 0.0013 - accuracy: 0.997 - ETA: 2:19:32 - loss: 0.0013 - accuracy: 0.997 - ETA: 2:19:22 - loss: 0.0013 - accuracy: 0.997 - ETA: 2:19:13 - loss: 0.0013 - accuracy: 0.997 - ETA: 2:19:04 - loss: 0.0013 - accuracy: 0.997 - ETA: 2:18:54 - loss: 0.0013 - accuracy: 0.997 - ETA: 2:18:43 - loss: 0.0013 - accuracy: 0.997 - ETA: 2:18:32 - loss: 0.0013 - accuracy: 0.997 - ETA: 2:18:22 - loss: 0.0013 - accuracy: 0.997 - ETA: 2:18:10 - loss: 0.0013 - accuracy: 0.997 - ETA: 2:17:59 - loss: 0.0013 - accuracy: 0.997 - ETA: 2:17:50 - loss: 0.0013 - accuracy: 0.997 - ETA: 2:17:38 - loss: 0.0014 - accuracy: 0.997 - ETA: 2:17:28 - loss: 0.0014 - accuracy: 0.997 - ETA: 2:17:17 - loss: 0.0013 - accuracy: 0.997 - ETA: 2:17:06 - loss: 0.0013 - accuracy: 0.997 - ETA: 2:16:55 - loss: 0.0013 - accuracy: 0.997 - ETA: 2:16:45 - loss: 0.0014 - accuracy: 0.997 - ETA: 2:16:35 - loss: 0.0013 - accuracy: 0.997 - ETA: 2:16:23 - loss: 0.0013 - accuracy: 0.997 - ETA: 2:16:12 - loss: 0.0014 - accuracy: 0.997 - ETA: 2:16:01 - loss: 0.0014 - accuracy: 0.997 - ETA: 2:15:50 - loss: 0.0014 - accuracy: 0.997 - ETA: 2:15:41 - loss: 0.0014 - accuracy: 0.997 - ETA: 2:15:30 - loss: 0.0014 - accuracy: 0.997 - ETA: 2:15:19 - loss: 0.0014 - accuracy: 0.997 - ETA: 2:15:08 - loss: 0.0014 - accuracy: 0.997 - ETA: 2:14:57 - loss: 0.0014 - accuracy: 0.997 - ETA: 2:14:46 - loss: 0.0014 - accuracy: 0.997 - ETA: 2:14:38 - loss: 0.0014 - accuracy: 0.997 - ETA: 2:14:28 - loss: 0.0014 - accuracy: 0.997 - ETA: 2:14:18 - loss: 0.0014 - accuracy: 0.997 - ETA: 2:14:06 - loss: 0.0014 - accuracy: 0.997 - ETA: 2:13:56 - loss: 0.0014 - accuracy: 0.997 - ETA: 2:13:46 - loss: 0.0014 - accuracy: 0.997 - ETA: 2:13:35 - loss: 0.0014 - accuracy: 0.997 - ETA: 2:13:25 - loss: 0.0014 - accuracy: 0.997 - ETA: 2:13:14 - loss: 0.0014 - accuracy: 0.997 - ETA: 2:13:03 - loss: 0.0014 - accuracy: 0.997 - ETA: 2:12:54 - loss: 0.0014 - accuracy: 0.997 - ETA: 2:12:46 - loss: 0.0014 - accuracy: 0.997 - ETA: 2:12:37 - loss: 0.0014 - accuracy: 0.997 - ETA: 2:12:27 - loss: 0.0014 - accuracy: 0.997 - ETA: 2:12:16 - loss: 0.0014 - accuracy: 0.997 - ETA: 2:12:06 - loss: 0.0014 - accuracy: 0.997 - ETA: 2:11:56 - loss: 0.0014 - accuracy: 0.997 - ETA: 2:11:46 - loss: 0.0014 - accuracy: 0.997 - ETA: 2:11:35 - loss: 0.0014 - accuracy: 0.997 - ETA: 2:11:24 - loss: 0.0014 - accuracy: 0.997 - ETA: 2:11:12 - loss: 0.0014 - accuracy: 0.997 - ETA: 2:11:02 - loss: 0.0014 - accuracy: 0.997 - ETA: 2:10:51 - loss: 0.0014 - accuracy: 0.997 - ETA: 2:10:41 - loss: 0.0014 - accuracy: 0.997 - ETA: 2:10:31 - loss: 0.0014 - accuracy: 0.997 - ETA: 2:10:21 - loss: 0.0014 - accuracy: 0.997 - ETA: 2:10:11 - loss: 0.0014 - accuracy: 0.997 - ETA: 2:10:00 - loss: 0.0014 - accuracy: 0.997 - ETA: 2:09:52 - loss: 0.0014 - accuracy: 0.997 - ETA: 2:09:41 - loss: 0.0014 - accuracy: 0.997 - ETA: 2:09:31 - loss: 0.0014 - accuracy: 0.997 - ETA: 2:09:20 - loss: 0.0014 - accuracy: 0.997 - ETA: 2:09:09 - loss: 0.0014 - accuracy: 0.997 - ETA: 2:08:58 - loss: 0.0014 - accuracy: 0.997 - ETA: 2:08:49 - loss: 0.0014 - accuracy: 0.997 - ETA: 2:08:39 - loss: 0.0014 - accuracy: 0.997 - ETA: 2:08:27 - loss: 0.0014 - accuracy: 0.997 - ETA: 2:08:16 - loss: 0.0014 - accuracy: 0.997 - ETA: 2:08:05 - loss: 0.0014 - accuracy: 0.997 - ETA: 2:07:54 - loss: 0.0014 - accuracy: 0.997 - ETA: 2:07:44 - loss: 0.0014 - accuracy: 0.997 - ETA: 2:07:33 - loss: 0.0014 - accuracy: 0.997 - ETA: 2:07:22 - loss: 0.0014 - accuracy: 0.997 - ETA: 2:07:12 - loss: 0.0014 - accuracy: 0.997 - ETA: 2:07:01 - loss: 0.0014 - accuracy: 0.997 - ETA: 2:06:49 - loss: 0.0014 - accuracy: 0.997 - ETA: 2:06:40 - loss: 0.0014 - accuracy: 0.997 - ETA: 2:06:28 - loss: 0.0014 - accuracy: 0.997 - ETA: 2:06:17 - loss: 0.0014 - accuracy: 0.997 - ETA: 2:06:06 - loss: 0.0014 - accuracy: 0.997 - ETA: 2:05:55 - loss: 0.0014 - accuracy: 0.997 - ETA: 2:05:45 - loss: 0.0014 - accuracy: 0.997 - ETA: 2:05:34 - loss: 0.0014 - accuracy: 0.997 - ETA: 2:05:24 - loss: 0.0014 - accuracy: 0.997 - ETA: 2:05:14 - loss: 0.0014 - accuracy: 0.997 - ETA: 2:05:04 - loss: 0.0014 - accuracy: 0.997 - ETA: 2:04:53 - loss: 0.0014 - accuracy: 0.997 - ETA: 2:04:44 - loss: 0.0014 - accuracy: 0.997 - ETA: 2:04:33 - loss: 0.0014 - accuracy: 0.997 - ETA: 2:04:22 - loss: 0.0014 - accuracy: 0.997 - ETA: 2:04:11 - loss: 0.0014 - accuracy: 0.997 - ETA: 2:04:00 - loss: 0.0014 - accuracy: 0.997 - ETA: 2:03:49 - loss: 0.0014 - accuracy: 0.997 - ETA: 2:03:39 - loss: 0.0014 - accuracy: 0.997 - ETA: 2:03:28 - loss: 0.0014 - accuracy: 0.997 - ETA: 2:03:18 - loss: 0.0014 - accuracy: 0.997 - ETA: 2:03:08 - loss: 0.0014 - accuracy: 0.997 - ETA: 2:02:57 - loss: 0.0014 - accuracy: 0.997 - ETA: 2:02:47 - loss: 0.0014 - accuracy: 0.997 - ETA: 2:02:37 - loss: 0.0014 - accuracy: 0.997 - ETA: 2:02:27 - loss: 0.0014 - accuracy: 0.997 - ETA: 2:02:16 - loss: 0.0014 - accuracy: 0.997 - ETA: 2:02:05 - loss: 0.0014 - accuracy: 0.997 - ETA: 2:01:54 - loss: 0.0014 - accuracy: 0.997 - ETA: 2:01:43 - loss: 0.0014 - accuracy: 0.997 - ETA: 2:01:32 - loss: 0.0014 - accuracy: 0.997 - ETA: 2:01:22 - loss: 0.0014 - accuracy: 0.997 - ETA: 2:01:11 - loss: 0.0014 - accuracy: 0.997 - ETA: 2:01:01 - loss: 0.0014 - accuracy: 0.997 - ETA: 2:00:50 - loss: 0.0014 - accuracy: 0.997 - ETA: 2:00:40 - loss: 0.0014 - accuracy: 0.997 - ETA: 2:00:30 - loss: 0.0014 - accuracy: 0.997 - ETA: 2:00:20 - loss: 0.0014 - accuracy: 0.997 - ETA: 2:00:11 - loss: 0.0014 - accuracy: 0.997 - ETA: 2:00:00 - loss: 0.0014 - accuracy: 0.997 - ETA: 1:59:49 - loss: 0.0014 - accuracy: 0.997 - ETA: 1:59:40 - loss: 0.0014 - accuracy: 0.997 - ETA: 1:59:29 - loss: 0.0014 - accuracy: 0.997 - ETA: 1:59:19 - loss: 0.0014 - accuracy: 0.997 - ETA: 1:59:08 - loss: 0.0014 - accuracy: 0.997 - ETA: 1:58:56 - loss: 0.0014 - accuracy: 0.997 - ETA: 1:58:45 - loss: 0.0014 - accuracy: 0.997 - ETA: 1:58:35 - loss: 0.0014 - accuracy: 0.997 - ETA: 1:58:24 - loss: 0.0014 - accuracy: 0.997 - ETA: 1:58:14 - loss: 0.0014 - accuracy: 0.997 - ETA: 1:58:03 - loss: 0.0014 - accuracy: 0.997 - ETA: 1:57:52 - loss: 0.0014 - accuracy: 0.997 - ETA: 1:57:42 - loss: 0.0014 - accuracy: 0.997 - ETA: 1:57:30 - loss: 0.0014 - accuracy: 0.997 - ETA: 1:57:19 - loss: 0.0014 - accuracy: 0.997 - ETA: 1:57:08 - loss: 0.0014 - accuracy: 0.997 - ETA: 1:56:57 - loss: 0.0014 - accuracy: 0.997 - ETA: 1:56:45 - loss: 0.0014 - accuracy: 0.997 - ETA: 1:56:35 - loss: 0.0014 - accuracy: 0.997 - ETA: 1:56:24 - loss: 0.0014 - accuracy: 0.997 - ETA: 1:56:14 - loss: 0.0014 - accuracy: 0.997 - ETA: 1:56:02 - loss: 0.0014 - accuracy: 0.997 - ETA: 1:55:51 - loss: 0.0014 - accuracy: 0.997 - ETA: 1:55:41 - loss: 0.0014 - accuracy: 0.997 - ETA: 1:55:31 - loss: 0.0014 - accuracy: 0.997 - ETA: 1:55:20 - loss: 0.0014 - accuracy: 0.997 - ETA: 1:55:09 - loss: 0.0014 - accuracy: 0.997 - ETA: 1:54:59 - loss: 0.0014 - accuracy: 0.997 - ETA: 1:54:48 - loss: 0.0014 - accuracy: 0.997 - ETA: 1:54:37 - loss: 0.0014 - accuracy: 0.997 - ETA: 1:54:27 - loss: 0.0014 - accuracy: 0.9975"
     ]
    },
    {
     "name": "stdout",
     "output_type": "stream",
     "text": [
      " 8144/15457 [==============>...............] - ETA: 1:54:16 - loss: 0.0014 - accuracy: 0.997 - ETA: 1:54:05 - loss: 0.0014 - accuracy: 0.997 - ETA: 1:53:54 - loss: 0.0014 - accuracy: 0.997 - ETA: 1:53:44 - loss: 0.0014 - accuracy: 0.997 - ETA: 1:53:34 - loss: 0.0014 - accuracy: 0.997 - ETA: 1:53:23 - loss: 0.0014 - accuracy: 0.997 - ETA: 1:53:13 - loss: 0.0014 - accuracy: 0.997 - ETA: 1:53:03 - loss: 0.0014 - accuracy: 0.997 - ETA: 1:52:52 - loss: 0.0014 - accuracy: 0.997 - ETA: 1:52:41 - loss: 0.0014 - accuracy: 0.997 - ETA: 1:52:32 - loss: 0.0014 - accuracy: 0.997 - ETA: 1:52:21 - loss: 0.0014 - accuracy: 0.997 - ETA: 1:52:10 - loss: 0.0014 - accuracy: 0.997 - ETA: 1:51:59 - loss: 0.0014 - accuracy: 0.997 - ETA: 1:51:48 - loss: 0.0014 - accuracy: 0.997 - ETA: 1:51:38 - loss: 0.0014 - accuracy: 0.997 - ETA: 1:51:30 - loss: 0.0014 - accuracy: 0.997 - ETA: 1:51:21 - loss: 0.0014 - accuracy: 0.997 - ETA: 1:51:10 - loss: 0.0014 - accuracy: 0.997 - ETA: 1:51:00 - loss: 0.0014 - accuracy: 0.997 - ETA: 1:50:50 - loss: 0.0014 - accuracy: 0.997 - ETA: 1:50:41 - loss: 0.0014 - accuracy: 0.997 - ETA: 1:50:30 - loss: 0.0014 - accuracy: 0.997 - ETA: 1:50:19 - loss: 0.0014 - accuracy: 0.997 - ETA: 1:50:09 - loss: 0.0014 - accuracy: 0.997 - ETA: 1:49:58 - loss: 0.0014 - accuracy: 0.997 - ETA: 1:49:47 - loss: 0.0014 - accuracy: 0.997 - ETA: 1:49:37 - loss: 0.0014 - accuracy: 0.997 - ETA: 1:49:26 - loss: 0.0014 - accuracy: 0.997 - ETA: 1:49:15 - loss: 0.0014 - accuracy: 0.997 - ETA: 1:49:04 - loss: 0.0014 - accuracy: 0.997 - ETA: 1:48:52 - loss: 0.0014 - accuracy: 0.997 - ETA: 1:48:42 - loss: 0.0014 - accuracy: 0.997 - ETA: 1:48:31 - loss: 0.0014 - accuracy: 0.997 - ETA: 1:48:20 - loss: 0.0014 - accuracy: 0.997 - ETA: 1:48:09 - loss: 0.0014 - accuracy: 0.997 - ETA: 1:47:58 - loss: 0.0014 - accuracy: 0.997 - ETA: 1:47:47 - loss: 0.0014 - accuracy: 0.997 - ETA: 1:47:36 - loss: 0.0014 - accuracy: 0.997 - ETA: 1:47:25 - loss: 0.0014 - accuracy: 0.997 - ETA: 1:47:14 - loss: 0.0014 - accuracy: 0.997 - ETA: 1:47:02 - loss: 0.0014 - accuracy: 0.997 - ETA: 1:46:52 - loss: 0.0014 - accuracy: 0.997 - ETA: 1:46:41 - loss: 0.0014 - accuracy: 0.997 - ETA: 1:46:30 - loss: 0.0014 - accuracy: 0.997 - ETA: 1:46:19 - loss: 0.0014 - accuracy: 0.997 - ETA: 1:46:08 - loss: 0.0014 - accuracy: 0.997 - ETA: 1:45:58 - loss: 0.0014 - accuracy: 0.997 - ETA: 1:45:47 - loss: 0.0014 - accuracy: 0.997 - ETA: 1:45:36 - loss: 0.0014 - accuracy: 0.997 - ETA: 1:45:25 - loss: 0.0014 - accuracy: 0.997 - ETA: 1:45:14 - loss: 0.0014 - accuracy: 0.997 - ETA: 1:45:03 - loss: 0.0014 - accuracy: 0.997 - ETA: 1:44:52 - loss: 0.0014 - accuracy: 0.997 - ETA: 1:44:41 - loss: 0.0014 - accuracy: 0.997 - ETA: 1:44:31 - loss: 0.0014 - accuracy: 0.997 - ETA: 1:44:21 - loss: 0.0014 - accuracy: 0.997 - ETA: 1:44:12 - loss: 0.0014 - accuracy: 0.997 - ETA: 1:44:02 - loss: 0.0014 - accuracy: 0.997 - ETA: 1:43:53 - loss: 0.0014 - accuracy: 0.997 - ETA: 1:43:44 - loss: 0.0014 - accuracy: 0.997 - ETA: 1:43:34 - loss: 0.0014 - accuracy: 0.997 - ETA: 1:43:24 - loss: 0.0014 - accuracy: 0.997 - ETA: 1:43:13 - loss: 0.0014 - accuracy: 0.997 - ETA: 1:43:02 - loss: 0.0014 - accuracy: 0.997 - ETA: 1:42:50 - loss: 0.0014 - accuracy: 0.997 - ETA: 1:42:39 - loss: 0.0014 - accuracy: 0.997 - ETA: 1:42:29 - loss: 0.0014 - accuracy: 0.997 - ETA: 1:42:18 - loss: 0.0014 - accuracy: 0.997 - ETA: 1:42:07 - loss: 0.0014 - accuracy: 0.997 - ETA: 1:41:57 - loss: 0.0014 - accuracy: 0.997 - ETA: 1:41:46 - loss: 0.0014 - accuracy: 0.997 - ETA: 1:41:35 - loss: 0.0014 - accuracy: 0.997 - ETA: 1:41:25 - loss: 0.0014 - accuracy: 0.997 - ETA: 1:41:17 - loss: 0.0014 - accuracy: 0.997 - ETA: 1:41:08 - loss: 0.0014 - accuracy: 0.997 - ETA: 1:41:00 - loss: 0.0014 - accuracy: 0.997 - ETA: 1:40:51 - loss: 0.0014 - accuracy: 0.997 - ETA: 1:40:43 - loss: 0.0014 - accuracy: 0.997 - ETA: 1:40:34 - loss: 0.0014 - accuracy: 0.997 - ETA: 1:40:24 - loss: 0.0014 - accuracy: 0.997 - ETA: 1:40:12 - loss: 0.0014 - accuracy: 0.997 - ETA: 1:40:01 - loss: 0.0014 - accuracy: 0.997 - ETA: 1:39:50 - loss: 0.0014 - accuracy: 0.997 - ETA: 1:39:39 - loss: 0.0014 - accuracy: 0.997 - ETA: 1:39:28 - loss: 0.0014 - accuracy: 0.997 - ETA: 1:39:16 - loss: 0.0014 - accuracy: 0.997 - ETA: 1:39:05 - loss: 0.0014 - accuracy: 0.997 - ETA: 1:38:54 - loss: 0.0014 - accuracy: 0.997 - ETA: 1:38:43 - loss: 0.0014 - accuracy: 0.997 - ETA: 1:38:32 - loss: 0.0014 - accuracy: 0.997 - ETA: 1:38:21 - loss: 0.0014 - accuracy: 0.997 - ETA: 1:38:10 - loss: 0.0014 - accuracy: 0.997 - ETA: 1:37:58 - loss: 0.0014 - accuracy: 0.997 - ETA: 1:37:47 - loss: 0.0014 - accuracy: 0.997 - ETA: 1:37:37 - loss: 0.0014 - accuracy: 0.997 - ETA: 1:37:25 - loss: 0.0014 - accuracy: 0.997 - ETA: 1:37:14 - loss: 0.0014 - accuracy: 0.997 - ETA: 1:37:03 - loss: 0.0014 - accuracy: 0.997 - ETA: 1:36:52 - loss: 0.0014 - accuracy: 0.997 - ETA: 1:36:41 - loss: 0.0014 - accuracy: 0.997 - ETA: 1:36:30 - loss: 0.0014 - accuracy: 0.997 - ETA: 1:36:19 - loss: 0.0014 - accuracy: 0.997 - ETA: 1:36:08 - loss: 0.0014 - accuracy: 0.997 - ETA: 1:35:57 - loss: 0.0014 - accuracy: 0.997 - ETA: 1:35:46 - loss: 0.0014 - accuracy: 0.997 - ETA: 1:35:34 - loss: 0.0014 - accuracy: 0.997 - ETA: 1:35:23 - loss: 0.0014 - accuracy: 0.997 - ETA: 1:35:12 - loss: 0.0014 - accuracy: 0.997 - ETA: 1:35:02 - loss: 0.0014 - accuracy: 0.997 - ETA: 1:34:51 - loss: 0.0014 - accuracy: 0.997 - ETA: 1:34:41 - loss: 0.0014 - accuracy: 0.997 - ETA: 1:34:30 - loss: 0.0014 - accuracy: 0.997 - ETA: 1:34:19 - loss: 0.0014 - accuracy: 0.997 - ETA: 1:34:08 - loss: 0.0014 - accuracy: 0.997 - ETA: 1:33:57 - loss: 0.0014 - accuracy: 0.997 - ETA: 1:33:46 - loss: 0.0014 - accuracy: 0.997 - ETA: 1:33:35 - loss: 0.0014 - accuracy: 0.997 - ETA: 1:33:24 - loss: 0.0014 - accuracy: 0.997 - ETA: 1:33:13 - loss: 0.0014 - accuracy: 0.997 - ETA: 1:33:02 - loss: 0.0014 - accuracy: 0.997 - ETA: 1:32:51 - loss: 0.0014 - accuracy: 0.997 - ETA: 1:32:40 - loss: 0.0014 - accuracy: 0.997 - ETA: 1:32:29 - loss: 0.0014 - accuracy: 0.997 - ETA: 1:32:19 - loss: 0.0014 - accuracy: 0.997 - ETA: 1:32:08 - loss: 0.0014 - accuracy: 0.997 - ETA: 1:31:57 - loss: 0.0014 - accuracy: 0.997 - ETA: 1:31:46 - loss: 0.0014 - accuracy: 0.997 - ETA: 1:31:35 - loss: 0.0014 - accuracy: 0.997 - ETA: 1:31:24 - loss: 0.0014 - accuracy: 0.997 - ETA: 1:31:13 - loss: 0.0014 - accuracy: 0.997 - ETA: 1:31:02 - loss: 0.0014 - accuracy: 0.997 - ETA: 1:30:51 - loss: 0.0014 - accuracy: 0.997 - ETA: 1:30:40 - loss: 0.0014 - accuracy: 0.997 - ETA: 1:30:29 - loss: 0.0014 - accuracy: 0.997 - ETA: 1:30:19 - loss: 0.0014 - accuracy: 0.997 - ETA: 1:30:08 - loss: 0.0014 - accuracy: 0.997 - ETA: 1:29:56 - loss: 0.0014 - accuracy: 0.997 - ETA: 1:29:45 - loss: 0.0014 - accuracy: 0.997 - ETA: 1:29:34 - loss: 0.0014 - accuracy: 0.997 - ETA: 1:29:23 - loss: 0.0014 - accuracy: 0.997 - ETA: 1:29:12 - loss: 0.0014 - accuracy: 0.997 - ETA: 1:29:02 - loss: 0.0014 - accuracy: 0.997 - ETA: 1:28:51 - loss: 0.0014 - accuracy: 0.997 - ETA: 1:28:40 - loss: 0.0014 - accuracy: 0.997 - ETA: 1:28:29 - loss: 0.0014 - accuracy: 0.997 - ETA: 1:28:17 - loss: 0.0014 - accuracy: 0.997 - ETA: 1:28:06 - loss: 0.0014 - accuracy: 0.997 - ETA: 1:27:55 - loss: 0.0014 - accuracy: 0.997 - ETA: 1:27:44 - loss: 0.0014 - accuracy: 0.997 - ETA: 1:27:33 - loss: 0.0014 - accuracy: 0.997 - ETA: 1:27:22 - loss: 0.0014 - accuracy: 0.997 - ETA: 1:27:11 - loss: 0.0014 - accuracy: 0.997 - ETA: 1:27:00 - loss: 0.0014 - accuracy: 0.997 - ETA: 1:26:50 - loss: 0.0014 - accuracy: 0.997 - ETA: 1:26:39 - loss: 0.0014 - accuracy: 0.997 - ETA: 1:26:28 - loss: 0.0014 - accuracy: 0.997 - ETA: 1:26:17 - loss: 0.0014 - accuracy: 0.997 - ETA: 1:26:06 - loss: 0.0014 - accuracy: 0.997 - ETA: 1:25:55 - loss: 0.0014 - accuracy: 0.997 - ETA: 1:25:44 - loss: 0.0014 - accuracy: 0.997 - ETA: 1:25:33 - loss: 0.0013 - accuracy: 0.997 - ETA: 1:25:22 - loss: 0.0013 - accuracy: 0.997 - ETA: 1:25:11 - loss: 0.0013 - accuracy: 0.997 - ETA: 1:25:01 - loss: 0.0013 - accuracy: 0.997 - ETA: 1:24:50 - loss: 0.0013 - accuracy: 0.997 - ETA: 1:24:39 - loss: 0.0013 - accuracy: 0.997 - ETA: 1:24:28 - loss: 0.0013 - accuracy: 0.997 - ETA: 1:24:17 - loss: 0.0013 - accuracy: 0.997 - ETA: 1:24:07 - loss: 0.0013 - accuracy: 0.9977"
     ]
    },
    {
     "name": "stdout",
     "output_type": "stream",
     "text": [
      "10896/15457 [====================>.........] - ETA: 1:23:55 - loss: 0.0013 - accuracy: 0.997 - ETA: 1:23:44 - loss: 0.0013 - accuracy: 0.997 - ETA: 1:23:33 - loss: 0.0013 - accuracy: 0.997 - ETA: 1:23:22 - loss: 0.0013 - accuracy: 0.997 - ETA: 1:23:11 - loss: 0.0013 - accuracy: 0.997 - ETA: 1:23:01 - loss: 0.0013 - accuracy: 0.997 - ETA: 1:22:49 - loss: 0.0013 - accuracy: 0.997 - ETA: 1:22:39 - loss: 0.0013 - accuracy: 0.997 - ETA: 1:22:28 - loss: 0.0013 - accuracy: 0.997 - ETA: 1:22:17 - loss: 0.0013 - accuracy: 0.997 - ETA: 1:22:06 - loss: 0.0013 - accuracy: 0.997 - ETA: 1:21:55 - loss: 0.0013 - accuracy: 0.997 - ETA: 1:21:45 - loss: 0.0013 - accuracy: 0.997 - ETA: 1:21:34 - loss: 0.0013 - accuracy: 0.997 - ETA: 1:21:22 - loss: 0.0013 - accuracy: 0.997 - ETA: 1:21:11 - loss: 0.0013 - accuracy: 0.997 - ETA: 1:21:00 - loss: 0.0013 - accuracy: 0.997 - ETA: 1:20:49 - loss: 0.0013 - accuracy: 0.997 - ETA: 1:20:38 - loss: 0.0013 - accuracy: 0.997 - ETA: 1:20:27 - loss: 0.0013 - accuracy: 0.997 - ETA: 1:20:15 - loss: 0.0013 - accuracy: 0.997 - ETA: 1:20:04 - loss: 0.0013 - accuracy: 0.997 - ETA: 1:19:53 - loss: 0.0013 - accuracy: 0.997 - ETA: 1:19:42 - loss: 0.0013 - accuracy: 0.997 - ETA: 1:19:31 - loss: 0.0013 - accuracy: 0.997 - ETA: 1:19:20 - loss: 0.0013 - accuracy: 0.997 - ETA: 1:19:09 - loss: 0.0013 - accuracy: 0.997 - ETA: 1:18:58 - loss: 0.0013 - accuracy: 0.997 - ETA: 1:18:47 - loss: 0.0013 - accuracy: 0.997 - ETA: 1:18:36 - loss: 0.0013 - accuracy: 0.997 - ETA: 1:18:25 - loss: 0.0013 - accuracy: 0.997 - ETA: 1:18:13 - loss: 0.0013 - accuracy: 0.997 - ETA: 1:18:02 - loss: 0.0013 - accuracy: 0.997 - ETA: 1:17:51 - loss: 0.0013 - accuracy: 0.997 - ETA: 1:17:40 - loss: 0.0013 - accuracy: 0.997 - ETA: 1:17:29 - loss: 0.0013 - accuracy: 0.997 - ETA: 1:17:18 - loss: 0.0013 - accuracy: 0.997 - ETA: 1:17:07 - loss: 0.0013 - accuracy: 0.997 - ETA: 1:16:56 - loss: 0.0013 - accuracy: 0.997 - ETA: 1:16:45 - loss: 0.0013 - accuracy: 0.997 - ETA: 1:16:34 - loss: 0.0013 - accuracy: 0.997 - ETA: 1:16:23 - loss: 0.0013 - accuracy: 0.997 - ETA: 1:16:12 - loss: 0.0013 - accuracy: 0.997 - ETA: 1:16:00 - loss: 0.0013 - accuracy: 0.997 - ETA: 1:15:49 - loss: 0.0013 - accuracy: 0.997 - ETA: 1:15:38 - loss: 0.0013 - accuracy: 0.997 - ETA: 1:15:27 - loss: 0.0013 - accuracy: 0.997 - ETA: 1:15:17 - loss: 0.0013 - accuracy: 0.997 - ETA: 1:15:06 - loss: 0.0013 - accuracy: 0.997 - ETA: 1:14:55 - loss: 0.0013 - accuracy: 0.997 - ETA: 1:14:44 - loss: 0.0013 - accuracy: 0.997 - ETA: 1:14:34 - loss: 0.0013 - accuracy: 0.997 - ETA: 1:14:23 - loss: 0.0013 - accuracy: 0.997 - ETA: 1:14:12 - loss: 0.0013 - accuracy: 0.997 - ETA: 1:14:00 - loss: 0.0013 - accuracy: 0.997 - ETA: 1:13:49 - loss: 0.0013 - accuracy: 0.997 - ETA: 1:13:38 - loss: 0.0013 - accuracy: 0.997 - ETA: 1:13:27 - loss: 0.0013 - accuracy: 0.997 - ETA: 1:13:16 - loss: 0.0013 - accuracy: 0.997 - ETA: 1:13:05 - loss: 0.0013 - accuracy: 0.997 - ETA: 1:12:54 - loss: 0.0013 - accuracy: 0.997 - ETA: 1:12:43 - loss: 0.0013 - accuracy: 0.997 - ETA: 1:12:33 - loss: 0.0013 - accuracy: 0.997 - ETA: 1:12:22 - loss: 0.0013 - accuracy: 0.997 - ETA: 1:12:11 - loss: 0.0013 - accuracy: 0.997 - ETA: 1:12:00 - loss: 0.0013 - accuracy: 0.997 - ETA: 1:11:49 - loss: 0.0013 - accuracy: 0.997 - ETA: 1:11:38 - loss: 0.0013 - accuracy: 0.997 - ETA: 1:11:27 - loss: 0.0013 - accuracy: 0.997 - ETA: 1:11:16 - loss: 0.0013 - accuracy: 0.997 - ETA: 1:11:05 - loss: 0.0013 - accuracy: 0.997 - ETA: 1:10:54 - loss: 0.0013 - accuracy: 0.997 - ETA: 1:10:43 - loss: 0.0013 - accuracy: 0.997 - ETA: 1:10:31 - loss: 0.0013 - accuracy: 0.997 - ETA: 1:10:21 - loss: 0.0013 - accuracy: 0.997 - ETA: 1:10:09 - loss: 0.0013 - accuracy: 0.997 - ETA: 1:09:58 - loss: 0.0013 - accuracy: 0.997 - ETA: 1:09:47 - loss: 0.0013 - accuracy: 0.997 - ETA: 1:09:36 - loss: 0.0013 - accuracy: 0.997 - ETA: 1:09:25 - loss: 0.0013 - accuracy: 0.997 - ETA: 1:09:14 - loss: 0.0013 - accuracy: 0.997 - ETA: 1:09:03 - loss: 0.0013 - accuracy: 0.997 - ETA: 1:08:52 - loss: 0.0013 - accuracy: 0.997 - ETA: 1:08:41 - loss: 0.0013 - accuracy: 0.997 - ETA: 1:08:29 - loss: 0.0013 - accuracy: 0.997 - ETA: 1:08:18 - loss: 0.0013 - accuracy: 0.997 - ETA: 1:08:07 - loss: 0.0013 - accuracy: 0.997 - ETA: 1:07:56 - loss: 0.0013 - accuracy: 0.997 - ETA: 1:07:45 - loss: 0.0013 - accuracy: 0.997 - ETA: 1:07:34 - loss: 0.0013 - accuracy: 0.997 - ETA: 1:07:23 - loss: 0.0013 - accuracy: 0.997 - ETA: 1:07:12 - loss: 0.0013 - accuracy: 0.997 - ETA: 1:07:01 - loss: 0.0013 - accuracy: 0.997 - ETA: 1:06:50 - loss: 0.0013 - accuracy: 0.997 - ETA: 1:06:39 - loss: 0.0013 - accuracy: 0.997 - ETA: 1:06:27 - loss: 0.0013 - accuracy: 0.997 - ETA: 1:06:16 - loss: 0.0013 - accuracy: 0.997 - ETA: 1:06:05 - loss: 0.0013 - accuracy: 0.997 - ETA: 1:05:54 - loss: 0.0013 - accuracy: 0.997 - ETA: 1:05:43 - loss: 0.0013 - accuracy: 0.997 - ETA: 1:05:32 - loss: 0.0013 - accuracy: 0.997 - ETA: 1:05:21 - loss: 0.0013 - accuracy: 0.997 - ETA: 1:05:10 - loss: 0.0013 - accuracy: 0.997 - ETA: 1:05:00 - loss: 0.0013 - accuracy: 0.997 - ETA: 1:04:49 - loss: 0.0013 - accuracy: 0.997 - ETA: 1:04:38 - loss: 0.0013 - accuracy: 0.997 - ETA: 1:04:27 - loss: 0.0013 - accuracy: 0.997 - ETA: 1:04:16 - loss: 0.0013 - accuracy: 0.997 - ETA: 1:04:04 - loss: 0.0013 - accuracy: 0.997 - ETA: 1:03:53 - loss: 0.0013 - accuracy: 0.997 - ETA: 1:03:42 - loss: 0.0013 - accuracy: 0.997 - ETA: 1:03:31 - loss: 0.0013 - accuracy: 0.997 - ETA: 1:03:19 - loss: 0.0013 - accuracy: 0.997 - ETA: 1:03:08 - loss: 0.0013 - accuracy: 0.997 - ETA: 1:02:57 - loss: 0.0013 - accuracy: 0.997 - ETA: 1:02:46 - loss: 0.0013 - accuracy: 0.997 - ETA: 1:02:35 - loss: 0.0013 - accuracy: 0.997 - ETA: 1:02:24 - loss: 0.0013 - accuracy: 0.997 - ETA: 1:02:13 - loss: 0.0013 - accuracy: 0.997 - ETA: 1:02:02 - loss: 0.0013 - accuracy: 0.997 - ETA: 1:01:51 - loss: 0.0013 - accuracy: 0.997 - ETA: 1:01:40 - loss: 0.0013 - accuracy: 0.997 - ETA: 1:01:29 - loss: 0.0013 - accuracy: 0.997 - ETA: 1:01:18 - loss: 0.0013 - accuracy: 0.997 - ETA: 1:01:06 - loss: 0.0013 - accuracy: 0.997 - ETA: 1:00:55 - loss: 0.0013 - accuracy: 0.997 - ETA: 1:00:44 - loss: 0.0013 - accuracy: 0.997 - ETA: 1:00:33 - loss: 0.0013 - accuracy: 0.997 - ETA: 1:00:21 - loss: 0.0013 - accuracy: 0.997 - ETA: 1:00:10 - loss: 0.0013 - accuracy: 0.997 - ETA: 59:59 - loss: 0.0013 - accuracy: 0.9977  - ETA: 59:48 - loss: 0.0013 - accuracy: 0.997 - ETA: 59:37 - loss: 0.0013 - accuracy: 0.997 - ETA: 59:25 - loss: 0.0013 - accuracy: 0.997 - ETA: 59:14 - loss: 0.0013 - accuracy: 0.997 - ETA: 59:03 - loss: 0.0013 - accuracy: 0.997 - ETA: 58:51 - loss: 0.0013 - accuracy: 0.997 - ETA: 58:40 - loss: 0.0013 - accuracy: 0.997 - ETA: 58:29 - loss: 0.0013 - accuracy: 0.997 - ETA: 58:17 - loss: 0.0013 - accuracy: 0.997 - ETA: 58:06 - loss: 0.0013 - accuracy: 0.997 - ETA: 57:55 - loss: 0.0013 - accuracy: 0.997 - ETA: 57:44 - loss: 0.0013 - accuracy: 0.997 - ETA: 57:32 - loss: 0.0013 - accuracy: 0.997 - ETA: 57:21 - loss: 0.0013 - accuracy: 0.997 - ETA: 57:10 - loss: 0.0013 - accuracy: 0.997 - ETA: 56:58 - loss: 0.0013 - accuracy: 0.997 - ETA: 56:47 - loss: 0.0013 - accuracy: 0.997 - ETA: 56:36 - loss: 0.0013 - accuracy: 0.997 - ETA: 56:25 - loss: 0.0013 - accuracy: 0.997 - ETA: 56:14 - loss: 0.0013 - accuracy: 0.997 - ETA: 56:02 - loss: 0.0013 - accuracy: 0.997 - ETA: 55:51 - loss: 0.0013 - accuracy: 0.997 - ETA: 55:39 - loss: 0.0013 - accuracy: 0.997 - ETA: 55:28 - loss: 0.0013 - accuracy: 0.997 - ETA: 55:16 - loss: 0.0013 - accuracy: 0.997 - ETA: 55:05 - loss: 0.0013 - accuracy: 0.997 - ETA: 54:54 - loss: 0.0013 - accuracy: 0.997 - ETA: 54:43 - loss: 0.0013 - accuracy: 0.997 - ETA: 54:32 - loss: 0.0013 - accuracy: 0.997 - ETA: 54:21 - loss: 0.0013 - accuracy: 0.997 - ETA: 54:10 - loss: 0.0013 - accuracy: 0.997 - ETA: 53:58 - loss: 0.0013 - accuracy: 0.997 - ETA: 53:47 - loss: 0.0013 - accuracy: 0.997 - ETA: 53:36 - loss: 0.0013 - accuracy: 0.997 - ETA: 53:25 - loss: 0.0013 - accuracy: 0.997 - ETA: 53:13 - loss: 0.0013 - accuracy: 0.997 - ETA: 53:02 - loss: 0.0013 - accuracy: 0.997 - ETA: 52:51 - loss: 0.0013 - accuracy: 0.997 - ETA: 52:39 - loss: 0.0013 - accuracy: 0.997 - ETA: 52:28 - loss: 0.0013 - accuracy: 0.997 - ETA: 52:17 - loss: 0.0013 - accuracy: 0.9977"
     ]
    },
    {
     "name": "stdout",
     "output_type": "stream",
     "text": [
      "13744/15457 [=========================>....] - ETA: 52:07 - loss: 0.0013 - accuracy: 0.997 - ETA: 51:56 - loss: 0.0013 - accuracy: 0.997 - ETA: 51:44 - loss: 0.0013 - accuracy: 0.997 - ETA: 51:33 - loss: 0.0013 - accuracy: 0.997 - ETA: 51:22 - loss: 0.0013 - accuracy: 0.997 - ETA: 51:11 - loss: 0.0013 - accuracy: 0.997 - ETA: 51:00 - loss: 0.0013 - accuracy: 0.997 - ETA: 50:48 - loss: 0.0013 - accuracy: 0.997 - ETA: 50:37 - loss: 0.0013 - accuracy: 0.997 - ETA: 50:26 - loss: 0.0013 - accuracy: 0.997 - ETA: 50:14 - loss: 0.0013 - accuracy: 0.997 - ETA: 50:03 - loss: 0.0013 - accuracy: 0.997 - ETA: 49:52 - loss: 0.0013 - accuracy: 0.997 - ETA: 49:41 - loss: 0.0013 - accuracy: 0.997 - ETA: 49:29 - loss: 0.0013 - accuracy: 0.997 - ETA: 49:18 - loss: 0.0013 - accuracy: 0.997 - ETA: 49:07 - loss: 0.0013 - accuracy: 0.997 - ETA: 48:56 - loss: 0.0013 - accuracy: 0.997 - ETA: 48:44 - loss: 0.0013 - accuracy: 0.997 - ETA: 48:33 - loss: 0.0013 - accuracy: 0.997 - ETA: 48:22 - loss: 0.0013 - accuracy: 0.997 - ETA: 48:11 - loss: 0.0013 - accuracy: 0.997 - ETA: 47:59 - loss: 0.0013 - accuracy: 0.997 - ETA: 47:48 - loss: 0.0013 - accuracy: 0.997 - ETA: 47:37 - loss: 0.0013 - accuracy: 0.997 - ETA: 47:26 - loss: 0.0013 - accuracy: 0.997 - ETA: 47:15 - loss: 0.0013 - accuracy: 0.997 - ETA: 47:03 - loss: 0.0013 - accuracy: 0.997 - ETA: 46:52 - loss: 0.0013 - accuracy: 0.997 - ETA: 46:41 - loss: 0.0013 - accuracy: 0.997 - ETA: 46:30 - loss: 0.0013 - accuracy: 0.997 - ETA: 46:19 - loss: 0.0013 - accuracy: 0.997 - ETA: 46:08 - loss: 0.0013 - accuracy: 0.997 - ETA: 45:56 - loss: 0.0013 - accuracy: 0.997 - ETA: 45:45 - loss: 0.0013 - accuracy: 0.997 - ETA: 45:34 - loss: 0.0013 - accuracy: 0.997 - ETA: 45:23 - loss: 0.0013 - accuracy: 0.997 - ETA: 45:11 - loss: 0.0013 - accuracy: 0.997 - ETA: 45:00 - loss: 0.0013 - accuracy: 0.997 - ETA: 44:49 - loss: 0.0013 - accuracy: 0.997 - ETA: 44:37 - loss: 0.0013 - accuracy: 0.997 - ETA: 44:26 - loss: 0.0013 - accuracy: 0.997 - ETA: 44:15 - loss: 0.0013 - accuracy: 0.997 - ETA: 44:04 - loss: 0.0013 - accuracy: 0.997 - ETA: 43:53 - loss: 0.0013 - accuracy: 0.997 - ETA: 43:42 - loss: 0.0013 - accuracy: 0.997 - ETA: 43:30 - loss: 0.0013 - accuracy: 0.997 - ETA: 43:19 - loss: 0.0013 - accuracy: 0.997 - ETA: 43:08 - loss: 0.0013 - accuracy: 0.997 - ETA: 42:57 - loss: 0.0013 - accuracy: 0.997 - ETA: 42:46 - loss: 0.0013 - accuracy: 0.997 - ETA: 42:35 - loss: 0.0013 - accuracy: 0.997 - ETA: 42:24 - loss: 0.0013 - accuracy: 0.997 - ETA: 42:13 - loss: 0.0013 - accuracy: 0.997 - ETA: 42:02 - loss: 0.0013 - accuracy: 0.997 - ETA: 41:51 - loss: 0.0013 - accuracy: 0.997 - ETA: 41:40 - loss: 0.0013 - accuracy: 0.997 - ETA: 41:29 - loss: 0.0013 - accuracy: 0.997 - ETA: 41:18 - loss: 0.0013 - accuracy: 0.997 - ETA: 41:06 - loss: 0.0013 - accuracy: 0.997 - ETA: 40:55 - loss: 0.0013 - accuracy: 0.997 - ETA: 40:44 - loss: 0.0013 - accuracy: 0.997 - ETA: 40:33 - loss: 0.0013 - accuracy: 0.997 - ETA: 40:22 - loss: 0.0013 - accuracy: 0.997 - ETA: 40:11 - loss: 0.0013 - accuracy: 0.997 - ETA: 40:00 - loss: 0.0013 - accuracy: 0.997 - ETA: 39:49 - loss: 0.0013 - accuracy: 0.997 - ETA: 39:37 - loss: 0.0013 - accuracy: 0.997 - ETA: 39:26 - loss: 0.0013 - accuracy: 0.997 - ETA: 39:15 - loss: 0.0013 - accuracy: 0.997 - ETA: 39:04 - loss: 0.0013 - accuracy: 0.997 - ETA: 38:54 - loss: 0.0013 - accuracy: 0.997 - ETA: 38:43 - loss: 0.0013 - accuracy: 0.997 - ETA: 38:32 - loss: 0.0013 - accuracy: 0.997 - ETA: 38:21 - loss: 0.0013 - accuracy: 0.997 - ETA: 38:10 - loss: 0.0013 - accuracy: 0.997 - ETA: 37:59 - loss: 0.0013 - accuracy: 0.997 - ETA: 37:48 - loss: 0.0013 - accuracy: 0.997 - ETA: 37:36 - loss: 0.0013 - accuracy: 0.997 - ETA: 37:25 - loss: 0.0013 - accuracy: 0.997 - ETA: 37:14 - loss: 0.0013 - accuracy: 0.997 - ETA: 37:03 - loss: 0.0013 - accuracy: 0.997 - ETA: 36:52 - loss: 0.0013 - accuracy: 0.997 - ETA: 36:40 - loss: 0.0013 - accuracy: 0.997 - ETA: 36:29 - loss: 0.0013 - accuracy: 0.997 - ETA: 36:18 - loss: 0.0013 - accuracy: 0.997 - ETA: 36:07 - loss: 0.0013 - accuracy: 0.997 - ETA: 35:56 - loss: 0.0013 - accuracy: 0.997 - ETA: 35:44 - loss: 0.0013 - accuracy: 0.997 - ETA: 35:33 - loss: 0.0013 - accuracy: 0.997 - ETA: 35:22 - loss: 0.0013 - accuracy: 0.997 - ETA: 35:11 - loss: 0.0013 - accuracy: 0.997 - ETA: 35:00 - loss: 0.0013 - accuracy: 0.997 - ETA: 34:49 - loss: 0.0013 - accuracy: 0.997 - ETA: 34:37 - loss: 0.0013 - accuracy: 0.997 - ETA: 34:26 - loss: 0.0013 - accuracy: 0.997 - ETA: 34:15 - loss: 0.0013 - accuracy: 0.997 - ETA: 34:04 - loss: 0.0013 - accuracy: 0.997 - ETA: 33:53 - loss: 0.0013 - accuracy: 0.997 - ETA: 33:42 - loss: 0.0013 - accuracy: 0.997 - ETA: 33:30 - loss: 0.0013 - accuracy: 0.997 - ETA: 33:19 - loss: 0.0013 - accuracy: 0.997 - ETA: 33:08 - loss: 0.0013 - accuracy: 0.997 - ETA: 32:57 - loss: 0.0013 - accuracy: 0.997 - ETA: 32:46 - loss: 0.0013 - accuracy: 0.997 - ETA: 32:35 - loss: 0.0013 - accuracy: 0.997 - ETA: 32:24 - loss: 0.0013 - accuracy: 0.997 - ETA: 32:13 - loss: 0.0013 - accuracy: 0.997 - ETA: 32:02 - loss: 0.0013 - accuracy: 0.997 - ETA: 31:50 - loss: 0.0013 - accuracy: 0.997 - ETA: 31:39 - loss: 0.0013 - accuracy: 0.997 - ETA: 31:28 - loss: 0.0013 - accuracy: 0.997 - ETA: 31:17 - loss: 0.0013 - accuracy: 0.997 - ETA: 31:06 - loss: 0.0013 - accuracy: 0.997 - ETA: 30:55 - loss: 0.0013 - accuracy: 0.997 - ETA: 30:44 - loss: 0.0013 - accuracy: 0.997 - ETA: 30:33 - loss: 0.0013 - accuracy: 0.997 - ETA: 30:22 - loss: 0.0013 - accuracy: 0.997 - ETA: 30:10 - loss: 0.0013 - accuracy: 0.997 - ETA: 29:59 - loss: 0.0013 - accuracy: 0.997 - ETA: 29:48 - loss: 0.0013 - accuracy: 0.997 - ETA: 29:37 - loss: 0.0013 - accuracy: 0.997 - ETA: 29:26 - loss: 0.0013 - accuracy: 0.997 - ETA: 29:15 - loss: 0.0013 - accuracy: 0.997 - ETA: 29:04 - loss: 0.0013 - accuracy: 0.997 - ETA: 28:53 - loss: 0.0013 - accuracy: 0.997 - ETA: 28:42 - loss: 0.0013 - accuracy: 0.997 - ETA: 28:30 - loss: 0.0013 - accuracy: 0.997 - ETA: 28:19 - loss: 0.0013 - accuracy: 0.997 - ETA: 28:08 - loss: 0.0013 - accuracy: 0.997 - ETA: 27:57 - loss: 0.0013 - accuracy: 0.997 - ETA: 27:46 - loss: 0.0013 - accuracy: 0.997 - ETA: 27:35 - loss: 0.0013 - accuracy: 0.997 - ETA: 27:24 - loss: 0.0013 - accuracy: 0.997 - ETA: 27:13 - loss: 0.0013 - accuracy: 0.997 - ETA: 27:02 - loss: 0.0013 - accuracy: 0.997 - ETA: 26:51 - loss: 0.0013 - accuracy: 0.997 - ETA: 26:40 - loss: 0.0013 - accuracy: 0.997 - ETA: 26:29 - loss: 0.0013 - accuracy: 0.997 - ETA: 26:17 - loss: 0.0013 - accuracy: 0.997 - ETA: 26:06 - loss: 0.0013 - accuracy: 0.997 - ETA: 25:55 - loss: 0.0013 - accuracy: 0.997 - ETA: 25:44 - loss: 0.0013 - accuracy: 0.997 - ETA: 25:33 - loss: 0.0013 - accuracy: 0.997 - ETA: 25:22 - loss: 0.0013 - accuracy: 0.997 - ETA: 25:11 - loss: 0.0013 - accuracy: 0.997 - ETA: 25:00 - loss: 0.0013 - accuracy: 0.997 - ETA: 24:49 - loss: 0.0013 - accuracy: 0.997 - ETA: 24:38 - loss: 0.0013 - accuracy: 0.997 - ETA: 24:27 - loss: 0.0013 - accuracy: 0.997 - ETA: 24:16 - loss: 0.0013 - accuracy: 0.997 - ETA: 24:05 - loss: 0.0013 - accuracy: 0.997 - ETA: 23:54 - loss: 0.0013 - accuracy: 0.997 - ETA: 23:43 - loss: 0.0013 - accuracy: 0.997 - ETA: 23:32 - loss: 0.0013 - accuracy: 0.997 - ETA: 23:21 - loss: 0.0013 - accuracy: 0.997 - ETA: 23:10 - loss: 0.0013 - accuracy: 0.997 - ETA: 22:59 - loss: 0.0013 - accuracy: 0.997 - ETA: 22:48 - loss: 0.0013 - accuracy: 0.997 - ETA: 22:37 - loss: 0.0013 - accuracy: 0.997 - ETA: 22:26 - loss: 0.0013 - accuracy: 0.997 - ETA: 22:15 - loss: 0.0013 - accuracy: 0.997 - ETA: 22:04 - loss: 0.0013 - accuracy: 0.997 - ETA: 21:53 - loss: 0.0013 - accuracy: 0.997 - ETA: 21:42 - loss: 0.0013 - accuracy: 0.997 - ETA: 21:31 - loss: 0.0013 - accuracy: 0.997 - ETA: 21:20 - loss: 0.0013 - accuracy: 0.997 - ETA: 21:09 - loss: 0.0013 - accuracy: 0.997 - ETA: 20:58 - loss: 0.0013 - accuracy: 0.997 - ETA: 20:47 - loss: 0.0013 - accuracy: 0.997 - ETA: 20:36 - loss: 0.0013 - accuracy: 0.997 - ETA: 20:25 - loss: 0.0013 - accuracy: 0.997 - ETA: 20:14 - loss: 0.0013 - accuracy: 0.997 - ETA: 20:03 - loss: 0.0013 - accuracy: 0.997 - ETA: 19:52 - loss: 0.0013 - accuracy: 0.997 - ETA: 19:41 - loss: 0.0013 - accuracy: 0.997 - ETA: 19:30 - loss: 0.0013 - accuracy: 0.997 - ETA: 19:19 - loss: 0.0013 - accuracy: 0.9977"
     ]
    },
    {
     "name": "stdout",
     "output_type": "stream",
     "text": [
      "15457/15457 [==============================] - ETA: 19:08 - loss: 0.0013 - accuracy: 0.997 - ETA: 18:57 - loss: 0.0013 - accuracy: 0.997 - ETA: 18:46 - loss: 0.0013 - accuracy: 0.997 - ETA: 18:36 - loss: 0.0013 - accuracy: 0.997 - ETA: 18:25 - loss: 0.0013 - accuracy: 0.997 - ETA: 18:14 - loss: 0.0013 - accuracy: 0.997 - ETA: 18:03 - loss: 0.0013 - accuracy: 0.997 - ETA: 17:52 - loss: 0.0013 - accuracy: 0.997 - ETA: 17:41 - loss: 0.0013 - accuracy: 0.997 - ETA: 17:30 - loss: 0.0013 - accuracy: 0.997 - ETA: 17:19 - loss: 0.0013 - accuracy: 0.997 - ETA: 17:08 - loss: 0.0013 - accuracy: 0.997 - ETA: 16:57 - loss: 0.0013 - accuracy: 0.997 - ETA: 16:46 - loss: 0.0013 - accuracy: 0.997 - ETA: 16:35 - loss: 0.0013 - accuracy: 0.997 - ETA: 16:24 - loss: 0.0013 - accuracy: 0.997 - ETA: 16:13 - loss: 0.0013 - accuracy: 0.997 - ETA: 16:03 - loss: 0.0013 - accuracy: 0.997 - ETA: 15:52 - loss: 0.0013 - accuracy: 0.997 - ETA: 15:41 - loss: 0.0013 - accuracy: 0.997 - ETA: 15:30 - loss: 0.0013 - accuracy: 0.997 - ETA: 15:19 - loss: 0.0013 - accuracy: 0.997 - ETA: 15:08 - loss: 0.0013 - accuracy: 0.997 - ETA: 14:57 - loss: 0.0013 - accuracy: 0.997 - ETA: 14:46 - loss: 0.0013 - accuracy: 0.997 - ETA: 14:35 - loss: 0.0013 - accuracy: 0.997 - ETA: 14:24 - loss: 0.0013 - accuracy: 0.997 - ETA: 14:13 - loss: 0.0013 - accuracy: 0.997 - ETA: 14:03 - loss: 0.0013 - accuracy: 0.997 - ETA: 13:52 - loss: 0.0013 - accuracy: 0.997 - ETA: 13:41 - loss: 0.0013 - accuracy: 0.997 - ETA: 13:30 - loss: 0.0013 - accuracy: 0.997 - ETA: 13:19 - loss: 0.0013 - accuracy: 0.997 - ETA: 13:08 - loss: 0.0013 - accuracy: 0.997 - ETA: 12:57 - loss: 0.0013 - accuracy: 0.997 - ETA: 12:46 - loss: 0.0013 - accuracy: 0.997 - ETA: 12:36 - loss: 0.0013 - accuracy: 0.997 - ETA: 12:25 - loss: 0.0013 - accuracy: 0.997 - ETA: 12:14 - loss: 0.0013 - accuracy: 0.997 - ETA: 12:03 - loss: 0.0013 - accuracy: 0.997 - ETA: 11:52 - loss: 0.0013 - accuracy: 0.997 - ETA: 11:41 - loss: 0.0013 - accuracy: 0.997 - ETA: 11:31 - loss: 0.0013 - accuracy: 0.997 - ETA: 11:20 - loss: 0.0013 - accuracy: 0.997 - ETA: 11:09 - loss: 0.0013 - accuracy: 0.997 - ETA: 10:58 - loss: 0.0013 - accuracy: 0.997 - ETA: 10:47 - loss: 0.0013 - accuracy: 0.997 - ETA: 10:36 - loss: 0.0013 - accuracy: 0.997 - ETA: 10:26 - loss: 0.0013 - accuracy: 0.997 - ETA: 10:15 - loss: 0.0013 - accuracy: 0.997 - ETA: 10:04 - loss: 0.0013 - accuracy: 0.997 - ETA: 9:53 - loss: 0.0013 - accuracy: 0.997 - ETA: 9:42 - loss: 0.0013 - accuracy: 0.99 - ETA: 9:31 - loss: 0.0013 - accuracy: 0.99 - ETA: 9:21 - loss: 0.0013 - accuracy: 0.99 - ETA: 9:10 - loss: 0.0013 - accuracy: 0.99 - ETA: 8:59 - loss: 0.0013 - accuracy: 0.99 - ETA: 8:48 - loss: 0.0013 - accuracy: 0.99 - ETA: 8:37 - loss: 0.0013 - accuracy: 0.99 - ETA: 8:26 - loss: 0.0013 - accuracy: 0.99 - ETA: 8:16 - loss: 0.0013 - accuracy: 0.99 - ETA: 8:05 - loss: 0.0013 - accuracy: 0.99 - ETA: 7:54 - loss: 0.0013 - accuracy: 0.99 - ETA: 7:43 - loss: 0.0013 - accuracy: 0.99 - ETA: 7:32 - loss: 0.0013 - accuracy: 0.99 - ETA: 7:22 - loss: 0.0013 - accuracy: 0.99 - ETA: 7:11 - loss: 0.0013 - accuracy: 0.99 - ETA: 7:00 - loss: 0.0013 - accuracy: 0.99 - ETA: 6:49 - loss: 0.0013 - accuracy: 0.99 - ETA: 6:38 - loss: 0.0013 - accuracy: 0.99 - ETA: 6:28 - loss: 0.0013 - accuracy: 0.99 - ETA: 6:17 - loss: 0.0013 - accuracy: 0.99 - ETA: 6:06 - loss: 0.0013 - accuracy: 0.99 - ETA: 5:55 - loss: 0.0013 - accuracy: 0.99 - ETA: 5:44 - loss: 0.0013 - accuracy: 0.99 - ETA: 5:34 - loss: 0.0013 - accuracy: 0.99 - ETA: 5:23 - loss: 0.0013 - accuracy: 0.99 - ETA: 5:12 - loss: 0.0013 - accuracy: 0.99 - ETA: 5:01 - loss: 0.0013 - accuracy: 0.99 - ETA: 4:51 - loss: 0.0013 - accuracy: 0.99 - ETA: 4:40 - loss: 0.0013 - accuracy: 0.99 - ETA: 4:29 - loss: 0.0013 - accuracy: 0.99 - ETA: 4:18 - loss: 0.0013 - accuracy: 0.99 - ETA: 4:07 - loss: 0.0013 - accuracy: 0.99 - ETA: 3:57 - loss: 0.0013 - accuracy: 0.99 - ETA: 3:46 - loss: 0.0013 - accuracy: 0.99 - ETA: 3:35 - loss: 0.0013 - accuracy: 0.99 - ETA: 3:24 - loss: 0.0013 - accuracy: 0.99 - ETA: 3:14 - loss: 0.0013 - accuracy: 0.99 - ETA: 3:03 - loss: 0.0013 - accuracy: 0.99 - ETA: 2:52 - loss: 0.0013 - accuracy: 0.99 - ETA: 2:41 - loss: 0.0013 - accuracy: 0.99 - ETA: 2:31 - loss: 0.0013 - accuracy: 0.99 - ETA: 2:20 - loss: 0.0013 - accuracy: 0.99 - ETA: 2:09 - loss: 0.0013 - accuracy: 0.99 - ETA: 1:58 - loss: 0.0013 - accuracy: 0.99 - ETA: 1:48 - loss: 0.0013 - accuracy: 0.99 - ETA: 1:37 - loss: 0.0013 - accuracy: 0.99 - ETA: 1:26 - loss: 0.0013 - accuracy: 0.99 - ETA: 1:15 - loss: 0.0013 - accuracy: 0.99 - ETA: 1:05 - loss: 0.0013 - accuracy: 0.99 - ETA: 54s - loss: 0.0013 - accuracy: 0.9976 - ETA: 43s - loss: 0.0013 - accuracy: 0.997 - ETA: 32s - loss: 0.0013 - accuracy: 0.997 - ETA: 22s - loss: 0.0013 - accuracy: 0.997 - ETA: 11s - loss: 0.0013 - accuracy: 0.997 - ETA: 0s - loss: 0.0013 - accuracy: 0.997 - 10993s 711ms/step - loss: 0.0013 - accuracy: 0.9976 - val_loss: 0.0117 - val_accuracy: 0.9871\n",
      "\n",
      "Epoch 00007: val_loss did not improve from 0.00730\n",
      "Training completed in 70495.561217 seconds\n"
     ]
    }
   ],
   "source": [
    "t_ini = datetime.datetime.now()\n",
    "\n",
    "cp = ModelCheckpoint(filepath=\"bert_tagger.h5\",\n",
    "                     monitor='val_loss',\n",
    "                     save_best_only=True,\n",
    "                     save_weights_only=True,\n",
    "                     verbose=1)\n",
    "\n",
    "early_stopping = EarlyStopping(monitor = 'val_loss', patience = 5)\n",
    "\n",
    "history = model.fit([train_input_ids, train_input_masks, train_segment_ids], \n",
    "                    train_labels,\n",
    "                    validation_data=([test_input_ids, test_input_masks, test_segment_ids], test_labels),\n",
    "                    #validation_split=0.3,\n",
    "                    epochs=EPOCHS,\n",
    "                    batch_size=16,\n",
    "                    shuffle=True,\n",
    "                    verbose=1,\n",
    "                    callbacks=[cp, early_stopping]\n",
    "                   ) \n",
    "\n",
    "t_fin = datetime.datetime.now()\n",
    "print('Training completed in {} seconds'.format((t_fin - t_ini).total_seconds()))"
   ]
  },
  {
   "cell_type": "code",
   "execution_count": 67,
   "metadata": {},
   "outputs": [],
   "source": [
    "model.save_weights('bert_tagger3.h5')"
   ]
  },
  {
   "cell_type": "markdown",
   "metadata": {},
   "source": [
    "## Classification report"
   ]
  },
  {
   "cell_type": "code",
   "execution_count": 94,
   "metadata": {
    "nbpresent": {
     "id": "ce12f232-8d4a-4093-9977-88402c6a80f4"
    }
   },
   "outputs": [
    {
     "name": "stdout",
     "output_type": "stream",
     "text": [
      "Trainable weights: 197\n",
      "Model: \"model_4\"\n",
      "____________________________________________________________________________________________________\n",
      "Layer (type)                     Output Shape          Param #     Connected to                     \n",
      "====================================================================================================\n",
      "input_ids (InputLayer)           (None, 72)            0                                            \n",
      "____________________________________________________________________________________________________\n",
      "input_masks (InputLayer)         (None, 72)            0                                            \n",
      "____________________________________________________________________________________________________\n",
      "segment_ids (InputLayer)         (None, 72)            0                                            \n",
      "____________________________________________________________________________________________________\n",
      "bert_layer_4 (BertLayer)         (None, None, 768)     178565115   input_ids[0][0]                  \n",
      "                                                                   input_masks[0][0]                \n",
      "                                                                   segment_ids[0][0]                \n",
      "____________________________________________________________________________________________________\n",
      "dense_4 (Dense)                  (None, None, 3)       2307        bert_layer_4[0][0]               \n",
      "====================================================================================================\n",
      "Total params: 178,567,422\n",
      "Trainable params: 177,265,155\n",
      "Non-trainable params: 1,302,267\n",
      "____________________________________________________________________________________________________\n"
     ]
    }
   ],
   "source": [
    "model = build_model(MAX_SEQUENCE_LENGTH+2) \n",
    "model.load_weights('bert_tagger.h5')"
   ]
  },
  {
   "cell_type": "code",
   "execution_count": 95,
   "metadata": {
    "nbpresent": {
     "id": "615aa234-1351-4d3e-84ff-379d1fc4f5cf"
    }
   },
   "outputs": [],
   "source": [
    "y_pred = model.predict([test_input_ids, test_input_masks, test_segment_ids]).argmax(-1)\n",
    "y_true = test_labels.argmax(-1)"
   ]
  },
  {
   "cell_type": "code",
   "execution_count": 96,
   "metadata": {},
   "outputs": [
    {
     "data": {
      "text/plain": [
       "array([0, 1, 1, 1, 1, 1, 1, 0, 0, 0, 0, 0, 0, 0, 0, 0, 0, 0, 0, 0, 0, 0,\n",
       "       0, 0, 0, 0, 0, 0, 0, 0, 0, 0, 0, 0, 0, 0, 0, 0, 0, 0, 0, 0, 0, 0,\n",
       "       0, 0, 0, 0, 0, 0, 0, 0, 0, 0, 0, 0, 0, 0, 0, 0, 0, 0, 0, 0, 0, 0,\n",
       "       0, 0, 0, 0, 0, 0], dtype=int64)"
      ]
     },
     "execution_count": 96,
     "metadata": {},
     "output_type": "execute_result"
    }
   ],
   "source": [
    "y_true[0]"
   ]
  },
  {
   "cell_type": "code",
   "execution_count": 97,
   "metadata": {
    "nbpresent": {
     "id": "4d68934e-3464-4fa5-bdfe-33f1bee74efc"
    }
   },
   "outputs": [],
   "source": [
    "def y2label(zipped, mask=0):\n",
    "    out_true = []\n",
    "    out_pred = []\n",
    "    for zip_i in zipped:\n",
    "        a, b = tuple(zip_i)\n",
    "        if a != mask :\n",
    "            out_true.append(int2tag[a])\n",
    "            out_pred.append(int2tag[b])\n",
    "    return out_true, out_pred"
   ]
  },
  {
   "cell_type": "code",
   "execution_count": 98,
   "metadata": {
    "nbpresent": {
     "id": "6412a274-6f2e-4c27-9fb2-0fd0916ab42a"
    }
   },
   "outputs": [],
   "source": [
    "y_zipped = zip(y_true.flat, y_pred.flat)\n",
    "y_true, y_pred = y2label(y_zipped)"
   ]
  },
  {
   "cell_type": "code",
   "execution_count": 99,
   "metadata": {},
   "outputs": [
    {
     "data": {
      "text/plain": [
       "(44821, 44821)"
      ]
     },
     "execution_count": 99,
     "metadata": {},
     "output_type": "execute_result"
    }
   ],
   "source": [
    "len(y_true), len(y_pred)"
   ]
  },
  {
   "cell_type": "code",
   "execution_count": 100,
   "metadata": {
    "nbpresent": {
     "id": "0e51f9f4-b16f-4e14-a204-8167e2897848"
    }
   },
   "outputs": [
    {
     "name": "stdout",
     "output_type": "stream",
     "text": [
      "\n",
      "------------ Result of Bert fine-tuned model ----------\n",
      "\n",
      "              precision    recall  f1-score   support\n",
      "\n",
      "       -PAD-     0.0000    0.0000    0.0000         0\n",
      "           N     0.9933    0.9887    0.9910     38705\n",
      "           Y     0.9307    0.9578    0.9441      6116\n",
      "\n",
      "    accuracy                         0.9845     44821\n",
      "   macro avg     0.6413    0.6488    0.6450     44821\n",
      "weighted avg     0.9848    0.9845    0.9846     44821\n",
      "\n"
     ]
    }
   ],
   "source": [
    "name='Bert fine-tuned model'\n",
    "print('\\n------------ Result of {} ----------\\n'.format(name))\n",
    "print(classification_report(y_true, y_pred, digits=4))"
   ]
  },
  {
   "cell_type": "code",
   "execution_count": 101,
   "metadata": {
    "nbpresent": {
     "id": "0e51f9f4-b16f-4e14-a204-8167e2897848"
    }
   },
   "outputs": [
    {
     "name": "stdout",
     "output_type": "stream",
     "text": [
      "Accuracy: 0.9845\n",
      "f1-macro score: 0.6450\n"
     ]
    }
   ],
   "source": [
    "print(\"Accuracy: {0:.4f}\".format(accuracy_score(y_true, y_pred)))\n",
    "print('f1-macro score: {0:.4f}'.format(f1_score(y_true, y_pred, average='macro')))"
   ]
  },
  {
   "cell_type": "markdown",
   "metadata": {},
   "source": [
    "## Confusion matrix"
   ]
  },
  {
   "cell_type": "code",
   "execution_count": 102,
   "metadata": {},
   "outputs": [
    {
     "data": {
      "image/png": "[encoded data removed]",
      "text/plain": [
       "<Figure size 720x432 with 2 Axes>"
      ]
     },
     "metadata": {},
     "output_type": "display_data"
    }
   ],
   "source": [
    "tags = sorted(set(y_pred+y_true))\n",
    "cnf_matrix = confusion_matrix(y_true, y_pred)\n",
    "plot_confusion_matrix(f1_score(y_true, y_pred, average='macro'), cnf_matrix, target_names=tags, title=name, normalize=False)"
   ]
  },
  {
   "cell_type": "markdown",
   "metadata": {},
   "source": [
    "## Make a prediction for a test sample:"
   ]
  },
  {
   "cell_type": "code",
   "execution_count": 78,
   "metadata": {},
   "outputs": [],
   "source": [
    "y_pred = model.predict([test_input_ids, test_input_masks, test_segment_ids], batch_size=16).argmax(-1)\n",
    "y_true = test_labels_ids\n",
    "\n",
    "def make_prediction(i=16):\n",
    "    note = ''\n",
    "    sent = []\n",
    "    print(\"{:10} {:5} : {:5}\".format(\"Word\", \"True\", \"Predicted\"))\n",
    "    print(35*'-')\n",
    "    for w, true, pred in zip(test_input_ids[i], y_true[i], y_pred[i]):\n",
    "        if tokenizer.convert_ids_to_tokens([w])[0]!='[PAD]' and \\\n",
    "            tokenizer.convert_ids_to_tokens([w])[0]!='[CLS]' and \\\n",
    "            tokenizer.convert_ids_to_tokens([w])[0]!='[SEP]':\n",
    "            if int2tag[true] != int2tag[pred]: note='<<--- Error!'\n",
    "            print(\"{:10} {:5} : {:5} {:5}\".format(tokenizer.convert_ids_to_tokens([w])[0], int2tag[true], int2tag[pred], note))\n",
    "            note=''"
   ]
  },
  {
   "cell_type": "code",
   "execution_count": 79,
   "metadata": {},
   "outputs": [
    {
     "name": "stdout",
     "output_type": "stream",
     "text": [
      "Word       True  : Predicted\n",
      "-----------------------------------\n",
      "##ха       Y     : Y          \n",
      "се         N     : N          \n",
      "да         N     : N          \n",
      "##т        Y     : Y          \n",
      "с          N     : N          \n",
      "##ство     N     : N          \n",
      "[UNK]      N     : N          \n",
      "##ше       Y     : Y          \n",
      "още        N     : N          \n",
      "##ина      N     : N          \n",
      "##ни       N     : N          \n",
      ",          N     : N          \n",
      "##и        N     : N          \n",
      "и          N     : N          \n",
      "за         N     : N          \n",
      "другите    N     : N          \n",
      "##ления    N     : N          \n",
      ",          N     : N          \n",
      "но         N     : N          \n",
      "те         N     : N          \n",
      "##а        Y     : Y          \n",
      "още        N     : N          \n",
      "в          N     : N          \n",
      "града      N     : N          \n",
      ".          N     : N          \n"
     ]
    }
   ],
   "source": [
    "make_prediction(i=14)"
   ]
  },
  {
   "cell_type": "markdown",
   "metadata": {},
   "source": [
    "## Tag an unknown sentence"
   ]
  },
  {
   "cell_type": "code",
   "execution_count": 116,
   "metadata": {},
   "outputs": [],
   "source": [
    "# sentences_raw = 'Статиите в Уикипедия често са цитирани както от медиите, така и в академичните среди: големите ѝ предимства са нейното свободно разпространение и списване, както и широкият ѝ обхват на теми. Редакторите са насърчавани да се придържат към политиката на „Неутрална гледна точка“, съгласно която основните възгледи по даден проблем се обобщават без опит да се изведе обективна истина. Така или иначе, славата на Уикипедия като достоверен справочник е оспорвана. Отворената ѝ природа позволява вандализъм, неточности, непридържане към приетите норми, ниско качество и пристрастия. Уикипедия – в сравнение с традиционните енциклопедии – е окачествявана като смесица от „истина, полуистина и някои лъжи“[3] и е критикувана за предпочитането на консенсуса пред личните авторитети и за предполагаемата липса на лична отговорност за съдържанието. Упреквана е също, че предоставя средство за безогледна манипулация и пропаганда, особено по спорни теми.[4]. От друга страна, към 2020 г. Уикипедия се оценявана като последното останало добро място в интернет[5], носител на културни иновации, който е несравнимо по-лесно достъпен и четен от традиционните хартиени енциклопедии. Същият автор високо оценява окуражаването на всякакви дискусии и възприемането на шеговит стил на общуване, напомнящ за ранните дни на Просвещението и първата Енциклопедия.'\n",
    "sentences_raw = 'Белите, които правите, докато белите белите картофи'"
   ]
  },
  {
   "cell_type": "code",
   "execution_count": 117,
   "metadata": {},
   "outputs": [
    {
     "data": {
      "application/vnd.jupyter.widget-view+json": {
       "model_id": "e54e9e3013b348fcb35ec68bde222cda",
       "version_major": 2,
       "version_minor": 0
      },
      "text/plain": [
       "HBox(children=(IntProgress(value=0, description='Converting examples to features', max=1, style=ProgressStyle(…"
      ]
     },
     "metadata": {},
     "output_type": "display_data"
    },
    {
     "name": "stdout",
     "output_type": "stream",
     "text": [
      "\n",
      "\n",
      "Word in BERT layer  | Initial word   : Predicted POS-tag\n",
      "-------------------------------------------------------------\n",
      "##елите             | Белите         : N              \n",
      ",                   | ,              : N              \n",
      "които               | които          : N              \n",
      "##те                | правите        : Y              \n",
      ",                   | ,              : N              \n",
      "докато              | докато         : N              \n",
      "##ите               | белите         : N              \n",
      "##ите               | белите         : N              \n",
      "##фи                | картофи        : N              \n"
     ]
    }
   ],
   "source": [
    "# sentences = [word_tokenize(s) for s in sent_tokenize(raw_file)]\n",
    "for sentence_raw in sent_tokenize(sentences_raw):\n",
    "    \n",
    "\n",
    "    sentence_ini = nltk.word_tokenize(sentence_raw)\n",
    "\n",
    "    sentence_bert = tokenizer.tokenize(sentence_raw)\n",
    "\n",
    "    tokens_a = sentence_ini\n",
    "\n",
    "    orig_to_tok_map = []              \n",
    "    tokens = []\n",
    "    segment_ids = []\n",
    "    tokens.append(\"[CLS]\")\n",
    "    segment_ids.append(0)\n",
    "    orig_to_tok_map.append(len(tokens)-1)\n",
    "    for token in tokens_a:\n",
    "        #orig_to_tok_map.append(len(tokens)) # keep first piece of tokenized term\n",
    "        tokens.extend(tokenizer.tokenize(token))\n",
    "        orig_to_tok_map.append(len(tokens)-1) # # keep last piece of tokenized term -->> gives better results!\n",
    "        segment_ids.append(0)\n",
    "    tokens.append(\"[SEP]\")\n",
    "    segment_ids.append(0)\n",
    "    orig_to_tok_map.append(len(tokens)-1)\n",
    "    input_ids = tokenizer.convert_tokens_to_ids([tokens[i] for i in orig_to_tok_map])\n",
    "\n",
    "    # print('Original tokens:',tokens_a)\n",
    "\n",
    "    # print('BERT tokens:',tokens)\n",
    "\n",
    "    # orig_to_tok_map\n",
    "\n",
    "    [tokens[i] for i in orig_to_tok_map]\n",
    "\n",
    "    # Convert data to InputExample format\n",
    "    test_example = convert_text_to_examples([sentence_ini], [['-PAD-']*len(sentence_ini)])\n",
    "\n",
    "    # Convert to features\n",
    "    (input_ids, input_masks, segment_ids, _\n",
    "    ) = convert_examples_to_features(tokenizer, test_example, max_seq_length=MAX_SEQUENCE_LENGTH+2)\n",
    "\n",
    "    predictions = model.predict([input_ids, input_masks, segment_ids], batch_size=1).argmax(-1)[0]\n",
    "    print(\"\\n{:20}| {:15}: {:15}\".format(\"Word in BERT layer\", 'Initial word', \"Predicted POS-tag\"))\n",
    "    print(61*'-')\n",
    "    k = 0\n",
    "    for i, pred in enumerate(predictions):\n",
    "        try:\n",
    "            if pred!=0:\n",
    "                print(\"{:20}| {:15}: {:15}\".format([tokens[i] for i in orig_to_tok_map][i], sentence_ini[i-1], int2tag[pred]))            \n",
    "                k+=1            \n",
    "        except:\n",
    "            pass"
   ]
  },
  {
   "cell_type": "markdown",
   "metadata": {},
   "source": [
    "## Frequent types of mistakes"
   ]
  },
  {
   "cell_type": "code",
   "execution_count": 118,
   "metadata": {},
   "outputs": [],
   "source": [
    "def find_errors(X,y):\n",
    "    error_counter = collections.Counter()\n",
    "    support = 0\n",
    "    for i in range(test_input_ids.shape[0]):\n",
    "        for w, true, pred in zip(test_input_ids[i], y_true[i], y_pred[i]):\n",
    "            if int2tag[true]!='-PAD-':\n",
    "                if true != pred:\n",
    "                    word = tokenizer.convert_ids_to_tokens([w])[0]\n",
    "                    error_counter[word] += 1\n",
    "                support += 1\n",
    "    return error_counter, support"
   ]
  },
  {
   "cell_type": "code",
   "execution_count": 119,
   "metadata": {},
   "outputs": [
    {
     "ename": "KeyError",
     "evalue": "'N'",
     "output_type": "error",
     "traceback": [
      "\u001b[1;31m---------------------------------------------------------------------------\u001b[0m",
      "\u001b[1;31mKeyError\u001b[0m                                  Traceback (most recent call last)",
      "\u001b[1;32m<ipython-input-119-a2f5a2845bd5>\u001b[0m in \u001b[0;36m<module>\u001b[1;34m\u001b[0m\n\u001b[1;32m----> 1\u001b[1;33m \u001b[0merrors\u001b[0m\u001b[1;33m,\u001b[0m \u001b[0msupport\u001b[0m \u001b[1;33m=\u001b[0m \u001b[0mfind_errors\u001b[0m\u001b[1;33m(\u001b[0m\u001b[1;33m[\u001b[0m\u001b[0mtest_input_ids\u001b[0m\u001b[1;33m]\u001b[0m\u001b[1;33m,\u001b[0m\u001b[0my_true\u001b[0m\u001b[1;33m)\u001b[0m\u001b[1;33m\u001b[0m\u001b[1;33m\u001b[0m\u001b[0m\n\u001b[0m",
      "\u001b[1;32m<ipython-input-118-d67a412dfb9b>\u001b[0m in \u001b[0;36mfind_errors\u001b[1;34m(X, y)\u001b[0m\n\u001b[0;32m      4\u001b[0m     \u001b[1;32mfor\u001b[0m \u001b[0mi\u001b[0m \u001b[1;32min\u001b[0m \u001b[0mrange\u001b[0m\u001b[1;33m(\u001b[0m\u001b[0mtest_input_ids\u001b[0m\u001b[1;33m.\u001b[0m\u001b[0mshape\u001b[0m\u001b[1;33m[\u001b[0m\u001b[1;36m0\u001b[0m\u001b[1;33m]\u001b[0m\u001b[1;33m)\u001b[0m\u001b[1;33m:\u001b[0m\u001b[1;33m\u001b[0m\u001b[1;33m\u001b[0m\u001b[0m\n\u001b[0;32m      5\u001b[0m         \u001b[1;32mfor\u001b[0m \u001b[0mw\u001b[0m\u001b[1;33m,\u001b[0m \u001b[0mtrue\u001b[0m\u001b[1;33m,\u001b[0m \u001b[0mpred\u001b[0m \u001b[1;32min\u001b[0m \u001b[0mzip\u001b[0m\u001b[1;33m(\u001b[0m\u001b[0mtest_input_ids\u001b[0m\u001b[1;33m[\u001b[0m\u001b[0mi\u001b[0m\u001b[1;33m]\u001b[0m\u001b[1;33m,\u001b[0m \u001b[0my_true\u001b[0m\u001b[1;33m[\u001b[0m\u001b[0mi\u001b[0m\u001b[1;33m]\u001b[0m\u001b[1;33m,\u001b[0m \u001b[0my_pred\u001b[0m\u001b[1;33m[\u001b[0m\u001b[0mi\u001b[0m\u001b[1;33m]\u001b[0m\u001b[1;33m)\u001b[0m\u001b[1;33m:\u001b[0m\u001b[1;33m\u001b[0m\u001b[1;33m\u001b[0m\u001b[0m\n\u001b[1;32m----> 6\u001b[1;33m             \u001b[1;32mif\u001b[0m \u001b[0mint2tag\u001b[0m\u001b[1;33m[\u001b[0m\u001b[0mtrue\u001b[0m\u001b[1;33m]\u001b[0m\u001b[1;33m!=\u001b[0m\u001b[1;34m'-PAD-'\u001b[0m\u001b[1;33m:\u001b[0m\u001b[1;33m\u001b[0m\u001b[1;33m\u001b[0m\u001b[0m\n\u001b[0m\u001b[0;32m      7\u001b[0m                 \u001b[1;32mif\u001b[0m \u001b[0mtrue\u001b[0m \u001b[1;33m!=\u001b[0m \u001b[0mpred\u001b[0m\u001b[1;33m:\u001b[0m\u001b[1;33m\u001b[0m\u001b[1;33m\u001b[0m\u001b[0m\n\u001b[0;32m      8\u001b[0m                     \u001b[0mword\u001b[0m \u001b[1;33m=\u001b[0m \u001b[0mtokenizer\u001b[0m\u001b[1;33m.\u001b[0m\u001b[0mconvert_ids_to_tokens\u001b[0m\u001b[1;33m(\u001b[0m\u001b[1;33m[\u001b[0m\u001b[0mw\u001b[0m\u001b[1;33m]\u001b[0m\u001b[1;33m)\u001b[0m\u001b[1;33m[\u001b[0m\u001b[1;36m0\u001b[0m\u001b[1;33m]\u001b[0m\u001b[1;33m\u001b[0m\u001b[1;33m\u001b[0m\u001b[0m\n",
      "\u001b[1;31mKeyError\u001b[0m: 'N'"
     ]
    }
   ],
   "source": [
    "errors, support = find_errors([test_input_ids],y_true)"
   ]
  },
  {
   "cell_type": "code",
   "execution_count": 128,
   "metadata": {},
   "outputs": [
    {
     "name": "stdout",
     "output_type": "stream",
     "text": [
      "Total errors/Total words: 93/3408 | Accuracy: 0.9727\n",
      "\n",
      "Most common errors: [('as', 8), ('appointed', 5), ('to', 4), ('part', 3), ('justice', 3), ('general', 3), ('than', 2), ('contracting', 2), ('base', 2), ('around', 2), ('##s', 1), ('##r', 1), ('is', 1), ('that', 1), ('time', 1), ('set', 1), ('interested', 1), ('traveling', 1), ('japanese', 1), ('by', 1)]\n"
     ]
    }
   ],
   "source": [
    "print('Total errors/Total words: {}/{} | Accuracy: {:.4}\\n'.format(sum(errors.values()), support, 1-sum(errors.values())/support))\n",
    "print('Most common errors:', errors.most_common(20))"
   ]
  },
  {
   "cell_type": "markdown",
   "metadata": {},
   "source": [
    "## Learning curves"
   ]
  },
  {
   "cell_type": "code",
   "execution_count": 104,
   "metadata": {},
   "outputs": [
    {
     "data": {
      "image/png": "[encoded data removed]",
      "text/plain": [
       "<Figure size 432x288 with 1 Axes>"
      ]
     },
     "metadata": {},
     "output_type": "display_data"
    }
   ],
   "source": [
    "plot_acc()"
   ]
  },
  {
   "cell_type": "code",
   "execution_count": 105,
   "metadata": {},
   "outputs": [
    {
     "data": {
      "image/png": "[encoded data removed]",
      "text/plain": [
       "<Figure size 432x288 with 1 Axes>"
      ]
     },
     "metadata": {},
     "output_type": "display_data"
    }
   ],
   "source": [
    "plot_loss()"
   ]
  }
 ],
 "metadata": {
  "kernelspec": {
   "display_name": "Python 3",
   "language": "python",
   "name": "python3"
  },
  "language_info": {
   "codemirror_mode": {
    "name": "ipython",
    "version": 3
   },
   "file_extension": ".py",
   "mimetype": "text/x-python",
   "name": "python",
   "nbconvert_exporter": "python",
   "pygments_lexer": "ipython3",
   "version": "3.7.3"
  }
 },
 "nbformat": 4,
 "nbformat_minor": 2
}
